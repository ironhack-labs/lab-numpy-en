{
 "cells": [
  {
   "cell_type": "markdown",
   "metadata": {},
   "source": [
    "# Lab | Numpy Deep Dive"
   ]
  },
  {
   "cell_type": "markdown",
   "metadata": {},
   "source": [
    "### 1. Import the NUMPY package under the name np.\n"
   ]
  },
  {
   "cell_type": "code",
   "execution_count": 413,
   "metadata": {},
   "outputs": [],
   "source": [
    "### [your code here]\n",
    "import numpy as np"
   ]
  },
  {
   "cell_type": "markdown",
   "metadata": {},
   "source": [
    "\n",
    "\n",
    "### 2. Print the NUMPY version and the configuration.\n"
   ]
  },
  {
   "cell_type": "code",
   "execution_count": 416,
   "metadata": {},
   "outputs": [
    {
     "name": "stdout",
     "output_type": "stream",
     "text": [
      "1.24.3\n"
     ]
    }
   ],
   "source": [
    "### [your code here]\n",
    "print(np.__version__)"
   ]
  },
  {
   "cell_type": "markdown",
   "metadata": {},
   "source": [
    "### 3. Generate a 2x3x5 3-dimensional array with random values. Assign the array to variable \"a\"\n",
    "Challenge: there are at least three easy ways that use numpy to generate random arrays. How many ways can you find?\n"
   ]
  },
  {
   "cell_type": "code",
   "execution_count": 419,
   "metadata": {},
   "outputs": [],
   "source": [
    "### [your code here]\n",
    "#Fisrt way\n",
    "a = np.random.randint(0, 10, size=(2, 3, 5))\n",
    "\n",
    "#secend way\n",
    "#a = np.random.rand( 2,3,5)"
   ]
  },
  {
   "cell_type": "markdown",
   "metadata": {},
   "source": [
    "\n",
    "### 4. Print a.\n"
   ]
  },
  {
   "cell_type": "code",
   "execution_count": 422,
   "metadata": {},
   "outputs": [
    {
     "name": "stdout",
     "output_type": "stream",
     "text": [
      "[[[6 8 4 8 5]\n",
      "  [9 8 6 7 0]\n",
      "  [3 4 2 1 0]]\n",
      "\n",
      " [[9 4 9 4 5]\n",
      "  [4 7 2 3 8]\n",
      "  [3 6 8 2 9]]]\n"
     ]
    }
   ],
   "source": [
    "### [your code here]\n",
    "print(a)"
   ]
  },
  {
   "cell_type": "markdown",
   "metadata": {},
   "source": [
    "### 5. Create a 5x2x3 3-dimensional array with all values equaling 1.\n",
    "### Assign the array to variable \"b\"\n"
   ]
  },
  {
   "cell_type": "code",
   "execution_count": 425,
   "metadata": {},
   "outputs": [],
   "source": [
    "### [your code here]\n",
    "b = np.ones((5, 2, 3))"
   ]
  },
  {
   "cell_type": "markdown",
   "metadata": {},
   "source": [
    "\n",
    "### 6. Print b.\n"
   ]
  },
  {
   "cell_type": "code",
   "execution_count": 428,
   "metadata": {},
   "outputs": [
    {
     "name": "stdout",
     "output_type": "stream",
     "text": [
      "[[[1. 1. 1.]\n",
      "  [1. 1. 1.]]\n",
      "\n",
      " [[1. 1. 1.]\n",
      "  [1. 1. 1.]]\n",
      "\n",
      " [[1. 1. 1.]\n",
      "  [1. 1. 1.]]\n",
      "\n",
      " [[1. 1. 1.]\n",
      "  [1. 1. 1.]]\n",
      "\n",
      " [[1. 1. 1.]\n",
      "  [1. 1. 1.]]]\n"
     ]
    }
   ],
   "source": [
    "### [your code here]\n",
    "print(b)"
   ]
  },
  {
   "cell_type": "markdown",
   "metadata": {},
   "source": [
    "\n",
    "### 7. Do a and b have the same size? How do you prove that in Python code?\n"
   ]
  },
  {
   "cell_type": "code",
   "execution_count": 431,
   "metadata": {},
   "outputs": [
    {
     "name": "stdout",
     "output_type": "stream",
     "text": [
      "a and b have different sizes.\n",
      "Shape of a: (2, 3, 5)\n",
      "Shape of b: (5, 2, 3)\n"
     ]
    }
   ],
   "source": [
    "### [your code here]\n",
    "if a.shape == b.shape:\n",
    "    print(\"a and b have the same size.\")\n",
    "else:\n",
    "    print(\"a and b have different sizes.\")\n",
    "\n",
    "print(f\"Shape of a: {a.shape}\")\n",
    "print(f\"Shape of b: {b.shape}\")"
   ]
  },
  {
   "cell_type": "markdown",
   "metadata": {},
   "source": [
    "\n",
    "### 8. Are you able to add a and b? Why or why not?\n"
   ]
  },
  {
   "cell_type": "code",
   "execution_count": 434,
   "metadata": {},
   "outputs": [
    {
     "ename": "ValueError",
     "evalue": "operands could not be broadcast together with shapes (2,3,5) (5,2,3) ",
     "output_type": "error",
     "traceback": [
      "\u001b[1;31m---------------------------------------------------------------------------\u001b[0m",
      "\u001b[1;31mValueError\u001b[0m                                Traceback (most recent call last)",
      "Cell \u001b[1;32mIn[434], line 2\u001b[0m\n\u001b[0;32m      1\u001b[0m \u001b[38;5;66;03m### [your code here]\u001b[39;00m\n\u001b[1;32m----> 2\u001b[0m \u001b[43ma\u001b[49m\u001b[38;5;241;43m+\u001b[39;49m\u001b[43mb\u001b[49m\n\u001b[0;32m      3\u001b[0m \u001b[38;5;66;03m#the shapes are different NumPy will raise a ValueError: operands could not be broadcast together with shapes (2,3,5) (5,2,3) \u001b[39;00m\n",
      "\u001b[1;31mValueError\u001b[0m: operands could not be broadcast together with shapes (2,3,5) (5,2,3) "
     ]
    }
   ],
   "source": [
    "### [your code here]\n",
    "a+b\n",
    "#the shapes are different NumPy will raise a ValueError: operands could not be broadcast together with shapes (2,3,5) (5,2,3) "
   ]
  },
  {
   "cell_type": "markdown",
   "metadata": {},
   "source": [
    "\n",
    "\n",
    "### 9. Transpose b so that it has the same structure of a (i.e. become a 2x3x5 array). Assign the transposed array to varialbe \"c\".\n"
   ]
  },
  {
   "cell_type": "code",
   "execution_count": 437,
   "metadata": {},
   "outputs": [
    {
     "name": "stdout",
     "output_type": "stream",
     "text": [
      "Shape of a: (2, 3, 5)\n",
      "Shape of b: (5, 2, 3)\n",
      "Shape of c (transposed b): (2, 3, 5)\n"
     ]
    }
   ],
   "source": [
    "### [your code here]\n",
    "c = np.transpose(b, (1, 2, 0))\n",
    "\n",
    "print(\"Shape of a:\", a.shape)\n",
    "print(\"Shape of b:\", b.shape)\n",
    "print(\"Shape of c (transposed b):\", c.shape)"
   ]
  },
  {
   "cell_type": "markdown",
   "metadata": {},
   "source": [
    "\n",
    "### 10. Try to add a and c. Now it should work. Assign the sum to variable \"d\". But why does it work now?\n"
   ]
  },
  {
   "cell_type": "code",
   "execution_count": 440,
   "metadata": {},
   "outputs": [
    {
     "name": "stdout",
     "output_type": "stream",
     "text": [
      "Sum of a and c:\n",
      " [[[ 7.  9.  5.  9.  6.]\n",
      "  [10.  9.  7.  8.  1.]\n",
      "  [ 4.  5.  3.  2.  1.]]\n",
      "\n",
      " [[10.  5. 10.  5.  6.]\n",
      "  [ 5.  8.  3.  4.  9.]\n",
      "  [ 4.  7.  9.  3. 10.]]]\n",
      "Shape of d: (2, 3, 5)\n"
     ]
    }
   ],
   "source": [
    "### [your code here]\n",
    "d = a + c\n",
    "print(\"Sum of a and c:\\n\", d)\n",
    "\n",
    "print(f\"Shape of d: {d.shape}\")\n"
   ]
  },
  {
   "cell_type": "markdown",
   "metadata": {},
   "source": [
    "\n",
    "### 11. Print a and d. Notice the difference and relation of the two array in terms of the values? Explain.\n"
   ]
  },
  {
   "cell_type": "code",
   "execution_count": 443,
   "metadata": {},
   "outputs": [
    {
     "name": "stdout",
     "output_type": "stream",
     "text": [
      "Array a:\n",
      " [[[6 8 4 8 5]\n",
      "  [9 8 6 7 0]\n",
      "  [3 4 2 1 0]]\n",
      "\n",
      " [[9 4 9 4 5]\n",
      "  [4 7 2 3 8]\n",
      "  [3 6 8 2 9]]]\n",
      "Array d:\n",
      " [[[ 7.  9.  5.  9.  6.]\n",
      "  [10.  9.  7.  8.  1.]\n",
      "  [ 4.  5.  3.  2.  1.]]\n",
      "\n",
      " [[10.  5. 10.  5.  6.]\n",
      "  [ 5.  8.  3.  4.  9.]\n",
      "  [ 4.  7.  9.  3. 10.]]]\n"
     ]
    }
   ],
   "source": [
    "### [your code here]\n",
    "print(\"Array a:\\n\",a)\n",
    "print(\"Array d:\\n\",d)\n"
   ]
  },
  {
   "cell_type": "markdown",
   "metadata": {},
   "source": [
    "\n",
    "### 12. Multiply a and c. Assign the result to e.\n"
   ]
  },
  {
   "cell_type": "code",
   "execution_count": 446,
   "metadata": {},
   "outputs": [
    {
     "name": "stdout",
     "output_type": "stream",
     "text": [
      "Multiply a and c:\n",
      " [[[6. 8. 4. 8. 5.]\n",
      "  [9. 8. 6. 7. 0.]\n",
      "  [3. 4. 2. 1. 0.]]\n",
      "\n",
      " [[9. 4. 9. 4. 5.]\n",
      "  [4. 7. 2. 3. 8.]\n",
      "  [3. 6. 8. 2. 9.]]]\n"
     ]
    }
   ],
   "source": [
    "### [your code here]\n",
    "e = a * c\n",
    "print(\"Multiply a and c:\\n\", e)"
   ]
  },
  {
   "cell_type": "markdown",
   "metadata": {},
   "source": [
    "\n",
    "\n",
    "### 13. Does e equal to a? Why or why not?\n"
   ]
  },
  {
   "cell_type": "code",
   "execution_count": 449,
   "metadata": {},
   "outputs": [
    {
     "name": "stdout",
     "output_type": "stream",
     "text": [
      "e is equal to a.\n",
      "\n",
      "Array a:\n",
      " [[[6 8 4 8 5]\n",
      "  [9 8 6 7 0]\n",
      "  [3 4 2 1 0]]\n",
      "\n",
      " [[9 4 9 4 5]\n",
      "  [4 7 2 3 8]\n",
      "  [3 6 8 2 9]]]\n",
      "\n",
      "Array e:\n",
      " [[[6. 8. 4. 8. 5.]\n",
      "  [9. 8. 6. 7. 0.]\n",
      "  [3. 4. 2. 1. 0.]]\n",
      "\n",
      " [[9. 4. 9. 4. 5.]\n",
      "  [4. 7. 2. 3. 8.]\n",
      "  [3. 6. 8. 2. 9.]]]\n"
     ]
    }
   ],
   "source": [
    "### [your code here]\n",
    "if np.array_equal(e, a):\n",
    "    print(\"e is equal to a.\")\n",
    "else:\n",
    "    print(\"e is NOT equal to a.\")\n",
    "\n",
    "print(\"\\nArray a:\\n\", a)\n",
    "print(\"\\nArray e:\\n\", e)\n",
    "\n"
   ]
  },
  {
   "cell_type": "markdown",
   "metadata": {},
   "source": [
    "\n",
    "\n",
    "### 14. Identify the max, min, and mean values in d. Assign those values to variables \"d_max\", \"d_min\", and \"d_mean\"\n"
   ]
  },
  {
   "cell_type": "code",
   "execution_count": 452,
   "metadata": {},
   "outputs": [
    {
     "name": "stdout",
     "output_type": "stream",
     "text": [
      "max of d: 10.0\n",
      "min of d: 1.0\n",
      "mean of d: 6.133333333333334\n"
     ]
    }
   ],
   "source": [
    "### [your code here]\n",
    "d_max = print('max of d:',d.max())\n",
    "d_min = print('min of d:',d.min())\n",
    "d_mean = print('mean of d:',d.mean())\n"
   ]
  },
  {
   "cell_type": "markdown",
   "metadata": {},
   "source": [
    "\n",
    "### 15. Now we want to label the values in d. First create an empty array \"f\" with the same shape (i.e. 2x3x5) as d using `np.empty`.\n"
   ]
  },
  {
   "cell_type": "code",
   "execution_count": 455,
   "metadata": {},
   "outputs": [
    {
     "name": "stdout",
     "output_type": "stream",
     "text": [
      "[[[6. 8. 4. 8. 5.]\n",
      "  [9. 8. 6. 7. 0.]\n",
      "  [3. 4. 2. 1. 0.]]\n",
      "\n",
      " [[9. 4. 9. 4. 5.]\n",
      "  [4. 7. 2. 3. 8.]\n",
      "  [3. 6. 8. 2. 9.]]]\n"
     ]
    }
   ],
   "source": [
    "### [your code here]\n",
    "f = np.empty(d.shape)\n",
    "print(f)"
   ]
  },
  {
   "cell_type": "markdown",
   "metadata": {},
   "source": [
    "\n",
    "\n",
    "\n",
    "### 16. Populate the values in f. For each value in d, if it's larger than d_min but smaller than d_mean, assign 25 to the corresponding value in f.\n",
    "If a value in d is larger than d_mean but smaller than d_max, assign 75 to the corresponding value in f.\n",
    "If a value equals to d_mean, assign 50 to the corresponding value in f.\n",
    "Assign 0 to the corresponding value(s) in f for d_min in d.\n",
    "Assign 100 to the corresponding value(s) in f for d_max in d.\n",
    "In the end, f should have only the following values: 0, 25, 50, 75, and 100.\n",
    "Note: you don't have to use Numpy in this question.\n",
    "\n"
   ]
  },
  {
   "cell_type": "code",
   "execution_count": 458,
   "metadata": {},
   "outputs": [
    {
     "ename": "TypeError",
     "evalue": "'>' not supported between instances of 'float' and 'NoneType'",
     "output_type": "error",
     "traceback": [
      "\u001b[1;31m---------------------------------------------------------------------------\u001b[0m",
      "\u001b[1;31mTypeError\u001b[0m                                 Traceback (most recent call last)",
      "Cell \u001b[1;32mIn[458], line 6\u001b[0m\n\u001b[0;32m      4\u001b[0m \u001b[38;5;28;01mfor\u001b[39;00m j \u001b[38;5;129;01min\u001b[39;00m \u001b[38;5;28mrange\u001b[39m(d\u001b[38;5;241m.\u001b[39mshape[\u001b[38;5;241m1\u001b[39m]):\n\u001b[0;32m      5\u001b[0m     \u001b[38;5;28;01mfor\u001b[39;00m k \u001b[38;5;129;01min\u001b[39;00m \u001b[38;5;28mrange\u001b[39m(d\u001b[38;5;241m.\u001b[39mshape[\u001b[38;5;241m2\u001b[39m]):\n\u001b[1;32m----> 6\u001b[0m         \u001b[38;5;28;01mif\u001b[39;00m \u001b[43mvalue\u001b[49m\u001b[43m \u001b[49m\u001b[38;5;241;43m>\u001b[39;49m\u001b[43m \u001b[49m\u001b[43md_min\u001b[49m \u001b[38;5;129;01mand\u001b[39;00m value \u001b[38;5;241m<\u001b[39m d_mean:\n\u001b[0;32m      7\u001b[0m             col\u001b[38;5;241m.\u001b[39mappend(\u001b[38;5;241m25\u001b[39m)\n\u001b[0;32m      8\u001b[0m         \u001b[38;5;28;01melif\u001b[39;00m value \u001b[38;5;241m>\u001b[39m d_mean \u001b[38;5;129;01mand\u001b[39;00m value \u001b[38;5;241m<\u001b[39m d_max:\n",
      "\u001b[1;31mTypeError\u001b[0m: '>' not supported between instances of 'float' and 'NoneType'"
     ]
    }
   ],
   "source": [
    "### [your code here]\n",
    "\n",
    "for i in range(d.shape[0]):\n",
    "    for j in range(d.shape[1]):\n",
    "        for k in range(d.shape[2]):\n",
    "            if value > d_min and value < d_mean:\n",
    "                col.append(25)\n",
    "            elif value > d_mean and value < d_max:\n",
    "                col.append(75)\n",
    "            elif value == d_mean:\n",
    "                col.append(50)\n",
    "            elif value == d_min:\n",
    "                col.append(0)\n",
    "            elif value == d_max:\n",
    "                col.append(100)\n",
    "\n",
    "print(f)"
   ]
  },
  {
   "cell_type": "markdown",
   "metadata": {},
   "source": [
    "\n",
    "\n",
    "\n",
    "\n",
    "### 17. Print d and f. Do you have your expected f?\n",
    "For instance, if your d is:\n",
    "array([[[1.85836099, 1.67064465, 1.62576044, 1.40243961, 1.88454931],\n",
    "        [1.75354326, 1.69403643, 1.36729252, 1.61415071, 1.12104981],\n",
    "        [1.72201435, 1.1862918 , 1.87078449, 1.7726778 , 1.88180042]],\n",
    "\n",
    "       [[1.44747908, 1.31673383, 1.02000951, 1.52218947, 1.97066381],\n",
    "        [1.79129243, 1.74983003, 1.96028037, 1.85166831, 1.65450881],\n",
    "        [1.18068344, 1.9587381 , 1.00656599, 1.93402165, 1.73514584]]])\n",
    "\n",
    "Your f should be:\n",
    "array([[[ 75.,  75.,  75.,  25.,  75.],\n",
    "        [ 75.,  75.,  25.,  25.,  25.],\n",
    "        [ 75.,  25.,  75.,  75.,  75.]],\n",
    "\n",
    "       [[ 25.,  25.,  25.,  25., 100.],\n",
    "        [ 75.,  75.,  75.,  75.,  75.],\n",
    "        [ 25.,  75.,   0.,  75.,  75.]]])\n",
    "\n"
   ]
  },
  {
   "cell_type": "code",
   "execution_count": 461,
   "metadata": {},
   "outputs": [
    {
     "name": "stdout",
     "output_type": "stream",
     "text": [
      "Array d:\n",
      " [[[ 7.  9.  5.  9.  6.]\n",
      "  [10.  9.  7.  8.  1.]\n",
      "  [ 4.  5.  3.  2.  1.]]\n",
      "\n",
      " [[10.  5. 10.  5.  6.]\n",
      "  [ 5.  8.  3.  4.  9.]\n",
      "  [ 4.  7.  9.  3. 10.]]]\n",
      "Array f:\n",
      " [[[6. 8. 4. 8. 5.]\n",
      "  [9. 8. 6. 7. 0.]\n",
      "  [3. 4. 2. 1. 0.]]\n",
      "\n",
      " [[9. 4. 9. 4. 5.]\n",
      "  [4. 7. 2. 3. 8.]\n",
      "  [3. 6. 8. 2. 9.]]]\n"
     ]
    }
   ],
   "source": [
    "### [your code here]\n",
    "print(\"Array d:\\n\",d)\n",
    "print(\"Array f:\\n\",f)"
   ]
  },
  {
   "cell_type": "markdown",
   "metadata": {},
   "source": [
    "### 18. Bonus question: instead of using numbers (i.e. 0, 25, 50, 75, and 100), how to use string values \n",
    "(\"A\", \"B\", \"C\", \"D\", and \"E\") to label the array elements? You are expecting the result to be:\n",
    "array([[[ 'D',  'D',  'D',  'B',  'D'],\n",
    "        [ 'D',  'D',  'B',  'B',  'B'],\n",
    "        [ 'D',  'B',  'D',  'D',  'D']],\n",
    "\n",
    "       [[ 'B',  'B',  'B',  'B',  'E'],\n",
    "        [ 'D',  'D',  'D',  'D',  'D'],\n",
    "        [ 'B',  'D',   'A',  'D', 'D']]])\n",
    "Again, you don't need Numpy in this question."
   ]
  },
  {
   "cell_type": "code",
   "execution_count": 464,
   "metadata": {},
   "outputs": [
    {
     "name": "stdout",
     "output_type": "stream",
     "text": [
      "[[['' '' '' '' '']\n",
      "  ['' '' '' '' 'A']\n",
      "  ['' '' '' '' 'A']]\n",
      "\n",
      " [['' '' '' '' '']\n",
      "  ['' '' '' '' '']\n",
      "  ['' '' '' '' '']]]\n"
     ]
    }
   ],
   "source": [
    "### [your code here]\n",
    "label_map = np.empty(d.shape, dtype=str)\n",
    "label_map[f == 0] = 'A'\n",
    "label_map[f == 25] = 'B'\n",
    "label_map[f == 50] = 'C'\n",
    "label_map[f == 75] = 'D'\n",
    "label_map[f == 100] = 'E'\n",
    "\n",
    "\n",
    "print(label_map)"
   ]
  },
  {
   "cell_type": "code",
   "execution_count": null,
   "metadata": {},
   "outputs": [],
   "source": []
  },
  {
   "cell_type": "code",
   "execution_count": null,
   "metadata": {},
   "outputs": [],
   "source": []
  }
 ],
 "metadata": {
  "kernelspec": {
   "display_name": "base",
   "language": "python",
   "name": "python3"
  },
  "language_info": {
   "codemirror_mode": {
    "name": "ipython",
    "version": 3
   },
   "file_extension": ".py",
   "mimetype": "text/x-python",
   "name": "python",
   "nbconvert_exporter": "python",
   "pygments_lexer": "ipython3",
   "version": "3.11.7"
  }
 },
 "nbformat": 4,
 "nbformat_minor": 4
}
