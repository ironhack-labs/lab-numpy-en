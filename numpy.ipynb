{
  "cells": [
    {
      "cell_type": "markdown",
      "metadata": {
        "id": "P-T_YgdVGZmE"
      },
      "source": [
        "# Lab | Numpy Deep Dive"
      ]
    },
    {
      "cell_type": "markdown",
      "metadata": {
        "id": "J1F7PXM7GZmH"
      },
      "source": [
        "### 1. Import the NUMPY package under the name np.\n"
      ]
    },
    {
      "cell_type": "code",
      "execution_count": 1,
      "metadata": {
        "id": "CLZhRQdyGZmJ"
      },
      "outputs": [],
      "source": [
        "### [your code here]\n",
        "import numpy as np\n",
        "\n"
      ]
    },
    {
      "cell_type": "markdown",
      "metadata": {
        "id": "xaeMWy4FGZmL"
      },
      "source": [
        "\n",
        "\n",
        "### 2. Print the NUMPY version and the configuration.\n"
      ]
    },
    {
      "cell_type": "code",
      "execution_count": 2,
      "metadata": {
        "colab": {
          "base_uri": "https://localhost:8080/"
        },
        "id": "dMHUNQ2wGZmM",
        "outputId": "01318055-6296-4b1f-a62a-f12265c12470"
      },
      "outputs": [
        {
          "output_type": "stream",
          "name": "stdout",
          "text": [
            "Build Dependencies:\n",
            "  blas:\n",
            "    detection method: pkgconfig\n",
            "    found: true\n",
            "    include directory: /usr/local/include\n",
            "    lib directory: /usr/local/lib\n",
            "    name: openblas64\n",
            "    openblas configuration: USE_64BITINT=1 DYNAMIC_ARCH=1 DYNAMIC_OLDER= NO_CBLAS=\n",
            "      NO_LAPACK= NO_LAPACKE= NO_AFFINITY=1 USE_OPENMP= HASWELL MAX_THREADS=2\n",
            "    pc file directory: /usr/local/lib/pkgconfig\n",
            "    version: 0.3.23.dev\n",
            "  lapack:\n",
            "    detection method: internal\n",
            "    found: true\n",
            "    include directory: unknown\n",
            "    lib directory: unknown\n",
            "    name: dep140213194937296\n",
            "    openblas configuration: unknown\n",
            "    pc file directory: unknown\n",
            "    version: 1.26.4\n",
            "Compilers:\n",
            "  c:\n",
            "    args: -fno-strict-aliasing\n",
            "    commands: cc\n",
            "    linker: ld.bfd\n",
            "    linker args: -Wl,--strip-debug, -fno-strict-aliasing\n",
            "    name: gcc\n",
            "    version: 10.2.1\n",
            "  c++:\n",
            "    commands: c++\n",
            "    linker: ld.bfd\n",
            "    linker args: -Wl,--strip-debug\n",
            "    name: gcc\n",
            "    version: 10.2.1\n",
            "  cython:\n",
            "    commands: cython\n",
            "    linker: cython\n",
            "    name: cython\n",
            "    version: 3.0.8\n",
            "Machine Information:\n",
            "  build:\n",
            "    cpu: x86_64\n",
            "    endian: little\n",
            "    family: x86_64\n",
            "    system: linux\n",
            "  host:\n",
            "    cpu: x86_64\n",
            "    endian: little\n",
            "    family: x86_64\n",
            "    system: linux\n",
            "Python Information:\n",
            "  path: /opt/python/cp311-cp311/bin/python\n",
            "  version: '3.11'\n",
            "SIMD Extensions:\n",
            "  baseline:\n",
            "  - SSE\n",
            "  - SSE2\n",
            "  - SSE3\n",
            "  found:\n",
            "  - SSSE3\n",
            "  - SSE41\n",
            "  - POPCNT\n",
            "  - SSE42\n",
            "  - AVX\n",
            "  - F16C\n",
            "  - FMA3\n",
            "  - AVX2\n",
            "  not found:\n",
            "  - AVX512F\n",
            "  - AVX512CD\n",
            "  - AVX512_KNL\n",
            "  - AVX512_KNM\n",
            "  - AVX512_SKX\n",
            "  - AVX512_CLX\n",
            "  - AVX512_CNL\n",
            "  - AVX512_ICL\n",
            "\n"
          ]
        }
      ],
      "source": [
        "### [your code here]\n",
        "np.__version__\n",
        "np.show_config()"
      ]
    },
    {
      "cell_type": "markdown",
      "metadata": {
        "id": "hrQiOTpZGZmM"
      },
      "source": [
        "### 3. Generate a 2x3x5 3-dimensional array with random values. Assign the array to variable \"a\"\n",
        "Challenge: there are at least three easy ways that use numpy to generate random arrays. How many ways can you find?\n"
      ]
    },
    {
      "cell_type": "code",
      "execution_count": 8,
      "metadata": {
        "id": "mCEABCqNGZmN"
      },
      "outputs": [],
      "source": [
        "\n",
        "### [your code here]\n",
        "a = np.random.randint(0, 100, size=(2, 3, 5))\n",
        "a = np.random.rand(2, 3, 5)\n",
        "a = np.random.random((2, 3, 5))\n"
      ]
    },
    {
      "cell_type": "markdown",
      "metadata": {
        "id": "g7tDMuQfGZmO"
      },
      "source": [
        "\n",
        "### 4. Print a.\n"
      ]
    },
    {
      "cell_type": "code",
      "execution_count": 9,
      "metadata": {
        "colab": {
          "base_uri": "https://localhost:8080/"
        },
        "id": "0_Qm4DqFGZmO",
        "outputId": "2a7a7858-0bfa-4af3-898d-a69611a33cf9"
      },
      "outputs": [
        {
          "output_type": "stream",
          "name": "stdout",
          "text": [
            "[[[71 47 81  1  8]\n",
            "  [65 47 41 53 79]\n",
            "  [41 32 62 34 84]]\n",
            "\n",
            " [[96 17 86 75 71]\n",
            "  [61  9  1 15  6]\n",
            "  [45 90 77  6  3]]]\n"
          ]
        }
      ],
      "source": [
        "### [your code here]\n",
        "print(a)"
      ]
    },
    {
      "cell_type": "markdown",
      "metadata": {
        "id": "3u_ZsvV5GZmP"
      },
      "source": [
        "### 5. Create a 5x2x3 3-dimensional array with all values equaling 1.\n",
        "### Assign the array to variable \"b\"\n"
      ]
    },
    {
      "cell_type": "code",
      "execution_count": 15,
      "metadata": {
        "id": "WF6K4WTcGZmQ"
      },
      "outputs": [],
      "source": [
        "### [your code here]\n",
        "b = np.ones((5, 2, 3))\n"
      ]
    },
    {
      "cell_type": "markdown",
      "metadata": {
        "id": "HrWIgJjuGZmQ"
      },
      "source": [
        "\n",
        "### 6. Print b.\n"
      ]
    },
    {
      "cell_type": "code",
      "execution_count": 16,
      "metadata": {
        "colab": {
          "base_uri": "https://localhost:8080/"
        },
        "id": "rgbjKLKbGZmR",
        "outputId": "e400f3d8-698d-4432-fd5c-3ce6da12dee3"
      },
      "outputs": [
        {
          "output_type": "execute_result",
          "data": {
            "text/plain": [
              "array([[[1., 1., 1.],\n",
              "        [1., 1., 1.]],\n",
              "\n",
              "       [[1., 1., 1.],\n",
              "        [1., 1., 1.]],\n",
              "\n",
              "       [[1., 1., 1.],\n",
              "        [1., 1., 1.]],\n",
              "\n",
              "       [[1., 1., 1.],\n",
              "        [1., 1., 1.]],\n",
              "\n",
              "       [[1., 1., 1.],\n",
              "        [1., 1., 1.]]])"
            ]
          },
          "metadata": {},
          "execution_count": 16
        }
      ],
      "source": [
        "### [your code here]\n",
        "b"
      ]
    },
    {
      "cell_type": "markdown",
      "metadata": {
        "id": "oLT6RPu8GZmR"
      },
      "source": [
        "\n",
        "### 7. Do a and b have the same size? How do you prove that in Python code?\n"
      ]
    },
    {
      "cell_type": "code",
      "execution_count": 17,
      "metadata": {
        "colab": {
          "base_uri": "https://localhost:8080/"
        },
        "id": "6RtTwcHwGZmS",
        "outputId": "7c351f6c-c62f-450a-876c-cc09fe783e0c"
      },
      "outputs": [
        {
          "output_type": "execute_result",
          "data": {
            "text/plain": [
              "False"
            ]
          },
          "metadata": {},
          "execution_count": 17
        }
      ],
      "source": [
        "### [your code here]\n",
        "a.shape == b.shape"
      ]
    },
    {
      "cell_type": "markdown",
      "metadata": {
        "id": "UmXaKOQyGZmS"
      },
      "source": [
        "\n",
        "### 8. Are you able to add a and b? Why or why not?\n"
      ]
    },
    {
      "cell_type": "code",
      "execution_count": 18,
      "metadata": {
        "colab": {
          "base_uri": "https://localhost:8080/",
          "height": 158
        },
        "id": "HRic3jJSGZmT",
        "outputId": "7028071d-40a9-4373-8043-2558e5628c1b"
      },
      "outputs": [
        {
          "output_type": "error",
          "ename": "ValueError",
          "evalue": "operands could not be broadcast together with shapes (2,3,5) (5,2,3) ",
          "traceback": [
            "\u001b[0;31m---------------------------------------------------------------------------\u001b[0m",
            "\u001b[0;31mValueError\u001b[0m                                Traceback (most recent call last)",
            "\u001b[0;32m<ipython-input-18-fc6aaa1ef8ab>\u001b[0m in \u001b[0;36m<cell line: 0>\u001b[0;34m()\u001b[0m\n\u001b[1;32m      1\u001b[0m \u001b[0;31m### [your code here]\u001b[0m\u001b[0;34m\u001b[0m\u001b[0;34m\u001b[0m\u001b[0m\n\u001b[0;32m----> 2\u001b[0;31m \u001b[0ma\u001b[0m \u001b[0;34m+\u001b[0m \u001b[0mb\u001b[0m\u001b[0;34m\u001b[0m\u001b[0;34m\u001b[0m\u001b[0m\n\u001b[0m",
            "\u001b[0;31mValueError\u001b[0m: operands could not be broadcast together with shapes (2,3,5) (5,2,3) "
          ]
        }
      ],
      "source": [
        "### [your code here]\n",
        "a + b # different shapes"
      ]
    },
    {
      "cell_type": "markdown",
      "metadata": {
        "id": "3xjpLF4tGZmT"
      },
      "source": [
        "\n",
        "\n",
        "### 9. Transpose b so that it has the same structure of a (i.e. become a 2x3x5 array). Assign the transposed array to varialbe \"c\".\n"
      ]
    },
    {
      "cell_type": "code",
      "execution_count": 19,
      "metadata": {
        "id": "7qB71uCCGZmU"
      },
      "outputs": [],
      "source": [
        "### [your code here]\n",
        "c = b.reshape(2, 3 , 5)\n"
      ]
    },
    {
      "cell_type": "markdown",
      "metadata": {
        "id": "hCNTKSwfGZmU"
      },
      "source": [
        "\n",
        "### 10. Try to add a and c. Now it should work. Assign the sum to variable \"d\". But why does it work now?\n"
      ]
    },
    {
      "cell_type": "code",
      "execution_count": 33,
      "metadata": {
        "id": "yRHpXLInGZmV"
      },
      "outputs": [],
      "source": [
        "### [your code here]\n",
        "d = a+c\n"
      ]
    },
    {
      "cell_type": "markdown",
      "metadata": {
        "id": "uOp6yRQ0GZmV"
      },
      "source": [
        "\n",
        "### 11. Print a and d. Notice the difference and relation of the two array in terms of the values? Explain.\n"
      ]
    },
    {
      "cell_type": "code",
      "source": [
        "a"
      ],
      "metadata": {
        "colab": {
          "base_uri": "https://localhost:8080/"
        },
        "id": "iVdkTVQJNrGi",
        "outputId": "a9e3c660-f941-4fb3-e02e-ac541184334c"
      },
      "execution_count": 37,
      "outputs": [
        {
          "output_type": "execute_result",
          "data": {
            "text/plain": [
              "array([[[71, 47, 81,  1,  8],\n",
              "        [65, 47, 41, 53, 79],\n",
              "        [41, 32, 62, 34, 84]],\n",
              "\n",
              "       [[96, 17, 86, 75, 71],\n",
              "        [61,  9,  1, 15,  6],\n",
              "        [45, 90, 77,  6,  3]]])"
            ]
          },
          "metadata": {},
          "execution_count": 37
        }
      ]
    },
    {
      "cell_type": "code",
      "execution_count": 38,
      "metadata": {
        "colab": {
          "base_uri": "https://localhost:8080/"
        },
        "id": "Ks8-DcMuGZmW",
        "outputId": "9e97e273-15f8-49a5-e4d9-2ee80c3377c4"
      },
      "outputs": [
        {
          "output_type": "execute_result",
          "data": {
            "text/plain": [
              "array([[[72., 48., 82.,  2.,  9.],\n",
              "        [66., 48., 42., 54., 80.],\n",
              "        [42., 33., 63., 35., 85.]],\n",
              "\n",
              "       [[97., 18., 87., 76., 72.],\n",
              "        [62., 10.,  2., 16.,  7.],\n",
              "        [46., 91., 78.,  7.,  4.]]])"
            ]
          },
          "metadata": {},
          "execution_count": 38
        }
      ],
      "source": [
        "### [your code here]\n",
        "d # d has the same shape as a, but each element in d is the result of adding the corresponding elements of a and c (i.e., d = a + c).\n",
        "# The differences between a and d are determined by the values in c.\n"
      ]
    },
    {
      "cell_type": "markdown",
      "metadata": {
        "id": "skFMYligGZmW"
      },
      "source": [
        "\n",
        "### 12. Multiply a and c. Assign the result to e.\n"
      ]
    },
    {
      "cell_type": "code",
      "execution_count": 26,
      "metadata": {
        "colab": {
          "base_uri": "https://localhost:8080/"
        },
        "id": "7dIXOVJRGZmW",
        "outputId": "540f8897-5896-4af7-ad5d-6c87329ddd4e"
      },
      "outputs": [
        {
          "output_type": "execute_result",
          "data": {
            "text/plain": [
              "array([[[71., 47., 81.,  1.,  8.],\n",
              "        [65., 47., 41., 53., 79.],\n",
              "        [41., 32., 62., 34., 84.]],\n",
              "\n",
              "       [[96., 17., 86., 75., 71.],\n",
              "        [61.,  9.,  1., 15.,  6.],\n",
              "        [45., 90., 77.,  6.,  3.]]])"
            ]
          },
          "metadata": {},
          "execution_count": 26
        }
      ],
      "source": [
        "### [your code here]\n",
        "e = a * c\n",
        "e"
      ]
    },
    {
      "cell_type": "markdown",
      "metadata": {
        "id": "0un4p1SpGZmX"
      },
      "source": [
        "\n",
        "\n",
        "### 13. Does e equal to a? Why or why not?\n"
      ]
    },
    {
      "cell_type": "code",
      "execution_count": 27,
      "metadata": {
        "colab": {
          "base_uri": "https://localhost:8080/"
        },
        "id": "eBi1q7OxGZmX",
        "outputId": "daa1d573-27b9-4cde-8b32-43288ce3503e"
      },
      "outputs": [
        {
          "output_type": "execute_result",
          "data": {
            "text/plain": [
              "array([[[ True,  True,  True,  True,  True],\n",
              "        [ True,  True,  True,  True,  True],\n",
              "        [ True,  True,  True,  True,  True]],\n",
              "\n",
              "       [[ True,  True,  True,  True,  True],\n",
              "        [ True,  True,  True,  True,  True],\n",
              "        [ True,  True,  True,  True,  True]]])"
            ]
          },
          "metadata": {},
          "execution_count": 27
        }
      ],
      "source": [
        "### [your code here]\n",
        "\n",
        "e == a\n",
        "# e is equal to a because c is a matrix where all elements are 1.\n",
        "# When multiplying a by c (i.e., e = a * c), each element in a remains unchanged\n",
        "# since multiplying by 1 does not affect the values."
      ]
    },
    {
      "cell_type": "markdown",
      "metadata": {
        "id": "5kYDIvN1GZmY"
      },
      "source": [
        "\n",
        "\n",
        "### 14. Identify the max, min, and mean values in d. Assign those values to variables \"d_max\", \"d_min\", and \"d_mean\"\n"
      ]
    },
    {
      "cell_type": "code",
      "execution_count": 34,
      "metadata": {
        "colab": {
          "base_uri": "https://localhost:8080/"
        },
        "id": "xhRJsdSAGZmY",
        "outputId": "7d263eb5-303f-49fa-c2fc-811c5ce497e6"
      },
      "outputs": [
        {
          "output_type": "stream",
          "name": "stdout",
          "text": [
            "47.8 97.0 2.0\n"
          ]
        }
      ],
      "source": [
        "### [your code here]\n",
        "d_mean = d.mean()\n",
        "d_max = d.max()\n",
        "d_min = d.min()\n",
        "print(d_mean, d_max, d_min)\n"
      ]
    },
    {
      "cell_type": "markdown",
      "metadata": {
        "id": "UgDTkJTKGZmZ"
      },
      "source": [
        "\n",
        "### 15. Now we want to label the values in d. First create an empty array \"f\" with the same shape (i.e. 2x3x5) as d using `np.empty`.\n"
      ]
    },
    {
      "cell_type": "code",
      "execution_count": 39,
      "metadata": {
        "id": "MqxzZbfSGZmZ"
      },
      "outputs": [],
      "source": [
        "### [your code here]\n",
        "f = np.empty((2, 3, 5))\n"
      ]
    },
    {
      "cell_type": "markdown",
      "metadata": {
        "id": "D_9rKHnrGZma"
      },
      "source": [
        "\n",
        "\n",
        "\n",
        "### 16. Populate the values in f. For each value in d, if it's larger than d_min but smaller than d_mean, assign 25 to the corresponding value in f.\n",
        "If a value in d is larger than d_mean but smaller than d_max, assign 75 to the corresponding value in f.\n",
        "If a value equals to d_mean, assign 50 to the corresponding value in f.\n",
        "Assign 0 to the corresponding value(s) in f for d_min in d.\n",
        "Assign 100 to the corresponding value(s) in f for d_max in d.\n",
        "In the end, f should have only the following values: 0, 25, 50, 75, and 100.\n",
        "Note: you don't have to use Numpy in this question.\n",
        "\n"
      ]
    },
    {
      "cell_type": "code",
      "execution_count": 41,
      "metadata": {
        "colab": {
          "base_uri": "https://localhost:8080/"
        },
        "id": "DanixsYeGZma",
        "outputId": "ce16047f-f836-423f-fc22-69b665b76466"
      },
      "outputs": [
        {
          "output_type": "execute_result",
          "data": {
            "text/plain": [
              "array([[[ 75.,  75.,  75.,   0.,  25.],\n",
              "        [ 75.,  75.,  25.,  75.,  75.],\n",
              "        [ 25.,  25.,  75.,  25.,  75.]],\n",
              "\n",
              "       [[100.,  25.,  75.,  75.,  75.],\n",
              "        [ 75.,  25.,   0.,  25.,  25.],\n",
              "        [ 25.,  75.,  75.,  25.,  25.]]])"
            ]
          },
          "metadata": {},
          "execution_count": 41
        }
      ],
      "source": [
        "### [your code here]\n",
        "f[d == d_min] = 0\n",
        "f[d == d_max] = 100\n",
        "f[d == d_mean] = 50\n",
        "f[(d > d_min) & (d < d_mean)] = 25\n",
        "f[(d > d_mean) & (d < d_max)] = 75\n",
        "f\n",
        "\n"
      ]
    },
    {
      "cell_type": "markdown",
      "metadata": {
        "id": "i-728z-SGZmb"
      },
      "source": [
        "\n",
        "\n",
        "\n",
        "\n",
        "### 17. Print d and f. Do you have your expected f?\n",
        "For instance, if your d is:\n",
        "array([[[1.85836099, 1.67064465, 1.62576044, 1.40243961, 1.88454931],\n",
        "        [1.75354326, 1.69403643, 1.36729252, 1.61415071, 1.12104981],\n",
        "        [1.72201435, 1.1862918 , 1.87078449, 1.7726778 , 1.88180042]],\n",
        "\n",
        "       [[1.44747908, 1.31673383, 1.02000951, 1.52218947, 1.97066381],\n",
        "        [1.79129243, 1.74983003, 1.96028037, 1.85166831, 1.65450881],\n",
        "        [1.18068344, 1.9587381 , 1.00656599, 1.93402165, 1.73514584]]])\n",
        "\n",
        "Your f should be:\n",
        "array([[[ 75.,  75.,  75.,  25.,  75.],\n",
        "        [ 75.,  75.,  25.,  25.,  25.],\n",
        "        [ 75.,  25.,  75.,  75.,  75.]],\n",
        "\n",
        "       [[ 25.,  25.,  25.,  25., 100.],\n",
        "        [ 75.,  75.,  75.,  75.,  75.],\n",
        "        [ 25.,  75.,   0.,  75.,  75.]]])\n",
        "\n"
      ]
    },
    {
      "cell_type": "code",
      "execution_count": 42,
      "metadata": {
        "colab": {
          "base_uri": "https://localhost:8080/"
        },
        "id": "iud0EBsEGZmb",
        "outputId": "46f81075-1a8a-455b-e896-7c23a824070a"
      },
      "outputs": [
        {
          "output_type": "stream",
          "name": "stdout",
          "text": [
            "[[[72. 48. 82.  2.  9.]\n",
            "  [66. 48. 42. 54. 80.]\n",
            "  [42. 33. 63. 35. 85.]]\n",
            "\n",
            " [[97. 18. 87. 76. 72.]\n",
            "  [62. 10.  2. 16.  7.]\n",
            "  [46. 91. 78.  7.  4.]]] [[[ 75.  75.  75.   0.  25.]\n",
            "  [ 75.  75.  25.  75.  75.]\n",
            "  [ 25.  25.  75.  25.  75.]]\n",
            "\n",
            " [[100.  25.  75.  75.  75.]\n",
            "  [ 75.  25.   0.  25.  25.]\n",
            "  [ 25.  75.  75.  25.  25.]]]\n"
          ]
        }
      ],
      "source": [
        "### [your code here]\n",
        "print(d, f) # d_mean=47.8 d_max = 97.0 d_min = 2.0"
      ]
    },
    {
      "cell_type": "markdown",
      "metadata": {
        "id": "Nbsy_IGyGZmc"
      },
      "source": [
        "### 18. Bonus question: instead of using numbers (i.e. 0, 25, 50, 75, and 100), how to use string values\n",
        "(\"A\", \"B\", \"C\", \"D\", and \"E\") to label the array elements? You are expecting the result to be:\n",
        "array([[[ 'D',  'D',  'D',  'B',  'D'],\n",
        "        [ 'D',  'D',  'B',  'B',  'B'],\n",
        "        [ 'D',  'B',  'D',  'D',  'D']],\n",
        "\n",
        "       [[ 'B',  'B',  'B',  'B',  'E'],\n",
        "        [ 'D',  'D',  'D',  'D',  'D'],\n",
        "        [ 'B',  'D',   'A',  'D', 'D']]])\n",
        "Again, you don't need Numpy in this question."
      ]
    },
    {
      "cell_type": "code",
      "execution_count": 45,
      "metadata": {
        "colab": {
          "base_uri": "https://localhost:8080/"
        },
        "id": "jj-K8u90GZmc",
        "outputId": "f806abb5-171e-4ae0-e661-37639102137f"
      },
      "outputs": [
        {
          "output_type": "execute_result",
          "data": {
            "text/plain": [
              "array([[['B', 'B', 'B', 'E', 'D'],\n",
              "        ['B', 'B', 'D', 'B', 'B'],\n",
              "        ['D', 'D', 'B', 'D', 'B']],\n",
              "\n",
              "       [['A', 'D', 'B', 'B', 'B'],\n",
              "        ['B', 'D', 'E', 'D', 'D'],\n",
              "        ['D', 'B', 'B', 'D', 'D']]], dtype=object)"
            ]
          },
          "metadata": {},
          "execution_count": 45
        }
      ],
      "source": [
        "### [your code here]\n",
        "g = np.empty((2, 3, 5), dtype=object)\n",
        "\n",
        "g[f == 0] = \"E\"\n",
        "g[f == 25 ] = \"D\"\n",
        "g[f == 50] = \"C\"\n",
        "g [f == 75] =\"B\"\n",
        "g [f == 100] = \"A\"\n",
        "\n",
        "g"
      ]
    },
    {
      "cell_type": "code",
      "source": [],
      "metadata": {
        "id": "47jn8wl4Q6KT"
      },
      "execution_count": null,
      "outputs": []
    }
  ],
  "metadata": {
    "kernelspec": {
      "display_name": "Python 3",
      "language": "python",
      "name": "python3"
    },
    "language_info": {
      "codemirror_mode": {
        "name": "ipython",
        "version": 3
      },
      "file_extension": ".py",
      "mimetype": "text/x-python",
      "name": "python",
      "nbconvert_exporter": "python",
      "pygments_lexer": "ipython3",
      "version": "3.8.0"
    },
    "colab": {
      "provenance": []
    }
  },
  "nbformat": 4,
  "nbformat_minor": 0
}