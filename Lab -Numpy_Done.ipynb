{
 "cells": [
  {
   "cell_type": "markdown",
   "metadata": {},
   "source": [
    "# Lab | Numpy Deep Dive"
   ]
  },
  {
   "cell_type": "markdown",
   "metadata": {},
   "source": [
    "### 1. Import the NUMPY package under the name np.\n"
   ]
  },
  {
   "cell_type": "code",
   "execution_count": 5,
   "metadata": {},
   "outputs": [],
   "source": [
    "### [your code here]\n",
    "import numpy as np\n"
   ]
  },
  {
   "cell_type": "markdown",
   "metadata": {},
   "source": [
    "\n",
    "\n",
    "### 2. Print the NUMPY version and the configuration.\n"
   ]
  },
  {
   "cell_type": "code",
   "execution_count": 8,
   "metadata": {},
   "outputs": [
    {
     "data": {
      "text/plain": [
       "'1.26.4'"
      ]
     },
     "execution_count": 8,
     "metadata": {},
     "output_type": "execute_result"
    }
   ],
   "source": [
    "### [your code here]\n",
    "np.__version__"
   ]
  },
  {
   "cell_type": "markdown",
   "metadata": {},
   "source": [
    "### 3. Generate a 2x3x5 3-dimensional array with random values. Assign the array to variable \"a\"\n",
    "Challenge: there are at least three easy ways that use numpy to generate random arrays. How many ways can you find?\n"
   ]
  },
  {
   "cell_type": "code",
   "execution_count": 16,
   "metadata": {},
   "outputs": [],
   "source": [
    "### [your code here]\n",
    "a = np.random.random((2,3,5))\n",
    "a = np.random.rand(2,3,5)\n",
    "a = np.random.randn(2,3,5)\n"
   ]
  },
  {
   "cell_type": "markdown",
   "metadata": {},
   "source": [
    "\n",
    "### 4. Print a.\n"
   ]
  },
  {
   "cell_type": "code",
   "execution_count": 18,
   "metadata": {},
   "outputs": [
    {
     "name": "stdout",
     "output_type": "stream",
     "text": [
      "[[[ 2.92716798  1.58147723 -0.73904497  0.69037633  0.33377478]\n",
      "  [-0.41771278  1.19430794 -0.20841123 -0.83451426  1.38637028]\n",
      "  [-0.46200644 -0.5438298  -0.75903463  0.81398108 -0.54433797]]\n",
      "\n",
      " [[ 0.68287479  1.3918397  -0.34871236  0.53184102  0.50045689]\n",
      "  [ 0.86541832 -0.98663126  0.22410229 -0.08497003  0.35904514]\n",
      "  [ 0.34974098 -0.44929979 -0.76040402  1.15885121  1.86243424]]]\n"
     ]
    }
   ],
   "source": [
    "### [your code here]\n",
    "print (a)\n"
   ]
  },
  {
   "cell_type": "markdown",
   "metadata": {},
   "source": [
    "### 5. Create a 5x2x3 3-dimensional array with all values equaling 1.\n",
    "### Assign the array to variable \"b\"\n"
   ]
  },
  {
   "cell_type": "code",
   "execution_count": 20,
   "metadata": {},
   "outputs": [
    {
     "name": "stdout",
     "output_type": "stream",
     "text": [
      "[[[1 1]\n",
      "  [1 1]\n",
      "  [1 1]]\n",
      "\n",
      " [[1 1]\n",
      "  [1 1]\n",
      "  [1 1]]\n",
      "\n",
      " [[1 1]\n",
      "  [1 1]\n",
      "  [1 1]]\n",
      "\n",
      " [[1 1]\n",
      "  [1 1]\n",
      "  [1 1]]\n",
      "\n",
      " [[1 1]\n",
      "  [1 1]\n",
      "  [1 1]]]\n"
     ]
    }
   ],
   "source": [
    "### [your code here]\n",
    "b = np.full((5,3,2) , 1 )\n",
    "print (b)\n"
   ]
  },
  {
   "cell_type": "markdown",
   "metadata": {},
   "source": [
    "\n",
    "### 6. Print b.\n"
   ]
  },
  {
   "cell_type": "code",
   "execution_count": 22,
   "metadata": {},
   "outputs": [
    {
     "name": "stdout",
     "output_type": "stream",
     "text": [
      "[[[1 1]\n",
      "  [1 1]\n",
      "  [1 1]]\n",
      "\n",
      " [[1 1]\n",
      "  [1 1]\n",
      "  [1 1]]\n",
      "\n",
      " [[1 1]\n",
      "  [1 1]\n",
      "  [1 1]]\n",
      "\n",
      " [[1 1]\n",
      "  [1 1]\n",
      "  [1 1]]\n",
      "\n",
      " [[1 1]\n",
      "  [1 1]\n",
      "  [1 1]]]\n"
     ]
    }
   ],
   "source": [
    "### [your code here]\n",
    "print(b)"
   ]
  },
  {
   "cell_type": "markdown",
   "metadata": {},
   "source": [
    "\n",
    "### 7. Do a and b have the same size? How do you prove that in Python code?\n"
   ]
  },
  {
   "cell_type": "code",
   "execution_count": 24,
   "metadata": {},
   "outputs": [
    {
     "name": "stdout",
     "output_type": "stream",
     "text": [
      "[[[ 2.92716798  1.58147723 -0.73904497  0.69037633  0.33377478]\n",
      "  [-0.41771278  1.19430794 -0.20841123 -0.83451426  1.38637028]\n",
      "  [-0.46200644 -0.5438298  -0.75903463  0.81398108 -0.54433797]]\n",
      "\n",
      " [[ 0.68287479  1.3918397  -0.34871236  0.53184102  0.50045689]\n",
      "  [ 0.86541832 -0.98663126  0.22410229 -0.08497003  0.35904514]\n",
      "  [ 0.34974098 -0.44929979 -0.76040402  1.15885121  1.86243424]]]\n",
      "[[[1 1]\n",
      "  [1 1]\n",
      "  [1 1]]\n",
      "\n",
      " [[1 1]\n",
      "  [1 1]\n",
      "  [1 1]]\n",
      "\n",
      " [[1 1]\n",
      "  [1 1]\n",
      "  [1 1]]\n",
      "\n",
      " [[1 1]\n",
      "  [1 1]\n",
      "  [1 1]]\n",
      "\n",
      " [[1 1]\n",
      "  [1 1]\n",
      "  [1 1]]]\n",
      "The Size of A:  30\n",
      "The Size of B:  30\n",
      "Do They Have The Same Size ?   True\n"
     ]
    }
   ],
   "source": [
    "### [your code here]\n",
    "print (a)\n",
    "print (b)\n",
    "\n",
    "print(\"The Size of A: \", a.size)\n",
    "print(\"The Size of B: \", b.size)\n",
    "\n",
    "print(\"Do They Have The Same Size ?  \", a.size == b.size)"
   ]
  },
  {
   "cell_type": "markdown",
   "metadata": {},
   "source": [
    "\n",
    "### 8. Are you able to add a and b? Why or why not?\n"
   ]
  },
  {
   "cell_type": "code",
   "execution_count": 26,
   "metadata": {},
   "outputs": [
    {
     "name": "stdout",
     "output_type": "stream",
     "text": [
      " ERROR :  operands could not be broadcast together with shapes (2,3,5) (5,3,2) \n"
     ]
    }
   ],
   "source": [
    "### [your code here]\n",
    "try:\n",
    "    result = a + b\n",
    "    print(\" Addition Successuful ! \")\n",
    "\n",
    "except ValueError as e:\n",
    "    print(\" ERROR : \", e)\n"
   ]
  },
  {
   "cell_type": "markdown",
   "metadata": {},
   "source": [
    "\n",
    "\n",
    "### 9. Transpose b so that it has the same structure of a (i.e. become a 2x3x5 array). Assign the transposed array to varialbe \"c\".\n"
   ]
  },
  {
   "cell_type": "code",
   "execution_count": 32,
   "metadata": {},
   "outputs": [
    {
     "name": "stdout",
     "output_type": "stream",
     "text": [
      "(2, 3, 5)\n",
      "(5, 3, 2)\n"
     ]
    }
   ],
   "source": [
    "### [your code here]\n",
    "print(a.shape)\n",
    "print(b.shape)\n"
   ]
  },
  {
   "cell_type": "code",
   "execution_count": 42,
   "metadata": {},
   "outputs": [
    {
     "name": "stdout",
     "output_type": "stream",
     "text": [
      "(2, 3, 5)\n",
      "(5, 3, 2)\n",
      "(2, 3, 5)\n"
     ]
    }
   ],
   "source": [
    "### [your code here]\n",
    "c = np.transpose(b ,( 2 , 1 , 0))\n",
    "\n",
    "print( a.shape)\n",
    "print(b.shape)\n",
    "print(c.shape)"
   ]
  },
  {
   "cell_type": "markdown",
   "metadata": {},
   "source": [
    "\n",
    "### 10. Try to add a and c. Now it should work. Assign the sum to variable \"d\". But why does it work now?\n"
   ]
  },
  {
   "cell_type": "code",
   "execution_count": 77,
   "metadata": {},
   "outputs": [
    {
     "name": "stdout",
     "output_type": "stream",
     "text": [
      " Addition Successful ! \n",
      "[[[3.92716798 2.58147723 0.26095503 1.69037633 1.33377478]\n",
      "  [0.58228722 2.19430794 0.79158877 0.16548574 2.38637028]\n",
      "  [0.53799356 0.4561702  0.24096537 1.81398108 0.45566203]]\n",
      "\n",
      " [[1.68287479 2.3918397  0.65128764 1.53184102 1.50045689]\n",
      "  [1.86541832 0.01336874 1.22410229 0.91502997 1.35904514]\n",
      "  [1.34974098 0.55070021 0.23959598 2.15885121 2.86243424]]]\n",
      " Addition Successful because Array a AND c have the same Size  True\n"
     ]
    }
   ],
   "source": [
    "### [your code here]\n",
    "try:\n",
    "    d = a + c \n",
    "    print(\" Addition Successful ! \")\n",
    "    print(d)\n",
    "\n",
    "except ValueError as e :\n",
    "    print(\" ERROR : \" , e)\n",
    "\n",
    "print( \" Addition Successful because Array a AND c have the same Size \" , a.shape == c.shape)\n",
    "\n",
    "\n"
   ]
  },
  {
   "cell_type": "markdown",
   "metadata": {},
   "source": [
    "\n",
    "### 11. Print a and d. Notice the difference and relation of the two array in terms of the values? Explain.\n"
   ]
  },
  {
   "cell_type": "code",
   "execution_count": 80,
   "metadata": {},
   "outputs": [
    {
     "name": "stdout",
     "output_type": "stream",
     "text": [
      "Array a : \n",
      " [[[ 2.92716798  1.58147723 -0.73904497  0.69037633  0.33377478]\n",
      "  [-0.41771278  1.19430794 -0.20841123 -0.83451426  1.38637028]\n",
      "  [-0.46200644 -0.5438298  -0.75903463  0.81398108 -0.54433797]]\n",
      "\n",
      " [[ 0.68287479  1.3918397  -0.34871236  0.53184102  0.50045689]\n",
      "  [ 0.86541832 -0.98663126  0.22410229 -0.08497003  0.35904514]\n",
      "  [ 0.34974098 -0.44929979 -0.76040402  1.15885121  1.86243424]]]\n",
      "Array b : \n",
      " [[[1 1]\n",
      "  [1 1]\n",
      "  [1 1]]\n",
      "\n",
      " [[1 1]\n",
      "  [1 1]\n",
      "  [1 1]]\n",
      "\n",
      " [[1 1]\n",
      "  [1 1]\n",
      "  [1 1]]\n",
      "\n",
      " [[1 1]\n",
      "  [1 1]\n",
      "  [1 1]]\n",
      "\n",
      " [[1 1]\n",
      "  [1 1]\n",
      "  [1 1]]]\n"
     ]
    }
   ],
   "source": [
    "### [your code here]\n",
    "print(\"Array a : \\n\" ,a)\n",
    "print(\"Array b : \\n\" ,b)\n",
    "\n"
   ]
  },
  {
   "cell_type": "markdown",
   "metadata": {},
   "source": [
    "\n",
    "### 12. Multiply a and c. Assign the result to e.\n"
   ]
  },
  {
   "cell_type": "code",
   "execution_count": 83,
   "metadata": {},
   "outputs": [],
   "source": [
    "### [your code here]\n",
    "e = a * c \n"
   ]
  },
  {
   "cell_type": "markdown",
   "metadata": {},
   "source": [
    "\n",
    "\n",
    "### 13. Does e equal to a? Why or why not?\n"
   ]
  },
  {
   "cell_type": "code",
   "execution_count": 86,
   "metadata": {},
   "outputs": [
    {
     "name": "stdout",
     "output_type": "stream",
     "text": [
      " Does e equal to e ?  True\n"
     ]
    }
   ],
   "source": [
    "### [your code here]\n",
    "print(\" Does e equal to e ? \", np.array_equal( a , e ))\n",
    "\n",
    "\n"
   ]
  },
  {
   "cell_type": "markdown",
   "metadata": {},
   "source": [
    "\n",
    "\n",
    "### 14. Identify the max, min, and mean values in d. Assign those values to variables \"d_max\", \"d_min\", and \"d_mean\"\n"
   ]
  },
  {
   "cell_type": "code",
   "execution_count": 89,
   "metadata": {},
   "outputs": [
    {
     "name": "stdout",
     "output_type": "stream",
     "text": [
      " Max value in d : 3.9271679837937827\n",
      " Min value in d : 0.013368741857819\n",
      " Mean value in d : 1.323838355508261\n"
     ]
    }
   ],
   "source": [
    "### [your code here]\n",
    "\n",
    "d_max = np.max(d)\n",
    "d_min = np.min(d)\n",
    "d_mean = np.mean(d)\n",
    "\n",
    "print(\" Max value in d :\", d_max)\n",
    "print(\" Min value in d :\", d_min)\n",
    "print(\" Mean value in d :\",d_mean)\n"
   ]
  },
  {
   "cell_type": "markdown",
   "metadata": {},
   "source": [
    "\n",
    "### 15. Now we want to label the values in d. First create an empty array \"f\" with the same shape (i.e. 2x3x5) as d using `np.empty`.\n"
   ]
  },
  {
   "cell_type": "code",
   "execution_count": 93,
   "metadata": {},
   "outputs": [],
   "source": [
    "### [your code here]\n",
    "f = np.empty(d.shape)\n"
   ]
  },
  {
   "cell_type": "markdown",
   "metadata": {},
   "source": [
    "\n",
    "\n",
    "\n",
    "### 16. Populate the values in f. For each value in d, if it's larger than d_min but smaller than d_mean, assign 25 to the corresponding value in f.\n",
    "If a value in d is larger than d_mean but smaller than d_max, assign 75 to the corresponding value in f.\n",
    "If a value equals to d_mean, assign 50 to the corresponding value in f.\n",
    "Assign 0 to the corresponding value(s) in f for d_min in d.\n",
    "Assign 100 to the corresponding value(s) in f for d_max in d.\n",
    "In the end, f should have only the following values: 0, 25, 50, 75, and 100.\n",
    "Note: you don't have to use Numpy in this question.\n",
    "\n"
   ]
  },
  {
   "cell_type": "code",
   "execution_count": 99,
   "metadata": {},
   "outputs": [
    {
     "name": "stdout",
     "output_type": "stream",
     "text": [
      " Array f : \n",
      " [[[100.  75.  25.  75.  75.]\n",
      "  [ 25.  75.  25.  25.  75.]\n",
      "  [ 25.  25.  25.  75.  25.]]\n",
      "\n",
      " [[ 75.  75.  25.  75.  75.]\n",
      "  [  0.   0.  25.  25.  75.]\n",
      "  [ 75.  25.  25.  75.  75.]]]\n"
     ]
    }
   ],
   "source": [
    "### [your code here]\n",
    "for i in range(d.shape[0]):\n",
    "    for j in range(d.shape[1]):\n",
    "        for k in range(d.shape[2]):\n",
    "            if d[i , j , k] == d_min:\n",
    "                f[i , j , ] = 0\n",
    "            elif d[i , j, k] == d_max:\n",
    "                f[i , j ,k] = 100\n",
    "            elif d[i , j , k] == d_mean:\n",
    "                f[ i, j ,k ] == 50\n",
    "            elif d_min < d[i, j , k] < d_mean:\n",
    "                f[ i , j , k] = 25\n",
    "            elif d_mean < d[ i , j , k] < d_max:\n",
    "                f[i , j , k] = 75\n",
    "\n",
    "print (\" Array f : \\n\" , f)"
   ]
  },
  {
   "cell_type": "markdown",
   "metadata": {},
   "source": [
    "\n",
    "\n",
    "\n",
    "\n",
    "### 17. Print d and f. Do you have your expected f?\n",
    "For instance, if your d is:\n",
    "array([[[1.85836099, 1.67064465, 1.62576044, 1.40243961, 1.88454931],\n",
    "        [1.75354326, 1.69403643, 1.36729252, 1.61415071, 1.12104981],\n",
    "        [1.72201435, 1.1862918 , 1.87078449, 1.7726778 , 1.88180042]],\n",
    "\n",
    "       [[1.44747908, 1.31673383, 1.02000951, 1.52218947, 1.97066381],\n",
    "        [1.79129243, 1.74983003, 1.96028037, 1.85166831, 1.65450881],\n",
    "        [1.18068344, 1.9587381 , 1.00656599, 1.93402165, 1.73514584]]])\n",
    "\n",
    "Your f should be:\n",
    "array([[[ 75.,  75.,  75.,  25.,  75.],\n",
    "        [ 75.,  75.,  25.,  25.,  25.],\n",
    "        [ 75.,  25.,  75.,  75.,  75.]],\n",
    "\n",
    "       [[ 25.,  25.,  25.,  25., 100.],\n",
    "        [ 75.,  75.,  75.,  75.,  75.],\n",
    "        [ 25.,  75.,   0.,  75.,  75.]]])\n",
    "\n"
   ]
  },
  {
   "cell_type": "code",
   "execution_count": 103,
   "metadata": {},
   "outputs": [
    {
     "name": "stdout",
     "output_type": "stream",
     "text": [
      "[[[3.92716798 2.58147723 0.26095503 1.69037633 1.33377478]\n",
      "  [0.58228722 2.19430794 0.79158877 0.16548574 2.38637028]\n",
      "  [0.53799356 0.4561702  0.24096537 1.81398108 0.45566203]]\n",
      "\n",
      " [[1.68287479 2.3918397  0.65128764 1.53184102 1.50045689]\n",
      "  [1.86541832 0.01336874 1.22410229 0.91502997 1.35904514]\n",
      "  [1.34974098 0.55070021 0.23959598 2.15885121 2.86243424]]]\n",
      "[[[100.  75.  25.  75.  75.]\n",
      "  [ 25.  75.  25.  25.  75.]\n",
      "  [ 25.  25.  25.  75.  25.]]\n",
      "\n",
      " [[ 75.  75.  25.  75.  75.]\n",
      "  [  0.   0.  25.  25.  75.]\n",
      "  [ 75.  25.  25.  75.  75.]]]\n"
     ]
    }
   ],
   "source": [
    "### [your code here]\n",
    "print( d )\n",
    "print (f )\n"
   ]
  },
  {
   "cell_type": "markdown",
   "metadata": {},
   "source": [
    "### 18. Bonus question: instead of using numbers (i.e. 0, 25, 50, 75, and 100), how to use string values \n",
    "(\"A\", \"B\", \"C\", \"D\", and \"E\") to label the array elements? You are expecting the result to be:\n",
    "array([[[ 'D',  'D',  'D',  'B',  'D'],\n",
    "        [ 'D',  'D',  'B',  'B',  'B'],\n",
    "        [ 'D',  'B',  'D',  'D',  'D']],\n",
    "\n",
    "       [[ 'B',  'B',  'B',  'B',  'E'],\n",
    "        [ 'D',  'D',  'D',  'D',  'D'],\n",
    "        [ 'B',  'D',   'A',  'D', 'D']]])\n",
    "Again, you don't need Numpy in this question."
   ]
  },
  {
   "cell_type": "code",
   "execution_count": 105,
   "metadata": {},
   "outputs": [
    {
     "name": "stdout",
     "output_type": "stream",
     "text": [
      "[[[100.  75.  25.  75.  75.]\n",
      "  [ 25.  75.  25.  25.  75.]\n",
      "  [ 25.  25.  25.  75.  25.]]\n",
      "\n",
      " [[ 75.  75.  25.  75.  75.]\n",
      "  [  0.   0.  25.  25.  75.]\n",
      "  [ 75.  25.  25.  75.  75.]]]\n"
     ]
    }
   ],
   "source": [
    "### [your code here]\n",
    "print ( f)"
   ]
  },
  {
   "cell_type": "code",
   "execution_count": 113,
   "metadata": {},
   "outputs": [
    {
     "name": "stdout",
     "output_type": "stream",
     "text": [
      "[[['E' 'D' 'B' 'D' 'D']\n",
      "  ['B' 'D' 'B' 'B' 'D']\n",
      "  ['B' 'B' 'B' 'D' 'B']]\n",
      "\n",
      " [['D' 'D' 'B' 'D' 'D']\n",
      "  ['A' 'A' 'B' 'B' 'D']\n",
      "  ['D' 'B' 'B' 'D' 'D']]]\n"
     ]
    }
   ],
   "source": [
    "f_str = np.empty(f.shape , dtype = str)\n",
    "\n",
    "\n",
    "for i in range (f.shape[0]):\n",
    "    for j in range (f.shape[1]):\n",
    "        for k in range (f.shape [2]):\n",
    "            if f [i , j , k] == 0 : \n",
    "                f_str[i , j , k] = \"A\"\n",
    "            elif f [ i, j , k ] == 25:\n",
    "                f_str[i , j , k] = \"B\"\n",
    "            elif f [i , j , k] == 50 :\n",
    "                f_str [i , j , k] = \"C\"\n",
    "            elif f[i , j , k] == 75 :\n",
    "                f_str[i , j , k] = \"D\"\n",
    "            elif f[i , j , k] == 100:\n",
    "                 f_str[i , j , k] = \"E\"\n",
    "\n",
    "\n",
    "\n",
    "print (f_str)\n"
   ]
  },
  {
   "cell_type": "code",
   "execution_count": null,
   "metadata": {},
   "outputs": [],
   "source": []
  }
 ],
 "metadata": {
  "kernelspec": {
   "display_name": "Python [conda env:base] *",
   "language": "python",
   "name": "conda-base-py"
  },
  "language_info": {
   "codemirror_mode": {
    "name": "ipython",
    "version": 3
   },
   "file_extension": ".py",
   "mimetype": "text/x-python",
   "name": "python",
   "nbconvert_exporter": "python",
   "pygments_lexer": "ipython3",
   "version": "3.12.7"
  }
 },
 "nbformat": 4,
 "nbformat_minor": 4
}
