{
 "cells": [
  {
   "cell_type": "markdown",
   "metadata": {},
   "source": [
    "# Lab | Numpy Deep Dive"
   ]
  },
  {
   "cell_type": "markdown",
   "metadata": {},
   "source": [
    "### 1. Import the NUMPY package under the name np.\n"
   ]
  },
  {
   "cell_type": "code",
   "execution_count": 2,
   "metadata": {},
   "outputs": [],
   "source": [
    "### [your code here]\n",
    "import numpy as np"
   ]
  },
  {
   "cell_type": "markdown",
   "metadata": {},
   "source": [
    "\n",
    "\n",
    "### 2. Print the NUMPY version and the configuration.\n"
   ]
  },
  {
   "cell_type": "code",
   "execution_count": 5,
   "metadata": {},
   "outputs": [
    {
     "name": "stdout",
     "output_type": "stream",
     "text": [
      "1.26.4\n",
      "Build Dependencies:\n",
      "  blas:\n",
      "    detection method: pkgconfig\n",
      "    found: true\n",
      "    include directory: /opt/anaconda3/include\n",
      "    lib directory: /opt/anaconda3/lib\n",
      "    name: openblas\n",
      "    openblas configuration: USE_64BITINT= DYNAMIC_ARCH=1 DYNAMIC_OLDER= NO_CBLAS=\n",
      "      NO_LAPACK=0 NO_LAPACKE= NO_AFFINITY=1 USE_OPENMP=0 VORTEX MAX_THREADS=128\n",
      "    pc file directory: /opt/anaconda3/lib/pkgconfig\n",
      "    version: 0.3.21\n",
      "  lapack:\n",
      "    detection method: internal\n",
      "    found: true\n",
      "    include directory: unknown\n",
      "    lib directory: unknown\n",
      "    name: dep4347739648\n",
      "    openblas configuration: unknown\n",
      "    pc file directory: unknown\n",
      "    version: 1.26.4\n",
      "Compilers:\n",
      "  c:\n",
      "    args: -ftree-vectorize, -fPIC, -fPIE, -fstack-protector-strong, -O2, -pipe, -isystem,\n",
      "      /opt/anaconda3/include, -fdebug-prefix-map=/var/folders/k1/30mswbxs7r1g6zwn8y4fyt500000gp/T/abs_a51i_mbs7m/croot/numpy_and_numpy_base_1708638620867/work=/usr/local/src/conda/numpy-base-1.26.4,\n",
      "      -fdebug-prefix-map=/opt/anaconda3=/usr/local/src/conda-prefix, -D_FORTIFY_SOURCE=2,\n",
      "      -isystem, /opt/anaconda3/include, -mmacosx-version-min=11.1\n",
      "    commands: arm64-apple-darwin20.0.0-clang\n",
      "    linker: ld64\n",
      "    linker args: -Wl,-pie, -Wl,-headerpad_max_install_names, -Wl,-dead_strip_dylibs,\n",
      "      -Wl,-rpath,/opt/anaconda3/lib, -L/opt/anaconda3/lib, -ftree-vectorize, -fPIC,\n",
      "      -fPIE, -fstack-protector-strong, -O2, -pipe, -isystem, /opt/anaconda3/include,\n",
      "      -fdebug-prefix-map=/var/folders/k1/30mswbxs7r1g6zwn8y4fyt500000gp/T/abs_a51i_mbs7m/croot/numpy_and_numpy_base_1708638620867/work=/usr/local/src/conda/numpy-base-1.26.4,\n",
      "      -fdebug-prefix-map=/opt/anaconda3=/usr/local/src/conda-prefix, -D_FORTIFY_SOURCE=2,\n",
      "      -isystem, /opt/anaconda3/include, -mmacosx-version-min=11.1\n",
      "    name: clang\n",
      "    version: 14.0.6\n",
      "  c++:\n",
      "    args: -ftree-vectorize, -fPIC, -fPIE, -fstack-protector-strong, -O2, -pipe, -stdlib=libc++,\n",
      "      -fvisibility-inlines-hidden, -fmessage-length=0, -isystem, /opt/anaconda3/include,\n",
      "      -fdebug-prefix-map=/var/folders/k1/30mswbxs7r1g6zwn8y4fyt500000gp/T/abs_a51i_mbs7m/croot/numpy_and_numpy_base_1708638620867/work=/usr/local/src/conda/numpy-base-1.26.4,\n",
      "      -fdebug-prefix-map=/opt/anaconda3=/usr/local/src/conda-prefix, -D_FORTIFY_SOURCE=2,\n",
      "      -isystem, /opt/anaconda3/include, -mmacosx-version-min=11.1\n",
      "    commands: arm64-apple-darwin20.0.0-clang++\n",
      "    linker: ld64\n",
      "    linker args: -Wl,-pie, -Wl,-headerpad_max_install_names, -Wl,-dead_strip_dylibs,\n",
      "      -Wl,-rpath,/opt/anaconda3/lib, -L/opt/anaconda3/lib, -ftree-vectorize, -fPIC,\n",
      "      -fPIE, -fstack-protector-strong, -O2, -pipe, -stdlib=libc++, -fvisibility-inlines-hidden,\n",
      "      -fmessage-length=0, -isystem, /opt/anaconda3/include, -fdebug-prefix-map=/var/folders/k1/30mswbxs7r1g6zwn8y4fyt500000gp/T/abs_a51i_mbs7m/croot/numpy_and_numpy_base_1708638620867/work=/usr/local/src/conda/numpy-base-1.26.4,\n",
      "      -fdebug-prefix-map=/opt/anaconda3=/usr/local/src/conda-prefix, -D_FORTIFY_SOURCE=2,\n",
      "      -isystem, /opt/anaconda3/include, -mmacosx-version-min=11.1\n",
      "    name: clang\n",
      "    version: 14.0.6\n",
      "  cython:\n",
      "    commands: cython\n",
      "    linker: cython\n",
      "    name: cython\n",
      "    version: 3.0.8\n",
      "Machine Information:\n",
      "  build:\n",
      "    cpu: aarch64\n",
      "    endian: little\n",
      "    family: aarch64\n",
      "    system: darwin\n",
      "  host:\n",
      "    cpu: aarch64\n",
      "    endian: little\n",
      "    family: aarch64\n",
      "    system: darwin\n",
      "Python Information:\n",
      "  path: /opt/anaconda3/bin/python\n",
      "  version: '3.12'\n",
      "SIMD Extensions:\n",
      "  baseline:\n",
      "  - NEON\n",
      "  - NEON_FP16\n",
      "  - NEON_VFPV4\n",
      "  - ASIMD\n",
      "  found:\n",
      "  - ASIMDHP\n",
      "  not found:\n",
      "  - ASIMDFHM\n",
      "\n",
      "None\n"
     ]
    }
   ],
   "source": [
    "### [your code here]\n",
    "print(np.__version__)\n",
    "print(np.show_config())"
   ]
  },
  {
   "cell_type": "markdown",
   "metadata": {},
   "source": [
    "### 3. Generate a 2x3x5 3-dimensional array with random values. Assign the array to variable \"a\"\n",
    "Challenge: there are at least three easy ways that use numpy to generate random arrays. How many ways can you find?\n"
   ]
  },
  {
   "cell_type": "code",
   "execution_count": 8,
   "metadata": {},
   "outputs": [],
   "source": [
    "### [your code here]\n",
    "a = np.random.rand(2, 3, 5)  # Using uniform distribution\n",
    "# Alternative methods to generate random arrays:\n",
    "# 1. np.random.random((2, 3, 5))\n",
    "# 2. np.random.randn(2, 3, 5)  # Normal distribution\n",
    "# 3. np.random.randint(low=0, high=100, size=(2, 3, 5))  # Random integers"
   ]
  },
  {
   "cell_type": "markdown",
   "metadata": {},
   "source": [
    "\n",
    "### 4. Print a.\n"
   ]
  },
  {
   "cell_type": "code",
   "execution_count": 11,
   "metadata": {},
   "outputs": [
    {
     "name": "stdout",
     "output_type": "stream",
     "text": [
      "[[[0.16254161 0.37610328 0.24565589 0.01585035 0.13605578]\n",
      "  [0.75009274 0.53888482 0.29081214 0.55879196 0.70471459]\n",
      "  [0.58701225 0.17089418 0.39182005 0.23402822 0.2968932 ]]\n",
      "\n",
      " [[0.70257463 0.45307874 0.35958638 0.33992493 0.21864607]\n",
      "  [0.27779598 0.60931423 0.87540993 0.86748633 0.05230093]\n",
      "  [0.63038309 0.69266262 0.45547073 0.41484404 0.3133284 ]]]\n"
     ]
    }
   ],
   "source": [
    "### [your code here]\n",
    "print(a)"
   ]
  },
  {
   "cell_type": "markdown",
   "metadata": {},
   "source": [
    "### 5. Create a 5x2x3 3-dimensional array with all values equaling 1.\n",
    "### Assign the array to variable \"b\"\n"
   ]
  },
  {
   "cell_type": "code",
   "execution_count": 14,
   "metadata": {},
   "outputs": [],
   "source": [
    "### [your code here]\n",
    "b = np.ones((5, 2, 3))"
   ]
  },
  {
   "cell_type": "markdown",
   "metadata": {},
   "source": [
    "\n",
    "### 6. Print b.\n"
   ]
  },
  {
   "cell_type": "code",
   "execution_count": 19,
   "metadata": {},
   "outputs": [
    {
     "name": "stdout",
     "output_type": "stream",
     "text": [
      "[[[1. 1. 1.]\n",
      "  [1. 1. 1.]]\n",
      "\n",
      " [[1. 1. 1.]\n",
      "  [1. 1. 1.]]\n",
      "\n",
      " [[1. 1. 1.]\n",
      "  [1. 1. 1.]]\n",
      "\n",
      " [[1. 1. 1.]\n",
      "  [1. 1. 1.]]\n",
      "\n",
      " [[1. 1. 1.]\n",
      "  [1. 1. 1.]]]\n"
     ]
    }
   ],
   "source": [
    "### [your code here]\n",
    "print(b)"
   ]
  },
  {
   "cell_type": "markdown",
   "metadata": {},
   "source": [
    "\n",
    "### 7. Do a and b have the same size? How do you prove that in Python code?\n"
   ]
  },
  {
   "cell_type": "code",
   "execution_count": 22,
   "metadata": {},
   "outputs": [
    {
     "name": "stdout",
     "output_type": "stream",
     "text": [
      "True\n"
     ]
    }
   ],
   "source": [
    "### [your code here]\n",
    "print(a.size == b.size)  # Check if sizes are equal"
   ]
  },
  {
   "cell_type": "markdown",
   "metadata": {},
   "source": [
    "\n",
    "### 8. Are you able to add a and b? Why or why not?\n"
   ]
  },
  {
   "cell_type": "code",
   "execution_count": 25,
   "metadata": {},
   "outputs": [],
   "source": [
    "### [your code here]\n",
    "# No, we cannot add a and b because they have different shapes (2x3x5 vs. 5x2x3)."
   ]
  },
  {
   "cell_type": "markdown",
   "metadata": {},
   "source": [
    "\n",
    "\n",
    "### 9. Transpose b so that it has the same structure of a (i.e. become a 2x3x5 array). Assign the transposed array to varialbe \"c\".\n"
   ]
  },
  {
   "cell_type": "code",
   "execution_count": 28,
   "metadata": {},
   "outputs": [],
   "source": [
    "### [your code here]\n",
    "c = b.transpose(1, 2, 0)  # Change the order of axes"
   ]
  },
  {
   "cell_type": "markdown",
   "metadata": {},
   "source": [
    "\n",
    "### 10. Try to add a and c. Now it should work. Assign the sum to variable \"d\". But why does it work now?\n"
   ]
  },
  {
   "cell_type": "code",
   "execution_count": 31,
   "metadata": {},
   "outputs": [],
   "source": [
    "### [your code here]\n",
    "d = a + c  # Now they both have shape (2, 3, 5)\n",
    "# It works now because the shapes match (2x3x5)."
   ]
  },
  {
   "cell_type": "markdown",
   "metadata": {},
   "source": [
    "\n",
    "### 11. Print a and d. Notice the difference and relation of the two array in terms of the values? Explain.\n"
   ]
  },
  {
   "cell_type": "code",
   "execution_count": 34,
   "metadata": {},
   "outputs": [
    {
     "name": "stdout",
     "output_type": "stream",
     "text": [
      "Array a:\n",
      "[[[0.16254161 0.37610328 0.24565589 0.01585035 0.13605578]\n",
      "  [0.75009274 0.53888482 0.29081214 0.55879196 0.70471459]\n",
      "  [0.58701225 0.17089418 0.39182005 0.23402822 0.2968932 ]]\n",
      "\n",
      " [[0.70257463 0.45307874 0.35958638 0.33992493 0.21864607]\n",
      "  [0.27779598 0.60931423 0.87540993 0.86748633 0.05230093]\n",
      "  [0.63038309 0.69266262 0.45547073 0.41484404 0.3133284 ]]]\n",
      "Array d (a + c):\n",
      "[[[1.16254161 1.37610328 1.24565589 1.01585035 1.13605578]\n",
      "  [1.75009274 1.53888482 1.29081214 1.55879196 1.70471459]\n",
      "  [1.58701225 1.17089418 1.39182005 1.23402822 1.2968932 ]]\n",
      "\n",
      " [[1.70257463 1.45307874 1.35958638 1.33992493 1.21864607]\n",
      "  [1.27779598 1.60931423 1.87540993 1.86748633 1.05230093]\n",
      "  [1.63038309 1.69266262 1.45547073 1.41484404 1.3133284 ]]]\n"
     ]
    }
   ],
   "source": [
    "### [your code here]\n",
    "print(\"Array a:\")\n",
    "print(a)\n",
    "print(\"Array d (a + c):\")\n",
    "print(d)\n",
    "# d contains values from a plus 1 (from b)."
   ]
  },
  {
   "cell_type": "markdown",
   "metadata": {},
   "source": [
    "\n",
    "### 12. Multiply a and c. Assign the result to e.\n"
   ]
  },
  {
   "cell_type": "code",
   "execution_count": 36,
   "metadata": {},
   "outputs": [],
   "source": [
    "### [your code here]\n",
    "e = a * c  # Element-wise multiplication"
   ]
  },
  {
   "cell_type": "markdown",
   "metadata": {},
   "source": [
    "\n",
    "\n",
    "### 13. Does e equal to a? Why or why not?\n"
   ]
  },
  {
   "cell_type": "code",
   "execution_count": 39,
   "metadata": {},
   "outputs": [
    {
     "name": "stdout",
     "output_type": "stream",
     "text": [
      "True\n"
     ]
    }
   ],
   "source": [
    "### [your code here]\n",
    "print(np.array_equal(e, a))  # Check if e is equal to a\n",
    "# Yes, e equals a because multiplying by 1 does not change the values.\n"
   ]
  },
  {
   "cell_type": "markdown",
   "metadata": {},
   "source": [
    "\n",
    "\n",
    "### 14. Identify the max, min, and mean values in d. Assign those values to variables \"d_max\", \"d_min\", and \"d_mean\"\n"
   ]
  },
  {
   "cell_type": "code",
   "execution_count": 42,
   "metadata": {},
   "outputs": [],
   "source": [
    "### [your code here]\n",
    "d_max = np.max(d)\n",
    "d_min = np.min(d)\n",
    "d_mean = np.mean(d)\n"
   ]
  },
  {
   "cell_type": "markdown",
   "metadata": {},
   "source": [
    "\n",
    "### 15. Now we want to label the values in d. First create an empty array \"f\" with the same shape (i.e. 2x3x5) as d using `np.empty`.\n"
   ]
  },
  {
   "cell_type": "code",
   "execution_count": 45,
   "metadata": {},
   "outputs": [],
   "source": [
    "### [your code here]\n",
    "f = np.empty(d.shape)"
   ]
  },
  {
   "cell_type": "markdown",
   "metadata": {},
   "source": [
    "\n",
    "\n",
    "\n",
    "### 16. Populate the values in f. For each value in d, if it's larger than d_min but smaller than d_mean, assign 25 to the corresponding value in f.\n",
    "If a value in d is larger than d_mean but smaller than d_max, assign 75 to the corresponding value in f.\n",
    "If a value equals to d_mean, assign 50 to the corresponding value in f.\n",
    "Assign 0 to the corresponding value(s) in f for d_min in d.\n",
    "Assign 100 to the corresponding value(s) in f for d_max in d.\n",
    "In the end, f should have only the following values: 0, 25, 50, 75, and 100.\n",
    "Note: you don't have to use Numpy in this question.\n",
    "\n"
   ]
  },
  {
   "cell_type": "code",
   "execution_count": 48,
   "metadata": {},
   "outputs": [],
   "source": [
    "### [your code here]\n",
    "for i in range(d.shape[0]):\n",
    "    for j in range(d.shape[1]):\n",
    "        for k in range(d.shape[2]):\n",
    "            if d_min < d[i, j, k] < d_mean:\n",
    "                f[i, j, k] = 25\n",
    "            elif d_mean < d[i, j, k] < d_max:\n",
    "                f[i, j, k] = 75\n",
    "            elif d[i, j, k] == d_mean:\n",
    "                f[i, j, k] = 50\n",
    "            elif d[i, j, k] == d_min:\n",
    "                f[i, j, k] = 0\n",
    "            elif d[i, j, k] == d_max:\n",
    "                f[i, j, k] = 100"
   ]
  },
  {
   "cell_type": "markdown",
   "metadata": {},
   "source": [
    "\n",
    "\n",
    "\n",
    "\n",
    "### 17. Print d and f. Do you have your expected f?\n",
    "For instance, if your d is:\n",
    "array([[[1.85836099, 1.67064465, 1.62576044, 1.40243961, 1.88454931],\n",
    "        [1.75354326, 1.69403643, 1.36729252, 1.61415071, 1.12104981],\n",
    "        [1.72201435, 1.1862918 , 1.87078449, 1.7726778 , 1.88180042]],\n",
    "\n",
    "       [[1.44747908, 1.31673383, 1.02000951, 1.52218947, 1.97066381],\n",
    "        [1.79129243, 1.74983003, 1.96028037, 1.85166831, 1.65450881],\n",
    "        [1.18068344, 1.9587381 , 1.00656599, 1.93402165, 1.73514584]]])\n",
    "\n",
    "Your f should be:\n",
    "array([[[ 75.,  75.,  75.,  25.,  75.],\n",
    "        [ 75.,  75.,  25.,  25.,  25.],\n",
    "        [ 75.,  25.,  75.,  75.,  75.]],\n",
    "\n",
    "       [[ 25.,  25.,  25.,  25., 100.],\n",
    "        [ 75.,  75.,  75.,  75.,  75.],\n",
    "        [ 25.,  75.,   0.,  75.,  75.]]])\n",
    "\n"
   ]
  },
  {
   "cell_type": "code",
   "execution_count": 51,
   "metadata": {},
   "outputs": [
    {
     "name": "stdout",
     "output_type": "stream",
     "text": [
      "Array d:\n",
      "[[[1.16254161 1.37610328 1.24565589 1.01585035 1.13605578]\n",
      "  [1.75009274 1.53888482 1.29081214 1.55879196 1.70471459]\n",
      "  [1.58701225 1.17089418 1.39182005 1.23402822 1.2968932 ]]\n",
      "\n",
      " [[1.70257463 1.45307874 1.35958638 1.33992493 1.21864607]\n",
      "  [1.27779598 1.60931423 1.87540993 1.86748633 1.05230093]\n",
      "  [1.63038309 1.69266262 1.45547073 1.41484404 1.3133284 ]]]\n",
      "Array f:\n",
      "[[[ 25.  25.  25.   0.  25.]\n",
      "  [ 75.  75.  25.  75.  75.]\n",
      "  [ 75.  25.  25.  25.  25.]]\n",
      "\n",
      " [[ 75.  75.  25.  25.  25.]\n",
      "  [ 25.  75. 100.  75.  25.]\n",
      "  [ 75.  75.  75.  25.  25.]]]\n"
     ]
    }
   ],
   "source": [
    "### [your code here]\n",
    "print(\"Array d:\")\n",
    "print(d)\n",
    "print(\"Array f:\")\n",
    "print(f)"
   ]
  },
  {
   "cell_type": "markdown",
   "metadata": {},
   "source": [
    "### 18. Bonus question: instead of using numbers (i.e. 0, 25, 50, 75, and 100), how to use string values \n",
    "(\"A\", \"B\", \"C\", \"D\", and \"E\") to label the array elements? You are expecting the result to be:\n",
    "array([[[ 'D',  'D',  'D',  'B',  'D'],\n",
    "        [ 'D',  'D',  'B',  'B',  'B'],\n",
    "        [ 'D',  'B',  'D',  'D',  'D']],\n",
    "\n",
    "       [[ 'B',  'B',  'B',  'B',  'E'],\n",
    "        [ 'D',  'D',  'D',  'D',  'D'],\n",
    "        [ 'B',  'D',   'A',  'D', 'D']]])\n",
    "Again, you don't need Numpy in this question."
   ]
  },
  {
   "cell_type": "code",
   "execution_count": 56,
   "metadata": {},
   "outputs": [
    {
     "name": "stdout",
     "output_type": "stream",
     "text": [
      "String array f:\n",
      "[['B', 'B', 'B', 'A', 'B'], ['D', 'D', 'B', 'D', 'D'], ['D', 'B', 'B', 'B', 'B']]\n",
      "[['D', 'D', 'B', 'B', 'B'], ['B', 'D', 'E', 'D', 'B'], ['D', 'D', 'D', 'B', 'B']]\n"
     ]
    }
   ],
   "source": [
    "### [your code here]\n",
    "# Create an empty list for strings with the same shape as d\n",
    "f_str = [[['' for _ in range(d.shape[2])] for _ in range(d.shape[1])] for _ in range(d.shape[0])]\n",
    "\n",
    "# Populate the values in f_str based on the conditions\n",
    "for i in range(d.shape[0]):\n",
    "    for j in range(d.shape[1]):\n",
    "        for k in range(d.shape[2]):\n",
    "            if d_min < d[i, j, k] < d_mean:\n",
    "                f_str[i][j][k] = \"B\"\n",
    "            elif d_mean < d[i, j, k] < d_max:\n",
    "                f_str[i][j][k] = \"D\"\n",
    "            elif d[i, j, k] == d_mean:\n",
    "                f_str[i][j][k] = \"C\"\n",
    "            elif d[i, j, k] == d_min:\n",
    "                f_str[i][j][k] = \"A\"\n",
    "            elif d[i, j, k] == d_max:\n",
    "                f_str[i][j][k] = \"E\"\n",
    "\n",
    "print(\"String array f:\")\n",
    "for layer in f_str:\n",
    "    print(layer)"
   ]
  },
  {
   "cell_type": "code",
   "execution_count": null,
   "metadata": {},
   "outputs": [],
   "source": []
  }
 ],
 "metadata": {
  "kernelspec": {
   "display_name": "Python [conda env:base] *",
   "language": "python",
   "name": "conda-base-py"
  },
  "language_info": {
   "codemirror_mode": {
    "name": "ipython",
    "version": 3
   },
   "file_extension": ".py",
   "mimetype": "text/x-python",
   "name": "python",
   "nbconvert_exporter": "python",
   "pygments_lexer": "ipython3",
   "version": "3.12.7"
  }
 },
 "nbformat": 4,
 "nbformat_minor": 4
}
