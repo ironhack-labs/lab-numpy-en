{
 "cells": [
  {
   "cell_type": "markdown",
   "metadata": {},
   "source": [
    "# Lab | Numpy Deep Dive"
   ]
  },
  {
   "cell_type": "markdown",
   "metadata": {},
   "source": [
    "### 1. Import the NUMPY package under the name np.\n"
   ]
  },
  {
   "cell_type": "code",
   "execution_count": 2,
   "metadata": {},
   "outputs": [
    {
     "name": "stdout",
     "output_type": "stream",
     "text": [
      "arry: [ 1  2  3  4  5  6  7  8  9 10]\n",
      "avg : 5.5\n"
     ]
    }
   ],
   "source": [
    "import numpy as np\n",
    "\n",
    "# إنشاء مصفوفة NumPy من الأعداد من 1 إلى 10\n",
    "arr = np.array([1, 2, 3, 4, 5, 6, 7, 8, 9, 10])\n",
    "\n",
    "# حساب المتوسط الحسابي لعناصر المصفوفة\n",
    "mean_value = np.mean(arr)\n",
    "\n",
    "# طباعة النتيجة\n",
    "print(\"arry:\", arr)\n",
    "print(\"avg :\", mean_value)\n"
   ]
  },
  {
   "cell_type": "markdown",
   "metadata": {},
   "source": [
    "\n",
    "\n",
    "### 2. Print the NUMPY version and the configuration.\n"
   ]
  },
  {
   "cell_type": "code",
   "execution_count": 3,
   "metadata": {},
   "outputs": [
    {
     "name": "stdout",
     "output_type": "stream",
     "text": [
      "NumPy Version: 1.26.4\n",
      "Build Dependencies:\n",
      "  blas:\n",
      "    detection method: pkgconfig\n",
      "    found: true\n",
      "    include directory: /Applications/anaconda3/include\n",
      "    lib directory: /Applications/anaconda3/lib\n",
      "    name: openblas\n",
      "    openblas configuration: USE_64BITINT= DYNAMIC_ARCH=1 DYNAMIC_OLDER= NO_CBLAS=\n",
      "      NO_LAPACK=0 NO_LAPACKE= NO_AFFINITY=1 USE_OPENMP=0 CORE2 MAX_THREADS=128\n",
      "    pc file directory: /Applications/anaconda3/lib/pkgconfig\n",
      "    version: 0.3.21\n",
      "  lapack:\n",
      "    detection method: internal\n",
      "    found: true\n",
      "    include directory: unknown\n",
      "    lib directory: unknown\n",
      "    name: dep4429404432\n",
      "    openblas configuration: unknown\n",
      "    pc file directory: unknown\n",
      "    version: 1.26.4\n",
      "Compilers:\n",
      "  c:\n",
      "    args: -march=core2, -mtune=haswell, -mssse3, -ftree-vectorize, -fPIC, -fPIE, -fstack-protector-strong,\n",
      "      -O2, -pipe, -isystem, /Applications/anaconda3/include, -fdebug-prefix-map=/var/folders/c_/qfmhj66j0tn016nkx_th4hxm0000gp/T/abs_b7iptlxgej/croot/numpy_and_numpy_base_1708638622773/work=/usr/local/src/conda/numpy-base-1.26.4,\n",
      "      -fdebug-prefix-map=/Applications/anaconda3=/usr/local/src/conda-prefix, -D_FORTIFY_SOURCE=2,\n",
      "      -isystem, /Applications/anaconda3/include, -mmacosx-version-min=10.9\n",
      "    commands: x86_64-apple-darwin13.4.0-clang\n",
      "    linker: ld64\n",
      "    linker args: -Wl,-pie, -Wl,-headerpad_max_install_names, -Wl,-dead_strip_dylibs,\n",
      "      -Wl,-rpath,/Applications/anaconda3/lib, -L/Applications/anaconda3/lib, -march=core2,\n",
      "      -mtune=haswell, -mssse3, -ftree-vectorize, -fPIC, -fPIE, -fstack-protector-strong,\n",
      "      -O2, -pipe, -isystem, /Applications/anaconda3/include, -fdebug-prefix-map=/var/folders/c_/qfmhj66j0tn016nkx_th4hxm0000gp/T/abs_b7iptlxgej/croot/numpy_and_numpy_base_1708638622773/work=/usr/local/src/conda/numpy-base-1.26.4,\n",
      "      -fdebug-prefix-map=/Applications/anaconda3=/usr/local/src/conda-prefix, -D_FORTIFY_SOURCE=2,\n",
      "      -isystem, /Applications/anaconda3/include, -mmacosx-version-min=10.9\n",
      "    name: clang\n",
      "    version: 14.0.6\n",
      "  c++:\n",
      "    args: -march=core2, -mtune=haswell, -mssse3, -ftree-vectorize, -fPIC, -fPIE, -fstack-protector-strong,\n",
      "      -O2, -pipe, -stdlib=libc++, -fvisibility-inlines-hidden, -fmessage-length=0,\n",
      "      -isystem, /Applications/anaconda3/include, -fdebug-prefix-map=/var/folders/c_/qfmhj66j0tn016nkx_th4hxm0000gp/T/abs_b7iptlxgej/croot/numpy_and_numpy_base_1708638622773/work=/usr/local/src/conda/numpy-base-1.26.4,\n",
      "      -fdebug-prefix-map=/Applications/anaconda3=/usr/local/src/conda-prefix, -D_FORTIFY_SOURCE=2,\n",
      "      -isystem, /Applications/anaconda3/include, -mmacosx-version-min=10.9\n",
      "    commands: x86_64-apple-darwin13.4.0-clang++\n",
      "    linker: ld64\n",
      "    linker args: -Wl,-pie, -Wl,-headerpad_max_install_names, -Wl,-dead_strip_dylibs,\n",
      "      -Wl,-rpath,/Applications/anaconda3/lib, -L/Applications/anaconda3/lib, -march=core2,\n",
      "      -mtune=haswell, -mssse3, -ftree-vectorize, -fPIC, -fPIE, -fstack-protector-strong,\n",
      "      -O2, -pipe, -stdlib=libc++, -fvisibility-inlines-hidden, -fmessage-length=0,\n",
      "      -isystem, /Applications/anaconda3/include, -fdebug-prefix-map=/var/folders/c_/qfmhj66j0tn016nkx_th4hxm0000gp/T/abs_b7iptlxgej/croot/numpy_and_numpy_base_1708638622773/work=/usr/local/src/conda/numpy-base-1.26.4,\n",
      "      -fdebug-prefix-map=/Applications/anaconda3=/usr/local/src/conda-prefix, -D_FORTIFY_SOURCE=2,\n",
      "      -isystem, /Applications/anaconda3/include, -mmacosx-version-min=10.9\n",
      "    name: clang\n",
      "    version: 14.0.6\n",
      "  cython:\n",
      "    commands: cython\n",
      "    linker: cython\n",
      "    name: cython\n",
      "    version: 3.0.8\n",
      "Machine Information:\n",
      "  build:\n",
      "    cpu: x86_64\n",
      "    endian: little\n",
      "    family: x86_64\n",
      "    system: darwin\n",
      "  host:\n",
      "    cpu: x86_64\n",
      "    endian: little\n",
      "    family: x86_64\n",
      "    system: darwin\n",
      "Python Information:\n",
      "  path: /Applications/anaconda3/bin/python\n",
      "  version: '3.12'\n",
      "SIMD Extensions:\n",
      "  baseline:\n",
      "  - SSE\n",
      "  - SSE2\n",
      "  - SSE3\n",
      "  - SSSE3\n",
      "  found:\n",
      "  - SSE41\n",
      "  - POPCNT\n",
      "  - SSE42\n",
      "  - AVX\n",
      "  - F16C\n",
      "  - FMA3\n",
      "  - AVX2\n",
      "  not found:\n",
      "  - AVX512F\n",
      "  - AVX512CD\n",
      "  - AVX512_KNL\n",
      "  - AVX512_SKX\n",
      "  - AVX512_CLX\n",
      "  - AVX512_CNL\n",
      "  - AVX512_ICL\n",
      "\n"
     ]
    }
   ],
   "source": [
    "import numpy as np\n",
    "\n",
    "# طباعة إصدار NumPy\n",
    "print(\"NumPy Version:\", np.__version__)\n",
    "\n",
    "# طباعة معلومات التكوين\n",
    "np.show_config()\n"
   ]
  },
  {
   "cell_type": "markdown",
   "metadata": {},
   "source": [
    "### 3. Generate a 2x3x5 3-dimensional array with random values. Assign the array to variable \"a\"\n",
    "Challenge: there are at least three easy ways that use numpy to generate random arrays. How many ways can you find?\n"
   ]
  },
  {
   "cell_type": "code",
   "execution_count": 4,
   "metadata": {},
   "outputs": [
    {
     "name": "stdout",
     "output_type": "stream",
     "text": [
      "Random values between 0 and 1:\n",
      " [[[0.58133973 0.46760709 0.34744814 0.19773689 0.06047639]\n",
      "  [0.83416158 0.63294538 0.48377756 0.35826119 0.02885552]\n",
      "  [0.83735342 0.93193799 0.89582637 0.3989592  0.05003475]]\n",
      "\n",
      " [[0.26116687 0.11244309 0.02747999 0.71143113 0.22902975]\n",
      "  [0.22694323 0.69219316 0.96897665 0.31383937 0.45281089]\n",
      "  [0.34344612 0.11869014 0.03760069 0.79431173 0.23259772]]] \n",
      "\n",
      "Normally distributed random values:\n",
      " [[[ 0.23341947 -0.44473132  0.11400454 -1.65780002 -0.51367849]\n",
      "  [ 0.34667285  2.05371735 -1.39267871  1.76850682 -0.73232435]\n",
      "  [ 2.57132883 -0.00261655  1.17041228  0.37445159 -0.10009376]]\n",
      "\n",
      " [[-0.68810784 -0.03111867  0.07767973 -0.13151246 -0.25391031]\n",
      "  [ 1.84674872  0.47675313  0.05000085  0.78471379 -0.01236775]\n",
      "  [-0.5007185  -0.57556434  1.92848441 -0.18895996 -0.65307805]]] \n",
      "\n",
      "Random integer values between 0 and 9:\n",
      " [[[7 5 1 3 8]\n",
      "  [6 3 3 1 5]\n",
      "  [2 4 5 8 5]]\n",
      "\n",
      " [[4 9 3 8 2]\n",
      "  [1 9 2 3 5]\n",
      "  [8 9 1 7 1]]]\n"
     ]
    }
   ],
   "source": [
    "import numpy as np\n",
    "\n",
    "# الطريقة 1: np.random.rand() - أعداد عشرية بين 0 و 1\n",
    "a1 = np.random.rand(2, 3, 5)\n",
    "print(\"Random values between 0 and 1:\\n\", a1, \"\\n\")\n",
    "\n",
    "# الطريقة 2: np.random.randn() - توزيع طبيعي (قد تحتوي على قيم سالبة)\n",
    "a2 = np.random.randn(2, 3, 5)\n",
    "print(\"Normally distributed random values:\\n\", a2, \"\\n\")\n",
    "\n",
    "# الطريقة 3: np.random.randint() - أعداد صحيحة عشوائية بين 0 و 9\n",
    "a3 = np.random.randint(0, 10, (2, 3, 5))\n",
    "print(\"Random integer values between 0 and 9:\\n\", a3)\n"
   ]
  },
  {
   "cell_type": "markdown",
   "metadata": {},
   "source": [
    "\n",
    "### 4. Print a.\n"
   ]
  },
  {
   "cell_type": "code",
   "execution_count": 6,
   "metadata": {},
   "outputs": [
    {
     "name": "stdout",
     "output_type": "stream",
     "text": [
      "Array a1:\n",
      " [[[0.58133973 0.46760709 0.34744814 0.19773689 0.06047639]\n",
      "  [0.83416158 0.63294538 0.48377756 0.35826119 0.02885552]\n",
      "  [0.83735342 0.93193799 0.89582637 0.3989592  0.05003475]]\n",
      "\n",
      " [[0.26116687 0.11244309 0.02747999 0.71143113 0.22902975]\n",
      "  [0.22694323 0.69219316 0.96897665 0.31383937 0.45281089]\n",
      "  [0.34344612 0.11869014 0.03760069 0.79431173 0.23259772]]]\n",
      "\n",
      "Array a2:\n",
      " [[[ 0.23341947 -0.44473132  0.11400454 -1.65780002 -0.51367849]\n",
      "  [ 0.34667285  2.05371735 -1.39267871  1.76850682 -0.73232435]\n",
      "  [ 2.57132883 -0.00261655  1.17041228  0.37445159 -0.10009376]]\n",
      "\n",
      " [[-0.68810784 -0.03111867  0.07767973 -0.13151246 -0.25391031]\n",
      "  [ 1.84674872  0.47675313  0.05000085  0.78471379 -0.01236775]\n",
      "  [-0.5007185  -0.57556434  1.92848441 -0.18895996 -0.65307805]]]\n",
      "\n",
      "Array a3:\n",
      " [[[7 5 1 3 8]\n",
      "  [6 3 3 1 5]\n",
      "  [2 4 5 8 5]]\n",
      "\n",
      " [[4 9 3 8 2]\n",
      "  [1 9 2 3 5]\n",
      "  [8 9 1 7 1]]]\n"
     ]
    }
   ],
   "source": [
    "print(\"Array a1:\\n\", a1)  # مصفوفة بأرقام عشوائية بين 0 و 1\n",
    "print(\"\\nArray a2:\\n\", a2)  # مصفوفة بتوزيع طبيعي\n",
    "print(\"\\nArray a3:\\n\", a3)  # مصفوفة بأرقام صحيحة بين 0 و 9\n"
   ]
  },
  {
   "cell_type": "markdown",
   "metadata": {},
   "source": [
    "### 5. Create a 5x2x3 3-dimensional array with all values equaling 1.\n",
    "### Assign the array to variable \"b\"\n"
   ]
  },
  {
   "cell_type": "code",
   "execution_count": 8,
   "metadata": {},
   "outputs": [
    {
     "name": "stdout",
     "output_type": "stream",
     "text": [
      "Array b:\n",
      " [[[1 1 1]\n",
      "  [1 1 1]]\n",
      "\n",
      " [[1 1 1]\n",
      "  [1 1 1]]\n",
      "\n",
      " [[1 1 1]\n",
      "  [1 1 1]]\n",
      "\n",
      " [[1 1 1]\n",
      "  [1 1 1]]\n",
      "\n",
      " [[1 1 1]\n",
      "  [1 1 1]]]\n"
     ]
    }
   ],
   "source": [
    "import numpy as np\n",
    "\n",
    "# إنشاء المصفوفة المكونة من 1\n",
    "b = np.ones((5, 2, 3), dtype=int)\n",
    "\n",
    "# طباعة المصفوفة\n",
    "print(\"Array b:\\n\", b)\n"
   ]
  },
  {
   "cell_type": "markdown",
   "metadata": {},
   "source": [
    "\n",
    "### 6. Print b.\n"
   ]
  },
  {
   "cell_type": "code",
   "execution_count": 9,
   "metadata": {},
   "outputs": [
    {
     "name": "stdout",
     "output_type": "stream",
     "text": [
      "Array b:\n",
      " [[[1 1 1]\n",
      "  [1 1 1]]\n",
      "\n",
      " [[1 1 1]\n",
      "  [1 1 1]]\n",
      "\n",
      " [[1 1 1]\n",
      "  [1 1 1]]\n",
      "\n",
      " [[1 1 1]\n",
      "  [1 1 1]]\n",
      "\n",
      " [[1 1 1]\n",
      "  [1 1 1]]]\n"
     ]
    }
   ],
   "source": [
    "import numpy as np\n",
    "\n",
    "# إنشاء مصفوفة 5x2x3 تحتوي على القيم 1\n",
    "b = np.ones((5, 2, 3), dtype=int)\n",
    "\n",
    "# طباعة المصفوفة\n",
    "print(\"Array b:\\n\", b)\n"
   ]
  },
  {
   "cell_type": "markdown",
   "metadata": {},
   "source": [
    "\n",
    "### 7. Do a and b have the same size? How do you prove that in Python code?\n"
   ]
  },
  {
   "cell_type": "code",
   "execution_count": 12,
   "metadata": {},
   "outputs": [
    {
     "name": "stdout",
     "output_type": "stream",
     "text": [
      "Yes, a and b have the same size: 30\n"
     ]
    }
   ],
   "source": [
    "import numpy as np\n",
    "\n",
    "# توليد المصفوفة العشوائية a\n",
    "a = np.random.rand(2, 3, 5)\n",
    "\n",
    "# توليد المصفوفة b\n",
    "b = np.ones((5, 2, 3))\n",
    "\n",
    "# التحقق مما إذا كانت a و b لهما نفس الحجم\n",
    "if a.size == b.size:\n",
    "    print(\"Yes, a and b have the same size:\", a.size)\n",
    "else:\n",
    "    print(\"No, a and b have different sizes. a:\", a.size, \", b:\", b.size)\n"
   ]
  },
  {
   "cell_type": "markdown",
   "metadata": {},
   "source": [
    "\n",
    "### 8. Are you able to add a and b? Why or why not?\n"
   ]
  },
  {
   "cell_type": "code",
   "execution_count": 13,
   "metadata": {},
   "outputs": [
    {
     "name": "stdout",
     "output_type": "stream",
     "text": [
      "Error: operands could not be broadcast together with shapes (2,3,5) (5,2,3) \n"
     ]
    }
   ],
   "source": [
    "import numpy as np\n",
    "\n",
    "# توليد المصفوفات\n",
    "a = np.random.rand(2, 3, 5)\n",
    "b = np.ones((5, 2, 3))\n",
    "\n",
    "# محاولة جمع المصفوفات\n",
    "try:\n",
    "    result = a + b\n",
    "    print(\"Addition successful\")\n",
    "except ValueError as e:\n",
    "    print(\"Error:\", e)\n"
   ]
  },
  {
   "cell_type": "markdown",
   "metadata": {},
   "source": [
    "\n",
    "\n",
    "### 9. Transpose b so that it has the same structure of a (i.e. become a 2x3x5 array). Assign the transposed array to varialbe \"c\".\n"
   ]
  },
  {
   "cell_type": "code",
   "execution_count": 16,
   "metadata": {},
   "outputs": [
    {
     "name": "stdout",
     "output_type": "stream",
     "text": [
      "Array c (Transposed b):\n",
      " [[[1. 1. 1. 1. 1.]\n",
      "  [1. 1. 1. 1. 1.]\n",
      "  [1. 1. 1. 1. 1.]]\n",
      "\n",
      " [[1. 1. 1. 1. 1.]\n",
      "  [1. 1. 1. 1. 1.]\n",
      "  [1. 1. 1. 1. 1.]]]\n"
     ]
    }
   ],
   "source": [
    "import numpy as np\n",
    "\n",
    "# إنشاء المصفوفات a و b\n",
    "a = np.random.rand(2, 3, 5)\n",
    "b = np.ones((5, 2, 3))\n",
    "\n",
    "# تحويل المصفوفة b بحيث يكون شكلها (2, 3, 5)\n",
    "c = b.transpose(1, 2, 0)\n",
    "\n",
    "# عرض المصفوفة c\n",
    "print(\"Array c (Transposed b):\\n\", c)\n"
   ]
  },
  {
   "cell_type": "markdown",
   "metadata": {},
   "source": [
    "\n",
    "### 10. Try to add a and c. Now it should work. Assign the sum to variable \"d\". But why does it work now?\n"
   ]
  },
  {
   "cell_type": "code",
   "execution_count": 17,
   "metadata": {},
   "outputs": [
    {
     "name": "stdout",
     "output_type": "stream",
     "text": [
      "Array d (sum of a and c):\n",
      " [[[1.9958963  1.63786022 1.45190185 1.44438638 1.83887339]\n",
      "  [1.5613923  1.09187661 1.2941473  1.06702323 1.54964608]\n",
      "  [1.59428871 1.07725127 1.1476859  1.22476852 1.23433522]]\n",
      "\n",
      " [[1.53849503 1.83396169 1.3737791  1.07404518 1.08175989]\n",
      "  [1.37756883 1.8204297  1.67952757 1.08229761 1.92186778]\n",
      "  [1.53642873 1.65200022 1.31227451 1.44842012 1.49978644]]]\n"
     ]
    }
   ],
   "source": [
    "# إضافة المصفوفات a و c\n",
    "d = a + c\n",
    "\n",
    "# عرض المصفوفة الناتجة d\n",
    "print(\"Array d (sum of a and c):\\n\", d)\n"
   ]
  },
  {
   "cell_type": "markdown",
   "metadata": {},
   "source": [
    "\n",
    "### 11. Print a and d. Notice the difference and relation of the two array in terms of the values? Explain.\n"
   ]
  },
  {
   "cell_type": "code",
   "execution_count": 18,
   "metadata": {},
   "outputs": [
    {
     "name": "stdout",
     "output_type": "stream",
     "text": [
      "Array a:\n",
      " [[[0.9958963  0.63786022 0.45190185 0.44438638 0.83887339]\n",
      "  [0.5613923  0.09187661 0.2941473  0.06702323 0.54964608]\n",
      "  [0.59428871 0.07725127 0.1476859  0.22476852 0.23433522]]\n",
      "\n",
      " [[0.53849503 0.83396169 0.3737791  0.07404518 0.08175989]\n",
      "  [0.37756883 0.8204297  0.67952757 0.08229761 0.92186778]\n",
      "  [0.53642873 0.65200022 0.31227451 0.44842012 0.49978644]]]\n",
      "\n",
      "Array d (sum of a and c):\n",
      " [[[1.9958963  1.63786022 1.45190185 1.44438638 1.83887339]\n",
      "  [1.5613923  1.09187661 1.2941473  1.06702323 1.54964608]\n",
      "  [1.59428871 1.07725127 1.1476859  1.22476852 1.23433522]]\n",
      "\n",
      " [[1.53849503 1.83396169 1.3737791  1.07404518 1.08175989]\n",
      "  [1.37756883 1.8204297  1.67952757 1.08229761 1.92186778]\n",
      "  [1.53642873 1.65200022 1.31227451 1.44842012 1.49978644]]]\n"
     ]
    }
   ],
   "source": [
    "# طباعة المصفوفات a و d لمقارنة القيم\n",
    "print(\"Array a:\\n\", a)\n",
    "print(\"\\nArray d (sum of a and c):\\n\", d)\n"
   ]
  },
  {
   "cell_type": "markdown",
   "metadata": {},
   "source": [
    "\n",
    "### 12. Multiply a and c. Assign the result to e.\n"
   ]
  },
  {
   "cell_type": "code",
   "execution_count": 19,
   "metadata": {},
   "outputs": [
    {
     "name": "stdout",
     "output_type": "stream",
     "text": [
      "Array e (product of a and c):\n",
      " [[[0.9958963  0.63786022 0.45190185 0.44438638 0.83887339]\n",
      "  [0.5613923  0.09187661 0.2941473  0.06702323 0.54964608]\n",
      "  [0.59428871 0.07725127 0.1476859  0.22476852 0.23433522]]\n",
      "\n",
      " [[0.53849503 0.83396169 0.3737791  0.07404518 0.08175989]\n",
      "  [0.37756883 0.8204297  0.67952757 0.08229761 0.92186778]\n",
      "  [0.53642873 0.65200022 0.31227451 0.44842012 0.49978644]]]\n"
     ]
    }
   ],
   "source": [
    "# ضرب المصفوفات a و c\n",
    "e = a * c\n",
    "\n",
    "# طباعة المصفوفة e\n",
    "print(\"Array e (product of a and c):\\n\", e)\n"
   ]
  },
  {
   "cell_type": "markdown",
   "metadata": {},
   "source": [
    "\n",
    "\n",
    "### 13. Does e equal to a? Why or why not?\n"
   ]
  },
  {
   "cell_type": "code",
   "execution_count": 20,
   "metadata": {},
   "outputs": [
    {
     "name": "stdout",
     "output_type": "stream",
     "text": [
      "a = \n",
      " [[[0.59112043 0.06383263 0.95643873 0.78028155 0.70456497]\n",
      "  [0.69591156 0.67518895 0.77220022 0.37535682 0.85393666]\n",
      "  [0.51708058 0.10856527 0.08216533 0.08159323 0.19049193]]\n",
      "\n",
      " [[0.45954447 0.0679394  0.04534068 0.21700811 0.32040164]\n",
      "  [0.07575653 0.19592889 0.44580491 0.80531965 0.63153968]\n",
      "  [0.44318224 0.57428766 0.47446331 0.07259019 0.0078003 ]]]\n",
      "\n",
      "Multiplication of a and c (e): \n",
      " [[[0.59112043 0.06383263 0.95643873 0.78028155 0.70456497]\n",
      "  [0.69591156 0.67518895 0.77220022 0.37535682 0.85393666]\n",
      "  [0.51708058 0.10856527 0.08216533 0.08159323 0.19049193]]\n",
      "\n",
      " [[0.45954447 0.0679394  0.04534068 0.21700811 0.32040164]\n",
      "  [0.07575653 0.19592889 0.44580491 0.80531965 0.63153968]\n",
      "  [0.44318224 0.57428766 0.47446331 0.07259019 0.0078003 ]]]\n",
      "\n",
      "Is e equal to a? True\n"
     ]
    }
   ],
   "source": [
    "import numpy as np\n",
    "\n",
    "# إنشاء المصفوفة a (2x3x5) مع قيم عشوائية\n",
    "a = np.random.random((2, 3, 5))\n",
    "\n",
    "# إنشاء المصفوفة b (5x2x3) تحتوي على 1 في جميع العناصر\n",
    "b = np.ones((5, 2, 3))\n",
    "\n",
    "# تحويل b إلى الشكل المطلوب (2x3x5)\n",
    "c = b.transpose(1, 2, 0)  # التبديل بين الأبعاد للحصول على نفس شكل a\n",
    "\n",
    "# ضرب a و c\n",
    "e = a * c\n",
    "\n",
    "# طباعة a و e لمقارنة النتائج\n",
    "print(\"a = \\n\", a)\n",
    "print(\"\\nMultiplication of a and c (e): \\n\", e)\n",
    "\n",
    "# التحقق إذا كانت a و e متساويتين\n",
    "print(\"\\nIs e equal to a?\", np.array_equal(a, e))  # يجب أن تكون الإجابة True\n"
   ]
  },
  {
   "cell_type": "markdown",
   "metadata": {},
   "source": [
    "\n",
    "\n",
    "### 14. Identify the max, min, and mean values in d. Assign those values to variables \"d_max\", \"d_min\", and \"d_mean\"\n"
   ]
  },
  {
   "cell_type": "code",
   "execution_count": 21,
   "metadata": {},
   "outputs": [
    {
     "name": "stdout",
     "output_type": "stream",
     "text": [
      "Max value in d: 1.9958962958962112\n",
      "Min value in d: 1.0670232347260211\n",
      "Mean value in d: 1.4481325224238568\n"
     ]
    }
   ],
   "source": [
    "import numpy as np\n",
    "\n",
    "# استخدام دالة max للحصول على القيمة القصوى\n",
    "d_max = np.max(d)\n",
    "\n",
    "# استخدام دالة min للحصول على القيمة الدنيا\n",
    "d_min = np.min(d)\n",
    "\n",
    "# استخدام دالة mean للحصول على المتوسط\n",
    "d_mean = np.mean(d)\n",
    "\n",
    "# طباعة القيم\n",
    "print(\"Max value in d:\", d_max)\n",
    "print(\"Min value in d:\", d_min)\n",
    "print(\"Mean value in d:\", d_mean)\n"
   ]
  },
  {
   "cell_type": "markdown",
   "metadata": {},
   "source": [
    "\n",
    "### 15. Now we want to label the values in d. First create an empty array \"f\" with the same shape (i.e. 2x3x5) as d using `np.empty`.\n"
   ]
  },
  {
   "cell_type": "code",
   "execution_count": 22,
   "metadata": {},
   "outputs": [
    {
     "name": "stdout",
     "output_type": "stream",
     "text": [
      "Array f:\n",
      "[[[0.59112043 0.06383263 0.95643873 0.78028155 0.70456497]\n",
      "  [0.69591156 0.67518895 0.77220022 0.37535682 0.85393666]\n",
      "  [0.51708058 0.10856527 0.08216533 0.08159323 0.19049193]]\n",
      "\n",
      " [[0.45954447 0.0679394  0.04534068 0.21700811 0.32040164]\n",
      "  [0.07575653 0.19592889 0.44580491 0.80531965 0.63153968]\n",
      "  [0.44318224 0.57428766 0.47446331 0.07259019 0.0078003 ]]]\n"
     ]
    }
   ],
   "source": [
    "import numpy as np\n",
    "\n",
    "# إنشاء مصفوفة فارغة بنفس الشكل 2x3x5 كما في d\n",
    "f = np.empty(d.shape)\n",
    "\n",
    "# طباعة المصفوفة الفارغة\n",
    "print(\"Array f:\")\n",
    "print(f)\n"
   ]
  },
  {
   "cell_type": "markdown",
   "metadata": {},
   "source": [
    "\n",
    "\n",
    "\n",
    "### 16. Populate the values in f. For each value in d, if it's larger than d_min but smaller than d_mean, assign 25 to the corresponding value in f.\n",
    "If a value in d is larger than d_mean but smaller than d_max, assign 75 to the corresponding value in f.\n",
    "If a value equals to d_mean, assign 50 to the corresponding value in f.\n",
    "Assign 0 to the corresponding value(s) in f for d_min in d.\n",
    "Assign 100 to the corresponding value(s) in f for d_max in d.\n",
    "In the end, f should have only the following values: 0, 25, 50, 75, and 100.\n",
    "Note: you don't have to use Numpy in this question.\n",
    "\n"
   ]
  },
  {
   "cell_type": "code",
   "execution_count": 23,
   "metadata": {},
   "outputs": [
    {
     "name": "stdout",
     "output_type": "stream",
     "text": [
      "Updated array f:\n",
      "[[[100.  75.  75.  25.  75.]\n",
      "  [ 75.  25.  25.   0.  75.]\n",
      "  [ 75.  25.  25.  25.  25.]]\n",
      "\n",
      " [[ 75.  75.  25.  25.  25.]\n",
      "  [ 25.  75.  75.  25.  75.]\n",
      "  [ 75.  75.  25.  75.  75.]]]\n"
     ]
    }
   ],
   "source": [
    "import numpy as np\n",
    "\n",
    "# إنشاء المصفوفات d و f (تأكد من أن لديك الدالة max و min و mean في المصفوفة d)\n",
    "d_max = np.max(d)\n",
    "d_min = np.min(d)\n",
    "d_mean = np.mean(d)\n",
    "\n",
    "# إنشاء المصفوفة الفارغة f بنفس الشكل\n",
    "f = np.empty(d.shape)\n",
    "\n",
    "# التكرار عبر القيم في d وتحديث الفارغة f بناءً على الشروط\n",
    "for i in range(d.shape[0]):\n",
    "    for j in range(d.shape[1]):\n",
    "        for k in range(d.shape[2]):\n",
    "            value = d[i, j, k]\n",
    "            if value == d_mean:\n",
    "                f[i, j, k] = 50\n",
    "            elif value == d_max:\n",
    "                f[i, j, k] = 100\n",
    "            elif value == d_min:\n",
    "                f[i, j, k] = 0\n",
    "            elif d_min < value < d_mean:\n",
    "                f[i, j, k] = 25\n",
    "            elif d_mean < value < d_max:\n",
    "                f[i, j, k] = 75\n",
    "\n",
    "# طباعة المصفوفة f بعد التحديث\n",
    "print(\"Updated array f:\")\n",
    "print(f)\n"
   ]
  },
  {
   "cell_type": "markdown",
   "metadata": {},
   "source": [
    "\n",
    "\n",
    "\n",
    "\n",
    "### 17. Print d and f. Do you have your expected f?\n",
    "For instance, if your d is:\n",
    "array([[[1.85836099, 1.67064465, 1.62576044, 1.40243961, 1.88454931],\n",
    "        [1.75354326, 1.69403643, 1.36729252, 1.61415071, 1.12104981],\n",
    "        [1.72201435, 1.1862918 , 1.87078449, 1.7726778 , 1.88180042]],\n",
    "\n",
    "       [[1.44747908, 1.31673383, 1.02000951, 1.52218947, 1.97066381],\n",
    "        [1.79129243, 1.74983003, 1.96028037, 1.85166831, 1.65450881],\n",
    "        [1.18068344, 1.9587381 , 1.00656599, 1.93402165, 1.73514584]]])\n",
    "\n",
    "Your f should be:\n",
    "array([[[ 75.,  75.,  75.,  25.,  75.],\n",
    "        [ 75.,  75.,  25.,  25.,  25.],\n",
    "        [ 75.,  25.,  75.,  75.,  75.]],\n",
    "\n",
    "       [[ 25.,  25.,  25.,  25., 100.],\n",
    "        [ 75.,  75.,  75.,  75.,  75.],\n",
    "        [ 25.,  75.,   0.,  75.,  75.]]])\n",
    "\n"
   ]
  },
  {
   "cell_type": "code",
   "execution_count": 25,
   "metadata": {},
   "outputs": [
    {
     "name": "stdout",
     "output_type": "stream",
     "text": [
      "d array:\n",
      "[[[1.85836099 1.67064465 1.62576044 1.40243961 1.88454931]\n",
      "  [1.75354326 1.69403643 1.36729252 1.61415071 1.12104981]\n",
      "  [1.72201435 1.1862918  1.87078449 1.7726778  1.88180042]]\n",
      "\n",
      " [[1.44747908 1.31673383 1.02000951 1.52218947 1.97066381]\n",
      "  [1.79129243 1.74983003 1.96028037 1.85166831 1.65450881]\n",
      "  [1.18068344 1.9587381  1.00656599 1.93402165 1.73514584]]]\n",
      "\n",
      "f array:\n",
      "[[[ 75.  75.  75.  25.  75.]\n",
      "  [ 75.  75.  25.  25.  25.]\n",
      "  [ 75.  25.  75.  75.  75.]]\n",
      "\n",
      " [[ 25.  25.  25.  25. 100.]\n",
      "  [ 75.  75.  75.  75.  75.]\n",
      "  [ 25.  75.   0.  75.  75.]]]\n"
     ]
    }
   ],
   "source": [
    "import numpy as np\n",
    "\n",
    "# إنشاء المصفوفة d مثال\n",
    "d = np.array([[[1.85836099, 1.67064465, 1.62576044, 1.40243961, 1.88454931],\n",
    "               [1.75354326, 1.69403643, 1.36729252, 1.61415071, 1.12104981],\n",
    "               [1.72201435, 1.1862918 , 1.87078449, 1.7726778 , 1.88180042]],\n",
    "              \n",
    "              [[1.44747908, 1.31673383, 1.02000951, 1.52218947, 1.97066381],\n",
    "               [1.79129243, 1.74983003, 1.96028037, 1.85166831, 1.65450881],\n",
    "               [1.18068344, 1.9587381 , 1.00656599, 1.93402165, 1.73514584]]])\n",
    "\n",
    "# حساب القيم العظمى والدنيا والمتوسط\n",
    "d_max = np.max(d)\n",
    "d_min = np.min(d)\n",
    "d_mean = np.mean(d)\n",
    "\n",
    "# إنشاء المصفوفة الفارغة f بنفس الحجم\n",
    "f = np.empty(d.shape)\n",
    "\n",
    "# التكرار عبر القيم في d وتحديث الفارغة f بناءً على الشروط\n",
    "for i in range(d.shape[0]):\n",
    "    for j in range(d.shape[1]):\n",
    "        for k in range(d.shape[2]):\n",
    "            value = d[i, j, k]\n",
    "            if value == d_mean:\n",
    "                f[i, j, k] = 50\n",
    "            elif value == d_max:\n",
    "                f[i, j, k] = 100\n",
    "            elif value == d_min:\n",
    "                f[i, j, k] = 0\n",
    "            elif d_min < value < d_mean:\n",
    "                f[i, j, k] = 25\n",
    "            elif d_mean < value < d_max:\n",
    "                f[i, j, k] = 75\n",
    "\n",
    "# طباعة المصفوفات d و f\n",
    "print(\"d array:\")\n",
    "print(d)\n",
    "\n",
    "print(\"\\nf array:\")\n",
    "print(f)\n"
   ]
  },
  {
   "cell_type": "markdown",
   "metadata": {},
   "source": [
    "### 18. Bonus question: instead of using numbers (i.e. 0, 25, 50, 75, and 100), how to use string values \n",
    "(\"A\", \"B\", \"C\", \"D\", and \"E\") to label the array elements? You are expecting the result to be:\n",
    "array([[[ 'D',  'D',  'D',  'B',  'D'],\n",
    "        [ 'D',  'D',  'B',  'B',  'B'],\n",
    "        [ 'D',  'B',  'D',  'D',  'D']],\n",
    "\n",
    "       [[ 'B',  'B',  'B',  'B',  'E'],\n",
    "        [ 'D',  'D',  'D',  'D',  'D'],\n",
    "        [ 'B',  'D',   'A',  'D', 'D']]])\n",
    "Again, you don't need Numpy in this question."
   ]
  },
  {
   "cell_type": "code",
   "execution_count": 26,
   "metadata": {},
   "outputs": [
    {
     "name": "stdout",
     "output_type": "stream",
     "text": [
      "d array:\n",
      "[[[1.85836099 1.67064465 1.62576044 1.40243961 1.88454931]\n",
      "  [1.75354326 1.69403643 1.36729252 1.61415071 1.12104981]\n",
      "  [1.72201435 1.1862918  1.87078449 1.7726778  1.88180042]]\n",
      "\n",
      " [[1.44747908 1.31673383 1.02000951 1.52218947 1.97066381]\n",
      "  [1.79129243 1.74983003 1.96028037 1.85166831 1.65450881]\n",
      "  [1.18068344 1.9587381  1.00656599 1.93402165 1.73514584]]]\n",
      "\n",
      "f array:\n",
      "[[['D' 'D' 'D' 'B' 'D']\n",
      "  ['D' 'D' 'B' 'B' 'B']\n",
      "  ['D' 'B' 'D' 'D' 'D']]\n",
      "\n",
      " [['B' 'B' 'B' 'B' 'E']\n",
      "  ['D' 'D' 'D' 'D' 'D']\n",
      "  ['B' 'D' 'A' 'D' 'D']]]\n"
     ]
    }
   ],
   "source": [
    "import numpy as np\n",
    "\n",
    "# إنشاء المصفوفة d مثال\n",
    "d = np.array([[[1.85836099, 1.67064465, 1.62576044, 1.40243961, 1.88454931],\n",
    "               [1.75354326, 1.69403643, 1.36729252, 1.61415071, 1.12104981],\n",
    "               [1.72201435, 1.1862918 , 1.87078449, 1.7726778 , 1.88180042]],\n",
    "              \n",
    "              [[1.44747908, 1.31673383, 1.02000951, 1.52218947, 1.97066381],\n",
    "               [1.79129243, 1.74983003, 1.96028037, 1.85166831, 1.65450881],\n",
    "               [1.18068344, 1.9587381 , 1.00656599, 1.93402165, 1.73514584]]])\n",
    "\n",
    "# حساب القيم العظمى والدنيا والمتوسط\n",
    "d_max = np.max(d)\n",
    "d_min = np.min(d)\n",
    "d_mean = np.mean(d)\n",
    "\n",
    "# إنشاء المصفوفة الفارغة f بنفس الحجم ولكن باستخدام نصوص بدلاً من الأرقام\n",
    "f = np.empty(d.shape, dtype=object)\n",
    "\n",
    "# التكرار عبر القيم في d وتحديث الفارغة f بناءً على الشروط\n",
    "for i in range(d.shape[0]):\n",
    "    for j in range(d.shape[1]):\n",
    "        for k in range(d.shape[2]):\n",
    "            value = d[i, j, k]\n",
    "            if value == d_mean:\n",
    "                f[i, j, k] = \"C\"\n",
    "            elif value == d_max:\n",
    "                f[i, j, k] = \"E\"\n",
    "            elif value == d_min:\n",
    "                f[i, j, k] = \"A\"\n",
    "            elif d_min < value < d_mean:\n",
    "                f[i, j, k] = \"B\"\n",
    "            elif d_mean < value < d_max:\n",
    "                f[i, j, k] = \"D\"\n",
    "\n",
    "# طباعة المصفوفات d و f\n",
    "print(\"d array:\")\n",
    "print(d)\n",
    "\n",
    "print(\"\\nf array:\")\n",
    "print(f)\n"
   ]
  }
 ],
 "metadata": {
  "kernelspec": {
   "display_name": "Python 3",
   "language": "python",
   "name": "python3"
  },
  "language_info": {
   "codemirror_mode": {
    "name": "ipython",
    "version": 3
   },
   "file_extension": ".py",
   "mimetype": "text/x-python",
   "name": "python",
   "nbconvert_exporter": "python",
   "pygments_lexer": "ipython3",
   "version": "3.12.4"
  }
 },
 "nbformat": 4,
 "nbformat_minor": 2
}
