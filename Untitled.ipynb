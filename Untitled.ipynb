{
 "cells": [
  {
   "cell_type": "code",
   "execution_count": 3,
   "id": "02910422-2015-4a6c-aa54-94b740064ef9",
   "metadata": {},
   "outputs": [],
   "source": [
    "#1. Import the NUMPY package under the name np.\n",
    "\n",
    "#[your code here]\n",
    "import numpy as np"
   ]
  },
  {
   "cell_type": "code",
   "execution_count": 7,
   "id": "783346a9-29a4-4343-a49a-5e812d82e501",
   "metadata": {},
   "outputs": [
    {
     "data": {
      "text/plain": [
       "<module 'numpy.version' from '/opt/anaconda3/lib/python3.12/site-packages/numpy/version.py'>"
      ]
     },
     "execution_count": 7,
     "metadata": {},
     "output_type": "execute_result"
    }
   ],
   "source": [
    "#2. Print the NUMPY version and the configuration.\n",
    "#[your code here]\n",
    "np.version"
   ]
  },
  {
   "cell_type": "code",
   "execution_count": 13,
   "id": "77482d79-cc52-48ce-a5d0-01bf597108b3",
   "metadata": {},
   "outputs": [
    {
     "data": {
      "text/plain": [
       "<function numpy.info(object=None, maxwidth=76, output=None, toplevel='numpy')>"
      ]
     },
     "execution_count": 13,
     "metadata": {},
     "output_type": "execute_result"
    }
   ],
   "source": [
    "np.info"
   ]
  },
  {
   "cell_type": "code",
   "execution_count": 15,
   "id": "e2f09b73-d509-42da-8c8c-20e475afba6e",
   "metadata": {},
   "outputs": [
    {
     "name": "stdout",
     "output_type": "stream",
     "text": [
      "[[[0.40945712 0.57051222 0.35285395 0.69513955 0.33515086]\n",
      "  [0.10652374 0.23972785 0.64190861 0.17014426 0.98772234]\n",
      "  [0.60955855 0.48247428 0.46072336 0.34839695 0.35144055]]\n",
      "\n",
      " [[0.89497134 0.68923772 0.9856493  0.37126417 0.1164183 ]\n",
      "  [0.49662808 0.55429263 0.67871456 0.60179015 0.89648098]\n",
      "  [0.87565842 0.02510324 0.51228506 0.46873012 0.62497049]]]\n"
     ]
    }
   ],
   "source": [
    "#3. Generate a 2x3x5 3-dimensional array with random values. Assign the array to variable \"a\"\n",
    "# Challenge: there are at least three easy ways that use numpy to generate random arrays. How many ways can you find?\n",
    "a = np.random.rand(2, 3, 5)\n",
    "print(a)"
   ]
  },
  {
   "cell_type": "code",
   "execution_count": 57,
   "id": "f09012d2-a75d-4035-b13b-7184806ff78c",
   "metadata": {},
   "outputs": [
    {
     "name": "stdout",
     "output_type": "stream",
     "text": [
      "[[[ 0.83687103  0.29296094  0.63791935 -0.98989562  1.01809547]\n",
      "  [-1.63591129  1.34011686  0.16753308 -1.6655853  -1.44717447]\n",
      "  [-2.20005665 -0.36472323 -0.62967829  0.48891769 -2.21998577]]\n",
      "\n",
      " [[-0.94420601 -0.76276153 -0.0805451   0.82254177 -0.59923204]\n",
      "  [-0.9242386   0.23336821  0.4581498  -0.11455297 -0.06459798]\n",
      "  [ 0.59269843 -1.06972624  0.31338443 -1.72334629 -1.11017753]]]\n"
     ]
    }
   ],
   "source": [
    "# Generates array from standard normal distribution(mean = 0 standard deviation = 1)\n",
    "a1 = np.random.randn(2, 3, 5)\n",
    "print(a1)"
   ]
  },
  {
   "cell_type": "code",
   "execution_count": 59,
   "id": "be00f47b-3281-41f7-a60c-51caa261a534",
   "metadata": {},
   "outputs": [
    {
     "name": "stdout",
     "output_type": "stream",
     "text": [
      "[[[0 4 4 1 6]\n",
      "  [2 0 4 1 7]\n",
      "  [6 8 8 7 1]]\n",
      "\n",
      " [[2 3 6 8 2]\n",
      "  [2 3 6 3 0]\n",
      "  [1 9 7 3 0]]]\n"
     ]
    }
   ],
   "source": [
    "a2 = np.random.randint(0, 10, (2,3,5))\n",
    "print(a2)"
   ]
  },
  {
   "cell_type": "code",
   "execution_count": 61,
   "id": "be01ff87-ba24-43b1-8087-73b065ee62e8",
   "metadata": {},
   "outputs": [
    {
     "name": "stdout",
     "output_type": "stream",
     "text": [
      "[[0.53375349 0.38613077 0.20991669]\n",
      " [0.1489166  0.31288827 0.60760969]]\n"
     ]
    }
   ],
   "source": [
    "#5. Create a 5x2x3 3-dimensional array with all values equaling 1.\n",
    "#Assign the array to variable \"b\"\n",
    "b1 = np.random.rand(5,2,3)[1]\n",
    "print(b1)"
   ]
  },
  {
   "cell_type": "code",
   "execution_count": 81,
   "id": "cc37d78a-851b-4f82-b87e-4f390c77ea8d",
   "metadata": {},
   "outputs": [
    {
     "name": "stdout",
     "output_type": "stream",
     "text": [
      "[[[1. 1. 1.]\n",
      "  [1. 1. 1.]]\n",
      "\n",
      " [[1. 1. 1.]\n",
      "  [1. 1. 1.]]\n",
      "\n",
      " [[1. 1. 1.]\n",
      "  [1. 1. 1.]]\n",
      "\n",
      " [[1. 1. 1.]\n",
      "  [1. 1. 1.]]\n",
      "\n",
      " [[1. 1. 1.]\n",
      "  [1. 1. 1.]]]\n"
     ]
    }
   ],
   "source": [
    "# All values equaling 1.\n",
    "b = np.ones((5,2,3))\n",
    "print(b)"
   ]
  },
  {
   "cell_type": "code",
   "execution_count": 49,
   "id": "eac064de-118f-4ad3-9b67-26d8790cbedf",
   "metadata": {},
   "outputs": [
    {
     "data": {
      "text/plain": [
       "array([1, 1, 1])"
      ]
     },
     "execution_count": 49,
     "metadata": {},
     "output_type": "execute_result"
    }
   ],
   "source": [
    "np.ones_like((5,2,3))"
   ]
  },
  {
   "cell_type": "code",
   "execution_count": 65,
   "id": "75f87542-e8a7-4149-9ed8-62dfa97b0753",
   "metadata": {},
   "outputs": [
    {
     "name": "stdout",
     "output_type": "stream",
     "text": [
      "len(a)is 2 and len(b) is 5\n"
     ]
    }
   ],
   "source": [
    "#7. Do a and b have the same size? How do you prove that in Python code?\n",
    "\n",
    "#[your code here]\n",
    "print(f\"len(a)is {len(a)} and len(b) is {len(b)}\")"
   ]
  },
  {
   "cell_type": "code",
   "execution_count": 71,
   "id": "d3366570-b92d-4d9e-9f38-9b1e9603b9ac",
   "metadata": {},
   "outputs": [
    {
     "ename": "ValueError",
     "evalue": "operands could not be broadcast together with shapes (2,3,5) (5,2,3) ",
     "output_type": "error",
     "traceback": [
      "\u001b[0;31m---------------------------------------------------------------------------\u001b[0m",
      "\u001b[0;31mValueError\u001b[0m                                Traceback (most recent call last)",
      "Cell \u001b[0;32mIn[71], line 6\u001b[0m\n\u001b[1;32m      1\u001b[0m \u001b[38;5;66;03m#8. Are you able to add a and b? Why or why not?\u001b[39;00m\n\u001b[1;32m      2\u001b[0m \n\u001b[1;32m      3\u001b[0m \u001b[38;5;66;03m#[your code here]\u001b[39;00m\n\u001b[1;32m      4\u001b[0m \u001b[38;5;66;03m# print(sum(a,b)) # ValueError: operands could not be broadcast together with shapes (5,2,3) (3,5)\u001b[39;00m\n\u001b[0;32m----> 6\u001b[0m \u001b[38;5;28mprint\u001b[39m(a \u001b[38;5;241m+\u001b[39m b)\n",
      "\u001b[0;31mValueError\u001b[0m: operands could not be broadcast together with shapes (2,3,5) (5,2,3) "
     ]
    }
   ],
   "source": [
    "#8. Are you able to add a and b? Why or why not?\n",
    "\n",
    "#[your code here]\n",
    "print(sum(a,b)) # ValueError: operands could not be broadcast together with shapes (5,2,3) (3,5)\n",
    "print(a + b) # ValueError: operands could not be broadcast together with shapes (2,3,5) (5,2,3)"
   ]
  },
  {
   "cell_type": "code",
   "execution_count": 87,
   "id": "4928c668-720f-4fb0-a1a5-49e343bd49de",
   "metadata": {},
   "outputs": [
    {
     "name": "stdout",
     "output_type": "stream",
     "text": [
      "[[[1. 1. 1. 1. 1.]\n",
      "  [1. 1. 1. 1. 1.]\n",
      "  [1. 1. 1. 1. 1.]]\n",
      "\n",
      " [[1. 1. 1. 1. 1.]\n",
      "  [1. 1. 1. 1. 1.]\n",
      "  [1. 1. 1. 1. 1.]]]\n"
     ]
    }
   ],
   "source": [
    "#9. Transpose b so that it has the same structure of a (i.e. become a 2x3x5 array). Assign the transposed array to varialbe \"c\".\n",
    "\n",
    "c = np.transpose(b, (1,2,0))\n",
    "print(c)\n"
   ]
  },
  {
   "cell_type": "code",
   "execution_count": 119,
   "id": "6ac693e6-81ab-4176-abef-ea7a6e76c032",
   "metadata": {},
   "outputs": [
    {
     "name": "stdout",
     "output_type": "stream",
     "text": [
      "[[[ 7.  2.  6.  3.  7.]\n",
      "  [ 8.  2.  6.  1.  5.]\n",
      "  [ 6.  2. 10.  6.  6.]]\n",
      "\n",
      " [[ 2.  7.  8.  9.  8.]\n",
      "  [ 7.  9.  5. 10.  8.]\n",
      "  [ 7.  7.  6.  7.  7.]]]\n"
     ]
    }
   ],
   "source": [
    "#10. Try to add a and c. Now it should work. Assign the sum to varialbe \"d\". But why does it work now?\n",
    "\n",
    "#[your code here]\n",
    "\n",
    "d = a + c\n",
    "print(d)"
   ]
  },
  {
   "cell_type": "code",
   "execution_count": 121,
   "id": "21440f21-2ea5-4593-99c4-6357dce7cfec",
   "metadata": {},
   "outputs": [
    {
     "name": "stdout",
     "output_type": "stream",
     "text": [
      "[[[6 1 5 2 6]\n",
      "  [7 1 5 0 4]\n",
      "  [5 1 9 5 5]]\n",
      "\n",
      " [[1 6 7 8 7]\n",
      "  [6 8 4 9 7]\n",
      "  [6 6 5 6 6]]]\n",
      "[[[ 7.  2.  6.  3.  7.]\n",
      "  [ 8.  2.  6.  1.  5.]\n",
      "  [ 6.  2. 10.  6.  6.]]\n",
      "\n",
      " [[ 2.  7.  8.  9.  8.]\n",
      "  [ 7.  9.  5. 10.  8.]\n",
      "  [ 7.  7.  6.  7.  7.]]]\n"
     ]
    }
   ],
   "source": [
    "#11. Print a and d. Notice the difference and relation of the two array in terms of the values? Explain.\n",
    "\n",
    "#[your code here]\n",
    "\"\"\"\n",
    "1. We transposed the 'b' to a 'c'  to be able to make same array with \n",
    "'a'\n",
    "2. Now we can sum both of them. As we made all values equal to 1 in 'c' \n",
    "3. It made 'd''s values are 'a''s values + 1 for each.\n",
    "\"\"\"\n",
    "print(a) \n",
    "print(d)"
   ]
  },
  {
   "cell_type": "code",
   "execution_count": 123,
   "id": "e70d5eed-bd22-4e6e-a1af-cee308829426",
   "metadata": {},
   "outputs": [
    {
     "name": "stdout",
     "output_type": "stream",
     "text": [
      "[[[6. 1. 5. 2. 6.]\n",
      "  [7. 1. 5. 0. 4.]\n",
      "  [5. 1. 9. 5. 5.]]\n",
      "\n",
      " [[1. 6. 7. 8. 7.]\n",
      "  [6. 8. 4. 9. 7.]\n",
      "  [6. 6. 5. 6. 6.]]]\n"
     ]
    }
   ],
   "source": [
    "#12. Multiply a and c. Assign the result to e.\n",
    "e = a * c\n",
    "print(e)"
   ]
  },
  {
   "cell_type": "code",
   "execution_count": 125,
   "id": "b82427ea-ec47-4238-9e08-ca61b0014da5",
   "metadata": {},
   "outputs": [],
   "source": [
    "#13. Does e equal to a? Why or why not?\n",
    "\n",
    "#[your code here]\n",
    "# As 'c''s values are equal to 1 that made 'e' is the same array. \n"
   ]
  },
  {
   "cell_type": "code",
   "execution_count": 147,
   "id": "8ae41a85-8753-4b81-bad7-d8fd9f42f113",
   "metadata": {},
   "outputs": [
    {
     "name": "stdout",
     "output_type": "stream",
     "text": [
      "10.0 1.0 6.133333333333334\n"
     ]
    }
   ],
   "source": [
    "#14. Identify the max, min, and mean values in d. Assign those values to variables \"d_max\", \"d_min\", and \"d_mean\"\n",
    "d_min = np.min(d)\n",
    "d_max = np.max(d)\n",
    "d_mean = np.mean(d)\n",
    "print((d_max),(d_min),(d_mean))"
   ]
  },
  {
   "cell_type": "code",
   "execution_count": 155,
   "id": "a2e5d0ea-4c66-415c-ae39-274299d3a2b9",
   "metadata": {},
   "outputs": [
    {
     "name": "stdout",
     "output_type": "stream",
     "text": [
      "[[[1. 1. 1. 1. 1.]\n",
      "  [1. 1. 1. 1. 1.]\n",
      "  [1. 1. 1. 1. 1.]]\n",
      "\n",
      " [[1. 1. 1. 1. 1.]\n",
      "  [1. 1. 1. 1. 1.]\n",
      "  [1. 1. 1. 1. 1.]]]\n"
     ]
    }
   ],
   "source": [
    "#15. Now we want to label the values in d. First create an empty array \"f\" with the same shape (i.e. 2x3x5) as d using `np.empty`.\n",
    "f = np.empty((2, 3, 5))\n",
    "print(f)\n",
    "\n"
   ]
  },
  {
   "cell_type": "code",
   "execution_count": 188,
   "id": "f56216ed-5546-4e8c-9d44-22b2be49e1c4",
   "metadata": {},
   "outputs": [
    {
     "ename": "IndentationError",
     "evalue": "unindent does not match any outer indentation level (<string>, line 29)",
     "output_type": "error",
     "traceback": [
      "\u001b[0;36m  File \u001b[0;32m<string>:29\u001b[0;36m\u001b[0m\n\u001b[0;31m    d = [[[ 7.  2.  6.  3.  7.]\u001b[0m\n\u001b[0m                               ^\u001b[0m\n\u001b[0;31mIndentationError\u001b[0m\u001b[0;31m:\u001b[0m unindent does not match any outer indentation level\n"
     ]
    }
   ],
   "source": [
    "#16. Populate the values in f. For each value in d, if it's larger than d_min but smaller than d_mean, assign 25 to the corresponding value in f.\n",
    "\"\"\"If a value in d is larger than d_mean but smaller than d_max, assign 75 to the corresponding value in f.\n",
    "If a value equals to d_mean, assign 50 to the corresponding value in f.\n",
    "Assign 0 to the corresponding value(s) in f for d_min in d.\n",
    "Assign 100 to the corresponding value(s) in f for d_max in d.\n",
    "In the end, f should have only the following values: 0, 25, 50, 75, and 100.\n",
    "Note: you don't have to use Numpy in this question.\n",
    "\"\"\"\n",
    "\n",
    "def populate_values( d, d_min, d_max, d_mean):\n",
    "    f = [[[-1 for _ in range(d.shape[2])] for _ in range(d.shape[1])] for _ in range(d.shape[0])]\n",
    "\n",
    "    for i in range(d.shape[0]):\n",
    "        for j in range(d.shape[1]):\n",
    "            for k in range(d.shape[2]):\n",
    "                value = d[i][j][k]\n",
    "                if value == d_min:\n",
    "                    f[i][j][k] = 0\n",
    "                elif d_min < value <d_mean:\n",
    "                    f[i][j][k] = 25\n",
    "                elif value == d_mean:\n",
    "                    f[i][j][k] = 50\n",
    "                elif d_mean < value < d_max:\n",
    "                    f[i][j][k] = 75\n",
    "                elif value == d_max:\n",
    "                    f[i][j][k] = 100\n",
    "    return f\n",
    "    \n",
    " d = [[[ 7.  2.  6.  3.  7.]\n",
    "       [ 8.  2.  6.  1.  5.]\n",
    "  [ 6.  2. 10.  6.  6.]]\n",
    "\n",
    " [[ 2.  7.  8.  9.  8.]\n",
    "  [ 7.  9.  5. 10.  8.]\n",
    "  [ 7.  7.  6.  7.  7.]]]\n",
    "\n",
    "\n",
    "d_min = np.min(d)\n",
    "d_max = np.max(d)\n",
    "d_mean = np.mean(d)\n",
    "\n",
    "f = populate_values( d, d_min, d_max, d_mean)\n",
    "\n",
    "print(d) \n",
    "print(f)"
   ]
  },
  {
   "cell_type": "code",
   "execution_count": null,
   "id": "c1047e55-1eb0-45c5-9050-972d16417b83",
   "metadata": {},
   "outputs": [],
   "source": [
    "#17. Print d and f. Do you have your expected f?\n",
    "\"\"\"For instance, if your d is:\n",
    "array([[[1.85836099, 1.67064465, 1.62576044, 1.40243961, 1.88454931],\n",
    "        [1.75354326, 1.69403643, 1.36729252, 1.61415071, 1.12104981],\n",
    "        [1.72201435, 1.1862918 , 1.87078449, 1.7726778 , 1.88180042]],\n",
    "\n",
    "       [[1.44747908, 1.31673383, 1.02000951, 1.52218947, 1.97066381],\n",
    "        [1.79129243, 1.74983003, 1.96028037, 1.85166831, 1.65450881],\n",
    "        [1.18068344, 1.9587381 , 1.00656599, 1.93402165, 1.73514584]]])\n",
    "\n",
    "Your f should be:\n",
    "array([[[ 75.,  75.,  75.,  25.,  75.],\n",
    "        [ 75.,  75.,  25.,  25.,  25.],\n",
    "        [ 75.,  25.,  75.,  75.,  75.]],\n",
    "\n",
    "       [[ 25.,  25.,  25.,  25., 100.],\n",
    "        [ 75.,  75.,  75.,  75.,  75.],\n",
    "        [ 25.,  75.,   0.,  75.,  75.]]])\n",
    "\"\"\"\n"
   ]
  }
 ],
 "metadata": {
  "kernelspec": {
   "display_name": "Python 3 (ipykernel)",
   "language": "python",
   "name": "python3"
  },
  "language_info": {
   "codemirror_mode": {
    "name": "ipython",
    "version": 3
   },
   "file_extension": ".py",
   "mimetype": "text/x-python",
   "name": "python",
   "nbconvert_exporter": "python",
   "pygments_lexer": "ipython3",
   "version": "3.12.4"
  }
 },
 "nbformat": 4,
 "nbformat_minor": 5
}
