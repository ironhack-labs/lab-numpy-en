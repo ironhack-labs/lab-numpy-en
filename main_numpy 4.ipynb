{
  "cells": [
    {
      "cell_type": "markdown",
      "metadata": {
        "id": "Tcdw37cADp6Q"
      },
      "source": [
        "# Lab | Numpy Deep Dive"
      ]
    },
    {
      "cell_type": "markdown",
      "metadata": {
        "id": "IZLk8zEoDp60"
      },
      "source": [
        "### 1. Import the NUMPY package under the name np.\n"
      ]
    },
    {
      "cell_type": "code",
      "execution_count": null,
      "metadata": {
        "id": "R3zonNmqDp64"
      },
      "outputs": [],
      "source": [
        "### [your code here]\n",
        "import numpy as np"
      ]
    },
    {
      "cell_type": "markdown",
      "metadata": {
        "id": "_nz_IojsDp6_"
      },
      "source": [
        "\n",
        "\n",
        "### 2. Print the NUMPY version and the configuration.\n"
      ]
    },
    {
      "cell_type": "code",
      "execution_count": 1,
      "metadata": {
        "colab": {
          "base_uri": "https://localhost:8080/",
          "height": 211
        },
        "id": "ajIEbXpzDp7B",
        "outputId": "1ae4f172-72d3-49da-db5e-3c251dd7e4bc"
      },
      "outputs": [
        {
          "output_type": "error",
          "ename": "NameError",
          "evalue": "name 'np' is not defined",
          "traceback": [
            "\u001b[0;31m---------------------------------------------------------------------------\u001b[0m",
            "\u001b[0;31mNameError\u001b[0m                                 Traceback (most recent call last)",
            "\u001b[0;32m<ipython-input-1-fe658a257da8>\u001b[0m in \u001b[0;36m<cell line: 0>\u001b[0;34m()\u001b[0m\n\u001b[1;32m      1\u001b[0m \u001b[0;31m### [your code here]\u001b[0m\u001b[0;34m\u001b[0m\u001b[0;34m\u001b[0m\u001b[0m\n\u001b[0;32m----> 2\u001b[0;31m \u001b[0mnp\u001b[0m\u001b[0;34m.\u001b[0m\u001b[0mshow_config\u001b[0m\u001b[0;34m(\u001b[0m\u001b[0;34m)\u001b[0m\u001b[0;34m\u001b[0m\u001b[0;34m\u001b[0m\u001b[0m\n\u001b[0m\u001b[1;32m      3\u001b[0m \u001b[0mprint\u001b[0m\u001b[0;34m(\u001b[0m\u001b[0;34m\"NumPy Version:\"\u001b[0m\u001b[0;34m,\u001b[0m \u001b[0mnp\u001b[0m\u001b[0;34m.\u001b[0m\u001b[0m__version__\u001b[0m\u001b[0;34m)\u001b[0m\u001b[0;34m\u001b[0m\u001b[0;34m\u001b[0m\u001b[0m\n\u001b[1;32m      4\u001b[0m \u001b[0mprint\u001b[0m\u001b[0;34m(\u001b[0m\u001b[0;34m\"NumPy Configuration:\"\u001b[0m\u001b[0;34m)\u001b[0m\u001b[0;34m\u001b[0m\u001b[0;34m\u001b[0m\u001b[0m\n\u001b[1;32m      5\u001b[0m \u001b[0mnp\u001b[0m\u001b[0;34m.\u001b[0m\u001b[0mshow_config\u001b[0m\u001b[0;34m(\u001b[0m\u001b[0;34m)\u001b[0m\u001b[0;34m\u001b[0m\u001b[0;34m\u001b[0m\u001b[0m\n",
            "\u001b[0;31mNameError\u001b[0m: name 'np' is not defined"
          ]
        }
      ],
      "source": [
        "### [your code here]\n",
        "np.show_config()\n",
        "print(\"NumPy Version:\", np.__version__)\n",
        "print(\"NumPy Configuration:\")\n",
        "np.show_config()"
      ]
    },
    {
      "cell_type": "markdown",
      "metadata": {
        "id": "IsWCnenWDp7D"
      },
      "source": [
        "### 3. Generate a 2x3x5 3-dimensional array with random values. Assign the array to variable \"a\"\n",
        "Challenge: there are at least three easy ways that use numpy to generate random arrays. How many ways can you find?\n"
      ]
    },
    {
      "cell_type": "code",
      "execution_count": null,
      "metadata": {
        "colab": {
          "base_uri": "https://localhost:8080/"
        },
        "id": "Gk7fsAQ1Dp7F",
        "outputId": "11c2d903-6ef0-4ad9-ed9a-bbbfac4b5ae0"
      },
      "outputs": [
        {
          "output_type": "execute_result",
          "data": {
            "text/plain": [
              "array([[[0.33263291, 0.17194177, 0.09545161, 0.07636247, 0.70445134],\n",
              "        [0.10291983, 0.23109868, 0.84789179, 0.98568446, 0.80393899],\n",
              "        [0.70805139, 0.43167372, 0.68269194, 0.51836493, 0.11024581]],\n",
              "\n",
              "       [[0.75940512, 0.86459817, 0.33724737, 0.31685104, 0.01827302],\n",
              "        [0.45642219, 0.06604215, 0.06681786, 0.40926918, 0.07042877],\n",
              "        [0.06643929, 0.48037576, 0.41857826, 0.39690963, 0.37139132]]])"
            ]
          },
          "metadata": {},
          "execution_count": 21
        }
      ],
      "source": [
        "### [your code here]\n",
        "a = np.random.random((2,3,5))\n",
        "a1 = np.random.randint(4,size=(5,5,4))\n",
        "\n",
        "a\n"
      ]
    },
    {
      "cell_type": "code",
      "source": [
        "a1"
      ],
      "metadata": {
        "colab": {
          "base_uri": "https://localhost:8080/"
        },
        "id": "v0aCPXU3FVym",
        "outputId": "5cbccbbb-6844-400d-dcf1-745f0bd8e971"
      },
      "execution_count": null,
      "outputs": [
        {
          "output_type": "execute_result",
          "data": {
            "text/plain": [
              "array([[[1, 0, 2, 3],\n",
              "        [0, 2, 0, 2],\n",
              "        [2, 3, 0, 3],\n",
              "        [0, 3, 2, 1],\n",
              "        [0, 1, 2, 0]],\n",
              "\n",
              "       [[2, 1, 1, 0],\n",
              "        [3, 3, 0, 3],\n",
              "        [2, 1, 1, 0],\n",
              "        [2, 2, 1, 3],\n",
              "        [1, 3, 2, 3]],\n",
              "\n",
              "       [[3, 1, 1, 2],\n",
              "        [1, 0, 2, 2],\n",
              "        [1, 1, 0, 1],\n",
              "        [3, 3, 2, 3],\n",
              "        [3, 3, 2, 1]],\n",
              "\n",
              "       [[1, 1, 0, 3],\n",
              "        [2, 1, 2, 1],\n",
              "        [0, 0, 3, 2],\n",
              "        [0, 2, 3, 1],\n",
              "        [1, 2, 0, 1]],\n",
              "\n",
              "       [[3, 2, 1, 1],\n",
              "        [3, 3, 0, 2],\n",
              "        [3, 2, 2, 2],\n",
              "        [2, 1, 3, 0],\n",
              "        [2, 3, 0, 0]]])"
            ]
          },
          "metadata": {},
          "execution_count": 22
        }
      ]
    },
    {
      "cell_type": "markdown",
      "metadata": {
        "id": "C7hhyVi6Dp7I"
      },
      "source": [
        "\n",
        "### 4. Print a.\n"
      ]
    },
    {
      "cell_type": "code",
      "execution_count": null,
      "metadata": {
        "colab": {
          "base_uri": "https://localhost:8080/"
        },
        "id": "HfUKs7FaDp7K",
        "outputId": "f3a374f3-5d68-48cc-d79f-b68ebca9aaf1"
      },
      "outputs": [
        {
          "output_type": "execute_result",
          "data": {
            "text/plain": [
              "array([[[0.33263291, 0.17194177, 0.09545161, 0.07636247, 0.70445134],\n",
              "        [0.10291983, 0.23109868, 0.84789179, 0.98568446, 0.80393899],\n",
              "        [0.70805139, 0.43167372, 0.68269194, 0.51836493, 0.11024581]],\n",
              "\n",
              "       [[0.75940512, 0.86459817, 0.33724737, 0.31685104, 0.01827302],\n",
              "        [0.45642219, 0.06604215, 0.06681786, 0.40926918, 0.07042877],\n",
              "        [0.06643929, 0.48037576, 0.41857826, 0.39690963, 0.37139132]]])"
            ]
          },
          "metadata": {},
          "execution_count": 23
        }
      ],
      "source": [
        "### [your code here]\n",
        "a"
      ]
    },
    {
      "cell_type": "markdown",
      "metadata": {
        "id": "qc_Mk2uPDp7L"
      },
      "source": [
        "### 5. Create a 5x2x3 3-dimensional array with all values equaling 1.\n",
        "### Assign the array to variable \"b\"\n"
      ]
    },
    {
      "cell_type": "code",
      "execution_count": null,
      "metadata": {
        "id": "Cj3VfLqODp7O"
      },
      "outputs": [],
      "source": [
        "### [your code here]\n",
        "b= np.ones((5,2,3))"
      ]
    },
    {
      "cell_type": "markdown",
      "metadata": {
        "id": "aWzRaVZ6Dp7Q"
      },
      "source": [
        "\n",
        "### 6. Print b.\n"
      ]
    },
    {
      "cell_type": "code",
      "execution_count": null,
      "metadata": {
        "colab": {
          "base_uri": "https://localhost:8080/"
        },
        "id": "E7sM34zSDp7S",
        "outputId": "a60663cd-4b20-4444-d5a8-75c94c3e2bab"
      },
      "outputs": [
        {
          "output_type": "execute_result",
          "data": {
            "text/plain": [
              "array([[[1., 1., 1.],\n",
              "        [1., 1., 1.]],\n",
              "\n",
              "       [[1., 1., 1.],\n",
              "        [1., 1., 1.]],\n",
              "\n",
              "       [[1., 1., 1.],\n",
              "        [1., 1., 1.]],\n",
              "\n",
              "       [[1., 1., 1.],\n",
              "        [1., 1., 1.]],\n",
              "\n",
              "       [[1., 1., 1.],\n",
              "        [1., 1., 1.]]])"
            ]
          },
          "metadata": {},
          "execution_count": 26
        }
      ],
      "source": [
        "### [your code here]\n",
        "b"
      ]
    },
    {
      "cell_type": "markdown",
      "metadata": {
        "id": "Uar6LSEeDp7U"
      },
      "source": [
        "\n",
        "### 7. Do a and b have the same size? How do you prove that in Python code?\n"
      ]
    },
    {
      "cell_type": "code",
      "execution_count": null,
      "metadata": {
        "colab": {
          "base_uri": "https://localhost:8080/"
        },
        "id": "wpAuOjQHDp7U",
        "outputId": "51a49e80-0a85-4c66-8a5b-82ac4db8f033"
      },
      "outputs": [
        {
          "output_type": "stream",
          "name": "stdout",
          "text": [
            "its not same size\n"
          ]
        }
      ],
      "source": [
        "### [your code here]\n",
        "if np.shape(a)==np.shape(b):\n",
        "  print(\"its same size\")\n",
        "else:\n",
        "  print(\"its not same size\")\n"
      ]
    },
    {
      "cell_type": "markdown",
      "metadata": {
        "id": "XVf-SKi2Dp7V"
      },
      "source": [
        "\n",
        "### 8. Are you able to add a and b? Why or why not?\n"
      ]
    },
    {
      "cell_type": "code",
      "execution_count": null,
      "metadata": {
        "colab": {
          "base_uri": "https://localhost:8080/"
        },
        "id": "NJHiv4E-Dp7W",
        "outputId": "74ca13c5-2d7f-42ed-c0fc-a4a93df19465"
      },
      "outputs": [
        {
          "output_type": "stream",
          "name": "stdout",
          "text": [
            "not equal size\n"
          ]
        }
      ],
      "source": [
        "### [your code here]\n",
        "# no becuse it not same size\n",
        "if np.shape(a)==np.shape(b):\n",
        "  a+b\n",
        "  print(\"The addition of the two array succeeded because they have the same size 2x3x5\")\n",
        "else:\n",
        "  print(\"not equal size\")"
      ]
    },
    {
      "cell_type": "markdown",
      "metadata": {
        "id": "0HmUmcYBDp7Y"
      },
      "source": [
        "\n",
        "\n",
        "### 9. Transpose b so that it has the same structure of a (i.e. become a 2x3x5 array). Assign the transposed array to varialbe \"c\".\n"
      ]
    },
    {
      "cell_type": "code",
      "execution_count": null,
      "metadata": {
        "id": "qRmYdMPsDp7Z"
      },
      "outputs": [],
      "source": [
        "### [your code here]\n",
        "c=np.reshape(b,(2,3,5))"
      ]
    },
    {
      "cell_type": "markdown",
      "metadata": {
        "id": "epusSbYkDp7b"
      },
      "source": [
        "\n",
        "### 10. Try to add a and c. Now it should work. Assign the sum to variable \"d\". But why does it work now?\n"
      ]
    },
    {
      "cell_type": "code",
      "execution_count": null,
      "metadata": {
        "colab": {
          "base_uri": "https://localhost:8080/"
        },
        "id": "2X46xSaYDp7c",
        "outputId": "2499664f-7d41-4fe3-ccad-485d26b75a37"
      },
      "outputs": [
        {
          "output_type": "execute_result",
          "data": {
            "text/plain": [
              "array([[[1.33263291, 1.17194177, 1.09545161, 1.07636247, 1.70445134],\n",
              "        [1.10291983, 1.23109868, 1.84789179, 1.98568446, 1.80393899],\n",
              "        [1.70805139, 1.43167372, 1.68269194, 1.51836493, 1.11024581]],\n",
              "\n",
              "       [[1.75940512, 1.86459817, 1.33724737, 1.31685104, 1.01827302],\n",
              "        [1.45642219, 1.06604215, 1.06681786, 1.40926918, 1.07042877],\n",
              "        [1.06643929, 1.48037576, 1.41857826, 1.39690963, 1.37139132]]])"
            ]
          },
          "metadata": {},
          "execution_count": 36
        }
      ],
      "source": [
        "### [your code here]\n",
        "d = a+c\n",
        "d"
      ]
    },
    {
      "cell_type": "markdown",
      "metadata": {
        "id": "LGk-24udDp7h"
      },
      "source": [
        "\n",
        "\n",
        "```\n",
        "# This is formatted as code\n",
        "```\n",
        "\n",
        "\n",
        "### 11. Print a and d. Notice the difference and relation of the two array in terms of the values? Explain.\n"
      ]
    },
    {
      "cell_type": "code",
      "execution_count": null,
      "metadata": {
        "colab": {
          "base_uri": "https://localhost:8080/"
        },
        "id": "HZNlKA7eDp7j",
        "outputId": "d706db5c-e38d-45b5-e677-54ebd9463937"
      },
      "outputs": [
        {
          "output_type": "execute_result",
          "data": {
            "text/plain": [
              "array([[[0.33263291, 0.17194177, 0.09545161, 0.07636247, 0.70445134],\n",
              "        [0.10291983, 0.23109868, 0.84789179, 0.98568446, 0.80393899],\n",
              "        [0.70805139, 0.43167372, 0.68269194, 0.51836493, 0.11024581]],\n",
              "\n",
              "       [[0.75940512, 0.86459817, 0.33724737, 0.31685104, 0.01827302],\n",
              "        [0.45642219, 0.06604215, 0.06681786, 0.40926918, 0.07042877],\n",
              "        [0.06643929, 0.48037576, 0.41857826, 0.39690963, 0.37139132]]])"
            ]
          },
          "metadata": {},
          "execution_count": 40
        }
      ],
      "source": [
        "### [your code here]\n",
        "a\n"
      ]
    },
    {
      "cell_type": "code",
      "source": [
        "d"
      ],
      "metadata": {
        "colab": {
          "base_uri": "https://localhost:8080/"
        },
        "id": "zYAqrf0dL38i",
        "outputId": "f6600c43-1bb1-42b2-959b-202a605dfbb1"
      },
      "execution_count": null,
      "outputs": [
        {
          "output_type": "execute_result",
          "data": {
            "text/plain": [
              "array([[[1.33263291, 1.17194177, 1.09545161, 1.07636247, 1.70445134],\n",
              "        [1.10291983, 1.23109868, 1.84789179, 1.98568446, 1.80393899],\n",
              "        [1.70805139, 1.43167372, 1.68269194, 1.51836493, 1.11024581]],\n",
              "\n",
              "       [[1.75940512, 1.86459817, 1.33724737, 1.31685104, 1.01827302],\n",
              "        [1.45642219, 1.06604215, 1.06681786, 1.40926918, 1.07042877],\n",
              "        [1.06643929, 1.48037576, 1.41857826, 1.39690963, 1.37139132]]])"
            ]
          },
          "metadata": {},
          "execution_count": 41
        }
      ]
    },
    {
      "cell_type": "code",
      "source": [
        "if np.shape(a)==np.shape(d):\n",
        "\n",
        "  print(\"The addition of the two array succeeded because they have the same size 2x3x5\")\n",
        "else:\n",
        "  print(\"not equal size\")"
      ],
      "metadata": {
        "colab": {
          "base_uri": "https://localhost:8080/"
        },
        "id": "-Wi_2ychMASt",
        "outputId": "708bae70-4ade-4d10-be44-6d1daf1bb526"
      },
      "execution_count": null,
      "outputs": [
        {
          "output_type": "stream",
          "name": "stdout",
          "text": [
            "The addition of the two array succeeded because they have the same size 2x3x5\n"
          ]
        }
      ]
    },
    {
      "cell_type": "markdown",
      "metadata": {
        "id": "R5BsKzRdDp7l"
      },
      "source": [
        "\n",
        "### 12. Multiply a and c. Assign the result to e.\n"
      ]
    },
    {
      "cell_type": "code",
      "execution_count": null,
      "metadata": {
        "colab": {
          "base_uri": "https://localhost:8080/"
        },
        "id": "whwckA6zDp7m",
        "outputId": "8869488a-cc68-4151-cf77-a122c98dfd19"
      },
      "outputs": [
        {
          "output_type": "execute_result",
          "data": {
            "text/plain": [
              "array([[[0.33263291, 0.17194177, 0.09545161, 0.07636247, 0.70445134],\n",
              "        [0.10291983, 0.23109868, 0.84789179, 0.98568446, 0.80393899],\n",
              "        [0.70805139, 0.43167372, 0.68269194, 0.51836493, 0.11024581]],\n",
              "\n",
              "       [[0.75940512, 0.86459817, 0.33724737, 0.31685104, 0.01827302],\n",
              "        [0.45642219, 0.06604215, 0.06681786, 0.40926918, 0.07042877],\n",
              "        [0.06643929, 0.48037576, 0.41857826, 0.39690963, 0.37139132]]])"
            ]
          },
          "metadata": {},
          "execution_count": 46
        }
      ],
      "source": [
        "### [your code here]\n",
        "e = a*c\n",
        "e"
      ]
    },
    {
      "cell_type": "markdown",
      "metadata": {
        "id": "K6Uq1ueKDp7m"
      },
      "source": [
        "\n",
        "\n",
        "### 13. Does e equal to a? Why or why not?\n"
      ]
    },
    {
      "cell_type": "code",
      "execution_count": null,
      "metadata": {
        "colab": {
          "base_uri": "https://localhost:8080/"
        },
        "id": "1ty7ms8uDp7n",
        "outputId": "6e3c8f2a-bfb0-44d2-e085-6f50d3af63cc"
      },
      "outputs": [
        {
          "output_type": "stream",
          "name": "stdout",
          "text": [
            "The Multiply of the two array succeeded because they have the same size 2x3x5\n"
          ]
        }
      ],
      "source": [
        "### [your code here]\n",
        "if np.shape(e)==np.shape(a):\n",
        "\n",
        "  print(\"The Multiply of the two array succeeded because they have the same size 2x3x5\")\n",
        "else:\n",
        "  print(\"not equal size\")\n"
      ]
    },
    {
      "cell_type": "markdown",
      "metadata": {
        "id": "v1-3_znVDp7n"
      },
      "source": [
        "\n",
        "\n",
        "### 14. Identify the max, min, and mean values in d. Assign those values to variables \"d_max\", \"d_min\", and \"d_mean\"\n"
      ]
    },
    {
      "cell_type": "code",
      "execution_count": null,
      "metadata": {
        "colab": {
          "base_uri": "https://localhost:8080/"
        },
        "id": "v0cdUeJDDp7p",
        "outputId": "8af332aa-6f4d-4c83-f8b3-0791ba263fa3"
      },
      "outputs": [
        {
          "output_type": "execute_result",
          "data": {
            "text/plain": [
              "1.9856844613557278"
            ]
          },
          "metadata": {},
          "execution_count": 51
        }
      ],
      "source": [
        "### [your code here]\n",
        "d_max= np.max(d)\n",
        "\n",
        "d_max\n"
      ]
    },
    {
      "cell_type": "code",
      "source": [
        "d_min= np.min(d)\n",
        "d_min\n"
      ],
      "metadata": {
        "colab": {
          "base_uri": "https://localhost:8080/"
        },
        "id": "B0gMA2ScO75Y",
        "outputId": "c25bf754-756a-4184-acfd-c21f9713f608"
      },
      "execution_count": null,
      "outputs": [
        {
          "output_type": "execute_result",
          "data": {
            "text/plain": [
              "1.0182730188347733"
            ]
          },
          "metadata": {},
          "execution_count": 52
        }
      ]
    },
    {
      "cell_type": "code",
      "source": [
        "d_mean=np.mean(d)\n",
        "d_mean"
      ],
      "metadata": {
        "colab": {
          "base_uri": "https://localhost:8080/"
        },
        "id": "F4z_kzdnO9Ez",
        "outputId": "e7e32fd1-a5eb-4dbb-824f-3ef2cd732fc0"
      },
      "execution_count": null,
      "outputs": [
        {
          "output_type": "execute_result",
          "data": {
            "text/plain": [
              "1.3967483584957534"
            ]
          },
          "metadata": {},
          "execution_count": 53
        }
      ]
    },
    {
      "cell_type": "markdown",
      "metadata": {
        "id": "gBfoHq8eDp7q"
      },
      "source": [
        "\n",
        "### 15. Now we want to label the values in d. First create an empty array \"f\" with the same shape (i.e. 2x3x5) as d using `np.empty`.\n"
      ]
    },
    {
      "cell_type": "code",
      "execution_count": null,
      "metadata": {
        "colab": {
          "base_uri": "https://localhost:8080/"
        },
        "id": "4RsOrad7Dp7q",
        "outputId": "fe721cae-a17b-4a5c-c8f3-61b3e10668c4"
      },
      "outputs": [
        {
          "output_type": "execute_result",
          "data": {
            "text/plain": [
              "array([[[1.33263291, 1.17194177, 1.09545161, 1.07636247, 1.70445134],\n",
              "        [1.10291983, 1.23109868, 1.84789179, 1.98568446, 1.80393899],\n",
              "        [1.70805139, 1.43167372, 1.68269194, 1.51836493, 1.11024581]],\n",
              "\n",
              "       [[1.75940512, 1.86459817, 1.33724737, 1.31685104, 1.01827302],\n",
              "        [1.45642219, 1.06604215, 1.06681786, 1.40926918, 1.07042877],\n",
              "        [1.06643929, 1.48037576, 1.41857826, 1.39690963, 1.37139132]]])"
            ]
          },
          "metadata": {},
          "execution_count": 54
        }
      ],
      "source": [
        "### [your code here]\n",
        "f=np.empty([2,3,5])\n",
        "f"
      ]
    },
    {
      "cell_type": "markdown",
      "metadata": {
        "id": "jeVNPum-Dp7r"
      },
      "source": [
        "\n",
        "\n",
        "\n",
        "### 16. Populate the values in f. For each value in d, if it's larger than d_min but smaller than d_mean, assign 25 to the corresponding value in f.\n",
        "If a value in d is larger than d_mean but smaller than d_max, assign 75 to the corresponding value in f.\n",
        "If a value equals to d_mean, assign 50 to the corresponding value in f.\n",
        "Assign 0 to the corresponding value(s) in f for d_min in d.\n",
        "Assign 100 to the corresponding value(s) in f for d_max in d.\n",
        "In the end, f should have only the following values: 0, 25, 50, 75, and 100.\n",
        "Note: you don't have to use Numpy in this question.\n",
        "\n"
      ]
    },
    {
      "cell_type": "code",
      "execution_count": null,
      "metadata": {
        "colab": {
          "base_uri": "https://localhost:8080/"
        },
        "id": "3s6Ko_36Dp7s",
        "outputId": "38d01ed8-cce7-4f6c-db3e-8a452ad2388f"
      },
      "outputs": [
        {
          "output_type": "execute_result",
          "data": {
            "text/plain": [
              "array([[[ 25.,  25.,  25.,  25.,  75.],\n",
              "        [ 25.,  25.,  75., 100.,  75.],\n",
              "        [ 75.,  75.,  75.,  75.,  25.]],\n",
              "\n",
              "       [[ 75.,  75.,  25.,  25.,   0.],\n",
              "        [ 75.,  25.,  25.,  75.,  25.],\n",
              "        [ 25.,  75.,  75.,  75.,  25.]]])"
            ]
          },
          "metadata": {},
          "execution_count": 66
        }
      ],
      "source": [
        "### [your code here]\n",
        "f=np.empty([2,3,5])\n",
        "f = np.zeros_like(d)\n",
        "\n",
        "f[(d > d_mean) & (d < d_max)] = 75\n",
        "f[d == d_mean] = 50\n",
        "f[d == d_min] = 0\n",
        "f[d == d_max] = 100\n",
        "f[(d_min < d)&(d < d_mean)] =25\n",
        "\n",
        "\n",
        "f"
      ]
    },
    {
      "cell_type": "markdown",
      "metadata": {
        "id": "Sx8EZyh8Dp7u"
      },
      "source": [
        "\n",
        "\n",
        "\n",
        "\n",
        "### 17. Print d and f. Do you have your expected f?\n",
        "For instance, if your d is:\n",
        "array([[[1.85836099, 1.67064465, 1.62576044, 1.40243961, 1.88454931],\n",
        "        [1.75354326, 1.69403643, 1.36729252, 1.61415071, 1.12104981],\n",
        "        [1.72201435, 1.1862918 , 1.87078449, 1.7726778 , 1.88180042]],\n",
        "\n",
        "       [[1.44747908, 1.31673383, 1.02000951, 1.52218947, 1.97066381],\n",
        "        [1.79129243, 1.74983003, 1.96028037, 1.85166831, 1.65450881],\n",
        "        [1.18068344, 1.9587381 , 1.00656599, 1.93402165, 1.73514584]]])\n",
        "\n",
        "Your f should be:\n",
        "array([[[ 75.,  75.,  75.,  25.,  75.],\n",
        "        [ 75.,  75.,  25.,  25.,  25.],\n",
        "        [ 75.,  25.,  75.,  75.,  75.]],\n",
        "\n",
        "       [[ 25.,  25.,  25.,  25., 100.],\n",
        "        [ 75.,  75.,  75.,  75.,  75.],\n",
        "        [ 25.,  75.,   0.,  75.,  75.]]])\n",
        "\n"
      ]
    },
    {
      "cell_type": "code",
      "execution_count": null,
      "metadata": {
        "colab": {
          "base_uri": "https://localhost:8080/"
        },
        "id": "OBGvqwSDDp7y",
        "outputId": "759cc9ec-f55e-4d8c-d5c6-c6f5f44e094c"
      },
      "outputs": [
        {
          "output_type": "execute_result",
          "data": {
            "text/plain": [
              "array([[[1.33263291, 1.17194177, 1.09545161, 1.07636247, 1.70445134],\n",
              "        [1.10291983, 1.23109868, 1.84789179, 1.98568446, 1.80393899],\n",
              "        [1.70805139, 1.43167372, 1.68269194, 1.51836493, 1.11024581]],\n",
              "\n",
              "       [[1.75940512, 1.86459817, 1.33724737, 1.31685104, 1.01827302],\n",
              "        [1.45642219, 1.06604215, 1.06681786, 1.40926918, 1.07042877],\n",
              "        [1.06643929, 1.48037576, 1.41857826, 1.39690963, 1.37139132]]])"
            ]
          },
          "metadata": {},
          "execution_count": 67
        }
      ],
      "source": [
        "### [your code here]\n",
        "d"
      ]
    },
    {
      "cell_type": "code",
      "source": [
        "f"
      ],
      "metadata": {
        "colab": {
          "base_uri": "https://localhost:8080/"
        },
        "id": "km_PxfmtkeaT",
        "outputId": "2a6882c6-73a8-4484-e3dc-476431e2aff9"
      },
      "execution_count": null,
      "outputs": [
        {
          "output_type": "execute_result",
          "data": {
            "text/plain": [
              "array([[[ 25.,  25.,  25.,  25.,  75.],\n",
              "        [ 25.,  25.,  75., 100.,  75.],\n",
              "        [ 75.,  75.,  75.,  75.,  25.]],\n",
              "\n",
              "       [[ 75.,  75.,  25.,  25.,   0.],\n",
              "        [ 75.,  25.,  25.,  75.,  25.],\n",
              "        [ 25.,  75.,  75.,  75.,  25.]]])"
            ]
          },
          "metadata": {},
          "execution_count": 68
        }
      ]
    },
    {
      "cell_type": "markdown",
      "metadata": {
        "id": "yuw3j7e5Dp7z"
      },
      "source": [
        "### 18. Bonus question: instead of using numbers (i.e. 0, 25, 50, 75, and 100), how to use string values\n",
        "(\"A\", \"B\", \"C\", \"D\", and \"E\") to label the array elements? You are expecting the result to be:\n",
        "array([[[ 'D',  'D',  'D',  'B',  'D'],\n",
        "        [ 'D',  'D',  'B',  'B',  'B'],\n",
        "        [ 'D',  'B',  'D',  'D',  'D']],\n",
        "\n",
        "       [[ 'B',  'B',  'B',  'B',  'E'],\n",
        "        [ 'D',  'D',  'D',  'D',  'D'],\n",
        "        [ 'B',  'D',   'A',  'D', 'D']]])\n",
        "Again, you don't need Numpy in this question."
      ]
    },
    {
      "cell_type": "code",
      "execution_count": null,
      "metadata": {
        "colab": {
          "base_uri": "https://localhost:8080/"
        },
        "id": "I_xJh9TCDp72",
        "outputId": "3d106e04-2269-40ed-da38-b4c8df564149"
      },
      "outputs": [
        {
          "output_type": "execute_result",
          "data": {
            "text/plain": [
              "array([[['E', 'E', 'E', 'E', 'A'],\n",
              "        ['E', 'E', 'A', 'D', 'A'],\n",
              "        ['A', 'A', 'A', 'A', 'E']],\n",
              "\n",
              "       [['A', 'A', 'E', 'E', 'C'],\n",
              "        ['A', 'E', 'E', 'A', 'E'],\n",
              "        ['E', 'A', 'A', 'A', 'E']]], dtype=object)"
            ]
          },
          "metadata": {},
          "execution_count": 72
        }
      ],
      "source": [
        "### [your code here]\n",
        "# f=np.empty([2,3,5])\n",
        "# f = np.zeros_like(d)\n",
        "\n",
        "f=np.empty([2,3,5], dtype=object)\n",
        "\n",
        "f[(d > d_mean) & (d < d_max)] = \"A\"\n",
        "f[d == d_mean] = \"B\"\n",
        "f[d == d_min] = \"C\"\n",
        "f[d == d_max] = \"D\"\n",
        "f[(d_min < d)&(d < d_mean)] =\"E\"\n",
        "\n",
        "\n",
        "\n",
        "f"
      ]
    }
  ],
  "metadata": {
    "kernelspec": {
      "display_name": "Python 3",
      "language": "python",
      "name": "python3"
    },
    "language_info": {
      "codemirror_mode": {
        "name": "ipython",
        "version": 3
      },
      "file_extension": ".py",
      "mimetype": "text/x-python",
      "name": "python",
      "nbconvert_exporter": "python",
      "pygments_lexer": "ipython3",
      "version": "3.8.0"
    },
    "colab": {
      "provenance": []
    }
  },
  "nbformat": 4,
  "nbformat_minor": 0
}