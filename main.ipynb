{
 "cells": [
  {
   "cell_type": "markdown",
   "metadata": {},
   "source": [
    "# Lab | Numpy Deep Dive"
   ]
  },
  {
   "cell_type": "markdown",
   "metadata": {},
   "source": [
    "### 1. Import the NUMPY package under the name np.\n"
   ]
  },
  {
   "cell_type": "code",
   "execution_count": 1,
   "metadata": {},
   "outputs": [],
   "source": [
    "### [your code here]\n",
    "import numpy as np"
   ]
  },
  {
   "cell_type": "markdown",
   "metadata": {},
   "source": [
    "\n",
    "\n",
    "### 2. Print the NUMPY version and the configuration.\n"
   ]
  },
  {
   "cell_type": "code",
   "execution_count": 2,
   "metadata": {},
   "outputs": [
    {
     "name": "stdout",
     "output_type": "stream",
     "text": [
      "1.26.3\n"
     ]
    }
   ],
   "source": [
    "### [your code here]\n",
    "print(np.version.version)"
   ]
  },
  {
   "cell_type": "markdown",
   "metadata": {},
   "source": [
    "### 3. Generate a 2x3x5 3-dimensional array with random values. Assign the array to variable \"a\"\n",
    "Challenge: there are at least three easy ways that use numpy to generate random arrays. How many ways can you find?\n"
   ]
  },
  {
   "cell_type": "code",
   "execution_count": 3,
   "metadata": {},
   "outputs": [],
   "source": [
    "### [your code here]\n",
    "'''1. Uniform methods (rand, random, uniform) generate values in the range [0,1) by default.\n",
    "   2. Normal methods (randn, standard_normal) generate values following the standard normal distribution.'''\n",
    "\n",
    "#Using np.random.rand\n",
    "a = np.random.rand(2, 3, 5)\n"
   ]
  },
  {
   "cell_type": "markdown",
   "metadata": {},
   "source": [
    "\n",
    "### 4. Print a.\n"
   ]
  },
  {
   "cell_type": "code",
   "execution_count": 4,
   "metadata": {},
   "outputs": [
    {
     "name": "stdout",
     "output_type": "stream",
     "text": [
      "[[[0.79511948 0.44706758 0.16610984 0.2469107  0.96045969]\n",
      "  [0.28634539 0.4986157  0.56419897 0.36474554 0.17117913]\n",
      "  [0.39808637 0.85567835 0.18894931 0.31618089 0.12548622]]\n",
      "\n",
      " [[0.44920308 0.41552471 0.34880829 0.21458289 0.64806217]\n",
      "  [0.69913553 0.40355148 0.90943298 0.75380114 0.0314747 ]\n",
      "  [0.04811625 0.00949341 0.49230418 0.84144298 0.94690425]]]\n"
     ]
    }
   ],
   "source": [
    "### [your code here]\n",
    "print(a)\n"
   ]
  },
  {
   "cell_type": "markdown",
   "metadata": {},
   "source": [
    "### 5. Create a 5x2x3 3-dimensional array with all values equaling 1.\n",
    "### Assign the array to variable \"b\"\n"
   ]
  },
  {
   "cell_type": "code",
   "execution_count": 5,
   "metadata": {},
   "outputs": [],
   "source": [
    "### [your code here]\n",
    "b = np.ones((5, 2, 3))"
   ]
  },
  {
   "cell_type": "markdown",
   "metadata": {},
   "source": [
    "\n",
    "### 6. Print b.\n"
   ]
  },
  {
   "cell_type": "code",
   "execution_count": 6,
   "metadata": {},
   "outputs": [
    {
     "name": "stdout",
     "output_type": "stream",
     "text": [
      "[[[1. 1. 1.]\n",
      "  [1. 1. 1.]]\n",
      "\n",
      " [[1. 1. 1.]\n",
      "  [1. 1. 1.]]\n",
      "\n",
      " [[1. 1. 1.]\n",
      "  [1. 1. 1.]]\n",
      "\n",
      " [[1. 1. 1.]\n",
      "  [1. 1. 1.]]\n",
      "\n",
      " [[1. 1. 1.]\n",
      "  [1. 1. 1.]]]\n"
     ]
    }
   ],
   "source": [
    "### [your code here]\n",
    "print(b)"
   ]
  },
  {
   "cell_type": "markdown",
   "metadata": {},
   "source": [
    "\n",
    "### 7. Do a and b have the same size? How do you prove that in Python code?\n"
   ]
  },
  {
   "cell_type": "code",
   "execution_count": 7,
   "metadata": {},
   "outputs": [
    {
     "name": "stdout",
     "output_type": "stream",
     "text": [
      "a and b have the same number of elements.\n"
     ]
    }
   ],
   "source": [
    "### [your code here]\n",
    "#Using (.size) property in NumPy that return how many values the array contains.\n",
    "\n",
    "# assert that they have the same size\n",
    "if a.size == b.size:\n",
    "    print(\"a and b have the same number of elements.\")\n",
    "else:\n",
    "    print(\"a and b do not have the same number of elements.\")"
   ]
  },
  {
   "cell_type": "markdown",
   "metadata": {},
   "source": [
    "\n",
    "### 8. Are you able to add a and b? Why or why not?\n"
   ]
  },
  {
   "cell_type": "code",
   "execution_count": 8,
   "metadata": {},
   "outputs": [
    {
     "name": "stdout",
     "output_type": "stream",
     "text": [
      "Shape of a: (2, 3, 5)\n",
      "Shape of b: (5, 2, 3)\n",
      "Error: operands could not be broadcast together with shapes (2,3,5) (5,2,3) \n"
     ]
    }
   ],
   "source": [
    "### [your code here]\n",
    "'''No, I cannot directly add a and b element-wise because their shapes are different\n",
    " and not compatible for broadcasting.\n",
    " '''\n",
    "print(\"Shape of a:\", a.shape)  # (2, 3, 5)\n",
    "print(\"Shape of b:\", b.shape)  # (5, 2, 3)\n",
    "\n",
    "'''When you running this code, it will output an error message \n",
    "indicating that the operands could not be broadcast together\n",
    " due to incompatible shapes.'''\n",
    "try:\n",
    "    c = a + b\n",
    "except ValueError as e:\n",
    "    print(\"Error:\", e)"
   ]
  },
  {
   "cell_type": "markdown",
   "metadata": {},
   "source": [
    "\n",
    "\n",
    "### 9. Transpose b so that it has the same structure of a (i.e. become a 2x3x5 array). Assign the transposed array to varialbe \"c\".\n"
   ]
  },
  {
   "cell_type": "code",
   "execution_count": 9,
   "metadata": {},
   "outputs": [
    {
     "name": "stdout",
     "output_type": "stream",
     "text": [
      "(2, 3, 5)\n"
     ]
    }
   ],
   "source": [
    "### [your code here]\n",
    "'''The axis with size 2 (currently axis 1) → becomes the first axis.\n",
    "   The axis with size 3 (currently axis 2) → becomes the second axis.\n",
    "   The axis with size 5 (currently axis 0) → becomes the third axis.'''\n",
    "\n",
    "c = b.transpose((1, 2, 0))  # Rearranges b from (5, 2, 3) to (2, 3, 5)\n",
    "print(c.shape)"
   ]
  },
  {
   "cell_type": "markdown",
   "metadata": {},
   "source": [
    "\n",
    "### 10. Try to add a and c. Now it should work. Assign the sum to variable \"d\". But why does it work now?\n"
   ]
  },
  {
   "cell_type": "code",
   "execution_count": 10,
   "metadata": {},
   "outputs": [
    {
     "name": "stdout",
     "output_type": "stream",
     "text": [
      "[[[1.79511948 1.44706758 1.16610984 1.2469107  1.96045969]\n",
      "  [1.28634539 1.4986157  1.56419897 1.36474554 1.17117913]\n",
      "  [1.39808637 1.85567835 1.18894931 1.31618089 1.12548622]]\n",
      "\n",
      " [[1.44920308 1.41552471 1.34880829 1.21458289 1.64806217]\n",
      "  [1.69913553 1.40355148 1.90943298 1.75380114 1.0314747 ]\n",
      "  [1.04811625 1.00949341 1.49230418 1.84144298 1.94690425]]]\n"
     ]
    }
   ],
   "source": [
    "### [your code here]\n",
    "# cause after transposing b, the resulting array c has shape (2, 3, 5), the same as a.\n",
    "d = a + c\n",
    "print(d)"
   ]
  },
  {
   "cell_type": "markdown",
   "metadata": {},
   "source": [
    "\n",
    "### 11. Print a and d. Notice the difference and relation of the two array in terms of the values? Explain.\n"
   ]
  },
  {
   "cell_type": "code",
   "execution_count": 11,
   "metadata": {},
   "outputs": [
    {
     "name": "stdout",
     "output_type": "stream",
     "text": [
      "a= [[[0.79511948 0.44706758 0.16610984 0.2469107  0.96045969]\n",
      "  [0.28634539 0.4986157  0.56419897 0.36474554 0.17117913]\n",
      "  [0.39808637 0.85567835 0.18894931 0.31618089 0.12548622]]\n",
      "\n",
      " [[0.44920308 0.41552471 0.34880829 0.21458289 0.64806217]\n",
      "  [0.69913553 0.40355148 0.90943298 0.75380114 0.0314747 ]\n",
      "  [0.04811625 0.00949341 0.49230418 0.84144298 0.94690425]]] \n",
      "\n",
      "d= [[[1.79511948 1.44706758 1.16610984 1.2469107  1.96045969]\n",
      "  [1.28634539 1.4986157  1.56419897 1.36474554 1.17117913]\n",
      "  [1.39808637 1.85567835 1.18894931 1.31618089 1.12548622]]\n",
      "\n",
      " [[1.44920308 1.41552471 1.34880829 1.21458289 1.64806217]\n",
      "  [1.69913553 1.40355148 1.90943298 1.75380114 1.0314747 ]\n",
      "  [1.04811625 1.00949341 1.49230418 1.84144298 1.94690425]]]\n"
     ]
    }
   ],
   "source": [
    "### [your code here]\n",
    "'''Array a: Contains random values.\n",
    "   Array c: Since b was filled with ones, c is also filled with ones.\n",
    "   Array d: is the result of adding a constant value of 1 to every element of a.'''\n",
    "print(f\"a= {a} \\n\\nd= {d}\")\n",
    "\n"
   ]
  },
  {
   "cell_type": "markdown",
   "metadata": {},
   "source": [
    "\n",
    "### 12. Multiply a and c. Assign the result to e.\n"
   ]
  },
  {
   "cell_type": "code",
   "execution_count": 12,
   "metadata": {},
   "outputs": [],
   "source": [
    "### [your code here]\n",
    "e = a*c\n"
   ]
  },
  {
   "cell_type": "markdown",
   "metadata": {},
   "source": [
    "\n",
    "\n",
    "### 13. Does e equal to a? Why or why not?\n"
   ]
  },
  {
   "cell_type": "code",
   "execution_count": 13,
   "metadata": {},
   "outputs": [
    {
     "name": "stdout",
     "output_type": "stream",
     "text": [
      "[[[0.79511948 0.44706758 0.16610984 0.2469107  0.96045969]\n",
      "  [0.28634539 0.4986157  0.56419897 0.36474554 0.17117913]\n",
      "  [0.39808637 0.85567835 0.18894931 0.31618089 0.12548622]]\n",
      "\n",
      " [[0.44920308 0.41552471 0.34880829 0.21458289 0.64806217]\n",
      "  [0.69913553 0.40355148 0.90943298 0.75380114 0.0314747 ]\n",
      "  [0.04811625 0.00949341 0.49230418 0.84144298 0.94690425]]]\n"
     ]
    }
   ],
   "source": [
    "### [your code here]\n",
    "'''yes, Since we multiplay a by c that filled with ones, e identecal to a'''\n",
    "print(e)\n"
   ]
  },
  {
   "cell_type": "markdown",
   "metadata": {},
   "source": [
    "\n",
    "\n",
    "### 14. Identify the max, min, and mean values in d. Assign those values to variables \"d_max\", \"d_min\", and \"d_mean\"\n"
   ]
  },
  {
   "cell_type": "code",
   "execution_count": 14,
   "metadata": {},
   "outputs": [
    {
     "name": "stdout",
     "output_type": "stream",
     "text": [
      "The max of d =1.9604596861622823\n",
      "The min of d =1.0094934070295352\n",
      "The mean of d =1.4532323732305508\n"
     ]
    }
   ],
   "source": [
    "### [your code here]\n",
    "d_max = np.max(d)\n",
    "d_min = np.min(d)\n",
    "d_mean = np.mean(d)\n",
    "\n",
    "print(f\"The max of d ={d_max}\\nThe min of d ={d_min}\\nThe mean of d ={d_mean}\")\n",
    "\n"
   ]
  },
  {
   "cell_type": "markdown",
   "metadata": {},
   "source": [
    "\n",
    "### 15. Now we want to label the values in d. First create an empty array \"f\" with the same shape (i.e. 2x3x5) as d using `np.empty`.\n"
   ]
  },
  {
   "cell_type": "code",
   "execution_count": 15,
   "metadata": {},
   "outputs": [],
   "source": [
    "### [your code here]\n",
    "f = np.empty((2,3,5))\n"
   ]
  },
  {
   "cell_type": "markdown",
   "metadata": {},
   "source": [
    "\n",
    "\n",
    "\n",
    "### 16. Populate the values in f. For each value in d, if it's larger than d_min but smaller than d_mean, assign 25 to the corresponding value in f.\n",
    "If a value in d is larger than d_mean but smaller than d_max, assign 75 to the corresponding value in f.\n",
    "If a value equals to d_mean, assign 50 to the corresponding value in f.\n",
    "Assign 0 to the corresponding value(s) in f for d_min in d.\n",
    "Assign 100 to the corresponding value(s) in f for d_max in d.\n",
    "In the end, f should have only the following values: 0, 25, 50, 75, and 100.\n",
    "Note: you don't have to use Numpy in this question.\n",
    "\n"
   ]
  },
  {
   "cell_type": "code",
   "execution_count": 16,
   "metadata": {},
   "outputs": [],
   "source": [
    "### [your code here]\n",
    "# Iterate over all indices of d using np.ndindex\n",
    "f[(d > d_min) & (d < d_mean)] = 25\n",
    "f[(d > d_mean) & (d < d_max)] = 75\n",
    "f[d == d_mean] = 50\n",
    "f[d == d_min] = 0\n",
    "f[d == d_max] = 100\n"
   ]
  },
  {
   "cell_type": "markdown",
   "metadata": {},
   "source": [
    "\n",
    "\n",
    "\n",
    "\n",
    "### 17. Print d and f. Do you have your expected f?\n",
    "For instance, if your d is:\n",
    "array([[[1.85836099, 1.67064465, 1.62576044, 1.40243961, 1.88454931],\n",
    "        [1.75354326, 1.69403643, 1.36729252, 1.61415071, 1.12104981],\n",
    "        [1.72201435, 1.1862918 , 1.87078449, 1.7726778 , 1.88180042]],\n",
    "\n",
    "       [[1.44747908, 1.31673383, 1.02000951, 1.52218947, 1.97066381],\n",
    "        [1.79129243, 1.74983003, 1.96028037, 1.85166831, 1.65450881],\n",
    "        [1.18068344, 1.9587381 , 1.00656599, 1.93402165, 1.73514584]]])\n",
    "\n",
    "Your f should be:\n",
    "array([[[ 75.,  75.,  75.,  25.,  75.],\n",
    "        [ 75.,  75.,  25.,  25.,  25.],\n",
    "        [ 75.,  25.,  75.,  75.,  75.]],\n",
    "\n",
    "       [[ 25.,  25.,  25.,  25., 100.],\n",
    "        [ 75.,  75.,  75.,  75.,  75.],\n",
    "        [ 25.,  75.,   0.,  75.,  75.]]])\n",
    "\n"
   ]
  },
  {
   "cell_type": "code",
   "execution_count": 17,
   "metadata": {},
   "outputs": [
    {
     "name": "stdout",
     "output_type": "stream",
     "text": [
      "d= [[[1.79511948 1.44706758 1.16610984 1.2469107  1.96045969]\n",
      "  [1.28634539 1.4986157  1.56419897 1.36474554 1.17117913]\n",
      "  [1.39808637 1.85567835 1.18894931 1.31618089 1.12548622]]\n",
      "\n",
      " [[1.44920308 1.41552471 1.34880829 1.21458289 1.64806217]\n",
      "  [1.69913553 1.40355148 1.90943298 1.75380114 1.0314747 ]\n",
      "  [1.04811625 1.00949341 1.49230418 1.84144298 1.94690425]]] \n",
      "\n",
      "f= [[[ 75.  25.  25.  25. 100.]\n",
      "  [ 25.  75.  75.  25.  25.]\n",
      "  [ 25.  75.  25.  25.  25.]]\n",
      "\n",
      " [[ 25.  25.  25.  25.  75.]\n",
      "  [ 75.  25.  75.  75.  25.]\n",
      "  [ 25.   0.  75.  75.  75.]]]\n"
     ]
    }
   ],
   "source": [
    "### [your code here]\n",
    "print(f\"d= {d} \\n\\nf= {f}\")\n"
   ]
  },
  {
   "cell_type": "markdown",
   "metadata": {},
   "source": [
    "### 18. Bonus question: instead of using numbers (i.e. 0, 25, 50, 75, and 100), how to use string values \n",
    "(\"A\", \"B\", \"C\", \"D\", and \"E\") to label the array elements? You are expecting the result to be:\n",
    "array([[[ 'D',  'D',  'D',  'B',  'D'],\n",
    "        [ 'D',  'D',  'B',  'B',  'B'],\n",
    "        [ 'D',  'B',  'D',  'D',  'D']],\n",
    "\n",
    "       [[ 'B',  'B',  'B',  'B',  'E'],\n",
    "        [ 'D',  'D',  'D',  'D',  'D'],\n",
    "        [ 'B',  'D',   'A',  'D', 'D']]])\n",
    "Again, you don't need Numpy in this question."
   ]
  },
  {
   "cell_type": "code",
   "execution_count": 18,
   "metadata": {},
   "outputs": [
    {
     "name": "stdout",
     "output_type": "stream",
     "text": [
      "['D', 'B', 'B', 'B', 'E']\n",
      "['B', 'D', 'D', 'B', 'B']\n",
      "['B', 'D', 'B', 'B', 'B']\n",
      "['B', 'B', 'B', 'B', 'D']\n",
      "['D', 'B', 'D', 'D', 'B']\n",
      "['B', 'A', 'D', 'D', 'D']\n"
     ]
    }
   ],
   "source": [
    "### [your code here]\n",
    "\n",
    "# Create a new nested list f with the same structure as d.\n",
    "f = []\n",
    "for i in range(len(d)):           # iterate over the 2 blocks\n",
    "    block_labels = []\n",
    "    for j in range(len(d[i])):    # iterate over the 3 rows in each block\n",
    "        row_labels = []\n",
    "        for k in range(len(d[i][j])):  # iterate over the 5 elements in each row\n",
    "            value = d[i][j][k]\n",
    "            if value == d_min:\n",
    "                row_labels.append(\"A\")\n",
    "            elif value == d_max:\n",
    "                row_labels.append(\"E\")\n",
    "            elif value == d_mean:\n",
    "                row_labels.append(\"C\")\n",
    "            elif d_min < value < d_mean:\n",
    "                row_labels.append(\"B\")\n",
    "            elif d_mean < value < d_max:\n",
    "                row_labels.append(\"D\")\n",
    "        block_labels.append(row_labels)\n",
    "    f.append(block_labels)\n",
    "\n",
    "# Display the resulting nested list f.\n",
    "for block in f:\n",
    "    for row in block:\n",
    "        print(row)\n"
   ]
  }
 ],
 "metadata": {
  "kernelspec": {
   "display_name": "Python 3",
   "language": "python",
   "name": "python3"
  },
  "language_info": {
   "codemirror_mode": {
    "name": "ipython",
    "version": 3
   },
   "file_extension": ".py",
   "mimetype": "text/x-python",
   "name": "python",
   "nbconvert_exporter": "python",
   "pygments_lexer": "ipython3",
   "version": "3.12.0"
  }
 },
 "nbformat": 4,
 "nbformat_minor": 2
}
