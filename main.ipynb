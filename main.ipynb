{
 "cells": [
  {
   "cell_type": "markdown",
   "metadata": {},
   "source": [
    "# Lab | Numpy Deep Dive"
   ]
  },
  {
   "cell_type": "markdown",
   "metadata": {},
   "source": [
    "### 1. Import the NUMPY package under the name np.\n"
   ]
  },
  {
   "cell_type": "code",
   "execution_count": 6,
   "metadata": {},
   "outputs": [],
   "source": [
    "import numpy as np"
   ]
  },
  {
   "cell_type": "markdown",
   "metadata": {},
   "source": [
    "\n",
    "\n",
    "### 2. Print the NUMPY version and the configuration.\n"
   ]
  },
  {
   "cell_type": "code",
   "execution_count": 7,
   "metadata": {},
   "outputs": [
    {
     "name": "stdout",
     "output_type": "stream",
     "text": [
      "NumPy Version: 2.2.2\n",
      "Build Dependencies:\n",
      "  blas:\n",
      "    detection method: pkgconfig\n",
      "    found: true\n",
      "    include directory: C:/Users/reema/anaconda3/envs/ironhack/Library/include\n",
      "    lib directory: C:/Users/reema/anaconda3/envs/ironhack/Library/lib\n",
      "    name: mkl-sdl\n",
      "    openblas configuration: unknown\n",
      "    pc file directory: C:\\b\\abs_56qrev29w_\\croot\\numpy_and_numpy_base_1738155838326\\_h_env\\Library\\lib\\pkgconfig\n",
      "    version: '2023.1'\n",
      "  lapack:\n",
      "    detection method: pkgconfig\n",
      "    found: true\n",
      "    include directory: C:/Users/reema/anaconda3/envs/ironhack/Library/include\n",
      "    lib directory: C:/Users/reema/anaconda3/envs/ironhack/Library/lib\n",
      "    name: mkl-sdl\n",
      "    openblas configuration: unknown\n",
      "    pc file directory: C:\\b\\abs_56qrev29w_\\croot\\numpy_and_numpy_base_1738155838326\\_h_env\\Library\\lib\\pkgconfig\n",
      "    version: '2023.1'\n",
      "Compilers:\n",
      "  c:\n",
      "    commands: cl.exe\n",
      "    linker: link\n",
      "    name: msvc\n",
      "    version: 19.29.30158\n",
      "  c++:\n",
      "    commands: cl.exe\n",
      "    linker: link\n",
      "    name: msvc\n",
      "    version: 19.29.30158\n",
      "  cython:\n",
      "    commands: cython\n",
      "    linker: cython\n",
      "    name: cython\n",
      "    version: 3.0.11\n",
      "Machine Information:\n",
      "  build:\n",
      "    cpu: x86_64\n",
      "    endian: little\n",
      "    family: x86_64\n",
      "    system: windows\n",
      "  host:\n",
      "    cpu: x86_64\n",
      "    endian: little\n",
      "    family: x86_64\n",
      "    system: windows\n",
      "Python Information:\n",
      "  path: C:\\b\\abs_56qrev29w_\\croot\\numpy_and_numpy_base_1738155838326\\_h_env\\python.exe\n",
      "  version: '3.10'\n",
      "SIMD Extensions:\n",
      "  baseline:\n",
      "  - SSE\n",
      "  - SSE2\n",
      "  - SSE3\n",
      "  found:\n",
      "  - SSSE3\n",
      "  - SSE41\n",
      "  - POPCNT\n",
      "  - SSE42\n",
      "  - AVX\n",
      "  - F16C\n",
      "  - FMA3\n",
      "  - AVX2\n",
      "  - AVX512F\n",
      "  - AVX512CD\n",
      "  - AVX512_SKX\n",
      "  - AVX512_CLX\n",
      "  - AVX512_CNL\n",
      "  - AVX512_ICL\n",
      "\n"
     ]
    }
   ],
   "source": [
    "print(\"NumPy Version:\", np.__version__)\n",
    "np.show_config()"
   ]
  },
  {
   "cell_type": "markdown",
   "metadata": {},
   "source": [
    "### 3. Generate a 2x3x5 3-dimensional array with random values. Assign the array to variable \"a\"\n",
    "Challenge: there are at least three easy ways that use numpy to generate random arrays. How many ways can you find?\n"
   ]
  },
  {
   "cell_type": "code",
   "execution_count": 8,
   "metadata": {},
   "outputs": [],
   "source": [
    "a = np.random.randint(0, 100, (2, 3, 5))  # Random integers from 0 to 99"
   ]
  },
  {
   "cell_type": "markdown",
   "metadata": {},
   "source": [
    "\n",
    "### 4. Print a.\n"
   ]
  },
  {
   "cell_type": "code",
   "execution_count": 9,
   "metadata": {},
   "outputs": [
    {
     "name": "stdout",
     "output_type": "stream",
     "text": [
      "[[[ 2 84  7 18 88]\n",
      "  [ 5 65 29 67 59]\n",
      "  [38 14 28 60  3]]\n",
      "\n",
      " [[52  9  2  1 69]\n",
      "  [65  9 21 33 32]\n",
      "  [98 14 77 98 48]]]\n"
     ]
    }
   ],
   "source": [
    "print(a)\n"
   ]
  },
  {
   "cell_type": "markdown",
   "metadata": {},
   "source": [
    "### 5. Create a 5x2x3 3-dimensional array with all values equaling 1.\n",
    "### Assign the array to variable \"b\"\n"
   ]
  },
  {
   "cell_type": "code",
   "execution_count": 10,
   "metadata": {},
   "outputs": [],
   "source": [
    "b = np.ones((5, 2, 3))"
   ]
  },
  {
   "cell_type": "markdown",
   "metadata": {},
   "source": [
    "\n",
    "### 6. Print b.\n"
   ]
  },
  {
   "cell_type": "code",
   "execution_count": 11,
   "metadata": {},
   "outputs": [
    {
     "name": "stdout",
     "output_type": "stream",
     "text": [
      "[[[1. 1. 1.]\n",
      "  [1. 1. 1.]]\n",
      "\n",
      " [[1. 1. 1.]\n",
      "  [1. 1. 1.]]\n",
      "\n",
      " [[1. 1. 1.]\n",
      "  [1. 1. 1.]]\n",
      "\n",
      " [[1. 1. 1.]\n",
      "  [1. 1. 1.]]\n",
      "\n",
      " [[1. 1. 1.]\n",
      "  [1. 1. 1.]]]\n"
     ]
    }
   ],
   "source": [
    "print(b)"
   ]
  },
  {
   "cell_type": "markdown",
   "metadata": {},
   "source": [
    "\n",
    "### 7. Do a and b have the same size? How do you prove that in Python code?\n"
   ]
  },
  {
   "cell_type": "code",
   "execution_count": 12,
   "metadata": {},
   "outputs": [
    {
     "name": "stdout",
     "output_type": "stream",
     "text": [
      "Size of a: 30\n",
      "Size of b: 30\n",
      "a and b have the same size.\n"
     ]
    }
   ],
   "source": [
    "print(\"Size of a:\", a.size)\n",
    "print(\"Size of b:\", b.size)\n",
    "\n",
    "if a.size == b.size:\n",
    "    print(\"a and b have the same size.\")\n",
    "else:\n",
    "    print(\"a and b do not have the same size.\")"
   ]
  },
  {
   "cell_type": "markdown",
   "metadata": {},
   "source": [
    "\n",
    "### 8. Are you able to add a and b? Why or why not?\n"
   ]
  },
  {
   "cell_type": "code",
   "execution_count": 13,
   "metadata": {},
   "outputs": [
    {
     "name": "stdout",
     "output_type": "stream",
     "text": [
      "Shape of a: (2, 3, 5)\n",
      "Shape of b: (5, 2, 3)\n",
      "Error: operands could not be broadcast together with shapes (2,3,5) (5,2,3) \n"
     ]
    }
   ],
   "source": [
    "print(\"Shape of a:\", a.shape)  \n",
    "print(\"Shape of b:\", b.shape)  \n",
    "\n",
    "try:\n",
    "    c = a + b\n",
    "    print(\"Addition successful!\")\n",
    "except ValueError as e:\n",
    "    print(\"Error:\", e)"
   ]
  },
  {
   "cell_type": "markdown",
   "metadata": {},
   "source": [
    "\n",
    "\n",
    "### 9. Transpose b so that it has the same structure of a (i.e. become a 2x3x5 array). Assign the transposed array to varialbe \"c\".\n"
   ]
  },
  {
   "cell_type": "code",
   "execution_count": 14,
   "metadata": {},
   "outputs": [
    {
     "name": "stdout",
     "output_type": "stream",
     "text": [
      "Shape of a: (2, 3, 5)\n",
      "Shape of b before transpose: (5, 2, 3)\n",
      "Shape of c after transpose: (2, 3, 5)\n"
     ]
    }
   ],
   "source": [
    "c = np.transpose(b, (1, 2, 0))\n",
    "\n",
    "print(\"Shape of a:\", a.shape)\n",
    "print(\"Shape of b before transpose:\", b.shape)  # (5,2,3)\n",
    "print(\"Shape of c after transpose:\", c.shape) "
   ]
  },
  {
   "cell_type": "markdown",
   "metadata": {},
   "source": [
    "\n",
    "### 10. Try to add a and c. Now it should work. Assign the sum to variable \"d\". But why does it work now?\n"
   ]
  },
  {
   "cell_type": "code",
   "execution_count": 15,
   "metadata": {},
   "outputs": [
    {
     "name": "stdout",
     "output_type": "stream",
     "text": [
      "Shape of a: (2, 3, 5)\n",
      "Shape of c: (2, 3, 5)\n",
      "Shape of d: (2, 3, 5)\n",
      "\n",
      " Result (d):\n",
      " [[[ 3. 85.  8. 19. 89.]\n",
      "  [ 6. 66. 30. 68. 60.]\n",
      "  [39. 15. 29. 61.  4.]]\n",
      "\n",
      " [[53. 10.  3.  2. 70.]\n",
      "  [66. 10. 22. 34. 33.]\n",
      "  [99. 15. 78. 99. 49.]]]\n"
     ]
    }
   ],
   "source": [
    "d= a + c\n",
    "print(\"Shape of a:\", a.shape) \n",
    "print(\"Shape of c:\", c.shape)  \n",
    "print(\"Shape of d:\", d.shape)  \n",
    "print(\"\\n Result (d):\\n\", d)"
   ]
  },
  {
   "cell_type": "markdown",
   "metadata": {},
   "source": [
    "\n",
    "### 11. Print a and d. Notice the difference and relation of the two array in terms of the values? Explain.\n"
   ]
  },
  {
   "cell_type": "code",
   "execution_count": 16,
   "metadata": {
    "scrolled": true
   },
   "outputs": [
    {
     "name": "stdout",
     "output_type": "stream",
     "text": [
      "Array a: \n",
      "  [[[ 2 84  7 18 88]\n",
      "  [ 5 65 29 67 59]\n",
      "  [38 14 28 60  3]]\n",
      "\n",
      " [[52  9  2  1 69]\n",
      "  [65  9 21 33 32]\n",
      "  [98 14 77 98 48]]]\n",
      "Array d: \n",
      "  [[[ 3. 85.  8. 19. 89.]\n",
      "  [ 6. 66. 30. 68. 60.]\n",
      "  [39. 15. 29. 61.  4.]]\n",
      "\n",
      " [[53. 10.  3.  2. 70.]\n",
      "  [66. 10. 22. 34. 33.]\n",
      "  [99. 15. 78. 99. 49.]]]\n"
     ]
    },
    {
     "data": {
      "text/plain": [
       "'\\nDifference Between a and d:\\n1. Shape Comparison\\nSame shape: Both arrays have the exact same structure (2,3,5).\\n2. Value Relationship\\nValues in d are all shifted up by 1 compared to a.\\nNo values changed in position, only increased in magnitude by a fixed amount\\n'"
      ]
     },
     "execution_count": 16,
     "metadata": {},
     "output_type": "execute_result"
    }
   ],
   "source": [
    "print(\"Array a: \\n \",a)\n",
    "print(\"Array d: \\n \",d)\n",
    "\n",
    "\"\"\"\n",
    "Difference Between a and d:\n",
    "1. Shape Comparison\n",
    "Same shape: Both arrays have the exact same structure (2,3,5).\n",
    "2. Value Relationship\n",
    "Values in d are all shifted up by 1 compared to a.\n",
    "No values changed in position, only increased in magnitude by a fixed amount\n",
    "\"\"\""
   ]
  },
  {
   "cell_type": "markdown",
   "metadata": {},
   "source": [
    "\n",
    "### 12. Multiply a and c. Assign the result to e.\n"
   ]
  },
  {
   "cell_type": "code",
   "execution_count": 17,
   "metadata": {},
   "outputs": [
    {
     "name": "stdout",
     "output_type": "stream",
     "text": [
      "[[[ 2. 84.  7. 18. 88.]\n",
      "  [ 5. 65. 29. 67. 59.]\n",
      "  [38. 14. 28. 60.  3.]]\n",
      "\n",
      " [[52.  9.  2.  1. 69.]\n",
      "  [65.  9. 21. 33. 32.]\n",
      "  [98. 14. 77. 98. 48.]]]\n"
     ]
    }
   ],
   "source": [
    "e = a * c\n",
    "print (e)"
   ]
  },
  {
   "cell_type": "markdown",
   "metadata": {},
   "source": [
    "\n",
    "\n",
    "### 13. Does e equal to a? Why or why not?\n"
   ]
  },
  {
   "cell_type": "code",
   "execution_count": 18,
   "metadata": {
    "scrolled": true
   },
   "outputs": [
    {
     "name": "stdout",
     "output_type": "stream",
     "text": [
      "Yes, e is equal to a.\n"
     ]
    },
    {
     "data": {
      "text/plain": [
       "'\\n If c contained values other than 1, e would have different values.\\nBut because c is filled with ones, e remains the same as a.\\n'"
      ]
     },
     "execution_count": 18,
     "metadata": {},
     "output_type": "execute_result"
    }
   ],
   "source": [
    "if np.array_equal(e, a):\n",
    "    print(\"Yes, e is equal to a.\")\n",
    "else:\n",
    "    print(\"No, e is not equal to a.\")\n",
    "\n",
    "\"\"\"\n",
    " If c contained values other than 1, e would have different values.\n",
    "But because c is filled with ones, e remains the same as a.\n",
    "\"\"\""
   ]
  },
  {
   "cell_type": "markdown",
   "metadata": {},
   "source": [
    "\n",
    "\n",
    "### 14. Identify the max, min, and mean values in d. Assign those values to variables \"d_max\", \"d_min\", and \"d_mean\"\n"
   ]
  },
  {
   "cell_type": "code",
   "execution_count": 20,
   "metadata": {},
   "outputs": [
    {
     "name": "stdout",
     "output_type": "stream",
     "text": [
      "Maximum value in d: 99.0\n",
      "Minimum value in d: 2.0\n",
      "Mean value in d: 40.833333333333336\n"
     ]
    }
   ],
   "source": [
    "d_max = np.max(d)\n",
    "d_min = np.min(d)\n",
    "d_mean = np.mean(d)\n",
    "print(\"Maximum value in d:\", d_max)\n",
    "print(\"Minimum value in d:\", d_min)\n",
    "print(\"Mean value in d:\", d_mean)"
   ]
  },
  {
   "cell_type": "markdown",
   "metadata": {},
   "source": [
    "\n",
    "### 15. Now we want to label the values in d. First create an empty array \"f\" with the same shape (i.e. 2x3x5) as d using `np.empty`.\n"
   ]
  },
  {
   "cell_type": "code",
   "execution_count": 51,
   "metadata": {},
   "outputs": [
    {
     "name": "stdout",
     "output_type": "stream",
     "text": [
      "[[[4627730092099895296 4634978072750194688 4627730092099895296\n",
      "   4627730092099895296 4634978072750194688]\n",
      "  [4627730092099895296 4634978072750194688 4627730092099895296\n",
      "   4634978072750194688 4634978072750194688]\n",
      "  [4627730092099895296 4627730092099895296 4627730092099895296\n",
      "   4634978072750194688 4627730092099895296]]\n",
      "\n",
      " [[4634978072750194688 4627730092099895296 4627730092099895296\n",
      "   4607182418800017408 4634978072750194688]\n",
      "  [4634978072750194688 4627730092099895296 4627730092099895296\n",
      "   4627730092099895296 4627730092099895296]\n",
      "  [4636737291354636288 4627730092099895296 4634978072750194688\n",
      "   4636737291354636288 4634978072750194688]]]\n"
     ]
    }
   ],
   "source": [
    "f = np.empty_like(d , dtype = int) \n",
    "print (f)"
   ]
  },
  {
   "cell_type": "markdown",
   "metadata": {},
   "source": [
    "\n",
    "\n",
    "\n",
    "### 16. Populate the values in f. For each value in d, if it's larger than d_min but smaller than d_mean, assign 25 to the corresponding value in f.\n",
    "If a value in d is larger than d_mean but smaller than d_max, assign 75 to the corresponding value in f.\n",
    "If a value equals to d_mean, assign 50 to the corresponding value in f.\n",
    "Assign 0 to the corresponding value(s) in f for d_min in d.\n",
    "Assign 100 to the corresponding value(s) in f for d_max in d.\n",
    "In the end, f should have only the following values: 0, 25, 50, 75, and 100.\n",
    "Note: you don't have to use Numpy in this question.\n",
    "\n"
   ]
  },
  {
   "cell_type": "code",
   "execution_count": 52,
   "metadata": {},
   "outputs": [
    {
     "name": "stdout",
     "output_type": "stream",
     "text": [
      "Labeled array f:\n",
      " [[[ 25  75  25  25  75]\n",
      "  [ 25  75  25  75  75]\n",
      "  [ 25  25  25  75  25]]\n",
      "\n",
      " [[ 75  25  25   0  75]\n",
      "  [ 75  25  25  25  25]\n",
      "  [100  25  75 100  75]]]\n"
     ]
    }
   ],
   "source": [
    "f[d == d_min] = 0       \n",
    "f[(d > d_min) & (d < d_mean)] = 25  \n",
    "f[d == d_mean] = 50   \n",
    "f[(d > d_mean) & (d < d_max)] = 75 \n",
    "f[d == d_max] = 100    \n",
    "\n",
    "print(\"Labeled array f:\\n\", f)"
   ]
  },
  {
   "cell_type": "markdown",
   "metadata": {},
   "source": [
    "\n",
    "\n",
    "\n",
    "\n",
    "### 17. Print d and f. Do you have your expected f?\n",
    "For instance, if your d is:\n",
    "array([[[1.85836099, 1.67064465, 1.62576044, 1.40243961, 1.88454931],\n",
    "        [1.75354326, 1.69403643, 1.36729252, 1.61415071, 1.12104981],\n",
    "        [1.72201435, 1.1862918 , 1.87078449, 1.7726778 , 1.88180042]],\n",
    "\n",
    "       [[1.44747908, 1.31673383, 1.02000951, 1.52218947, 1.97066381],\n",
    "        [1.79129243, 1.74983003, 1.96028037, 1.85166831, 1.65450881],\n",
    "        [1.18068344, 1.9587381 , 1.00656599, 1.93402165, 1.73514584]]])\n",
    "\n",
    "Your f should be:\n",
    "array([[[ 75.,  75.,  75.,  25.,  75.],\n",
    "        [ 75.,  75.,  25.,  25.,  25.],\n",
    "        [ 75.,  25.,  75.,  75.,  75.]],\n",
    "\n",
    "       [[ 25.,  25.,  25.,  25., 100.],\n",
    "        [ 75.,  75.,  75.,  75.,  75.],\n",
    "        [ 25.,  75.,   0.,  75.,  75.]]])\n",
    "\n"
   ]
  },
  {
   "cell_type": "code",
   "execution_count": 55,
   "metadata": {},
   "outputs": [
    {
     "name": "stdout",
     "output_type": "stream",
     "text": [
      "Array d:\n",
      " [[[ 3. 85.  8. 19. 89.]\n",
      "  [ 6. 66. 30. 68. 60.]\n",
      "  [39. 15. 29. 61.  4.]]\n",
      "\n",
      " [[53. 10.  3.  2. 70.]\n",
      "  [66. 10. 22. 34. 33.]\n",
      "  [99. 15. 78. 99. 49.]]]\n",
      "\n",
      "Labeled array f:\n",
      " [[[ 25  75  25  25  75]\n",
      "  [ 25  75  25  75  75]\n",
      "  [ 25  25  25  75  25]]\n",
      "\n",
      " [[ 75  25  25   0  75]\n",
      "  [ 75  25  25  25  25]\n",
      "  [100  25  75 100  75]]]\n",
      "\n",
      "Unique values in f: [  0  25  75 100]\n"
     ]
    }
   ],
   "source": [
    "# Print d and f\n",
    "print(\"Array d:\\n\", d)\n",
    "print(\"\\nLabeled array f:\\n\", f)\n",
    "\n",
    "# Check if f contains only the expected values\n",
    "print(\"\\nUnique values in f:\", np.unique(f))\n"
   ]
  },
  {
   "cell_type": "markdown",
   "metadata": {},
   "source": [
    "### 18. Bonus question: instead of using numbers (i.e. 0, 25, 50, 75, and 100), how to use string values \n",
    "(\"A\", \"B\", \"C\", \"D\", and \"E\") to label the array elements? You are expecting the result to be:\n",
    "array([[[ 'D',  'D',  'D',  'B',  'D'],\n",
    "        [ 'D',  'D',  'B',  'B',  'B'],\n",
    "        [ 'D',  'B',  'D',  'D',  'D']],\n",
    "\n",
    "       [[ 'B',  'B',  'B',  'B',  'E'],\n",
    "        [ 'D',  'D',  'D',  'D',  'D'],\n",
    "        [ 'B',  'D',   'A',  'D', 'D']]])\n",
    "Again, you don't need Numpy in this question."
   ]
  },
  {
   "cell_type": "code",
   "execution_count": 58,
   "metadata": {},
   "outputs": [
    {
     "name": "stdout",
     "output_type": "stream",
     "text": [
      "Labeled array f (with strings):\n",
      " [[['B' 'D' 'B' 'B' 'D']\n",
      "  ['B' 'D' 'B' 'D' 'D']\n",
      "  ['B' 'B' 'B' 'D' 'B']]\n",
      "\n",
      " [['D' 'B' 'B' 'A' 'D']\n",
      "  ['D' 'B' 'B' 'B' 'B']\n",
      "  ['E' 'B' 'D' 'E' 'D']]]\n"
     ]
    }
   ],
   "source": [
    "f_str = np.empty(d.shape, dtype=str)  \n",
    "\n",
    "f_str[f == 0] = 'A'     \n",
    "f_str[f == 25] = 'B'    \n",
    "f_str[f == 50] = 'C'   \n",
    "f_str[f == 75] = 'D'   \n",
    "f_str[f == 100] = 'E'  \n",
    "\n",
    "print(\"Labeled array f (with strings):\\n\", f_str)"
   ]
  }
 ],
 "metadata": {
  "kernelspec": {
   "display_name": "Python 3 (ipykernel)",
   "language": "python",
   "name": "python3"
  },
  "language_info": {
   "codemirror_mode": {
    "name": "ipython",
    "version": 3
   },
   "file_extension": ".py",
   "mimetype": "text/x-python",
   "name": "python",
   "nbconvert_exporter": "python",
   "pygments_lexer": "ipython3",
   "version": "3.10.16"
  }
 },
 "nbformat": 4,
 "nbformat_minor": 4
}
