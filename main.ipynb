{
 "cells": [
  {
   "cell_type": "markdown",
   "metadata": {},
   "source": [
    "# Lab | Numpy Deep Dive"
   ]
  },
  {
   "cell_type": "markdown",
   "metadata": {},
   "source": [
    "### 1. Import the NUMPY package under the name np.\n"
   ]
  },
  {
   "cell_type": "code",
   "execution_count": 1,
   "metadata": {},
   "outputs": [],
   "source": [
    "\n",
    "import numpy as np"
   ]
  },
  {
   "cell_type": "markdown",
   "metadata": {},
   "source": [
    "\n",
    "\n",
    "### 2. Print the NUMPY version and the configuration.\n"
   ]
  },
  {
   "cell_type": "code",
   "execution_count": null,
   "metadata": {},
   "outputs": [
    {
     "name": "stdout",
     "output_type": "stream",
     "text": [
      "1.20.3\n"
     ]
    }
   ],
   "source": [
    "\n",
    "print(np.version.version)"
   ]
  },
  {
   "cell_type": "markdown",
   "metadata": {},
   "source": [
    "### 3. Generate a 2x3x5 3-dimensional array with random values. Assign the array to variable \"a\"\n",
    "Challenge: there are at least three easy ways that use numpy to generate random arrays. How many ways can you find?\n"
   ]
  },
  {
   "cell_type": "code",
   "execution_count": 7,
   "metadata": {},
   "outputs": [],
   "source": [
    "\n",
    "a= np.random.random(size=(2,3,5))"
   ]
  },
  {
   "cell_type": "markdown",
   "metadata": {},
   "source": [
    "\n",
    "### 4. Print a.\n"
   ]
  },
  {
   "cell_type": "code",
   "execution_count": 8,
   "metadata": {},
   "outputs": [
    {
     "name": "stdout",
     "output_type": "stream",
     "text": [
      "[[[0.44974867 0.35141082 0.54571103 0.46488434 0.54315124]\n",
      "  [0.08965893 0.60809019 0.95687891 0.14095824 0.32430297]\n",
      "  [0.48545217 0.94837591 0.54390187 0.15952138 0.10988457]]\n",
      "\n",
      " [[0.53819048 0.33955553 0.87186071 0.8820438  0.61832878]\n",
      "  [0.12242425 0.07004334 0.78878571 0.22290155 0.65387472]\n",
      "  [0.50507179 0.66859477 0.4548197  0.93238523 0.52375551]]]\n"
     ]
    }
   ],
   "source": [
    "\n",
    "print(a)\n"
   ]
  },
  {
   "cell_type": "markdown",
   "metadata": {},
   "source": [
    "### 5. Create a 5x2x3 3-dimensional array with all values equaling 1.\n",
    "### Assign the array to variable \"b\"\n"
   ]
  },
  {
   "cell_type": "code",
   "execution_count": null,
   "metadata": {},
   "outputs": [],
   "source": [
    "\n",
    "b= np.ones(shape=(5,2,3))"
   ]
  },
  {
   "cell_type": "markdown",
   "metadata": {},
   "source": [
    "\n",
    "### 6. Print b.\n"
   ]
  },
  {
   "cell_type": "code",
   "execution_count": 11,
   "metadata": {},
   "outputs": [
    {
     "name": "stdout",
     "output_type": "stream",
     "text": [
      "[[[1. 1. 1.]\n",
      "  [1. 1. 1.]]\n",
      "\n",
      " [[1. 1. 1.]\n",
      "  [1. 1. 1.]]\n",
      "\n",
      " [[1. 1. 1.]\n",
      "  [1. 1. 1.]]\n",
      "\n",
      " [[1. 1. 1.]\n",
      "  [1. 1. 1.]]\n",
      "\n",
      " [[1. 1. 1.]\n",
      "  [1. 1. 1.]]]\n"
     ]
    }
   ],
   "source": [
    "\n",
    "print(b)\n"
   ]
  },
  {
   "cell_type": "markdown",
   "metadata": {},
   "source": [
    "\n",
    "### 7. Do a and b have the same size? How do you prove that in Python code?\n"
   ]
  },
  {
   "cell_type": "code",
   "execution_count": null,
   "metadata": {},
   "outputs": [
    {
     "name": "stdout",
     "output_type": "stream",
     "text": [
      "30 30\n"
     ]
    }
   ],
   "source": [
    "\n",
    "print(a.size,\n",
    "b.size)"
   ]
  },
  {
   "cell_type": "markdown",
   "metadata": {},
   "source": [
    "\n",
    "### 8. Are you able to add a and b? Why or why not?\n"
   ]
  },
  {
   "cell_type": "code",
   "execution_count": null,
   "metadata": {},
   "outputs": [
    {
     "ename": "ValueError",
     "evalue": "operands could not be broadcast together with shapes (2,3,5) (5,2,3) ",
     "output_type": "error",
     "traceback": [
      "\u001b[1;31m---------------------------------------------------------------------------\u001b[0m",
      "\u001b[1;31mValueError\u001b[0m                                Traceback (most recent call last)",
      "\u001b[1;32m~\\AppData\\Local\\Temp/ipykernel_12496/2155399046.py\u001b[0m in \u001b[0;36m<module>\u001b[1;34m\u001b[0m\n\u001b[0;32m      1\u001b[0m \u001b[1;31m### [your code here]\u001b[0m\u001b[1;33m\u001b[0m\u001b[1;33m\u001b[0m\u001b[0m\n\u001b[1;32m----> 2\u001b[1;33m \u001b[0ma\u001b[0m \u001b[1;33m+\u001b[0m \u001b[0mb\u001b[0m\u001b[1;33m\u001b[0m\u001b[1;33m\u001b[0m\u001b[0m\n\u001b[0m",
      "\u001b[1;31mValueError\u001b[0m: operands could not be broadcast together with shapes (2,3,5) (5,2,3) "
     ]
    }
   ],
   "source": [
    "\n",
    "a + b = error\n",
    "#Answer: No i cannot, becuse they have diffrent shapes."
   ]
  },
  {
   "cell_type": "markdown",
   "metadata": {},
   "source": [
    "\n",
    "\n",
    "### 9. Transpose b so that it has the same structure of a (i.e. become a 2x3x5 array). Assign the transposed array to varialbe \"c\".\n"
   ]
  },
  {
   "cell_type": "code",
   "execution_count": 31,
   "metadata": {},
   "outputs": [
    {
     "data": {
      "text/plain": [
       "array([[[1., 1., 1., 1., 1.],\n",
       "        [1., 1., 1., 1., 1.],\n",
       "        [1., 1., 1., 1., 1.]],\n",
       "\n",
       "       [[1., 1., 1., 1., 1.],\n",
       "        [1., 1., 1., 1., 1.],\n",
       "        [1., 1., 1., 1., 1.]]])"
      ]
     },
     "execution_count": 31,
     "metadata": {},
     "output_type": "execute_result"
    }
   ],
   "source": [
    "c = b.transpose(1,2,0)\n",
    "c\n"
   ]
  },
  {
   "cell_type": "markdown",
   "metadata": {},
   "source": [
    "\n",
    "### 10. Try to add a and c. Now it should work. Assign the sum to variable \"d\". But why does it work now?\n"
   ]
  },
  {
   "cell_type": "code",
   "execution_count": 86,
   "metadata": {},
   "outputs": [
    {
     "data": {
      "text/plain": [
       "array([[[1.44974867, 1.35141082, 1.54571103, 1.46488434, 1.54315124],\n",
       "        [1.08965893, 1.60809019, 1.95687891, 1.14095824, 1.32430297],\n",
       "        [1.48545217, 1.94837591, 1.54390187, 1.15952138, 1.10988457]],\n",
       "\n",
       "       [[1.53819048, 1.33955553, 1.87186071, 1.8820438 , 1.61832878],\n",
       "        [1.12242425, 1.07004334, 1.78878571, 1.22290155, 1.65387472],\n",
       "        [1.50507179, 1.66859477, 1.4548197 , 1.93238523, 1.52375551]]])"
      ]
     },
     "execution_count": 86,
     "metadata": {},
     "output_type": "execute_result"
    }
   ],
   "source": [
    "d = a + c\n",
    "d\n",
    "#Answer: Becuse a and c have the same shape.\n"
   ]
  },
  {
   "cell_type": "markdown",
   "metadata": {},
   "source": [
    "\n",
    "### 11. Print a and d. Notice the difference and relation of the two array in terms of the values? Explain.\n"
   ]
  },
  {
   "cell_type": "code",
   "execution_count": null,
   "metadata": {},
   "outputs": [
    {
     "name": "stdout",
     "output_type": "stream",
     "text": [
      "[[[0.44974867 0.35141082 0.54571103 0.46488434 0.54315124]\n",
      "  [0.08965893 0.60809019 0.95687891 0.14095824 0.32430297]\n",
      "  [0.48545217 0.94837591 0.54390187 0.15952138 0.10988457]]\n",
      "\n",
      " [[0.53819048 0.33955553 0.87186071 0.8820438  0.61832878]\n",
      "  [0.12242425 0.07004334 0.78878571 0.22290155 0.65387472]\n",
      "  [0.50507179 0.66859477 0.4548197  0.93238523 0.52375551]]]\n",
      "[[[1.44974867 1.35141082 1.54571103 1.46488434 1.54315124]\n",
      "  [1.08965893 1.60809019 1.95687891 1.14095824 1.32430297]\n",
      "  [1.48545217 1.94837591 1.54390187 1.15952138 1.10988457]]\n",
      "\n",
      " [[1.53819048 1.33955553 1.87186071 1.8820438  1.61832878]\n",
      "  [1.12242425 1.07004334 1.78878571 1.22290155 1.65387472]\n",
      "  [1.50507179 1.66859477 1.4548197  1.93238523 1.52375551]]]\n"
     ]
    }
   ],
   "source": [
    "print(a) \n",
    "print(d)\n",
    "\n",
    "#Answer: a and d have the same shape, after we add them together we've notesd that d valuse has increased by 1."
   ]
  },
  {
   "cell_type": "markdown",
   "metadata": {},
   "source": [
    "\n",
    "### 12. Multiply a and c. Assign the result to e.\n"
   ]
  },
  {
   "cell_type": "code",
   "execution_count": null,
   "metadata": {},
   "outputs": [
    {
     "data": {
      "text/plain": [
       "array([[[0.44974867, 0.35141082, 0.54571103, 0.46488434, 0.54315124],\n",
       "        [0.08965893, 0.60809019, 0.95687891, 0.14095824, 0.32430297],\n",
       "        [0.48545217, 0.94837591, 0.54390187, 0.15952138, 0.10988457]],\n",
       "\n",
       "       [[0.53819048, 0.33955553, 0.87186071, 0.8820438 , 0.61832878],\n",
       "        [0.12242425, 0.07004334, 0.78878571, 0.22290155, 0.65387472],\n",
       "        [0.50507179, 0.66859477, 0.4548197 , 0.93238523, 0.52375551]]])"
      ]
     },
     "execution_count": 38,
     "metadata": {},
     "output_type": "execute_result"
    }
   ],
   "source": [
    "e = a * c\n",
    "e\n"
   ]
  },
  {
   "cell_type": "markdown",
   "metadata": {},
   "source": [
    "\n",
    "\n",
    "### 13. Does e equal to a? Why or why not?\n"
   ]
  },
  {
   "cell_type": "code",
   "execution_count": 41,
   "metadata": {},
   "outputs": [
    {
     "data": {
      "text/plain": [
       "(array([[[0.44974867, 0.35141082, 0.54571103, 0.46488434, 0.54315124],\n",
       "         [0.08965893, 0.60809019, 0.95687891, 0.14095824, 0.32430297],\n",
       "         [0.48545217, 0.94837591, 0.54390187, 0.15952138, 0.10988457]],\n",
       " \n",
       "        [[0.53819048, 0.33955553, 0.87186071, 0.8820438 , 0.61832878],\n",
       "         [0.12242425, 0.07004334, 0.78878571, 0.22290155, 0.65387472],\n",
       "         [0.50507179, 0.66859477, 0.4548197 , 0.93238523, 0.52375551]]]),\n",
       " array([[[0.44974867, 0.35141082, 0.54571103, 0.46488434, 0.54315124],\n",
       "         [0.08965893, 0.60809019, 0.95687891, 0.14095824, 0.32430297],\n",
       "         [0.48545217, 0.94837591, 0.54390187, 0.15952138, 0.10988457]],\n",
       " \n",
       "        [[0.53819048, 0.33955553, 0.87186071, 0.8820438 , 0.61832878],\n",
       "         [0.12242425, 0.07004334, 0.78878571, 0.22290155, 0.65387472],\n",
       "         [0.50507179, 0.66859477, 0.4548197 , 0.93238523, 0.52375551]]]))"
      ]
     },
     "execution_count": 41,
     "metadata": {},
     "output_type": "execute_result"
    }
   ],
   "source": [
    "a,e\n",
    "#Answer: Yes, becuse c have vlause of ones, any value that is multiplied by 1 results the same.\n"
   ]
  },
  {
   "cell_type": "markdown",
   "metadata": {},
   "source": [
    "\n",
    "\n",
    "### 14. Identify the max, min, and mean values in d. Assign those values to variables \"d_max\", \"d_min\", and \"d_mean\"\n"
   ]
  },
  {
   "cell_type": "code",
   "execution_count": 48,
   "metadata": {},
   "outputs": [
    {
     "data": {
      "text/plain": [
       "(1.9568789064280818, 1.0700433381171068, 1.4971522368360661)"
      ]
     },
     "execution_count": 48,
     "metadata": {},
     "output_type": "execute_result"
    }
   ],
   "source": [
    "\n",
    "d_max=d.max()\n",
    "d_min=d.min()\n",
    "d_mean=d.mean()\n",
    "\n",
    "d_max, d_min, d_mean\n"
   ]
  },
  {
   "cell_type": "markdown",
   "metadata": {},
   "source": [
    "\n",
    "### 15. Now we want to label the values in d. First create an empty array \"f\" with the same shape (i.e. 2x3x5) as d using `np.empty`.\n"
   ]
  },
  {
   "cell_type": "code",
   "execution_count": 81,
   "metadata": {},
   "outputs": [],
   "source": [
    "f = np.empty(shape=(2,3,5), dtype=object)\n"
   ]
  },
  {
   "cell_type": "markdown",
   "metadata": {},
   "source": [
    "\n",
    "\n",
    "\n",
    "### 16. Populate the values in f. For each value in d, if it's larger than d_min but smaller than d_mean, assign 25 to the corresponding value in f.\n",
    "If a value in d is larger than d_mean but smaller than d_max, assign 75 to the corresponding value in f.\n",
    "If a value equals to d_mean, assign 50 to the corresponding value in f.\n",
    "Assign 0 to the corresponding value(s) in f for d_min in d.\n",
    "Assign 100 to the corresponding value(s) in f for d_max in d.\n",
    "In the end, f should have only the following values: 0, 25, 50, 75, and 100.\n",
    "Note: you don't have to use Numpy in this question.\n",
    "\n"
   ]
  },
  {
   "cell_type": "code",
   "execution_count": null,
   "metadata": {},
   "outputs": [],
   "source": [
    "\n",
    "\n",
    "for i in range(len(d)):\n",
    "    for j in range(len(d[i])):\n",
    "      for k in range(len(d[i][j])):\n",
    "        value = d[i][j][k]\n",
    "        if d_mean> value > d_min:\n",
    "            f[i][j][k] = 25\n",
    "        elif d_max > value > d_mean:\n",
    "            f[i][j][k] = 75\n",
    "        elif value == d_mean:\n",
    "            f[i][j][k] = 50\n",
    "        elif value == d_min:\n",
    "            f[i][j][k] = 0\n",
    "        elif value == d_max:\n",
    "            f[i][j][k] = 100\n"
   ]
  },
  {
   "cell_type": "markdown",
   "metadata": {},
   "source": [
    "\n",
    "\n",
    "\n",
    "\n",
    "### 17. Print d and f. Do you have your expected f?\n",
    "For instance, if your d is:\n",
    "array([[[1.85836099, 1.67064465, 1.62576044, 1.40243961, 1.88454931],\n",
    "        [1.75354326, 1.69403643, 1.36729252, 1.61415071, 1.12104981],\n",
    "        [1.72201435, 1.1862918 , 1.87078449, 1.7726778 , 1.88180042]],\n",
    "\n",
    "       [[1.44747908, 1.31673383, 1.02000951, 1.52218947, 1.97066381],\n",
    "        [1.79129243, 1.74983003, 1.96028037, 1.85166831, 1.65450881],\n",
    "        [1.18068344, 1.9587381 , 1.00656599, 1.93402165, 1.73514584]]])\n",
    "\n",
    "Your f should be:\n",
    "array([[[ 75.,  75.,  75.,  25.,  75.],\n",
    "        [ 75.,  75.,  25.,  25.,  25.],\n",
    "        [ 75.,  25.,  75.,  75.,  75.]],\n",
    "\n",
    "       [[ 25.,  25.,  25.,  25., 100.],\n",
    "        [ 75.,  75.,  75.,  75.,  75.],\n",
    "        [ 25.,  75.,   0.,  75.,  75.]]])\n",
    "\n"
   ]
  },
  {
   "cell_type": "code",
   "execution_count": null,
   "metadata": {},
   "outputs": [
    {
     "data": {
      "text/plain": [
       "(array([[[1.44974867, 1.35141082, 1.54571103, 1.46488434, 1.54315124],\n",
       "         [1.08965893, 1.60809019, 1.95687891, 1.14095824, 1.32430297],\n",
       "         [1.48545217, 1.94837591, 1.54390187, 1.15952138, 1.10988457]],\n",
       " \n",
       "        [[1.53819048, 1.33955553, 1.87186071, 1.8820438 , 1.61832878],\n",
       "         [1.12242425, 1.07004334, 1.78878571, 1.22290155, 1.65387472],\n",
       "         [1.50507179, 1.66859477, 1.4548197 , 1.93238523, 1.52375551]]]),\n",
       " array([[[ 25.,  25.,  75.,  25.,  75.],\n",
       "         [ 25.,  75., 100.,  25.,  25.],\n",
       "         [ 25.,  75.,  75.,  25.,  25.]],\n",
       " \n",
       "        [[ 75.,  25.,  75.,  75.,  75.],\n",
       "         [ 25.,   0.,  75.,  25.,  75.],\n",
       "         [ 75.,  75.,  25.,  75.,  75.]]]))"
      ]
     },
     "execution_count": 71,
     "metadata": {},
     "output_type": "execute_result"
    }
   ],
   "source": [
    "\n",
    "d, f"
   ]
  },
  {
   "cell_type": "markdown",
   "metadata": {},
   "source": [
    "### 18. Bonus question: instead of using numbers (i.e. 0, 25, 50, 75, and 100), how to use string values \n",
    "(\"A\", \"B\", \"C\", \"D\", and \"E\") to label the array elements? You are expecting the result to be:\n",
    "array([[[ 'D',  'D',  'D',  'B',  'D'],\n",
    "        [ 'D',  'D',  'B',  'B',  'B'],\n",
    "        [ 'D',  'B',  'D',  'D',  'D']],\n",
    "\n",
    "       [[ 'B',  'B',  'B',  'B',  'E'],\n",
    "        [ 'D',  'D',  'D',  'D',  'D'],\n",
    "        [ 'B',  'D',   'A',  'D', 'D']]])\n",
    "Again, you don't need Numpy in this question."
   ]
  },
  {
   "cell_type": "code",
   "execution_count": null,
   "metadata": {},
   "outputs": [],
   "source": [
    "\n",
    "grades = { 0:\"A\", 25:\"B\", 50:\"C\", 75:\"D\", 100:\"E\"}\n",
    "for i in range(len(d)):\n",
    "    for j in range(len(d[i])):\n",
    "      for k in range(len(d[i][j])):\n",
    "        value = d[i][j][k]\n",
    "        if d_mean> value > d_min:\n",
    "            f[i][j][k] = grades[25]\n",
    "        elif d_max > value > d_mean:\n",
    "            f[i][j][k] = grades[75]\n",
    "        elif value == d_mean:\n",
    "            f[i][j][k] = grades[50]\n",
    "        elif value == d_min:\n",
    "            f[i][j][k] = grades[0]\n",
    "        elif value == d_max:\n",
    "            f[i][j][k] = grades[100]"
   ]
  },
  {
   "cell_type": "code",
   "execution_count": 84,
   "metadata": {},
   "outputs": [
    {
     "name": "stdout",
     "output_type": "stream",
     "text": [
      "[[['B' 'B' 'D' 'B' 'D']\n",
      "  ['B' 'D' 'E' 'B' 'B']\n",
      "  ['B' 'D' 'D' 'B' 'B']]\n",
      "\n",
      " [['D' 'B' 'D' 'D' 'D']\n",
      "  ['B' 'A' 'D' 'B' 'D']\n",
      "  ['D' 'D' 'B' 'D' 'D']]]\n"
     ]
    }
   ],
   "source": [
    "print(f)"
   ]
  }
 ],
 "metadata": {
  "kernelspec": {
   "display_name": "base",
   "language": "python",
   "name": "python3"
  },
  "language_info": {
   "codemirror_mode": {
    "name": "ipython",
    "version": 3
   },
   "file_extension": ".py",
   "mimetype": "text/x-python",
   "name": "python",
   "nbconvert_exporter": "python",
   "pygments_lexer": "ipython3",
   "version": "3.9.7"
  }
 },
 "nbformat": 4,
 "nbformat_minor": 2
}
