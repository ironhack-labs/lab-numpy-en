{
 "cells": [
  {
   "cell_type": "markdown",
   "metadata": {},
   "source": [
    "# Lab | Numpy Deep Dive"
   ]
  },
  {
   "cell_type": "markdown",
   "metadata": {},
   "source": [
    "### 1. Import the NUMPY package under the name np.\n"
   ]
  },
  {
   "cell_type": "code",
   "execution_count": 92,
   "metadata": {},
   "outputs": [],
   "source": [
    "import numpy as np\n"
   ]
  },
  {
   "cell_type": "markdown",
   "metadata": {},
   "source": [
    "\n",
    "\n",
    "### 2. Print the NUMPY version and the configuration.\n"
   ]
  },
  {
   "cell_type": "code",
   "execution_count": 95,
   "metadata": {},
   "outputs": [
    {
     "name": "stdout",
     "output_type": "stream",
     "text": [
      "NumPy Version: 1.26.4\n",
      "Build Dependencies:\n",
      "  blas:\n",
      "    detection method: pkgconfig\n",
      "    found: true\n",
      "    include directory: C:/Users/deept/anaconda3/Library/include\n",
      "    lib directory: C:/Users/deept/anaconda3/Library/lib\n",
      "    name: mkl-sdl\n",
      "    openblas configuration: unknown\n",
      "    pc file directory: C:\\b\\abs_c1ywpu18ar\\croot\\numpy_and_numpy_base_1708638681471\\_h_env\\Library\\lib\\pkgconfig\n",
      "    version: '2023.1'\n",
      "  lapack:\n",
      "    detection method: internal\n",
      "    found: true\n",
      "    include directory: unknown\n",
      "    lib directory: unknown\n",
      "    name: dep1583119523984\n",
      "    openblas configuration: unknown\n",
      "    pc file directory: unknown\n",
      "    version: 1.26.4\n",
      "Compilers:\n",
      "  c:\n",
      "    commands: cl.exe\n",
      "    linker: link\n",
      "    name: msvc\n",
      "    version: 19.29.30154\n",
      "  c++:\n",
      "    commands: cl.exe\n",
      "    linker: link\n",
      "    name: msvc\n",
      "    version: 19.29.30154\n",
      "  cython:\n",
      "    commands: cython\n",
      "    linker: cython\n",
      "    name: cython\n",
      "    version: 3.0.8\n",
      "Machine Information:\n",
      "  build:\n",
      "    cpu: x86_64\n",
      "    endian: little\n",
      "    family: x86_64\n",
      "    system: windows\n",
      "  host:\n",
      "    cpu: x86_64\n",
      "    endian: little\n",
      "    family: x86_64\n",
      "    system: windows\n",
      "Python Information:\n",
      "  path: C:\\b\\abs_c1ywpu18ar\\croot\\numpy_and_numpy_base_1708638681471\\_h_env\\python.exe\n",
      "  version: '3.12'\n",
      "SIMD Extensions:\n",
      "  baseline:\n",
      "  - SSE\n",
      "  - SSE2\n",
      "  - SSE3\n",
      "  found:\n",
      "  - SSSE3\n",
      "  - SSE41\n",
      "  - POPCNT\n",
      "  - SSE42\n",
      "  - AVX\n",
      "  - F16C\n",
      "  - FMA3\n",
      "  - AVX2\n",
      "  not found:\n",
      "  - AVX512F\n",
      "  - AVX512CD\n",
      "  - AVX512_SKX\n",
      "  - AVX512_CLX\n",
      "  - AVX512_CNL\n",
      "  - AVX512_ICL\n",
      "\n"
     ]
    }
   ],
   "source": [
    "import numpy as np\n",
    "\n",
    "# to print NumPy version\n",
    "print(\"NumPy Version:\", np.__version__)\n",
    "\n",
    "# to print NumPy configuration\n",
    "np.show_config()\n",
    "\n",
    "\n"
   ]
  },
  {
   "cell_type": "markdown",
   "metadata": {},
   "source": [
    "### 3. Generate a 2x3x5 3-dimensional array with random values. Assign the array to variable \"a\"\n",
    "Challenge: there are at least three easy ways that use numpy to generate random arrays. How many ways can you find?\n"
   ]
  },
  {
   "cell_type": "code",
   "execution_count": 181,
   "metadata": {},
   "outputs": [
    {
     "name": "stdout",
     "output_type": "stream",
     "text": [
      "[[[0.61185289 0.13949386 0.29214465 0.36636184 0.45606998]\n",
      "  [0.78517596 0.19967378 0.51423444 0.59241457 0.04645041]\n",
      "  [0.60754485 0.17052412 0.06505159 0.94888554 0.96563203]]\n",
      "\n",
      " [[0.80839735 0.30461377 0.09767211 0.68423303 0.44015249]\n",
      "  [0.12203823 0.49517691 0.03438852 0.9093204  0.25877998]\n",
      "  [0.66252228 0.31171108 0.52006802 0.54671028 0.18485446]]]\n",
      "[[[ 0.73846658  0.17136828 -0.11564828 -0.3011037  -1.47852199]\n",
      "  [-0.71984421 -0.46063877  1.05712223  0.34361829 -1.76304016]\n",
      "  [ 0.32408397 -0.38508228 -0.676922    0.61167629  1.03099952]]\n",
      "\n",
      " [[ 0.93128012 -0.83921752 -0.30921238  0.33126343  0.97554513]\n",
      "  [-0.47917424 -0.18565898 -1.10633497 -1.19620662  0.81252582]\n",
      "  [ 1.35624003 -0.07201012  1.0035329   0.36163603 -0.64511975]]]\n",
      "[[[ 0  4 89 13 26]\n",
      "  [ 8 78 14 89 41]\n",
      "  [76 50 62 95 51]]\n",
      "\n",
      " [[95  3 93 22 14]\n",
      "  [42 28 35 12 31]\n",
      "  [70 58 85 27 65]]]\n",
      "[[[2 5 6 1 5]\n",
      "  [6 4 4 4 4]\n",
      "  [4 6 6 3 2]]\n",
      "\n",
      " [[4 1 6 1 1]\n",
      "  [1 3 6 1 4]\n",
      "  [5 1 3 6 3]]]\n"
     ]
    }
   ],
   "source": [
    "# way 1\n",
    "a = np.random.rand(2, 3, 5) \n",
    "print(a)\n",
    "\n",
    "# Way 2 \n",
    "a = np.random.randn(2, 3, 5) \n",
    "print(a)\n",
    "\n",
    "# Way 3\n",
    "a = np.random.randint(0, 100, (2, 3, 5)) \n",
    "print(a)\n",
    "\n",
    "# Way 4\n",
    "values = [1, 2, 3, 4, 5, 6]  # Corrected the typo\n",
    "\n",
    "a = np.random.choice(values, size=(2, 3, 5))\n",
    "print(a)\n"
   ]
  },
  {
   "cell_type": "markdown",
   "metadata": {},
   "source": [
    "\n",
    "### 4. Print a.\n"
   ]
  },
  {
   "cell_type": "code",
   "execution_count": 184,
   "metadata": {},
   "outputs": [
    {
     "name": "stdout",
     "output_type": "stream",
     "text": [
      "[[[2 5 6 1 5]\n",
      "  [6 4 4 4 4]\n",
      "  [4 6 6 3 2]]\n",
      "\n",
      " [[4 1 6 1 1]\n",
      "  [1 3 6 1 4]\n",
      "  [5 1 3 6 3]]]\n"
     ]
    }
   ],
   "source": [
    "print(a)"
   ]
  },
  {
   "cell_type": "markdown",
   "metadata": {},
   "source": [
    "### 5. Create a 5x2x3 3-dimensional array with all values equaling 1.\n",
    "### Assign the array to variable \"b\"\n"
   ]
  },
  {
   "cell_type": "code",
   "execution_count": 187,
   "metadata": {},
   "outputs": [],
   "source": [
    "# Create a 5x2x3 array & Assign the array to variable \"b\"\n",
    "b = np.ones((5, 2, 3) , dtype=int)"
   ]
  },
  {
   "cell_type": "markdown",
   "metadata": {},
   "source": [
    "\n",
    "### 6. Print b.\n"
   ]
  },
  {
   "cell_type": "code",
   "execution_count": 190,
   "metadata": {},
   "outputs": [
    {
     "name": "stdout",
     "output_type": "stream",
     "text": [
      "[[[1 1 1]\n",
      "  [1 1 1]]\n",
      "\n",
      " [[1 1 1]\n",
      "  [1 1 1]]\n",
      "\n",
      " [[1 1 1]\n",
      "  [1 1 1]]\n",
      "\n",
      " [[1 1 1]\n",
      "  [1 1 1]]\n",
      "\n",
      " [[1 1 1]\n",
      "  [1 1 1]]]\n"
     ]
    }
   ],
   "source": [
    "print(b)"
   ]
  },
  {
   "cell_type": "markdown",
   "metadata": {},
   "source": [
    "\n",
    "### 7. Do a and b have the same size? How do you prove that in Python code?\n"
   ]
  },
  {
   "cell_type": "code",
   "execution_count": 193,
   "metadata": {},
   "outputs": [
    {
     "name": "stdout",
     "output_type": "stream",
     "text": [
      "a and b have the same size.\n"
     ]
    }
   ],
   "source": [
    "a = np.random.choice([1, 2, 3, 4, 5, 6], size=(2, 3, 5))\n",
    "b = np.ones((5, 2, 3))\n",
    "\n",
    "# Check the size\n",
    "if a.size == b.size:\n",
    "    print(\"a and b have the same size.\")\n",
    "else:\n",
    "    print(\"a and b do not have the same size.\")\n",
    "\n"
   ]
  },
  {
   "cell_type": "markdown",
   "metadata": {},
   "source": [
    "\n",
    "### 8. Are you able to add a and b? Why or why not?\n"
   ]
  },
  {
   "cell_type": "code",
   "execution_count": 196,
   "metadata": {},
   "outputs": [
    {
     "name": "stdout",
     "output_type": "stream",
     "text": [
      "Arrays cannot be added because they are not the same.\n"
     ]
    }
   ],
   "source": [
    "a = np.random.choice([1, 2, 3, 4, 5, 6], size=(2, 3, 5))\n",
    "b = np.ones((5, 2, 3))\n",
    "\n",
    "# Check if the shapes are the same\n",
    "if a.shape == b.shape:\n",
    "    result = a + b\n",
    "    print(\"Arrays a and b have been added.\")\n",
    "    print(result)\n",
    "else:\n",
    "    print(\"Arrays cannot be added because they are not the same.\")\n"
   ]
  },
  {
   "cell_type": "markdown",
   "metadata": {},
   "source": [
    "\n",
    "\n",
    "### 9. Transpose b so that it has the same structure of a (i.e. become a 2x3x5 array). Assign the transposed array to varialbe \"c\".\n"
   ]
  },
  {
   "cell_type": "code",
   "execution_count": 199,
   "metadata": {},
   "outputs": [
    {
     "name": "stdout",
     "output_type": "stream",
     "text": [
      "Shape of a: (2, 3, 5)\n",
      "Shape of c (transposed b): (2, 3, 5)\n"
     ]
    }
   ],
   "source": [
    "a = np.random.choice([1, 2, 3, 4, 5, 6], size=(2, 3, 5))\n",
    "b = np.ones((5, 2, 3))\n",
    "\n",
    "#Transpose b so that it has the same structure of a (i.e. become a 2x3x5 array)\n",
    "c = b.transpose(1, 2, 0) #Assign the transposed array to varialbe \"c\"\n",
    "\n",
    "print(\"Shape of a:\", a.shape)\n",
    "print(\"Shape of c (transposed b):\", c.shape)\n",
    "\n"
   ]
  },
  {
   "cell_type": "markdown",
   "metadata": {},
   "source": [
    "\n",
    "### 10. Try to add a and c. Now it should work. Assign the sum to variable \"d\". But why does it work now?\n"
   ]
  },
  {
   "cell_type": "code",
   "execution_count": 202,
   "metadata": {},
   "outputs": [
    {
     "name": "stdout",
     "output_type": "stream",
     "text": [
      "[[[4 5 4 3 4]\n",
      "  [4 5 5 2 2]\n",
      "  [3 2 4 5 2]]\n",
      "\n",
      " [[2 3 7 3 4]\n",
      "  [5 3 2 5 5]\n",
      "  [2 3 2 7 5]]]\n"
     ]
    }
   ],
   "source": [
    "d = a + c  # Try to add a and c & Assign the sum to variable \"d\"\n",
    "\n",
    "print(d.astype(int))\n"
   ]
  },
  {
   "cell_type": "markdown",
   "metadata": {},
   "source": [
    "\n",
    "### 11. Print a and d. Notice the difference and relation of the two array in terms of the values? Explain.\n"
   ]
  },
  {
   "cell_type": "code",
   "execution_count": 205,
   "metadata": {},
   "outputs": [
    {
     "name": "stdout",
     "output_type": "stream",
     "text": [
      "Array a:\n",
      "[[[5 5 3 1 1]\n",
      "  [3 3 3 4 6]\n",
      "  [1 4 3 1 4]]\n",
      "\n",
      " [[6 4 6 3 6]\n",
      "  [1 3 1 5 2]\n",
      "  [6 2 2 6 3]]]\n",
      "\n",
      "Array d (a + c):\n",
      "[[[6 6 4 2 2]\n",
      "  [4 4 4 5 7]\n",
      "  [2 5 4 2 5]]\n",
      "\n",
      " [[7 5 7 4 7]\n",
      "  [2 4 2 6 3]\n",
      "  [7 3 3 7 4]]]\n"
     ]
    }
   ],
   "source": [
    "# Create array a with random values from 1 to 6\n",
    "a = np.random.choice([1, 2, 3, 4, 5, 6], size=(2, 3, 5))\n",
    "\n",
    "# Create array b contain ones, but with a different shape\n",
    "b = np.ones((5, 2, 3))\n",
    "\n",
    "# Transpose b to match the shape of a (2, 3, 5)\n",
    "c = b.transpose(1, 2, 0)  \n",
    "\n",
    "# Add a and c and assign to d\n",
    "d = a + c  \n",
    "\n",
    "# Print a and d\n",
    "print(\"Array a:\")\n",
    "print(a)\n",
    "\n",
    "print(\"\\nArray d (a + c):\")\n",
    "print(d.astype(int))\n",
    "\n",
    "# Explanation:\n",
    "# - Since `c` is filled with ones, the result `d` is just `a` with every element increased by 1.\n",
    "\n"
   ]
  },
  {
   "cell_type": "markdown",
   "metadata": {},
   "source": [
    "\n",
    "### 12. Multiply a and c. Assign the result to e.\n"
   ]
  },
  {
   "cell_type": "code",
   "execution_count": 208,
   "metadata": {},
   "outputs": [
    {
     "name": "stdout",
     "output_type": "stream",
     "text": [
      "\n",
      "Array e (a * c):\n",
      "[[[5 5 3 1 1]\n",
      "  [3 3 3 4 6]\n",
      "  [1 4 3 1 4]]\n",
      "\n",
      " [[6 4 6 3 6]\n",
      "  [1 3 1 5 2]\n",
      "  [6 2 2 6 3]]]\n"
     ]
    }
   ],
   "source": [
    "# Multiply a and c and assign to e\n",
    "e = a * c  \n",
    "\n",
    "print(\"\\nArray e (a * c):\")\n",
    "print(e.astype(int))"
   ]
  },
  {
   "cell_type": "markdown",
   "metadata": {},
   "source": [
    "\n",
    "\n",
    "### 13. Does e equal to a? Why or why not?\n"
   ]
  },
  {
   "cell_type": "code",
   "execution_count": 211,
   "metadata": {},
   "outputs": [
    {
     "name": "stdout",
     "output_type": "stream",
     "text": [
      "True\n"
     ]
    }
   ],
   "source": [
    "print(np.array_equal(a, e))  \n"
   ]
  },
  {
   "cell_type": "markdown",
   "metadata": {},
   "source": [
    "\n",
    "\n",
    "### 14. Identify the max, min, and mean values in d. Assign those values to variables \"d_max\", \"d_min\", and \"d_mean\"\n"
   ]
  },
  {
   "cell_type": "code",
   "execution_count": 214,
   "metadata": {},
   "outputs": [
    {
     "name": "stdout",
     "output_type": "stream",
     "text": [
      "Max value in d: 7.0\n",
      "Min value in d: 2.0\n",
      "Mean value in d: 4.433333333333334\n"
     ]
    }
   ],
   "source": [
    "np.random.seed(42)\n",
    "\n",
    "#Identify the max, min, and mean values in d. and assign values to variables\n",
    "d_max = np.max(d)\n",
    "d_min = np.min(d)\n",
    "d_mean = np.mean(d)\n",
    "\n",
    "# Print the values\n",
    "print(\"Max value in d:\", d_max)\n",
    "print(\"Min value in d:\", d_min)\n",
    "print(\"Mean value in d:\", d_mean)"
   ]
  },
  {
   "cell_type": "markdown",
   "metadata": {},
   "source": [
    "\n",
    "### 15. Now we want to label the values in d. First create an empty array \"f\" with the same shape (i.e. 2x3x5) as d using `np.empty`.\n"
   ]
  },
  {
   "cell_type": "code",
   "execution_count": 237,
   "metadata": {},
   "outputs": [
    {
     "name": "stdout",
     "output_type": "stream",
     "text": [
      "(2, 3, 5)\n",
      "[[[5 6 4 6 6]\n",
      "  [3 4 4 4 6]\n",
      "  [5 4 7 6 3]]\n",
      "\n",
      " [[5 7 7 3 5]\n",
      "  [6 2 5 3 7]\n",
      "  [6 5 2 2 4]]]\n"
     ]
    }
   ],
   "source": [
    "np.random.seed(42)\n",
    "\n",
    "# Create array a with random values from 1 to 6\n",
    "a = np.random.choice([1, 2, 3, 4, 5, 6], size=(2, 3, 5))\n",
    "\n",
    "# Create array b contain ones, but with a different shape\n",
    "b = np.ones((5, 2, 3))\n",
    "\n",
    "# Transpose b to match the shape of a (2, 3, 5)\n",
    "c = b.transpose(1, 2, 0)  \n",
    "\n",
    "# Add a and c and assign to d\n",
    "d = a + c  \n",
    "\n",
    "# Create an empty array f with the same shape as d (2x3x5)\n",
    "f = np.empty_like(d)\n",
    "\n",
    "# Print \n",
    "print(f.shape)\n",
    "print(f.astype(int))\n",
    "\n"
   ]
  },
  {
   "cell_type": "markdown",
   "metadata": {},
   "source": [
    "\n",
    "\n",
    "\n",
    "### 16. Populate the values in f. For each value in d, if it's larger than d_min but smaller than d_mean, assign 25 to the corresponding value in f.\n",
    "If a value in d is larger than d_mean but smaller than d_max, assign 75 to the corresponding value in f.\n",
    "If a value equals to d_mean, assign 50 to the corresponding value in f.\n",
    "Assign 0 to the corresponding value(s) in f for d_min in d.\n",
    "Assign 100 to the corresponding value(s) in f for d_max in d.\n",
    "In the end, f should have only the following values: 0, 25, 50, 75, and 100.\n",
    "Note: you don't have to use Numpy in this question.\n",
    "\n"
   ]
  },
  {
   "cell_type": "code",
   "execution_count": 273,
   "metadata": {},
   "outputs": [],
   "source": [
    "# Create an empty array f with the same shape as d\n",
    "f = [[[None for _ in range(5)] for _ in range(3)] for _ in range(2)]\n",
    "\n",
    "# Populate f based on the conditions\n",
    "for i in range(2):\n",
    "    for j in range(3):\n",
    "        for k in range(5):\n",
    "            if d[i][j][k] == d_min:\n",
    "                f[i][j][k] = 0  # Minimum value gets 0\n",
    "            elif d[i][j][k] == d_mean:\n",
    "                f[i][j][k] = 50  # Mean value gets 50\n",
    "            elif d[i][j][k] == d_max:\n",
    "                f[i][j][k] = 100  # Maximum value gets 100\n",
    "            elif d_min < d[i][j][k] < d_mean:\n",
    "                f[i][j][k] = 25  # Between min and mean gets 25\n",
    "            elif d_mean < d[i][j][k] < d_max:\n",
    "                f[i][j][k] = 75  # Between mean and max gets 75\n"
   ]
  },
  {
   "cell_type": "markdown",
   "metadata": {},
   "source": [
    "\n",
    "\n",
    "\n",
    "\n",
    "### 17. Print d and f. Do you have your expected f?\n",
    "For instance, if your d is:\n",
    "array([[[1.85836099, 1.67064465, 1.62576044, 1.40243961, 1.88454931],\n",
    "        [1.75354326, 1.69403643, 1.36729252, 1.61415071, 1.12104981],\n",
    "        [1.72201435, 1.1862918 , 1.87078449, 1.7726778 , 1.88180042]],\n",
    "\n",
    "       [[1.44747908, 1.31673383, 1.02000951, 1.52218947, 1.97066381],\n",
    "        [1.79129243, 1.74983003, 1.96028037, 1.85166831, 1.65450881],\n",
    "        [1.18068344, 1.9587381 , 1.00656599, 1.93402165, 1.73514584]]])\n",
    "\n",
    "Your f should be:\n",
    "array([[[ 75.,  75.,  75.,  25.,  75.],\n",
    "        [ 75.,  75.,  25.,  25.,  25.],\n",
    "        [ 75.,  25.,  75.,  75.,  75.]],\n",
    "\n",
    "       [[ 25.,  25.,  25.,  25., 100.],\n",
    "        [ 75.,  75.,  75.,  75.,  75.],\n",
    "        [ 25.,  75.,   0.,  75.,  75.]]])\n",
    "\n"
   ]
  },
  {
   "cell_type": "code",
   "execution_count": 277,
   "metadata": {},
   "outputs": [
    {
     "name": "stdout",
     "output_type": "stream",
     "text": [
      "\n",
      "Array f (labeled):\n",
      "[[[75, 75, 25, 75, 75], [25, 25, 25, 25, 75], [75, 25, 100, 75, 25]], [[75, 100, 100, 25, 75], [75, 0, 75, 25, 100], [75, 75, 0, 0, 25]]]\n"
     ]
    }
   ],
   "source": [
    "print(\"\\nArray f (labeled):\")\n",
    "print(f) \n"
   ]
  },
  {
   "cell_type": "markdown",
   "metadata": {},
   "source": [
    "### 18. Bonus question: instead of using numbers (i.e. 0, 25, 50, 75, and 100), how to use string values \n",
    "(\"A\", \"B\", \"C\", \"D\", and \"E\") to label the array elements? You are expecting the result to be:\n",
    "array([[[ 'D',  'D',  'D',  'B',  'D'],\n",
    "        [ 'D',  'D',  'B',  'B',  'B'],\n",
    "        [ 'D',  'B',  'D',  'D',  'D']],\n",
    "\n",
    "       [[ 'B',  'B',  'B',  'B',  'E'],\n",
    "        [ 'D',  'D',  'D',  'D',  'D'],\n",
    "        [ 'B',  'D',   'A',  'D', 'D']]])\n",
    "Again, you don't need Numpy in this question."
   ]
  },
  {
   "cell_type": "code",
   "execution_count": 289,
   "metadata": {},
   "outputs": [
    {
     "name": "stdout",
     "output_type": "stream",
     "text": [
      "\n",
      "Array f (labeled with strings):\n",
      "[[['D' 'D' 'B' 'D' 'D']\n",
      "  ['B' 'B' 'B' 'B' 'D']\n",
      "  ['D' 'B' 'E' 'D' 'B']]\n",
      "\n",
      " [['D' 'E' 'E' 'B' 'D']\n",
      "  ['D' 'A' 'D' 'B' 'E']\n",
      "  ['D' 'D' 'A' 'A' 'B']]]\n"
     ]
    }
   ],
   "source": [
    "\n",
    "\n",
    "# Labels instead of numbers\n",
    "labels = {0: \"A\", 25: \"B\", 50: \"C\", 75: \"D\", 100: \"E\"}\n",
    "\n",
    "# Create an empty array f with the same shape as d (2x3x5)\n",
    "f = np.empty_like(d, dtype=object)\n",
    "\n",
    "# Populate f based on the conditions\n",
    "for i in range(2):\n",
    "    for j in range(3):\n",
    "        for k in range(5):\n",
    "            if d[i][j][k] == d_min:\n",
    "                f[i][j][k] = labels[0]  # Minimum value gets \"A\"\n",
    "            elif d[i][j][k] == d_mean:\n",
    "                f[i][j][k] = labels[50]  # Mean value gets \"C\"\n",
    "            elif d[i][j][k] == d_max:\n",
    "                f[i][j][k] = labels[100]  # Maximum value gets \"E\"\n",
    "            elif d_min < d[i][j][k] < d_mean:\n",
    "                f[i][j][k] = labels[25]  # Between min and mean gets \"B\"\n",
    "            elif d_mean < d[i][j][k] < d_max:\n",
    "                f[i][j][k] = labels[75]  # Between mean and max gets \"D\"\n",
    "\n",
    "# Print the final result\n",
    "print(\"\\nArray f (labeled with strings):\")\n",
    "print(f)\n"
   ]
  },
  {
   "cell_type": "code",
   "execution_count": null,
   "metadata": {},
   "outputs": [],
   "source": []
  }
 ],
 "metadata": {
  "kernelspec": {
   "display_name": "Python 3 (ipykernel)",
   "language": "python",
   "name": "python3"
  },
  "language_info": {
   "codemirror_mode": {
    "name": "ipython",
    "version": 3
   },
   "file_extension": ".py",
   "mimetype": "text/x-python",
   "name": "python",
   "nbconvert_exporter": "python",
   "pygments_lexer": "ipython3",
   "version": "3.12.7"
  }
 },
 "nbformat": 4,
 "nbformat_minor": 4
}
