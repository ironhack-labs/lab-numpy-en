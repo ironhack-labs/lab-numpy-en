{
 "cells": [
  {
   "cell_type": "markdown",
   "metadata": {},
   "source": [
    "# Lab | Numpy Deep Dive"
   ]
  },
  {
   "cell_type": "markdown",
   "metadata": {},
   "source": [
    "### 1. Import the NUMPY package under the name np.\n"
   ]
  },
  {
   "cell_type": "code",
   "execution_count": 34,
   "metadata": {},
   "outputs": [],
   "source": [
    "import numpy as np"
   ]
  },
  {
   "cell_type": "markdown",
   "metadata": {},
   "source": [
    "\n",
    "\n",
    "### 2. Print the NUMPY version and the configuration.\n"
   ]
  },
  {
   "cell_type": "code",
   "execution_count": 35,
   "metadata": {},
   "outputs": [
    {
     "name": "stdout",
     "output_type": "stream",
     "text": [
      "2.0.2\n",
      "Build Dependencies:\n",
      "  blas:\n",
      "    detection method: pkgconfig\n",
      "    found: true\n",
      "    include directory: C:/Users/Admin/anaconda3/envs/albandari1/Library/include\n",
      "    lib directory: C:/Users/Admin/anaconda3/envs/albandari1/Library/lib\n",
      "    name: mkl-sdl\n",
      "    openblas configuration: unknown\n",
      "    pc file directory: C:\\b\\abs_6emx8om0_1\\croot\\numpy_and_numpy_base_1736283274014\\_h_env\\Library\\lib\\pkgconfig\n",
      "    version: '2023.1'\n",
      "  lapack:\n",
      "    detection method: pkgconfig\n",
      "    found: true\n",
      "    include directory: C:/Users/Admin/anaconda3/envs/albandari1/Library/include\n",
      "    lib directory: C:/Users/Admin/anaconda3/envs/albandari1/Library/lib\n",
      "    name: mkl-sdl\n",
      "    openblas configuration: unknown\n",
      "    pc file directory: C:\\b\\abs_6emx8om0_1\\croot\\numpy_and_numpy_base_1736283274014\\_h_env\\Library\\lib\\pkgconfig\n",
      "    version: '2023.1'\n",
      "Compilers:\n",
      "  c:\n",
      "    commands: cl.exe\n",
      "    linker: link\n",
      "    name: msvc\n",
      "    version: 19.29.30157\n",
      "  c++:\n",
      "    commands: cl.exe\n",
      "    linker: link\n",
      "    name: msvc\n",
      "    version: 19.29.30157\n",
      "  cython:\n",
      "    commands: cython\n",
      "    linker: cython\n",
      "    name: cython\n",
      "    version: 3.0.11\n",
      "Machine Information:\n",
      "  build:\n",
      "    cpu: x86_64\n",
      "    endian: little\n",
      "    family: x86_64\n",
      "    system: windows\n",
      "  host:\n",
      "    cpu: x86_64\n",
      "    endian: little\n",
      "    family: x86_64\n",
      "    system: windows\n",
      "Python Information:\n",
      "  path: C:\\b\\abs_6emx8om0_1\\croot\\numpy_and_numpy_base_1736283274014\\_h_env\\python.exe\n",
      "  version: '3.9'\n",
      "SIMD Extensions:\n",
      "  baseline:\n",
      "  - SSE\n",
      "  - SSE2\n",
      "  - SSE3\n",
      "  found:\n",
      "  - SSSE3\n",
      "  - SSE41\n",
      "  - POPCNT\n",
      "  - SSE42\n",
      "  - AVX\n",
      "  - F16C\n",
      "  - FMA3\n",
      "  - AVX2\n",
      "  not found:\n",
      "  - AVX512F\n",
      "  - AVX512CD\n",
      "  - AVX512_SKX\n",
      "  - AVX512_CLX\n",
      "  - AVX512_CNL\n",
      "  - AVX512_ICL\n",
      "\n",
      "None\n"
     ]
    }
   ],
   "source": [
    "print(np.__version__)\n",
    "print(np.show_config())"
   ]
  },
  {
   "cell_type": "markdown",
   "metadata": {},
   "source": [
    "### 3. Generate a 2x3x5 3-dimensional array with random values. Assign the array to variable \"a\"\n",
    "Challenge: there are at least three easy ways that use numpy to generate random arrays. How many ways can you find?\n"
   ]
  },
  {
   "cell_type": "code",
   "execution_count": 36,
   "metadata": {},
   "outputs": [],
   "source": [
    "a = np.random.random((2, 3, 5))"
   ]
  },
  {
   "cell_type": "markdown",
   "metadata": {},
   "source": [
    "\n",
    "### 4. Print a.\n"
   ]
  },
  {
   "cell_type": "code",
   "execution_count": 37,
   "metadata": {},
   "outputs": [
    {
     "name": "stdout",
     "output_type": "stream",
     "text": [
      "[[[0.65735766 0.71772319 0.32310094 0.26291012 0.89543642]\n",
      "  [0.54519259 0.07656267 0.21213345 0.24136403 0.21956759]\n",
      "  [0.24158084 0.35040832 0.09999219 0.23343503 0.8910831 ]]\n",
      "\n",
      " [[0.3632287  0.23883569 0.8467135  0.81899811 0.75459088]\n",
      "  [0.45535212 0.29798067 0.91844088 0.04274148 0.19512631]\n",
      "  [0.5161612  0.16127406 0.92356644 0.83955378 0.81972703]]]\n"
     ]
    }
   ],
   "source": [
    "print (a)"
   ]
  },
  {
   "cell_type": "markdown",
   "metadata": {},
   "source": [
    "### 5. Create a 5x2x3 3-dimensional array with all values equaling 1.\n",
    "### Assign the array to variable \"b\"\n"
   ]
  },
  {
   "cell_type": "code",
   "execution_count": 38,
   "metadata": {},
   "outputs": [],
   "source": [
    "b = np.ones((5, 2, 3))"
   ]
  },
  {
   "cell_type": "markdown",
   "metadata": {},
   "source": [
    "\n",
    "### 6. Print b.\n"
   ]
  },
  {
   "cell_type": "code",
   "execution_count": 39,
   "metadata": {},
   "outputs": [
    {
     "name": "stdout",
     "output_type": "stream",
     "text": [
      "[[[1. 1. 1.]\n",
      "  [1. 1. 1.]]\n",
      "\n",
      " [[1. 1. 1.]\n",
      "  [1. 1. 1.]]\n",
      "\n",
      " [[1. 1. 1.]\n",
      "  [1. 1. 1.]]\n",
      "\n",
      " [[1. 1. 1.]\n",
      "  [1. 1. 1.]]\n",
      "\n",
      " [[1. 1. 1.]\n",
      "  [1. 1. 1.]]]\n"
     ]
    }
   ],
   "source": [
    "print (b)"
   ]
  },
  {
   "cell_type": "markdown",
   "metadata": {},
   "source": [
    "\n",
    "### 7. Do a and b have the same size? How do you prove that in Python code?\n"
   ]
  },
  {
   "cell_type": "code",
   "execution_count": 40,
   "metadata": {},
   "outputs": [
    {
     "name": "stdout",
     "output_type": "stream",
     "text": [
      "True\n"
     ]
    }
   ],
   "source": [
    "print(a.size == b.size)"
   ]
  },
  {
   "cell_type": "markdown",
   "metadata": {},
   "source": [
    "\n",
    "### 8. Are you able to add a and b? Why or why not?\n"
   ]
  },
  {
   "cell_type": "code",
   "execution_count": 88,
   "metadata": {},
   "outputs": [
    {
     "ename": "ValueError",
     "evalue": "operands could not be broadcast together with shapes (2,3,5) (5,2,3) ",
     "output_type": "error",
     "traceback": [
      "\u001b[1;31m---------------------------------------------------------------------------\u001b[0m",
      "\u001b[1;31mValueError\u001b[0m                                Traceback (most recent call last)",
      "Cell \u001b[1;32mIn[88], line 2\u001b[0m\n\u001b[0;32m      1\u001b[0m \u001b[38;5;66;03m#operands could not be broadcast together with shapes (2,3,5) (5,2,3)\u001b[39;00m\n\u001b[1;32m----> 2\u001b[0m \u001b[43ma\u001b[49m\u001b[43m \u001b[49m\u001b[38;5;241;43m+\u001b[39;49m\u001b[43m \u001b[49m\u001b[43mb\u001b[49m\n",
      "\u001b[1;31mValueError\u001b[0m: operands could not be broadcast together with shapes (2,3,5) (5,2,3) "
     ]
    }
   ],
   "source": [
    "#operands could not be broadcast together with shapes (2,3,5) (5,2,3)\n",
    "a + b"
   ]
  },
  {
   "cell_type": "markdown",
   "metadata": {},
   "source": [
    "\n",
    "\n",
    "### 9. Transpose b so that it has the same structure of a (i.e. become a 2x3x5 array). Assign the transposed array to varialbe \"c\".\n"
   ]
  },
  {
   "cell_type": "code",
   "execution_count": 89,
   "metadata": {},
   "outputs": [
    {
     "name": "stdout",
     "output_type": "stream",
     "text": [
      "[[[1. 1. 1. 1. 1.]\n",
      "  [1. 1. 1. 1. 1.]\n",
      "  [1. 1. 1. 1. 1.]]\n",
      "\n",
      " [[1. 1. 1. 1. 1.]\n",
      "  [1. 1. 1. 1. 1.]\n",
      "  [1. 1. 1. 1. 1.]]]\n"
     ]
    }
   ],
   "source": [
    "c = np.transpose(b, (1,2,0))\n",
    "print(c)"
   ]
  },
  {
   "cell_type": "markdown",
   "metadata": {},
   "source": [
    "\n",
    "### 10. Try to add a and c. Now it should work. Assign the sum to variable \"d\". But why does it work now?\n"
   ]
  },
  {
   "cell_type": "code",
   "execution_count": 90,
   "metadata": {},
   "outputs": [],
   "source": [
    "d = a + c\n"
   ]
  },
  {
   "cell_type": "markdown",
   "metadata": {},
   "source": [
    "\n",
    "### 11. Print a and d. Notice the difference and relation of the two array in terms of the values? Explain.\n"
   ]
  },
  {
   "cell_type": "code",
   "execution_count": 106,
   "metadata": {},
   "outputs": [
    {
     "ename": "SyntaxError",
     "evalue": "invalid syntax (217958860.py, line 7)",
     "output_type": "error",
     "traceback": [
      "\u001b[1;36m  Cell \u001b[1;32mIn[106], line 7\u001b[1;36m\u001b[0m\n\u001b[1;33m    \"\"The error in a + b occurs because the shapes of arrays a and b are different. Array a has the shape (2, 3, 5), while b has the shape (5, 2, 3), making their shapes incompatible for element-wise addition.\u001b[0m\n\u001b[1;37m      ^\u001b[0m\n\u001b[1;31mSyntaxError\u001b[0m\u001b[1;31m:\u001b[0m invalid syntax\n"
     ]
    }
   ],
   "source": [
    "print(\"a:\")\n",
    "print(a)\n",
    "print(\"d:\")\n",
    "print(d)\n",
    "\"\"\"The array a contains random floating-point values, while the array d consists entirely of ones.\n",
    "The relation between the two arrays is that d is used as a matrix of ones,\n",
    "and when operations are performed between a and d,\n",
    "the result is influenced by the values in a since multiplying any value by 1 will leave it unchanged.\n",
    "This is the key difference: a holds varying data, while d is constant and uniform.\"\"\""
   ]
  },
  {
   "cell_type": "markdown",
   "metadata": {},
   "source": [
    "\n",
    "### 12. Multiply a and c. Assign the result to e.\n"
   ]
  },
  {
   "cell_type": "code",
   "execution_count": 86,
   "metadata": {},
   "outputs": [
    {
     "name": "stdout",
     "output_type": "stream",
     "text": [
      "[[[0.71331519 0.38259266 0.78943388 0.10406541 0.79198517]\n",
      "  [0.18060671 0.11251677 0.74203692 0.93510058 0.91880951]\n",
      "  [0.99203504 0.37359703 0.30436606 0.52294285 0.07466315]]\n",
      "\n",
      " [[0.47818794 0.74526737 0.27939196 0.53949699 0.12408971]\n",
      "  [0.39612374 0.13321745 0.28435971 0.59761169 0.35609943]\n",
      "  [0.12582559 0.31266831 0.0745588  0.38940174 0.71515746]]]\n"
     ]
    }
   ],
   "source": [
    "e = a * c\n",
    "print(e)"
   ]
  },
  {
   "cell_type": "markdown",
   "metadata": {},
   "source": [
    "\n",
    "\n",
    "### 13. Does e equal to a? Why or why not?\n"
   ]
  },
  {
   "cell_type": "code",
   "execution_count": 87,
   "metadata": {},
   "outputs": [
    {
     "data": {
      "text/plain": [
       "array([[[ True,  True,  True,  True,  True],\n",
       "        [ True,  True,  True,  True,  True],\n",
       "        [ True,  True,  True,  True,  True]],\n",
       "\n",
       "       [[ True,  True,  True,  True,  True],\n",
       "        [ True,  True,  True,  True,  True],\n",
       "        [ True,  True,  True,  True,  True]]])"
      ]
     },
     "execution_count": 87,
     "metadata": {},
     "output_type": "execute_result"
    }
   ],
   "source": [
    "e == a"
   ]
  },
  {
   "cell_type": "markdown",
   "metadata": {},
   "source": [
    "\n",
    "\n",
    "### 14. Identify the max, min, and mean values in d. Assign those values to variables \"d_max\", \"d_min\", and \"d_mean\"\n"
   ]
  },
  {
   "cell_type": "code",
   "execution_count": 44,
   "metadata": {},
   "outputs": [],
   "source": [
    "d_max = np.max(d)\n",
    "d_min = np.min(d)\n",
    "d_mean = np.mean(d)"
   ]
  },
  {
   "cell_type": "code",
   "execution_count": 45,
   "metadata": {},
   "outputs": [
    {
     "name": "stdout",
     "output_type": "stream",
     "text": [
      "Max value in d: 1.9921727028623741\n",
      "Min value in d: 1.0277704035947255\n",
      "Mean value in d: 1.4095508265945222\n"
     ]
    }
   ],
   "source": [
    "print(f\"Max value in d: {d_max}\")\n",
    "print(f\"Min value in d: {d_min}\")\n",
    "print(f\"Mean value in d: {d_mean}\")"
   ]
  },
  {
   "cell_type": "markdown",
   "metadata": {},
   "source": [
    "\n",
    "### 15. Now we want to label the values in d. First create an empty array \"f\" with the same shape (i.e. 2x3x5) as d using `np.empty`.\n"
   ]
  },
  {
   "cell_type": "code",
   "execution_count": 99,
   "metadata": {},
   "outputs": [
    {
     "name": "stdout",
     "output_type": "stream",
     "text": [
      "[[[1.71331519 1.38259266 1.78943388 1.10406541 1.79198517]\n",
      "  [1.18060671 1.11251677 1.74203692 1.93510058 1.91880951]\n",
      "  [1.99203504 1.37359703 1.30436606 1.52294285 1.07466315]]\n",
      "\n",
      " [[1.47818794 1.74526737 1.27939196 1.53949699 1.12408971]\n",
      "  [1.39612374 1.13321745 1.28435971 1.59761169 1.35609943]\n",
      "  [1.12582559 1.31266831 1.0745588  1.38940174 1.71515746]]]\n"
     ]
    }
   ],
   "source": [
    "emp = np.empty(d.shape)\n",
    "print(emp)"
   ]
  },
  {
   "cell_type": "markdown",
   "metadata": {},
   "source": [
    "\n",
    "\n",
    "\n",
    "### 16. Populate the values in f. For each value in d, if it's larger than d_min but smaller than d_mean, assign 25 to the corresponding value in f.\n",
    "If a value in d is larger than d_mean but smaller than d_max, assign 75 to the corresponding value in f.\n",
    "If a value equals to d_mean, assign 50 to the corresponding value in f.\n",
    "Assign 0 to the corresponding value(s) in f for d_min in d.\n",
    "Assign 100 to the corresponding value(s) in f for d_max in d.\n",
    "In the end, f should have only the following values: 0, 25, 50, 75, and 100.\n",
    "Note: you don't have to use Numpy in this question.\n",
    "\n"
   ]
  },
  {
   "cell_type": "code",
   "execution_count": 100,
   "metadata": {},
   "outputs": [
    {
     "name": "stdout",
     "output_type": "stream",
     "text": [
      "Array d:\n",
      " [[[1.71331519 1.38259266 1.78943388 1.10406541 1.79198517]\n",
      "  [1.18060671 1.11251677 1.74203692 1.93510058 1.91880951]\n",
      "  [1.99203504 1.37359703 1.30436606 1.52294285 1.07466315]]\n",
      "\n",
      " [[1.47818794 1.74526737 1.27939196 1.53949699 1.12408971]\n",
      "  [1.39612374 1.13321745 1.28435971 1.59761169 1.35609943]\n",
      "  [1.12582559 1.31266831 1.0745588  1.38940174 1.71515746]]]\n",
      "Array f:\n",
      " [[[75 25 75 25 75]\n",
      "  [25 25 75 75 75]\n",
      "  [100 25 25 75 25]]\n",
      "\n",
      " [[75 75 25 75 25]\n",
      "  [25 25 25 75 25]\n",
      "  [25 25 0 25 75]]]\n"
     ]
    }
   ],
   "source": [
    "for i in range(d.shape[0]):  \n",
    "    for j in range(d.shape[1]):  \n",
    "        for k in range(d.shape[2]): \n",
    "            value = d[i, j, k]\n",
    "            if value == d_min:\n",
    "                f[i, j, k] = 0\n",
    "            elif value == d_max:\n",
    "                f[i, j, k] = 100\n",
    "            elif value == d_mean:\n",
    "                f[i, j, k] = 50\n",
    "            elif d_min < value < d_mean:\n",
    "                f[i, j, k] = 25\n",
    "            elif d_mean < value < d_max:\n",
    "                f[i, j, k] = 75\n",
    "print(\"Array d:\\n\", d)\n",
    "print(\"Array f:\\n\", f)"
   ]
  },
  {
   "cell_type": "markdown",
   "metadata": {},
   "source": [
    "\n",
    "\n",
    "\n",
    "\n",
    "### 17. Print d and f. Do you have your expected f?\n",
    "For instance, if your d is:\n",
    "array([[[1.85836099, 1.67064465, 1.62576044, 1.40243961, 1.88454931],\n",
    "        [1.75354326, 1.69403643, 1.36729252, 1.61415071, 1.12104981],\n",
    "        [1.72201435, 1.1862918 , 1.87078449, 1.7726778 , 1.88180042]],\n",
    "\n",
    "       [[1.44747908, 1.31673383, 1.02000951, 1.52218947, 1.97066381],\n",
    "        [1.79129243, 1.74983003, 1.96028037, 1.85166831, 1.65450881],\n",
    "        [1.18068344, 1.9587381 , 1.00656599, 1.93402165, 1.73514584]]])\n",
    "\n",
    "Your f should be:\n",
    "array([[[ 75.,  75.,  75.,  25.,  75.],\n",
    "        [ 75.,  75.,  25.,  25.,  25.],\n",
    "        [ 75.,  25.,  75.,  75.,  75.]],\n",
    "\n",
    "       [[ 25.,  25.,  25.,  25., 100.],\n",
    "        [ 75.,  75.,  75.,  75.,  75.],\n",
    "        [ 25.,  75.,   0.,  75.,  75.]]])\n",
    "\n"
   ]
  },
  {
   "cell_type": "code",
   "execution_count": 108,
   "metadata": {},
   "outputs": [
    {
     "name": "stdout",
     "output_type": "stream",
     "text": [
      "Array d:\n",
      " [[[1.71331519 1.38259266 1.78943388 1.10406541 1.79198517]\n",
      "  [1.18060671 1.11251677 1.74203692 1.93510058 1.91880951]\n",
      "  [1.99203504 1.37359703 1.30436606 1.52294285 1.07466315]]\n",
      "\n",
      " [[1.47818794 1.74526737 1.27939196 1.53949699 1.12408971]\n",
      "  [1.39612374 1.13321745 1.28435971 1.59761169 1.35609943]\n",
      "  [1.12582559 1.31266831 1.0745588  1.38940174 1.71515746]]]\n",
      "Array f:\n",
      " [[[75 25 75 25 75]\n",
      "  [25 25 75 75 75]\n",
      "  [100 25 25 75 25]]\n",
      "\n",
      " [[75 75 25 75 25]\n",
      "  [25 25 25 75 25]\n",
      "  [25 25 0 25 75]]]\n"
     ]
    }
   ],
   "source": [
    "for i in range(d.shape[0]):  \n",
    "    for j in range(d.shape[1]):  \n",
    "        for k in range(d.shape[2]):\n",
    "            value = d[i, j, k]\n",
    "            if value == d_min:\n",
    "                f[i, j, k] = 0\n",
    "            elif value == d_max:\n",
    "                f[i, j, k] = 100\n",
    "            elif value == d_mean:\n",
    "                f[i, j, k] = 50\n",
    "            elif d_min < value < d_mean:\n",
    "                f[i, j, k] = 25\n",
    "            elif d_mean < value < d_max:\n",
    "                f[i, j, k] = 75\n",
    "print(\"Array d:\\n\", d)\n",
    "print(\"Array f:\\n\", f)                "
   ]
  },
  {
   "cell_type": "markdown",
   "metadata": {},
   "source": [
    "### 18. Bonus question: instead of using numbers (i.e. 0, 25, 50, 75, and 100), how to use string values \n",
    "(\"A\", \"B\", \"C\", \"D\", and \"E\") to label the array elements? You are expecting the result to be:\n",
    "array([[[ 'D',  'D',  'D',  'B',  'D'],\n",
    "        [ 'D',  'D',  'B',  'B',  'B'],\n",
    "        [ 'D',  'B',  'D',  'D',  'D']],\n",
    "\n",
    "       [[ 'B',  'B',  'B',  'B',  'E'],\n",
    "        [ 'D',  'D',  'D',  'D',  'D'],\n",
    "        [ 'B',  'D',   'A',  'D', 'D']]])\n",
    "Again, you don't need Numpy in this question."
   ]
  },
  {
   "cell_type": "code",
   "execution_count": 109,
   "metadata": {},
   "outputs": [
    {
     "name": "stdout",
     "output_type": "stream",
     "text": [
      "Array f:\n",
      " [[['D' 'B' 'D' 'B' 'D']\n",
      "  ['B' 'B' 'D' 'D' 'D']\n",
      "  ['E' 'B' 'B' 'D' 'B']]\n",
      "\n",
      " [['D' 'D' 'B' 'D' 'B']\n",
      "  ['B' 'B' 'B' 'D' 'B']\n",
      "  ['B' 'B' 'A' 'B' 'D']]]\n"
     ]
    }
   ],
   "source": [
    "for i in range(d.shape[0]):  \n",
    "    for j in range(d.shape[1]): \n",
    "        for k in range(d.shape[2]):  \n",
    "            value = d[i, j, k]\n",
    "            if value == d_min:\n",
    "                f[i, j, k] = 'A'\n",
    "            elif value == d_max:\n",
    "                f[i, j, k] = 'E'\n",
    "            elif value == d_mean:\n",
    "                f[i, j, k] = 'C'\n",
    "            elif d_min < value < d_mean:\n",
    "                f[i, j, k] = 'B'\n",
    "            elif d_mean < value < d_max:\n",
    "                f[i, j, k] = 'D'\n",
    "\n",
    "\n",
    "print(\"Array f:\\n\", f)\n"
   ]
  },
  {
   "cell_type": "code",
   "execution_count": null,
   "metadata": {},
   "outputs": [],
   "source": []
  },
  {
   "cell_type": "code",
   "execution_count": null,
   "metadata": {},
   "outputs": [],
   "source": []
  }
 ],
 "metadata": {
  "kernelspec": {
   "display_name": "Python 3 (ipykernel)",
   "language": "python",
   "name": "python3"
  },
  "language_info": {
   "codemirror_mode": {
    "name": "ipython",
    "version": 3
   },
   "file_extension": ".py",
   "mimetype": "text/x-python",
   "name": "python",
   "nbconvert_exporter": "python",
   "pygments_lexer": "ipython3",
   "version": "3.9.21"
  }
 },
 "nbformat": 4,
 "nbformat_minor": 4
}
