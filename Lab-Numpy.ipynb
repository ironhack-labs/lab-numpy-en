{
 "cells": [
  {
   "cell_type": "markdown",
   "id": "5d0e207e-9e1d-46c9-8072-c16750ad08f1",
   "metadata": {},
   "source": [
    "# **Lab-Numpy**"
   ]
  },
  {
   "cell_type": "markdown",
   "id": "cfea8354-c770-4dcc-af18-e4a25f88042f",
   "metadata": {},
   "source": [
    "#### 1. Import the numpy package under the name `np` (★☆☆)\n",
    "`hint: import … as`\n",
    "\n",
    "#### 2. Create a null vector of size 10 (★☆☆)\n",
    "`hint: np.zeros`\n",
    "\n",
    "#### 3. Create a null vector of size 10 but the fifth value which is 1 (★☆☆)\n",
    "`hint: array[4]`\n",
    "\n",
    "#### 4. Create a vector with values ranging from 10 to 49 (★☆☆)\n",
    "`hint: arange`\n",
    "\n",
    "#### 5. Create a 3x3 matrix with values ranging from 0 to 8 (★☆☆)\n",
    "`hint: reshape`\n",
    "\n",
    "#### 6. Find indices of non-zero elements from [1,2,0,0,4,0] (★☆☆)\n",
    "`hint: np.nonzero`\n",
    "\n",
    "#### 7. Create a 3x3 identity matrix (★☆☆)\n",
    "`hint: np.eye`\n",
    "\n",
    "#### 8. Create a 3x3x3 array with random values (★☆☆)\n",
    "`hint: np.random.random`\n",
    "\n",
    "#### 9. Create a 10x10 array with random values and find the minimum and maximum values (★☆☆)\n",
    "`hint: min, max`\n",
    "\n",
    "#### 10. Create a random vector of size 30 and find the mean value (★☆☆)\n",
    "`hint: mean`\n",
    "\n",
    "#### 11. Create a 5x5 matrix with values 1,2,3,4 just below the diagonal (★☆☆)\n",
    "`hint: np.diag`\n",
    "\n",
    "#### 12. Normalize a 5x5 random matrix (★☆☆)\n",
    "`hint: (x -mean)/std`\n",
    "\n",
    "#### 13. How to find common values between two arrays? (★☆☆)\n",
    "`hint: np.intersect1d`\n",
    "\n",
    "#### 14. Create a random vector of size 10 and sort it (★★☆)\n",
    "`hint: sort`\n",
    "\n",
    "#### 15. Create random vector of size 10 and replace the maximum value by 0 (★★☆)\n",
    "`hint: argmax`\n",
    "\n",
    "#### 16. Subtract the mean of each row of a matrix (★★☆)\n",
    "`hint: mean(axis=,keepdims=)`\n",
    "\n",
    "#### 17. How to get the n largest values of an array (★★★)\n",
    "`Z = np.arange(10000)\n",
    "np.random.shuffle(Z)\n",
    "n = 5\n",
    "hint: np.argsort | np.argpartition`\n",
    "\n",
    "#### 18. Create a random 5*3 matrix and replace items that are larger than 4 by their squares ( Example:  6 --> 36) \n",
    "`hint: np.where`\n"
   ]
  },
  {
   "cell_type": "code",
   "execution_count": 3,
   "id": "65844a6b-5950-4149-bde2-b5c8c36eb869",
   "metadata": {},
   "outputs": [],
   "source": [
    "#1\n",
    "import numpy as np"
   ]
  },
  {
   "cell_type": "code",
   "execution_count": 4,
   "id": "0d1ea48b-7766-4935-a3e7-2d5883605039",
   "metadata": {},
   "outputs": [
    {
     "name": "stdout",
     "output_type": "stream",
     "text": [
      "[0. 0. 0. 0. 0. 0. 0. 0. 0. 0.]\n"
     ]
    }
   ],
   "source": [
    "#2 . Create a null vector of size 10\n",
    "vector = np.zeros(10)\n",
    "print(vector)"
   ]
  },
  {
   "cell_type": "code",
   "execution_count": 5,
   "id": "21dd92a8-9b72-46d8-a0e9-a517dc6acd64",
   "metadata": {},
   "outputs": [
    {
     "name": "stdout",
     "output_type": "stream",
     "text": [
      "[0. 0. 0. 0. 1. 0. 0. 0. 0. 0.]\n"
     ]
    }
   ],
   "source": [
    "#3 Create a null vector of size 10 but the fifth value which is 1\n",
    "vector[4] = 1\n",
    "print(vector)"
   ]
  },
  {
   "cell_type": "code",
   "execution_count": 6,
   "id": "5a4cef15-7e55-4d88-92c2-e43c784976e1",
   "metadata": {},
   "outputs": [
    {
     "name": "stdout",
     "output_type": "stream",
     "text": [
      "[10 11 12 13 14 15 16 17 18 19 20 21 22 23 24 25 26 27 28 29 30 31 32 33\n",
      " 34 35 36 37 38 39 40 41 42 43 44 45 46 47 48 49]\n"
     ]
    }
   ],
   "source": [
    "#4 Create a vector with values ranging from 10 to 49\n",
    "vector = np.arange(10, 50)\n",
    "print(vector)"
   ]
  },
  {
   "cell_type": "code",
   "execution_count": 7,
   "id": "0cedc0df-c6de-4cb1-8343-7ece4a8c767c",
   "metadata": {},
   "outputs": [
    {
     "name": "stdout",
     "output_type": "stream",
     "text": [
      "[[0 1 2]\n",
      " [3 4 5]\n",
      " [6 7 8]]\n"
     ]
    }
   ],
   "source": [
    "#5 Create a 3x3 matrix with values ranging from 0 to 8\n",
    "matrix = np.arange(9).reshape(3, 3)\n",
    "print(matrix)"
   ]
  },
  {
   "cell_type": "code",
   "execution_count": 8,
   "id": "6dd6f0cb-585b-46b1-baa7-df1da6abea88",
   "metadata": {},
   "outputs": [
    {
     "name": "stdout",
     "output_type": "stream",
     "text": [
      "(array([0, 1, 4]),)\n"
     ]
    }
   ],
   "source": [
    "#6 Find indices of non-zero elements from [1,2,0,0,4,0]\n",
    "array=[1,2,0,0,4,0]\n",
    "non_zero_indices = np.nonzero(array)\n",
    "print(non_zero_indices)"
   ]
  },
  {
   "cell_type": "code",
   "execution_count": 9,
   "id": "55f6b9f0-e6a8-4667-b2b3-bee203c24995",
   "metadata": {},
   "outputs": [
    {
     "name": "stdout",
     "output_type": "stream",
     "text": [
      "[[1. 0. 0.]\n",
      " [0. 1. 0.]\n",
      " [0. 0. 1.]]\n"
     ]
    }
   ],
   "source": [
    "#7 Create a 3x3 identity matrix\n",
    "identity_matrix = np.eye(3)\n",
    "print(identity_matrix)"
   ]
  },
  {
   "cell_type": "code",
   "execution_count": 10,
   "id": "67ea3b47-bf72-4c53-8b67-2ebbe9f015ef",
   "metadata": {},
   "outputs": [
    {
     "name": "stdout",
     "output_type": "stream",
     "text": [
      "[[[0.21940588 0.73187285 0.34496497]\n",
      "  [0.53336741 0.0570978  0.52587016]\n",
      "  [0.51050807 0.66823228 0.19229379]]\n",
      "\n",
      " [[0.56059982 0.63771386 0.97170118]\n",
      "  [0.3026681  0.52713754 0.1448633 ]\n",
      "  [0.93314466 0.79913221 0.88403887]]\n",
      "\n",
      " [[0.17703342 0.94374824 0.40650397]\n",
      "  [0.91419778 0.73064577 0.48285262]\n",
      "  [0.42492775 0.14354737 0.28250412]]]\n"
     ]
    }
   ],
   "source": [
    "#8 Create a 3x3x3 array with random values\n",
    "random_array = np.random.random((3, 3, 3))\n",
    "print(random_array)"
   ]
  },
  {
   "cell_type": "code",
   "execution_count": 11,
   "id": "943552c0-13f9-4971-adde-197b50471992",
   "metadata": {},
   "outputs": [
    {
     "name": "stdout",
     "output_type": "stream",
     "text": [
      "Minimum Value: 0.009851729709047352\n",
      "Maximum Value: 0.985412826105582\n"
     ]
    }
   ],
   "source": [
    "#9 Create a 10x10 array with random values and find the minimum and maximum values \n",
    "\n",
    "random_array = np.random.random((10, 10))\n",
    "\n",
    "# Find the minimum and maximum values\n",
    "min_value = random_array.min()\n",
    "max_value = random_array.max()\n",
    "\n",
    "print(\"Minimum Value:\", min_value)\n",
    "print(\"Maximum Value:\", max_value)\n"
   ]
  },
  {
   "cell_type": "code",
   "execution_count": 12,
   "id": "2ce2a833-6259-4549-93c3-ec2ae58afdb0",
   "metadata": {},
   "outputs": [
    {
     "name": "stdout",
     "output_type": "stream",
     "text": [
      "Random Vector: [0.46724049 0.33673294 0.0604591  0.86337027 0.08077978 0.69347931\n",
      " 0.51048187 0.63990656 0.18470107 0.23582909 0.97718555 0.44114102\n",
      " 0.87673219 0.04612775 0.14212269 0.10373957 0.35489628 0.08589414\n",
      " 0.3720373  0.31182765 0.76518163 0.15141776 0.29853727 0.909517\n",
      " 0.06069947 0.3093576  0.29116741 0.75767736 0.32436492 0.71759703]\n",
      "Mean Value: 0.41234006986930694\n"
     ]
    }
   ],
   "source": [
    "#10  Create a random vector of size 30 and find the mean value \n",
    "\n",
    "random_vector = np.random.random(30)\n",
    "mean_value = random_vector.mean()\n",
    "\n",
    "print(\"Random Vector:\", random_vector)\n",
    "print(\"Mean Value:\", mean_value)"
   ]
  },
  {
   "cell_type": "code",
   "execution_count": 23,
   "id": "861d2cce-009c-4549-891d-03beebc499d9",
   "metadata": {},
   "outputs": [
    {
     "name": "stdout",
     "output_type": "stream",
     "text": [
      "[[0 0 0 0 0]\n",
      " [1 0 0 0 0]\n",
      " [0 2 0 0 0]\n",
      " [0 0 3 0 0]\n",
      " [0 0 0 4 0]]\n"
     ]
    }
   ],
   "source": [
    "#11 Create a 5x5 matrix with values 1,2,3,4 just below the diagonal\n",
    "matrix = np.diag([1, 2, 3, 4], k=-1)\n",
    "print(matrix)"
   ]
  },
  {
   "cell_type": "code",
   "execution_count": 14,
   "id": "f2f86fef-abb4-4c54-81a2-e339f71c1b81",
   "metadata": {},
   "outputs": [
    {
     "name": "stdout",
     "output_type": "stream",
     "text": [
      "[[ 0.62858197  1.59329895 -0.53625902 -0.83791271 -1.46172386]\n",
      " [ 0.09538572  0.25080342 -0.10892462 -0.94782233 -1.18981592]\n",
      " [-1.23310729  1.58561322  1.02134009  0.37186951  1.27219787]\n",
      " [ 0.28383425 -0.83819138  0.16207714 -1.3611429   1.24623782]\n",
      " [ 1.38989898 -1.17776928  1.05930956 -0.98567431 -0.28210488]]\n"
     ]
    }
   ],
   "source": [
    "#12 Normalize a 5x5 random matrix\n",
    "\n",
    "random_matrix = np.random.rand(5, 5)\n",
    "\n",
    "# Normalize the matrix (x - mean) / std\n",
    "normalized_matrix = (random_matrix - np.mean(random_matrix)) / np.std(random_matrix)\n",
    "print(normalized_matrix)\n"
   ]
  },
  {
   "cell_type": "code",
   "execution_count": 15,
   "id": "1cab80fe-f2b0-4df7-93de-e39618853bb8",
   "metadata": {},
   "outputs": [
    {
     "name": "stdout",
     "output_type": "stream",
     "text": [
      "[4 5]\n"
     ]
    }
   ],
   "source": [
    "#13 How to find common values between two arrays?\n",
    "array1 = np.array([98, 2, 3, 4, 5])\n",
    "array2 = np.array([4, 5, 6, 7, 8])\n",
    "\n",
    "# Find common values between the two arrays\n",
    "common_values = np.intersect1d(array1, array2)\n",
    "print(common_values)"
   ]
  },
  {
   "cell_type": "code",
   "execution_count": 16,
   "id": "64f1b948-5ca3-4373-896d-289b914a5c74",
   "metadata": {},
   "outputs": [
    {
     "name": "stdout",
     "output_type": "stream",
     "text": [
      "[0.24206463 0.25722433 0.29715762 0.30185096 0.30714489 0.41757883\n",
      " 0.44545442 0.5795811  0.68371905 0.71463214]\n"
     ]
    }
   ],
   "source": [
    "#14 Create a random vector of size 10 and sort it\n",
    "random_vector = np.random.rand(10)\n",
    "\n",
    "# Sort the vector\n",
    "sorted_vector = np.sort(random_vector)\n",
    "print(sorted_vector)"
   ]
  },
  {
   "cell_type": "code",
   "execution_count": 17,
   "id": "1fa65c8b-f5e8-4394-a1e1-00e2c08f95ae",
   "metadata": {},
   "outputs": [
    {
     "name": "stdout",
     "output_type": "stream",
     "text": [
      "[0.96791624 0.81667168 0.16155326 0.78087583 0.58727786 0.94942698\n",
      " 0.5425264  0.51223609 0.9159665  0.54908306]\n",
      "[0.         0.81667168 0.16155326 0.78087583 0.58727786 0.94942698\n",
      " 0.5425264  0.51223609 0.9159665  0.54908306]\n"
     ]
    }
   ],
   "source": [
    "#15 Create random vector of size 10 and replace the maximum value by 0\n",
    "# Create a random vector of size 10\n",
    "random_vector = np.random.rand(10)\n",
    "print(random_vector)\n",
    "\n",
    "# Replace the maximum value with 0\n",
    "random_vector[np.argmax(random_vector)] = 0\n",
    "print(random_vector)"
   ]
  },
  {
   "cell_type": "code",
   "execution_count": 18,
   "id": "7562c62f-8962-460b-9946-270361360a1a",
   "metadata": {},
   "outputs": [
    {
     "name": "stdout",
     "output_type": "stream",
     "text": [
      "[[-0.22516412  0.36613933  0.35757461 -0.27618896 -0.22236087]\n",
      " [-0.48174887  0.24263617  0.06170379  0.13031422  0.04709469]\n",
      " [-0.29279466  0.11773178  0.29793119  0.41238767 -0.53525598]\n",
      " [ 0.25175876 -0.25313073  0.20243128 -0.523059    0.32199969]\n",
      " [-0.07857368  0.15385061  0.23688893 -0.30762072 -0.00454513]]\n"
     ]
    }
   ],
   "source": [
    "#16 Subtract the mean of each row of a matrix \n",
    "\n",
    "# Create a random matrix of size 5x5\n",
    "matrix = np.random.rand(5, 5)\n",
    "\n",
    "# Subtract the mean of each row\n",
    "substraction = matrix - np.mean(matrix, axis=1, keepdims=True)\n",
    "print(substraction)\n"
   ]
  },
  {
   "cell_type": "code",
   "execution_count": 19,
   "id": "44955e07-513f-404d-8cf0-67fd71bf8f17",
   "metadata": {},
   "outputs": [
    {
     "name": "stdout",
     "output_type": "stream",
     "text": [
      "[9995 9996 9997 9998 9999]\n"
     ]
    }
   ],
   "source": [
    "#17 How to get the n largest values of an array\n",
    "\n",
    "# Create a shuffled array\n",
    "Z = np.arange(10000)\n",
    "np.random.shuffle(Z)\n",
    "\n",
    "# Number of largest values to find\n",
    "n = 5\n",
    "\n",
    "# Get the n largest values\n",
    "n_largest_values = Z[np.argpartition(Z, -n)[-n:]]\n",
    "n_largest_values_sorted = np.sort(n_largest_values)  # Sort the values if needed\n",
    "print(n_largest_values_sorted)\n"
   ]
  },
  {
   "cell_type": "code",
   "execution_count": 20,
   "id": "eed4df17-7242-47fd-a75b-c1ac096db87c",
   "metadata": {},
   "outputs": [
    {
     "name": "stdout",
     "output_type": "stream",
     "text": [
      "Original Matrix:\n",
      " [[0 6 8]\n",
      " [9 9 7]\n",
      " [3 0 9]\n",
      " [9 5 9]\n",
      " [8 0 8]]\n",
      "Modified Matrix:\n",
      " [[ 0 36 64]\n",
      " [81 81 49]\n",
      " [ 3  0 81]\n",
      " [81 25 81]\n",
      " [64  0 64]]\n"
     ]
    }
   ],
   "source": [
    "#18 Create a random 5*3 matrix and replace items that are larger than 4 by their squares\n",
    "\n",
    "# Create a random 5x3 matrix with values between 0 and 10\n",
    "matrix = np.random.randint(0, 10, (5, 3))\n",
    "\n",
    "# Replace items larger than 4 with their squares\n",
    "result = np.where(matrix > 4, matrix ** 2, matrix)\n",
    "\n",
    "print(\"Original Matrix:\\n\", matrix)\n",
    "print(\"Modified Matrix:\\n\", result)\n"
   ]
  }
 ],
 "metadata": {
  "kernelspec": {
   "display_name": "Python 3 (ipykernel)",
   "language": "python",
   "name": "python3"
  },
  "language_info": {
   "codemirror_mode": {
    "name": "ipython",
    "version": 3
   },
   "file_extension": ".py",
   "mimetype": "text/x-python",
   "name": "python",
   "nbconvert_exporter": "python",
   "pygments_lexer": "ipython3",
   "version": "3.10.13"
  }
 },
 "nbformat": 4,
 "nbformat_minor": 5
}
