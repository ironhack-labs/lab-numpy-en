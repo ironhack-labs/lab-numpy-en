{
  "cells": [
    {
      "cell_type": "markdown",
      "metadata": {
        "id": "VlMq3w8UEReg"
      },
      "source": [
        "# Lab | Numpy Deep Dive"
      ]
    },
    {
      "cell_type": "markdown",
      "metadata": {
        "id": "-6kYQezaEReh"
      },
      "source": [
        "### 1. Import the NUMPY package under the name np.\n"
      ]
    },
    {
      "cell_type": "code",
      "execution_count": 2,
      "metadata": {
        "id": "UhBZqUgyEReh"
      },
      "outputs": [],
      "source": [
        "import numpy as np"
      ]
    },
    {
      "cell_type": "markdown",
      "metadata": {
        "id": "nkncN5bNERei"
      },
      "source": [
        "\n",
        "\n",
        "### 2. Print the NUMPY version and the configuration.\n"
      ]
    },
    {
      "cell_type": "code",
      "execution_count": 3,
      "metadata": {
        "colab": {
          "base_uri": "https://localhost:8080/"
        },
        "id": "I8yt0YpcERei",
        "outputId": "5bb301b6-717d-42e2-db07-e0d96398e162"
      },
      "outputs": [
        {
          "output_type": "stream",
          "name": "stdout",
          "text": [
            "My NumPy Version: 1.26.4\n",
            "Build Dependencies:\n",
            "  blas:\n",
            "    detection method: pkgconfig\n",
            "    found: true\n",
            "    include directory: /usr/local/include\n",
            "    lib directory: /usr/local/lib\n",
            "    name: openblas64\n",
            "    openblas configuration: USE_64BITINT=1 DYNAMIC_ARCH=1 DYNAMIC_OLDER= NO_CBLAS=\n",
            "      NO_LAPACK= NO_LAPACKE= NO_AFFINITY=1 USE_OPENMP= HASWELL MAX_THREADS=2\n",
            "    pc file directory: /usr/local/lib/pkgconfig\n",
            "    version: 0.3.23.dev\n",
            "  lapack:\n",
            "    detection method: internal\n",
            "    found: true\n",
            "    include directory: unknown\n",
            "    lib directory: unknown\n",
            "    name: dep140213194937296\n",
            "    openblas configuration: unknown\n",
            "    pc file directory: unknown\n",
            "    version: 1.26.4\n",
            "Compilers:\n",
            "  c:\n",
            "    args: -fno-strict-aliasing\n",
            "    commands: cc\n",
            "    linker: ld.bfd\n",
            "    linker args: -Wl,--strip-debug, -fno-strict-aliasing\n",
            "    name: gcc\n",
            "    version: 10.2.1\n",
            "  c++:\n",
            "    commands: c++\n",
            "    linker: ld.bfd\n",
            "    linker args: -Wl,--strip-debug\n",
            "    name: gcc\n",
            "    version: 10.2.1\n",
            "  cython:\n",
            "    commands: cython\n",
            "    linker: cython\n",
            "    name: cython\n",
            "    version: 3.0.8\n",
            "Machine Information:\n",
            "  build:\n",
            "    cpu: x86_64\n",
            "    endian: little\n",
            "    family: x86_64\n",
            "    system: linux\n",
            "  host:\n",
            "    cpu: x86_64\n",
            "    endian: little\n",
            "    family: x86_64\n",
            "    system: linux\n",
            "Python Information:\n",
            "  path: /opt/python/cp311-cp311/bin/python\n",
            "  version: '3.11'\n",
            "SIMD Extensions:\n",
            "  baseline:\n",
            "  - SSE\n",
            "  - SSE2\n",
            "  - SSE3\n",
            "  found:\n",
            "  - SSSE3\n",
            "  - SSE41\n",
            "  - POPCNT\n",
            "  - SSE42\n",
            "  - AVX\n",
            "  - F16C\n",
            "  - FMA3\n",
            "  - AVX2\n",
            "  not found:\n",
            "  - AVX512F\n",
            "  - AVX512CD\n",
            "  - AVX512_KNL\n",
            "  - AVX512_KNM\n",
            "  - AVX512_SKX\n",
            "  - AVX512_CLX\n",
            "  - AVX512_CNL\n",
            "  - AVX512_ICL\n",
            "\n"
          ]
        }
      ],
      "source": [
        "# Print NumPy version\n",
        "print(\"My NumPy Version:\", np.__version__)\n",
        "\n",
        "# Print NumPy configuration\n",
        "np.show_config()"
      ]
    },
    {
      "cell_type": "markdown",
      "metadata": {
        "id": "7cWrwouMERei"
      },
      "source": [
        "### 3. Generate a 2x3x5 3-dimensional array with random values. Assign the array to variable \"a\"\n",
        "Challenge: there are at least three easy ways that use numpy to generate random arrays. How many ways can you find?\n"
      ]
    },
    {
      "cell_type": "markdown",
      "source": [
        "# **Method 1: By using numpy.random.rand**"
      ],
      "metadata": {
        "id": "mQ0bEybbHV2n"
      }
    },
    {
      "cell_type": "code",
      "execution_count": 4,
      "metadata": {
        "id": "6vIqQCroERei"
      },
      "outputs": [],
      "source": [
        "a = np.random.rand(2, 3, 5)"
      ]
    },
    {
      "cell_type": "markdown",
      "source": [
        "# **Method 1: By using numpy.random.random**"
      ],
      "metadata": {
        "id": "G7RELuPLH6sx"
      }
    },
    {
      "cell_type": "code",
      "source": [
        "a = np.random.random((2, 3, 5))"
      ],
      "metadata": {
        "id": "bP1R42o6N7rt"
      },
      "execution_count": 5,
      "outputs": []
    },
    {
      "cell_type": "markdown",
      "source": [
        "#**Method 3: Using numpy.random.uniform**"
      ],
      "metadata": {
        "id": "nlvm5W-mOXz5"
      }
    },
    {
      "cell_type": "code",
      "source": [
        "a = np.random.uniform(size=(2, 3, 5))"
      ],
      "metadata": {
        "id": "m86m6qaYOdQH"
      },
      "execution_count": 6,
      "outputs": []
    },
    {
      "cell_type": "markdown",
      "metadata": {
        "id": "vbXjUv65ERei"
      },
      "source": [
        "\n",
        "### 4. Print a.\n"
      ]
    },
    {
      "cell_type": "code",
      "execution_count": 7,
      "metadata": {
        "colab": {
          "base_uri": "https://localhost:8080/"
        },
        "id": "vgpreA14ERei",
        "outputId": "d3d1f946-0280-443e-ada4-85cd3f8dd4a6"
      },
      "outputs": [
        {
          "output_type": "stream",
          "name": "stdout",
          "text": [
            "Method 1 (np.random.rand):\n",
            " [[[9.55836657e-01 4.01549248e-01 3.21213573e-01 1.09158570e-01\n",
            "   2.50713757e-01]\n",
            "  [6.28348482e-01 5.34857236e-01 2.69615345e-01 9.39979329e-01\n",
            "   1.45400935e-01]\n",
            "  [6.60295873e-01 1.70502632e-01 9.31533019e-01 2.31609590e-01\n",
            "   6.42998781e-01]]\n",
            "\n",
            " [[3.52957653e-01 3.02137753e-01 3.57875136e-01 9.57324029e-01\n",
            "   8.88823939e-01]\n",
            "  [1.43360344e-04 7.47960598e-01 3.83666609e-01 2.87991439e-01\n",
            "   4.30923730e-01]\n",
            "  [6.93447407e-01 2.84264791e-02 6.84144514e-01 3.73773627e-01\n",
            "   7.57016336e-01]]] \n",
            "\n",
            "Method 2 (np.random.random):\n",
            " [[[0.20801282 0.22500396 0.75751093 0.02630721 0.68099895]\n",
            "  [0.91873919 0.63708878 0.23178478 0.26949466 0.02775869]\n",
            "  [0.1270278  0.73395329 0.32793912 0.1796207  0.39185736]]\n",
            "\n",
            " [[0.08371259 0.08013276 0.73609269 0.91691718 0.97672055]\n",
            "  [0.29987502 0.75218577 0.71638579 0.27759371 0.49027512]\n",
            "  [0.70102642 0.46165214 0.60038984 0.93332892 0.03748993]]] \n",
            "\n",
            "Method 3 (np.random.uniform):\n",
            " [[[0.55794549 0.81748271 0.1720665  0.5005519  0.60991284]\n",
            "  [0.75969901 0.88753872 0.35363696 0.8323133  0.76211827]\n",
            "  [0.91723567 0.04993392 0.79902657 0.92615087 0.05144461]]\n",
            "\n",
            " [[0.49227605 0.15198117 0.13319421 0.36817025 0.91067448]\n",
            "  [0.35734447 0.93109334 0.38223239 0.71496546 0.41987047]\n",
            "  [0.21306292 0.18077581 0.25405978 0.52506873 0.31626199]]] \n",
            "\n"
          ]
        }
      ],
      "source": [
        "# Method 1: Using numpy.random.rand\n",
        "a1 = np.random.rand(2, 3, 5)\n",
        "print(\"Method 1 (np.random.rand):\\n\", a1, \"\\n\")\n",
        "\n",
        "# Method 2: Using numpy.random.random\n",
        "a2 = np.random.random((2, 3, 5))\n",
        "print(\"Method 2 (np.random.random):\\n\", a2, \"\\n\")\n",
        "\n",
        "# Method 3: Using numpy.random.uniform\n",
        "a3 = np.random.uniform(size=(2, 3, 5))\n",
        "print(\"Method 3 (np.random.uniform):\\n\", a3, \"\\n\")"
      ]
    },
    {
      "cell_type": "markdown",
      "metadata": {
        "id": "FQgbvV9SERei"
      },
      "source": [
        "### 5. Create a 5x2x3 3-dimensional array with all values equaling 1.\n",
        "### Assign the array to variable \"b\"\n"
      ]
    },
    {
      "cell_type": "code",
      "execution_count": 9,
      "metadata": {
        "id": "KiXti2WhERej"
      },
      "outputs": [],
      "source": [
        "#The function that ensures all values in the array are 1 is np.ones().\n",
        "b = np.ones((5, 2, 3))"
      ]
    },
    {
      "cell_type": "markdown",
      "metadata": {
        "id": "lzGgPCFxERej"
      },
      "source": [
        "\n",
        "### 6. Print b.\n"
      ]
    },
    {
      "cell_type": "code",
      "execution_count": 10,
      "metadata": {
        "colab": {
          "base_uri": "https://localhost:8080/"
        },
        "id": "bt8-VlF9ERej",
        "outputId": "aeb8e685-6a47-42e9-c71c-5d093c8ddc65"
      },
      "outputs": [
        {
          "output_type": "stream",
          "name": "stdout",
          "text": [
            "[[[1. 1. 1.]\n",
            "  [1. 1. 1.]]\n",
            "\n",
            " [[1. 1. 1.]\n",
            "  [1. 1. 1.]]\n",
            "\n",
            " [[1. 1. 1.]\n",
            "  [1. 1. 1.]]\n",
            "\n",
            " [[1. 1. 1.]\n",
            "  [1. 1. 1.]]\n",
            "\n",
            " [[1. 1. 1.]\n",
            "  [1. 1. 1.]]]\n"
          ]
        }
      ],
      "source": [
        "print(b)"
      ]
    },
    {
      "cell_type": "markdown",
      "metadata": {
        "id": "L7ZzLG-AERej"
      },
      "source": [
        "\n",
        "### 7. Do a and b have the same size? How do you prove that in Python code?\n"
      ]
    },
    {
      "cell_type": "code",
      "execution_count": 11,
      "metadata": {
        "colab": {
          "base_uri": "https://localhost:8080/"
        },
        "id": "htSn8J9FERej",
        "outputId": "135ea2c3-6b5f-495f-a995-e452ab6cfa40"
      },
      "outputs": [
        {
          "output_type": "stream",
          "name": "stdout",
          "text": [
            "Do a and b have the same size? True\n"
          ]
        }
      ],
      "source": [
        "# shape of (2,3,5), meaning:\n",
        "# - 2 blocks\n",
        "# - 3 rows per block\n",
        "# - 5 columns per row\n",
        "a = np.random.random((2, 3, 5))\n",
        "\n",
        "# shape of (5,2,3), meaning:\n",
        "# - 5 blocks\n",
        "# - 2 rows per block\n",
        "# - 3 columns per row\n",
        "b = np.ones((5, 2, 3))\n",
        "\n",
        "# Even though the shapes are different, let's check if they have the same total number of elements.\n",
        "# We can do this using the `.size` attribute, which tells us how many elements are in the array.\n",
        "same_size = a.size == b.size  # This checks if both arrays contain the same number of elements.\n",
        "\n",
        "# Finally, let's print the result so we can see if they match.\n",
        "print(f\"Do a and b have the same size? {same_size}\")  # Should print: True, since both have 30 elements."
      ]
    },
    {
      "cell_type": "markdown",
      "metadata": {
        "id": "m3EnrbMoERej"
      },
      "source": [
        "\n",
        "### 8. Are you able to add a and b? Why or why not?\n"
      ]
    },
    {
      "cell_type": "code",
      "execution_count": 12,
      "metadata": {
        "colab": {
          "base_uri": "https://localhost:8080/",
          "height": 159
        },
        "id": "TXNiBrsYERej",
        "outputId": "83938a30-0b20-474f-c0bd-0f8c22fb604c"
      },
      "outputs": [
        {
          "output_type": "error",
          "ename": "ValueError",
          "evalue": "operands could not be broadcast together with shapes (2,3,5) (5,2,3) ",
          "traceback": [
            "\u001b[0;31m---------------------------------------------------------------------------\u001b[0m",
            "\u001b[0;31mValueError\u001b[0m                                Traceback (most recent call last)",
            "\u001b[0;32m<ipython-input-12-50622e1d77f7>\u001b[0m in \u001b[0;36m<cell line: 0>\u001b[0;34m()\u001b[0m\n\u001b[1;32m      1\u001b[0m \u001b[0;31m### No, We cannot directly add a and b because their shapes are different and they are not compatible for broadcasting.\u001b[0m\u001b[0;34m\u001b[0m\u001b[0;34m\u001b[0m\u001b[0m\n\u001b[0;32m----> 2\u001b[0;31m \u001b[0mc\u001b[0m \u001b[0;34m=\u001b[0m \u001b[0ma\u001b[0m \u001b[0;34m+\u001b[0m \u001b[0mb\u001b[0m  \u001b[0;31m# This will raise a ValueError\u001b[0m\u001b[0;34m\u001b[0m\u001b[0;34m\u001b[0m\u001b[0m\n\u001b[0m",
            "\u001b[0;31mValueError\u001b[0m: operands could not be broadcast together with shapes (2,3,5) (5,2,3) "
          ]
        }
      ],
      "source": [
        "### No, We cannot directly add a and b because their shapes are different and they are not compatible for broadcasting.\n",
        "c = a + b  # This will raise a ValueError"
      ]
    },
    {
      "cell_type": "markdown",
      "metadata": {
        "id": "SRWUyxCoERej"
      },
      "source": [
        "\n",
        "\n",
        "### 9. Transpose b so that it has the same structure of a (i.e. become a 2x3x5 array). Assign the transposed array to varialbe \"c\".\n"
      ]
    },
    {
      "cell_type": "code",
      "execution_count": 13,
      "metadata": {
        "colab": {
          "base_uri": "https://localhost:8080/"
        },
        "id": "IzlKq9s1ERej",
        "outputId": "576c45d9-204e-423b-b576-7e73ce6965fd"
      },
      "outputs": [
        {
          "output_type": "stream",
          "name": "stdout",
          "text": [
            "Shape of a: (2, 3, 5)\n",
            "Shape of c: (2, 3, 5)\n"
          ]
        }
      ],
      "source": [
        "# Transpose b to match a's shape (2,3,5)\n",
        "c = b.transpose(1, 2, 0)\n",
        "\n",
        "# Check if shapes now match\n",
        "print(f\"Shape of a: {a.shape}\")  # (2,3,5)\n",
        "print(f\"Shape of c: {c.shape}\")  # (2,3,5) - Now matches 'a'\n"
      ]
    },
    {
      "cell_type": "markdown",
      "metadata": {
        "id": "Xgxkygd3ERek"
      },
      "source": [
        "\n",
        "### 10. Try to add a and c. Now it should work. Assign the sum to variable \"d\". But why does it work now?\n"
      ]
    },
    {
      "cell_type": "code",
      "execution_count": 16,
      "metadata": {
        "id": "2X8adMQvERek"
      },
      "outputs": [],
      "source": [
        "# Since c was transposed to match a's shape, NumPy can now perform element-wise addition, resulting in d\n",
        "d = a + c"
      ]
    },
    {
      "cell_type": "markdown",
      "metadata": {
        "id": "uanm1LBUERek"
      },
      "source": [
        "\n",
        "### 11. Print a and d. Notice the difference and relation of the two array in terms of the values? Explain.\n"
      ]
    },
    {
      "cell_type": "code",
      "execution_count": 17,
      "metadata": {
        "colab": {
          "base_uri": "https://localhost:8080/"
        },
        "id": "YR1JYMuDERek",
        "outputId": "0e45037d-e022-4d55-f50b-18ea81c34539"
      },
      "outputs": [
        {
          "output_type": "stream",
          "name": "stdout",
          "text": [
            "Array a:\n",
            " [[[0.42474088 0.48502958 0.49921963 0.55732436 0.60934613]\n",
            "  [0.1333806  0.54001488 0.61218565 0.36259096 0.13171725]\n",
            "  [0.72785147 0.53346469 0.11601564 0.6322377  0.13626094]]\n",
            "\n",
            " [[0.71555449 0.77552663 0.3052462  0.04965102 0.60585723]\n",
            "  [0.76086678 0.81762341 0.23896837 0.56612    0.27217505]\n",
            "  [0.6342143  0.9356203  0.60974595 0.47277977 0.77902548]]]\n",
            "\n",
            "Array d:\n",
            " [[[1.42474088 1.48502958 1.49921963 1.55732436 1.60934613]\n",
            "  [1.1333806  1.54001488 1.61218565 1.36259096 1.13171725]\n",
            "  [1.72785147 1.53346469 1.11601564 1.6322377  1.13626094]]\n",
            "\n",
            " [[1.71555449 1.77552663 1.3052462  1.04965102 1.60585723]\n",
            "  [1.76086678 1.81762341 1.23896837 1.56612    1.27217505]\n",
            "  [1.6342143  1.9356203  1.60974595 1.47277977 1.77902548]]]\n"
          ]
        }
      ],
      "source": [
        "# d is the result of a + c, and since c is filled with ones, every element in d is simply a’s value + 1.\n",
        "# This means d will have the same structure as a, but all values are exactly 1 greater than those in a.\n",
        "# Print a and d to compare their values\n",
        "print(\"Array a:\\n\", a)\n",
        "print(\"\\nArray d:\\n\", d)"
      ]
    },
    {
      "cell_type": "markdown",
      "metadata": {
        "id": "QBIqWIRcERek"
      },
      "source": [
        "\n",
        "### 12. Multiply a and c. Assign the result to e.\n"
      ]
    },
    {
      "cell_type": "code",
      "execution_count": 18,
      "metadata": {
        "colab": {
          "base_uri": "https://localhost:8080/"
        },
        "id": "XmCjsBFDERek",
        "outputId": "0bc23671-3576-4c93-b898-928588b7e38b"
      },
      "outputs": [
        {
          "output_type": "stream",
          "name": "stdout",
          "text": [
            "[[[0.42474088 0.48502958 0.49921963 0.55732436 0.60934613]\n",
            "  [0.1333806  0.54001488 0.61218565 0.36259096 0.13171725]\n",
            "  [0.72785147 0.53346469 0.11601564 0.6322377  0.13626094]]\n",
            "\n",
            " [[0.71555449 0.77552663 0.3052462  0.04965102 0.60585723]\n",
            "  [0.76086678 0.81762341 0.23896837 0.56612    0.27217505]\n",
            "  [0.6342143  0.9356203  0.60974595 0.47277977 0.77902548]]]\n"
          ]
        }
      ],
      "source": [
        "# Multiply a and c element-wise\n",
        "e = a * c\n",
        "print(e)"
      ]
    },
    {
      "cell_type": "markdown",
      "metadata": {
        "id": "jStenQUCERek"
      },
      "source": [
        "\n",
        "\n",
        "### 13. Does e equal to a? Why or why not?\n"
      ]
    },
    {
      "cell_type": "code",
      "execution_count": null,
      "metadata": {
        "id": "Vz1LIV7rERek"
      },
      "outputs": [],
      "source": [
        "# Yes ,Since c is filled with ones, multiplying a by c doesn’t change a's values.\n",
        "# This means e will be exactly the same as a because multiplying by 1 has no effect."
      ]
    },
    {
      "cell_type": "markdown",
      "metadata": {
        "id": "1til5qTbERek"
      },
      "source": [
        "\n",
        "\n",
        "### 14. Identify the max, min, and mean values in d. Assign those values to variables \"d_max\", \"d_min\", and \"d_mean\"\n"
      ]
    },
    {
      "cell_type": "code",
      "execution_count": 20,
      "metadata": {
        "id": "EZpPpTD1ERek"
      },
      "outputs": [],
      "source": [
        "# Identify the max, min, and mean values in d\n",
        "d_max = d.max()   # Maximum value in d\n",
        "d_min = d.min()   # Minimum value in d\n",
        "d_mean = d.mean() # Mean (average) value in d"
      ]
    },
    {
      "cell_type": "markdown",
      "metadata": {
        "id": "wRBL1YATERek"
      },
      "source": [
        "\n",
        "### 15. Now we want to label the values in d. First create an empty array \"f\" with the same shape (i.e. 2x3x5) as d using `np.empty`.\n"
      ]
    },
    {
      "cell_type": "code",
      "execution_count": 21,
      "metadata": {
        "id": "uKtCWuKtERek"
      },
      "outputs": [],
      "source": [
        "# Create an empty array 'f' with the same shape as d (2, 3, 5)\n",
        "f = np.empty(d.shape)"
      ]
    },
    {
      "cell_type": "markdown",
      "metadata": {
        "id": "HUspGe9zERek"
      },
      "source": [
        "\n",
        "\n",
        "\n",
        "### 16. Populate the values in f. For each value in d, if it's larger than d_min but smaller than d_mean, assign 25 to the corresponding value in f.\n",
        "If a value in d is larger than d_mean but smaller than d_max, assign 75 to the corresponding value in f.\n",
        "If a value equals to d_mean, assign 50 to the corresponding value in f.\n",
        "Assign 0 to the corresponding value(s) in f for d_min in d.\n",
        "Assign 100 to the corresponding value(s) in f for d_max in d.\n",
        "In the end, f should have only the following values: 0, 25, 50, 75, and 100.\n",
        "Note: you don't have to use Numpy in this question.\n",
        "\n"
      ]
    },
    {
      "cell_type": "code",
      "execution_count": 23,
      "metadata": {
        "id": "AmYtXyerERel"
      },
      "outputs": [],
      "source": [
        "# Populate the values in f based on the conditions given\n",
        "for i in range(d.shape[0]):  # Loop through the first dimension (2)\n",
        "    for j in range(d.shape[1]):  # Loop through the second dimension (3)\n",
        "        for k in range(d.shape[2]):  # Loop through the third dimension (5)\n",
        "            value = d[i, j, k]  # Get the value from d\n",
        "            if value == d_min:\n",
        "                f[i, j, k] = 0  # If value equals d_min, assign 0\n",
        "            elif value == d_max:\n",
        "                f[i, j, k] = 100  # If value equals d_max, assign 100\n",
        "            elif value == d_mean:\n",
        "                f[i, j, k] = 50  # If value equals d_mean, assign 50\n",
        "            elif d_min < value < d_mean:\n",
        "                f[i, j, k] = 25  # If value is between d_min and d_mean, assign 25\n",
        "            elif d_mean < value < d_max:\n",
        "                f[i, j, k] = 75  # If value is between d_mean and d_max, assign 75"
      ]
    },
    {
      "cell_type": "markdown",
      "metadata": {
        "id": "DOJudZvpERel"
      },
      "source": [
        "\n",
        "\n",
        "\n",
        "\n",
        "### 17. Print d and f. Do you have your expected f?\n",
        "For instance, if your d is:\n",
        "array([[[1.85836099, 1.67064465, 1.62576044, 1.40243961, 1.88454931],\n",
        "        [1.75354326, 1.69403643, 1.36729252, 1.61415071, 1.12104981],\n",
        "        [1.72201435, 1.1862918 , 1.87078449, 1.7726778 , 1.88180042]],\n",
        "\n",
        "       [[1.44747908, 1.31673383, 1.02000951, 1.52218947, 1.97066381],\n",
        "        [1.79129243, 1.74983003, 1.96028037, 1.85166831, 1.65450881],\n",
        "        [1.18068344, 1.9587381 , 1.00656599, 1.93402165, 1.73514584]]])\n",
        "\n",
        "Your f should be:\n",
        "array([[[ 75.,  75.,  75.,  25.,  75.],\n",
        "        [ 75.,  75.,  25.,  25.,  25.],\n",
        "        [ 75.,  25.,  75.,  75.,  75.]],\n",
        "\n",
        "       [[ 25.,  25.,  25.,  25., 100.],\n",
        "        [ 75.,  75.,  75.,  75.,  75.],\n",
        "        [ 25.,  75.,   0.,  75.,  75.]]])\n",
        "\n"
      ]
    },
    {
      "cell_type": "code",
      "execution_count": 24,
      "metadata": {
        "colab": {
          "base_uri": "https://localhost:8080/"
        },
        "id": "WWtD9w0tERel",
        "outputId": "0ef9104b-00e0-4297-8e02-043fed59a430"
      },
      "outputs": [
        {
          "output_type": "stream",
          "name": "stdout",
          "text": [
            "Array d:\n",
            " [[[1.42474088 1.48502958 1.49921963 1.55732436 1.60934613]\n",
            "  [1.1333806  1.54001488 1.61218565 1.36259096 1.13171725]\n",
            "  [1.72785147 1.53346469 1.11601564 1.6322377  1.13626094]]\n",
            "\n",
            " [[1.71555449 1.77552663 1.3052462  1.04965102 1.60585723]\n",
            "  [1.76086678 1.81762341 1.23896837 1.56612    1.27217505]\n",
            "  [1.6342143  1.9356203  1.60974595 1.47277977 1.77902548]]]\n",
            "\n",
            "Array f (labeled values):\n",
            " [[[ 25.  25.  25.  75.  75.]\n",
            "  [ 25.  75.  75.  25.  25.]\n",
            "  [ 75.  75.  25.  75.  25.]]\n",
            "\n",
            " [[ 75.  75.  25.   0.  75.]\n",
            "  [ 75.  75.  25.  75.  25.]\n",
            "  [ 75. 100.  75.  25.  75.]]]\n"
          ]
        }
      ],
      "source": [
        "# The values in f should match the conditions that set based on d's values\n",
        "# f will contain:\n",
        "# 0 for d_min, 25 for values between d_min and d_mean,\n",
        "# 50 for d_mean, 75 for values between d_mean and d_max,\n",
        "# 100 for d_max.\n",
        "\n",
        "# Print d and f\n",
        "print(\"Array d:\\n\", d)\n",
        "print(\"\\nArray f (labeled values):\\n\", f)"
      ]
    },
    {
      "cell_type": "markdown",
      "metadata": {
        "id": "U1N3NPZnERel"
      },
      "source": [
        "### 18. Bonus question: instead of using numbers (i.e. 0, 25, 50, 75, and 100), how to use string values\n",
        "(\"A\", \"B\", \"C\", \"D\", and \"E\") to label the array elements? You are expecting the result to be:\n",
        "array([[[ 'D',  'D',  'D',  'B',  'D'],\n",
        "        [ 'D',  'D',  'B',  'B',  'B'],\n",
        "        [ 'D',  'B',  'D',  'D',  'D']],\n",
        "\n",
        "       [[ 'B',  'B',  'B',  'B',  'E'],\n",
        "        [ 'D',  'D',  'D',  'D',  'D'],\n",
        "        [ 'B',  'D',   'A',  'D', 'D']]])\n",
        "Again, you don't need Numpy in this question."
      ]
    },
    {
      "cell_type": "code",
      "execution_count": 29,
      "metadata": {
        "colab": {
          "base_uri": "https://localhost:8080/"
        },
        "id": "dyoK7QX_ERel",
        "outputId": "b55b2b35-9043-4236-b75e-bb45ade2958d"
      },
      "outputs": [
        {
          "output_type": "stream",
          "name": "stdout",
          "text": [
            "\n",
            "Array f (labeled with strings):\n",
            " [[['B', 'B', 'B', 'D', 'D'], ['B', 'D', 'D', 'B', 'B'], ['D', 'D', 'B', 'D', 'B']], [['D', 'D', 'B', 'A', 'D'], ['D', 'D', 'B', 'D', 'B'], ['D', 'E', 'D', 'B', 'D']]]\n"
          ]
        }
      ],
      "source": [
        "# Create an empty 2x3x5 list for 'f' with string type\n",
        "f = [[[None for _ in range(d.shape[2])] for _ in range(d.shape[1])] for _ in range(d.shape[0])]\n",
        "\n",
        "# Populate 'f' with string labels instead of numbers\n",
        "for i in range(len(d)):  # Loop through the first dimension\n",
        "    for j in range(len(d[i])):  # Loop through the second dimension\n",
        "        for k in range(len(d[i][j])):  # Loop through the third dimension\n",
        "            value = d[i][j][k]\n",
        "            if value == d_min:\n",
        "                f[i][j][k] = 'A'  # d_min gets 'A'\n",
        "            elif value == d_max:\n",
        "                f[i][j][k] = 'E'  # d_max gets 'E'\n",
        "            elif value == d_mean:\n",
        "                f[i][j][k] = 'C'  # d_mean gets 'C'\n",
        "            elif d_min < value < d_mean:\n",
        "                f[i][j][k] = 'B'  # Between d_min and d_mean gets 'B'\n",
        "            elif d_mean < value < d_max:\n",
        "                f[i][j][k] = 'D'  # Between d_mean and d_max gets 'D'\n",
        "\n",
        "# Print d and f to verify the result\n",
        "print(\"\\nArray f (labeled with strings):\\n\", f)"
      ]
    }
  ],
  "metadata": {
    "kernelspec": {
      "display_name": "Python 3",
      "language": "python",
      "name": "python3"
    },
    "language_info": {
      "codemirror_mode": {
        "name": "ipython",
        "version": 3
      },
      "file_extension": ".py",
      "mimetype": "text/x-python",
      "name": "python",
      "nbconvert_exporter": "python",
      "pygments_lexer": "ipython3",
      "version": "3.8.0"
    },
    "colab": {
      "provenance": []
    }
  },
  "nbformat": 4,
  "nbformat_minor": 0
}