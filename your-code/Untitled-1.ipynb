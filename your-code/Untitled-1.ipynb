{
 "cells": [
  {
   "cell_type": "code",
   "execution_count": 20,
   "metadata": {},
   "outputs": [],
   "source": [
    "import numpy as np\n"
   ]
  },
  {
   "cell_type": "markdown",
   "metadata": {},
   "source": [
    "#2. Print the NUMPY version and the configuration."
   ]
  },
  {
   "cell_type": "code",
   "execution_count": 21,
   "metadata": {},
   "outputs": [
    {
     "name": "stdout",
     "output_type": "stream",
     "text": [
      "Build Dependencies:\n",
      "  blas:\n",
      "    detection method: pkgconfig\n",
      "    found: true\n",
      "    include directory: C:/Users/fmrol/anaconda3/Library/include\n",
      "    lib directory: C:/Users/fmrol/anaconda3/Library/lib\n",
      "    name: mkl-sdl\n",
      "    openblas configuration: unknown\n",
      "    pc file directory: C:\\b\\abs_c1ywpu18ar\\croot\\numpy_and_numpy_base_1708638681471\\_h_env\\Library\\lib\\pkgconfig\n",
      "    version: '2023.1'\n",
      "  lapack:\n",
      "    detection method: internal\n",
      "    found: true\n",
      "    include directory: unknown\n",
      "    lib directory: unknown\n",
      "    name: dep1583119523984\n",
      "    openblas configuration: unknown\n",
      "    pc file directory: unknown\n",
      "    version: 1.26.4\n",
      "Compilers:\n",
      "  c:\n",
      "    commands: cl.exe\n",
      "    linker: link\n",
      "    name: msvc\n",
      "    version: 19.29.30154\n",
      "  c++:\n",
      "    commands: cl.exe\n",
      "    linker: link\n",
      "    name: msvc\n",
      "    version: 19.29.30154\n",
      "  cython:\n",
      "    commands: cython\n",
      "    linker: cython\n",
      "    name: cython\n",
      "    version: 3.0.8\n",
      "Machine Information:\n",
      "  build:\n",
      "    cpu: x86_64\n",
      "    endian: little\n",
      "    family: x86_64\n",
      "    system: windows\n",
      "  host:\n",
      "    cpu: x86_64\n",
      "    endian: little\n",
      "    family: x86_64\n",
      "    system: windows\n",
      "Python Information:\n",
      "  path: C:\\b\\abs_c1ywpu18ar\\croot\\numpy_and_numpy_base_1708638681471\\_h_env\\python.exe\n",
      "  version: '3.12'\n",
      "SIMD Extensions:\n",
      "  baseline:\n",
      "  - SSE\n",
      "  - SSE2\n",
      "  - SSE3\n",
      "  found:\n",
      "  - SSSE3\n",
      "  - SSE41\n",
      "  - POPCNT\n",
      "  - SSE42\n",
      "  - AVX\n",
      "  - F16C\n",
      "  - FMA3\n",
      "  - AVX2\n",
      "  not found:\n",
      "  - AVX512F\n",
      "  - AVX512CD\n",
      "  - AVX512_SKX\n",
      "  - AVX512_CLX\n",
      "  - AVX512_CNL\n",
      "  - AVX512_ICL\n",
      "\n"
     ]
    }
   ],
   "source": [
    "np.show_config()\n"
   ]
  },
  {
   "cell_type": "code",
   "execution_count": 22,
   "metadata": {},
   "outputs": [
    {
     "name": "stdout",
     "output_type": "stream",
     "text": [
      "[[[0.53967888 0.74429601 0.37419904 0.76533769 0.00834976]\n",
      "  [0.85540665 0.28509141 0.68049377 0.11676625 0.28732249]\n",
      "  [0.23351077 0.95956195 0.8239157  0.27629942 0.56566266]]\n",
      "\n",
      " [[0.58173632 0.77888439 0.61294269 0.32342604 0.857298  ]\n",
      "  [0.30220625 0.98701708 0.41668816 0.58120163 0.04168982]\n",
      "  [0.3657115  0.54287139 0.98487898 0.57812147 0.2333867 ]]]\n"
     ]
    }
   ],
   "source": [
    "a = np.random.random((2,3,5))\n",
    "print(a)"
   ]
  },
  {
   "cell_type": "code",
   "execution_count": 23,
   "metadata": {},
   "outputs": [
    {
     "name": "stdout",
     "output_type": "stream",
     "text": [
      "[[[1. 1. 1.]\n",
      "  [1. 1. 1.]]\n",
      "\n",
      " [[1. 1. 1.]\n",
      "  [1. 1. 1.]]\n",
      "\n",
      " [[1. 1. 1.]\n",
      "  [1. 1. 1.]]\n",
      "\n",
      " [[1. 1. 1.]\n",
      "  [1. 1. 1.]]\n",
      "\n",
      " [[1. 1. 1.]\n",
      "  [1. 1. 1.]]]\n"
     ]
    }
   ],
   "source": [
    "b = np.ones((5,2,3))\n",
    "print(b)"
   ]
  },
  {
   "cell_type": "code",
   "execution_count": 24,
   "metadata": {},
   "outputs": [
    {
     "name": "stdout",
     "output_type": "stream",
     "text": [
      "yes, they have the same size\n"
     ]
    }
   ],
   "source": [
    "if a.size == b.size:\n",
    "    print(\"yes, they have the same size\")\n",
    "else:\n",
    "    print(\"No they don't have the same size\")\n"
   ]
  },
  {
   "cell_type": "code",
   "execution_count": 25,
   "metadata": {},
   "outputs": [
    {
     "data": {
      "text/plain": [
       "False"
      ]
     },
     "execution_count": 25,
     "metadata": {},
     "output_type": "execute_result"
    }
   ],
   "source": [
    "a is b"
   ]
  },
  {
   "cell_type": "code",
   "execution_count": 26,
   "metadata": {},
   "outputs": [
    {
     "name": "stdout",
     "output_type": "stream",
     "text": [
      "Arrays have different shapes and cannot be added.\n"
     ]
    }
   ],
   "source": [
    "if a.shape == b.shape:\n",
    "    result = a + b\n",
    "    print(\"Addition Result:\")\n",
    "    print(result)\n",
    "else:\n",
    "    print(\"Arrays have different shapes and cannot be added.\")"
   ]
  },
  {
   "cell_type": "code",
   "execution_count": 27,
   "metadata": {},
   "outputs": [
    {
     "name": "stdout",
     "output_type": "stream",
     "text": [
      "Array c (transposed b):\n",
      "[[[1. 1. 1. 1. 1.]\n",
      "  [1. 1. 1. 1. 1.]\n",
      "  [1. 1. 1. 1. 1.]]\n",
      "\n",
      " [[1. 1. 1. 1. 1.]\n",
      "  [1. 1. 1. 1. 1.]\n",
      "  [1. 1. 1. 1. 1.]]]\n"
     ]
    }
   ],
   "source": [
    "c = np.transpose(b, (1, 2, 0))\n",
    "print(\"Array c (transposed b):\")\n",
    "print(c)"
   ]
  },
  {
   "cell_type": "code",
   "execution_count": 28,
   "metadata": {},
   "outputs": [
    {
     "name": "stdout",
     "output_type": "stream",
     "text": [
      "Addition of a and c:\n",
      "[[[1.53967888 1.74429601 1.37419904 1.76533769 1.00834976]\n",
      "  [1.85540665 1.28509141 1.68049377 1.11676625 1.28732249]\n",
      "  [1.23351077 1.95956195 1.8239157  1.27629942 1.56566266]]\n",
      "\n",
      " [[1.58173632 1.77888439 1.61294269 1.32342604 1.857298  ]\n",
      "  [1.30220625 1.98701708 1.41668816 1.58120163 1.04168982]\n",
      "  [1.3657115  1.54287139 1.98487898 1.57812147 1.2333867 ]]]\n",
      "The addition works because 'a' and 'c' now have the same shape.\n"
     ]
    }
   ],
   "source": [
    "d = a + c\n",
    "print(\"Addition of a and c:\")\n",
    "print(d)\n",
    "print(\"The addition works because 'a' and 'c' now have the same shape.\")"
   ]
  },
  {
   "cell_type": "code",
   "execution_count": 30,
   "metadata": {},
   "outputs": [
    {
     "name": "stdout",
     "output_type": "stream",
     "text": [
      "Multiplication of a and c results in 'e':\n",
      "[[[0.53967888 0.74429601 0.37419904 0.76533769 0.00834976]\n",
      "  [0.85540665 0.28509141 0.68049377 0.11676625 0.28732249]\n",
      "  [0.23351077 0.95956195 0.8239157  0.27629942 0.56566266]]\n",
      "\n",
      " [[0.58173632 0.77888439 0.61294269 0.32342604 0.857298  ]\n",
      "  [0.30220625 0.98701708 0.41668816 0.58120163 0.04168982]\n",
      "  [0.3657115  0.54287139 0.98487898 0.57812147 0.2333867 ]]]\n"
     ]
    }
   ],
   "source": [
    "e = a*c\n",
    "print(\"Multiplication of a and c results in 'e':\")\n",
    "print(e)\n"
   ]
  },
  {
   "cell_type": "code",
   "execution_count": 31,
   "metadata": {},
   "outputs": [
    {
     "name": "stdout",
     "output_type": "stream",
     "text": [
      "Yes, e equals a.\n",
      "Explanation: 'e' equals 'a' because multiplying any number by 1 results in the same number. Since 'c' is an array of ones, the multiplication doesn't change the values of 'a'.\n"
     ]
    }
   ],
   "source": [
    "if np.array_equal(e, a):\n",
    "    print(\"Yes, e equals a.\")\n",
    "else:\n",
    "    print(\"No, e does not equal a.\")\n",
    "\n",
    "print(\"Explanation: 'e' equals 'a' because multiplying any number by 1 results in the same number. Since 'c' is an array of ones, the multiplication doesn't change the values of 'a'.\")\n"
   ]
  },
  {
   "cell_type": "code",
   "execution_count": 32,
   "metadata": {},
   "outputs": [
    {
     "name": "stdout",
     "output_type": "stream",
     "text": [
      "d_max: 1.9870170786877568\n",
      "d_min: 1.0083497626823468\n",
      "d_mean: 1.523465095845555\n"
     ]
    }
   ],
   "source": [
    "d_max = np.max(d)\n",
    "d_min = np.min(d)\n",
    "d_mean = np.mean(d)\n",
    "\n",
    "print(\"d_max:\", d_max)\n",
    "print(\"d_min:\", d_min)\n",
    "print(\"d_mean:\", d_mean)"
   ]
  },
  {
   "cell_type": "code",
   "execution_count": 33,
   "metadata": {},
   "outputs": [
    {
     "name": "stdout",
     "output_type": "stream",
     "text": [
      "Array f (empty):\n",
      "[[[0.53967888 0.74429601 0.37419904 0.76533769 0.00834976]\n",
      "  [0.85540665 0.28509141 0.68049377 0.11676625 0.28732249]\n",
      "  [0.23351077 0.95956195 0.8239157  0.27629942 0.56566266]]\n",
      "\n",
      " [[0.58173632 0.77888439 0.61294269 0.32342604 0.857298  ]\n",
      "  [0.30220625 0.98701708 0.41668816 0.58120163 0.04168982]\n",
      "  [0.3657115  0.54287139 0.98487898 0.57812147 0.2333867 ]]]\n"
     ]
    }
   ],
   "source": [
    "f = np.empty(d.shape)\n",
    "print(\"Array f (empty):\")\n",
    "print(f)"
   ]
  },
  {
   "cell_type": "code",
   "execution_count": 34,
   "metadata": {},
   "outputs": [
    {
     "data": {
      "text/plain": [
       "\"\\n#16. Populate the values in f. For each value in d, if it's larger than d_min but smaller than d_mean, assign 25 to the corresponding value in f.\\nIf a value in d is larger than d_mean but smaller than d_max, assign 75 to the corresponding value in f.\\nIf a value equals to d_mean, assign 50 to the corresponding value in f.\\nAssign 0 to the corresponding value(s) in f for d_min in d.\\nAssign 100 to the corresponding value(s) in f for d_max in d.\\nIn the end, f should have only the following values: 0, 25, 50, 75, and 100.\\nNote: you don't have to use Numpy in this question.\\n\""
      ]
     },
     "execution_count": 34,
     "metadata": {},
     "output_type": "execute_result"
    }
   ],
   "source": [
    "\"\"\"\n",
    "#16. Populate the values in f. For each value in d, if it's larger than d_min but smaller than d_mean, assign 25 to the corresponding value in f.\n",
    "If a value in d is larger than d_mean but smaller than d_max, assign 75 to the corresponding value in f.\n",
    "If a value equals to d_mean, assign 50 to the corresponding value in f.\n",
    "Assign 0 to the corresponding value(s) in f for d_min in d.\n",
    "Assign 100 to the corresponding value(s) in f for d_max in d.\n",
    "In the end, f should have only the following values: 0, 25, 50, 75, and 100.\n",
    "Note: you don't have to use Numpy in this question.\n",
    "\"\"\"\n"
   ]
  },
  {
   "cell_type": "code",
   "execution_count": 35,
   "metadata": {},
   "outputs": [
    {
     "name": "stdout",
     "output_type": "stream",
     "text": [
      "Array f after populating values:\n",
      "[[[ 75.  75.  25.  75.   0.]\n",
      "  [ 75.  25.  75.  25.  25.]\n",
      "  [ 25.  75.  75.  25.  75.]]\n",
      "\n",
      " [[ 75.  75.  75.  25.  75.]\n",
      "  [ 25. 100.  25.  75.  25.]\n",
      "  [ 25.  75.  75.  75.  25.]]]\n"
     ]
    }
   ],
   "source": [
    "for i in range(d.shape[0]):  # Loop over the first dimension\n",
    "    for j in range(d.shape[1]):  # Loop over the second dimension\n",
    "        for k in range(d.shape[2]):  # Loop over the third dimension\n",
    "            # Apply conditions\n",
    "            if d[i, j, k] == d_min:\n",
    "                f[i, j, k] = 0\n",
    "            elif d[i, j, k] == d_max:\n",
    "                f[i, j, k] = 100\n",
    "            elif d[i, j, k] == d_mean:\n",
    "                f[i, j, k] = 50\n",
    "            elif d_min < d[i, j, k] < d_mean:\n",
    "                f[i, j, k] = 25\n",
    "            elif d_mean < d[i, j, k] < d_max:\n",
    "                f[i, j, k] = 75\n",
    "\n",
    "print(\"Array f after populating values:\")\n",
    "print(f)"
   ]
  },
  {
   "cell_type": "code",
   "execution_count": 36,
   "metadata": {},
   "outputs": [
    {
     "name": "stdout",
     "output_type": "stream",
     "text": [
      "[[[1.53967888 1.74429601 1.37419904 1.76533769 1.00834976]\n",
      "  [1.85540665 1.28509141 1.68049377 1.11676625 1.28732249]\n",
      "  [1.23351077 1.95956195 1.8239157  1.27629942 1.56566266]]\n",
      "\n",
      " [[1.58173632 1.77888439 1.61294269 1.32342604 1.857298  ]\n",
      "  [1.30220625 1.98701708 1.41668816 1.58120163 1.04168982]\n",
      "  [1.3657115  1.54287139 1.98487898 1.57812147 1.2333867 ]]]\n",
      "[[[ 75.  75.  25.  75.   0.]\n",
      "  [ 75.  25.  75.  25.  25.]\n",
      "  [ 25.  75.  75.  25.  75.]]\n",
      "\n",
      " [[ 75.  75.  75.  25.  75.]\n",
      "  [ 25. 100.  25.  75.  25.]\n",
      "  [ 25.  75.  75.  75.  25.]]]\n"
     ]
    }
   ],
   "source": [
    "print(d)\n",
    "print(f)"
   ]
  }
 ],
 "metadata": {
  "kernelspec": {
   "display_name": "base",
   "language": "python",
   "name": "python3"
  },
  "language_info": {
   "codemirror_mode": {
    "name": "ipython",
    "version": 3
   },
   "file_extension": ".py",
   "mimetype": "text/x-python",
   "name": "python",
   "nbconvert_exporter": "python",
   "pygments_lexer": "ipython3",
   "version": "3.12.4"
  }
 },
 "nbformat": 4,
 "nbformat_minor": 2
}
