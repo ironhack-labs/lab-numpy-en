{
 "cells": [
  {
   "cell_type": "markdown",
   "metadata": {},
   "source": [
    "# Lab | Numpy Deep Dive"
   ]
  },
  {
   "cell_type": "markdown",
   "metadata": {},
   "source": [
    "### 1. Import the NUMPY package under the name np.\n"
   ]
  },
  {
   "cell_type": "code",
   "execution_count": 187,
   "metadata": {},
   "outputs": [],
   "source": [
    "import numpy as np"
   ]
  },
  {
   "cell_type": "markdown",
   "metadata": {},
   "source": [
    "\n",
    "\n",
    "### 2. Print the NUMPY version and the configuration.\n"
   ]
  },
  {
   "cell_type": "code",
   "execution_count": 190,
   "metadata": {},
   "outputs": [
    {
     "name": "stdout",
     "output_type": "stream",
     "text": [
      "NumPy Version: 1.26.4\n",
      "Build Dependencies:\n",
      "  blas:\n",
      "    detection method: pkgconfig\n",
      "    found: true\n",
      "    include directory: C:/Users/Lano/anaconda3/Library/include\n",
      "    lib directory: C:/Users/Lano/anaconda3/Library/lib\n",
      "    name: mkl-sdl\n",
      "    openblas configuration: unknown\n",
      "    pc file directory: C:\\b\\abs_c1ywpu18ar\\croot\\numpy_and_numpy_base_1708638681471\\_h_env\\Library\\lib\\pkgconfig\n",
      "    version: '2023.1'\n",
      "  lapack:\n",
      "    detection method: internal\n",
      "    found: true\n",
      "    include directory: unknown\n",
      "    lib directory: unknown\n",
      "    name: dep1583119523984\n",
      "    openblas configuration: unknown\n",
      "    pc file directory: unknown\n",
      "    version: 1.26.4\n",
      "Compilers:\n",
      "  c:\n",
      "    commands: cl.exe\n",
      "    linker: link\n",
      "    name: msvc\n",
      "    version: 19.29.30154\n",
      "  c++:\n",
      "    commands: cl.exe\n",
      "    linker: link\n",
      "    name: msvc\n",
      "    version: 19.29.30154\n",
      "  cython:\n",
      "    commands: cython\n",
      "    linker: cython\n",
      "    name: cython\n",
      "    version: 3.0.8\n",
      "Machine Information:\n",
      "  build:\n",
      "    cpu: x86_64\n",
      "    endian: little\n",
      "    family: x86_64\n",
      "    system: windows\n",
      "  host:\n",
      "    cpu: x86_64\n",
      "    endian: little\n",
      "    family: x86_64\n",
      "    system: windows\n",
      "Python Information:\n",
      "  path: C:\\b\\abs_c1ywpu18ar\\croot\\numpy_and_numpy_base_1708638681471\\_h_env\\python.exe\n",
      "  version: '3.12'\n",
      "SIMD Extensions:\n",
      "  baseline:\n",
      "  - SSE\n",
      "  - SSE2\n",
      "  - SSE3\n",
      "  found:\n",
      "  - SSSE3\n",
      "  - SSE41\n",
      "  - POPCNT\n",
      "  - SSE42\n",
      "  - AVX\n",
      "  - F16C\n",
      "  - FMA3\n",
      "  - AVX2\n",
      "  not found:\n",
      "  - AVX512F\n",
      "  - AVX512CD\n",
      "  - AVX512_SKX\n",
      "  - AVX512_CLX\n",
      "  - AVX512_CNL\n",
      "  - AVX512_ICL\n",
      "\n"
     ]
    }
   ],
   "source": [
    "print(\"NumPy Version:\", np.__version__)\n",
    "np.show_config()"
   ]
  },
  {
   "cell_type": "markdown",
   "metadata": {},
   "source": [
    "### 3. Generate a 2x3x5 3-dimensional array with random values. Assign the array to variable \"a\"\n",
    "Challenge: there are at least three easy ways that use numpy to generate random arrays. How many ways can you find?\n"
   ]
  },
  {
   "cell_type": "code",
   "execution_count": 193,
   "metadata": {},
   "outputs": [
    {
     "name": "stdout",
     "output_type": "stream",
     "text": [
      "[[[96 90 70 79 46]\n",
      "  [59 47 96 21 47]\n",
      "  [ 2 94 27 77 83]]\n",
      "\n",
      " [[36 82 60  6 24]\n",
      "  [72 38  3 34  6]\n",
      "  [43 73 38 68 38]]]\n"
     ]
    }
   ],
   "source": [
    "# 1 way to use numpy randome array\n",
    "a = np.random.rand(2, 3, 5)\n",
    "# 2 way to use numpy randome array\n",
    "a = np.random.randn(2, 3, 5)\n",
    "# 3 way to use numpy randome array\n",
    "a = np.random.randint(0, 100, (2, 3, 5))\n",
    "print(a)"
   ]
  },
  {
   "cell_type": "markdown",
   "metadata": {},
   "source": [
    "\n",
    "### 4. Print a.\n"
   ]
  },
  {
   "cell_type": "code",
   "execution_count": 196,
   "metadata": {},
   "outputs": [
    {
     "name": "stdout",
     "output_type": "stream",
     "text": [
      "[[[96 90 70 79 46]\n",
      "  [59 47 96 21 47]\n",
      "  [ 2 94 27 77 83]]\n",
      "\n",
      " [[36 82 60  6 24]\n",
      "  [72 38  3 34  6]\n",
      "  [43 73 38 68 38]]]\n"
     ]
    }
   ],
   "source": [
    "print(a)"
   ]
  },
  {
   "cell_type": "markdown",
   "metadata": {},
   "source": [
    "### 5. Create a 5x2x3 3-dimensional array with all values equaling 1.\n",
    "### Assign the array to variable \"b\"\n"
   ]
  },
  {
   "cell_type": "code",
   "execution_count": 199,
   "metadata": {},
   "outputs": [],
   "source": [
    "b = np.ones((5, 2, 3), dtype=int)"
   ]
  },
  {
   "cell_type": "markdown",
   "metadata": {},
   "source": [
    "\n",
    "### 6. Print b.\n"
   ]
  },
  {
   "cell_type": "code",
   "execution_count": 202,
   "metadata": {},
   "outputs": [
    {
     "name": "stdout",
     "output_type": "stream",
     "text": [
      "[[[1 1 1]\n",
      "  [1 1 1]]\n",
      "\n",
      " [[1 1 1]\n",
      "  [1 1 1]]\n",
      "\n",
      " [[1 1 1]\n",
      "  [1 1 1]]\n",
      "\n",
      " [[1 1 1]\n",
      "  [1 1 1]]\n",
      "\n",
      " [[1 1 1]\n",
      "  [1 1 1]]]\n"
     ]
    }
   ],
   "source": [
    "print(b)"
   ]
  },
  {
   "cell_type": "markdown",
   "metadata": {},
   "source": [
    "\n",
    "### 7. Do a and b have the same size? How do you prove that in Python code?\n"
   ]
  },
  {
   "cell_type": "code",
   "execution_count": 205,
   "metadata": {},
   "outputs": [
    {
     "name": "stdout",
     "output_type": "stream",
     "text": [
      "Size of a: 30\n",
      "Size of b: 30\n",
      "Do a and b have the same size? True\n"
     ]
    }
   ],
   "source": [
    "print(\"Size of a:\", a.size)\n",
    "print(\"Size of b:\", b.size)\n",
    "\n",
    "same_size = a.size == b.size\n",
    "print(\"Do a and b have the same size?\", same_size)"
   ]
  },
  {
   "cell_type": "markdown",
   "metadata": {},
   "source": [
    "\n",
    "### 8. Are you able to add a and b? Why or why not?\n"
   ]
  },
  {
   "cell_type": "code",
   "execution_count": 208,
   "metadata": {},
   "outputs": [
    {
     "name": "stdout",
     "output_type": "stream",
     "text": [
      "Error: operands could not be broadcast together with shapes (2,3,5) (5,2,3) \n"
     ]
    }
   ],
   "source": [
    "#No, we cannot add a and b directly because of the difference in shape between them.\n",
    "# Try to add a and b\n",
    "try:\n",
    "    result = a + b\n",
    "    print(\"Addition successful!\")\n",
    "except ValueError as e:\n",
    "    print(\"Error:\", e)\n"
   ]
  },
  {
   "cell_type": "markdown",
   "metadata": {},
   "source": [
    "\n",
    "\n",
    "### 9. Transpose b so that it has the same structure of a (i.e. become a 2x3x5 array). Assign the transposed array to varialbe \"c\".\n"
   ]
  },
  {
   "cell_type": "code",
   "execution_count": 211,
   "metadata": {},
   "outputs": [
    {
     "name": "stdout",
     "output_type": "stream",
     "text": [
      "Shape of b: (5, 2, 3)\n",
      "Shape of c: (2, 3, 5)\n"
     ]
    }
   ],
   "source": [
    "# Change the order of the axes to (2,3,5)\n",
    "c = np.transpose(b, (1, 2, 0))  \n",
    "# print shape to confirm\n",
    "print(\"Shape of b:\", b.shape)  # (5,2,3)\n",
    "print(\"Shape of c:\", c.shape)  # (2,3,5) \n",
    "\n"
   ]
  },
  {
   "cell_type": "markdown",
   "metadata": {},
   "source": [
    "\n",
    "### 10. Try to add a and c. Now it should work. Assign the sum to variable \"d\". But why does it work now?\n"
   ]
  },
  {
   "cell_type": "code",
   "execution_count": 214,
   "metadata": {},
   "outputs": [
    {
     "name": "stdout",
     "output_type": "stream",
     "text": [
      "[[[97 91 71 80 47]\n",
      "  [60 48 97 22 48]\n",
      "  [ 3 95 28 78 84]]\n",
      "\n",
      " [[37 83 61  7 25]\n",
      "  [73 39  4 35  7]\n",
      "  [44 74 39 69 39]]]\n"
     ]
    }
   ],
   "source": [
    "#After converting b to c using np.transpose(): the shape becomes (2, 3, 5), which is the same as a\n",
    "d = a + c  \n",
    "print(d)\n"
   ]
  },
  {
   "cell_type": "markdown",
   "metadata": {},
   "source": [
    "\n",
    "### 11. Print a and d. Notice the difference and relation of the two array in terms of the values? Explain.\n"
   ]
  },
  {
   "cell_type": "code",
   "execution_count": 217,
   "metadata": {
    "scrolled": true
   },
   "outputs": [
    {
     "name": "stdout",
     "output_type": "stream",
     "text": [
      "Array a:\n",
      " [[[96 90 70 79 46]\n",
      "  [59 47 96 21 47]\n",
      "  [ 2 94 27 77 83]]\n",
      "\n",
      " [[36 82 60  6 24]\n",
      "  [72 38  3 34  6]\n",
      "  [43 73 38 68 38]]]\n",
      "\n",
      "Array d:\n",
      " [[[97 91 71 80 47]\n",
      "  [60 48 97 22 48]\n",
      "  [ 3 95 28 78 84]]\n",
      "\n",
      " [[37 83 61  7 25]\n",
      "  [73 39  4 35  7]\n",
      "  [44 74 39 69 39]]]\n"
     ]
    }
   ],
   "source": [
    "\"\"\"The difference between a and d:\n",
    "a contains random values between 0 and 100, d contains the same random values as a but 1 has been added to each value.\n",
    "The relationship between a and d:\n",
    "d is a modified version of a where 1 has been added to every element in a.\n",
    "If an element in a is x, then the same element in d will be x + 1.\n",
    "\n",
    "\"\"\"\n",
    "print(\"Array a:\\n\",a)\n",
    "print(\"\\nArray d:\\n\",d)"
   ]
  },
  {
   "cell_type": "markdown",
   "metadata": {},
   "source": [
    "\n",
    "### 12. Multiply a and c. Assign the result to e.\n"
   ]
  },
  {
   "cell_type": "code",
   "execution_count": 220,
   "metadata": {},
   "outputs": [
    {
     "name": "stdout",
     "output_type": "stream",
     "text": [
      "Array a:\n",
      " [[[96 90 70 79 46]\n",
      "  [59 47 96 21 47]\n",
      "  [ 2 94 27 77 83]]\n",
      "\n",
      " [[36 82 60  6 24]\n",
      "  [72 38  3 34  6]\n",
      "  [43 73 38 68 38]]]\n"
     ]
    }
   ],
   "source": [
    "e = a * c \n",
    "print(\"Array a:\\n\",e)"
   ]
  },
  {
   "cell_type": "markdown",
   "metadata": {},
   "source": [
    "\n",
    "\n",
    "### 13. Does e equal to a? Why or why not?\n"
   ]
  },
  {
   "cell_type": "code",
   "execution_count": 223,
   "metadata": {},
   "outputs": [
    {
     "name": "stdout",
     "output_type": "stream",
     "text": [
      "Are e and a equal? True\n"
     ]
    }
   ],
   "source": [
    "#Yes, matrix e is equal to matrix a, because we multiplied matrix a by matrix c, which has values equal to 1 in all its elements.\n",
    "are_ab__equal = np.array_equal(a, e)\n",
    "print(\"Are e and a equal?\", are_ab__equal)\n"
   ]
  },
  {
   "cell_type": "markdown",
   "metadata": {},
   "source": [
    "\n",
    "\n",
    "### 14. Identify the max, min, and mean values in d. Assign those values to variables \"d_max\", \"d_min\", and \"d_mean\"\n"
   ]
  },
  {
   "cell_type": "code",
   "execution_count": 226,
   "metadata": {},
   "outputs": [
    {
     "name": "stdout",
     "output_type": "stream",
     "text": [
      "Max value in d: 97\n",
      "Min value in d: 3\n",
      "Mean value in d: 52.833333333333336\n"
     ]
    }
   ],
   "source": [
    "d_max = np.max(d)\n",
    "d_min = np.min(d)\n",
    "d_mean = np.mean(d)\n",
    "\n",
    "print(\"Max value in d:\", d_max)\n",
    "print(\"Min value in d:\", d_min)\n",
    "print(\"Mean value in d:\", d_mean)\n"
   ]
  },
  {
   "cell_type": "markdown",
   "metadata": {},
   "source": [
    "\n",
    "### 15. Now we want to label the values in d. First create an empty array \"f\" with the same shape (i.e. 2x3x5) as d using `np.empty`.\n"
   ]
  },
  {
   "cell_type": "code",
   "execution_count": 229,
   "metadata": {},
   "outputs": [
    {
     "name": "stdout",
     "output_type": "stream",
     "text": [
      "Shape of f: (2, 3, 5)\n"
     ]
    }
   ],
   "source": [
    "f = np.empty(d.shape)\n",
    "\n",
    "print(\"Shape of f:\", f.shape)\n"
   ]
  },
  {
   "cell_type": "markdown",
   "metadata": {},
   "source": [
    "\n",
    "\n",
    "\n",
    "### 16. Populate the values in f. For each value in d, if it's larger than d_min but smaller than d_mean, assign 25 to the corresponding value in f.\n",
    "If a value in d is larger than d_mean but smaller than d_max, assign 75 to the corresponding value in f.\n",
    "If a value equals to d_mean, assign 50 to the corresponding value in f.\n",
    "Assign 0 to the corresponding value(s) in f for d_min in d.\n",
    "Assign 100 to the corresponding value(s) in f for d_max in d.\n",
    "In the end, f should have only the following values: 0, 25, 50, 75, and 100.\n",
    "Note: you don't have to use Numpy in this question.\n",
    "\n"
   ]
  },
  {
   "cell_type": "code",
   "execution_count": 232,
   "metadata": {},
   "outputs": [
    {
     "name": "stdout",
     "output_type": "stream",
     "text": [
      "Array f:\n",
      " [[[100.  75.  75.  75.  25.]\n",
      "  [ 75.  25. 100.  25.  25.]\n",
      "  [  0.  75.  25.  75.  75.]]\n",
      "\n",
      " [[ 25.  75.  75.  25.  25.]\n",
      "  [ 75.  25.  25.  25.  25.]\n",
      "  [ 25.  75.  25.  75.  25.]]]\n"
     ]
    }
   ],
   "source": [
    "for i in range(len(d)):  \n",
    "    for j in range(len(d[i])): \n",
    "        for k in range(len(d[i][j])):  \n",
    "            if d[i, j, k] == d_min:\n",
    "                f[i, j, k] = 0\n",
    "            elif d[i, j, k] == d_max:\n",
    "                f[i, j, k] = 100\n",
    "            elif d[i, j, k] == d_mean:\n",
    "                f[i, j, k] = 50\n",
    "            elif d_min < d[i, j, k] < d_mean:\n",
    "                f[i, j, k] = 25\n",
    "            elif d_mean < d[i, j, k] < d_max:\n",
    "                f[i, j, k] = 75\n",
    "                \n",
    "print(\"Array f:\\n\",f)"
   ]
  },
  {
   "cell_type": "markdown",
   "metadata": {},
   "source": [
    "\n",
    "\n",
    "\n",
    "\n",
    "### 17. Print d and f. Do you have your expected f?\n",
    "For instance, if your d is:\n",
    "array([[[1.85836099, 1.67064465, 1.62576044, 1.40243961, 1.88454931],\n",
    "        [1.75354326, 1.69403643, 1.36729252, 1.61415071, 1.12104981],\n",
    "        [1.72201435, 1.1862918 , 1.87078449, 1.7726778 , 1.88180042]],\n",
    "\n",
    "       [[1.44747908, 1.31673383, 1.02000951, 1.52218947, 1.97066381],\n",
    "        [1.79129243, 1.74983003, 1.96028037, 1.85166831, 1.65450881],\n",
    "        [1.18068344, 1.9587381 , 1.00656599, 1.93402165, 1.73514584]]])\n",
    "\n",
    "Your f should be:\n",
    "array([[[ 75.,  75.,  75.,  25.,  75.],\n",
    "        [ 75.,  75.,  25.,  25.,  25.],\n",
    "        [ 75.,  25.,  75.,  75.,  75.]],\n",
    "\n",
    "       [[ 25.,  25.,  25.,  25., 100.],\n",
    "        [ 75.,  75.,  75.,  75.,  75.],\n",
    "        [ 25.,  75.,   0.,  75.,  75.]]])\n",
    "\n"
   ]
  },
  {
   "cell_type": "code",
   "execution_count": 235,
   "metadata": {},
   "outputs": [
    {
     "name": "stdout",
     "output_type": "stream",
     "text": [
      "Array a:\n",
      " [[[97 91 71 80 47]\n",
      "  [60 48 97 22 48]\n",
      "  [ 3 95 28 78 84]]\n",
      "\n",
      " [[37 83 61  7 25]\n",
      "  [73 39  4 35  7]\n",
      "  [44 74 39 69 39]]]\n",
      "Array f:\n",
      " [[[100.  75.  75.  75.  25.]\n",
      "  [ 75.  25. 100.  25.  25.]\n",
      "  [  0.  75.  25.  75.  75.]]\n",
      "\n",
      " [[ 25.  75.  75.  25.  25.]\n",
      "  [ 75.  25.  25.  25.  25.]\n",
      "  [ 25.  75.  25.  75.  25.]]]\n"
     ]
    }
   ],
   "source": [
    "print(\"Array a:\\n\",d)\n",
    "print(\"Array f:\\n\",f)"
   ]
  },
  {
   "cell_type": "markdown",
   "metadata": {},
   "source": [
    "### 18. Bonus question: instead of using numbers (i.e. 0, 25, 50, 75, and 100), how to use string values \n",
    "(\"A\", \"B\", \"C\", \"D\", and \"E\") to label the array elements? You are expecting the result to be:\n",
    "array([[[ 'D',  'D',  'D',  'B',  'D'],\n",
    "        [ 'D',  'D',  'B',  'B',  'B'],\n",
    "        [ 'D',  'B',  'D',  'D',  'D']],\n",
    "\n",
    "       [[ 'B',  'B',  'B',  'B',  'E'],\n",
    "        [ 'D',  'D',  'D',  'D',  'D'],\n",
    "        [ 'B',  'D',   'A',  'D', 'D']]])\n",
    "Again, you don't need Numpy in this question."
   ]
  },
  {
   "cell_type": "code",
   "execution_count": 238,
   "metadata": {},
   "outputs": [
    {
     "name": "stdout",
     "output_type": "stream",
     "text": [
      "Array f:\n",
      " [[['E' 'D' 'D' 'D' 'B']\n",
      "  ['D' 'B' 'E' 'B' 'B']\n",
      "  ['A' 'D' 'B' 'D' 'D']]\n",
      "\n",
      " [['B' 'D' 'D' 'B' 'B']\n",
      "  ['D' 'B' 'B' 'B' 'B']\n",
      "  ['B' 'D' 'B' 'D' 'B']]]\n"
     ]
    }
   ],
   "source": [
    "f = np.empty_like(d, dtype=object)\n",
    "for i in range(len(d)):  \n",
    "    for j in range(len(d[i])):  \n",
    "        for k in range(len(d[i][j])): \n",
    "            if d[i, j, k] == d_min:\n",
    "                f[i, j, k] = 'A'  \n",
    "            elif d[i, j, k] == d_max:\n",
    "                f[i, j, k] = 'E' \n",
    "            elif d[i, j, k] == d_mean:\n",
    "                f[i, j, k] = 'C' \n",
    "            elif d_min < d[i, j, k] < d_mean:\n",
    "                f[i, j, k] = 'B'  \n",
    "            elif d_mean < d[i, j, k] < d_max:\n",
    "                f[i, j, k] = 'D'\n",
    "\n",
    "print(\"Array f:\\n\", f)"
   ]
  }
 ],
 "metadata": {
  "kernelspec": {
   "display_name": "Python [conda env:base] *",
   "language": "python",
   "name": "conda-base-py"
  },
  "language_info": {
   "codemirror_mode": {
    "name": "ipython",
    "version": 3
   },
   "file_extension": ".py",
   "mimetype": "text/x-python",
   "name": "python",
   "nbconvert_exporter": "python",
   "pygments_lexer": "ipython3",
   "version": "3.12.7"
  }
 },
 "nbformat": 4,
 "nbformat_minor": 4
}
