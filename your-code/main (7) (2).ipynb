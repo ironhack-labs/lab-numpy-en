{
 "cells": [
  {
   "cell_type": "markdown",
   "metadata": {},
   "source": [
    "# Lab | Numpy Deep Dive"
   ]
  },
  {
   "cell_type": "markdown",
   "metadata": {},
   "source": [
    "### 1. Import the NUMPY package under the name np.\n"
   ]
  },
  {
   "cell_type": "code",
   "execution_count": 103,
   "metadata": {},
   "outputs": [],
   "source": [
    "### [your code here]\n",
    "import numpy as np"
   ]
  },
  {
   "cell_type": "markdown",
   "metadata": {},
   "source": [
    "\n",
    "\n",
    "### 2. Print the NUMPY version and the configuration.\n"
   ]
  },
  {
   "cell_type": "code",
   "execution_count": 104,
   "metadata": {},
   "outputs": [
    {
     "name": "stdout",
     "output_type": "stream",
     "text": [
      "1.26.4\n",
      "Build Dependencies:\n",
      "  blas:\n",
      "    detection method: pkgconfig\n",
      "    found: true\n",
      "    include directory: C:/Users/asus/anaconda3/envs/YAZEED/Library/include\n",
      "    lib directory: C:/Users/asus/anaconda3/envs/YAZEED/Library/lib\n",
      "    name: mkl-sdl\n",
      "    openblas configuration: unknown\n",
      "    pc file directory: C:\\b\\abs_c1ywpu18ar\\croot\\numpy_and_numpy_base_1708638681471\\_h_env\\Library\\lib\\pkgconfig\n",
      "    version: '2023.1'\n",
      "  lapack:\n",
      "    detection method: internal\n",
      "    found: true\n",
      "    include directory: unknown\n",
      "    lib directory: unknown\n",
      "    name: dep2252572576928\n",
      "    openblas configuration: unknown\n",
      "    pc file directory: unknown\n",
      "    version: 1.26.4\n",
      "Compilers:\n",
      "  c:\n",
      "    commands: cl.exe\n",
      "    linker: link\n",
      "    name: msvc\n",
      "    version: 19.29.30154\n",
      "  c++:\n",
      "    commands: cl.exe\n",
      "    linker: link\n",
      "    name: msvc\n",
      "    version: 19.29.30154\n",
      "  cython:\n",
      "    commands: cython\n",
      "    linker: cython\n",
      "    name: cython\n",
      "    version: 3.0.8\n",
      "Machine Information:\n",
      "  build:\n",
      "    cpu: x86_64\n",
      "    endian: little\n",
      "    family: x86_64\n",
      "    system: windows\n",
      "  host:\n",
      "    cpu: x86_64\n",
      "    endian: little\n",
      "    family: x86_64\n",
      "    system: windows\n",
      "Python Information:\n",
      "  path: C:\\b\\abs_c1ywpu18ar\\croot\\numpy_and_numpy_base_1708638681471\\_h_env\\python.exe\n",
      "  version: '3.9'\n",
      "SIMD Extensions:\n",
      "  baseline:\n",
      "  - SSE\n",
      "  - SSE2\n",
      "  - SSE3\n",
      "  found:\n",
      "  - SSSE3\n",
      "  - SSE41\n",
      "  - POPCNT\n",
      "  - SSE42\n",
      "  - AVX\n",
      "  - F16C\n",
      "  - FMA3\n",
      "  - AVX2\n",
      "  not found:\n",
      "  - AVX512F\n",
      "  - AVX512CD\n",
      "  - AVX512_SKX\n",
      "  - AVX512_CLX\n",
      "  - AVX512_CNL\n",
      "  - AVX512_ICL\n",
      "\n",
      "None\n"
     ]
    }
   ],
   "source": [
    "### [your code here]\n",
    "print(np.__version__)\n",
    "print(np.show_config())"
   ]
  },
  {
   "cell_type": "markdown",
   "metadata": {},
   "source": [
    "### 3. Generate a 2x3x5 3-dimensional array with random values. Assign the array to variable \"a\"\n",
    "Challenge: there are at least three easy ways that use numpy to generate random arrays. How many ways can you find?\n"
   ]
  },
  {
   "cell_type": "code",
   "execution_count": 105,
   "metadata": {},
   "outputs": [],
   "source": [
    "### [your code here]\n",
    "a = np.random.random((2, 3, 5))"
   ]
  },
  {
   "cell_type": "code",
   "execution_count": 106,
   "metadata": {},
   "outputs": [],
   "source": [
    "\n",
    "### 4. Print a.\n"
   ]
  },
  {
   "cell_type": "code",
   "execution_count": 107,
   "metadata": {},
   "outputs": [
    {
     "name": "stdout",
     "output_type": "stream",
     "text": [
      "[[[0.75598474 0.66719156 0.90264844 0.13981531 0.94529945]\n",
      "  [0.10283402 0.09006537 0.64109482 0.00388422 0.30780654]\n",
      "  [0.18772612 0.44548212 0.95409085 0.93241467 0.63866948]]\n",
      "\n",
      " [[0.00636513 0.69762396 0.56650476 0.0680885  0.09529761]\n",
      "  [0.15868182 0.22209389 0.26487881 0.37993852 0.27436599]\n",
      "  [0.4747637  0.35087413 0.85727901 0.39992271 0.45974113]]]\n"
     ]
    }
   ],
   "source": [
    "### [your code here]\n",
    "print(a)"
   ]
  },
  {
   "cell_type": "markdown",
   "metadata": {},
   "source": [
    "### 5. Create a 5x2x3 3-dimensional array with all values equaling 1.\n",
    "### Assign the array to variable \"b\"\n"
   ]
  },
  {
   "cell_type": "code",
   "execution_count": 108,
   "metadata": {},
   "outputs": [],
   "source": [
    "### [your code here]\n",
    "b = np.ones((5,2,3))"
   ]
  },
  {
   "cell_type": "markdown",
   "metadata": {},
   "source": [
    "\n",
    "### 6. Print b.\n"
   ]
  },
  {
   "cell_type": "code",
   "execution_count": 109,
   "metadata": {},
   "outputs": [
    {
     "name": "stdout",
     "output_type": "stream",
     "text": [
      "[[[1. 1. 1.]\n",
      "  [1. 1. 1.]]\n",
      "\n",
      " [[1. 1. 1.]\n",
      "  [1. 1. 1.]]\n",
      "\n",
      " [[1. 1. 1.]\n",
      "  [1. 1. 1.]]\n",
      "\n",
      " [[1. 1. 1.]\n",
      "  [1. 1. 1.]]\n",
      "\n",
      " [[1. 1. 1.]\n",
      "  [1. 1. 1.]]]\n"
     ]
    }
   ],
   "source": [
    "### [your code here]\n",
    "print(b)"
   ]
  },
  {
   "cell_type": "markdown",
   "metadata": {},
   "source": [
    "\n",
    "### 7. Do a and b have the same size? How do you prove that in Python code?\n"
   ]
  },
  {
   "cell_type": "code",
   "execution_count": 110,
   "metadata": {},
   "outputs": [
    {
     "name": "stdout",
     "output_type": "stream",
     "text": [
      "True\n"
     ]
    }
   ],
   "source": [
    "### [your code here]\n",
    "print(a.size == b.size)"
   ]
  },
  {
   "cell_type": "markdown",
   "metadata": {},
   "source": [
    "\n",
    "### 8. Are you able to add a and b? Why or why not?\n"
   ]
  },
  {
   "cell_type": "code",
   "execution_count": 111,
   "metadata": {},
   "outputs": [
    {
     "ename": "ValueError",
     "evalue": "operands could not be broadcast together with shapes (2,3,5) (5,2,3) ",
     "output_type": "error",
     "traceback": [
      "\u001b[1;31m---------------------------------------------------------------------------\u001b[0m",
      "\u001b[1;31mValueError\u001b[0m                                Traceback (most recent call last)",
      "Cell \u001b[1;32mIn[111], line 4\u001b[0m\n\u001b[0;32m      2\u001b[0m a \u001b[38;5;241m=\u001b[39m np\u001b[38;5;241m.\u001b[39mrandom\u001b[38;5;241m.\u001b[39mrandom((\u001b[38;5;241m2\u001b[39m, \u001b[38;5;241m3\u001b[39m, \u001b[38;5;241m5\u001b[39m))\n\u001b[0;32m      3\u001b[0m b \u001b[38;5;241m=\u001b[39m np\u001b[38;5;241m.\u001b[39mones((\u001b[38;5;241m5\u001b[39m,\u001b[38;5;241m2\u001b[39m,\u001b[38;5;241m3\u001b[39m))\n\u001b[1;32m----> 4\u001b[0m result \u001b[38;5;241m=\u001b[39m \u001b[43ma\u001b[49m\u001b[43m \u001b[49m\u001b[38;5;241;43m+\u001b[39;49m\u001b[43m \u001b[49m\u001b[43mb\u001b[49m\n\u001b[0;32m      6\u001b[0m \u001b[38;5;28mprint\u001b[39m(result)\n",
      "\u001b[1;31mValueError\u001b[0m: operands could not be broadcast together with shapes (2,3,5) (5,2,3) "
     ]
    }
   ],
   "source": [
    "### [your code here]\n",
    "a = np.random.random((2, 3, 5))\n",
    "b = np.ones((5,2,3))\n",
    "result = a + b\n",
    "\n",
    "print(result)\n",
    "#operands could not be broadcast together with shapes (2,3,5) (5,2,3)"
   ]
  },
  {
   "cell_type": "markdown",
   "metadata": {},
   "source": [
    "\n",
    "\n",
    "### 9. Transpose b so that it has the same structure of a (i.e. become a 2x3x5 array). Assign the transposed array to varialbe \"c\".\n"
   ]
  },
  {
   "cell_type": "code",
   "execution_count": 116,
   "metadata": {},
   "outputs": [
    {
     "name": "stdout",
     "output_type": "stream",
     "text": [
      "[[[1. 1. 1. 1. 1.]\n",
      "  [1. 1. 1. 1. 1.]\n",
      "  [1. 1. 1. 1. 1.]]\n",
      "\n",
      " [[1. 1. 1. 1. 1.]\n",
      "  [1. 1. 1. 1. 1.]\n",
      "  [1. 1. 1. 1. 1.]]]\n",
      "(2, 3, 5)\n"
     ]
    }
   ],
   "source": [
    "### [your code here]\n",
    "c = np.transpose(b, (1, 2, 0))\n",
    "print(c)\n",
    "print(c.shape)\n"
   ]
  },
  {
   "cell_type": "markdown",
   "metadata": {},
   "source": [
    "\n",
    "### 10. Try to add a and c. Now it should work. Assign the sum to variable \"d\". But why does it work now?\n"
   ]
  },
  {
   "cell_type": "code",
   "execution_count": 117,
   "metadata": {},
   "outputs": [],
   "source": [
    "### [your code here]\n",
    "d = a+c"
   ]
  },
  {
   "cell_type": "markdown",
   "metadata": {},
   "source": [
    "\n",
    "### 11. Print a and d. Notice the difference and relation of the two array in terms of the values? Explain.\n"
   ]
  },
  {
   "cell_type": "code",
   "execution_count": 118,
   "metadata": {},
   "outputs": [
    {
     "name": "stdout",
     "output_type": "stream",
     "text": [
      "a:\n",
      "[[[0.02823104 0.88593231 0.08815    0.80564611 0.41568977]\n",
      "  [0.41400386 0.25020303 0.97522745 0.38536942 0.10670396]\n",
      "  [0.9422176  0.46021285 0.41037201 0.39683828 0.82956795]]\n",
      "\n",
      " [[0.53100404 0.39572743 0.87055042 0.60750661 0.03238996]\n",
      "  [0.00715071 0.60954628 0.54812901 0.3089171  0.49815988]\n",
      "  [0.14342585 0.52151998 0.50268411 0.22675801 0.31411156]]]\n",
      "d:\n",
      "[[[1.02823104 1.88593231 1.08815    1.80564611 1.41568977]\n",
      "  [1.41400386 1.25020303 1.97522745 1.38536942 1.10670396]\n",
      "  [1.9422176  1.46021285 1.41037201 1.39683828 1.82956795]]\n",
      "\n",
      " [[1.53100404 1.39572743 1.87055042 1.60750661 1.03238996]\n",
      "  [1.00715071 1.60954628 1.54812901 1.3089171  1.49815988]\n",
      "  [1.14342585 1.52151998 1.50268411 1.22675801 1.31411156]]]\n"
     ]
    }
   ],
   "source": [
    "### [your code here]\n",
    "print(\"a:\")\n",
    "print(a)\n",
    "print(\"d:\")\n",
    "print(d)\n",
    "\"\"\"The array a contains random floating-point values, while the array d consists entirely of ones.\n",
    "The relation between the two arrays is that d is used as a matrix of ones,\n",
    "and when operations are performed between a and d,\n",
    "the result is influenced by the values in a since multiplying any value by 1 will leave it unchanged.\n",
    "This is the key difference: a holds varying data, while d is constant and uniform.\"\"\"\n"
   ]
  },
  {
   "cell_type": "markdown",
   "metadata": {},
   "source": [
    "\n",
    "### 12. Multiply a and c. Assign the result to e.\n"
   ]
  },
  {
   "cell_type": "code",
   "execution_count": 119,
   "metadata": {},
   "outputs": [
    {
     "name": "stdout",
     "output_type": "stream",
     "text": [
      "e:\n",
      " [[[0.02823104 0.88593231 0.08815    0.80564611 0.41568977]\n",
      "  [0.41400386 0.25020303 0.97522745 0.38536942 0.10670396]\n",
      "  [0.9422176  0.46021285 0.41037201 0.39683828 0.82956795]]\n",
      "\n",
      " [[0.53100404 0.39572743 0.87055042 0.60750661 0.03238996]\n",
      "  [0.00715071 0.60954628 0.54812901 0.3089171  0.49815988]\n",
      "  [0.14342585 0.52151998 0.50268411 0.22675801 0.31411156]]]\n"
     ]
    }
   ],
   "source": [
    "### [your code here]\n",
    "\n",
    "e = a * c\n",
    "\n",
    "\n",
    "print(\"e:\\n\", e)"
   ]
  },
  {
   "cell_type": "markdown",
   "metadata": {},
   "source": [
    "\n",
    "\n",
    "### 13. Does e equal to a? Why or why not?\n"
   ]
  },
  {
   "cell_type": "code",
   "execution_count": 120,
   "metadata": {},
   "outputs": [
    {
     "data": {
      "text/plain": [
       "array([[[ True,  True,  True,  True,  True],\n",
       "        [ True,  True,  True,  True,  True],\n",
       "        [ True,  True,  True,  True,  True]],\n",
       "\n",
       "       [[ True,  True,  True,  True,  True],\n",
       "        [ True,  True,  True,  True,  True],\n",
       "        [ True,  True,  True,  True,  True]]])"
      ]
     },
     "execution_count": 120,
     "metadata": {},
     "output_type": "execute_result"
    }
   ],
   "source": [
    "### [your code here]\n",
    "e == a\n"
   ]
  },
  {
   "cell_type": "markdown",
   "metadata": {},
   "source": [
    "\n",
    "\n",
    "### 14. Identify the max, min, and mean values in d. Assign those values to variables \"d_max\", \"d_min\", and \"d_mean\"\n"
   ]
  },
  {
   "cell_type": "code",
   "execution_count": 83,
   "metadata": {},
   "outputs": [
    {
     "name": "stdout",
     "output_type": "stream",
     "text": [
      "Max: 1.5147426072673962\n",
      "Min: 0.16737051296078587\n",
      "Mean: 1.1116918282179762\n"
     ]
    }
   ],
   "source": [
    "### [your code here]\n",
    "d_max = np.max(d)\n",
    "d_min = np.min(d)\n",
    "d_mean = np.mean(d)\n",
    "\n",
    "print(\"Max:\", d_max)\n",
    "print(\"Min:\", d_min)\n",
    "print(\"Mean:\", d_mean)"
   ]
  },
  {
   "cell_type": "markdown",
   "metadata": {},
   "source": [
    "\n",
    "### 15. Now we want to label the values in d. First create an empty array \"f\" with the same shape (i.e. 2x3x5) as d using `np.empty`.\n"
   ]
  },
  {
   "cell_type": "code",
   "execution_count": 122,
   "metadata": {},
   "outputs": [
    {
     "name": "stdout",
     "output_type": "stream",
     "text": [
      "[[[0.02823104 0.88593231 0.08815    0.80564611 0.41568977]\n",
      "  [0.41400386 0.25020303 0.97522745 0.38536942 0.10670396]\n",
      "  [0.9422176  0.46021285 0.41037201 0.39683828 0.82956795]]\n",
      "\n",
      " [[0.53100404 0.39572743 0.87055042 0.60750661 0.03238996]\n",
      "  [0.00715071 0.60954628 0.54812901 0.3089171  0.49815988]\n",
      "  [0.14342585 0.52151998 0.50268411 0.22675801 0.31411156]]]\n"
     ]
    }
   ],
   "source": [
    "### [your code here]\n",
    "emp = np.empty(d.shape)\n",
    "print(emp)"
   ]
  },
  {
   "cell_type": "markdown",
   "metadata": {},
   "source": [
    "\n",
    "\n",
    "\n",
    "### 16. Populate the values in f. For each value in d, if it's larger than d_min but smaller than d_mean, assign 25 to the corresponding value in f.\n",
    "If a value in d is larger than d_mean but smaller than d_max, assign 75 to the corresponding value in f.\n",
    "If a value equals to d_mean, assign 50 to the corresponding value in f.\n",
    "Assign 0 to the corresponding value(s) in f for d_min in d.\n",
    "Assign 100 to the corresponding value(s) in f for d_max in d.\n",
    "In the end, f should have only the following values: 0, 25, 50, 75, and 100.\n",
    "Note: you don't have to use Numpy in this question.\n",
    "\n"
   ]
  },
  {
   "cell_type": "code",
   "execution_count": 131,
   "metadata": {},
   "outputs": [
    {
     "name": "stdout",
     "output_type": "stream",
     "text": [
      "Array d:\n",
      " [[[0.61948167 1.76736867 0.18890111]\n",
      "  [1.49218209 1.78140008 1.592553  ]\n",
      "  [0.3766279  1.3957658  0.45110866]]\n",
      "\n",
      " [[1.35004235 0.74686658 0.54544565]\n",
      "  [0.69595985 1.39284695 0.04000634]\n",
      "  [1.3373043  0.87924971 0.76160111]]\n",
      "\n",
      " [[0.43978811 0.27663961 0.44521212]\n",
      "  [1.61779998 0.57212343 0.70992114]\n",
      "  [1.42006578 1.19511146 1.77320464]]]\n",
      "Array f:\n",
      " [[[ 25.  75.  25.]\n",
      "  [ 75. 100.  75.]\n",
      "  [ 25.  75.  25.]]\n",
      "\n",
      " [[ 75.  25.  25.]\n",
      "  [ 25.  75.   0.]\n",
      "  [ 75.  25.  25.]]\n",
      "\n",
      " [[ 25.  25.  25.]\n",
      "  [ 75.  25.  25.]\n",
      "  [ 75.  75.  75.]]]\n"
     ]
    }
   ],
   "source": [
    "for i in range(d.shape[0]):  \n",
    "    for j in range(d.shape[1]):  \n",
    "        for k in range(d.shape[2]): \n",
    "            value = d[i, j, k]\n",
    "            if value == d_min:\n",
    "                f[i, j, k] = 0\n",
    "            elif value == d_max:\n",
    "                f[i, j, k] = 100\n",
    "            elif value == d_mean:\n",
    "                f[i, j, k] = 50\n",
    "            elif d_min < value < d_mean:\n",
    "                f[i, j, k] = 25\n",
    "            elif d_mean < value < d_max:\n",
    "                f[i, j, k] = 75\n",
    "print(\"Array d:\\n\", d)\n",
    "print(\"Array f:\\n\", f)"
   ]
  },
  {
   "cell_type": "markdown",
   "metadata": {},
   "source": [
    "\n",
    "\n",
    "\n",
    "\n",
    "### 17. Print d and f. Do you have your expected f?\n",
    "For instance, if your d is:\n",
    "array([[[1.85836099, 1.67064465, 1.62576044, 1.40243961, 1.88454931],\n",
    "        [1.75354326, 1.69403643, 1.36729252, 1.61415071, 1.12104981],\n",
    "        [1.72201435, 1.1862918 , 1.87078449, 1.7726778 , 1.88180042]],\n",
    "\n",
    "       [[1.44747908, 1.31673383, 1.02000951, 1.52218947, 1.97066381],\n",
    "        [1.79129243, 1.74983003, 1.96028037, 1.85166831, 1.65450881],\n",
    "        [1.18068344, 1.9587381 , 1.00656599, 1.93402165, 1.73514584]]])\n",
    "\n",
    "Your f should be:\n",
    "array([[[ 75.,  75.,  75.,  25.,  75.],\n",
    "        [ 75.,  75.,  25.,  25.,  25.],\n",
    "        [ 75.,  25.,  75.,  75.,  75.]],\n",
    "\n",
    "       [[ 25.,  25.,  25.,  25., 100.],\n",
    "        [ 75.,  75.,  75.,  75.,  75.],\n",
    "        [ 25.,  75.,   0.,  75.,  75.]]])\n",
    "\n"
   ]
  },
  {
   "cell_type": "code",
   "execution_count": 132,
   "metadata": {},
   "outputs": [
    {
     "name": "stdout",
     "output_type": "stream",
     "text": [
      "Array d:\n",
      " [[[0.61948167 1.76736867 0.18890111]\n",
      "  [1.49218209 1.78140008 1.592553  ]\n",
      "  [0.3766279  1.3957658  0.45110866]]\n",
      "\n",
      " [[1.35004235 0.74686658 0.54544565]\n",
      "  [0.69595985 1.39284695 0.04000634]\n",
      "  [1.3373043  0.87924971 0.76160111]]\n",
      "\n",
      " [[0.43978811 0.27663961 0.44521212]\n",
      "  [1.61779998 0.57212343 0.70992114]\n",
      "  [1.42006578 1.19511146 1.77320464]]]\n",
      "Array f:\n",
      " [[[ 25.  75.  25.]\n",
      "  [ 75. 100.  75.]\n",
      "  [ 25.  75.  25.]]\n",
      "\n",
      " [[ 75.  25.  25.]\n",
      "  [ 25.  75.   0.]\n",
      "  [ 75.  25.  25.]]\n",
      "\n",
      " [[ 25.  25.  25.]\n",
      "  [ 75.  25.  25.]\n",
      "  [ 75.  75.  75.]]]\n"
     ]
    }
   ],
   "source": [
    "for i in range(d.shape[0]):  \n",
    "    for j in range(d.shape[1]):  \n",
    "        for k in range(d.shape[2]):\n",
    "            value = d[i, j, k]\n",
    "            if value == d_min:\n",
    "                f[i, j, k] = 0\n",
    "            elif value == d_max:\n",
    "                f[i, j, k] = 100\n",
    "            elif value == d_mean:\n",
    "                f[i, j, k] = 50\n",
    "            elif d_min < value < d_mean:\n",
    "                f[i, j, k] = 25\n",
    "            elif d_mean < value < d_max:\n",
    "                f[i, j, k] = 75\n",
    "print(\"Array d:\\n\", d)\n",
    "print(\"Array f:\\n\", f)"
   ]
  },
  {
   "cell_type": "markdown",
   "metadata": {},
   "source": [
    "### 18. Bonus question: instead of using numbers (i.e. 0, 25, 50, 75, and 100), how to use string values \n",
    "(\"A\", \"B\", \"C\", \"D\", and \"E\") to label the array elements? You are expecting the result to be:\n",
    "array([[[ 'D',  'D',  'D',  'B',  'D'],\n",
    "        [ 'D',  'D',  'B',  'B',  'B'],\n",
    "        [ 'D',  'B',  'D',  'D',  'D']],\n",
    "\n",
    "       [[ 'B',  'B',  'B',  'B',  'E'],\n",
    "        [ 'D',  'D',  'D',  'D',  'D'],\n",
    "        [ 'B',  'D',   'A',  'D', 'D']]])\n",
    "Again, you don't need Numpy in this question."
   ]
  },
  {
   "cell_type": "code",
   "execution_count": 137,
   "metadata": {},
   "outputs": [
    {
     "name": "stdout",
     "output_type": "stream",
     "text": [
      "Array f:\n",
      " [[['B' 'D' 'B']\n",
      "  ['D' 'E' 'D']\n",
      "  ['B' 'D' 'B']]\n",
      "\n",
      " [['D' 'B' 'B']\n",
      "  ['B' 'D' 'A']\n",
      "  ['D' 'B' 'B']]\n",
      "\n",
      " [['B' 'B' 'B']\n",
      "  ['D' 'B' 'B']\n",
      "  ['D' 'D' 'D']]]\n"
     ]
    }
   ],
   "source": [
    "f = np.empty_like(d, dtype=object)\n",
    "for i in range(d.shape[0]):  \n",
    "    for j in range(d.shape[1]): \n",
    "        for k in range(d.shape[2]):  \n",
    "            value = d[i, j, k]\n",
    "            if value == d_min:\n",
    "                f[i, j, k] = 'A'\n",
    "            elif value == d_max:\n",
    "                f[i, j, k] = 'E'\n",
    "            elif value == d_mean:\n",
    "                f[i, j, k] = 'C'\n",
    "            elif d_min < value < d_mean:\n",
    "                f[i, j, k] = 'B'\n",
    "            elif d_mean < value < d_max:\n",
    "                f[i, j, k] = 'D'\n",
    "\n",
    "\n",
    "print(\"Array f:\\n\", f)"
   ]
  },
  {
   "cell_type": "code",
   "execution_count": null,
   "metadata": {},
   "outputs": [],
   "source": []
  }
 ],
 "metadata": {
  "kernelspec": {
   "display_name": "Python 3 (ipykernel)",
   "language": "python",
   "name": "python3"
  },
  "language_info": {
   "codemirror_mode": {
    "name": "ipython",
    "version": 3
   },
   "file_extension": ".py",
   "mimetype": "text/x-python",
   "name": "python",
   "nbconvert_exporter": "python",
   "pygments_lexer": "ipython3",
   "version": "3.9.21"
  }
 },
 "nbformat": 4,
 "nbformat_minor": 4
}
