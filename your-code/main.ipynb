{
 "cells": [
  {
   "cell_type": "markdown",
   "metadata": {},
   "source": [
    "# Lab | Numpy Deep Dive"
   ]
  },
  {
   "cell_type": "markdown",
   "metadata": {},
   "source": [
    "### 1. Import the NUMPY package under the name np.\n"
   ]
  },
  {
   "cell_type": "code",
   "execution_count": 4,
   "metadata": {},
   "outputs": [
    {
     "name": "stdout",
     "output_type": "stream",
     "text": [
      "Collecting numpy\n",
      "  Downloading numpy-2.2.3-cp311-cp311-win_amd64.whl.metadata (60 kB)\n",
      "     ---------------------------------------- 0.0/60.8 kB ? eta -:--:--\n",
      "     -------------------- ------------------- 30.7/60.8 kB ? eta -:--:--\n",
      "     -------------------- ------------------- 30.7/60.8 kB ? eta -:--:--\n",
      "     ------------------------------- ------ 51.2/60.8 kB 327.7 kB/s eta 0:00:01\n",
      "     -------------------------------------- 60.8/60.8 kB 324.4 kB/s eta 0:00:00\n",
      "Downloading numpy-2.2.3-cp311-cp311-win_amd64.whl (12.9 MB)\n",
      "   ---------------------------------------- 0.0/12.9 MB ? eta -:--:--\n",
      "   ---------------------------------------- 0.0/12.9 MB ? eta -:--:--\n",
      "   ---------------------------------------- 0.0/12.9 MB ? eta -:--:--\n",
      "   ---------------------------------------- 0.1/12.9 MB 5.1 MB/s eta 0:00:03\n",
      "   ---------------------------------------- 0.1/12.9 MB 5.1 MB/s eta 0:00:03\n",
      "   ---------------------------------------- 0.1/12.9 MB 5.1 MB/s eta 0:00:03\n",
      "   - -------------------------------------- 0.3/12.9 MB 1.6 MB/s eta 0:00:09\n",
      "   -- ------------------------------------- 0.7/12.9 MB 2.9 MB/s eta 0:00:05\n",
      "   -- ------------------------------------- 0.7/12.9 MB 2.9 MB/s eta 0:00:05\n",
      "   -- ------------------------------------- 0.7/12.9 MB 2.0 MB/s eta 0:00:07\n",
      "   ----- ---------------------------------- 1.6/12.9 MB 4.2 MB/s eta 0:00:03\n",
      "   -------- ------------------------------- 2.9/12.9 MB 6.5 MB/s eta 0:00:02\n",
      "   -------- ------------------------------- 2.9/12.9 MB 6.5 MB/s eta 0:00:02\n",
      "   -------- ------------------------------- 2.9/12.9 MB 6.5 MB/s eta 0:00:02\n",
      "   ------------ --------------------------- 4.0/12.9 MB 6.9 MB/s eta 0:00:02\n",
      "   ---------------- ----------------------- 5.5/12.9 MB 8.8 MB/s eta 0:00:01\n",
      "   ----------------- ---------------------- 5.7/12.9 MB 8.8 MB/s eta 0:00:01\n",
      "   ----------------- ---------------------- 5.7/12.9 MB 8.8 MB/s eta 0:00:01\n",
      "   ----------------- ---------------------- 5.7/12.9 MB 8.8 MB/s eta 0:00:01\n",
      "   ---------------------- ----------------- 7.3/12.9 MB 9.2 MB/s eta 0:00:01\n",
      "   -------------------------- ------------- 8.4/12.9 MB 10.4 MB/s eta 0:00:01\n",
      "   -------------------------- ------------- 8.4/12.9 MB 10.4 MB/s eta 0:00:01\n",
      "   -------------------------- ------------- 8.4/12.9 MB 10.4 MB/s eta 0:00:01\n",
      "   ------------------------------ --------- 10.0/12.9 MB 10.0 MB/s eta 0:00:01\n",
      "   ----------------------------------- ---- 11.5/12.9 MB 15.6 MB/s eta 0:00:01\n",
      "   ----------------------------------- ---- 11.6/12.9 MB 15.2 MB/s eta 0:00:01\n",
      "   ----------------------------------- ---- 11.6/12.9 MB 15.2 MB/s eta 0:00:01\n",
      "   ---------------------------------------  12.9/12.9 MB 13.4 MB/s eta 0:00:01\n",
      "   ---------------------------------------  12.9/12.9 MB 13.4 MB/s eta 0:00:01\n",
      "   ---------------------------------------- 12.9/12.9 MB 12.4 MB/s eta 0:00:00\n",
      "Installing collected packages: numpy\n",
      "Successfully installed numpy-2.2.3\n",
      "Note: you may need to restart the kernel to use updated packages.\n"
     ]
    },
    {
     "name": "stderr",
     "output_type": "stream",
     "text": [
      "\n",
      "[notice] A new release of pip is available: 24.0 -> 25.0.1\n",
      "[notice] To update, run: python.exe -m pip install --upgrade pip\n"
     ]
    }
   ],
   "source": [
    "pip install numpy\n"
   ]
  },
  {
   "cell_type": "code",
   "execution_count": 1,
   "metadata": {},
   "outputs": [],
   "source": [
    "### [your code here] \n",
    "import numpy as np\n",
    "\n"
   ]
  },
  {
   "cell_type": "markdown",
   "metadata": {},
   "source": [
    "\n",
    "\n",
    "### 2. Print the NUMPY version and the configuration.\n"
   ]
  },
  {
   "cell_type": "code",
   "execution_count": 2,
   "metadata": {},
   "outputs": [
    {
     "name": "stdout",
     "output_type": "stream",
     "text": [
      "2.2.3\n"
     ]
    }
   ],
   "source": [
    "### [your code here]\n",
    "print (np.__version__)\n"
   ]
  },
  {
   "cell_type": "markdown",
   "metadata": {},
   "source": [
    "### 3. Generate a 2x3x5 3-dimensional array with random values. Assign the array to variable \"a\"\n",
    "Challenge: there are at least three easy ways that use numpy to generate random arrays. How many ways can you find?\n"
   ]
  },
  {
   "cell_type": "code",
   "execution_count": 3,
   "metadata": {},
   "outputs": [],
   "source": [
    "### [your code here]\n",
    "a=np.random.randint(100,size=(2,3,5))"
   ]
  },
  {
   "cell_type": "markdown",
   "metadata": {},
   "source": [
    "\n",
    "### 4. Print a.\n"
   ]
  },
  {
   "cell_type": "code",
   "execution_count": 4,
   "metadata": {},
   "outputs": [
    {
     "name": "stdout",
     "output_type": "stream",
     "text": [
      "[[[62 36 43 26  9]\n",
      "  [36 16 75 43 95]\n",
      "  [96 71 94  8 16]]\n",
      "\n",
      " [[23 67  5 98 58]\n",
      "  [26 63  4 67 72]\n",
      "  [92 52 90 19 50]]]\n"
     ]
    }
   ],
   "source": [
    "### [your code here]\n",
    "print(a)"
   ]
  },
  {
   "cell_type": "markdown",
   "metadata": {},
   "source": [
    "### 5. Create a 5x2x3 3-dimensional array with all values equaling 1.\n",
    "### Assign the array to variable \"b\"\n"
   ]
  },
  {
   "cell_type": "code",
   "execution_count": 7,
   "metadata": {},
   "outputs": [],
   "source": [
    "### [your code here]\n",
    "b = np.ones((5, 2, 3))\n",
    "\n"
   ]
  },
  {
   "cell_type": "markdown",
   "metadata": {},
   "source": [
    "\n",
    "### 6. Print b.\n"
   ]
  },
  {
   "cell_type": "code",
   "execution_count": 6,
   "metadata": {},
   "outputs": [
    {
     "name": "stdout",
     "output_type": "stream",
     "text": [
      "[[[1. 1. 1.]\n",
      "  [1. 1. 1.]]\n",
      "\n",
      " [[1. 1. 1.]\n",
      "  [1. 1. 1.]]\n",
      "\n",
      " [[1. 1. 1.]\n",
      "  [1. 1. 1.]]\n",
      "\n",
      " [[1. 1. 1.]\n",
      "  [1. 1. 1.]]\n",
      "\n",
      " [[1. 1. 1.]\n",
      "  [1. 1. 1.]]]\n"
     ]
    }
   ],
   "source": [
    "### [your code here]\n",
    "print(b)"
   ]
  },
  {
   "cell_type": "markdown",
   "metadata": {},
   "source": [
    "\n",
    "### 7. Do a and b have the same size? How do you prove that in Python code?\n"
   ]
  },
  {
   "cell_type": "code",
   "execution_count": 8,
   "metadata": {},
   "outputs": [
    {
     "name": "stdout",
     "output_type": "stream",
     "text": [
      "Do a and b have the same shape? False\n"
     ]
    }
   ],
   "source": [
    "### [your code here]\n",
    "are_shapes_equal = a.shape == b.shape\n",
    "print(f\"Do a and b have the same shape? {are_shapes_equal}\")\n"
   ]
  },
  {
   "cell_type": "markdown",
   "metadata": {},
   "source": [
    "\n",
    "### 8. Are you able to add a and b? Why or why not?\n"
   ]
  },
  {
   "cell_type": "code",
   "execution_count": 9,
   "metadata": {},
   "outputs": [
    {
     "name": "stdout",
     "output_type": "stream",
     "text": [
      "Arrays cannot be added due to shape mismatch.\n"
     ]
    }
   ],
   "source": [
    "### [your code here]\n",
    "if a.shape==b.shape:\n",
    "   result(a+b)\n",
    "   print (\"Addition successful!\")\n",
    "else:\n",
    "   print(\"Arrays cannot be added due to shape mismatch.\")\n",
    "\n",
    "\n"
   ]
  },
  {
   "cell_type": "markdown",
   "metadata": {},
   "source": [
    "\n",
    "\n",
    "### 9. Transpose b so that it has the same structure of a (i.e. become a 2x3x5 array). Assign the transposed array to varialbe \"c\".\n"
   ]
  },
  {
   "cell_type": "code",
   "execution_count": 10,
   "metadata": {},
   "outputs": [],
   "source": [
    "### [your code here]\n",
    "c = np.transpose(b, (1, 2, 0))\n",
    "\n"
   ]
  },
  {
   "cell_type": "markdown",
   "metadata": {},
   "source": [
    "\n",
    "### 10. Try to add a and c. Now it should work. Assign the sum to variable \"d\". But why does it work now?\n"
   ]
  },
  {
   "cell_type": "code",
   "execution_count": 11,
   "metadata": {},
   "outputs": [
    {
     "name": "stdout",
     "output_type": "stream",
     "text": [
      "[[[63. 37. 44. 27. 10.]\n",
      "  [37. 17. 76. 44. 96.]\n",
      "  [97. 72. 95.  9. 17.]]\n",
      "\n",
      " [[24. 68.  6. 99. 59.]\n",
      "  [27. 64.  5. 68. 73.]\n",
      "  [93. 53. 91. 20. 51.]]]\n",
      "Addition successful!\n"
     ]
    }
   ],
   "source": [
    "### [your code here]\n",
    "d = a + c\n",
    "print(d)\n",
    "print(\"Addition successful!\")\n"
   ]
  },
  {
   "cell_type": "markdown",
   "metadata": {},
   "source": [
    "\n",
    "### 11. Print a and d. Notice the difference and relation of the two array in terms of the values? Explain.\n"
   ]
  },
  {
   "cell_type": "code",
   "execution_count": 12,
   "metadata": {},
   "outputs": [
    {
     "name": "stdout",
     "output_type": "stream",
     "text": [
      "[[[62 36 43 26  9]\n",
      "  [36 16 75 43 95]\n",
      "  [96 71 94  8 16]]\n",
      "\n",
      " [[23 67  5 98 58]\n",
      "  [26 63  4 67 72]\n",
      "  [92 52 90 19 50]]]\n",
      "[[[63. 37. 44. 27. 10.]\n",
      "  [37. 17. 76. 44. 96.]\n",
      "  [97. 72. 95.  9. 17.]]\n",
      "\n",
      " [[24. 68.  6. 99. 59.]\n",
      "  [27. 64.  5. 68. 73.]\n",
      "  [93. 53. 91. 20. 51.]]]\n",
      "\n"
     ]
    }
   ],
   "source": [
    "### [your code here]\n",
    "print(a)\n",
    "print(d)\n",
    "print(\"\")\n",
    "\n"
   ]
  },
  {
   "cell_type": "markdown",
   "metadata": {},
   "source": [
    "\n",
    "### 12. Multiply a and c. Assign the result to e.\n"
   ]
  },
  {
   "cell_type": "code",
   "execution_count": 13,
   "metadata": {},
   "outputs": [
    {
     "name": "stdout",
     "output_type": "stream",
     "text": [
      "Multiplication successful!\n"
     ]
    }
   ],
   "source": [
    "### [your code here]\n",
    "e = a * c\n",
    "print(\"Multiplication successful!\")\n",
    "\n"
   ]
  },
  {
   "cell_type": "markdown",
   "metadata": {},
   "source": [
    "\n",
    "\n",
    "### 13. Does e equal to a? Why or why not?\n"
   ]
  },
  {
   "cell_type": "code",
   "execution_count": 14,
   "metadata": {},
   "outputs": [
    {
     "name": "stdout",
     "output_type": "stream",
     "text": [
      "Is e equal to a? True\n"
     ]
    }
   ],
   "source": [
    "### [your code here]\n",
    "are_equal = np.array_equal(a, e)\n",
    "print(f\"Is e equal to a? {are_equal}\")\n"
   ]
  },
  {
   "cell_type": "markdown",
   "metadata": {},
   "source": [
    "\n",
    "\n",
    "### 14. Identify the max, min, and mean values in d. Assign those values to variables \"d_max\", \"d_min\", and \"d_mean\"\n"
   ]
  },
  {
   "cell_type": "code",
   "execution_count": 15,
   "metadata": {},
   "outputs": [
    {
     "name": "stdout",
     "output_type": "stream",
     "text": [
      "Max value in d: 99.0\n",
      "Min value in d: 5.0\n",
      "Mean value in d: 51.4\n"
     ]
    }
   ],
   "source": [
    "### [your code here]\n",
    "d_max = np.max(d)\n",
    "d_min = np.min(d)\n",
    "d_mean = np.mean(d)\n",
    "\n",
    "\n",
    "print(f\"Max value in d: {d_max}\")\n",
    "print(f\"Min value in d: {d_min}\")\n",
    "print(f\"Mean value in d: {d_mean}\")\n",
    "\n"
   ]
  },
  {
   "cell_type": "markdown",
   "metadata": {},
   "source": [
    "\n",
    "### 15. Now we want to label the values in d. First create an empty array \"f\" with the same shape (i.e. 2x3x5) as d using `np.empty`.\n"
   ]
  },
  {
   "cell_type": "code",
   "execution_count": 16,
   "metadata": {},
   "outputs": [
    {
     "name": "stdout",
     "output_type": "stream",
     "text": [
      "[[[63. 37. 44. 27. 10.]\n",
      "  [37. 17. 76. 44. 96.]\n",
      "  [97. 72. 95.  9. 17.]]\n",
      "\n",
      " [[24. 68.  6. 99. 59.]\n",
      "  [27. 64.  5. 68. 73.]\n",
      "  [93. 53. 91. 20. 51.]]]\n"
     ]
    }
   ],
   "source": [
    "### [your code here]\n",
    "f = np.empty_like(d)\n",
    "print(f)"
   ]
  },
  {
   "cell_type": "markdown",
   "metadata": {},
   "source": [
    "\n",
    "\n",
    "\n",
    "### 16. Populate the values in f. For each value in d, if it's larger than d_min but smaller than d_mean, assign 25 to the corresponding value in f.\n",
    "If a value in d is larger than d_mean but smaller than d_max, assign 75 to the corresponding value in f.\n",
    "If a value equals to d_mean, assign 50 to the corresponding value in f.\n",
    "Assign 0 to the corresponding value(s) in f for d_min in d.\n",
    "Assign 100 to the corresponding value(s) in f for d_max in d.\n",
    "In the end, f should have only the following values: 0, 25, 50, 75, and 100.\n",
    "Note: you don't have to use Numpy in this question.\n",
    "\n"
   ]
  },
  {
   "cell_type": "code",
   "execution_count": 17,
   "metadata": {},
   "outputs": [
    {
     "name": "stdout",
     "output_type": "stream",
     "text": [
      "[[[63. 25. 25. 25. 25.]\n",
      "  [25. 25. 76. 25. 96.]\n",
      "  [97. 72. 95. 25. 25.]]\n",
      "\n",
      " [[25. 68. 25. 99. 59.]\n",
      "  [25. 64.  5. 68. 73.]\n",
      "  [93. 53. 91. 25. 25.]]]\n"
     ]
    }
   ],
   "source": [
    "### [your code here]\n",
    "\n",
    "f[(d > d_min) & (d < d_mean)] = 25\n",
    "\n",
    "print(f)\n",
    "\n"
   ]
  },
  {
   "cell_type": "markdown",
   "metadata": {},
   "source": [
    "\n",
    "\n",
    "\n",
    "\n",
    "### 17. Print d and f. Do you have your expected f?\n",
    "For instance, if your d is:\n",
    "array([[[1.85836099, 1.67064465, 1.62576044, 1.40243961, 1.88454931],\n",
    "        [1.75354326, 1.69403643, 1.36729252, 1.61415071, 1.12104981],\n",
    "        [1.72201435, 1.1862918 , 1.87078449, 1.7726778 , 1.88180042]],\n",
    "\n",
    "       [[1.44747908, 1.31673383, 1.02000951, 1.52218947, 1.97066381],\n",
    "        [1.79129243, 1.74983003, 1.96028037, 1.85166831, 1.65450881],\n",
    "        [1.18068344, 1.9587381 , 1.00656599, 1.93402165, 1.73514584]]])\n",
    "\n",
    "Your f should be:\n",
    "array([[[ 75.,  75.,  75.,  25.,  75.],\n",
    "        [ 75.,  75.,  25.,  25.,  25.],\n",
    "        [ 75.,  25.,  75.,  75.,  75.]],\n",
    "\n",
    "       [[ 25.,  25.,  25.,  25., 100.],\n",
    "        [ 75.,  75.,  75.,  75.,  75.],\n",
    "        [ 25.,  75.,   0.,  75.,  75.]]])\n",
    "\n"
   ]
  },
  {
   "cell_type": "code",
   "execution_count": 18,
   "metadata": {},
   "outputs": [
    {
     "name": "stdout",
     "output_type": "stream",
     "text": [
      "[[[63. 37. 44. 27. 10.]\n",
      "  [37. 17. 76. 44. 96.]\n",
      "  [97. 72. 95.  9. 17.]]\n",
      "\n",
      " [[24. 68.  6. 99. 59.]\n",
      "  [27. 64.  5. 68. 73.]\n",
      "  [93. 53. 91. 20. 51.]]]\n",
      "[[[63. 25. 25. 25. 25.]\n",
      "  [25. 25. 76. 25. 96.]\n",
      "  [97. 72. 95. 25. 25.]]\n",
      "\n",
      " [[25. 68. 25. 99. 59.]\n",
      "  [25. 64.  5. 68. 73.]\n",
      "  [93. 53. 91. 25. 25.]]]\n"
     ]
    }
   ],
   "source": [
    "### [your code here]\n",
    "print (d)\n",
    "print (f)"
   ]
  },
  {
   "cell_type": "markdown",
   "metadata": {},
   "source": [
    "### 18. Bonus question: instead of using numbers (i.e. 0, 25, 50, 75, and 100), how to use string values \n",
    "(\"A\", \"B\", \"C\", \"D\", and \"E\") to label the array elements? You are expecting the result to be:\n",
    "array([[[ 'D',  'D',  'D',  'B',  'D'],\n",
    "        [ 'D',  'D',  'B',  'B',  'B'],\n",
    "        [ 'D',  'B',  'D',  'D',  'D']],\n",
    "\n",
    "       [[ 'B',  'B',  'B',  'B',  'E'],\n",
    "        [ 'D',  'D',  'D',  'D',  'D'],\n",
    "        [ 'B',  'D',   'A',  'D', 'D']]])\n",
    "Again, you don't need Numpy in this question."
   ]
  },
  {
   "cell_type": "code",
   "execution_count": 19,
   "metadata": {},
   "outputs": [
    {
     "name": "stdout",
     "output_type": "stream",
     "text": [
      "Array with labeled values:\n",
      "[[['D' 'B' 'B' 'B' 'B']\n",
      "  ['B' 'B' 'D' 'B' 'D']\n",
      "  ['D' 'D' 'D' 'B' 'B']]\n",
      "\n",
      " [['B' 'D' 'B' 'D' 'D']\n",
      "  ['B' 'D' 'A' 'D' 'D']\n",
      "  ['D' 'D' 'D' 'B' 'B']]]\n"
     ]
    }
   ],
   "source": [
    "### [your code here]\n",
    "labels = [\"A\", \"B\", \"C\", \"D\", \"E\"]\n",
    "\n",
    "\n",
    "f_str = np.empty_like(f, dtype=\"<U1\")  \n",
    "\n",
    "\n",
    "d_min = np.min(d)\n",
    "d_mean = np.mean(d)\n",
    "\n",
    "\n",
    "f_str[(d > d_min) & (d < d_mean)] = \"B\"\n",
    "f_str[d >= d_mean] = \"D\"\n",
    "f_str[d <= d_min] = \"A\"\n",
    "\n",
    "\n",
    "print(\"Array with labeled values:\")\n",
    "print(f_str)"
   ]
  }
 ],
 "metadata": {
  "kernelspec": {
   "display_name": "Python 3",
   "language": "python",
   "name": "python3"
  },
  "language_info": {
   "codemirror_mode": {
    "name": "ipython",
    "version": 3
   },
   "file_extension": ".py",
   "mimetype": "text/x-python",
   "name": "python",
   "nbconvert_exporter": "python",
   "pygments_lexer": "ipython3",
   "version": "3.11.9"
  }
 },
 "nbformat": 4,
 "nbformat_minor": 4
}
