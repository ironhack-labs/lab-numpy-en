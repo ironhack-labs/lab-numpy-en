{
 "cells": [
  {
   "cell_type": "markdown",
   "metadata": {},
   "source": [
    "# Lab | Numpy Deep Dive"
   ]
  },
  {
   "cell_type": "markdown",
   "metadata": {},
   "source": [
    "### 1. Import the NUMPY package under the name np.\n"
   ]
  },
  {
   "cell_type": "code",
   "execution_count": 1,
   "metadata": {},
   "outputs": [],
   "source": [
    "### [your code here]\n",
    "import numpy as np\n",
    "\n"
   ]
  },
  {
   "cell_type": "markdown",
   "metadata": {},
   "source": [
    "\n",
    "\n",
    "### 2. Print the NUMPY version and the configuration.\n"
   ]
  },
  {
   "cell_type": "code",
   "execution_count": 2,
   "metadata": {},
   "outputs": [
    {
     "name": "stdout",
     "output_type": "stream",
     "text": [
      "NumPy Version:  1.23.5\n"
     ]
    }
   ],
   "source": [
    "### [your code here]\n",
    "\n",
    "\n",
    "print(\"NumPy Version: \",np.version.version)\n"
   ]
  },
  {
   "cell_type": "markdown",
   "metadata": {},
   "source": [
    "### 3. Generate a 2x3x5 3-dimensional array with random values. Assign the array to variable \"a\"\n",
    "Challenge: there are at least three easy ways that use numpy to generate random arrays. How many ways can you find?\n"
   ]
  },
  {
   "cell_type": "code",
   "execution_count": 3,
   "metadata": {},
   "outputs": [],
   "source": [
    "### [your code here]\n",
    "a = np.random.rand(2,3,5)\n"
   ]
  },
  {
   "cell_type": "markdown",
   "metadata": {},
   "source": [
    "\n",
    "### 4. Print a.\n"
   ]
  },
  {
   "cell_type": "code",
   "execution_count": 4,
   "metadata": {},
   "outputs": [
    {
     "data": {
      "text/plain": [
       "array([[[0.47041945, 0.26701965, 0.69191172, 0.45322405, 0.8613023 ],\n",
       "        [0.45738351, 0.05629229, 0.99060241, 0.46817383, 0.80825176],\n",
       "        [0.17037358, 0.80930108, 0.69714712, 0.34917215, 0.58395127]],\n",
       "\n",
       "       [[0.0994892 , 0.76319404, 0.56291095, 0.9500218 , 0.53167461],\n",
       "        [0.75589127, 0.96611062, 0.93105762, 0.21958591, 0.99406709],\n",
       "        [0.17319947, 0.57736346, 0.47957232, 0.20456179, 0.01572689]]])"
      ]
     },
     "execution_count": 4,
     "metadata": {},
     "output_type": "execute_result"
    }
   ],
   "source": [
    "### [your code here]\n",
    "a"
   ]
  },
  {
   "cell_type": "markdown",
   "metadata": {},
   "source": [
    "### 5. Create a 5x2x3 3-dimensional array with all values equaling 1.\n",
    "### Assign the array to variable \"b\"\n"
   ]
  },
  {
   "cell_type": "code",
   "execution_count": 5,
   "metadata": {},
   "outputs": [],
   "source": [
    "### [your code here]\n",
    "b = np.ones((5,2,3),)\n"
   ]
  },
  {
   "cell_type": "markdown",
   "metadata": {},
   "source": [
    "\n",
    "### 6. Print b.\n"
   ]
  },
  {
   "cell_type": "code",
   "execution_count": 6,
   "metadata": {},
   "outputs": [
    {
     "data": {
      "text/plain": [
       "array([[[1., 1., 1.],\n",
       "        [1., 1., 1.]],\n",
       "\n",
       "       [[1., 1., 1.],\n",
       "        [1., 1., 1.]],\n",
       "\n",
       "       [[1., 1., 1.],\n",
       "        [1., 1., 1.]],\n",
       "\n",
       "       [[1., 1., 1.],\n",
       "        [1., 1., 1.]],\n",
       "\n",
       "       [[1., 1., 1.],\n",
       "        [1., 1., 1.]]])"
      ]
     },
     "execution_count": 6,
     "metadata": {},
     "output_type": "execute_result"
    }
   ],
   "source": [
    "### [your code here]\n",
    "b"
   ]
  },
  {
   "cell_type": "markdown",
   "metadata": {},
   "source": [
    "\n",
    "### 7. Do a and b have the same size? How do you prove that in Python code?\n"
   ]
  },
  {
   "cell_type": "code",
   "execution_count": 7,
   "metadata": {},
   "outputs": [
    {
     "name": "stdout",
     "output_type": "stream",
     "text": [
      "True\n"
     ]
    }
   ],
   "source": [
    "### [your code here]\n",
    "print(a.size == b.size)\n"
   ]
  },
  {
   "cell_type": "markdown",
   "metadata": {},
   "source": [
    "\n",
    "### 8. Are you able to add a and b? Why or why not?\n"
   ]
  },
  {
   "cell_type": "code",
   "execution_count": 8,
   "metadata": {},
   "outputs": [],
   "source": [
    "### [your code here]\n",
    "##a_b = a+b\n",
    "\n",
    "# we cannot add them because they have different shapes \n",
    "#operands could not be broadcast together with shapes (2,3,5) (5,2,3) "
   ]
  },
  {
   "cell_type": "markdown",
   "metadata": {},
   "source": [
    "\n",
    "\n",
    "### 9. Transpose b so that it has the same structure of a (i.e. become a 2x3x5 array). Assign the transposed array to varialbe \"c\".\n"
   ]
  },
  {
   "cell_type": "code",
   "execution_count": 9,
   "metadata": {},
   "outputs": [
    {
     "name": "stdout",
     "output_type": "stream",
     "text": [
      "(2, 3, 5)\n"
     ]
    }
   ],
   "source": [
    "### [your code here]\n",
    "\n",
    "c = np.transpose(b,(1,2,0))\n",
    "c\n",
    "print(c.shape)"
   ]
  },
  {
   "cell_type": "markdown",
   "metadata": {},
   "source": [
    "\n",
    "### 10. Try to add a and c. Now it should work. Assign the sum to variable \"d\". But why does it work now?\n"
   ]
  },
  {
   "cell_type": "code",
   "execution_count": 10,
   "metadata": {},
   "outputs": [
    {
     "data": {
      "text/plain": [
       "array([[[1.47041945, 1.26701965, 1.69191172, 1.45322405, 1.8613023 ],\n",
       "        [1.45738351, 1.05629229, 1.99060241, 1.46817383, 1.80825176],\n",
       "        [1.17037358, 1.80930108, 1.69714712, 1.34917215, 1.58395127]],\n",
       "\n",
       "       [[1.0994892 , 1.76319404, 1.56291095, 1.9500218 , 1.53167461],\n",
       "        [1.75589127, 1.96611062, 1.93105762, 1.21958591, 1.99406709],\n",
       "        [1.17319947, 1.57736346, 1.47957232, 1.20456179, 1.01572689]]])"
      ]
     },
     "execution_count": 10,
     "metadata": {},
     "output_type": "execute_result"
    }
   ],
   "source": [
    "### [your code here]\n",
    "d =  a + c\n",
    "d"
   ]
  },
  {
   "cell_type": "markdown",
   "metadata": {},
   "source": [
    "\n",
    "### 11. Print a and d. Notice the difference and relation of the two array in terms of the values? Explain.\n"
   ]
  },
  {
   "cell_type": "code",
   "execution_count": 16,
   "metadata": {},
   "outputs": [
    {
     "name": "stdout",
     "output_type": "stream",
     "text": [
      "array a\n",
      " [[[0.53132689 0.00423134 0.65010724 0.9867978  0.69092959]\n",
      "  [0.08436287 0.61680177 0.06151468 0.15796471 0.18481078]\n",
      "  [0.4583665  0.01628634 0.25347925 0.42785481 0.10516597]]\n",
      "\n",
      " [[0.93533328 0.28622853 0.24046432 0.29606169 0.14688571]\n",
      "  [0.8992071  0.61416002 0.90631764 0.597661   0.65419718]\n",
      "  [0.34086404 0.89240062 0.09047047 0.22998482 0.18157456]]]\n",
      "array d \n",
      " [[[1.53132689 1.00423134 1.65010724 1.9867978  1.69092959]\n",
      "  [1.08436287 1.61680177 1.06151468 1.15796471 1.18481078]\n",
      "  [1.4583665  1.01628634 1.25347925 1.42785481 1.10516597]]\n",
      "\n",
      " [[1.93533328 1.28622853 1.24046432 1.29606169 1.14688571]\n",
      "  [1.8992071  1.61416002 1.90631764 1.597661   1.65419718]\n",
      "  [1.34086404 1.89240062 1.09047047 1.22998482 1.18157456]]]\n"
     ]
    }
   ],
   "source": [
    "### [your code here]\n",
    "print('array a\\n' ,a)\n",
    "\n",
    "print('array d \\n' ,d)\n",
    "# nothing change except it added one to every elements \n"
   ]
  },
  {
   "cell_type": "markdown",
   "metadata": {},
   "source": [
    "\n",
    "### 12. Multiply a and c. Assign the result to e.\n"
   ]
  },
  {
   "cell_type": "code",
   "execution_count": 12,
   "metadata": {},
   "outputs": [
    {
     "data": {
      "text/plain": [
       "array([[[0.47041945, 0.26701965, 0.69191172, 0.45322405, 0.8613023 ],\n",
       "        [0.45738351, 0.05629229, 0.99060241, 0.46817383, 0.80825176],\n",
       "        [0.17037358, 0.80930108, 0.69714712, 0.34917215, 0.58395127]],\n",
       "\n",
       "       [[0.0994892 , 0.76319404, 0.56291095, 0.9500218 , 0.53167461],\n",
       "        [0.75589127, 0.96611062, 0.93105762, 0.21958591, 0.99406709],\n",
       "        [0.17319947, 0.57736346, 0.47957232, 0.20456179, 0.01572689]]])"
      ]
     },
     "execution_count": 12,
     "metadata": {},
     "output_type": "execute_result"
    }
   ],
   "source": [
    "### [your code here]\n",
    "e = a * c \n",
    "e"
   ]
  },
  {
   "cell_type": "markdown",
   "metadata": {},
   "source": [
    "\n",
    "\n",
    "### 13. Does e equal to a? Why or why not?\n"
   ]
  },
  {
   "cell_type": "code",
   "execution_count": 13,
   "metadata": {},
   "outputs": [],
   "source": [
    "### [your code here]\n",
    "\n",
    "# e is equal to a because we multiply each elements ia a by 1, so nothing change "
   ]
  },
  {
   "cell_type": "markdown",
   "metadata": {},
   "source": [
    "\n",
    "\n",
    "### 14. Identify the max, min, and mean values in d. Assign those values to variables \"d_max\", \"d_min\", and \"d_mean\"\n"
   ]
  },
  {
   "cell_type": "code",
   "execution_count": null,
   "metadata": {},
   "outputs": [
    {
     "name": "stdout",
     "output_type": "stream",
     "text": [
      "This is the max 1.9940670895809396\n",
      "This is the min 1.0157268936925585\n"
     ]
    }
   ],
   "source": [
    "### [your code here]\n",
    "\n",
    "d_max = np.max(d)  \n",
    "d_min = np.min(d)\n",
    "print('This is the max', d_max)\n",
    "print('This is the min' , d_min)"
   ]
  },
  {
   "cell_type": "markdown",
   "metadata": {},
   "source": [
    "\n",
    "### 15. Now we want to label the values in d. First create an empty array \"f\" with the same shape (i.e. 2x3x5) as d using `np.empty`.\n"
   ]
  },
  {
   "cell_type": "code",
   "execution_count": 18,
   "metadata": {},
   "outputs": [
    {
     "name": "stdout",
     "output_type": "stream",
     "text": [
      "[[[0.53132689 0.00423134 0.65010724 0.9867978  0.69092959]\n",
      "  [0.08436287 0.61680177 0.06151468 0.15796471 0.18481078]\n",
      "  [0.4583665  0.01628634 0.25347925 0.42785481 0.10516597]]\n",
      "\n",
      " [[0.93533328 0.28622853 0.24046432 0.29606169 0.14688571]\n",
      "  [0.8992071  0.61416002 0.90631764 0.597661   0.65419718]\n",
      "  [0.34086404 0.89240062 0.09047047 0.22998482 0.18157456]]]\n"
     ]
    }
   ],
   "source": [
    "### [your code here]\n",
    "shape = (2,3,5)\n",
    "f= np.empty(shape)\n",
    "print(f)"
   ]
  },
  {
   "cell_type": "markdown",
   "metadata": {},
   "source": [
    "\n",
    "\n",
    "\n",
    "### 16. Populate the values in f. For each value in d, if it's larger than d_min but smaller than d_mean, assign 25 to the corresponding value in f.\n",
    "If a value in d is larger than d_mean but smaller than d_max, assign 75 to the corresponding value in f.\n",
    "If a value equals to d_mean, assign 50 to the corresponding value in f.\n",
    "Assign 0 to the corresponding value(s) in f for d_min in d.\n",
    "Assign 100 to the corresponding value(s) in f for d_max in d.\n",
    "In the end, f should have only the following values: 0, 25, 50, 75, and 100.\n",
    "Note: you don't have to use Numpy in this question.\n",
    "\n"
   ]
  },
  {
   "cell_type": "code",
   "execution_count": 23,
   "metadata": {},
   "outputs": [
    {
     "name": "stdout",
     "output_type": "stream",
     "text": [
      "This is the mean 1.4180603831788086\n",
      "This is the max 1.9867977975274058\n",
      "This is the min 1.0042313386948716\n",
      "[[[1.53132689 1.00423134 1.65010724 1.9867978  1.69092959]\n",
      "  [1.08436287 1.61680177 1.06151468 1.15796471 1.18481078]\n",
      "  [1.4583665  1.01628634 1.25347925 1.42785481 1.10516597]]\n",
      "\n",
      " [[1.93533328 1.28622853 1.24046432 1.29606169 1.14688571]\n",
      "  [1.8992071  1.61416002 1.90631764 1.597661   1.65419718]\n",
      "  [1.34086404 1.89240062 1.09047047 1.22998482 1.18157456]]]\n",
      "[[[ 75.   0.  75. 100.  75.]\n",
      "  [ 25.  75.  25.  25.  25.]\n",
      "  [ 75.  25.  25.  75.  25.]]\n",
      "\n",
      " [[ 75.  25.  25.  25.  25.]\n",
      "  [ 75.  75.  75.  75.  75.]\n",
      "  [ 25.  75.  25.  25.  25.]]]\n"
     ]
    }
   ],
   "source": [
    "### [your code here]\n",
    "d_mean = np.mean(d)\n",
    "\n",
    "print('This is the mean', d_mean)\n",
    "print('This is the max', d_max)\n",
    "print('This is the min', d_min)\n",
    "print(d)\n",
    "for i in range(len(d)):\n",
    "    for j in range(len(d[i])):\n",
    "        for k in range(len(d[i][j])):\n",
    "            value = d[i][j][k]\n",
    "            if value == d_min:\n",
    "                f[i][j][k] = 0\n",
    "            elif value == d_mean:\n",
    "                f[i][j][k] = 50\n",
    "            elif value == d_max:\n",
    "                f[i][j][k] = 100\n",
    "            elif d_min < value < d_mean:\n",
    "                f[i][j][k] = 25\n",
    "            elif d_mean < value < d_max:\n",
    "                f[i][j][k] = 75\n",
    "\n",
    "print(f)   \n"
   ]
  },
  {
   "cell_type": "markdown",
   "metadata": {},
   "source": [
    "\n",
    "\n",
    "\n",
    "\n",
    "### 17. Print d and f. Do you have your expected f?\n",
    "For instance, if your d is:\n",
    "array([[[1.85836099, 1.67064465, 1.62576044, 1.40243961, 1.88454931],\n",
    "        [1.75354326, 1.69403643, 1.36729252, 1.61415071, 1.12104981],\n",
    "        [1.72201435, 1.1862918 , 1.87078449, 1.7726778 , 1.88180042]],\n",
    "\n",
    "       [[1.44747908, 1.31673383, 1.02000951, 1.52218947, 1.97066381],\n",
    "        [1.79129243, 1.74983003, 1.96028037, 1.85166831, 1.65450881],\n",
    "        [1.18068344, 1.9587381 , 1.00656599, 1.93402165, 1.73514584]]])\n",
    "\n",
    "Your f should be:\n",
    "array([[[ 75.,  75.,  75.,  25.,  75.],\n",
    "        [ 75.,  75.,  25.,  25.,  25.],\n",
    "        [ 75.,  25.,  75.,  75.,  75.]],\n",
    "\n",
    "       [[ 25.,  25.,  25.,  25., 100.],\n",
    "        [ 75.,  75.,  75.,  75.,  75.],\n",
    "        [ 25.,  75.,   0.,  75.,  75.]]])\n",
    "\n"
   ]
  },
  {
   "cell_type": "code",
   "execution_count": 24,
   "metadata": {},
   "outputs": [
    {
     "name": "stdout",
     "output_type": "stream",
     "text": [
      "[[[1.53132689 1.00423134 1.65010724 1.9867978  1.69092959]\n",
      "  [1.08436287 1.61680177 1.06151468 1.15796471 1.18481078]\n",
      "  [1.4583665  1.01628634 1.25347925 1.42785481 1.10516597]]\n",
      "\n",
      " [[1.93533328 1.28622853 1.24046432 1.29606169 1.14688571]\n",
      "  [1.8992071  1.61416002 1.90631764 1.597661   1.65419718]\n",
      "  [1.34086404 1.89240062 1.09047047 1.22998482 1.18157456]]]\n",
      "[[[ 75.   0.  75. 100.  75.]\n",
      "  [ 25.  75.  25.  25.  25.]\n",
      "  [ 75.  25.  25.  75.  25.]]\n",
      "\n",
      " [[ 75.  25.  25.  25.  25.]\n",
      "  [ 75.  75.  75.  75.  75.]\n",
      "  [ 25.  75.  25.  25.  25.]]]\n"
     ]
    }
   ],
   "source": [
    "### [your code here]\n",
    "print (d)\n",
    "print (f)"
   ]
  },
  {
   "cell_type": "markdown",
   "metadata": {},
   "source": [
    "### 18. Bonus question: instead of using numbers (i.e. 0, 25, 50, 75, and 100), how to use string values \n",
    "(\"A\", \"B\", \"C\", \"D\", and \"E\") to label the array elements? You are expecting the result to be:\n",
    "array([[[ 'D',  'D',  'D',  'B',  'D'],\n",
    "        [ 'D',  'D',  'B',  'B',  'B'],\n",
    "        [ 'D',  'B',  'D',  'D',  'D']],\n",
    "\n",
    "       [[ 'B',  'B',  'B',  'B',  'E'],\n",
    "        [ 'D',  'D',  'D',  'D',  'D'],\n",
    "        [ 'B',  'D',   'A',  'D', 'D']]])\n",
    "Again, you don't need Numpy in this question."
   ]
  },
  {
   "cell_type": "code",
   "execution_count": 26,
   "metadata": {},
   "outputs": [],
   "source": [
    "f_s = np.empty(d.shape , dtype=str)"
   ]
  },
  {
   "cell_type": "code",
   "execution_count": 35,
   "metadata": {},
   "outputs": [
    {
     "data": {
      "text/plain": [
       "array([[['D', 'A', 'D', 'E', 'D'],\n",
       "        ['B', 'D', 'B', 'B', 'B'],\n",
       "        ['D', 'B', 'B', 'D', 'B']],\n",
       "\n",
       "       [['D', 'B', 'B', 'B', 'B'],\n",
       "        ['D', 'D', 'D', 'D', 'D'],\n",
       "        ['B', 'D', 'B', 'B', 'B']]], dtype='<U1')"
      ]
     },
     "execution_count": 35,
     "metadata": {},
     "output_type": "execute_result"
    }
   ],
   "source": [
    "### [your code here]\n",
    "f_s[f==0] = 'A'\n",
    "f_s[f==25] = 'B'\n",
    "f_s[f==50] = 'C'\n",
    "f_s[f==75] = 'D'\n",
    "f_s[f==100] = 'E'\n",
    "\n",
    "\n",
    "f_s"
   ]
  },
  {
   "cell_type": "code",
   "execution_count": null,
   "metadata": {},
   "outputs": [],
   "source": []
  }
 ],
 "metadata": {
  "kernelspec": {
   "display_name": "Python 3 (ipykernel)",
   "language": "python",
   "name": "python3"
  },
  "language_info": {
   "codemirror_mode": {
    "name": "ipython",
    "version": 3
   },
   "file_extension": ".py",
   "mimetype": "text/x-python",
   "name": "python",
   "nbconvert_exporter": "python",
   "pygments_lexer": "ipython3",
   "version": "3.10.9"
  }
 },
 "nbformat": 4,
 "nbformat_minor": 2
}
