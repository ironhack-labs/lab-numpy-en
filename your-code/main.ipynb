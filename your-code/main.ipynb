{
 "cells": [
  {
   "cell_type": "markdown",
   "metadata": {},
   "source": [
    "#Import the NUMPY package under the name np."
   ]
  },
  {
   "cell_type": "code",
   "execution_count": 3,
   "metadata": {},
   "outputs": [],
   "source": [
    "import numpy as np\n",
    "import random   "
   ]
  },
  {
   "cell_type": "markdown",
   "metadata": {},
   "source": [
    "Print the NUMPY version and the configuration."
   ]
  },
  {
   "cell_type": "code",
   "execution_count": 4,
   "metadata": {},
   "outputs": [
    {
     "name": "stdout",
     "output_type": "stream",
     "text": [
      "1.26.4\n",
      "Build Dependencies:\n",
      "  blas:\n",
      "    detection method: pkgconfig\n",
      "    found: true\n",
      "    include directory: /opt/anaconda3/include\n",
      "    lib directory: /opt/anaconda3/lib\n",
      "    name: openblas\n",
      "    openblas configuration: USE_64BITINT= DYNAMIC_ARCH=1 DYNAMIC_OLDER= NO_CBLAS=\n",
      "      NO_LAPACK=0 NO_LAPACKE= NO_AFFINITY=1 USE_OPENMP=0 VORTEX MAX_THREADS=128\n",
      "    pc file directory: /opt/anaconda3/lib/pkgconfig\n",
      "    version: 0.3.21\n",
      "  lapack:\n",
      "    detection method: internal\n",
      "    found: true\n",
      "    include directory: unknown\n",
      "    lib directory: unknown\n",
      "    name: dep4347739648\n",
      "    openblas configuration: unknown\n",
      "    pc file directory: unknown\n",
      "    version: 1.26.4\n",
      "Compilers:\n",
      "  c:\n",
      "    args: -ftree-vectorize, -fPIC, -fPIE, -fstack-protector-strong, -O2, -pipe, -isystem,\n",
      "      /opt/anaconda3/include, -fdebug-prefix-map=/var/folders/k1/30mswbxs7r1g6zwn8y4fyt500000gp/T/abs_a51i_mbs7m/croot/numpy_and_numpy_base_1708638620867/work=/usr/local/src/conda/numpy-base-1.26.4,\n",
      "      -fdebug-prefix-map=/opt/anaconda3=/usr/local/src/conda-prefix, -D_FORTIFY_SOURCE=2,\n",
      "      -isystem, /opt/anaconda3/include, -mmacosx-version-min=11.1\n",
      "    commands: arm64-apple-darwin20.0.0-clang\n",
      "    linker: ld64\n",
      "    linker args: -Wl,-pie, -Wl,-headerpad_max_install_names, -Wl,-dead_strip_dylibs,\n",
      "      -Wl,-rpath,/opt/anaconda3/lib, -L/opt/anaconda3/lib, -ftree-vectorize, -fPIC,\n",
      "      -fPIE, -fstack-protector-strong, -O2, -pipe, -isystem, /opt/anaconda3/include,\n",
      "      -fdebug-prefix-map=/var/folders/k1/30mswbxs7r1g6zwn8y4fyt500000gp/T/abs_a51i_mbs7m/croot/numpy_and_numpy_base_1708638620867/work=/usr/local/src/conda/numpy-base-1.26.4,\n",
      "      -fdebug-prefix-map=/opt/anaconda3=/usr/local/src/conda-prefix, -D_FORTIFY_SOURCE=2,\n",
      "      -isystem, /opt/anaconda3/include, -mmacosx-version-min=11.1\n",
      "    name: clang\n",
      "    version: 14.0.6\n",
      "  c++:\n",
      "    args: -ftree-vectorize, -fPIC, -fPIE, -fstack-protector-strong, -O2, -pipe, -stdlib=libc++,\n",
      "      -fvisibility-inlines-hidden, -fmessage-length=0, -isystem, /opt/anaconda3/include,\n",
      "      -fdebug-prefix-map=/var/folders/k1/30mswbxs7r1g6zwn8y4fyt500000gp/T/abs_a51i_mbs7m/croot/numpy_and_numpy_base_1708638620867/work=/usr/local/src/conda/numpy-base-1.26.4,\n",
      "      -fdebug-prefix-map=/opt/anaconda3=/usr/local/src/conda-prefix, -D_FORTIFY_SOURCE=2,\n",
      "      -isystem, /opt/anaconda3/include, -mmacosx-version-min=11.1\n",
      "    commands: arm64-apple-darwin20.0.0-clang++\n",
      "    linker: ld64\n",
      "    linker args: -Wl,-pie, -Wl,-headerpad_max_install_names, -Wl,-dead_strip_dylibs,\n",
      "      -Wl,-rpath,/opt/anaconda3/lib, -L/opt/anaconda3/lib, -ftree-vectorize, -fPIC,\n",
      "      -fPIE, -fstack-protector-strong, -O2, -pipe, -stdlib=libc++, -fvisibility-inlines-hidden,\n",
      "      -fmessage-length=0, -isystem, /opt/anaconda3/include, -fdebug-prefix-map=/var/folders/k1/30mswbxs7r1g6zwn8y4fyt500000gp/T/abs_a51i_mbs7m/croot/numpy_and_numpy_base_1708638620867/work=/usr/local/src/conda/numpy-base-1.26.4,\n",
      "      -fdebug-prefix-map=/opt/anaconda3=/usr/local/src/conda-prefix, -D_FORTIFY_SOURCE=2,\n",
      "      -isystem, /opt/anaconda3/include, -mmacosx-version-min=11.1\n",
      "    name: clang\n",
      "    version: 14.0.6\n",
      "  cython:\n",
      "    commands: cython\n",
      "    linker: cython\n",
      "    name: cython\n",
      "    version: 3.0.8\n",
      "Machine Information:\n",
      "  build:\n",
      "    cpu: aarch64\n",
      "    endian: little\n",
      "    family: aarch64\n",
      "    system: darwin\n",
      "  host:\n",
      "    cpu: aarch64\n",
      "    endian: little\n",
      "    family: aarch64\n",
      "    system: darwin\n",
      "Python Information:\n",
      "  path: /opt/anaconda3/bin/python\n",
      "  version: '3.12'\n",
      "SIMD Extensions:\n",
      "  baseline:\n",
      "  - NEON\n",
      "  - NEON_FP16\n",
      "  - NEON_VFPV4\n",
      "  - ASIMD\n",
      "  found:\n",
      "  - ASIMDHP\n",
      "  not found:\n",
      "  - ASIMDFHM\n",
      "\n"
     ]
    }
   ],
   "source": [
    "print(np.__version__)\n",
    "np.show_config()"
   ]
  },
  {
   "cell_type": "markdown",
   "metadata": {},
   "source": [
    "3. Generate a 2x3x5 3-dimensional array with random values. Assign the array to variable \"a\" Challenge: there are at least three easy ways that use numpy to generate random arrays. How many ways can you find?"
   ]
  },
  {
   "cell_type": "code",
   "execution_count": 5,
   "metadata": {},
   "outputs": [],
   "source": [
    "#Option 1\n",
    "a = np.random.random((2, 3, 5))\n",
    "#Option 2\n",
    "a2 = np.random.randint(1, 101, size=(2, 3, 5))\n",
    "#Option 3\n",
    "a3 = np.array([[[random.randint(1, 100) for _ in range(5)] for _ in range(3)] for _ in range(2)])"
   ]
  },
  {
   "cell_type": "markdown",
   "metadata": {},
   "source": [
    "4. Print a."
   ]
  },
  {
   "cell_type": "code",
   "execution_count": 6,
   "metadata": {},
   "outputs": [
    {
     "name": "stdout",
     "output_type": "stream",
     "text": [
      "array a(random): \n",
      " [[[0.51240238 0.13965048 0.81677329 0.14906089 0.04307697]\n",
      "  [0.868377   0.07001214 0.5157456  0.30566046 0.22735932]\n",
      "  [0.97308628 0.14652076 0.41214279 0.34456002 0.57598029]]\n",
      "\n",
      " [[0.94609191 0.63929019 0.97996358 0.4500628  0.4509456 ]\n",
      "  [0.10914408 0.38154968 0.52138138 0.79060221 0.94087444]\n",
      "  [0.40692559 0.29052491 0.13116664 0.39691956 0.47559041]]]\n",
      "array a2(randint): \n",
      " [[[ 4 56  2 82 19]\n",
      "  [16 48 74 61 23]\n",
      "  [84  7 67 21 42]]\n",
      "\n",
      " [[14 39 95 69 94]\n",
      "  [51 16 75 77 86]\n",
      "  [31 87 43 11 91]]]\n",
      "array a3(list): \n",
      " [[[ 77  90  14  51  52]\n",
      "  [ 71  73  27  43  89]\n",
      "  [ 29  75  40   3  43]]\n",
      "\n",
      " [[ 13  47  36  22 100]\n",
      "  [ 52  91  17  17  21]\n",
      "  [  6  95  75  78   4]]]\n"
     ]
    }
   ],
   "source": [
    "print(f\"array a(random): \\n {a}\")\n",
    "\n",
    "print(f\"array a2(randint): \\n {a2}\")\n",
    "\n",
    "print(f\"array a3(list): \\n {a3}\")"
   ]
  },
  {
   "cell_type": "markdown",
   "metadata": {},
   "source": [
    "5. Create a 5x2x3 3-dimensional array with all values equaling 1. Assign the array to variable \"b\""
   ]
  },
  {
   "cell_type": "code",
   "execution_count": 7,
   "metadata": {},
   "outputs": [],
   "source": [
    "# b = a3 = np.array([[[1 for _ in range(5)] for _ in range(2)] for _ in range(3)])\n",
    "b = np.ones((5, 2, 3))"
   ]
  },
  {
   "cell_type": "markdown",
   "metadata": {},
   "source": [
    "6. Print B"
   ]
  },
  {
   "cell_type": "code",
   "execution_count": 8,
   "metadata": {},
   "outputs": [
    {
     "name": "stdout",
     "output_type": "stream",
     "text": [
      "[[[1. 1. 1.]\n",
      "  [1. 1. 1.]]\n",
      "\n",
      " [[1. 1. 1.]\n",
      "  [1. 1. 1.]]\n",
      "\n",
      " [[1. 1. 1.]\n",
      "  [1. 1. 1.]]\n",
      "\n",
      " [[1. 1. 1.]\n",
      "  [1. 1. 1.]]\n",
      "\n",
      " [[1. 1. 1.]\n",
      "  [1. 1. 1.]]]\n"
     ]
    }
   ],
   "source": [
    "print(b)\n",
    "# print(b2)"
   ]
  },
  {
   "cell_type": "markdown",
   "metadata": {},
   "source": [
    "7. Do a and b have the same size? How do you prove that in Python code?"
   ]
  },
  {
   "cell_type": "code",
   "execution_count": 9,
   "metadata": {},
   "outputs": [
    {
     "name": "stdout",
     "output_type": "stream",
     "text": [
      "True\n"
     ]
    }
   ],
   "source": [
    "size_a = a.size\n",
    "size_b = b.size\n",
    "\n",
    "print(size_a== size_b)"
   ]
  },
  {
   "cell_type": "markdown",
   "metadata": {},
   "source": [
    "8. Are you able to add a and b? Why or why not?"
   ]
  },
  {
   "cell_type": "code",
   "execution_count": null,
   "metadata": {},
   "outputs": [],
   "source": [
    "#Not possible due to the different shape, but it could work if reshaped to the same size."
   ]
  },
  {
   "cell_type": "markdown",
   "metadata": {},
   "source": [
    "9. Transpose b so that it has the same structure of a (i.e. become a 2x3x5 array). Assign the transposed array to varialbe \"c\"."
   ]
  },
  {
   "cell_type": "code",
   "execution_count": 10,
   "metadata": {},
   "outputs": [
    {
     "name": "stdout",
     "output_type": "stream",
     "text": [
      "[[[1. 1. 1. 1. 1.]\n",
      "  [1. 1. 1. 1. 1.]\n",
      "  [1. 1. 1. 1. 1.]]\n",
      "\n",
      " [[1. 1. 1. 1. 1.]\n",
      "  [1. 1. 1. 1. 1.]\n",
      "  [1. 1. 1. 1. 1.]]]\n"
     ]
    }
   ],
   "source": [
    "c = b.reshape(2,3,5)\n",
    "print(c)"
   ]
  },
  {
   "cell_type": "markdown",
   "metadata": {},
   "source": [
    "10. Try to add a and c. Now it should work. Assign the sum to varialbe \"d\". But why does it work now?"
   ]
  },
  {
   "cell_type": "code",
   "execution_count": 11,
   "metadata": {},
   "outputs": [
    {
     "name": "stdout",
     "output_type": "stream",
     "text": [
      "[[[1.51240238 1.13965048 1.81677329 1.14906089 1.04307697]\n",
      "  [1.868377   1.07001214 1.5157456  1.30566046 1.22735932]\n",
      "  [1.97308628 1.14652076 1.41214279 1.34456002 1.57598029]]\n",
      "\n",
      " [[1.94609191 1.63929019 1.97996358 1.4500628  1.4509456 ]\n",
      "  [1.10914408 1.38154968 1.52138138 1.79060221 1.94087444]\n",
      "  [1.40692559 1.29052491 1.13116664 1.39691956 1.47559041]]]\n"
     ]
    }
   ],
   "source": [
    "d = a + c\n",
    "\n",
    "print(d)"
   ]
  },
  {
   "cell_type": "markdown",
   "metadata": {},
   "source": [
    "11. Print a and d. Notice the difference and relation of the two array in terms of the values? Explain."
   ]
  },
  {
   "cell_type": "code",
   "execution_count": 12,
   "metadata": {},
   "outputs": [
    {
     "name": "stdout",
     "output_type": "stream",
     "text": [
      " a: \n",
      "[[[0.51240238 0.13965048 0.81677329 0.14906089 0.04307697]\n",
      "  [0.868377   0.07001214 0.5157456  0.30566046 0.22735932]\n",
      "  [0.97308628 0.14652076 0.41214279 0.34456002 0.57598029]]\n",
      "\n",
      " [[0.94609191 0.63929019 0.97996358 0.4500628  0.4509456 ]\n",
      "  [0.10914408 0.38154968 0.52138138 0.79060221 0.94087444]\n",
      "  [0.40692559 0.29052491 0.13116664 0.39691956 0.47559041]]]\n",
      " d: \n",
      "[[[1.51240238 1.13965048 1.81677329 1.14906089 1.04307697]\n",
      "  [1.868377   1.07001214 1.5157456  1.30566046 1.22735932]\n",
      "  [1.97308628 1.14652076 1.41214279 1.34456002 1.57598029]]\n",
      "\n",
      " [[1.94609191 1.63929019 1.97996358 1.4500628  1.4509456 ]\n",
      "  [1.10914408 1.38154968 1.52138138 1.79060221 1.94087444]\n",
      "  [1.40692559 1.29052491 1.13116664 1.39691956 1.47559041]]]\n"
     ]
    }
   ],
   "source": [
    "print(f\" a: \\n{a}\")\n",
    "print(f\" d: \\n{d}\")"
   ]
  },
  {
   "cell_type": "markdown",
   "metadata": {},
   "source": [
    "12. Multiply a and c. Assign the result to e."
   ]
  },
  {
   "cell_type": "code",
   "execution_count": 13,
   "metadata": {},
   "outputs": [
    {
     "name": "stdout",
     "output_type": "stream",
     "text": [
      "[[[0.51240238 0.13965048 0.81677329 0.14906089 0.04307697]\n",
      "  [0.868377   0.07001214 0.5157456  0.30566046 0.22735932]\n",
      "  [0.97308628 0.14652076 0.41214279 0.34456002 0.57598029]]\n",
      "\n",
      " [[0.94609191 0.63929019 0.97996358 0.4500628  0.4509456 ]\n",
      "  [0.10914408 0.38154968 0.52138138 0.79060221 0.94087444]\n",
      "  [0.40692559 0.29052491 0.13116664 0.39691956 0.47559041]]]\n"
     ]
    }
   ],
   "source": [
    "e = a * c\n",
    "print(e)"
   ]
  },
  {
   "cell_type": "markdown",
   "metadata": {},
   "source": [
    "13. Does e equal to a? Why or why not?"
   ]
  },
  {
   "cell_type": "code",
   "execution_count": null,
   "metadata": {},
   "outputs": [],
   "source": [
    "# Yes, because 1(c) times anything (a) is always (a)."
   ]
  },
  {
   "cell_type": "markdown",
   "metadata": {},
   "source": [
    "14. Identify the max, min, and mean values in d. Assign those values to variables \"d_max\", \"d_min\", and \"d_mean\""
   ]
  },
  {
   "cell_type": "code",
   "execution_count": 14,
   "metadata": {},
   "outputs": [
    {
     "name": "stdout",
     "output_type": "stream",
     "text": [
      "d_max: 1.9799635841962366 \n",
      "d_min_ 1.0430769692883715 \n",
      "d_mean: 1.4670480558944556\n"
     ]
    }
   ],
   "source": [
    "d_max = np.max(d)\n",
    "d_min = np.min(d)\n",
    "d_mean = np.mean(d)\n",
    "print(f\"d_max: {d_max} \\nd_min_ {d_min} \\nd_mean: {d_mean}\")"
   ]
  },
  {
   "cell_type": "markdown",
   "metadata": {},
   "source": [
    "15. Now we want to label the values in d. First create an empty array \"f\" with the same shape (i.e. 2x3x5) as d using"
   ]
  },
  {
   "cell_type": "code",
   "execution_count": 15,
   "metadata": {},
   "outputs": [
    {
     "name": "stdout",
     "output_type": "stream",
     "text": [
      "[[[0.51240238 0.13965048 0.81677329 0.14906089 0.04307697]\n",
      "  [0.868377   0.07001214 0.5157456  0.30566046 0.22735932]\n",
      "  [0.97308628 0.14652076 0.41214279 0.34456002 0.57598029]]\n",
      "\n",
      " [[0.94609191 0.63929019 0.97996358 0.4500628  0.4509456 ]\n",
      "  [0.10914408 0.38154968 0.52138138 0.79060221 0.94087444]\n",
      "  [0.40692559 0.29052491 0.13116664 0.39691956 0.47559041]]]\n"
     ]
    }
   ],
   "source": [
    "f = np.empty((2, 3, 5))\n",
    "print(f)"
   ]
  },
  {
   "cell_type": "markdown",
   "metadata": {},
   "source": [
    "16. Populate the values in f. For each value in d, if it's larger than d_min but smaller than d_mean, assign 25 to the corresponding value in f."
   ]
  },
  {
   "cell_type": "markdown",
   "metadata": {},
   "source": [
    "If a value in d is larger than d_mean but smaller than d_max, assign 75 to the corresponding value in f.\n",
    "\n",
    "If a value equals to d_mean, assign 50 to the corresponding value in f.\n",
    "\n",
    "Assign 0 to the corresponding value(s) in f for d_min in d.\n",
    "\n",
    "Assign 100 to the corresponding value(s) in f for d_max in d.\n",
    "\n",
    "In the end, f should have only the following values: 0, 25, 50, 75, and 100.\n",
    "\n",
    "Note: you don't have to use Numpy in this question"
   ]
  },
  {
   "cell_type": "code",
   "execution_count": 16,
   "metadata": {},
   "outputs": [
    {
     "name": "stdout",
     "output_type": "stream",
     "text": [
      "d_max: 1.97066381 \n",
      "d_min_ 1.00656599 \n",
      "d_mean: 1.6175069086666667\n",
      " array is: \n",
      " [[[ 75.  75.  75.  25.  75.]\n",
      "  [ 75.  75.  25.  25.  25.]\n",
      "  [ 75.  25.  75.  75.  75.]]\n",
      "\n",
      " [[ 25.  25.  25.  25. 100.]\n",
      "  [ 75.  75.  75.  75.  75.]\n",
      "  [ 25.  75.   0.  75.  75.]]]\n"
     ]
    }
   ],
   "source": [
    "d = np.array([[[1.85836099, 1.67064465, 1.62576044, 1.40243961, 1.88454931],\n",
    "        [1.75354326, 1.69403643, 1.36729252, 1.61415071, 1.12104981],\n",
    "        [1.72201435, 1.1862918 , 1.87078449, 1.7726778 , 1.88180042]],\n",
    "\n",
    "       [[1.44747908, 1.31673383, 1.02000951, 1.52218947, 1.97066381],\n",
    "        [1.79129243, 1.74983003, 1.96028037, 1.85166831, 1.65450881],\n",
    "        [1.18068344, 1.9587381 , 1.00656599, 1.93402165, 1.73514584]]])\n",
    "\n",
    "d_max = np.max(d)\n",
    "d_min = np.min(d)\n",
    "d_mean = np.mean(d)\n",
    "print(f\"d_max: {d_max} \\nd_min_ {d_min} \\nd_mean: {d_mean}\")\n",
    "\n",
    "for ma, matrix in enumerate(d):\n",
    "    for ro, row in enumerate(matrix):\n",
    "        for el, element in enumerate(row):\n",
    "            if d_mean > element > d_min:\n",
    "                f[ma][ro][el] = 25\n",
    "            elif element == d_max:\n",
    "                f[ma][ro][el] = 100\n",
    "            elif d_max > element > d_mean: \n",
    "                f[ma][ro][el] = 75    \n",
    "            elif element > d_mean:\n",
    "                f[ma][ro][el] = 50\n",
    "            elif element == d_min:\n",
    "                f[ma][ro][el] = 0\n",
    "            \n",
    "print(f\" array is: \\n {f}\")     "
   ]
  },
  {
   "cell_type": "markdown",
   "metadata": {},
   "source": [
    "17. Print d and f. Do you have your expected f? For instance, if your d is: array([[[1.85836099, 1.67064465, 1.62576044, 1.40243961, 1.88454931], [1.75354326, 1.69403643, 1.36729252, 1.61415071, 1.12104981], [1.72201435, 1.1862918 , 1.87078449, 1.7726778 , 1.88180042]],\n",
    "\n",
    "[[1.44747908, 1.31673383, 1.02000951, 1.52218947, 1.97066381], [1.79129243, 1.74983003, 1.96028037, 1.85166831, 1.65450881], [1.18068344, 1.9587381 , 1.00656599, 1.93402165, 1.73514584]]])\n",
    "\n",
    "Your f should be: array([[[ 75., 75., 75., 25., 75.], [ 75., 75., 25., 25., 25.], [ 75., 25., 75., 75., 75.]],\n",
    "\n",
    "   [[ 25.,  25.,  25.,  25., 100.],\n",
    "    [ 75.,  75.,  75.,  75.,  75.],\n",
    "    [ 25.,  75.,   0.,  75.,  75.]]])"
   ]
  },
  {
   "cell_type": "code",
   "execution_count": 17,
   "metadata": {},
   "outputs": [
    {
     "name": "stdout",
     "output_type": "stream",
     "text": [
      "d: \n",
      " [[[1.85836099 1.67064465 1.62576044 1.40243961 1.88454931]\n",
      "  [1.75354326 1.69403643 1.36729252 1.61415071 1.12104981]\n",
      "  [1.72201435 1.1862918  1.87078449 1.7726778  1.88180042]]\n",
      "\n",
      " [[1.44747908 1.31673383 1.02000951 1.52218947 1.97066381]\n",
      "  [1.79129243 1.74983003 1.96028037 1.85166831 1.65450881]\n",
      "  [1.18068344 1.9587381  1.00656599 1.93402165 1.73514584]]]\n",
      "3\n",
      "f: \n",
      " [[[ 75.  75.  75.  25.  75.]\n",
      "  [ 75.  75.  25.  25.  25.]\n",
      "  [ 75.  25.  75.  75.  75.]]\n",
      "\n",
      " [[ 25.  25.  25.  25. 100.]\n",
      "  [ 75.  75.  75.  75.  75.]\n",
      "  [ 25.  75.   0.  75.  75.]]]\n",
      "d_max: 1.97066381 \n",
      "d_min_ 1.00656599 \n",
      "d_mean: 1.6175069086666667\n"
     ]
    }
   ],
   "source": [
    "print(f\"d: \\n {d}\") \n",
    "print(d.ndim)\n",
    "print(f\"f: \\n {f}\") \n",
    "print(f\"d_max: {d_max} \\nd_min_ {d_min} \\nd_mean: {d_mean}\")"
   ]
  },
  {
   "cell_type": "markdown",
   "metadata": {},
   "source": [
    "18. Bonus question: instead of using numbers (i.e. 0, 25, 50, 75, and 100), how to use string values (\"A\", \"B\", \"C\", \"D\", and \"E\") to label the array elements? You are expecting the result to be: array([[[ 'D', 'D', 'D', 'B', 'D'], [ 'D', 'D', 'B', 'B', 'B'], [ 'D', 'B', 'D', 'D', 'D']],\n",
    "\n",
    "[[ 'B', 'B', 'B', 'B', 'E'], [ 'D', 'D', 'D', 'D', 'D'], [ 'B', 'D', 'A', 'D', 'D']]]) Again, you don't need Numpy in this question."
   ]
  },
  {
   "cell_type": "code",
   "execution_count": 18,
   "metadata": {},
   "outputs": [
    {
     "name": "stdout",
     "output_type": "stream",
     "text": [
      "d_max: 1.97066381 \n",
      "d_min_ 1.00656599 \n",
      "d_mean: 1.6175069086666667\n",
      " array is: \n",
      " [[['D' 'D' 'D' 'B' 'D']\n",
      "  ['D' 'D' 'B' 'B' 'B']\n",
      "  ['D' 'B' 'D' 'D' 'D']]\n",
      "\n",
      " [['B' 'B' 'B' 'B' 'E']\n",
      "  ['D' 'D' 'D' 'D' 'D']\n",
      "  ['B' 'D' 'A' 'D' 'D']]]\n"
     ]
    }
   ],
   "source": [
    "d = np.array([[[1.85836099, 1.67064465, 1.62576044, 1.40243961, 1.88454931],\n",
    "        [1.75354326, 1.69403643, 1.36729252, 1.61415071, 1.12104981],\n",
    "        [1.72201435, 1.1862918 , 1.87078449, 1.7726778 , 1.88180042]],\n",
    "\n",
    "       [[1.44747908, 1.31673383, 1.02000951, 1.52218947, 1.97066381],\n",
    "        [1.79129243, 1.74983003, 1.96028037, 1.85166831, 1.65450881],\n",
    "        [1.18068344, 1.9587381 , 1.00656599, 1.93402165, 1.73514584]]])\n",
    "f = np.empty((2, 3, 5), dtype=str)\n",
    "d_max = np.max(d)\n",
    "d_min = np.min(d)\n",
    "d_mean = np.mean(d)\n",
    "print(f\"d_max: {d_max} \\nd_min_ {d_min} \\nd_mean: {d_mean}\")\n",
    "\n",
    "for ma, matrix in enumerate(d):\n",
    "    for ro, row in enumerate(matrix):\n",
    "        for el, element in enumerate(row):\n",
    "            if d_mean > element > d_min:\n",
    "                f[ma][ro][el] = \"B\" \n",
    "            elif element == d_max:\n",
    "                f[ma][ro][el] = \"E\"\n",
    "            elif d_max > element > d_mean: \n",
    "                f[ma][ro][el] = \"D\"    \n",
    "            elif element > d_mean:\n",
    "                f[ma][ro][el] = \"B\"\n",
    "            elif element == d_min:\n",
    "                f[ma][ro][el] = \"A\"\n",
    "\n",
    "print(f\" array is: \\n {f}\")     "
   ]
  }
 ],
 "metadata": {
  "kernelspec": {
   "display_name": "base",
   "language": "python",
   "name": "python3"
  },
  "language_info": {
   "codemirror_mode": {
    "name": "ipython",
    "version": 3
   },
   "file_extension": ".py",
   "mimetype": "text/x-python",
   "name": "python",
   "nbconvert_exporter": "python",
   "pygments_lexer": "ipython3",
   "version": "3.12.4"
  }
 },
 "nbformat": 4,
 "nbformat_minor": 2
}
