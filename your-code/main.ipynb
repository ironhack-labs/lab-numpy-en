{
 "cells": [
  {
   "cell_type": "markdown",
   "metadata": {},
   "source": [
    "# Lab | Numpy Deep Dive"
   ]
  },
  {
   "cell_type": "markdown",
   "metadata": {},
   "source": [
    "### 1. Import the NUMPY package under the name np.\n"
   ]
  },
  {
   "cell_type": "code",
   "execution_count": 2,
   "metadata": {},
   "outputs": [],
   "source": [
    "import numpy as np"
   ]
  },
  {
   "cell_type": "markdown",
   "metadata": {},
   "source": [
    "\n",
    "\n",
    "### 2. Print the NUMPY version and the configuration.\n"
   ]
  },
  {
   "cell_type": "code",
   "execution_count": 3,
   "metadata": {},
   "outputs": [
    {
     "name": "stdout",
     "output_type": "stream",
     "text": [
      "NumPy Version :  1.26.4\n",
      "Build Dependencies:\n",
      "  blas:\n",
      "    detection method: pkgconfig\n",
      "    found: true\n",
      "    include directory: /Users/raneem/Library/jupyterlab-desktop/jlab_server/include\n",
      "    lib directory: /Users/raneem/Library/jupyterlab-desktop/jlab_server/lib\n",
      "    name: blas\n",
      "    openblas configuration: unknown\n",
      "    pc file directory: /Users/raneem/Library/jupyterlab-desktop/jlab_server/lib/pkgconfig\n",
      "    version: 3.9.0\n",
      "  lapack:\n",
      "    detection method: internal\n",
      "    found: true\n",
      "    include directory: unknown\n",
      "    lib directory: unknown\n",
      "    name: dep4569863840\n",
      "    openblas configuration: unknown\n",
      "    pc file directory: unknown\n",
      "    version: 1.26.4\n",
      "Compilers:\n",
      "  c:\n",
      "    args: -ftree-vectorize, -fPIC, -fstack-protector-strong, -O2, -pipe, -isystem,\n",
      "      /Users/raneem/Library/jupyterlab-desktop/jlab_server/include, -fdebug-prefix-map=/Users/runner/miniforge3/conda-bld/numpy_1707225421156/work=/usr/local/src/conda/numpy-1.26.4,\n",
      "      -fdebug-prefix-map=/Users/raneem/Library/jupyterlab-desktop/jlab_server=/usr/local/src/conda-prefix,\n",
      "      -D_FORTIFY_SOURCE=2, -isystem, /Users/raneem/Library/jupyterlab-desktop/jlab_server/include,\n",
      "      -mmacosx-version-min=11.0\n",
      "    commands: arm64-apple-darwin20.0.0-clang\n",
      "    linker: ld64\n",
      "    linker args: -Wl,-headerpad_max_install_names, -Wl,-dead_strip_dylibs, -Wl,-rpath,/Users/raneem/Library/jupyterlab-desktop/jlab_server/lib,\n",
      "      -L/Users/raneem/Library/jupyterlab-desktop/jlab_server/lib, -ftree-vectorize,\n",
      "      -fPIC, -fstack-protector-strong, -O2, -pipe, -isystem, /Users/raneem/Library/jupyterlab-desktop/jlab_server/include,\n",
      "      -fdebug-prefix-map=/Users/runner/miniforge3/conda-bld/numpy_1707225421156/work=/usr/local/src/conda/numpy-1.26.4,\n",
      "      -fdebug-prefix-map=/Users/raneem/Library/jupyterlab-desktop/jlab_server=/usr/local/src/conda-prefix,\n",
      "      -D_FORTIFY_SOURCE=2, -isystem, /Users/raneem/Library/jupyterlab-desktop/jlab_server/include,\n",
      "      -mmacosx-version-min=11.0\n",
      "    name: clang\n",
      "    version: 16.0.6\n",
      "  c++:\n",
      "    args: -ftree-vectorize, -fPIC, -fstack-protector-strong, -O2, -pipe, -stdlib=libc++,\n",
      "      -fvisibility-inlines-hidden, -fmessage-length=0, -isystem, /Users/raneem/Library/jupyterlab-desktop/jlab_server/include,\n",
      "      -fdebug-prefix-map=/Users/runner/miniforge3/conda-bld/numpy_1707225421156/work=/usr/local/src/conda/numpy-1.26.4,\n",
      "      -fdebug-prefix-map=/Users/raneem/Library/jupyterlab-desktop/jlab_server=/usr/local/src/conda-prefix,\n",
      "      -D_FORTIFY_SOURCE=2, -isystem, /Users/raneem/Library/jupyterlab-desktop/jlab_server/include,\n",
      "      -mmacosx-version-min=11.0\n",
      "    commands: arm64-apple-darwin20.0.0-clang++\n",
      "    linker: ld64\n",
      "    linker args: -Wl,-headerpad_max_install_names, -Wl,-dead_strip_dylibs, -Wl,-rpath,/Users/raneem/Library/jupyterlab-desktop/jlab_server/lib,\n",
      "      -L/Users/raneem/Library/jupyterlab-desktop/jlab_server/lib, -ftree-vectorize,\n",
      "      -fPIC, -fstack-protector-strong, -O2, -pipe, -stdlib=libc++, -fvisibility-inlines-hidden,\n",
      "      -fmessage-length=0, -isystem, /Users/raneem/Library/jupyterlab-desktop/jlab_server/include,\n",
      "      -fdebug-prefix-map=/Users/runner/miniforge3/conda-bld/numpy_1707225421156/work=/usr/local/src/conda/numpy-1.26.4,\n",
      "      -fdebug-prefix-map=/Users/raneem/Library/jupyterlab-desktop/jlab_server=/usr/local/src/conda-prefix,\n",
      "      -D_FORTIFY_SOURCE=2, -isystem, /Users/raneem/Library/jupyterlab-desktop/jlab_server/include,\n",
      "      -mmacosx-version-min=11.0\n",
      "    name: clang\n",
      "    version: 16.0.6\n",
      "  cython:\n",
      "    commands: cython\n",
      "    linker: cython\n",
      "    name: cython\n",
      "    version: 3.0.8\n",
      "Machine Information:\n",
      "  build:\n",
      "    cpu: aarch64\n",
      "    endian: little\n",
      "    family: aarch64\n",
      "    system: darwin\n",
      "  cross-compiled: true\n",
      "  host:\n",
      "    cpu: arm64\n",
      "    endian: little\n",
      "    family: aarch64\n",
      "    system: darwin\n",
      "Python Information:\n",
      "  path: /Users/raneem/Library/jupyterlab-desktop/jlab_server/bin/python\n",
      "  version: '3.12'\n",
      "SIMD Extensions:\n",
      "  baseline:\n",
      "  - NEON\n",
      "  - NEON_FP16\n",
      "  - NEON_VFPV4\n",
      "  - ASIMD\n",
      "  found:\n",
      "  - ASIMDHP\n",
      "  not found:\n",
      "  - ASIMDFHM\n",
      "\n",
      "None\n"
     ]
    }
   ],
   "source": [
    "print(\"NumPy Version : \",np.__version__)\n",
    "print(np.show_config())"
   ]
  },
  {
   "cell_type": "markdown",
   "metadata": {},
   "source": [
    "### 3. Generate a 2x3x5 3-dimensional array with random values. Assign the array to variable \"a\"\n",
    "Challenge: there are at least three easy ways that use numpy to generate random arrays. How many ways can you find?\n"
   ]
  },
  {
   "cell_type": "code",
   "execution_count": 6,
   "metadata": {},
   "outputs": [
    {
     "name": "stdout",
     "output_type": "stream",
     "text": [
      "\n",
      "random floats in uniform distribution between 0 and 1\n",
      " [[[0.90162153 0.88144622 0.49349419 0.35558175 0.84493856]\n",
      "  [0.93092726 0.36407179 0.10524194 0.39186887 0.74093651]\n",
      "  [0.27484242 0.74271467 0.63717276 0.04864882 0.8644318 ]]\n",
      "\n",
      " [[0.48593123 0.03507415 0.58824881 0.92584532 0.79219012]\n",
      "  [0.93051969 0.28328232 0.70889347 0.03873169 0.01270208]\n",
      "  [0.33079798 0.72876582 0.72975943 0.15007449 0.68437399]]]\n",
      "\n",
      "normal distribution >> mean = 0 standard deviation = 1(can be both positive and negative)\n",
      " [[[ 1.37368151  0.03232225  2.90982198  0.61089735 -1.86346501]\n",
      "  [ 0.40475646  0.34603765  1.37388877 -0.39717519 -1.31174552]\n",
      "  [-0.80400979 -0.56927043  0.70885477  0.91982925 -0.78799151]]\n",
      "\n",
      " [[-1.85391869  1.01582235  0.64182281 -0.47066815  0.56188038]\n",
      "  [-1.84020922 -1.25470449 -1.38019997  0.83650637 -0.48839436]\n",
      "  [ 0.95580056  0.55127553 -1.4256024   0.71558222  1.47897894]]]\n",
      "\n",
      "random integers 0-19\n",
      " [[[ 3  1 19  0 12]\n",
      "  [14  5 12 19 15]\n",
      "  [ 0 10  6  1  4]]\n",
      "\n",
      " [[ 7 18 14  3 18]\n",
      "  [12 10  9  3  2]\n",
      "  [ 2 17 10 13  0]]]\n"
     ]
    }
   ],
   "source": [
    "# Using np.random.random\n",
    "a1 = np.random.random((2, 3, 5))\n",
    "# Using np.random.randn\n",
    "a2 = np.random.randn(2, 3, 5)\n",
    "# Using np.random.randint\n",
    "a3 = np.random.randint(0, 20, size=(2, 3, 5))\n",
    "\n",
    "print('\\nrandom floats in uniform distribution between 0 and 1\\n', a1)\n",
    "print('\\nnormal distribution >> mean = 0 standard deviation = 1(can be both positive and negative)\\n', a2)\n",
    "print('\\nrandom integers 0-19\\n', a3)\n"
   ]
  },
  {
   "cell_type": "markdown",
   "metadata": {},
   "source": [
    "\n",
    "### 4. Print a.\n"
   ]
  },
  {
   "cell_type": "code",
   "execution_count": 7,
   "metadata": {},
   "outputs": [
    {
     "data": {
      "text/plain": [
       "array([[[ 3,  1, 19,  0, 12],\n",
       "        [14,  5, 12, 19, 15],\n",
       "        [ 0, 10,  6,  1,  4]],\n",
       "\n",
       "       [[ 7, 18, 14,  3, 18],\n",
       "        [12, 10,  9,  3,  2],\n",
       "        [ 2, 17, 10, 13,  0]]])"
      ]
     },
     "execution_count": 7,
     "metadata": {},
     "output_type": "execute_result"
    }
   ],
   "source": [
    "a = a3\n",
    "a"
   ]
  },
  {
   "cell_type": "markdown",
   "metadata": {},
   "source": [
    "### 5. Create a 5x2x3 3-dimensional array with all values equaling 1.\n",
    "### Assign the array to variable \"b\"\n"
   ]
  },
  {
   "cell_type": "code",
   "execution_count": 8,
   "metadata": {},
   "outputs": [],
   "source": [
    "b = np.ones((5, 2, 3))"
   ]
  },
  {
   "cell_type": "markdown",
   "metadata": {},
   "source": [
    "\n",
    "### 6. Print b.\n"
   ]
  },
  {
   "cell_type": "code",
   "execution_count": 9,
   "metadata": {},
   "outputs": [
    {
     "data": {
      "text/plain": [
       "array([[[1., 1., 1.],\n",
       "        [1., 1., 1.]],\n",
       "\n",
       "       [[1., 1., 1.],\n",
       "        [1., 1., 1.]],\n",
       "\n",
       "       [[1., 1., 1.],\n",
       "        [1., 1., 1.]],\n",
       "\n",
       "       [[1., 1., 1.],\n",
       "        [1., 1., 1.]],\n",
       "\n",
       "       [[1., 1., 1.],\n",
       "        [1., 1., 1.]]])"
      ]
     },
     "execution_count": 9,
     "metadata": {},
     "output_type": "execute_result"
    }
   ],
   "source": [
    "b"
   ]
  },
  {
   "cell_type": "markdown",
   "metadata": {},
   "source": [
    "\n",
    "### 7. Do a and b have the same size? How do you prove that in Python code?\n"
   ]
  },
  {
   "cell_type": "code",
   "execution_count": 11,
   "metadata": {},
   "outputs": [
    {
     "name": "stdout",
     "output_type": "stream",
     "text": [
      "Have different shapes: (2, 3, 5) - (5, 2, 3)\n",
      "Have the same size: 30 \n"
     ]
    }
   ],
   "source": [
    "# Compare their shapes\n",
    "if a.shape == b.shape:\n",
    "    print(f\"Have the same shape: {a.shape}\")\n",
    "else:\n",
    "    print(f\"Have different shapes: {a.shape} - {b.shape}\")\n",
    "\n",
    "# Compare their sizes (total number of elements)\n",
    "if a.size == b.size:\n",
    "    print(f\"Have the same size: {a.size} \")\n",
    "else:\n",
    "    print(f\"Have different sizes: {a.size} - {b.size} \")"
   ]
  },
  {
   "cell_type": "markdown",
   "metadata": {},
   "source": [
    "\n",
    "### 8. Are you able to add a and b? Why or why not?\n"
   ]
  },
  {
   "cell_type": "code",
   "execution_count": 13,
   "metadata": {},
   "outputs": [
    {
     "ename": "ValueError",
     "evalue": "operands could not be broadcast together with shapes (2,3,5) (5,2,3) ",
     "output_type": "error",
     "traceback": [
      "\u001b[0;31m---------------------------------------------------------------------------\u001b[0m",
      "\u001b[0;31mValueError\u001b[0m                                Traceback (most recent call last)",
      "Cell \u001b[0;32mIn[13], line 2\u001b[0m\n\u001b[1;32m      1\u001b[0m \u001b[38;5;66;03m# Using np.add()\u001b[39;00m\n\u001b[0;32m----> 2\u001b[0m result2 \u001b[38;5;241m=\u001b[39m \u001b[43mnp\u001b[49m\u001b[38;5;241;43m.\u001b[39;49m\u001b[43madd\u001b[49m\u001b[43m(\u001b[49m\u001b[43ma\u001b[49m\u001b[43m,\u001b[49m\u001b[43m \u001b[49m\u001b[43mb\u001b[49m\u001b[43m)\u001b[49m\n\u001b[1;32m      3\u001b[0m \u001b[38;5;28mprint\u001b[39m(\u001b[38;5;124m\"\u001b[39m\u001b[38;5;130;01m\\n\u001b[39;00m\u001b[38;5;124mResult of addition (using np.add):\u001b[39m\u001b[38;5;130;01m\\n\u001b[39;00m\u001b[38;5;124m\"\u001b[39m, result2)\n",
      "\u001b[0;31mValueError\u001b[0m: operands could not be broadcast together with shapes (2,3,5) (5,2,3) "
     ]
    }
   ],
   "source": [
    "# Using the + Operator\n",
    "result1 = a + b\n",
    "print(\"\\nAddition using + operator:\\n\" , result1 )\n",
    "# Using np.add()\n",
    "result2 = np.add(a, b)\n",
    "print(\"\\nResult of addition (using np.add):\\n\", result2)"
   ]
  },
  {
   "cell_type": "code",
   "execution_count": null,
   "metadata": {},
   "outputs": [],
   "source": [
    "''' both metheds dont work.\n",
    "a has the shape (2, 3, 5) and b has the shape (5, 2, 3)\n",
    "so they cant be added (broadcast)\n",
    "the arrays need to have compatible shapes '''"
   ]
  },
  {
   "cell_type": "markdown",
   "metadata": {},
   "source": [
    "\n",
    "\n",
    "### 9. Transpose b so that it has the same structure of a (i.e. become a 2x3x5 array). Assign the transposed array to varialbe \"c\".\n"
   ]
  },
  {
   "cell_type": "code",
   "execution_count": 15,
   "metadata": {},
   "outputs": [
    {
     "name": "stdout",
     "output_type": "stream",
     "text": [
      "\n",
      "Array c :\n",
      " [[[1. 1. 1. 1. 1.]\n",
      "  [1. 1. 1. 1. 1.]\n",
      "  [1. 1. 1. 1. 1.]]\n",
      "\n",
      " [[1. 1. 1. 1. 1.]\n",
      "  [1. 1. 1. 1. 1.]\n",
      "  [1. 1. 1. 1. 1.]]]\n",
      "\n",
      "Shape of c:\n",
      " (2, 3, 5)\n"
     ]
    }
   ],
   "source": [
    "c = np.transpose(b, (1, 2, 0))\n",
    "print(\"\\nArray c :\\n\", c)\n",
    "print(\"\\nShape of c:\\n\", c.shape)"
   ]
  },
  {
   "cell_type": "markdown",
   "metadata": {},
   "source": [
    "\n",
    "### 10. Try to add a and c. Now it should work. Assign the sum to variable \"d\". But why does it work now?\n"
   ]
  },
  {
   "cell_type": "code",
   "execution_count": 16,
   "metadata": {},
   "outputs": [
    {
     "name": "stdout",
     "output_type": "stream",
     "text": [
      "\n",
      "Addition using + operator:\n",
      " [[[ 4.  2. 20.  1. 13.]\n",
      "  [15.  6. 13. 20. 16.]\n",
      "  [ 1. 11.  7.  2.  5.]]\n",
      "\n",
      " [[ 8. 19. 15.  4. 19.]\n",
      "  [13. 11. 10.  4.  3.]\n",
      "  [ 3. 18. 11. 14.  1.]]]\n",
      "\n",
      "Result of addition (using np.add):\n",
      " [[[ 4.  2. 20.  1. 13.]\n",
      "  [15.  6. 13. 20. 16.]\n",
      "  [ 1. 11.  7.  2.  5.]]\n",
      "\n",
      " [[ 8. 19. 15.  4. 19.]\n",
      "  [13. 11. 10.  4.  3.]\n",
      "  [ 3. 18. 11. 14.  1.]]]\n"
     ]
    }
   ],
   "source": [
    "# Using the + Operator\n",
    "result1 = a + c\n",
    "print(\"\\nAddition using + operator:\\n\" , result1 )\n",
    "# Using np.add()\n",
    "result2 = np.add(a, c)\n",
    "print(\"\\nResult of addition (using np.add):\\n\", result2)"
   ]
  },
  {
   "cell_type": "code",
   "execution_count": 17,
   "metadata": {},
   "outputs": [],
   "source": [
    "d = result1"
   ]
  },
  {
   "cell_type": "code",
   "execution_count": null,
   "metadata": {},
   "outputs": [],
   "source": [
    "'''  they become \"compatible\" arrays\n",
    "because the dimension number and the size match up '''"
   ]
  },
  {
   "cell_type": "markdown",
   "metadata": {},
   "source": [
    "\n",
    "### 11. Print a and d. Notice the difference and relation of the two array in terms of the values? Explain.\n"
   ]
  },
  {
   "cell_type": "code",
   "execution_count": 18,
   "metadata": {},
   "outputs": [
    {
     "name": "stdout",
     "output_type": "stream",
     "text": [
      "\n",
      "Array a :\n",
      " [[[ 3  1 19  0 12]\n",
      "  [14  5 12 19 15]\n",
      "  [ 0 10  6  1  4]]\n",
      "\n",
      " [[ 7 18 14  3 18]\n",
      "  [12 10  9  3  2]\n",
      "  [ 2 17 10 13  0]]]\n",
      "\n",
      "Array d :\n",
      " [[[ 4.  2. 20.  1. 13.]\n",
      "  [15.  6. 13. 20. 16.]\n",
      "  [ 1. 11.  7.  2.  5.]]\n",
      "\n",
      " [[ 8. 19. 15.  4. 19.]\n",
      "  [13. 11. 10.  4.  3.]\n",
      "  [ 3. 18. 11. 14.  1.]]]\n"
     ]
    }
   ],
   "source": [
    "print(\"\\nArray a :\\n\", a)\n",
    "print(\"\\nArray d :\\n\", d)"
   ]
  },
  {
   "cell_type": "code",
   "execution_count": null,
   "metadata": {},
   "outputs": [],
   "source": [
    "''' \n",
    "1. both 3D arrays of shape (2, 3, 5) \n",
    "2. values in a are integers while the values in d are floats\n",
    "3. needs scaling\n",
    "'''"
   ]
  },
  {
   "cell_type": "markdown",
   "metadata": {},
   "source": [
    "\n",
    "### 12. Multiply a and c. Assign the result to e.\n"
   ]
  },
  {
   "cell_type": "code",
   "execution_count": 19,
   "metadata": {},
   "outputs": [
    {
     "name": "stdout",
     "output_type": "stream",
     "text": [
      "\n",
      "Array e (after multiplication):\n",
      " [[[ 3.  1. 19.  0. 12.]\n",
      "  [14.  5. 12. 19. 15.]\n",
      "  [ 0. 10.  6.  1.  4.]]\n",
      "\n",
      " [[ 7. 18. 14.  3. 18.]\n",
      "  [12. 10.  9.  3.  2.]\n",
      "  [ 2. 17. 10. 13.  0.]]]\n"
     ]
    }
   ],
   "source": [
    "e = a * c\n",
    "print(\"\\nArray e (after multiplication):\\n\", e)"
   ]
  },
  {
   "cell_type": "markdown",
   "metadata": {},
   "source": [
    "\n",
    "\n",
    "### 13. Does e equal to a? Why or why not?\n"
   ]
  },
  {
   "cell_type": "code",
   "execution_count": 21,
   "metadata": {},
   "outputs": [
    {
     "name": "stdout",
     "output_type": "stream",
     "text": [
      "e is equal to a\n"
     ]
    }
   ],
   "source": [
    "''' Every corresponding element in e must be the same as in a to be equal\n",
    "So, for e to be equal to a, every element in c must be equal to 1 \n",
    "this means every element of c is 1, and thus a * c will be equal to a for all elements.'''\n",
    "# Checking if e is equal to a\n",
    "if np.allclose(e, a):\n",
    "    print(\"e is equal to a\")\n",
    "else:\n",
    "    print(\"e is not equal to a\")"
   ]
  },
  {
   "cell_type": "markdown",
   "metadata": {},
   "source": [
    "\n",
    "\n",
    "### 14. Identify the max, min, and mean values in d. Assign those values to variables \"d_max\", \"d_min\", and \"d_mean\"\n"
   ]
  },
  {
   "cell_type": "code",
   "execution_count": 22,
   "metadata": {},
   "outputs": [
    {
     "name": "stdout",
     "output_type": "stream",
     "text": [
      "Max value in d: 20.0\n",
      "Min value in d: 1.0\n",
      "Mean value in d: 9.633333333333333\n"
     ]
    }
   ],
   "source": [
    "# max, min , mean for d\n",
    "d_max = np.max(d)\n",
    "d_min = np.min(d)\n",
    "d_mean = np.mean(d)\n",
    "\n",
    "# Display results\n",
    "print(\"Max value in d:\", d_max)\n",
    "print(\"Min value in d:\", d_min)\n",
    "print(\"Mean value in d:\", d_mean)"
   ]
  },
  {
   "cell_type": "markdown",
   "metadata": {},
   "source": [
    "\n",
    "### 15. Now we want to label the values in d. First create an empty array \"f\" with the same shape (i.e. 2x3x5) as d using `np.empty`.\n"
   ]
  },
  {
   "cell_type": "code",
   "execution_count": 27,
   "metadata": {},
   "outputs": [
    {
     "name": "stdout",
     "output_type": "stream",
     "text": [
      "Array f:\n",
      " [[[ 3.  1. 19.  0. 12.]\n",
      "  [14.  5. 12. 19. 15.]\n",
      "  [ 0. 10.  6.  1.  4.]]\n",
      "\n",
      " [[ 7. 18. 14.  3. 18.]\n",
      "  [12. 10.  9.  3.  2.]\n",
      "  [ 2. 17. 10. 13.  0.]]]\n",
      "Shape of f: (2, 3, 5)\n"
     ]
    }
   ],
   "source": [
    "#np.empty(d) creates an empty array with the same shape as d\n",
    "f = np.empty(d.shape)\n",
    "\n",
    "# Display the araay with the shape\n",
    "print(\"Array f:\\n\", f)\n",
    "print(\"Shape of f:\", f.shape)"
   ]
  },
  {
   "cell_type": "markdown",
   "metadata": {},
   "source": [
    "\n",
    "\n",
    "\n",
    "### 16. Populate the values in f. For each value in d, if it's larger than d_min but smaller than d_mean, assign 25 to the corresponding value in f.\n",
    "If a value in d is larger than d_mean but smaller than d_max, assign 75 to the corresponding value in f.\n",
    "If a value equals to d_mean, assign 50 to the corresponding value in f.\n",
    "Assign 0 to the corresponding value(s) in f for d_min in d.\n",
    "Assign 100 to the corresponding value(s) in f for d_max in d.\n",
    "In the end, f should have only the following values: 0, 25, 50, 75, and 100.\n",
    "Note: you don't have to use Numpy in this question.\n",
    "\n"
   ]
  },
  {
   "cell_type": "code",
   "execution_count": 28,
   "metadata": {},
   "outputs": [
    {
     "name": "stdout",
     "output_type": "stream",
     "text": [
      "result f:\n",
      " [[[ 25.  25. 100.   0.  75.]\n",
      "  [ 75.  25.  75. 100.  75.]\n",
      "  [  0.  75.  25.  25.  25.]]\n",
      "\n",
      " [[ 25.  75.  75.  25.  75.]\n",
      "  [ 75.  75.  75.  25.  25.]\n",
      "  [ 25.  75.  75.  75.   0.]]]\n"
     ]
    }
   ],
   "source": [
    "for i in range(d.shape[0]):\n",
    "    for j in range(d.shape[1]):\n",
    "        for k in range(d.shape[2]):\n",
    "            if d[i, j, k] == d_min:\n",
    "                f[i, j, k] = 0\n",
    "            elif d[i, j, k] == d_max:\n",
    "                f[i, j, k] = 100\n",
    "            elif d[i, j, k] == d_mean:\n",
    "                f[i, j, k] = 50\n",
    "            elif d_min < d[i, j, k] < d_mean:\n",
    "                f[i, j, k] = 25\n",
    "            elif d_mean < d[i, j, k] < d_max:\n",
    "                f[i, j, k] = 75\n",
    "\n",
    "# Display the populated array f\n",
    "print(\"result f:\\n\", f)"
   ]
  },
  {
   "cell_type": "markdown",
   "metadata": {},
   "source": [
    "\n",
    "\n",
    "\n",
    "\n",
    "### 17. Print d and f. Do you have your expected f?\n",
    "For instance, if your d is:\n",
    "array([[[1.85836099, 1.67064465, 1.62576044, 1.40243961, 1.88454931],\n",
    "        [1.75354326, 1.69403643, 1.36729252, 1.61415071, 1.12104981],\n",
    "        [1.72201435, 1.1862918 , 1.87078449, 1.7726778 , 1.88180042]],\n",
    "\n",
    "       [[1.44747908, 1.31673383, 1.02000951, 1.52218947, 1.97066381],\n",
    "        [1.79129243, 1.74983003, 1.96028037, 1.85166831, 1.65450881],\n",
    "        [1.18068344, 1.9587381 , 1.00656599, 1.93402165, 1.73514584]]])\n",
    "\n",
    "Your f should be:\n",
    "array([[[ 75.,  75.,  75.,  25.,  75.],\n",
    "        [ 75.,  75.,  25.,  25.,  25.],\n",
    "        [ 75.,  25.,  75.,  75.,  75.]],\n",
    "\n",
    "       [[ 25.,  25.,  25.,  25., 100.],\n",
    "        [ 75.,  75.,  75.,  75.,  75.],\n",
    "        [ 25.,  75.,   0.,  75.,  75.]]])\n",
    "\n"
   ]
  },
  {
   "cell_type": "code",
   "execution_count": 29,
   "metadata": {},
   "outputs": [
    {
     "name": "stdout",
     "output_type": "stream",
     "text": [
      "Array d:\n",
      " [[[ 4.  2. 20.  1. 13.]\n",
      "  [15.  6. 13. 20. 16.]\n",
      "  [ 1. 11.  7.  2.  5.]]\n",
      "\n",
      " [[ 8. 19. 15.  4. 19.]\n",
      "  [13. 11. 10.  4.  3.]\n",
      "  [ 3. 18. 11. 14.  1.]]]\n",
      "Array f:\n",
      " [[[ 25.  25. 100.   0.  75.]\n",
      "  [ 75.  25.  75. 100.  75.]\n",
      "  [  0.  75.  25.  25.  25.]]\n",
      "\n",
      " [[ 25.  75.  75.  25.  75.]\n",
      "  [ 75.  75.  75.  25.  25.]\n",
      "  [ 25.  75.  75.  75.   0.]]]\n"
     ]
    }
   ],
   "source": [
    "print(\"Array d:\\n\", d)\n",
    "print(\"Array f:\\n\", f)"
   ]
  },
  {
   "cell_type": "markdown",
   "metadata": {},
   "source": [
    "### 18. Bonus question: instead of using numbers (i.e. 0, 25, 50, 75, and 100), how to use string values \n",
    "(\"A\", \"B\", \"C\", \"D\", and \"E\") to label the array elements? You are expecting the result to be:\n",
    "array([[[ 'D',  'D',  'D',  'B',  'D'],\n",
    "        [ 'D',  'D',  'B',  'B',  'B'],\n",
    "        [ 'D',  'B',  'D',  'D',  'D']],\n",
    "\n",
    "       [[ 'B',  'B',  'B',  'B',  'E'],\n",
    "        [ 'D',  'D',  'D',  'D',  'D'],\n",
    "        [ 'B',  'D',   'A',  'D', 'D']]])\n",
    "Again, you don't need Numpy in this question."
   ]
  },
  {
   "cell_type": "code",
   "execution_count": 30,
   "metadata": {},
   "outputs": [
    {
     "name": "stdout",
     "output_type": "stream",
     "text": [
      "Array d:\n",
      " [[[ 4.  2. 20.  1. 13.]\n",
      "  [15.  6. 13. 20. 16.]\n",
      "  [ 1. 11.  7.  2.  5.]]\n",
      "\n",
      " [[ 8. 19. 15.  4. 19.]\n",
      "  [13. 11. 10.  4.  3.]\n",
      "  [ 3. 18. 11. 14.  1.]]]\n",
      "Array f:\n",
      " [[['B' 'B' 'E' 'A' 'D']\n",
      "  ['D' 'B' 'D' 'E' 'D']\n",
      "  ['A' 'D' 'B' 'B' 'B']]\n",
      "\n",
      " [['B' 'D' 'D' 'B' 'D']\n",
      "  ['D' 'D' 'D' 'B' 'B']\n",
      "  ['B' 'D' 'D' 'D' 'A']]]\n"
     ]
    }
   ],
   "source": [
    "\n",
    "f = np.empty(d.shape, dtype=object)  # we will use dtype=object for strings\n",
    "\n",
    "for i in range(d.shape[0]):\n",
    "    for j in range(d.shape[1]):\n",
    "        for k in range(d.shape[2]):\n",
    "            if d[i, j, k] == d_min:\n",
    "                f[i, j, k] = \"A\"\n",
    "            elif d[i, j, k] == d_max:\n",
    "                f[i, j, k] = \"E\"\n",
    "            elif d[i, j, k] == d_mean:\n",
    "                f[i, j, k] = \"C\"\n",
    "            elif d_min < d[i, j, k] < d_mean:\n",
    "                f[i, j, k] = \"B\"\n",
    "            elif d_mean < d[i, j, k] < d_max:\n",
    "                f[i, j, k] = \"D\"\n",
    "\n",
    "\n",
    "print(\"Array d:\\n\", d)\n",
    "print(\"Array f:\\n\", f)"
   ]
  },
  {
   "cell_type": "code",
   "execution_count": null,
   "metadata": {},
   "outputs": [],
   "source": []
  }
 ],
 "metadata": {
  "kernelspec": {
   "display_name": "Python 3 (ipykernel)",
   "language": "python",
   "name": "python3"
  },
  "language_info": {
   "codemirror_mode": {
    "name": "ipython",
    "version": 3
   },
   "file_extension": ".py",
   "mimetype": "text/x-python",
   "name": "python",
   "nbconvert_exporter": "python",
   "pygments_lexer": "ipython3",
   "version": "3.12.2"
  }
 },
 "nbformat": 4,
 "nbformat_minor": 4
}
