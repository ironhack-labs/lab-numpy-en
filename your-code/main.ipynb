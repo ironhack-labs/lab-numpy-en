{
 "cells": [
  {
   "cell_type": "markdown",
   "metadata": {},
   "source": [
    "# Lab | Numpy Deep Dive"
   ]
  },
  {
   "cell_type": "markdown",
   "metadata": {},
   "source": [
    "### 1. Import the NUMPY package under the name np.\n"
   ]
  },
  {
   "cell_type": "code",
   "execution_count": 79,
   "metadata": {},
   "outputs": [],
   "source": [
    "\n",
    "### [your code here]\n",
    "import numpy as np"
   ]
  },
  {
   "cell_type": "markdown",
   "metadata": {},
   "source": [
    "\n",
    "\n",
    "### 2. Print the NUMPY version and the configuration.\n"
   ]
  },
  {
   "cell_type": "code",
   "execution_count": 80,
   "metadata": {},
   "outputs": [
    {
     "name": "stdout",
     "output_type": "stream",
     "text": [
      "NumPy Version: 2.2.3\n",
      "\n",
      "NumPy Configuration:\n",
      "{\n",
      "  \"Compilers\": {\n",
      "    \"c\": {\n",
      "      \"name\": \"msvc\",\n",
      "      \"linker\": \"link\",\n",
      "      \"version\": \"19.29.30158\",\n",
      "      \"commands\": \"cl\"\n",
      "    },\n",
      "    \"cython\": {\n",
      "      \"name\": \"cython\",\n",
      "      \"linker\": \"cython\",\n",
      "      \"version\": \"3.0.12\",\n",
      "      \"commands\": \"cython\"\n",
      "    },\n",
      "    \"c++\": {\n",
      "      \"name\": \"msvc\",\n",
      "      \"linker\": \"link\",\n",
      "      \"version\": \"19.29.30158\",\n",
      "      \"commands\": \"cl\"\n",
      "    }\n",
      "  },\n",
      "  \"Machine Information\": {\n",
      "    \"host\": {\n",
      "      \"cpu\": \"x86_64\",\n",
      "      \"family\": \"x86_64\",\n",
      "      \"endian\": \"little\",\n",
      "      \"system\": \"windows\"\n",
      "    },\n",
      "    \"build\": {\n",
      "      \"cpu\": \"x86_64\",\n",
      "      \"family\": \"x86_64\",\n",
      "      \"endian\": \"little\",\n",
      "      \"system\": \"windows\"\n",
      "    }\n",
      "  },\n",
      "  \"Build Dependencies\": {\n",
      "    \"blas\": {\n",
      "      \"name\": \"scipy-openblas\",\n",
      "      \"found\": true,\n",
      "      \"version\": \"0.3.28\",\n",
      "      \"detection method\": \"pkgconfig\",\n",
      "      \"include directory\": \"C:/Users/runneradmin/AppData/Local/Temp/cibw-run-3gfa2f0z/cp311-win_amd64/build/venv/Lib/site-packages/scipy_openblas64/include\",\n",
      "      \"lib directory\": \"C:/Users/runneradmin/AppData/Local/Temp/cibw-run-3gfa2f0z/cp311-win_amd64/build/venv/Lib/site-packages/scipy_openblas64/lib\",\n",
      "      \"openblas configuration\": \"OpenBLAS 0.3.28  USE64BITINT DYNAMIC_ARCH NO_AFFINITY Haswell MAX_THREADS=24\",\n",
      "      \"pc file directory\": \"D:/a/numpy/numpy/.openblas\"\n",
      "    },\n",
      "    \"lapack\": {\n",
      "      \"name\": \"scipy-openblas\",\n",
      "      \"found\": true,\n",
      "      \"version\": \"0.3.28\",\n",
      "      \"detection method\": \"pkgconfig\",\n",
      "      \"include directory\": \"C:/Users/runneradmin/AppData/Local/Temp/cibw-run-3gfa2f0z/cp311-win_amd64/build/venv/Lib/site-packages/scipy_openblas64/include\",\n",
      "      \"lib directory\": \"C:/Users/runneradmin/AppData/Local/Temp/cibw-run-3gfa2f0z/cp311-win_amd64/build/venv/Lib/site-packages/scipy_openblas64/lib\",\n",
      "      \"openblas configuration\": \"OpenBLAS 0.3.28  USE64BITINT DYNAMIC_ARCH NO_AFFINITY Haswell MAX_THREADS=24\",\n",
      "      \"pc file directory\": \"D:/a/numpy/numpy/.openblas\"\n",
      "    }\n",
      "  },\n",
      "  \"Python Information\": {\n",
      "    \"path\": \"C:\\\\Users\\\\runneradmin\\\\AppData\\\\Local\\\\Temp\\\\build-env-k51dk6fd\\\\Scripts\\\\python.exe\",\n",
      "    \"version\": \"3.11\"\n",
      "  },\n",
      "  \"SIMD Extensions\": {\n",
      "    \"baseline\": [\n",
      "      \"SSE\",\n",
      "      \"SSE2\",\n",
      "      \"SSE3\"\n",
      "    ],\n",
      "    \"found\": [\n",
      "      \"SSSE3\",\n",
      "      \"SSE41\",\n",
      "      \"POPCNT\",\n",
      "      \"SSE42\",\n",
      "      \"AVX\",\n",
      "      \"F16C\",\n",
      "      \"FMA3\",\n",
      "      \"AVX2\",\n",
      "      \"AVX512F\",\n",
      "      \"AVX512CD\",\n",
      "      \"AVX512_SKX\",\n",
      "      \"AVX512_CLX\",\n",
      "      \"AVX512_CNL\",\n",
      "      \"AVX512_ICL\"\n",
      "    ]\n",
      "  }\n",
      "}\n",
      "None\n"
     ]
    }
   ],
   "source": [
    "### [your code here]\n",
    "\n",
    "\n",
    "# Print the NumPy version\n",
    "print(\"NumPy Version:\", np.__version__)\n",
    "\n",
    "# Print the NumPy configuration\n",
    "print(\"\\nNumPy Configuration:\")\n",
    "print(np.__config__.show())"
   ]
  },
  {
   "cell_type": "markdown",
   "metadata": {},
   "source": [
    "### 3. Generate a 2x3x5 3-dimensional array with random values. Assign the array to variable \"a\"\n",
    "Challenge: there are at least three easy ways that use numpy to generate random arrays. How many ways can you find?\n"
   ]
  },
  {
   "cell_type": "code",
   "execution_count": 81,
   "metadata": {},
   "outputs": [],
   "source": [
    "### [your code here]\n",
    "\n",
    "\n",
    "# Generate a 2x3x5 array with random values between 0 and 1\n",
    "a = np.random.rand(2, 3, 5)"
   ]
  },
  {
   "cell_type": "markdown",
   "metadata": {},
   "source": [
    "\n",
    "### 4. Print a.\n",
    "print(a)"
   ]
  },
  {
   "cell_type": "code",
   "execution_count": 82,
   "metadata": {},
   "outputs": [
    {
     "name": "stdout",
     "output_type": "stream",
     "text": [
      "[[[0.53360424 0.91114928 0.69397748 0.09398885 0.08292049]\n",
      "  [0.89017324 0.77754051 0.24053356 0.50946528 0.41772239]\n",
      "  [0.35592435 0.97075706 0.02162282 0.10365266 0.17322282]]\n",
      "\n",
      " [[0.35192967 0.96960264 0.78808972 0.70811572 0.55312485]\n",
      "  [0.63886339 0.188977   0.50049999 0.46283781 0.86428015]\n",
      "  [0.47686216 0.20478907 0.17625372 0.94818778 0.06344612]]]\n"
     ]
    }
   ],
   "source": [
    "### [your code here]\n",
    "print(a)"
   ]
  },
  {
   "cell_type": "markdown",
   "metadata": {},
   "source": [
    "### 5. Create a 5x2x3 3-dimensional array with all values equaling 1.\n",
    "### Assign the array to variable \"b\"\n"
   ]
  },
  {
   "cell_type": "code",
   "execution_count": 83,
   "metadata": {},
   "outputs": [],
   "source": [
    "### [your code here]\n",
    "import numpy as np\n",
    "\n",
    "# Create a 5x2x3 array filled with 1s\n",
    "b = np.ones((5, 2, 3))"
   ]
  },
  {
   "cell_type": "markdown",
   "metadata": {},
   "source": [
    "\n",
    "### 6. Print b.\n"
   ]
  },
  {
   "cell_type": "code",
   "execution_count": 84,
   "metadata": {},
   "outputs": [
    {
     "name": "stdout",
     "output_type": "stream",
     "text": [
      "[[[1. 1. 1.]\n",
      "  [1. 1. 1.]]\n",
      "\n",
      " [[1. 1. 1.]\n",
      "  [1. 1. 1.]]\n",
      "\n",
      " [[1. 1. 1.]\n",
      "  [1. 1. 1.]]\n",
      "\n",
      " [[1. 1. 1.]\n",
      "  [1. 1. 1.]]\n",
      "\n",
      " [[1. 1. 1.]\n",
      "  [1. 1. 1.]]]\n"
     ]
    }
   ],
   "source": [
    "### [your code here]\n",
    "print(b)"
   ]
  },
  {
   "cell_type": "markdown",
   "metadata": {},
   "source": [
    "\n",
    "### 7. Do a and b have the same size? How do you prove that in Python code?\n"
   ]
  },
  {
   "cell_type": "code",
   "execution_count": 85,
   "metadata": {},
   "outputs": [
    {
     "name": "stdout",
     "output_type": "stream",
     "text": [
      "a and b have the same size.\n"
     ]
    }
   ],
   "source": [
    "### [your code here]\n",
    "a = [1, 2, 3]\n",
    "b = [4, 5, 6]\n",
    "\n",
    "# Check if they have the same length\n",
    "if len(a) == len(b):\n",
    "    print(\"a and b have the same size.\")\n",
    "else:\n",
    "    print(\"a and b do not have the same size.\")\n",
    "\n"
   ]
  },
  {
   "cell_type": "markdown",
   "metadata": {},
   "source": [
    "\n",
    "### 8. Are you able to add a and b? Why or why not?\n"
   ]
  },
  {
   "cell_type": "code",
   "execution_count": 86,
   "metadata": {},
   "outputs": [
    {
     "name": "stdout",
     "output_type": "stream",
     "text": [
      "a and b can be added: [1, 2, 3, 4]\n"
     ]
    }
   ],
   "source": [
    "### [your code here]\n",
    "a = [1, 2]\n",
    "b = [3, 4]\n",
    "\n",
    "try:\n",
    "    result = a + b\n",
    "    print(\"a and b can be added:\", result)\n",
    "except TypeError:\n",
    "    print(\"a and b cannot be added.\")\n",
    "\n"
   ]
  },
  {
   "cell_type": "markdown",
   "metadata": {},
   "source": [
    "\n",
    "\n",
    "### 9. Transpose b so that it has the same structure of a (i.e. become a 2x3x5 array). Assign the transposed array to varialbe \"c\".\n"
   ]
  },
  {
   "cell_type": "code",
   "execution_count": 87,
   "metadata": {},
   "outputs": [
    {
     "name": "stdout",
     "output_type": "stream",
     "text": [
      "Array a shape: (2, 3, 5)\n",
      "Array c shape: (2, 5, 3)\n"
     ]
    }
   ],
   "source": [
    "### [your code here]\n",
    "import numpy as np\n",
    "\n",
    "# Define array a with shape (2, 3, 5)\n",
    "a = np.random.rand(2, 3, 5)  # Random array with shape 2x3x5\n",
    "\n",
    "# Define array b (let's assume b needs reshaping and transposition)\n",
    "b = np.random.rand(30)  # A flat array with 30 elements (can be reshaped into 2x3x5)\n",
    "\n",
    "# Reshape b into a 2x3x5 array\n",
    "c = b.reshape(2, 3, 5)\n",
    "\n",
    "# If you need to transpose the array (for example, swapping axes), you can do:\n",
    "c = np.transpose(c, (0, 2, 1))  # This swaps axis 1 and axis 2 (i.e., transposing)\n",
    "\n",
    "print(\"Array a shape:\", a.shape)\n",
    "print(\"Array c shape:\", c.shape)\n",
    "\n"
   ]
  },
  {
   "cell_type": "markdown",
   "metadata": {},
   "source": [
    "\n",
    "### 10. Try to add a and c. Now it should work. Assign the sum to variable \"d\". But why does it work now?\n"
   ]
  },
  {
   "cell_type": "code",
   "execution_count": 88,
   "metadata": {},
   "outputs": [
    {
     "name": "stdout",
     "output_type": "stream",
     "text": [
      "Shape of a: (2, 3, 5)\n",
      "Shape of c: (2, 3, 5)\n",
      "Shape of d: (2, 3, 5)\n"
     ]
    }
   ],
   "source": [
    "### [your code here]\n",
    "import numpy as np\n",
    "\n",
    "# Define array a with shape (2, 3, 5)\n",
    "a = np.random.rand(2, 3, 5)  # Random array with shape 2x3x5\n",
    "\n",
    "# Define array c (reshaped version of b, with shape 2x3x5)\n",
    "b = np.random.rand(30)  # A flat array with 30 elements (can be reshaped into 2x3x5)\n",
    "c = b.reshape(2, 3, 5)\n",
    "\n",
    "# Add a and c\n",
    "d = a + c\n",
    "\n",
    "print(\"Shape of a:\", a.shape)\n",
    "print(\"Shape of c:\", c.shape)\n",
    "print(\"Shape of d:\", d.shape)\n",
    "\n"
   ]
  },
  {
   "cell_type": "markdown",
   "metadata": {},
   "source": [
    "\n",
    "### 11. Print a and d. Notice the difference and relation of the two array in terms of the values? Explain.\n"
   ]
  },
  {
   "cell_type": "code",
   "execution_count": 89,
   "metadata": {},
   "outputs": [
    {
     "name": "stdout",
     "output_type": "stream",
     "text": [
      "Array a:\n",
      "[[[0.86957179 0.76352836 0.06973478 0.81868002 0.51268995]\n",
      "  [0.87735397 0.43165005 0.65630393 0.51182094 0.80432768]\n",
      "  [0.64020868 0.50382825 0.21500627 0.86025542 0.3596153 ]]\n",
      "\n",
      " [[0.23169214 0.11487558 0.81772194 0.90446443 0.19828134]\n",
      "  [0.13585446 0.69563387 0.09926271 0.34601072 0.60563945]\n",
      "  [0.6410796  0.38033035 0.4749656  0.38812228 0.80685834]]]\n",
      "\n",
      "Array d (a + c):\n",
      "[[[1.63959066 1.53995931 0.40175945 1.03299774 1.26309   ]\n",
      "  [1.33049459 1.37490989 1.54751156 0.76737236 0.91158408]\n",
      "  [0.88505842 1.17018875 1.03501159 1.33670855 0.86626994]]\n",
      "\n",
      " [[0.9273837  0.30618983 0.88560232 0.99959566 1.11907745]\n",
      "  [0.2437043  1.67469423 0.14405876 1.1054777  0.89733593]\n",
      "  [1.05096449 0.55578811 1.11783951 1.15834502 1.21293669]]]\n"
     ]
    }
   ],
   "source": [
    "### [your code here]\n",
    "import numpy as np\n",
    "\n",
    "# Define array a with shape (2, 3, 5)\n",
    "a = np.random.rand(2, 3, 5)  # Random array with shape 2x3x5\n",
    "\n",
    "# Define array b and reshape it to create array c with shape (2, 3, 5)\n",
    "b = np.random.rand(30)  # A flat array with 30 elements\n",
    "c = b.reshape(2, 3, 5)\n",
    "\n",
    "# Add a and c to create d\n",
    "d = a + c\n",
    "\n",
    "# Print a and d to observe the difference\n",
    "print(\"Array a:\")\n",
    "print(a)\n",
    "print(\"\\nArray d (a + c):\")\n",
    "print(d)\n",
    "\n",
    "\n"
   ]
  },
  {
   "cell_type": "markdown",
   "metadata": {},
   "source": [
    "\n",
    "### 12. Multiply a and c. Assign the result to e.\n"
   ]
  },
  {
   "cell_type": "code",
   "execution_count": 90,
   "metadata": {},
   "outputs": [
    {
     "name": "stdout",
     "output_type": "stream",
     "text": [
      "Array a:\n",
      "[[[0.28550239 0.67709426 0.02236335 0.53521869 0.48509861]\n",
      "  [0.97117863 0.0440058  0.46942061 0.2412323  0.17513189]\n",
      "  [0.79908734 0.31491812 0.85214478 0.34693329 0.45908051]]\n",
      "\n",
      " [[0.96608513 0.52750806 0.83217682 0.93501046 0.49079997]\n",
      "  [0.51887958 0.79906517 0.47654502 0.25761487 0.83123207]\n",
      "  [0.22844891 0.60132523 0.52079654 0.34078342 0.72861728]]]\n",
      "\n",
      "Array c:\n",
      "[[[0.62348174 0.73318727 0.08798872 0.10408885 0.91017234]\n",
      "  [0.58181524 0.80878395 0.89522657 0.95029967 0.814464  ]\n",
      "  [0.80022744 0.23488111 0.4499478  0.12021203 0.37441796]]\n",
      "\n",
      " [[0.47384323 0.86039282 0.66858765 0.88639496 0.64526675]\n",
      "  [0.58802082 0.86851906 0.94658048 0.5691381  0.86549196]\n",
      "  [0.00533437 0.10744962 0.88512324 0.73258527 0.62693382]]]\n",
      "\n",
      "Array e (a * c):\n",
      "[[[0.17800552 0.49643689 0.00196772 0.0557103  0.44152334]\n",
      "  [0.56504653 0.03559119 0.42023781 0.22924297 0.14263862]\n",
      "  [0.63945162 0.07396832 0.38342067 0.04170555 0.17188799]]\n",
      "\n",
      " [[0.4577729  0.45386415 0.55638315 0.82878856 0.3166969 ]\n",
      "  [0.30511199 0.69400333 0.45108821 0.14661844 0.71942468]\n",
      "  [0.00121863 0.06461217 0.46096912 0.24965292 0.45679481]]]\n"
     ]
    }
   ],
   "source": [
    "### [your code here]\n",
    "import numpy as np\n",
    "\n",
    "# Define array a with shape (2, 3, 5)\n",
    "a = np.random.rand(2, 3, 5)  # Random array with shape 2x3x5\n",
    "\n",
    "# Define array b and reshape it to create array c with shape (2, 3, 5)\n",
    "b = np.random.rand(30)  # A flat array with 30 elements\n",
    "c = b.reshape(2, 3, 5)\n",
    "\n",
    "# Multiply a and c to create e\n",
    "e = a * c\n",
    "\n",
    "# Print a, c, and e to observe the results\n",
    "print(\"Array a:\")\n",
    "print(a)\n",
    "print(\"\\nArray c:\")\n",
    "print(c)\n",
    "print(\"\\nArray e (a * c):\")\n",
    "print(e)\n"
   ]
  },
  {
   "cell_type": "markdown",
   "metadata": {},
   "source": [
    "\n",
    "\n",
    "### 13. Does e equal to a? Why or why not?\n"
   ]
  },
  {
   "cell_type": "code",
   "execution_count": 91,
   "metadata": {},
   "outputs": [
    {
     "name": "stdout",
     "output_type": "stream",
     "text": [
      "Does e equal a? False\n"
     ]
    }
   ],
   "source": [
    "### [your code here]\n",
    "import numpy as np\n",
    "\n",
    "# Define array a with shape (2, 3, 5)\n",
    "a = np.random.rand(2, 3, 5)  # Random array with shape 2x3x5\n",
    "\n",
    "# Define array b and reshape it to create array c with shape (2, 3, 5)\n",
    "b = np.random.rand(30)  # A flat array with 30 elements\n",
    "c = b.reshape(2, 3, 5)\n",
    "\n",
    "# Multiply a and c to create e\n",
    "e = a * c\n",
    "\n",
    "# Check if e is equal to a\n",
    "print(\"Does e equal a?\", np.array_equal(a, e))\n",
    "\n",
    "\n"
   ]
  },
  {
   "cell_type": "markdown",
   "metadata": {},
   "source": [
    "\n",
    "\n",
    "### 14. Identify the max, min, and mean values in d. Assign those values to variables \"d_max\", \"d_min\", and \"d_mean\"\n"
   ]
  },
  {
   "cell_type": "code",
   "execution_count": 92,
   "metadata": {},
   "outputs": [
    {
     "name": "stdout",
     "output_type": "stream",
     "text": [
      "Max value in d: 1.7681675835026789\n",
      "Min value in d: 0.1529372179109395\n",
      "Mean value in d: 0.9634413513778627\n"
     ]
    }
   ],
   "source": [
    "### [your code here]\n",
    "\n",
    "#import numpy as np\n",
    "\n",
    "# Define array a with shape (2, 3, 5)\n",
    "a = np.random.rand(2, 3, 5)  # Random array with shape 2x3x5\n",
    "\n",
    "# Define array b and reshape it to create array c with shape (2, 3, 5)\n",
    "b = np.random.rand(30)  # A flat array with 30 elements\n",
    "c = b.reshape(2, 3, 5)\n",
    "\n",
    "# Add a and c to create d\n",
    "d = a + c\n",
    "\n",
    "# Identify the max, min, and mean values in d\n",
    "d_max = np.max(d)\n",
    "d_min = np.min(d)\n",
    "d_mean = np.mean(d)\n",
    "\n",
    "# Print the results\n",
    "print(\"Max value in d:\", d_max)\n",
    "print(\"Min value in d:\", d_min)\n",
    "print(\"Mean value in d:\", d_mean)\n"
   ]
  },
  {
   "cell_type": "markdown",
   "metadata": {},
   "source": [
    "\n",
    "### 15. Now we want to label the values in d. First create an empty array \"f\" with the same shape (i.e. 2x3x5) as d using `np.empty`.\n"
   ]
  },
  {
   "cell_type": "code",
   "execution_count": 93,
   "metadata": {},
   "outputs": [
    {
     "name": "stdout",
     "output_type": "stream",
     "text": [
      "Shape of f: (2, 3, 5)\n"
     ]
    }
   ],
   "source": [
    "### [your code here]\n",
    "import numpy as np\n",
    "\n",
    "# Define array a with shape (2, 3, 5)\n",
    "a = np.random.rand(2, 3, 5)  # Random array with shape 2x3x5\n",
    "\n",
    "# Define array b and reshape it to create array c with shape (2, 3, 5)\n",
    "b = np.random.rand(30)  # A flat array with 30 elements\n",
    "c = b.reshape(2, 3, 5)\n",
    "\n",
    "# Add a and c to create d\n",
    "d = a + c\n",
    "\n",
    "# Create an empty array f with the same shape as d (2x3x5)\n",
    "f = np.empty_like(d)\n",
    "\n",
    "# Print the shape of f to verify\n",
    "print(\"Shape of f:\", f.shape)\n"
   ]
  },
  {
   "cell_type": "markdown",
   "metadata": {},
   "source": [
    "\n",
    "\n",
    "\n",
    "### 16. Populate the values in f. For each value in d, if it's larger than d_min but smaller than d_mean, assign 25 to the corresponding value in f.\n",
    "If a value in d is larger than d_mean but smaller than d_max, assign 75 to the corresponding value in f.\n",
    "If a value equals to d_mean, assign 50 to the corresponding value in f.\n",
    "Assign 0 to the corresponding value(s) in f for d_min in d.\n",
    "Assign 100 to the corresponding value(s) in f for d_max in d.\n",
    "In the end, f should have only the following values: 0, 25, 50, 75, and 100.\n",
    "Note: you don't have to use Numpy in this question.\n",
    "\n"
   ]
  },
  {
   "cell_type": "code",
   "execution_count": 94,
   "metadata": {},
   "outputs": [
    {
     "name": "stdout",
     "output_type": "stream",
     "text": [
      "Array f:\n",
      "[[[ 75.  75.  75.  75.  75.]\n",
      "  [ 75.  75.  75.  75.  25.]\n",
      "  [ 25.  75.  25.  75.  25.]]\n",
      "\n",
      " [[ 25.  25.  25.  25.  25.]\n",
      "  [ 25.  25.  75.   0.  25.]\n",
      "  [100.  75.  25.  25.  25.]]]\n"
     ]
    }
   ],
   "source": [
    "### [your code here]\n",
    "import numpy as np\n",
    "\n",
    "# Define array a with shape (2, 3, 5)\n",
    "a = np.random.rand(2, 3, 5)  # Random array with shape 2x3x5\n",
    "\n",
    "# Define array b and reshape it to create array c with shape (2, 3, 5)\n",
    "b = np.random.rand(30)  # A flat array with 30 elements\n",
    "c = b.reshape(2, 3, 5)\n",
    "\n",
    "# Add a and c to create d\n",
    "d = a + c\n",
    "\n",
    "# Identify the max, min, and mean values in d\n",
    "d_max = np.max(d)\n",
    "d_min = np.min(d)\n",
    "d_mean = np.mean(d)\n",
    "\n",
    "# Create an empty array f with the same shape as d (2x3x5)\n",
    "f = np.empty_like(d)\n",
    "\n",
    "# Loop through the elements in d and populate f according to the rules\n",
    "for i in range(d.shape[0]):\n",
    "    for j in range(d.shape[1]):\n",
    "        for k in range(d.shape[2]):\n",
    "            if d[i, j, k] == d_max:\n",
    "                f[i, j, k] = 100\n",
    "            elif d[i, j, k] == d_min:\n",
    "                f[i, j, k] = 0\n",
    "            elif d[i, j, k] == d_mean:\n",
    "                f[i, j, k] = 50\n",
    "            elif d_min < d[i, j, k] < d_mean:\n",
    "                f[i, j, k] = 25\n",
    "            elif d_mean < d[i, j, k] < d_max:\n",
    "                f[i, j, k] = 75\n",
    "\n",
    "# Print the populated array f\n",
    "print(\"Array f:\")\n",
    "print(f)\n"
   ]
  },
  {
   "cell_type": "markdown",
   "metadata": {},
   "source": [
    "\n",
    "\n",
    "\n",
    "\n",
    "### 17. Print d and f. Do you have your expected f?\n",
    "For instance, if your d is:\n",
    "array([[[1.85836099, 1.67064465, 1.62576044, 1.40243961, 1.88454931],\n",
    "        [1.75354326, 1.69403643, 1.36729252, 1.61415071, 1.12104981],\n",
    "        [1.72201435, 1.1862918 , 1.87078449, 1.7726778 , 1.88180042]],\n",
    "\n",
    "       [[1.44747908, 1.31673383, 1.02000951, 1.52218947, 1.97066381],\n",
    "        [1.79129243, 1.74983003, 1.96028037, 1.85166831, 1.65450881],\n",
    "        [1.18068344, 1.9587381 , 1.00656599, 1.93402165, 1.73514584]]])\n",
    "\n",
    "Your f should be:\n",
    "array([[[ 75.,  75.,  75.,  25.,  75.],\n",
    "        [ 75.,  75.,  25.,  25.,  25.],\n",
    "        [ 75.,  25.,  75.,  75.,  75.]],\n",
    "\n",
    "       [[ 25.,  25.,  25.,  25., 100.],\n",
    "        [ 75.,  75.,  75.,  75.,  75.],\n",
    "        [ 25.,  75.,   0.,  75.,  75.]]])\n",
    "\n"
   ]
  },
  {
   "cell_type": "code",
   "execution_count": 95,
   "metadata": {},
   "outputs": [
    {
     "name": "stdout",
     "output_type": "stream",
     "text": [
      "Array d:\n",
      "[[[0.99586207 1.25871687 0.1890006  0.39251305 1.46121676]\n",
      "  [1.03066494 0.4617753  0.95548433 1.79436628 0.43994675]\n",
      "  [1.0628669  0.40287496 0.88726965 0.46767786 0.79350207]]\n",
      "\n",
      " [[0.897615   1.52202763 0.62384282 1.7182908  1.62067589]\n",
      "  [0.65915345 0.63650289 0.66864251 1.2644239  0.29061894]\n",
      "  [1.58048417 1.04685666 0.67499225 1.8491108  1.67117976]]]\n",
      "\n",
      "Array f:\n",
      "[[[ 75.  75.   0.  25.  75.]\n",
      "  [ 75.  25.  25.  75.  25.]\n",
      "  [ 75.  25.  25.  25.  25.]]\n",
      "\n",
      " [[ 25.  75.  25.  75.  75.]\n",
      "  [ 25.  25.  25.  75.  25.]\n",
      "  [ 75.  75.  25. 100.  75.]]]\n"
     ]
    }
   ],
   "source": [
    "### [your code here]\n",
    "import numpy as np\n",
    "\n",
    "# Define array a with shape (2, 3, 5)\n",
    "a = np.random.rand(2, 3, 5)  # Random array with shape 2x3x5\n",
    "\n",
    "# Define array b and reshape it to create array c with shape (2, 3, 5)\n",
    "b = np.random.rand(30)  # A flat array with 30 elements\n",
    "c = b.reshape(2, 3, 5)\n",
    "\n",
    "# Add a and c to create d\n",
    "d = a + c\n",
    "\n",
    "# Identify the max, min, and mean values in d\n",
    "d_max = np.max(d)\n",
    "d_min = np.min(d)\n",
    "d_mean = np.mean(d)\n",
    "\n",
    "# Create an empty array f with the same shape as d (2x3x5)\n",
    "f = np.empty_like(d)\n",
    "\n",
    "# Loop through the elements in d and populate f according to the rules\n",
    "for i in range(d.shape[0]):\n",
    "    for j in range(d.shape[1]):\n",
    "        for k in range(d.shape[2]):\n",
    "            if d[i, j, k] == d_max:\n",
    "                f[i, j, k] = 100\n",
    "            elif d[i, j, k] == d_min:\n",
    "                f[i, j, k] = 0\n",
    "            elif d[i, j, k] == d_mean:\n",
    "                f[i, j, k] = 50\n",
    "            elif d_min < d[i, j, k] < d_mean:\n",
    "                f[i, j, k] = 25\n",
    "            elif d_mean < d[i, j, k] < d_max:\n",
    "                f[i, j, k] = 75\n",
    "\n",
    "# Print d and f to compare the results\n",
    "print(\"Array d:\")\n",
    "print(d)\n",
    "\n",
    "print(\"\\nArray f:\")\n",
    "print(f)\n"
   ]
  },
  {
   "cell_type": "markdown",
   "metadata": {},
   "source": [
    "### 18. Bonus question: instead of using numbers (i.e. 0, 25, 50, 75, and 100), how to use string values \n",
    "(\"A\", \"B\", \"C\", \"D\", and \"E\") to label the array elements? You are expecting the result to be:\n",
    "array([[[ 'D',  'D',  'D',  'B',  'D'],\n",
    "        [ 'D',  'D',  'B',  'B',  'B'],\n",
    "        [ 'D',  'B',  'D',  'D',  'D']],\n",
    "\n",
    "       [[ 'B',  'B',  'B',  'B',  'E'],\n",
    "        [ 'D',  'D',  'D',  'D',  'D'],\n",
    "        [ 'B',  'D',   'A',  'D', 'D']]])\n",
    "Again, you don't need Numpy in this question."
   ]
  },
  {
   "cell_type": "code",
   "execution_count": 96,
   "metadata": {},
   "outputs": [
    {
     "name": "stdout",
     "output_type": "stream",
     "text": [
      "Array f with string labels:\n",
      "[[['D' 'B' 'B' 'D' 'B']\n",
      "  ['B' 'B' 'B' 'B' 'D']\n",
      "  ['B' 'B' 'D' 'D' 'D']]\n",
      "\n",
      " [['B' 'D' 'B' 'D' 'B']\n",
      "  ['B' 'B' 'B' 'A' 'E']\n",
      "  ['D' 'D' 'B' 'D' 'B']]]\n"
     ]
    }
   ],
   "source": [
    "### [your code here]\n",
    "import numpy as np\n",
    "\n",
    "# Define array a with shape (2, 3, 5)\n",
    "a = np.random.rand(2, 3, 5)  # Random array with shape 2x3x5\n",
    "\n",
    "# Define array b and reshape it to create array c with shape (2, 3, 5)\n",
    "b = np.random.rand(30)  # A flat array with 30 elements\n",
    "c = b.reshape(2, 3, 5)\n",
    "\n",
    "# Add a and c to create d\n",
    "d = a + c\n",
    "\n",
    "# Identify the max, min, and mean values in d\n",
    "d_max = np.max(d)\n",
    "d_min = np.min(d)\n",
    "d_mean = np.mean(d)\n",
    "\n",
    "# Create an empty array f with the same shape as d (2x3x5), but with string data type\n",
    "f = np.empty_like(d, dtype=object)  # Use dtype=object to store strings\n",
    "\n",
    "# Loop through the elements in d and populate f according to the rules\n",
    "for i in range(d.shape[0]):\n",
    "    for j in range(d.shape[1]):\n",
    "        for k in range(d.shape[2]):\n",
    "            if d[i, j, k] == d_max:\n",
    "                f[i, j, k] = \"E\"\n",
    "            elif d[i, j, k] == d_min:\n",
    "                f[i, j, k] = \"A\"\n",
    "            elif d[i, j, k] == d_mean:\n",
    "                f[i, j, k] = \"C\"\n",
    "            elif d_min < d[i, j, k] < d_mean:\n",
    "                f[i, j, k] = \"B\"\n",
    "            elif d_mean < d[i, j, k] < d_max:\n",
    "                f[i, j, k] = \"D\"\n",
    "\n",
    "# Print the populated array f\n",
    "print(\"Array f with string labels:\")\n",
    "print(f)\n"
   ]
  }
 ],
 "metadata": {
  "kernelspec": {
   "display_name": "Python 3",
   "language": "python",
   "name": "python3"
  },
  "language_info": {
   "codemirror_mode": {
    "name": "ipython",
    "version": 3
   },
   "file_extension": ".py",
   "mimetype": "text/x-python",
   "name": "python",
   "nbconvert_exporter": "python",
   "pygments_lexer": "ipython3",
   "version": "3.11.7"
  }
 },
 "nbformat": 4,
 "nbformat_minor": 2
}
