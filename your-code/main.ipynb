{
 "cells": [
  {
   "cell_type": "markdown",
   "id": "6bc92912",
   "metadata": {},
   "source": [
    "1. Import the NUMPY package under the name np."
   ]
  },
  {
   "cell_type": "code",
   "execution_count": 1,
   "id": "b03c6af3",
   "metadata": {
    "lines_to_next_cell": 2
   },
   "outputs": [],
   "source": [
    "import numpy as np"
   ]
  },
  {
   "cell_type": "markdown",
   "id": "747ec855",
   "metadata": {},
   "source": [
    "2. Print the NUMPY version and the configuration."
   ]
  },
  {
   "cell_type": "markdown",
   "id": "942c1700",
   "metadata": {
    "lines_to_next_cell": 2
   },
   "source": [
    "[your code here]"
   ]
  },
  {
   "cell_type": "code",
   "execution_count": 2,
   "id": "679084de",
   "metadata": {},
   "outputs": [
    {
     "name": "stdout",
     "output_type": "stream",
     "text": [
      "Numpy version: 1.26.4\n",
      "Build Dependencies:\n",
      "  blas:\n",
      "    detection method: pkgconfig\n",
      "    found: true\n",
      "    include directory: /opt/anaconda3/include\n",
      "    lib directory: /opt/anaconda3/lib\n",
      "    name: openblas\n",
      "    openblas configuration: USE_64BITINT= DYNAMIC_ARCH=1 DYNAMIC_OLDER= NO_CBLAS=\n",
      "      NO_LAPACK=0 NO_LAPACKE= NO_AFFINITY=1 USE_OPENMP=0 CORE2 MAX_THREADS=128\n",
      "    pc file directory: /opt/anaconda3/lib/pkgconfig\n",
      "    version: 0.3.21\n",
      "  lapack:\n",
      "    detection method: internal\n",
      "    found: true\n",
      "    include directory: unknown\n",
      "    lib directory: unknown\n",
      "    name: dep4429404432\n",
      "    openblas configuration: unknown\n",
      "    pc file directory: unknown\n",
      "    version: 1.26.4\n",
      "Compilers:\n",
      "  c:\n",
      "    args: -march=core2, -mtune=haswell, -mssse3, -ftree-vectorize, -fPIC, -fPIE, -fstack-protector-strong,\n",
      "      -O2, -pipe, -isystem, /opt/anaconda3/include, -fdebug-prefix-map=/var/folders/c_/qfmhj66j0tn016nkx_th4hxm0000gp/T/abs_b7iptlxgej/croot/numpy_and_numpy_base_1708638622773/work=/usr/local/src/conda/numpy-base-1.26.4,\n",
      "      -fdebug-prefix-map=/opt/anaconda3=/usr/local/src/conda-prefix, -D_FORTIFY_SOURCE=2,\n",
      "      -isystem, /opt/anaconda3/include, -mmacosx-version-min=10.9\n",
      "    commands: x86_64-apple-darwin13.4.0-clang\n",
      "    linker: ld64\n",
      "    linker args: -Wl,-pie, -Wl,-headerpad_max_install_names, -Wl,-dead_strip_dylibs,\n",
      "      -Wl,-rpath,/opt/anaconda3/lib, -L/opt/anaconda3/lib, -march=core2, -mtune=haswell,\n",
      "      -mssse3, -ftree-vectorize, -fPIC, -fPIE, -fstack-protector-strong, -O2, -pipe,\n",
      "      -isystem, /opt/anaconda3/include, -fdebug-prefix-map=/var/folders/c_/qfmhj66j0tn016nkx_th4hxm0000gp/T/abs_b7iptlxgej/croot/numpy_and_numpy_base_1708638622773/work=/usr/local/src/conda/numpy-base-1.26.4,\n",
      "      -fdebug-prefix-map=/opt/anaconda3=/usr/local/src/conda-prefix, -D_FORTIFY_SOURCE=2,\n",
      "      -isystem, /opt/anaconda3/include, -mmacosx-version-min=10.9\n",
      "    name: clang\n",
      "    version: 14.0.6\n",
      "  c++:\n",
      "    args: -march=core2, -mtune=haswell, -mssse3, -ftree-vectorize, -fPIC, -fPIE, -fstack-protector-strong,\n",
      "      -O2, -pipe, -stdlib=libc++, -fvisibility-inlines-hidden, -fmessage-length=0,\n",
      "      -isystem, /opt/anaconda3/include, -fdebug-prefix-map=/var/folders/c_/qfmhj66j0tn016nkx_th4hxm0000gp/T/abs_b7iptlxgej/croot/numpy_and_numpy_base_1708638622773/work=/usr/local/src/conda/numpy-base-1.26.4,\n",
      "      -fdebug-prefix-map=/opt/anaconda3=/usr/local/src/conda-prefix, -D_FORTIFY_SOURCE=2,\n",
      "      -isystem, /opt/anaconda3/include, -mmacosx-version-min=10.9\n",
      "    commands: x86_64-apple-darwin13.4.0-clang++\n",
      "    linker: ld64\n",
      "    linker args: -Wl,-pie, -Wl,-headerpad_max_install_names, -Wl,-dead_strip_dylibs,\n",
      "      -Wl,-rpath,/opt/anaconda3/lib, -L/opt/anaconda3/lib, -march=core2, -mtune=haswell,\n",
      "      -mssse3, -ftree-vectorize, -fPIC, -fPIE, -fstack-protector-strong, -O2, -pipe,\n",
      "      -stdlib=libc++, -fvisibility-inlines-hidden, -fmessage-length=0, -isystem, /opt/anaconda3/include,\n",
      "      -fdebug-prefix-map=/var/folders/c_/qfmhj66j0tn016nkx_th4hxm0000gp/T/abs_b7iptlxgej/croot/numpy_and_numpy_base_1708638622773/work=/usr/local/src/conda/numpy-base-1.26.4,\n",
      "      -fdebug-prefix-map=/opt/anaconda3=/usr/local/src/conda-prefix, -D_FORTIFY_SOURCE=2,\n",
      "      -isystem, /opt/anaconda3/include, -mmacosx-version-min=10.9\n",
      "    name: clang\n",
      "    version: 14.0.6\n",
      "  cython:\n",
      "    commands: cython\n",
      "    linker: cython\n",
      "    name: cython\n",
      "    version: 3.0.8\n",
      "Machine Information:\n",
      "  build:\n",
      "    cpu: x86_64\n",
      "    endian: little\n",
      "    family: x86_64\n",
      "    system: darwin\n",
      "  host:\n",
      "    cpu: x86_64\n",
      "    endian: little\n",
      "    family: x86_64\n",
      "    system: darwin\n",
      "Python Information:\n",
      "  path: /opt/anaconda3/bin/python\n",
      "  version: '3.12'\n",
      "SIMD Extensions:\n",
      "  baseline:\n",
      "  - SSE\n",
      "  - SSE2\n",
      "  - SSE3\n",
      "  - SSSE3\n",
      "  found:\n",
      "  - SSE41\n",
      "  - POPCNT\n",
      "  - SSE42\n",
      "  - AVX\n",
      "  - F16C\n",
      "  - FMA3\n",
      "  - AVX2\n",
      "  - AVX512F\n",
      "  - AVX512CD\n",
      "  - AVX512_SKX\n",
      "  - AVX512_CLX\n",
      "  - AVX512_CNL\n",
      "  - AVX512_ICL\n",
      "  not found:\n",
      "  - AVX512_KNL\n",
      "\n"
     ]
    }
   ],
   "source": [
    "print(\"Numpy version:\", np.__version__)\n",
    "\n",
    "np.show_config()"
   ]
  },
  {
   "cell_type": "markdown",
   "id": "a206a73d",
   "metadata": {},
   "source": [
    "3. Generate a 2x3x5 3-dimensional array with random values. Assign the array to variable \"a\"\n",
    "Challenge: there are at least three easy ways that use numpy to generate random arrays. How many ways can you find?"
   ]
  },
  {
   "cell_type": "markdown",
   "id": "6b3325d3",
   "metadata": {},
   "source": [
    "[your code here]"
   ]
  },
  {
   "cell_type": "code",
   "execution_count": 23,
   "id": "0e6aaf46",
   "metadata": {},
   "outputs": [],
   "source": [
    "a = np.random.random((2,3,5)) #notes\n",
    "\n",
    "\n",
    "a_2 = np.random.rand(2, 3, 5)  \n",
    "\n"
   ]
  },
  {
   "cell_type": "markdown",
   "id": "f12cb670",
   "metadata": {},
   "source": [
    "4. Print a."
   ]
  },
  {
   "cell_type": "code",
   "execution_count": 24,
   "id": "956265c9",
   "metadata": {},
   "outputs": [
    {
     "name": "stdout",
     "output_type": "stream",
     "text": [
      "[[[0.85515449 0.31564983 0.23462567 0.84323575 0.17745826]\n",
      "  [0.25513796 0.21608448 0.45699394 0.60927631 0.28166128]\n",
      "  [0.17188883 0.80710571 0.0974135  0.03851219 0.84287429]]\n",
      "\n",
      " [[0.4437699  0.2306105  0.27660413 0.55533812 0.46590897]\n",
      "  [0.39899074 0.37936201 0.73951726 0.63281721 0.29538599]\n",
      "  [0.46367786 0.33599235 0.387887   0.11778694 0.02415669]]]\n",
      "[[[0.93294023 0.36583869 0.30024405 0.58900829 0.45568019]\n",
      "  [0.37707407 0.86263994 0.31036339 0.93957125 0.49595668]\n",
      "  [0.29934769 0.9663739  0.01048008 0.74569364 0.74569809]]\n",
      "\n",
      " [[0.24642374 0.32231325 0.41513314 0.9440735  0.33155953]\n",
      "  [0.9473509  0.24232668 0.03647347 0.94609658 0.98335145]\n",
      "  [0.35154415 0.12346745 0.28430598 0.34996737 0.91832455]]]\n"
     ]
    }
   ],
   "source": [
    "#[your code here]\n",
    "print(a)\n",
    "print(a_2)\n"
   ]
  },
  {
   "cell_type": "code",
   "execution_count": 25,
   "id": "a45a4dc4",
   "metadata": {},
   "outputs": [],
   "source": [
    "#5. Create a 5x2x3 3-dimensional array with all values equaling 1.\n",
    "#Assign the array to variable \"b\"\n",
    "\n",
    "#[your code here]\n",
    "\n",
    "b = np.ones((5, 2, 3))"
   ]
  },
  {
   "cell_type": "markdown",
   "id": "57b5a68d",
   "metadata": {},
   "source": [
    "6. Print b."
   ]
  },
  {
   "cell_type": "code",
   "execution_count": 26,
   "id": "74a511c4",
   "metadata": {},
   "outputs": [
    {
     "name": "stdout",
     "output_type": "stream",
     "text": [
      "[[[1. 1. 1.]\n",
      "  [1. 1. 1.]]\n",
      "\n",
      " [[1. 1. 1.]\n",
      "  [1. 1. 1.]]\n",
      "\n",
      " [[1. 1. 1.]\n",
      "  [1. 1. 1.]]\n",
      "\n",
      " [[1. 1. 1.]\n",
      "  [1. 1. 1.]]\n",
      "\n",
      " [[1. 1. 1.]\n",
      "  [1. 1. 1.]]]\n"
     ]
    }
   ],
   "source": [
    "print(b)"
   ]
  },
  {
   "cell_type": "markdown",
   "id": "c6927640",
   "metadata": {},
   "source": [
    "7. Do a and b have the same size? How do you prove that in Python code?"
   ]
  },
  {
   "cell_type": "code",
   "execution_count": 31,
   "id": "96d346cc",
   "metadata": {},
   "outputs": [
    {
     "name": "stdout",
     "output_type": "stream",
     "text": [
      "Do a and b have the same size? True\n",
      "True\n"
     ]
    }
   ],
   "source": [
    "#your code here\n",
    "\n",
    "same_size = a.size == b.size  \n",
    "print(f\"Do a and b have the same size? {same_size}\")\n",
    "print(same_size)\n"
   ]
  },
  {
   "cell_type": "markdown",
   "id": "7fbfa190",
   "metadata": {},
   "source": [
    "8. Are you able to add a and b? Why or why not?"
   ]
  },
  {
   "cell_type": "code",
   "execution_count": null,
   "id": "06c9d497",
   "metadata": {
    "lines_to_next_cell": 2
   },
   "outputs": [],
   "source": [
    "#[your code here]\n",
    "#a and b have to be compatible but they are not, (2, 3, 5) != (5, 2, 3) -> dimensions do not align properly\n",
    "\n"
   ]
  },
  {
   "cell_type": "markdown",
   "id": "15cd313f",
   "metadata": {},
   "source": [
    "9. Transpose b so that it has the same structure of a (i.e. become a 2x3x5 array). Assign the transposed array to varialbe \"c\"."
   ]
  },
  {
   "cell_type": "code",
   "execution_count": 49,
   "id": "fd4be649",
   "metadata": {},
   "outputs": [],
   "source": [
    "c = b = np.ones((2,3,5))"
   ]
  },
  {
   "cell_type": "markdown",
   "id": "0c919e93",
   "metadata": {},
   "source": [
    "10. Try to add a and c. Now it should work. Assign the sum to varialbe \"d\". But why does it work now?"
   ]
  },
  {
   "cell_type": "code",
   "execution_count": 50,
   "id": "3281cbe1",
   "metadata": {},
   "outputs": [
    {
     "name": "stdout",
     "output_type": "stream",
     "text": [
      "[[[1.85515449 1.31564983 1.23462567 1.84323575 1.17745826]\n",
      "  [1.25513796 1.21608448 1.45699394 1.60927631 1.28166128]\n",
      "  [1.17188883 1.80710571 1.0974135  1.03851219 1.84287429]]\n",
      "\n",
      " [[1.4437699  1.2306105  1.27660413 1.55533812 1.46590897]\n",
      "  [1.39899074 1.37936201 1.73951726 1.63281721 1.29538599]\n",
      "  [1.46367786 1.33599235 1.387887   1.11778694 1.02415669]]]\n"
     ]
    }
   ],
   "source": [
    "#[your code here]\n",
    "d =a + c\n",
    "print(d)\n",
    "# it works now because they bothe have the same dimensions"
   ]
  },
  {
   "cell_type": "markdown",
   "id": "37d71d7a",
   "metadata": {},
   "source": [
    "11. Print a and d. Notice the difference and relation of the two array in terms of the values? Explain."
   ]
  },
  {
   "cell_type": "code",
   "execution_count": 51,
   "id": "1452b66a",
   "metadata": {
    "lines_to_next_cell": 2
   },
   "outputs": [
    {
     "name": "stdout",
     "output_type": "stream",
     "text": [
      "[[[0.85515449 0.31564983 0.23462567 0.84323575 0.17745826]\n",
      "  [0.25513796 0.21608448 0.45699394 0.60927631 0.28166128]\n",
      "  [0.17188883 0.80710571 0.0974135  0.03851219 0.84287429]]\n",
      "\n",
      " [[0.4437699  0.2306105  0.27660413 0.55533812 0.46590897]\n",
      "  [0.39899074 0.37936201 0.73951726 0.63281721 0.29538599]\n",
      "  [0.46367786 0.33599235 0.387887   0.11778694 0.02415669]]]\n",
      "[[[1.85515449 1.31564983 1.23462567 1.84323575 1.17745826]\n",
      "  [1.25513796 1.21608448 1.45699394 1.60927631 1.28166128]\n",
      "  [1.17188883 1.80710571 1.0974135  1.03851219 1.84287429]]\n",
      "\n",
      " [[1.4437699  1.2306105  1.27660413 1.55533812 1.46590897]\n",
      "  [1.39899074 1.37936201 1.73951726 1.63281721 1.29538599]\n",
      "  [1.46367786 1.33599235 1.387887   1.11778694 1.02415669]]]\n"
     ]
    }
   ],
   "source": [
    "#[your code here]\n",
    "print(a)\n",
    "print(d)\n",
    "\n",
    "# because b was made only out od 1s they d is a but with the addition of 1 in each number"
   ]
  },
  {
   "cell_type": "markdown",
   "id": "58ff87e5",
   "metadata": {},
   "source": [
    "12. Multiply a and c. Assign the result to e."
   ]
  },
  {
   "cell_type": "code",
   "execution_count": 52,
   "id": "28af63fc",
   "metadata": {
    "lines_to_next_cell": 2
   },
   "outputs": [
    {
     "name": "stdout",
     "output_type": "stream",
     "text": [
      "[[[0.85515449 0.31564983 0.23462567 0.84323575 0.17745826]\n",
      "  [0.25513796 0.21608448 0.45699394 0.60927631 0.28166128]\n",
      "  [0.17188883 0.80710571 0.0974135  0.03851219 0.84287429]]\n",
      "\n",
      " [[0.4437699  0.2306105  0.27660413 0.55533812 0.46590897]\n",
      "  [0.39899074 0.37936201 0.73951726 0.63281721 0.29538599]\n",
      "  [0.46367786 0.33599235 0.387887   0.11778694 0.02415669]]]\n"
     ]
    }
   ],
   "source": [
    "e = a * c\n",
    "print(e)"
   ]
  },
  {
   "cell_type": "markdown",
   "id": "c4efd692",
   "metadata": {},
   "source": [
    "13. Does e equal to a? Why or why not?"
   ]
  },
  {
   "cell_type": "code",
   "execution_count": 53,
   "id": "9c08bc24",
   "metadata": {},
   "outputs": [
    {
     "data": {
      "text/plain": [
       "array([[[ True,  True,  True,  True,  True],\n",
       "        [ True,  True,  True,  True,  True],\n",
       "        [ True,  True,  True,  True,  True]],\n",
       "\n",
       "       [[ True,  True,  True,  True,  True],\n",
       "        [ True,  True,  True,  True,  True],\n",
       "        [ True,  True,  True,  True,  True]]])"
      ]
     },
     "execution_count": 53,
     "metadata": {},
     "output_type": "execute_result"
    }
   ],
   "source": [
    "a == e\n",
    "#it equals because a number times 1 is the number itsself "
   ]
  },
  {
   "cell_type": "markdown",
   "id": "f1b6f79f",
   "metadata": {},
   "source": [
    "14. Identify the max, min, and mean values in d. Assign those values to variables \"d_max\", \"d_min\", and \"d_mean\""
   ]
  },
  {
   "cell_type": "code",
   "execution_count": 60,
   "id": "dfd8109c",
   "metadata": {
    "lines_to_next_cell": 2
   },
   "outputs": [
    {
     "name": "stdout",
     "output_type": "stream",
     "text": [
      "[[[1.85515449 1.31564983 1.23462567 1.84323575 1.17745826]\n",
      "  [1.25513796 1.21608448 1.45699394 1.60927631 1.28166128]\n",
      "  [1.17188883 1.80710571 1.0974135  1.03851219 1.84287429]]\n",
      "\n",
      " [[1.4437699  1.2306105  1.27660413 1.55533812 1.46590897]\n",
      "  [1.39899074 1.37936201 1.73951726 1.63281721 1.29538599]\n",
      "  [1.46367786 1.33599235 1.387887   1.11778694 1.02415669]]]\n",
      "1.8551544914365654 1.0241566860614015 1.3983626054157527\n"
     ]
    }
   ],
   "source": [
    "print(d)\n",
    "d_max = d.max()\n",
    "d_min = d.min()\n",
    "d_mean = d.mean()\n",
    "print(d_max, d_min, d_mean)"
   ]
  },
  {
   "cell_type": "markdown",
   "id": "dd8e8104",
   "metadata": {},
   "source": [
    "15. Now we want to label the values in d. First create an empty array \"f\" with the same shape (i.e. 2x3x5) as d using `np.empty`."
   ]
  },
  {
   "cell_type": "code",
   "execution_count": 67,
   "id": "0d28c58e",
   "metadata": {
    "lines_to_next_cell": 2
   },
   "outputs": [],
   "source": [
    "f =np.empty((2,3,5))"
   ]
  },
  {
   "cell_type": "code",
   "execution_count": null,
   "id": "ec65dba6",
   "metadata": {},
   "outputs": [],
   "source": [
    "\"\"\"\"\n",
    "#16. Populate the values in f. For each value in d, if it's larger than d_min but smaller than d_mean, assign 25 to the corresponding value in f.\n",
    "If a value in d is larger than d_mean but smaller than d_max, assign 75 to the corresponding value in f.\n",
    "If a value equals to d_mean, assign 50 to the corresponding value in f.\n",
    "Assign 0 to the corresponding value(s) in f for d_min in d.\n",
    "Assign 100 to the corresponding value(s) in f for d_max in d.\n",
    "In the end, f should have only the following values: 0, 25, 50, 75, and 100.\n",
    "Note: you don't have to use Numpy in this question.\n",
    "\"\"\""
   ]
  },
  {
   "cell_type": "code",
   "execution_count": 68,
   "id": "a1ed8d9b",
   "metadata": {},
   "outputs": [
    {
     "ename": "ValueError",
     "evalue": "The truth value of an array with more than one element is ambiguous. Use a.any() or a.all()",
     "output_type": "error",
     "traceback": [
      "\u001b[0;31m---------------------------------------------------------------------------\u001b[0m",
      "\u001b[0;31mValueError\u001b[0m                                Traceback (most recent call last)",
      "Cell \u001b[0;32mIn[68], line 2\u001b[0m\n\u001b[1;32m      1\u001b[0m \u001b[38;5;28;01mfor\u001b[39;00m value \u001b[38;5;129;01min\u001b[39;00m d:\n\u001b[0;32m----> 2\u001b[0m     \u001b[38;5;28;01mif\u001b[39;00m value \u001b[38;5;241m==\u001b[39m d_min:\n\u001b[1;32m      3\u001b[0m         f\u001b[38;5;241m.\u001b[39mappend(\u001b[38;5;241m0\u001b[39m)  \n\u001b[1;32m      4\u001b[0m     \u001b[38;5;28;01melif\u001b[39;00m value \u001b[38;5;241m==\u001b[39m d_max:\n",
      "\u001b[0;31mValueError\u001b[0m: The truth value of an array with more than one element is ambiguous. Use a.any() or a.all()"
     ]
    }
   ],
   "source": [
    "for value in d:\n",
    "    if value == d_min:\n",
    "        f.append(0)  \n",
    "    elif value == d_max:\n",
    "        f.append(100) \n",
    "    elif value == d_mean:\n",
    "        f.append(50)  \n",
    "    elif d_min < value < d_mean:\n",
    "        f.append(25) \n",
    "    elif d_mean < value < d_max:\n",
    "        f.append(75)  "
   ]
  },
  {
   "cell_type": "code",
   "execution_count": null,
   "id": "16a9c513",
   "metadata": {},
   "outputs": [],
   "source": [
    "\"\"\"\n",
    "#17. Print d and f. Do you have your expected f?\n",
    "For instance, if your d is:\n",
    "array([[[1.85836099, 1.67064465, 1.62576044, 1.40243961, 1.88454931],\n",
    "        [1.75354326, 1.69403643, 1.36729252, 1.61415071, 1.12104981],\n",
    "        [1.72201435, 1.1862918 , 1.87078449, 1.7726778 , 1.88180042]],\n",
    "\n",
    "       [[1.44747908, 1.31673383, 1.02000951, 1.52218947, 1.97066381],\n",
    "        [1.79129243, 1.74983003, 1.96028037, 1.85166831, 1.65450881],\n",
    "        [1.18068344, 1.9587381 , 1.00656599, 1.93402165, 1.73514584]]])\n",
    "\n",
    "Your f should be:\n",
    "array([[[ 75.,  75.,  75.,  25.,  75.],\n",
    "        [ 75.,  75.,  25.,  25.,  25.],\n",
    "        [ 75.,  25.,  75.,  75.,  75.]],\n",
    "\n",
    "       [[ 25.,  25.,  25.,  25., 100.],\n",
    "        [ 75.,  75.,  75.,  75.,  75.],\n",
    "        [ 25.,  75.,   0.,  75.,  75.]]])\n",
    "\"\"\""
   ]
  },
  {
   "cell_type": "markdown",
   "id": "0b9b1cc5",
   "metadata": {},
   "source": [
    "[your code here]"
   ]
  },
  {
   "cell_type": "code",
   "execution_count": null,
   "id": "fa7fc659",
   "metadata": {},
   "outputs": [],
   "source": [
    "#i don't know"
   ]
  },
  {
   "cell_type": "code",
   "execution_count": null,
   "id": "5a5a0bc9",
   "metadata": {},
   "outputs": [],
   "source": [
    "\"\"\"\n",
    "#18. Bonus question: instead of using numbers (i.e. 0, 25, 50, 75, and 100), how to use string values \n",
    "(\"A\", \"B\", \"C\", \"D\", and \"E\") to label the array elements? You are expecting the result to be:\n",
    "array([[[ 'D',  'D',  'D',  'B',  'D'],\n",
    "        [ 'D',  'D',  'B',  'B',  'B'],\n",
    "        [ 'D',  'B',  'D',  'D',  'D']],\n",
    "\n",
    "       [[ 'B',  'B',  'B',  'B',  'E'],\n",
    "        [ 'D',  'D',  'D',  'D',  'D'],\n",
    "        [ 'B',  'D',   'A',  'D', 'D']]])\n",
    "Again, you don't need Numpy in this question.\n",
    "\"\"\""
   ]
  },
  {
   "cell_type": "markdown",
   "id": "35bbdbfe",
   "metadata": {},
   "source": [
    "[your code here]"
   ]
  }
 ],
 "metadata": {
  "jupytext": {
   "cell_metadata_filter": "-all",
   "main_language": "python",
   "notebook_metadata_filter": "-all"
  },
  "kernelspec": {
   "display_name": "base",
   "language": "python",
   "name": "python3"
  },
  "language_info": {
   "codemirror_mode": {
    "name": "ipython",
    "version": 3
   },
   "file_extension": ".py",
   "mimetype": "text/x-python",
   "name": "python",
   "nbconvert_exporter": "python",
   "pygments_lexer": "ipython3",
   "version": "3.12.4"
  }
 },
 "nbformat": 4,
 "nbformat_minor": 5
}
