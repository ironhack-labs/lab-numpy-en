{
 "cells": [
  {
   "cell_type": "markdown",
   "metadata": {},
   "source": [
    "# Lab | Numpy Deep Dive"
   ]
  },
  {
   "cell_type": "markdown",
   "metadata": {},
   "source": [
    "### 1. Import the NUMPY package under the name np.\n"
   ]
  },
  {
   "cell_type": "code",
   "execution_count": 3,
   "metadata": {},
   "outputs": [],
   "source": [
    "### [your code here]\n",
    "import numpy as np"
   ]
  },
  {
   "cell_type": "markdown",
   "metadata": {},
   "source": [
    "\n",
    "\n",
    "### 2. Print the NUMPY version and the configuration.\n"
   ]
  },
  {
   "cell_type": "code",
   "execution_count": 4,
   "metadata": {},
   "outputs": [
    {
     "name": "stdout",
     "output_type": "stream",
     "text": [
      "1.26.4\n"
     ]
    }
   ],
   "source": [
    "print(np.__version__)"
   ]
  },
  {
   "cell_type": "markdown",
   "metadata": {},
   "source": [
    "### 3. Generate a 2x3x5 3-dimensional array with random values. Assign the array to variable \"a\"\n",
    "Challenge: there are at least three easy ways that use numpy to generate random arrays. How many ways can you find?\n"
   ]
  },
  {
   "cell_type": "code",
   "execution_count": 5,
   "metadata": {},
   "outputs": [],
   "source": [
    "### [your code here]\n",
    "a = np.random.random(size=(2,3,5))"
   ]
  },
  {
   "cell_type": "markdown",
   "metadata": {},
   "source": [
    "\n",
    "### 4. Print a.\n"
   ]
  },
  {
   "cell_type": "code",
   "execution_count": 6,
   "metadata": {},
   "outputs": [
    {
     "name": "stdout",
     "output_type": "stream",
     "text": [
      "[[[0.76095205 0.75222261 0.48477716 0.02746439 0.31286769]\n",
      "  [0.93469079 0.52113769 0.87888511 0.75722512 0.97832949]\n",
      "  [0.87818213 0.84405128 0.39802762 0.51556884 0.14761184]]\n",
      "\n",
      " [[0.74406698 0.23767507 0.24759737 0.77231217 0.68416323]\n",
      "  [0.16787847 0.73419601 0.30064182 0.09884701 0.36064287]\n",
      "  [0.21730134 0.98698378 0.94499348 0.98475382 0.9736853 ]]]\n"
     ]
    }
   ],
   "source": [
    "### [your code here]\n",
    "print(a)"
   ]
  },
  {
   "cell_type": "markdown",
   "metadata": {},
   "source": [
    "### 5. Create a 5x2x3 3-dimensional array with all values equaling 1.\n",
    "### Assign the array to variable \"b\"\n"
   ]
  },
  {
   "cell_type": "code",
   "execution_count": 7,
   "metadata": {},
   "outputs": [],
   "source": [
    "### [your code here]\n",
    "b = np.ones((5,2,3))"
   ]
  },
  {
   "cell_type": "markdown",
   "metadata": {},
   "source": [
    "\n",
    "### 6. Print b.\n"
   ]
  },
  {
   "cell_type": "code",
   "execution_count": 8,
   "metadata": {},
   "outputs": [
    {
     "name": "stdout",
     "output_type": "stream",
     "text": [
      "[[[1. 1. 1.]\n",
      "  [1. 1. 1.]]\n",
      "\n",
      " [[1. 1. 1.]\n",
      "  [1. 1. 1.]]\n",
      "\n",
      " [[1. 1. 1.]\n",
      "  [1. 1. 1.]]\n",
      "\n",
      " [[1. 1. 1.]\n",
      "  [1. 1. 1.]]\n",
      "\n",
      " [[1. 1. 1.]\n",
      "  [1. 1. 1.]]]\n"
     ]
    }
   ],
   "source": [
    "### [your code here]\n",
    "print(b)"
   ]
  },
  {
   "cell_type": "markdown",
   "metadata": {},
   "source": [
    "\n",
    "### 7. Do a and b have the same size? How do you prove that in Python code?\n"
   ]
  },
  {
   "cell_type": "code",
   "execution_count": 9,
   "metadata": {},
   "outputs": [
    {
     "name": "stdout",
     "output_type": "stream",
     "text": [
      "a and b have same size.\n"
     ]
    }
   ],
   "source": [
    "### [your code here]\n",
    "if a.size == b.size:\n",
    "    print(\"a and b have same size.\")\n",
    "else:\n",
    "    print(\"a and b NOT same size\")"
   ]
  },
  {
   "cell_type": "markdown",
   "metadata": {},
   "source": [
    "\n",
    "### 8. Are you able to add a and b? Why or why not?\n"
   ]
  },
  {
   "cell_type": "code",
   "execution_count": 10,
   "metadata": {},
   "outputs": [
    {
     "ename": "ValueError",
     "evalue": "operands could not be broadcast together with shapes (2,3,5) (5,2,3) ",
     "output_type": "error",
     "traceback": [
      "\u001b[1;31m---------------------------------------------------------------------------\u001b[0m",
      "\u001b[1;31mValueError\u001b[0m                                Traceback (most recent call last)",
      "Cell \u001b[1;32mIn[10], line 2\u001b[0m\n\u001b[0;32m      1\u001b[0m \u001b[38;5;66;03m### [your code here]\u001b[39;00m\n\u001b[1;32m----> 2\u001b[0m np\u001b[38;5;241m.\u001b[39madd(a,b)\n",
      "\u001b[1;31mValueError\u001b[0m: operands could not be broadcast together with shapes (2,3,5) (5,2,3) "
     ]
    }
   ],
   "source": [
    "### [your code here]\n",
    "np.add(a,b)\n",
    "\n",
    "#could not add 'a' to 'b' because there are not same shape"
   ]
  },
  {
   "cell_type": "markdown",
   "metadata": {},
   "source": [
    "\n",
    "\n",
    "### 9. Transpose b so that it has the same structure of a (i.e. become a 2x3x5 array). Assign the transposed array to varialbe \"c\".\n"
   ]
  },
  {
   "cell_type": "code",
   "execution_count": 11,
   "metadata": {},
   "outputs": [
    {
     "name": "stdout",
     "output_type": "stream",
     "text": [
      "(2, 3, 5)\n"
     ]
    }
   ],
   "source": [
    "### [your code here]\n",
    "c = np.transpose(b,(1,2,0))\n",
    "print(c.shape)"
   ]
  },
  {
   "cell_type": "markdown",
   "metadata": {},
   "source": [
    "\n",
    "### 10. Try to add a and c. Now it should work. Assign the sum to variable \"d\". But why does it work now?\n"
   ]
  },
  {
   "cell_type": "code",
   "execution_count": 82,
   "metadata": {},
   "outputs": [
    {
     "name": "stdout",
     "output_type": "stream",
     "text": [
      "[[[1.76095205 1.75222261 1.48477716 1.02746439 1.31286769]\n",
      "  [1.93469079 1.52113769 1.87888511 1.75722512 1.97832949]\n",
      "  [1.87818213 1.84405128 1.39802762 1.51556884 1.14761184]]\n",
      "\n",
      " [[1.74406698 1.23767507 1.24759737 1.77231217 1.68416323]\n",
      "  [1.16787847 1.73419601 1.30064182 1.09884701 1.36064287]\n",
      "  [1.21730134 1.98698378 1.94499348 1.98475382 1.9736853 ]]]\n"
     ]
    }
   ],
   "source": [
    "### [your code here]\n",
    "d = a + c\n",
    "print(d)\n",
    "#it works because the 'a' is same shape with 'b'"
   ]
  },
  {
   "cell_type": "markdown",
   "metadata": {},
   "source": [
    "\n",
    "### 11. Print a and d. Notice the difference and relation of the two array in terms of the values? Explain.\n"
   ]
  },
  {
   "cell_type": "code",
   "execution_count": 83,
   "metadata": {},
   "outputs": [
    {
     "name": "stdout",
     "output_type": "stream",
     "text": [
      "a: [[[0.76095205 0.75222261 0.48477716 0.02746439 0.31286769]\n",
      "  [0.93469079 0.52113769 0.87888511 0.75722512 0.97832949]\n",
      "  [0.87818213 0.84405128 0.39802762 0.51556884 0.14761184]]\n",
      "\n",
      " [[0.74406698 0.23767507 0.24759737 0.77231217 0.68416323]\n",
      "  [0.16787847 0.73419601 0.30064182 0.09884701 0.36064287]\n",
      "  [0.21730134 0.98698378 0.94499348 0.98475382 0.9736853 ]]]\n",
      "a dimention:  3 \n",
      "a shape:  (2, 3, 5) \n",
      "a size:  30\n",
      "\n",
      "d: [[[1.76095205 1.75222261 1.48477716 1.02746439 1.31286769]\n",
      "  [1.93469079 1.52113769 1.87888511 1.75722512 1.97832949]\n",
      "  [1.87818213 1.84405128 1.39802762 1.51556884 1.14761184]]\n",
      "\n",
      " [[1.74406698 1.23767507 1.24759737 1.77231217 1.68416323]\n",
      "  [1.16787847 1.73419601 1.30064182 1.09884701 1.36064287]\n",
      "  [1.21730134 1.98698378 1.94499348 1.98475382 1.9736853 ]]]\n",
      "d dimention:  3 \n",
      "d shape:  (2, 3, 5) \n",
      "d size:  30\n"
     ]
    }
   ],
   "source": [
    "### [your code here]\n",
    "print('a:',a)\n",
    "print(\"a dimention: \",a.ndim,'\\na shape: ',a.shape,'\\na size: ',a.size)\n",
    "print('\\nd:',d)\n",
    "print(\"d dimention: \",d.ndim,'\\nd shape: ',d.shape,'\\nd size: ',d.size)\n"
   ]
  },
  {
   "cell_type": "markdown",
   "metadata": {},
   "source": [
    "\n",
    "### 12. Multiply a and c. Assign the result to e.\n"
   ]
  },
  {
   "cell_type": "code",
   "execution_count": 84,
   "metadata": {},
   "outputs": [
    {
     "name": "stdout",
     "output_type": "stream",
     "text": [
      "Multiply 'a' and 'c'= \n",
      " [[[0.76095205 0.75222261 0.48477716 0.02746439 0.31286769]\n",
      "  [0.93469079 0.52113769 0.87888511 0.75722512 0.97832949]\n",
      "  [0.87818213 0.84405128 0.39802762 0.51556884 0.14761184]]\n",
      "\n",
      " [[0.74406698 0.23767507 0.24759737 0.77231217 0.68416323]\n",
      "  [0.16787847 0.73419601 0.30064182 0.09884701 0.36064287]\n",
      "  [0.21730134 0.98698378 0.94499348 0.98475382 0.9736853 ]]]\n"
     ]
    }
   ],
   "source": [
    "### [your code here]\n",
    "e = a*c\n",
    "print(\"Multiply 'a' and 'c'= \\n\",e)"
   ]
  },
  {
   "cell_type": "markdown",
   "metadata": {},
   "source": [
    "\n",
    "\n",
    "### 13. Does e equal to a? Why or why not?\n"
   ]
  },
  {
   "cell_type": "code",
   "execution_count": 85,
   "metadata": {},
   "outputs": [
    {
     "name": "stdout",
     "output_type": "stream",
     "text": [
      "e and a have same size.\n"
     ]
    }
   ],
   "source": [
    "### [your code here]\n",
    "if e.size == a.size:\n",
    "    print(\"e and a have same size.\")\n",
    "else:\n",
    "    print(\"e and a NOT same size\")\n"
   ]
  },
  {
   "cell_type": "markdown",
   "metadata": {},
   "source": [
    "\n",
    "\n",
    "### 14. Identify the max, min, and mean values in d. Assign those values to variables \"d_max\", \"d_min\", and \"d_mean\"\n"
   ]
  },
  {
   "cell_type": "code",
   "execution_count": 86,
   "metadata": {},
   "outputs": [
    {
     "name": "stdout",
     "output_type": "stream",
     "text": [
      "d_max= 1.9869837775392698 \n",
      "d_min= 1.027464392576243 \n",
      "d_mean= 1.5882577509687261\n"
     ]
    }
   ],
   "source": [
    "### [your code here]\n",
    "d_max = np.max(d)\n",
    "d_min = np.min(d)\n",
    "d_mean = np.mean(d)\n",
    "print(\"d_max=\",d_max,\"\\nd_min=\",d_min,\"\\nd_mean=\",d_mean)"
   ]
  },
  {
   "cell_type": "markdown",
   "metadata": {},
   "source": [
    "\n",
    "### 15. Now we want to label the values in d. First create an empty array \"f\" with the same shape (i.e. 2x3x5) as d using `np.empty`.\n"
   ]
  },
  {
   "cell_type": "code",
   "execution_count": 87,
   "metadata": {},
   "outputs": [
    {
     "name": "stdout",
     "output_type": "stream",
     "text": [
      "[[[0.76095205 0.75222261 0.48477716 0.02746439 0.31286769]\n",
      "  [0.93469079 0.52113769 0.87888511 0.75722512 0.97832949]\n",
      "  [0.87818213 0.84405128 0.39802762 0.51556884 0.14761184]]\n",
      "\n",
      " [[0.74406698 0.23767507 0.24759737 0.77231217 0.68416323]\n",
      "  [0.16787847 0.73419601 0.30064182 0.09884701 0.36064287]\n",
      "  [0.21730134 0.98698378 0.94499348 0.98475382 0.9736853 ]]]\n"
     ]
    }
   ],
   "source": [
    "### [your code here]\n",
    "f = np.empty(d.shape)\n",
    "print(f)"
   ]
  },
  {
   "cell_type": "markdown",
   "metadata": {},
   "source": [
    "\n",
    "\n",
    "\n",
    "### 16. Populate the values in f. For each value in d, if it's larger than d_min but smaller than d_mean, assign 25 to the corresponding value in f.\n",
    "If a value in d is larger than d_mean but smaller than d_max, assign 75 to the corresponding value in f.\n",
    "If a value equals to d_mean, assign 50 to the corresponding value in f.\n",
    "Assign 0 to the corresponding value(s) in f for d_min in d.\n",
    "Assign 100 to the corresponding value(s) in f for d_max in d.\n",
    "In the end, f should have only the following values: 0, 25, 50, 75, and 100.\n",
    "Note: you don't have to use Numpy in this question.\n",
    "\n"
   ]
  },
  {
   "cell_type": "code",
   "execution_count": null,
   "metadata": {},
   "outputs": [
    {
     "name": "stdout",
     "output_type": "stream",
     "text": [
      "\n",
      " [[[ 75.  75.  25.   0.  25.]\n",
      "  [ 75.  25.  75.  75.  75.]\n",
      "  [ 75.  75.  25.  25.  25.]]\n",
      "\n",
      " [[ 75.  25.  25.  75.  75.]\n",
      "  [ 25.  75.  25.  25.  25.]\n",
      "  [ 25. 100.  75.  75.  75.]]]\n"
     ]
    }
   ],
   "source": [
    "### [your code here]\n",
    "for i in range(f.shape[0]):\n",
    "    for j in range(f.shape[1]):\n",
    "        for k in range(f.shape[2]):\n",
    "            value = d[i, j, k]\n",
    "            if value == d_min:\n",
    "                f[i, j, k] = 0\n",
    "            elif value == d_max:\n",
    "                f[i, j, k] = 100\n",
    "            elif value == d_mean:\n",
    "                f[i, j, k] = 50\n",
    "            elif d_min < value < d_mean:\n",
    "                f[i, j, k] = 25\n",
    "            elif d_mean < value < d_max:\n",
    "                f[i, j, k] = 75"
   ]
  },
  {
   "cell_type": "markdown",
   "metadata": {},
   "source": [
    "\n",
    "\n",
    "\n",
    "\n",
    "### 17. Print d and f. Do you have your expected f?\n",
    "For instance, if your d is:\n",
    "array([[[1.85836099, 1.67064465, 1.62576044, 1.40243961, 1.88454931],\n",
    "        [1.75354326, 1.69403643, 1.36729252, 1.61415071, 1.12104981],\n",
    "        [1.72201435, 1.1862918 , 1.87078449, 1.7726778 , 1.88180042]],\n",
    "\n",
    "       [[1.44747908, 1.31673383, 1.02000951, 1.52218947, 1.97066381],\n",
    "        [1.79129243, 1.74983003, 1.96028037, 1.85166831, 1.65450881],\n",
    "        [1.18068344, 1.9587381 , 1.00656599, 1.93402165, 1.73514584]]])\n",
    "\n",
    "Your f should be:\n",
    "array([[[ 75.,  75.,  75.,  25.,  75.],\n",
    "        [ 75.,  75.,  25.,  25.,  25.],\n",
    "        [ 75.,  25.,  75.,  75.,  75.]],\n",
    "\n",
    "       [[ 25.,  25.,  25.,  25., 100.],\n",
    "        [ 75.,  75.,  75.,  75.,  75.],\n",
    "        [ 25.,  75.,   0.,  75.,  75.]]])\n",
    "\n"
   ]
  },
  {
   "cell_type": "code",
   "execution_count": 100,
   "metadata": {},
   "outputs": [
    {
     "name": "stdout",
     "output_type": "stream",
     "text": [
      "[[[1.76095205 1.75222261 1.48477716 1.02746439 1.31286769]\n",
      "  [1.93469079 1.52113769 1.87888511 1.75722512 1.97832949]\n",
      "  [1.87818213 1.84405128 1.39802762 1.51556884 1.14761184]]\n",
      "\n",
      " [[1.74406698 1.23767507 1.24759737 1.77231217 1.68416323]\n",
      "  [1.16787847 1.73419601 1.30064182 1.09884701 1.36064287]\n",
      "  [1.21730134 1.98698378 1.94499348 1.98475382 1.9736853 ]]]\n",
      "\n",
      " [[[ 75.  75.  25.   0.  25.]\n",
      "  [ 75.  25.  75.  75.  75.]\n",
      "  [ 75.  75.  25.  25.  25.]]\n",
      "\n",
      " [[ 75.  25.  25.  75.  75.]\n",
      "  [ 25.  75.  25.  25.  25.]\n",
      "  [ 25. 100.  75.  75.  75.]]]\n"
     ]
    }
   ],
   "source": [
    "### [your code here]\n",
    "print(d)\n",
    "print('\\n',f)"
   ]
  },
  {
   "cell_type": "markdown",
   "metadata": {},
   "source": [
    "### 18. Bonus question: instead of using numbers (i.e. 0, 25, 50, 75, and 100), how to use string values \n",
    "(\"A\", \"B\", \"C\", \"D\", and \"E\") to label the array elements? You are expecting the result to be:\n",
    "array([[[ 'D',  'D',  'D',  'B',  'D'],\n",
    "        [ 'D',  'D',  'B',  'B',  'B'],\n",
    "        [ 'D',  'B',  'D',  'D',  'D']],\n",
    "\n",
    "       [[ 'B',  'B',  'B',  'B',  'E'],\n",
    "        [ 'D',  'D',  'D',  'D',  'D'],\n",
    "        [ 'B',  'D',   'A',  'D', 'D']]])\n",
    "Again, you don't need Numpy in this question."
   ]
  },
  {
   "cell_type": "code",
   "execution_count": 102,
   "metadata": {},
   "outputs": [],
   "source": [
    "### [your code here]\n",
    "f = np.empty_like(d, dtype=object)\n",
    "for i in range(f.shape[0]):\n",
    "    for j in range(f.shape[1]):\n",
    "        for k in range(f.shape[2]):\n",
    "            value = d[i, j, k]\n",
    "            if value == d_min:\n",
    "                f[i, j, k] = 'A'\n",
    "            elif value == d_max:\n",
    "                f[i, j, k] = 'B'\n",
    "            elif value == d_mean:\n",
    "                f[i, j, k] = 'C'\n",
    "            elif d_min < value < d_mean:\n",
    "                f[i, j, k] = 'D'\n",
    "            elif d_mean < value < d_max:\n",
    "                f[i, j, k] = 'E'"
   ]
  },
  {
   "cell_type": "code",
   "execution_count": 103,
   "metadata": {},
   "outputs": [
    {
     "name": "stdout",
     "output_type": "stream",
     "text": [
      "[[['E' 'E' 'D' 'A' 'D']\n",
      "  ['E' 'D' 'E' 'E' 'E']\n",
      "  ['E' 'E' 'D' 'D' 'D']]\n",
      "\n",
      " [['E' 'D' 'D' 'E' 'E']\n",
      "  ['D' 'E' 'D' 'D' 'D']\n",
      "  ['D' 'B' 'E' 'E' 'E']]]\n"
     ]
    }
   ],
   "source": [
    "print(f)"
   ]
  },
  {
   "cell_type": "code",
   "execution_count": null,
   "metadata": {},
   "outputs": [],
   "source": []
  }
 ],
 "metadata": {
  "kernelspec": {
   "display_name": "base",
   "language": "python",
   "name": "python3"
  },
  "language_info": {
   "codemirror_mode": {
    "name": "ipython",
    "version": 3
   },
   "file_extension": ".py",
   "mimetype": "text/x-python",
   "name": "python",
   "nbconvert_exporter": "python",
   "pygments_lexer": "ipython3",
   "version": "3.12.7"
  }
 },
 "nbformat": 4,
 "nbformat_minor": 2
}
