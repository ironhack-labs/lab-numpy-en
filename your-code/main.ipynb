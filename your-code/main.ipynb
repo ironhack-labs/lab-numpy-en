{
 "cells": [
  {
   "cell_type": "markdown",
   "metadata": {},
   "source": [
    "# Lab | Numpy Deep Dive"
   ]
  },
  {
   "cell_type": "markdown",
   "metadata": {},
   "source": [
    "### 1. Import the NUMPY package under the name np.\n"
   ]
  },
  {
   "cell_type": "code",
   "execution_count": 48,
   "metadata": {},
   "outputs": [],
   "source": [
    "### [your code here]\n",
    "import numpy as np"
   ]
  },
  {
   "cell_type": "markdown",
   "metadata": {},
   "source": [
    "\n",
    "\n",
    "### 2. Print the NUMPY version and the configuration.\n"
   ]
  },
  {
   "cell_type": "code",
   "execution_count": 49,
   "metadata": {},
   "outputs": [
    {
     "name": "stdout",
     "output_type": "stream",
     "text": [
      "NumPy version: 1.26.4\n",
      "Build Dependencies:\n",
      "  blas:\n",
      "    detection method: pkgconfig\n",
      "    found: true\n",
      "    include directory: C:/ProgramData/anaconda3/Library/include\n",
      "    lib directory: C:/ProgramData/anaconda3/Library/lib\n",
      "    name: mkl-sdl\n",
      "    openblas configuration: unknown\n",
      "    pc file directory: C:\\b\\abs_c1ywpu18ar\\croot\\numpy_and_numpy_base_1708638681471\\_h_env\\Library\\lib\\pkgconfig\n",
      "    version: '2023.1'\n",
      "  lapack:\n",
      "    detection method: internal\n",
      "    found: true\n",
      "    include directory: unknown\n",
      "    lib directory: unknown\n",
      "    name: dep1868282989520\n",
      "    openblas configuration: unknown\n",
      "    pc file directory: unknown\n",
      "    version: 1.26.4\n",
      "Compilers:\n",
      "  c:\n",
      "    commands: cl.exe\n",
      "    linker: link\n",
      "    name: msvc\n",
      "    version: 19.29.30154\n",
      "  c++:\n",
      "    commands: cl.exe\n",
      "    linker: link\n",
      "    name: msvc\n",
      "    version: 19.29.30154\n",
      "  cython:\n",
      "    commands: cython\n",
      "    linker: cython\n",
      "    name: cython\n",
      "    version: 3.0.8\n",
      "Machine Information:\n",
      "  build:\n",
      "    cpu: x86_64\n",
      "    endian: little\n",
      "    family: x86_64\n",
      "    system: windows\n",
      "  host:\n",
      "    cpu: x86_64\n",
      "    endian: little\n",
      "    family: x86_64\n",
      "    system: windows\n",
      "Python Information:\n",
      "  path: C:\\b\\abs_c1ywpu18ar\\croot\\numpy_and_numpy_base_1708638681471\\_h_env\\python.exe\n",
      "  version: '3.11'\n",
      "SIMD Extensions:\n",
      "  baseline:\n",
      "  - SSE\n",
      "  - SSE2\n",
      "  - SSE3\n",
      "  found:\n",
      "  - SSSE3\n",
      "  - SSE41\n",
      "  - POPCNT\n",
      "  - SSE42\n",
      "  - AVX\n",
      "  - F16C\n",
      "  - FMA3\n",
      "  - AVX2\n",
      "  - AVX512F\n",
      "  - AVX512CD\n",
      "  - AVX512_SKX\n",
      "  - AVX512_CLX\n",
      "  - AVX512_CNL\n",
      "  - AVX512_ICL\n",
      "\n"
     ]
    }
   ],
   "source": [
    "### [your code here]\n",
    "\n",
    "print(\"NumPy version:\", np.__version__)\n",
    "\n",
    "np.show_config()"
   ]
  },
  {
   "cell_type": "markdown",
   "metadata": {},
   "source": [
    "### 3. Generate a 2x3x5 3-dimensional array with random values. Assign the array to variable \"a\"\n",
    "Challenge: there are at least three easy ways that use numpy to generate random arrays. How many ways can you find?\n"
   ]
  },
  {
   "cell_type": "code",
   "execution_count": 50,
   "metadata": {},
   "outputs": [],
   "source": [
    "a = np.random.random((2, 3, 5))\n",
    "a1 = np.random.randn(2, 3, 5)\n",
    "a2 = np.random.rand(2, 3, 5)\n"
   ]
  },
  {
   "cell_type": "markdown",
   "metadata": {},
   "source": [
    "\n",
    "### 4. Print a.\n"
   ]
  },
  {
   "cell_type": "code",
   "execution_count": 51,
   "metadata": {},
   "outputs": [
    {
     "name": "stdout",
     "output_type": "stream",
     "text": [
      "[[[0.38811115 0.83210304 0.2150176  0.8411417  0.6933241 ]\n",
      "  [0.34772951 0.23398378 0.21136113 0.38788881 0.1082747 ]\n",
      "  [0.74836034 0.93757951 0.35301078 0.2393756  0.2306908 ]]\n",
      "\n",
      " [[0.64950145 0.96594381 0.97620714 0.86339747 0.04156347]\n",
      "  [0.08647645 0.78914751 0.27333446 0.60161838 0.73146351]\n",
      "  [0.77418484 0.4540441  0.07538955 0.02505227 0.69719348]]]\n"
     ]
    }
   ],
   "source": [
    "### [your code here]\n",
    "\n",
    "a = np.random.rand(2, 3, 5)\n",
    "print(a)"
   ]
  },
  {
   "cell_type": "markdown",
   "metadata": {},
   "source": [
    "### 5. Create a 5x2x3 3-dimensional array with all values equaling 1.\n",
    "### Assign the array to variable \"b\"\n"
   ]
  },
  {
   "cell_type": "code",
   "execution_count": 52,
   "metadata": {},
   "outputs": [],
   "source": [
    "### [your code here]\n",
    "\n",
    "b = np.ones((5, 2, 3))\n"
   ]
  },
  {
   "cell_type": "markdown",
   "metadata": {},
   "source": [
    "\n",
    "### 6. Print b.\n"
   ]
  },
  {
   "cell_type": "code",
   "execution_count": 53,
   "metadata": {},
   "outputs": [
    {
     "name": "stdout",
     "output_type": "stream",
     "text": [
      "[[[1. 1. 1.]\n",
      "  [1. 1. 1.]]\n",
      "\n",
      " [[1. 1. 1.]\n",
      "  [1. 1. 1.]]\n",
      "\n",
      " [[1. 1. 1.]\n",
      "  [1. 1. 1.]]\n",
      "\n",
      " [[1. 1. 1.]\n",
      "  [1. 1. 1.]]\n",
      "\n",
      " [[1. 1. 1.]\n",
      "  [1. 1. 1.]]]\n"
     ]
    }
   ],
   "source": [
    "### [your code here]\n",
    "b = np.ones((5, 2, 3))\n",
    "print(b)\n"
   ]
  },
  {
   "cell_type": "markdown",
   "metadata": {},
   "source": [
    "\n",
    "### 7. Do a and b have the same size? How do you prove that in Python code?\n"
   ]
  },
  {
   "cell_type": "code",
   "execution_count": 54,
   "metadata": {},
   "outputs": [
    {
     "name": "stdout",
     "output_type": "stream",
     "text": [
      "Do a and b have the same size? True\n"
     ]
    }
   ],
   "source": [
    "### [your code here]\n",
    "a = np.random.rand(2, 3, 5)\n",
    "b = np.ones((5, 2, 3))\n",
    "same_size = a.size == b.size\n",
    "\n",
    "\n",
    "print(\"Do a and b have the same size?\", same_size)\n"
   ]
  },
  {
   "cell_type": "markdown",
   "metadata": {},
   "source": [
    "\n",
    "### 8. Are you able to add a and b? Why or why not?\n"
   ]
  },
  {
   "cell_type": "code",
   "execution_count": 66,
   "metadata": {},
   "outputs": [
    {
     "name": "stdout",
     "output_type": "stream",
     "text": [
      "Can a and b be added? False\n",
      "No because a and b don't have the same shape\n"
     ]
    }
   ],
   "source": [
    "### [your code here]\n",
    "a = np.random.rand(2, 3, 5)\n",
    "\n",
    "b = np.ones((5, 2, 3))\n",
    "\n",
    "can_add = a.shape == b.shape\n",
    "\n",
    "print(\"Can a and b be added?\", can_add)\n",
    "print(\"No because a and b don't have the same shape\")\n"
   ]
  },
  {
   "cell_type": "markdown",
   "metadata": {},
   "source": [
    "\n",
    "\n",
    "### 9. Transpose b so that it has the same structure of a (i.e. become a 2x3x5 array). Assign the transposed array to varialbe \"c\".\n"
   ]
  },
  {
   "cell_type": "code",
   "execution_count": 56,
   "metadata": {},
   "outputs": [
    {
     "name": "stdout",
     "output_type": "stream",
     "text": [
      "[[[1. 1. 1. 1. 1.]\n",
      "  [1. 1. 1. 1. 1.]\n",
      "  [1. 1. 1. 1. 1.]]\n",
      "\n",
      " [[1. 1. 1. 1. 1.]\n",
      "  [1. 1. 1. 1. 1.]\n",
      "  [1. 1. 1. 1. 1.]]]\n"
     ]
    }
   ],
   "source": [
    "### [your code here]\n",
    "b = np.ones((5, 2, 3))\n",
    "\n",
    "c = b.transpose(1, 2, 0)\n",
    "\n",
    "print(c)\n"
   ]
  },
  {
   "cell_type": "markdown",
   "metadata": {},
   "source": [
    "\n",
    "### 10. Try to add a and c. Now it should work. Assign the sum to variable \"d\". But why does it work now?\n"
   ]
  },
  {
   "cell_type": "code",
   "execution_count": 57,
   "metadata": {},
   "outputs": [
    {
     "name": "stdout",
     "output_type": "stream",
     "text": [
      "[[[1.12545567 1.31808126 1.5308554  1.27015523 1.27948316]\n",
      "  [1.78268139 1.12097266 1.67582497 1.44675642 1.77694926]\n",
      "  [1.46516108 1.82699521 1.36581353 1.03679072 1.96128943]]\n",
      "\n",
      " [[1.7421449  1.81545756 1.4895003  1.72509551 1.20581322]\n",
      "  [1.84347796 1.25322655 1.07269685 1.86994629 1.051319  ]\n",
      "  [1.21835284 1.41494133 1.77470319 1.5354121  1.33494174]]]\n"
     ]
    }
   ],
   "source": [
    "### [your code here]\n",
    "a = np.random.rand(2, 3, 5)\n",
    "\n",
    "b = np.ones((5, 2, 3))\n",
    "\n",
    "c = b.transpose(1, 2, 0)\n",
    "\n",
    "d = a + c\n",
    "\n",
    "print(d)\n"
   ]
  },
  {
   "cell_type": "markdown",
   "metadata": {},
   "source": [
    "\n",
    "### 11. Print a and d. Notice the difference and relation of the two array in terms of the values? Explain.\n"
   ]
  },
  {
   "cell_type": "code",
   "execution_count": 58,
   "metadata": {},
   "outputs": [
    {
     "name": "stdout",
     "output_type": "stream",
     "text": [
      "Array a:\n",
      "[[[0.86123193 0.25612407 0.35310084 0.44019274 0.54189136]\n",
      "  [0.28851163 0.76254302 0.59173405 0.45046624 0.24871472]\n",
      "  [0.32805958 0.96547598 0.57488827 0.95020807 0.48758322]]\n",
      "\n",
      " [[0.01414526 0.58253841 0.93717899 0.73847994 0.14199568]\n",
      "  [0.74463478 0.86043443 0.6590033  0.74300258 0.79354714]\n",
      "  [0.45395036 0.06705639 0.21060628 0.12736143 0.48782766]]]\n",
      "\n",
      "Array d (a + c):\n",
      "[[[1.86123193 1.25612407 1.35310084 1.44019274 1.54189136]\n",
      "  [1.28851163 1.76254302 1.59173405 1.45046624 1.24871472]\n",
      "  [1.32805958 1.96547598 1.57488827 1.95020807 1.48758322]]\n",
      "\n",
      " [[1.01414526 1.58253841 1.93717899 1.73847994 1.14199568]\n",
      "  [1.74463478 1.86043443 1.6590033  1.74300258 1.79354714]\n",
      "  [1.45395036 1.06705639 1.21060628 1.12736143 1.48782766]]]\n"
     ]
    }
   ],
   "source": [
    "### [your code here]\n",
    "\n",
    "\n",
    "a = np.random.rand(2, 3, 5)\n",
    "\n",
    "b = np.ones((5, 2, 3))\n",
    "\n",
    "c = b.transpose(1, 2, 0)\n",
    "\n",
    "d = a + c\n",
    "\n",
    "print(\"Array a:\")\n",
    "print(a)\n",
    "print(\"\\nArray d (a + c):\")\n",
    "print(d)\n",
    "\n"
   ]
  },
  {
   "cell_type": "markdown",
   "metadata": {},
   "source": [
    "\n",
    "### 12. Multiply a and c. Assign the result to e.\n"
   ]
  },
  {
   "cell_type": "code",
   "execution_count": 59,
   "metadata": {},
   "outputs": [
    {
     "name": "stdout",
     "output_type": "stream",
     "text": [
      "Array a:\n",
      "[[[0.22403688 0.40959462 0.569414   0.68631815 0.68500514]\n",
      "  [0.86583024 0.9851106  0.87491691 0.41966071 0.37647884]\n",
      "  [0.24697673 0.89020725 0.73216385 0.39710094 0.33773356]]\n",
      "\n",
      " [[0.67829828 0.28402251 0.66800824 0.3776723  0.21528081]\n",
      "  [0.51828019 0.88439152 0.8204211  0.86123559 0.09318252]\n",
      "  [0.24024664 0.71779588 0.82971987 0.45767104 0.30278398]]]\n",
      "\n",
      "Array c:\n",
      "[[[1. 1. 1. 1. 1.]\n",
      "  [1. 1. 1. 1. 1.]\n",
      "  [1. 1. 1. 1. 1.]]\n",
      "\n",
      " [[1. 1. 1. 1. 1.]\n",
      "  [1. 1. 1. 1. 1.]\n",
      "  [1. 1. 1. 1. 1.]]]\n",
      "\n",
      "Array e (a * c):\n",
      "[[[0.22403688 0.40959462 0.569414   0.68631815 0.68500514]\n",
      "  [0.86583024 0.9851106  0.87491691 0.41966071 0.37647884]\n",
      "  [0.24697673 0.89020725 0.73216385 0.39710094 0.33773356]]\n",
      "\n",
      " [[0.67829828 0.28402251 0.66800824 0.3776723  0.21528081]\n",
      "  [0.51828019 0.88439152 0.8204211  0.86123559 0.09318252]\n",
      "  [0.24024664 0.71779588 0.82971987 0.45767104 0.30278398]]]\n"
     ]
    }
   ],
   "source": [
    "### [your code here]\n",
    "a = np.random.rand(2, 3, 5)\n",
    "\n",
    "b = np.ones((5, 2, 3))\n",
    "c = b.transpose(1, 2, 0)\n",
    "\n",
    "e = a * c\n",
    "\n",
    "print(\"Array a:\")\n",
    "print(a)\n",
    "print(\"\\nArray c:\")\n",
    "print(c)\n",
    "print(\"\\nArray e (a * c):\")\n",
    "print(e)"
   ]
  },
  {
   "cell_type": "markdown",
   "metadata": {},
   "source": [
    "\n",
    "\n",
    "### 13. Does e equal to a? Why or why not?\n"
   ]
  },
  {
   "cell_type": "code",
   "execution_count": 60,
   "metadata": {},
   "outputs": [
    {
     "name": "stdout",
     "output_type": "stream",
     "text": [
      "Is e equal to a? True\n"
     ]
    }
   ],
   "source": [
    "### [your code here]\n",
    "equal = np.array_equal(e, a)\n",
    "print(\"Is e equal to a?\", equal)"
   ]
  },
  {
   "cell_type": "markdown",
   "metadata": {},
   "source": [
    "\n",
    "\n",
    "### 14. Identify the max, min, and mean values in d. Assign those values to variables \"d_max\", \"d_min\", and \"d_mean\"\n"
   ]
  },
  {
   "cell_type": "code",
   "execution_count": 61,
   "metadata": {},
   "outputs": [
    {
     "name": "stdout",
     "output_type": "stream",
     "text": [
      "Max value in d: 1.9758655111300132\n",
      "Min value in d: 1.0414327602555264\n",
      "Mean value in d: 1.4896031052441103\n"
     ]
    }
   ],
   "source": [
    "### [your code here]\n",
    "a = np.random.rand(2, 3, 5)\n",
    "b = np.ones((5, 2, 3))\n",
    "c = b.transpose(1, 2, 0)\n",
    "d = a + c\n",
    "\n",
    "d_max = np.max(d)\n",
    "d_min = np.min(d)\n",
    "d_mean = np.mean(d)\n",
    "\n",
    "print(\"Max value in d:\", d_max)\n",
    "print(\"Min value in d:\", d_min)\n",
    "print(\"Mean value in d:\", d_mean)\n",
    "\n"
   ]
  },
  {
   "cell_type": "markdown",
   "metadata": {},
   "source": [
    "\n",
    "### 15. Now we want to label the values in d. First create an empty array \"f\" with the same shape (i.e. 2x3x5) as d using `np.empty`.\n"
   ]
  },
  {
   "cell_type": "code",
   "execution_count": 62,
   "metadata": {},
   "outputs": [
    {
     "name": "stdout",
     "output_type": "stream",
     "text": [
      "Shape of f: (2, 3, 5)\n"
     ]
    }
   ],
   "source": [
    "### [your code here]\n",
    "b = np.ones((5, 2, 3))\n",
    "c = b.transpose(1, 2, 0)\n",
    "d = a + c\n",
    "\n",
    "f = np.empty(d.shape)\n",
    "\n",
    "print(\"Shape of f:\", f.shape)\n"
   ]
  },
  {
   "cell_type": "markdown",
   "metadata": {},
   "source": [
    "\n",
    "\n",
    "\n",
    "### 16. Populate the values in f. For each value in d, if it's larger than d_min but smaller than d_mean, assign 25 to the corresponding value in f.\n",
    "If a value in d is larger than d_mean but smaller than d_max, assign 75 to the corresponding value in f.\n",
    "If a value equals to d_mean, assign 50 to the corresponding value in f.\n",
    "Assign 0 to the corresponding value(s) in f for d_min in d.\n",
    "Assign 100 to the corresponding value(s) in f for d_max in d.\n",
    "In the end, f should have only the following values: 0, 25, 50, 75, and 100.\n",
    "Note: you don't have to use Numpy in this question.\n",
    "\n"
   ]
  },
  {
   "cell_type": "code",
   "execution_count": 63,
   "metadata": {},
   "outputs": [
    {
     "name": "stdout",
     "output_type": "stream",
     "text": [
      "Populated array f:\n",
      "[[[ 75.  75.  25.  25.  75.]\n",
      "  [ 25.  25.  75.  25.  25.]\n",
      "  [  0.  75.  75.  75.  75.]]\n",
      "\n",
      " [[ 25.  25.  25.  25.  25.]\n",
      "  [ 75.  25.  25.  25.  75.]\n",
      "  [ 75. 100.  75.  75.  75.]]]\n"
     ]
    }
   ],
   "source": [
    "### [your code here]\n",
    "a = np.random.rand(2, 3, 5)\n",
    "b = np.ones((5, 2, 3))\n",
    "c = b.transpose(1, 2, 0)\n",
    "d = a + c\n",
    "\n",
    "d_min = np.min(d)\n",
    "d_mean = np.mean(d)\n",
    "d_max = np.max(d)\n",
    "\n",
    "f = np.empty(d.shape)\n",
    "\n",
    "for i in range(d.shape[0]):      \n",
    "    for j in range(d.shape[1]): \n",
    "        for k in range(d.shape[2]):  \n",
    "            if d[i, j, k] == d_min:\n",
    "                f[i, j, k] = 0\n",
    "            elif d[i, j, k] == d_mean:\n",
    "                f[i, j, k] = 50\n",
    "            elif d[i, j, k] == d_max:\n",
    "                f[i, j, k] = 100\n",
    "            elif d_min < d[i, j, k] < d_mean:\n",
    "                f[i, j, k] = 25\n",
    "            elif d_mean < d[i, j, k] < d_max:\n",
    "                f[i, j, k] = 75\n",
    "\n",
    "print(\"Populated array f:\")\n",
    "print(f)"
   ]
  },
  {
   "cell_type": "markdown",
   "metadata": {},
   "source": [
    "\n",
    "\n",
    "\n",
    "\n",
    "### 17. Print d and f. Do you have your expected f?\n",
    "For instance, if your d is:\n",
    "array([[[1.85836099, 1.67064465, 1.62576044, 1.40243961, 1.88454931],\n",
    "        [1.75354326, 1.69403643, 1.36729252, 1.61415071, 1.12104981],\n",
    "        [1.72201435, 1.1862918 , 1.87078449, 1.7726778 , 1.88180042]],\n",
    "\n",
    "       [[1.44747908, 1.31673383, 1.02000951, 1.52218947, 1.97066381],\n",
    "        [1.79129243, 1.74983003, 1.96028037, 1.85166831, 1.65450881],\n",
    "        [1.18068344, 1.9587381 , 1.00656599, 1.93402165, 1.73514584]]])\n",
    "\n",
    "Your f should be:\n",
    "array([[[ 75.,  75.,  75.,  25.,  75.],\n",
    "        [ 75.,  75.,  25.,  25.,  25.],\n",
    "        [ 75.,  25.,  75.,  75.,  75.]],\n",
    "\n",
    "       [[ 25.,  25.,  25.,  25., 100.],\n",
    "        [ 75.,  75.,  75.,  75.,  75.],\n",
    "        [ 25.,  75.,   0.,  75.,  75.]]])\n",
    "\n"
   ]
  },
  {
   "cell_type": "code",
   "execution_count": 64,
   "metadata": {},
   "outputs": [
    {
     "name": "stdout",
     "output_type": "stream",
     "text": [
      "Array d:\n",
      "[[[1.33487902 1.68249711 1.96080429 1.04630426 1.79143252]\n",
      "  [1.60720291 1.14613374 1.73831699 1.5988198  1.35317104]\n",
      "  [1.89198728 1.43312557 1.0204446  1.4842357  1.39317215]]\n",
      "\n",
      " [[1.58834905 1.60508135 1.35600677 1.81092382 1.29011376]\n",
      "  [1.72383288 1.84027107 1.99671002 1.27922437 1.73160512]\n",
      "  [1.6694039  1.94418519 1.66165713 1.53295667 1.86491511]]]\n",
      "\n",
      "Populated array f:\n",
      "[[[ 25.  75.  75.  25.  75.]\n",
      "  [ 75.  25.  75.  75.  25.]\n",
      "  [ 75.  25.   0.  25.  25.]]\n",
      "\n",
      " [[ 75.  75.  25.  75.  25.]\n",
      "  [ 75.  75. 100.  25.  75.]\n",
      "  [ 75.  75.  75.  25.  75.]]]\n"
     ]
    }
   ],
   "source": [
    "### [your code here]\n",
    "a = np.random.rand(2, 3, 5)\n",
    "b = np.ones((5, 2, 3))\n",
    "c = b.transpose(1, 2, 0)\n",
    "d = a + c\n",
    "\n",
    "d_min = np.min(d)\n",
    "d_mean = np.mean(d)\n",
    "d_max = np.max(d)\n",
    "\n",
    "f = np.empty(d.shape)\n",
    "\n",
    "for i in range(d.shape[0]):\n",
    "    for j in range(d.shape[1]):\n",
    "        for k in range(d.shape[2]):\n",
    "            if d[i, j, k] == d_min:\n",
    "                f[i, j, k] = 0\n",
    "            elif d[i, j, k] == d_mean:\n",
    "                f[i, j, k] = 50\n",
    "            elif d[i, j, k] == d_max:\n",
    "                f[i, j, k] = 100\n",
    "            elif d_min < d[i, j, k] < d_mean:\n",
    "                f[i, j, k] = 25\n",
    "            elif d_mean < d[i, j, k] < d_max:\n",
    "                f[i, j, k] = 75\n",
    "\n",
    "print(\"Array d:\")\n",
    "print(d)\n",
    "print(\"\\nPopulated array f:\")\n",
    "print(f)"
   ]
  },
  {
   "cell_type": "markdown",
   "metadata": {},
   "source": [
    "### 18. Bonus question: instead of using numbers (i.e. 0, 25, 50, 75, and 100), how to use string values \n",
    "(\"A\", \"B\", \"C\", \"D\", and \"E\") to label the array elements? You are expecting the result to be:\n",
    "array([[[ 'D',  'D',  'D',  'B',  'D'],\n",
    "        [ 'D',  'D',  'B',  'B',  'B'],\n",
    "        [ 'D',  'B',  'D',  'D',  'D']],\n",
    "\n",
    "       [[ 'B',  'B',  'B',  'B',  'E'],\n",
    "        [ 'D',  'D',  'D',  'D',  'D'],\n",
    "        [ 'B',  'D',   'A',  'D', 'D']]])\n",
    "Again, you don't need Numpy in this question."
   ]
  },
  {
   "cell_type": "code",
   "execution_count": 65,
   "metadata": {},
   "outputs": [
    {
     "name": "stdout",
     "output_type": "stream",
     "text": [
      "Array d:\n",
      "[[[1.28313079 1.74521711 1.92596266 1.47955589 1.82252031]\n",
      "  [1.21689804 1.50862853 1.9292224  1.34916917 1.56353782]\n",
      "  [1.61501786 1.06751724 1.3024948  1.98242932 1.49141004]]\n",
      "\n",
      " [[1.60078849 1.53068871 1.61243549 1.1427043  1.96893304]\n",
      "  [1.42185982 1.75813548 1.11589796 1.96335529 1.37153357]\n",
      "  [1.68914723 1.69091575 1.11235002 1.90360392 1.2031979 ]]]\n",
      "\n",
      "Populated array f with strings:\n",
      "[[['B' 'D' 'D' 'B' 'D']\n",
      "  ['B' 'B' 'D' 'B' 'D']\n",
      "  ['D' 'A' 'B' 'E' 'B']]\n",
      "\n",
      " [['D' 'B' 'D' 'B' 'D']\n",
      "  ['B' 'D' 'B' 'D' 'B']\n",
      "  ['D' 'D' 'B' 'D' 'B']]]\n"
     ]
    }
   ],
   "source": [
    "### [your code here]\n",
    "a = np.random.rand(2, 3, 5)\n",
    "b = np.ones((5, 2, 3))\n",
    "c = b.transpose(1, 2, 0)\n",
    "d = a + c\n",
    "\n",
    "d_min = np.min(d)\n",
    "d_mean = np.mean(d)\n",
    "d_max = np.max(d)\n",
    "\n",
    "f = np.empty(d.shape, dtype=object)  \n",
    "\n",
    "for i in range(d.shape[0]):\n",
    "    for j in range(d.shape[1]):\n",
    "        for k in range(d.shape[2]):\n",
    "            if d[i, j, k] == d_min:\n",
    "                f[i, j, k] = 'A' \n",
    "            elif d[i, j, k] == d_mean:\n",
    "                f[i, j, k] = 'C' \n",
    "            elif d[i, j, k] == d_max:\n",
    "                f[i, j, k] = 'E' \n",
    "            elif d_min < d[i, j, k] < d_mean:\n",
    "                f[i, j, k] = 'B' \n",
    "            elif d_mean < d[i, j, k] < d_max:\n",
    "                f[i, j, k] = 'D' \n",
    "print(\"Array d:\")\n",
    "print(d)\n",
    "print(\"\\nPopulated array f with strings:\")\n",
    "print(f)"
   ]
  }
 ],
 "metadata": {
  "kernelspec": {
   "display_name": "base",
   "language": "python",
   "name": "python3"
  },
  "language_info": {
   "codemirror_mode": {
    "name": "ipython",
    "version": 3
   },
   "file_extension": ".py",
   "mimetype": "text/x-python",
   "name": "python",
   "nbconvert_exporter": "python",
   "pygments_lexer": "ipython3",
   "version": "3.11.7"
  }
 },
 "nbformat": 4,
 "nbformat_minor": 2
}
