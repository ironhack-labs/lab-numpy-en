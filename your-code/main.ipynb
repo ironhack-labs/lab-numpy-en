{
 "cells": [
  {
   "cell_type": "markdown",
   "metadata": {},
   "source": [
    "# Lab | Numpy Deep Dive"
   ]
  },
  {
   "cell_type": "markdown",
   "metadata": {},
   "source": [
    "### 1. Import the NUMPY package under the name np.\n"
   ]
  },
  {
   "cell_type": "code",
   "execution_count": 1,
   "metadata": {},
   "outputs": [],
   "source": [
    "### [your code here]\n",
    "import numpy as np"
   ]
  },
  {
   "cell_type": "markdown",
   "metadata": {},
   "source": [
    "\n",
    "\n",
    "### 2. Print the NUMPY version and the configuration.\n"
   ]
  },
  {
   "cell_type": "code",
   "execution_count": 7,
   "metadata": {},
   "outputs": [
    {
     "name": "stdout",
     "output_type": "stream",
     "text": [
      "1.26.4\n",
      "Build Dependencies:\n",
      "  blas:\n",
      "    detection method: pkgconfig\n",
      "    found: true\n",
      "    include directory: /opt/anaconda3/include\n",
      "    lib directory: /opt/anaconda3/lib\n",
      "    name: openblas\n",
      "    openblas configuration: USE_64BITINT= DYNAMIC_ARCH=1 DYNAMIC_OLDER= NO_CBLAS=\n",
      "      NO_LAPACK=0 NO_LAPACKE= NO_AFFINITY=1 USE_OPENMP=0 VORTEX MAX_THREADS=128\n",
      "    pc file directory: /opt/anaconda3/lib/pkgconfig\n",
      "    version: 0.3.21\n",
      "  lapack:\n",
      "    detection method: internal\n",
      "    found: true\n",
      "    include directory: unknown\n",
      "    lib directory: unknown\n",
      "    name: dep4347739648\n",
      "    openblas configuration: unknown\n",
      "    pc file directory: unknown\n",
      "    version: 1.26.4\n",
      "Compilers:\n",
      "  c:\n",
      "    args: -ftree-vectorize, -fPIC, -fPIE, -fstack-protector-strong, -O2, -pipe, -isystem,\n",
      "      /opt/anaconda3/include, -fdebug-prefix-map=/var/folders/k1/30mswbxs7r1g6zwn8y4fyt500000gp/T/abs_a51i_mbs7m/croot/numpy_and_numpy_base_1708638620867/work=/usr/local/src/conda/numpy-base-1.26.4,\n",
      "      -fdebug-prefix-map=/opt/anaconda3=/usr/local/src/conda-prefix, -D_FORTIFY_SOURCE=2,\n",
      "      -isystem, /opt/anaconda3/include, -mmacosx-version-min=11.1\n",
      "    commands: arm64-apple-darwin20.0.0-clang\n",
      "    linker: ld64\n",
      "    linker args: -Wl,-pie, -Wl,-headerpad_max_install_names, -Wl,-dead_strip_dylibs,\n",
      "      -Wl,-rpath,/opt/anaconda3/lib, -L/opt/anaconda3/lib, -ftree-vectorize, -fPIC,\n",
      "      -fPIE, -fstack-protector-strong, -O2, -pipe, -isystem, /opt/anaconda3/include,\n",
      "      -fdebug-prefix-map=/var/folders/k1/30mswbxs7r1g6zwn8y4fyt500000gp/T/abs_a51i_mbs7m/croot/numpy_and_numpy_base_1708638620867/work=/usr/local/src/conda/numpy-base-1.26.4,\n",
      "      -fdebug-prefix-map=/opt/anaconda3=/usr/local/src/conda-prefix, -D_FORTIFY_SOURCE=2,\n",
      "      -isystem, /opt/anaconda3/include, -mmacosx-version-min=11.1\n",
      "    name: clang\n",
      "    version: 14.0.6\n",
      "  c++:\n",
      "    args: -ftree-vectorize, -fPIC, -fPIE, -fstack-protector-strong, -O2, -pipe, -stdlib=libc++,\n",
      "      -fvisibility-inlines-hidden, -fmessage-length=0, -isystem, /opt/anaconda3/include,\n",
      "      -fdebug-prefix-map=/var/folders/k1/30mswbxs7r1g6zwn8y4fyt500000gp/T/abs_a51i_mbs7m/croot/numpy_and_numpy_base_1708638620867/work=/usr/local/src/conda/numpy-base-1.26.4,\n",
      "      -fdebug-prefix-map=/opt/anaconda3=/usr/local/src/conda-prefix, -D_FORTIFY_SOURCE=2,\n",
      "      -isystem, /opt/anaconda3/include, -mmacosx-version-min=11.1\n",
      "    commands: arm64-apple-darwin20.0.0-clang++\n",
      "    linker: ld64\n",
      "    linker args: -Wl,-pie, -Wl,-headerpad_max_install_names, -Wl,-dead_strip_dylibs,\n",
      "      -Wl,-rpath,/opt/anaconda3/lib, -L/opt/anaconda3/lib, -ftree-vectorize, -fPIC,\n",
      "      -fPIE, -fstack-protector-strong, -O2, -pipe, -stdlib=libc++, -fvisibility-inlines-hidden,\n",
      "      -fmessage-length=0, -isystem, /opt/anaconda3/include, -fdebug-prefix-map=/var/folders/k1/30mswbxs7r1g6zwn8y4fyt500000gp/T/abs_a51i_mbs7m/croot/numpy_and_numpy_base_1708638620867/work=/usr/local/src/conda/numpy-base-1.26.4,\n",
      "      -fdebug-prefix-map=/opt/anaconda3=/usr/local/src/conda-prefix, -D_FORTIFY_SOURCE=2,\n",
      "      -isystem, /opt/anaconda3/include, -mmacosx-version-min=11.1\n",
      "    name: clang\n",
      "    version: 14.0.6\n",
      "  cython:\n",
      "    commands: cython\n",
      "    linker: cython\n",
      "    name: cython\n",
      "    version: 3.0.8\n",
      "Machine Information:\n",
      "  build:\n",
      "    cpu: aarch64\n",
      "    endian: little\n",
      "    family: aarch64\n",
      "    system: darwin\n",
      "  host:\n",
      "    cpu: aarch64\n",
      "    endian: little\n",
      "    family: aarch64\n",
      "    system: darwin\n",
      "Python Information:\n",
      "  path: /opt/anaconda3/bin/python\n",
      "  version: '3.12'\n",
      "SIMD Extensions:\n",
      "  baseline:\n",
      "  - NEON\n",
      "  - NEON_FP16\n",
      "  - NEON_VFPV4\n",
      "  - ASIMD\n",
      "  found:\n",
      "  - ASIMDHP\n",
      "  not found:\n",
      "  - ASIMDFHM\n",
      "\n"
     ]
    }
   ],
   "source": [
    "### [your code here]\n",
    "print(np.__version__)\n",
    "np.show_config()"
   ]
  },
  {
   "cell_type": "markdown",
   "metadata": {},
   "source": [
    "### 3. Generate a 2x3x5 3-dimensional array with random values. Assign the array to variable \"a\"\n",
    "Challenge: there are at least three easy ways that use numpy to generate random arrays. How many ways can you find?\n"
   ]
  },
  {
   "cell_type": "code",
   "execution_count": 12,
   "metadata": {},
   "outputs": [],
   "source": [
    "### [your code here]\n",
    "a = np.random.rand(2, 3, 5)"
   ]
  },
  {
   "cell_type": "markdown",
   "metadata": {},
   "source": [
    "\n",
    "### 4. Print a.\n"
   ]
  },
  {
   "cell_type": "code",
   "execution_count": 15,
   "metadata": {},
   "outputs": [
    {
     "name": "stdout",
     "output_type": "stream",
     "text": [
      "[[[0.29756001 0.90119714 0.27942647 0.8040184  0.58635369]\n",
      "  [0.20661514 0.10446898 0.09520968 0.91970846 0.08984864]\n",
      "  [0.37691145 0.63516963 0.70950969 0.71228778 0.1612892 ]]\n",
      "\n",
      " [[0.59224552 0.77336648 0.72848438 0.08477315 0.00125313]\n",
      "  [0.84444122 0.71186382 0.0592811  0.04950513 0.26371122]\n",
      "  [0.44487475 0.39499232 0.85849085 0.82108386 0.98594114]]]\n"
     ]
    }
   ],
   "source": [
    "### [your code here]\n",
    "print(a)"
   ]
  },
  {
   "cell_type": "markdown",
   "metadata": {},
   "source": [
    "### 5. Create a 5x2x3 3-dimensional array with all values equaling 1.\n",
    "### Assign the array to variable \"b\"\n"
   ]
  },
  {
   "cell_type": "code",
   "execution_count": 17,
   "metadata": {},
   "outputs": [],
   "source": [
    "### [your code here]\n",
    "b = np.ones((5, 2, 3))"
   ]
  },
  {
   "cell_type": "markdown",
   "metadata": {},
   "source": [
    "\n",
    "### 6. Print b.\n"
   ]
  },
  {
   "cell_type": "code",
   "execution_count": 19,
   "metadata": {},
   "outputs": [
    {
     "name": "stdout",
     "output_type": "stream",
     "text": [
      "[[[1. 1. 1.]\n",
      "  [1. 1. 1.]]\n",
      "\n",
      " [[1. 1. 1.]\n",
      "  [1. 1. 1.]]\n",
      "\n",
      " [[1. 1. 1.]\n",
      "  [1. 1. 1.]]\n",
      "\n",
      " [[1. 1. 1.]\n",
      "  [1. 1. 1.]]\n",
      "\n",
      " [[1. 1. 1.]\n",
      "  [1. 1. 1.]]]\n"
     ]
    }
   ],
   "source": [
    "### [your code here]\n",
    "print(b)"
   ]
  },
  {
   "cell_type": "markdown",
   "metadata": {},
   "source": [
    "\n",
    "### 7. Do a and b have the same size? How do you prove that in Python code?\n"
   ]
  },
  {
   "cell_type": "code",
   "execution_count": 28,
   "metadata": {},
   "outputs": [
    {
     "name": "stdout",
     "output_type": "stream",
     "text": [
      "size of a: 30\n",
      "size of b: 30\n",
      "a and b have the same size.\n"
     ]
    }
   ],
   "source": [
    "### [your code here]\n",
    "print(\"size of a:\", a.size)\n",
    "print(\"size of b:\",b.size)\n",
    "\n",
    "if a.size == b.size:\n",
    "    print(\"a and b have the same size.\")\n",
    "else:\n",
    "    print(\"a and b do not have the same size.\")"
   ]
  },
  {
   "cell_type": "markdown",
   "metadata": {},
   "source": [
    "\n",
    "### 8. Are you able to add a and b? Why or why not?\n"
   ]
  },
  {
   "cell_type": "code",
   "execution_count": 33,
   "metadata": {},
   "outputs": [
    {
     "name": "stdout",
     "output_type": "stream",
     "text": [
      "Error: operands could not be broadcast together with shapes (2,3,5) (5,2,3) \n"
     ]
    }
   ],
   "source": [
    "### [your code here]\n",
    "try:\n",
    "    c = a + b\n",
    "    print(\"able to addition!\")\n",
    "except ValueError as e:\n",
    "    print(\"Error:\", e)"
   ]
  },
  {
   "cell_type": "markdown",
   "metadata": {},
   "source": [
    "\n",
    "\n",
    "### 9. Transpose b so that it has the same structure of a (i.e. become a 2x3x5 array). Assign the transposed array to varialbe \"c\".\n"
   ]
  },
  {
   "cell_type": "code",
   "execution_count": 38,
   "metadata": {},
   "outputs": [
    {
     "name": "stdout",
     "output_type": "stream",
     "text": [
      "shape of a: (2, 3, 5)\n",
      "shape of c: (2, 3, 5)\n"
     ]
    }
   ],
   "source": [
    "### [your code here]\n",
    "c = np.transpose(b, (1, 2, 0))\n",
    "print(\"shape of a:\", (2, 3, 5))\n",
    "print(\"shape of c:\", c.shape)"
   ]
  },
  {
   "cell_type": "markdown",
   "metadata": {},
   "source": [
    "\n",
    "### 10. Try to add a and c. Now it should work. Assign the sum to variable \"d\". But why does it work now?\n"
   ]
  },
  {
   "cell_type": "code",
   "execution_count": 50,
   "metadata": {},
   "outputs": [
    {
     "name": "stdout",
     "output_type": "stream",
     "text": [
      "shape of a: (2, 3, 5)\n",
      "shape of c: (2, 3, 5)\n",
      "shape of d: (2, 3, 5)\n",
      "result of d:\n",
      " [[[1.29756001 1.90119714 1.27942647 1.8040184  1.58635369]\n",
      "  [1.20661514 1.10446898 1.09520968 1.91970846 1.08984864]\n",
      "  [1.37691145 1.63516963 1.70950969 1.71228778 1.1612892 ]]\n",
      "\n",
      " [[1.59224552 1.77336648 1.72848438 1.08477315 1.00125313]\n",
      "  [1.84444122 1.71186382 1.0592811  1.04950513 1.26371122]\n",
      "  [1.44487475 1.39499232 1.85849085 1.82108386 1.98594114]]]\n"
     ]
    }
   ],
   "source": [
    "### [your code here]\n",
    "d = a + c\n",
    "print(\"shape of a:\", a.shape)\n",
    "print(\"shape of c:\", c.shape)\n",
    "print(\"shape of d:\", d.shape) \n",
    "print(\"result of d:\\n\", d)\n",
    "## because both arrays have the same shape "
   ]
  },
  {
   "cell_type": "markdown",
   "metadata": {},
   "source": [
    "\n",
    "### 11. Print a and d. Notice the difference and relation of the two array in terms of the values? Explain.\n"
   ]
  },
  {
   "cell_type": "code",
   "execution_count": 58,
   "metadata": {},
   "outputs": [
    {
     "name": "stdout",
     "output_type": "stream",
     "text": [
      "array a:\n",
      " [[[0.29756001 0.90119714 0.27942647 0.8040184  0.58635369]\n",
      "  [0.20661514 0.10446898 0.09520968 0.91970846 0.08984864]\n",
      "  [0.37691145 0.63516963 0.70950969 0.71228778 0.1612892 ]]\n",
      "\n",
      " [[0.59224552 0.77336648 0.72848438 0.08477315 0.00125313]\n",
      "  [0.84444122 0.71186382 0.0592811  0.04950513 0.26371122]\n",
      "  [0.44487475 0.39499232 0.85849085 0.82108386 0.98594114]]]\n",
      "\n",
      "array d:\n",
      " [[[1.29756001 1.90119714 1.27942647 1.8040184  1.58635369]\n",
      "  [1.20661514 1.10446898 1.09520968 1.91970846 1.08984864]\n",
      "  [1.37691145 1.63516963 1.70950969 1.71228778 1.1612892 ]]\n",
      "\n",
      " [[1.59224552 1.77336648 1.72848438 1.08477315 1.00125313]\n",
      "  [1.84444122 1.71186382 1.0592811  1.04950513 1.26371122]\n",
      "  [1.44487475 1.39499232 1.85849085 1.82108386 1.98594114]]]\n"
     ]
    }
   ],
   "source": [
    "### [your code here]\n",
    "print(\"array a:\\n\", a)\n",
    "print(\"\\narray d:\\n\", d)\n",
    "##The arrays a and d are related because d is the result of adding a with c,"
   ]
  },
  {
   "cell_type": "markdown",
   "metadata": {},
   "source": [
    "\n",
    "### 12. Multiply a and c. Assign the result to e.\n"
   ]
  },
  {
   "cell_type": "code",
   "execution_count": 65,
   "metadata": {},
   "outputs": [
    {
     "name": "stdout",
     "output_type": "stream",
     "text": [
      "array a:\n",
      " [[[0.29756001 0.90119714 0.27942647 0.8040184  0.58635369]\n",
      "  [0.20661514 0.10446898 0.09520968 0.91970846 0.08984864]\n",
      "  [0.37691145 0.63516963 0.70950969 0.71228778 0.1612892 ]]\n",
      "\n",
      " [[0.59224552 0.77336648 0.72848438 0.08477315 0.00125313]\n",
      "  [0.84444122 0.71186382 0.0592811  0.04950513 0.26371122]\n",
      "  [0.44487475 0.39499232 0.85849085 0.82108386 0.98594114]]]\n",
      "\n",
      "array c:\n",
      " [[[1. 1. 1. 1. 1.]\n",
      "  [1. 1. 1. 1. 1.]\n",
      "  [1. 1. 1. 1. 1.]]\n",
      "\n",
      " [[1. 1. 1. 1. 1.]\n",
      "  [1. 1. 1. 1. 1.]\n",
      "  [1. 1. 1. 1. 1.]]]\n",
      "\n",
      "array e (result of multiplication):\n",
      " [[[0.29756001 0.90119714 0.27942647 0.8040184  0.58635369]\n",
      "  [0.20661514 0.10446898 0.09520968 0.91970846 0.08984864]\n",
      "  [0.37691145 0.63516963 0.70950969 0.71228778 0.1612892 ]]\n",
      "\n",
      " [[0.59224552 0.77336648 0.72848438 0.08477315 0.00125313]\n",
      "  [0.84444122 0.71186382 0.0592811  0.04950513 0.26371122]\n",
      "  [0.44487475 0.39499232 0.85849085 0.82108386 0.98594114]]]\n"
     ]
    }
   ],
   "source": [
    "### [your code here]\n",
    "e = a * c\n",
    "print(\"array a:\\n\", a)\n",
    "print(\"\\narray c:\\n\", c)\n",
    "print(\"\\narray e (result of multiplication):\\n\", e)"
   ]
  },
  {
   "cell_type": "markdown",
   "metadata": {},
   "source": [
    "\n",
    "\n",
    "### 13. Does e equal to a? Why or why not?\n"
   ]
  },
  {
   "cell_type": "code",
   "execution_count": 76,
   "metadata": {},
   "outputs": [
    {
     "name": "stdout",
     "output_type": "stream",
     "text": [
      "a and e have the same size.\n"
     ]
    }
   ],
   "source": [
    "### [your code here]\n",
    "if a.size == e.size:\n",
    "    print(\"a and e have the same size.\")\n",
    "else:\n",
    "    print(\"a and e do not have the same size.\")\n",
    "#e equals a because multiplying by 1 leaves the values unchanged."
   ]
  },
  {
   "cell_type": "markdown",
   "metadata": {},
   "source": [
    "\n",
    "\n",
    "### 14. Identify the max, min, and mean values in d. Assign those values to variables \"d_max\", \"d_min\", and \"d_mean\"\n"
   ]
  },
  {
   "cell_type": "code",
   "execution_count": 79,
   "metadata": {},
   "outputs": [
    {
     "name": "stdout",
     "output_type": "stream",
     "text": [
      "max value: 1.9859411435318353\n",
      "min value: 1.0012531288583522\n",
      "mean value: 1.4831294146258138\n"
     ]
    }
   ],
   "source": [
    "### [your code here]\n",
    "d_max = np.max(d)\n",
    "d_min = np.min(d)\n",
    "d_mean = np.mean(d)\n",
    "print(\"max value:\", d_max)\n",
    "print(\"min value:\", d_min)\n",
    "print(\"mean value:\", d_mean)"
   ]
  },
  {
   "cell_type": "markdown",
   "metadata": {},
   "source": [
    "\n",
    "### 15. Now we want to label the values in d. First create an empty array \"f\" with the same shape (i.e. 2x3x5) as d using `np.empty`.\n"
   ]
  },
  {
   "cell_type": "code",
   "execution_count": 88,
   "metadata": {},
   "outputs": [
    {
     "name": "stdout",
     "output_type": "stream",
     "text": [
      "shape of f: (2, 3, 5)\n",
      "content of f:\n",
      " [[[0.29756001 0.90119714 0.27942647 0.8040184  0.58635369]\n",
      "  [0.20661514 0.10446898 0.09520968 0.91970846 0.08984864]\n",
      "  [0.37691145 0.63516963 0.70950969 0.71228778 0.1612892 ]]\n",
      "\n",
      " [[0.59224552 0.77336648 0.72848438 0.08477315 0.00125313]\n",
      "  [0.84444122 0.71186382 0.0592811  0.04950513 0.26371122]\n",
      "  [0.44487475 0.39499232 0.85849085 0.82108386 0.98594114]]]\n"
     ]
    }
   ],
   "source": [
    "### [your code here]\n",
    "f = np.empty(d.shape)\n",
    "print(\"shape of f:\", f.shape)  # Should be (2, 3, 5)\n",
    "print(\"result of f:\\n\", f)"
   ]
  },
  {
   "cell_type": "markdown",
   "metadata": {},
   "source": [
    "\n",
    "\n",
    "\n",
    "### 16. Populate the values in f. For each value in d, if it's larger than d_min but smaller than d_mean, assign 25 to the corresponding value in f.\n",
    "If a value in d is larger than d_mean but smaller than d_max, assign 75 to the corresponding value in f.\n",
    "If a value equals to d_mean, assign 50 to the corresponding value in f.\n",
    "Assign 0 to the corresponding value(s) in f for d_min in d.\n",
    "Assign 100 to the corresponding value(s) in f for d_max in d.\n",
    "In the end, f should have only the following values: 0, 25, 50, 75, and 100.\n",
    "Note: you don't have to use Numpy in this question.\n",
    "\n"
   ]
  },
  {
   "cell_type": "code",
   "execution_count": 93,
   "metadata": {},
   "outputs": [
    {
     "name": "stdout",
     "output_type": "stream",
     "text": [
      "array f populated:\n",
      " [[[ 25.  75.  25.  75.  75.]\n",
      "  [ 25.  25.  25.  75.  25.]\n",
      "  [ 25.  75.  75.  75.  25.]]\n",
      "\n",
      " [[ 75.  75.  75.  25.   0.]\n",
      "  [ 75.  75.  25.  25.  25.]\n",
      "  [ 25.  25.  75.  75. 100.]]]\n"
     ]
    }
   ],
   "source": [
    "### [your code here]\n",
    "for i in range(d.shape[0]): \n",
    "    for j in range(d.shape[1]):  \n",
    "        for k in range(d.shape[2]):  \n",
    "            value = d[i, j, k]\n",
    "            if value == d_min:\n",
    "                f[i, j, k] = 0\n",
    "            elif value == d_max:\n",
    "                f[i, j, k] = 100\n",
    "            elif value == d_mean:\n",
    "                f[i, j, k] = 50\n",
    "            elif d_min < value < d_mean:\n",
    "                f[i, j, k] = 25\n",
    "            elif d_mean < value < d_max:\n",
    "                f[i, j, k] = 75\n",
    "print(\"array f populated:\\n\", f)"
   ]
  },
  {
   "cell_type": "markdown",
   "metadata": {},
   "source": [
    "\n",
    "\n",
    "\n",
    "\n",
    "### 17. Print d and f. Do you have your expected f?\n",
    "For instance, if your d is:\n",
    "array([[[1.85836099, 1.67064465, 1.62576044, 1.40243961, 1.88454931],\n",
    "        [1.75354326, 1.69403643, 1.36729252, 1.61415071, 1.12104981],\n",
    "        [1.72201435, 1.1862918 , 1.87078449, 1.7726778 , 1.88180042]],\n",
    "\n",
    "       [[1.44747908, 1.31673383, 1.02000951, 1.52218947, 1.97066381],\n",
    "        [1.79129243, 1.74983003, 1.96028037, 1.85166831, 1.65450881],\n",
    "        [1.18068344, 1.9587381 , 1.00656599, 1.93402165, 1.73514584]]])\n",
    "\n",
    "Your f should be:\n",
    "array([[[ 75.,  75.,  75.,  25.,  75.],\n",
    "        [ 75.,  75.,  25.,  25.,  25.],\n",
    "        [ 75.,  25.,  75.,  75.,  75.]],\n",
    "\n",
    "       [[ 25.,  25.,  25.,  25., 100.],\n",
    "        [ 75.,  75.,  75.,  75.,  75.],\n",
    "        [ 25.,  75.,   0.,  75.,  75.]]])\n",
    "\n"
   ]
  },
  {
   "cell_type": "code",
   "execution_count": 98,
   "metadata": {},
   "outputs": [
    {
     "name": "stdout",
     "output_type": "stream",
     "text": [
      "array d:\n",
      " [[[1.85836099 1.67064465 1.62576044 1.40243961 1.88454931]\n",
      "  [1.75354326 1.69403643 1.36729252 1.61415071 1.12104981]\n",
      "  [1.72201435 1.1862918  1.87078449 1.7726778  1.88180042]]\n",
      "\n",
      " [[1.44747908 1.31673383 1.02000951 1.52218947 1.97066381]\n",
      "  [1.79129243 1.74983003 1.96028037 1.85166831 1.65450881]\n",
      "  [1.18068344 1.9587381  1.00656599 1.93402165 1.73514584]]]\n",
      "\n",
      "array f (populated):\n",
      " [[[ 75.  75.  75.  25.  75.]\n",
      "  [ 75.  75.  25.  25.  25.]\n",
      "  [ 75.  25.  75.  75.  75.]]\n",
      "\n",
      " [[ 25.  25.  25.  25. 100.]\n",
      "  [ 75.  75.  75.  75.  75.]\n",
      "  [ 25.  75.   0.  75.  75.]]]\n"
     ]
    }
   ],
   "source": [
    "### [your code here]\n",
    "d = np.array([[[1.85836099, 1.67064465, 1.62576044, 1.40243961, 1.88454931],\n",
    "               [1.75354326, 1.69403643, 1.36729252, 1.61415071, 1.12104981],\n",
    "               [1.72201435, 1.1862918 , 1.87078449, 1.7726778 , 1.88180042]],\n",
    "\n",
    "              [[1.44747908, 1.31673383, 1.02000951, 1.52218947, 1.97066381],\n",
    "               [1.79129243, 1.74983003, 1.96028037, 1.85166831, 1.65450881],\n",
    "               [1.18068344, 1.9587381 , 1.00656599, 1.93402165, 1.73514584]]])\n",
    "\n",
    "f = np.empty(d.shape)\n",
    "d_max = np.max(d)\n",
    "d_min = np.min(d)\n",
    "d_mean = np.mean(d)\n",
    "for i in range(d.shape[0]):  \n",
    "    for j in range(d.shape[1]): \n",
    "        for k in range(d.shape[2]): \n",
    "            value = d[i, j, k]\n",
    "            \n",
    "            if value == d_min:\n",
    "                f[i, j, k] = 0\n",
    "            elif value == d_max:\n",
    "                f[i, j, k] = 100\n",
    "            elif value == d_mean:\n",
    "                f[i, j, k] = 50\n",
    "            elif d_min < value < d_mean:\n",
    "                f[i, j, k] = 25\n",
    "            elif d_mean < value < d_max:\n",
    "                f[i, j, k] = 75\n",
    "\n",
    "print(\"array d:\\n\", d)\n",
    "print(\"\\narray f (populated):\\n\", f)"
   ]
  },
  {
   "cell_type": "markdown",
   "metadata": {},
   "source": [
    "### 18. Bonus question: instead of using numbers (i.e. 0, 25, 50, 75, and 100), how to use string values \n",
    "(\"A\", \"B\", \"C\", \"D\", and \"E\") to label the array elements? You are expecting the result to be:\n",
    "array([[[ 'D',  'D',  'D',  'B',  'D'],\n",
    "        [ 'D',  'D',  'B',  'B',  'B'],\n",
    "        [ 'D',  'B',  'D',  'D',  'D']],\n",
    "\n",
    "       [[ 'B',  'B',  'B',  'B',  'E'],\n",
    "        [ 'D',  'D',  'D',  'D',  'D'],\n",
    "        [ 'B',  'D',   'A',  'D', 'D']]])\n",
    "Again, you don't need Numpy in this question."
   ]
  },
  {
   "cell_type": "code",
   "execution_count": 101,
   "metadata": {},
   "outputs": [
    {
     "name": "stdout",
     "output_type": "stream",
     "text": [
      "array d:\n",
      " [[[1.85836099, 1.67064465, 1.62576044, 1.40243961, 1.88454931], [1.75354326, 1.69403643, 1.36729252, 1.61415071, 1.12104981], [1.72201435, 1.1862918, 1.87078449, 1.7726778, 1.88180042]], [[1.44747908, 1.31673383, 1.02000951, 1.52218947, 1.97066381], [1.79129243, 1.74983003, 1.96028037, 1.85166831, 1.65450881], [1.18068344, 1.9587381, 1.00656599, 1.93402165, 1.73514584]]]\n",
      "\n",
      "array f (populated):\n",
      " [[['D', 'D', 'D', 'B', 'D'], ['D', 'D', 'B', 'B', 'B'], ['D', 'B', 'D', 'D', 'D']], [['B', 'B', 'B', 'B', 'E'], ['D', 'D', 'D', 'D', 'D'], ['B', 'D', 'A', 'D', 'D']]]\n"
     ]
    }
   ],
   "source": [
    "### [your code here]\n",
    "d = [\n",
    "    [\n",
    "        [1.85836099, 1.67064465, 1.62576044, 1.40243961, 1.88454931],\n",
    "        [1.75354326, 1.69403643, 1.36729252, 1.61415071, 1.12104981],\n",
    "        [1.72201435, 1.1862918 , 1.87078449, 1.7726778 , 1.88180042]\n",
    "    ],\n",
    "    [\n",
    "        [1.44747908, 1.31673383, 1.02000951, 1.52218947, 1.97066381],\n",
    "        [1.79129243, 1.74983003, 1.96028037, 1.85166831, 1.65450881],\n",
    "        [1.18068344, 1.9587381 , 1.00656599, 1.93402165, 1.73514584]\n",
    "    ]\n",
    "]\n",
    "d_flat = [item for sublist1 in d for sublist2 in sublist1 for item in sublist2]\n",
    "d_max = max(d_flat)\n",
    "d_min = min(d_flat)\n",
    "d_mean = sum(d_flat) / len(d_flat)\n",
    "\n",
    "f = [[[None for _ in range(5)] for _ in range(3)] for _ in range(2)]\n",
    "\n",
    "for i in range(len(d)):  \n",
    "    for j in range(len(d[i])):  \n",
    "        for k in range(len(d[i][j])): \n",
    "            value = d[i][j][k]\n",
    "            \n",
    "            if value == d_min:\n",
    "                f[i][j][k] = \"A\"\n",
    "            elif value == d_max:\n",
    "                f[i][j][k] = \"E\"\n",
    "            elif value == d_mean:\n",
    "                f[i][j][k] = \"C\"\n",
    "            elif d_min < value < d_mean:\n",
    "                f[i][j][k] = \"B\"\n",
    "            elif d_mean < value < d_max:\n",
    "                f[i][j][k] = \"D\"\n",
    "\n",
    "print(\"array d:\\n\", d)\n",
    "print(\"\\narray f (populated):\\n\", f)"
   ]
  },
  {
   "cell_type": "code",
   "execution_count": null,
   "metadata": {},
   "outputs": [],
   "source": []
  }
 ],
 "metadata": {
  "kernelspec": {
   "display_name": "Python [conda env:base] *",
   "language": "python",
   "name": "conda-base-py"
  },
  "language_info": {
   "codemirror_mode": {
    "name": "ipython",
    "version": 3
   },
   "file_extension": ".py",
   "mimetype": "text/x-python",
   "name": "python",
   "nbconvert_exporter": "python",
   "pygments_lexer": "ipython3",
   "version": "3.12.7"
  }
 },
 "nbformat": 4,
 "nbformat_minor": 4
}
