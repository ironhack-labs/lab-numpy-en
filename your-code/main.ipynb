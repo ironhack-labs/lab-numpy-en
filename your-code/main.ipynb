{
  "cells": [
    {
      "cell_type": "markdown",
      "metadata": {
        "id": "NmsrrxPQ4JeI"
      },
      "source": [
        "# Lab | Numpy Deep Dive"
      ]
    },
    {
      "cell_type": "markdown",
      "metadata": {
        "id": "OD5Il64d4JeM"
      },
      "source": [
        "### 1. Import the NUMPY package under the name np.\n"
      ]
    },
    {
      "cell_type": "code",
      "execution_count": null,
      "metadata": {
        "colab": {
          "base_uri": "https://localhost:8080/"
        },
        "id": "3FtXEy_G4JeN",
        "outputId": "80e9e726-f727-4597-e7bf-ab317018fab3"
      },
      "outputs": [
        {
          "name": "stdout",
          "output_type": "stream",
          "text": [
            "Requirement already satisfied: numpy in /usr/local/lib/python3.11/dist-packages (1.26.4)\n"
          ]
        }
      ],
      "source": [
        "!pip install numpy"
      ]
    },
    {
      "cell_type": "code",
      "execution_count": null,
      "metadata": {
        "id": "ttu-zceM4JeP"
      },
      "outputs": [
        {
          "ename": "",
          "evalue": "",
          "output_type": "error",
          "traceback": [
            "\u001b[1;31mFailed to start the Kernel. \n",
            "\u001b[1;31mUnable to start Kernel 'Python 3.11.9' due to a timeout waiting for the ports to get used. \n",
            "\u001b[1;31mView Jupyter <a href='command:jupyter.viewOutput'>log</a> for further details."
          ]
        }
      ],
      "source": [
        "import numpy as np\n"
      ]
    },
    {
      "cell_type": "markdown",
      "metadata": {
        "id": "M3GUAerD4JeQ"
      },
      "source": [
        "\n",
        "\n",
        "### 2. Print the NUMPY version and the configuration.\n"
      ]
    },
    {
      "cell_type": "code",
      "execution_count": null,
      "metadata": {
        "colab": {
          "base_uri": "https://localhost:8080/"
        },
        "id": "DZWpbj9S4JeQ",
        "outputId": "30115bc3-d3e1-4858-e4e7-1c76342474ea"
      },
      "outputs": [
        {
          "name": "stdout",
          "output_type": "stream",
          "text": [
            "NumPy version: 1.26.4\n",
            "\n",
            "NumPy configuration:\n",
            "Build Dependencies:\n",
            "  blas:\n",
            "    detection method: pkgconfig\n",
            "    found: true\n",
            "    include directory: /usr/local/include\n",
            "    lib directory: /usr/local/lib\n",
            "    name: openblas64\n",
            "    openblas configuration: USE_64BITINT=1 DYNAMIC_ARCH=1 DYNAMIC_OLDER= NO_CBLAS=\n",
            "      NO_LAPACK= NO_LAPACKE= NO_AFFINITY=1 USE_OPENMP= HASWELL MAX_THREADS=2\n",
            "    pc file directory: /usr/local/lib/pkgconfig\n",
            "    version: 0.3.23.dev\n",
            "  lapack:\n",
            "    detection method: internal\n",
            "    found: true\n",
            "    include directory: unknown\n",
            "    lib directory: unknown\n",
            "    name: dep140213194937296\n",
            "    openblas configuration: unknown\n",
            "    pc file directory: unknown\n",
            "    version: 1.26.4\n",
            "Compilers:\n",
            "  c:\n",
            "    args: -fno-strict-aliasing\n",
            "    commands: cc\n",
            "    linker: ld.bfd\n",
            "    linker args: -Wl,--strip-debug, -fno-strict-aliasing\n",
            "    name: gcc\n",
            "    version: 10.2.1\n",
            "  c++:\n",
            "    commands: c++\n",
            "    linker: ld.bfd\n",
            "    linker args: -Wl,--strip-debug\n",
            "    name: gcc\n",
            "    version: 10.2.1\n",
            "  cython:\n",
            "    commands: cython\n",
            "    linker: cython\n",
            "    name: cython\n",
            "    version: 3.0.8\n",
            "Machine Information:\n",
            "  build:\n",
            "    cpu: x86_64\n",
            "    endian: little\n",
            "    family: x86_64\n",
            "    system: linux\n",
            "  host:\n",
            "    cpu: x86_64\n",
            "    endian: little\n",
            "    family: x86_64\n",
            "    system: linux\n",
            "Python Information:\n",
            "  path: /opt/python/cp311-cp311/bin/python\n",
            "  version: '3.11'\n",
            "SIMD Extensions:\n",
            "  baseline:\n",
            "  - SSE\n",
            "  - SSE2\n",
            "  - SSE3\n",
            "  found:\n",
            "  - SSSE3\n",
            "  - SSE41\n",
            "  - POPCNT\n",
            "  - SSE42\n",
            "  - AVX\n",
            "  - F16C\n",
            "  - FMA3\n",
            "  - AVX2\n",
            "  not found:\n",
            "  - AVX512F\n",
            "  - AVX512CD\n",
            "  - AVX512_KNL\n",
            "  - AVX512_KNM\n",
            "  - AVX512_SKX\n",
            "  - AVX512_CLX\n",
            "  - AVX512_CNL\n",
            "  - AVX512_ICL\n",
            "\n"
          ]
        }
      ],
      "source": [
        "\n",
        "\n",
        "print(\"NumPy version:\", np.__version__)\n",
        "\n",
        "\n",
        "print(\"\\nNumPy configuration:\")\n",
        "np.show_config()\n",
        "\n"
      ]
    },
    {
      "cell_type": "markdown",
      "metadata": {
        "id": "RU22cNeB4JeR"
      },
      "source": [
        "### 3. Generate a 2x3x5 3-dimensional array with random values. Assign the array to variable \"a\"\n",
        "Challenge: there are at least three easy ways that use numpy to generate random arrays. How many ways can you find?\n"
      ]
    },
    {
      "cell_type": "code",
      "execution_count": null,
      "metadata": {
        "colab": {
          "base_uri": "https://localhost:8080/"
        },
        "id": "6DHDQau_7kEa",
        "outputId": "9e47499a-dd25-4ec8-e621-1b2b3d4aa902"
      },
      "outputs": [
        {
          "name": "stdout",
          "output_type": "stream",
          "text": [
            "[[[26 76 35 59  1]\n",
            "  [19 74 14 94 60]\n",
            "  [89 60 37 43 65]]\n",
            "\n",
            " [[70 85 49 83 32]\n",
            "  [63 93 20 36 87]\n",
            "  [17 71 65 63 28]]]\n"
          ]
        }
      ],
      "source": [
        "a = np.random.randint(0, 100, size=(2, 3, 5))\n",
        "print(a)"
      ]
    },
    {
      "cell_type": "markdown",
      "metadata": {
        "id": "Q1ib3BYg4JeR"
      },
      "source": [
        "\n",
        "### 4. Print a.\n"
      ]
    },
    {
      "cell_type": "code",
      "execution_count": null,
      "metadata": {
        "colab": {
          "base_uri": "https://localhost:8080/"
        },
        "id": "kx0gbqoc4JeS",
        "outputId": "44d0aa09-7307-4c83-9da1-17c5b2ae6a6f"
      },
      "outputs": [
        {
          "name": "stdout",
          "output_type": "stream",
          "text": [
            "[[[26 76 35 59  1]\n",
            "  [19 74 14 94 60]\n",
            "  [89 60 37 43 65]]\n",
            "\n",
            " [[70 85 49 83 32]\n",
            "  [63 93 20 36 87]\n",
            "  [17 71 65 63 28]]]\n"
          ]
        }
      ],
      "source": [
        "print(a)\n"
      ]
    },
    {
      "cell_type": "markdown",
      "metadata": {
        "id": "7oI_-a-r4JeS"
      },
      "source": [
        "### 5. Create a 5x2x3 3-dimensional array with all values equaling 1.\n",
        "### Assign the array to variable \"b\"\n"
      ]
    },
    {
      "cell_type": "code",
      "execution_count": null,
      "metadata": {
        "colab": {
          "base_uri": "https://localhost:8080/"
        },
        "id": "B1qrz6LP4JeT",
        "outputId": "960e5e6d-bece-4c9f-8832-108989d286fe"
      },
      "outputs": [
        {
          "name": "stdout",
          "output_type": "stream",
          "text": [
            "[[[1. 1. 1.]\n",
            "  [1. 1. 1.]]\n",
            "\n",
            " [[1. 1. 1.]\n",
            "  [1. 1. 1.]]\n",
            "\n",
            " [[1. 1. 1.]\n",
            "  [1. 1. 1.]]\n",
            "\n",
            " [[1. 1. 1.]\n",
            "  [1. 1. 1.]]\n",
            "\n",
            " [[1. 1. 1.]\n",
            "  [1. 1. 1.]]]\n"
          ]
        }
      ],
      "source": [
        "b = np.ones((5, 2, 3))\n",
        "print(b)"
      ]
    },
    {
      "cell_type": "markdown",
      "metadata": {
        "id": "JlFnPXZc4JeT"
      },
      "source": [
        "\n",
        "### 6. Print b.\n"
      ]
    },
    {
      "cell_type": "code",
      "execution_count": null,
      "metadata": {
        "colab": {
          "base_uri": "https://localhost:8080/"
        },
        "id": "T9NuQ2FJ4JeT",
        "outputId": "88dc0181-1acf-4764-b33f-e30b90b08c38"
      },
      "outputs": [
        {
          "name": "stdout",
          "output_type": "stream",
          "text": [
            "[[[1. 1. 1.]\n",
            "  [1. 1. 1.]]\n",
            "\n",
            " [[1. 1. 1.]\n",
            "  [1. 1. 1.]]\n",
            "\n",
            " [[1. 1. 1.]\n",
            "  [1. 1. 1.]]\n",
            "\n",
            " [[1. 1. 1.]\n",
            "  [1. 1. 1.]]\n",
            "\n",
            " [[1. 1. 1.]\n",
            "  [1. 1. 1.]]]\n"
          ]
        }
      ],
      "source": [
        "print(b)\n"
      ]
    },
    {
      "cell_type": "markdown",
      "metadata": {
        "id": "iLvHITF14JeT"
      },
      "source": [
        "\n",
        "### 7. Do a and b have the same size? How do you prove that in Python code?\n"
      ]
    },
    {
      "cell_type": "code",
      "execution_count": null,
      "metadata": {
        "colab": {
          "base_uri": "https://localhost:8080/"
        },
        "id": "4vCLUfA64JeU",
        "outputId": "6575b9d8-5cbe-4cb3-eceb-229a06fcf1ae"
      },
      "outputs": [
        {
          "name": "stdout",
          "output_type": "stream",
          "text": [
            "no\n"
          ]
        }
      ],
      "source": [
        "if a.shape == b.shape:\n",
        "    print(\"yes\")\n",
        "else:\n",
        "    print(\"no\")\n",
        "\n",
        "\n"
      ]
    },
    {
      "cell_type": "code",
      "execution_count": null,
      "metadata": {
        "colab": {
          "base_uri": "https://localhost:8080/"
        },
        "id": "AvzStrWpAcae",
        "outputId": "b64798bb-1df4-4797-9738-7697f490b8fd"
      },
      "outputs": [
        {
          "name": "stdout",
          "output_type": "stream",
          "text": [
            "yes\n"
          ]
        }
      ],
      "source": [
        "if a.size == b.size:\n",
        "    print(\"yes\")\n",
        "else:\n",
        "    print(\"no\")\n"
      ]
    },
    {
      "cell_type": "markdown",
      "metadata": {
        "id": "vD8adnRn4JeU"
      },
      "source": [
        "\n",
        "### 8. Are you able to add a and b? Why or why not?\n"
      ]
    },
    {
      "cell_type": "markdown",
      "metadata": {
        "id": "Ph7DtQeEYZ_Z"
      },
      "source": [
        "no, because they do not have the same dimensional"
      ]
    },
    {
      "cell_type": "markdown",
      "metadata": {
        "id": "0wwTnNxO4JeU"
      },
      "source": [
        "\n",
        "\n",
        "### 9. Transpose b so that it has the same structure of a (i.e. become a 2x3x5 array). Assign the transposed array to varialbe \"c\".\n"
      ]
    },
    {
      "cell_type": "code",
      "execution_count": null,
      "metadata": {
        "colab": {
          "base_uri": "https://localhost:8080/"
        },
        "id": "AXJvLfle4JeV",
        "outputId": "80922851-1e58-449b-c654-373b683866ef"
      },
      "outputs": [
        {
          "name": "stdout",
          "output_type": "stream",
          "text": [
            "[[[1. 1. 1. 1. 1.]\n",
            "  [1. 1. 1. 1. 1.]\n",
            "  [1. 1. 1. 1. 1.]]\n",
            "\n",
            " [[1. 1. 1. 1. 1.]\n",
            "  [1. 1. 1. 1. 1.]\n",
            "  [1. 1. 1. 1. 1.]]]\n"
          ]
        }
      ],
      "source": [
        "c = b.reshape(2, 3, 5)\n",
        "\n",
        "print(c)\n"
      ]
    },
    {
      "cell_type": "markdown",
      "metadata": {
        "id": "-niAvcOi4JeV"
      },
      "source": [
        "\n",
        "### 10. Try to add a and c. Now it should work. Assign the sum to variable \"d\". But why does it work now?\n"
      ]
    },
    {
      "cell_type": "code",
      "execution_count": null,
      "metadata": {
        "colab": {
          "base_uri": "https://localhost:8080/"
        },
        "id": "fXfBtHHs4JeV",
        "outputId": "17a6dc32-34ac-444d-a3d3-d20e2284c1bf"
      },
      "outputs": [
        {
          "name": "stdout",
          "output_type": "stream",
          "text": [
            "[[[27. 77. 36. 60.  2.]\n",
            "  [20. 75. 15. 95. 61.]\n",
            "  [90. 61. 38. 44. 66.]]\n",
            "\n",
            " [[71. 86. 50. 84. 33.]\n",
            "  [64. 94. 21. 37. 88.]\n",
            "  [18. 72. 66. 64. 29.]]]\n"
          ]
        }
      ],
      "source": [
        "d = a + c\n",
        "\n",
        "print(d)\n"
      ]
    },
    {
      "cell_type": "markdown",
      "metadata": {
        "id": "YpqMFel84JeV"
      },
      "source": [
        "\n",
        "### 11. Print a and d. Notice the difference and relation of the two array in terms of the values? Explain.\n"
      ]
    },
    {
      "cell_type": "code",
      "execution_count": null,
      "metadata": {
        "colab": {
          "base_uri": "https://localhost:8080/"
        },
        "id": "zrmSHQdX4JeW",
        "outputId": "702ba390-3339-4a33-c581-61ca40d0f76a"
      },
      "outputs": [
        {
          "name": "stdout",
          "output_type": "stream",
          "text": [
            "[[[26 76 35 59  1]\n",
            "  [19 74 14 94 60]\n",
            "  [89 60 37 43 65]]\n",
            "\n",
            " [[70 85 49 83 32]\n",
            "  [63 93 20 36 87]\n",
            "  [17 71 65 63 28]]] [[[27. 77. 36. 60.  2.]\n",
            "  [20. 75. 15. 95. 61.]\n",
            "  [90. 61. 38. 44. 66.]]\n",
            "\n",
            " [[71. 86. 50. 84. 33.]\n",
            "  [64. 94. 21. 37. 88.]\n",
            "  [18. 72. 66. 64. 29.]]]\n"
          ]
        }
      ],
      "source": [
        "print(a,d)\n",
        "\n"
      ]
    },
    {
      "cell_type": "markdown",
      "metadata": {
        "id": "UreAC5htYSge"
      },
      "source": [
        "couldn’t be added because they had different shapes"
      ]
    },
    {
      "cell_type": "markdown",
      "metadata": {
        "id": "fAvdEnAG4JeW"
      },
      "source": [
        "\n",
        "### 12. Multiply a and c. Assign the result to e.\n"
      ]
    },
    {
      "cell_type": "code",
      "execution_count": null,
      "metadata": {
        "colab": {
          "base_uri": "https://localhost:8080/"
        },
        "id": "BNyXoOep4JeW",
        "outputId": "06962e8f-d748-46e3-aedb-25104a3f5055"
      },
      "outputs": [
        {
          "name": "stdout",
          "output_type": "stream",
          "text": [
            "[[[26. 76. 35. 59.  1.]\n",
            "  [19. 74. 14. 94. 60.]\n",
            "  [89. 60. 37. 43. 65.]]\n",
            "\n",
            " [[70. 85. 49. 83. 32.]\n",
            "  [63. 93. 20. 36. 87.]\n",
            "  [17. 71. 65. 63. 28.]]]\n"
          ]
        }
      ],
      "source": [
        "e = a * c\n",
        "print(e)"
      ]
    },
    {
      "cell_type": "code",
      "execution_count": null,
      "metadata": {
        "id": "cyFCf0ytZk8O"
      },
      "outputs": [],
      "source": []
    },
    {
      "cell_type": "markdown",
      "metadata": {
        "id": "smyMIOP84JeW"
      },
      "source": [
        "\n",
        "\n",
        "### 13. Does e equal to a? Why or why not?\n"
      ]
    },
    {
      "cell_type": "markdown",
      "metadata": {
        "id": "mkBqfHpBZYFh"
      },
      "source": [
        "yes,Since c is an array of ones (1.0), multiplying any number by 1 gives the same number.\n"
      ]
    },
    {
      "cell_type": "markdown",
      "metadata": {
        "id": "WTYI7OGg4JeX"
      },
      "source": [
        "\n",
        "\n",
        "### 14. Identify the max, min, and mean values in d. Assign those values to variables \"d_max\", \"d_min\", and \"d_mean\"\n"
      ]
    },
    {
      "cell_type": "code",
      "execution_count": null,
      "metadata": {
        "colab": {
          "base_uri": "https://localhost:8080/"
        },
        "id": "6kUSHkTR4JeX",
        "outputId": "8a093a9d-437e-492a-8236-ecfac2c156f9"
      },
      "outputs": [
        {
          "name": "stdout",
          "output_type": "stream",
          "text": [
            "Max value: 95.0\n",
            "Min value: 2.0\n",
            "Mean value: 54.8\n"
          ]
        }
      ],
      "source": [
        "d_max = np.max(d)\n",
        "d_min = np.min(d)\n",
        "d_mean = np.mean(d)\n",
        "\n",
        "print(\"Max value:\", d_max)\n",
        "print(\"Min value:\", d_min)\n",
        "print(\"Mean value:\", d_mean)\n",
        "\n"
      ]
    },
    {
      "cell_type": "markdown",
      "metadata": {
        "id": "-QrhdGzc4JeX"
      },
      "source": [
        "\n",
        "### 15. Now we want to label the values in d. First create an empty array \"f\" with the same shape (i.e. 2x3x5) as d using `np.empty`.\n"
      ]
    },
    {
      "cell_type": "code",
      "execution_count": null,
      "metadata": {
        "colab": {
          "base_uri": "https://localhost:8080/"
        },
        "id": "DRgGgVkE4JeY",
        "outputId": "68e0021f-0561-4e5f-9194-9a3027f5df37"
      },
      "outputs": [
        {
          "name": "stdout",
          "output_type": "stream",
          "text": [
            "[[[27. 77. 36. 60.  2.]\n",
            "  [20. 75. 15. 95. 61.]\n",
            "  [90. 61. 38. 44. 66.]]\n",
            "\n",
            " [[71. 86. 50. 84. 33.]\n",
            "  [64. 94. 21. 37. 88.]\n",
            "  [18. 72. 66. 64. 29.]]]\n"
          ]
        }
      ],
      "source": [
        "f = np.empty(d.shape)\n",
        "print(f)"
      ]
    },
    {
      "cell_type": "markdown",
      "metadata": {
        "id": "KlbS9-CX4JeY"
      },
      "source": [
        "\n",
        "\n",
        "\n",
        "### 16. Populate the values in f. For each value in d, if it's larger than d_min but smaller than d_mean, assign 25 to the corresponding value in f.\n",
        "If a value in d is larger than d_mean but smaller than d_max, assign 75 to the corresponding value in f.\n",
        "If a value equals to d_mean, assign 50 to the corresponding value in f.\n",
        "Assign 0 to the corresponding value(s) in f for d_min in d.\n",
        "Assign 100 to the corresponding value(s) in f for d_max in d.\n",
        "In the end, f should have only the following values: 0, 25, 50, 75, and 100.\n",
        "Note: you don't have to use Numpy in this question.\n",
        "\n"
      ]
    },
    {
      "cell_type": "code",
      "execution_count": null,
      "metadata": {
        "colab": {
          "base_uri": "https://localhost:8080/"
        },
        "id": "p6rWR63i4JeY",
        "outputId": "6b87e5dc-5621-465f-e970-74a5e32a7122"
      },
      "outputs": [
        {
          "name": "stdout",
          "output_type": "stream",
          "text": [
            "[[[ 25.  75.  25.  75.   0.]\n",
            "  [ 25.  75.  25. 100.  75.]\n",
            "  [ 75.  75.  25.  25.  75.]]\n",
            "\n",
            " [[ 75.  75.  25.  75.  25.]\n",
            "  [ 75.  75.  25.  25.  75.]\n",
            "  [ 25.  75.  75.  75.  25.]]]\n"
          ]
        }
      ],
      "source": [
        "\n",
        "for i in range(d.shape[0]):\n",
        "    for j in range(d.shape[1]):\n",
        "        for k in range(d.shape[2]):\n",
        "            if d[i][j][k] == d_min:\n",
        "                f[i][j][k] = 0\n",
        "            elif d[i][j][k] == d_max:\n",
        "                f[i][j][k] = 100\n",
        "            elif d[i][j][k] == d_mean:\n",
        "                f[i][j][k] = 50\n",
        "            elif d_min < d[i][j][k] < d_mean:\n",
        "                f[i][j][k] = 25\n",
        "            elif d_mean < d[i][j][k] < d_max:\n",
        "                f[i][j][k] = 75\n",
        "\n",
        "print(f)\n"
      ]
    },
    {
      "cell_type": "markdown",
      "metadata": {
        "id": "-3LDe8jg4JeZ"
      },
      "source": [
        "\n",
        "\n",
        "\n",
        "\n",
        "### 17. Print d and f. Do you have your expected f?\n",
        "For instance, if your d is:\n",
        "array([[[1.85836099, 1.67064465, 1.62576044, 1.40243961, 1.88454931],\n",
        "        [1.75354326, 1.69403643, 1.36729252, 1.61415071, 1.12104981],\n",
        "        [1.72201435, 1.1862918 , 1.87078449, 1.7726778 , 1.88180042]],\n",
        "\n",
        "       [[1.44747908, 1.31673383, 1.02000951, 1.52218947, 1.97066381],\n",
        "        [1.79129243, 1.74983003, 1.96028037, 1.85166831, 1.65450881],\n",
        "        [1.18068344, 1.9587381 , 1.00656599, 1.93402165, 1.73514584]]])\n",
        "\n",
        "Your f should be:\n",
        "array([[[ 75.,  75.,  75.,  25.,  75.],\n",
        "        [ 75.,  75.,  25.,  25.,  25.],\n",
        "        [ 75.,  25.,  75.,  75.,  75.]],\n",
        "\n",
        "       [[ 25.,  25.,  25.,  25., 100.],\n",
        "        [ 75.,  75.,  75.,  75.,  75.],\n",
        "        [ 25.,  75.,   0.,  75.,  75.]]])\n",
        "\n"
      ]
    },
    {
      "cell_type": "code",
      "execution_count": null,
      "metadata": {
        "colab": {
          "base_uri": "https://localhost:8080/"
        },
        "id": "grgJhz3t4JeZ",
        "outputId": "ccc9016b-dc02-461b-dbb5-5cb33dc71457"
      },
      "outputs": [
        {
          "name": "stdout",
          "output_type": "stream",
          "text": [
            "Array d:\n",
            " [[[27. 77. 36. 60.  2.]\n",
            "  [20. 75. 15. 95. 61.]\n",
            "  [90. 61. 38. 44. 66.]]\n",
            "\n",
            " [[71. 86. 50. 84. 33.]\n",
            "  [64. 94. 21. 37. 88.]\n",
            "  [18. 72. 66. 64. 29.]]]\n",
            "\n",
            "Array f (Labeled Values):\n",
            " [[[ 25.  75.  25.  75.   0.]\n",
            "  [ 25.  75.  25. 100.  75.]\n",
            "  [ 75.  75.  25.  25.  75.]]\n",
            "\n",
            " [[ 75.  75.  25.  75.  25.]\n",
            "  [ 75.  75.  25.  25.  75.]\n",
            "  [ 25.  75.  75.  75.  25.]]]\n"
          ]
        }
      ],
      "source": [
        "print(\"Array d:\\n\", d)\n",
        "print(\"\\nArray f (Labeled Values):\\n\", f)"
      ]
    },
    {
      "cell_type": "markdown",
      "metadata": {
        "id": "1RKjNH6_4JeZ"
      },
      "source": [
        "### 18. Bonus question: instead of using numbers (i.e. 0, 25, 50, 75, and 100), how to use string values\n",
        "(\"A\", \"B\", \"C\", \"D\", and \"E\") to label the array elements? You are expecting the result to be:\n",
        "array([[[ 'D',  'D',  'D',  'B',  'D'],\n",
        "        [ 'D',  'D',  'B',  'B',  'B'],\n",
        "        [ 'D',  'B',  'D',  'D',  'D']],\n",
        "\n",
        "       [[ 'B',  'B',  'B',  'B',  'E'],\n",
        "        [ 'D',  'D',  'D',  'D',  'D'],\n",
        "        [ 'B',  'D',   'A',  'D', 'D']]])\n",
        "Again, you don't need Numpy in this question."
      ]
    },
    {
      "cell_type": "code",
      "execution_count": null,
      "metadata": {
        "colab": {
          "base_uri": "https://localhost:8080/"
        },
        "id": "aoBvtFPN4JeZ",
        "outputId": "9185a591-9ce6-46d9-d7a6-d25c9fe9c841"
      },
      "outputs": [
        {
          "name": "stdout",
          "output_type": "stream",
          "text": [
            "[[['B', 'D', 'B', 'D', 'A'], ['B', 'D', 'B', 'E', 'D'], ['D', 'D', 'B', 'B', 'D']], [['D', 'D', 'B', 'D', 'B'], ['D', 'D', 'B', 'B', 'D'], ['B', 'D', 'D', 'D', 'B']]]\n"
          ]
        }
      ],
      "source": [
        "\n",
        "f_str = [[[None for _ in range(d.shape[2])] for _ in range(d.shape[1])] for _ in range(d.shape[0])]\n",
        "\n",
        "\n",
        "for i in range(d.shape[0]):\n",
        "    for j in range(d.shape[1]):\n",
        "        for k in range(d.shape[2]):\n",
        "            if d[i][j][k] == d_min:\n",
        "                f_str[i][j][k] = \"A\"\n",
        "            elif d[i][j][k] == d_max:\n",
        "                f_str[i][j][k] = \"E\"\n",
        "            elif d[i][j][k] == d_mean:\n",
        "                f_str[i][j][k] = \"C\"\n",
        "            elif d_min < d[i][j][k] < d_mean:\n",
        "                f_str[i][j][k] = \"B\"\n",
        "            elif d_mean < d[i][j][k] < d_max:\n",
        "                f_str[i][j][k] = \"D\"\n",
        "\n",
        "print(f_str)\n"
      ]
    }
  ],
  "metadata": {
    "colab": {
      "provenance": []
    },
    "kernelspec": {
      "display_name": "Python 3",
      "language": "python",
      "name": "python3"
    },
    "language_info": {
      "codemirror_mode": {
        "name": "ipython",
        "version": 3
      },
      "file_extension": ".py",
      "mimetype": "text/x-python",
      "name": "python",
      "nbconvert_exporter": "python",
      "pygments_lexer": "ipython3",
      "version": "3.11.9"
    }
  },
  "nbformat": 4,
  "nbformat_minor": 0
}
