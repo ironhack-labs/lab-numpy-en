{
 "cells": [
  {
   "cell_type": "markdown",
   "metadata": {},
   "source": [
    "# Lab | Numpy Deep Dive"
   ]
  },
  {
   "cell_type": "markdown",
   "metadata": {},
   "source": [
    "### 1. Import the NUMPY package under the name np.\n"
   ]
  },
  {
   "cell_type": "code",
   "execution_count": 2,
   "metadata": {},
   "outputs": [],
   "source": [
    "import numpy as np"
   ]
  },
  {
   "cell_type": "markdown",
   "metadata": {},
   "source": [
    "\n",
    "\n",
    "### 2. Print the NUMPY version and the configuration.\n"
   ]
  },
  {
   "cell_type": "code",
   "execution_count": 3,
   "metadata": {},
   "outputs": [
    {
     "name": "stdout",
     "output_type": "stream",
     "text": [
      "NumPy Version: 2.0.2\n",
      "{\n",
      "  \"Compilers\": {\n",
      "    \"c\": {\n",
      "      \"name\": \"clang\",\n",
      "      \"linker\": \"ld64\",\n",
      "      \"version\": \"15.0.0\",\n",
      "      \"commands\": \"cc\"\n",
      "    },\n",
      "    \"cython\": {\n",
      "      \"name\": \"cython\",\n",
      "      \"linker\": \"cython\",\n",
      "      \"version\": \"3.0.11\",\n",
      "      \"commands\": \"cython\"\n",
      "    },\n",
      "    \"c++\": {\n",
      "      \"name\": \"clang\",\n",
      "      \"linker\": \"ld64\",\n",
      "      \"version\": \"15.0.0\",\n",
      "      \"commands\": \"c++\"\n",
      "    }\n",
      "  },\n",
      "  \"Machine Information\": {\n",
      "    \"host\": {\n",
      "      \"cpu\": \"aarch64\",\n",
      "      \"family\": \"aarch64\",\n",
      "      \"endian\": \"little\",\n",
      "      \"system\": \"darwin\"\n",
      "    },\n",
      "    \"build\": {\n",
      "      \"cpu\": \"aarch64\",\n",
      "      \"family\": \"aarch64\",\n",
      "      \"endian\": \"little\",\n",
      "      \"system\": \"darwin\"\n",
      "    }\n",
      "  },\n",
      "  \"Build Dependencies\": {\n",
      "    \"blas\": {\n",
      "      \"name\": \"accelerate\",\n",
      "      \"found\": true,\n",
      "      \"version\": \"unknown\",\n",
      "      \"detection method\": \"system\",\n",
      "      \"include directory\": \"unknown\",\n",
      "      \"lib directory\": \"unknown\",\n",
      "      \"openblas configuration\": \"unknown\",\n",
      "      \"pc file directory\": \"unknown\"\n",
      "    },\n",
      "    \"lapack\": {\n",
      "      \"name\": \"accelerate\",\n",
      "      \"found\": true,\n",
      "      \"version\": \"unknown\",\n",
      "      \"detection method\": \"system\",\n",
      "      \"include directory\": \"unknown\",\n",
      "      \"lib directory\": \"unknown\",\n",
      "      \"openblas configuration\": \"unknown\",\n",
      "      \"pc file directory\": \"unknown\"\n",
      "    }\n",
      "  },\n",
      "  \"Python Information\": {\n",
      "    \"path\": \"/private/var/folders/4d/0gnh84wj53j7wyk695q0tc_80000gn/T/build-env-kq4kuj35/bin/python\",\n",
      "    \"version\": \"3.9\"\n",
      "  },\n",
      "  \"SIMD Extensions\": {\n",
      "    \"baseline\": [\n",
      "      \"NEON\",\n",
      "      \"NEON_FP16\",\n",
      "      \"NEON_VFPV4\",\n",
      "      \"ASIMD\"\n",
      "    ],\n",
      "    \"found\": [\n",
      "      \"ASIMDHP\"\n",
      "    ],\n",
      "    \"not found\": [\n",
      "      \"ASIMDFHM\"\n",
      "    ]\n",
      "  }\n",
      "}\n"
     ]
    },
    {
     "name": "stderr",
     "output_type": "stream",
     "text": [
      "/Users/wafaalqahtani/Library/Python/3.9/lib/python/site-packages/numpy/__config__.py:155: UserWarning: Install `pyyaml` for better output\n",
      "  warnings.warn(\"Install `pyyaml` for better output\", stacklevel=1)\n"
     ]
    }
   ],
   "source": [
    "import numpy as np\n",
    "\n",
    "# طباعة إصدار NumPy\n",
    "print(\"NumPy Version:\", np.__version__)\n",
    "\n",
    "# طباعة تفاصيل التكوين\n",
    "np.show_config()\n"
   ]
  },
  {
   "cell_type": "markdown",
   "metadata": {},
   "source": [
    "### 3. Generate a 2x3x5 3-dimensional array with random values. Assign the array to variable \"a\"\n",
    "Challenge: there are at least three easy ways that use numpy to generate random arrays. How many ways can you find?\n"
   ]
  },
  {
   "cell_type": "code",
   "execution_count": 6,
   "metadata": {},
   "outputs": [],
   "source": [
    "import numpy as np\n",
    "\n",
    "# إنشاء مصفوفة 3D بحجم (2,3,5) تحتوي على قيم عشوائية بين 0 و 1\n",
    "a = np.random.rand(2, 3, 5)\n"
   ]
  },
  {
   "cell_type": "markdown",
   "metadata": {},
   "source": [
    "\n",
    "### 4. Print a.\n"
   ]
  },
  {
   "cell_type": "code",
   "execution_count": 7,
   "metadata": {},
   "outputs": [
    {
     "name": "stdout",
     "output_type": "stream",
     "text": [
      "[[[0.54871377 0.91256418 0.42609697 0.91895222 0.36465436]\n",
      "  [0.35711955 0.42282524 0.64164883 0.73895101 0.57523504]\n",
      "  [0.1810825  0.32556026 0.06870768 0.85253036 0.1037896 ]]\n",
      "\n",
      " [[0.63582097 0.84473961 0.44000823 0.99573325 0.56570751]\n",
      "  [0.17607012 0.6018077  0.38375794 0.32016845 0.27886076]\n",
      "  [0.38785441 0.90603751 0.36088925 0.36973559 0.25499985]]]\n"
     ]
    }
   ],
   "source": [
    "print(a)"
   ]
  },
  {
   "cell_type": "markdown",
   "metadata": {},
   "source": [
    "### 5. Create a 5x2x3 3-dimensional array with all values equaling 1.\n",
    "### Assign the array to variable \"b\"\n"
   ]
  },
  {
   "cell_type": "code",
   "execution_count": 11,
   "metadata": {},
   "outputs": [],
   "source": [
    "import numpy as np\n",
    "\n",
    "# إنشاء مصفوفة 3D بحجم (5,2,3) تحتوي على القيم 1\n",
    "b = np.ones((5, 2, 3))\n",
    "\n"
   ]
  },
  {
   "cell_type": "markdown",
   "metadata": {},
   "source": [
    "\n",
    "### 6. Print b.\n"
   ]
  },
  {
   "cell_type": "code",
   "execution_count": 9,
   "metadata": {},
   "outputs": [
    {
     "name": "stdout",
     "output_type": "stream",
     "text": [
      "[[[1. 1. 1.]\n",
      "  [1. 1. 1.]]\n",
      "\n",
      " [[1. 1. 1.]\n",
      "  [1. 1. 1.]]\n",
      "\n",
      " [[1. 1. 1.]\n",
      "  [1. 1. 1.]]\n",
      "\n",
      " [[1. 1. 1.]\n",
      "  [1. 1. 1.]]\n",
      "\n",
      " [[1. 1. 1.]\n",
      "  [1. 1. 1.]]]\n"
     ]
    }
   ],
   "source": [
    "\n",
    "print(b)"
   ]
  },
  {
   "cell_type": "markdown",
   "metadata": {},
   "source": [
    "\n",
    "### 7. Do a and b have the same size? How do you prove that in Python code?\n"
   ]
  },
  {
   "cell_type": "code",
   "execution_count": 30,
   "metadata": {},
   "outputs": [
    {
     "name": "stdout",
     "output_type": "stream",
     "text": [
      "Size of a: 30\n",
      "Size of b: 30\n",
      "Do a and b have the same size? True\n"
     ]
    }
   ],
   "source": [
    "import numpy as np\n",
    "\n",
    "# a \n",
    "a = np.random.rand(2, 3, 5)\n",
    "\n",
    "# b\n",
    "b = np.ones((5, 2, 3))\n",
    "\n",
    "# التحقق مما إذا كان لهما نفس الحجم\n",
    "same_size = a.size == b.size\n",
    "\n",
    "print(\"Size of a:\", a.size)\n",
    "print(\"Size of b:\", b.size)\n",
    "print(\"Do a and b have the same size?\", same_size)\n"
   ]
  },
  {
   "cell_type": "markdown",
   "metadata": {},
   "source": [
    "\n",
    "### 8. Are you able to add a and b? Why or why not?\n",
    "yes it's can added as it's shwoen below."
   ]
  },
  {
   "cell_type": "code",
   "execution_count": 31,
   "metadata": {},
   "outputs": [
    {
     "name": "stdout",
     "output_type": "stream",
     "text": [
      "[[[1.77502006 1.9110054  1.39834262 1.21033457 1.13819011]\n",
      "  [1.0559052  1.78190578 1.32726615 1.48771567 1.01397213]\n",
      "  [1.27630744 1.18086654 1.45177915 1.78162774 1.5892984 ]]\n",
      "\n",
      " [[1.12888397 1.85954782 1.9079591  1.82439769 1.1620299 ]\n",
      "  [1.01453994 1.56372224 1.00079671 1.82222621 1.35427405]\n",
      "  [1.76734316 1.14939468 1.05113015 1.10891142 1.65933074]]]\n"
     ]
    }
   ],
   "source": [
    "import numpy as np\n",
    "\n",
    "# a\n",
    "a = np.random.rand(2, 3, 5)\n",
    "\n",
    "# b\n",
    "b = np.ones((2, 3, 5))\n",
    "\n",
    "# sum a,b \n",
    "sum_ = a + b\n",
    "\n",
    "print(sum_)\n"
   ]
  },
  {
   "cell_type": "markdown",
   "metadata": {},
   "source": []
  },
  {
   "cell_type": "markdown",
   "metadata": {},
   "source": [
    "\n",
    "\n",
    "### 9. Transpose b so that it has the same structure of a (i.e. become a 2x3x5 array). Assign the transposed array to varialbe \"c\".\n"
   ]
  },
  {
   "cell_type": "code",
   "execution_count": 32,
   "metadata": {},
   "outputs": [
    {
     "name": "stdout",
     "output_type": "stream",
     "text": [
      "[[[1.54772438 1.01373621 1.16747364 1.12795403 1.58510393]\n",
      "  [1.5648133  1.67250432 1.39429557 1.34970507 1.64436271]\n",
      "  [1.29999596 1.08061015 1.14187782 1.76063628 1.86402371]]\n",
      "\n",
      " [[1.06972439 1.5724748  1.13067011 1.99730321 1.67096408]\n",
      "  [1.03981112 1.78808984 1.91337915 1.0561826  1.87958489]\n",
      "  [1.12158304 1.22268262 1.10184846 1.90220822 1.94819615]]]\n"
     ]
    }
   ],
   "source": [
    "import numpy as np\n",
    "\n",
    "# إنشاء المصفوفة a بحجم (2,3,5) بقيم عشوائية\n",
    "a = np.random.rand(2, 3, 5)\n",
    "\n",
    "# إنشاء المصفوفة b بحجم (5,2,3) تحتوي على قيم 1\n",
    "b = np.ones((5, 2, 3))\n",
    "\n",
    "# تبديل محاور b لتصبح بحجم (2,3,5)\n",
    "c = np.transpose(b, (1, 2, 0))\n",
    "\n",
    "# جمع a و c\n",
    "sum_ = a + c\n",
    "\n",
    "# طباعة النتيجة\n",
    "print(sum_)\n",
    "\n"
   ]
  },
  {
   "cell_type": "code",
   "execution_count": null,
   "metadata": {},
   "outputs": [],
   "source": []
  },
  {
   "cell_type": "markdown",
   "metadata": {},
   "source": [
    "\n",
    "### 10. Try to add a and c. Now it should work. Assign the sum to variable \"d\". But why does it work now?\n",
    "Yes, the addition worked because we used `np.transpose(b, (1, 2, 0))` to make **`c` match the shape of `a`**.  "
   ]
  },
  {
   "cell_type": "code",
   "execution_count": 33,
   "metadata": {},
   "outputs": [
    {
     "name": "stdout",
     "output_type": "stream",
     "text": [
      "[[[1.4777212  1.59350885 1.83572052 1.40411704 1.49523762]\n",
      "  [1.69209023 1.37070497 1.49893102 1.48811065 1.80253105]\n",
      "  [1.05086685 1.11120644 1.14148086 1.21746884 1.04507528]]\n",
      "\n",
      " [[1.32136273 1.45370756 1.94511244 1.74364928 1.46492186]\n",
      "  [1.98636565 1.49589694 1.3031381  1.41497525 1.75631386]\n",
      "  [1.44215879 1.11613882 1.78488072 1.10694851 1.59253041]]]\n"
     ]
    }
   ],
   "source": [
    "import numpy as np\n",
    "\n",
    "# a\n",
    "a = np.random.rand(2, 3, 5)\n",
    "\n",
    "# إنشاء المصفوفة b بحجم (5,2,3) تحتوي على قيم 1\n",
    "b = np.ones((5, 2, 3))\n",
    "\n",
    "# تبديل محاور b لتصبح بحجم (2,3,5)\n",
    "c = np.transpose(b, (1, 2, 0))\n",
    "\n",
    "# الآن c له نفس أبعاد a، لذا يمكن جمعهما\n",
    "d = a + c\n",
    "\n",
    "# طباعة النتيجة\n",
    "print(d)\n"
   ]
  },
  {
   "cell_type": "markdown",
   "metadata": {},
   "source": [
    "\n",
    "### 11. Print a and d. Notice the difference and relation of the two array in terms of the values? Explain.\n",
    "d is just a + 1, so every element in d is exactly 1 unit greater than in a.\n",
    " Since c contains only ones, it acts like a \"shift\" where all values in a are increased by 1.\n",
    " a and d have the same structure, but d is just a shifted by 1!\n"
   ]
  },
  {
   "cell_type": "code",
   "execution_count": 34,
   "metadata": {},
   "outputs": [
    {
     "name": "stdout",
     "output_type": "stream",
     "text": [
      "Array a:\n",
      " [[[0.27444746 0.99332938 0.1048822  0.99571605 0.64180872]\n",
      "  [0.34250613 0.61204469 0.14868605 0.58201914 0.67235379]\n",
      "  [0.94744519 0.69855631 0.71026609 0.06967281 0.78185863]]\n",
      "\n",
      " [[0.09960125 0.79389107 0.18795438 0.62740258 0.84088889]\n",
      "  [0.51948551 0.41328787 0.96225065 0.48413627 0.85572089]\n",
      "  [0.13220576 0.78477462 0.08634868 0.277321   0.04511325]]]\n",
      "\n",
      "Array d (a + c):\n",
      " [[[1.27444746 1.99332938 1.1048822  1.99571605 1.64180872]\n",
      "  [1.34250613 1.61204469 1.14868605 1.58201914 1.67235379]\n",
      "  [1.94744519 1.69855631 1.71026609 1.06967281 1.78185863]]\n",
      "\n",
      " [[1.09960125 1.79389107 1.18795438 1.62740258 1.84088889]\n",
      "  [1.51948551 1.41328787 1.96225065 1.48413627 1.85572089]\n",
      "  [1.13220576 1.78477462 1.08634868 1.277321   1.04511325]]]\n"
     ]
    }
   ],
   "source": [
    "import numpy as np\n",
    "\n",
    "# Create array 'a' \n",
    "a = np.random.rand(2, 3, 5)\n",
    "\n",
    "# Create array 'b' \n",
    "b = np.ones((5, 2, 3))\n",
    "\n",
    "# Transpose 'b' to match 'a' \n",
    "c = np.transpose(b, (1, 2, 0))\n",
    "\n",
    "# Add 'a' and 'c' to get 'd'\n",
    "d = a + c\n",
    "\n",
    "# Print 'a' and 'd'\n",
    "print(\"Array a:\\n\", a)\n",
    "print(\"\\nArray d (a + c):\\n\", d)\n",
    "\n"
   ]
  },
  {
   "cell_type": "markdown",
   "metadata": {},
   "source": [
    "\n",
    "### 12. Multiply a and c. Assign the result to e.\n"
   ]
  },
  {
   "cell_type": "code",
   "execution_count": 35,
   "metadata": {},
   "outputs": [
    {
     "name": "stdout",
     "output_type": "stream",
     "text": [
      "Array e (a * c):\n",
      " [[[0.64203552 0.18247732 0.44564965 0.33841189 0.98404987]\n",
      "  [0.01674372 0.22961863 0.29792957 0.84407807 0.45241009]\n",
      "  [0.94546945 0.93413066 0.51055666 0.78234898 0.04029481]]\n",
      "\n",
      " [[0.95168849 0.33991306 0.41360669 0.44753704 0.62995732]\n",
      "  [0.92532504 0.59015151 0.93113078 0.8522555  0.49320586]\n",
      "  [0.54188385 0.2691343  0.00765889 0.45920043 0.11288805]]]\n"
     ]
    }
   ],
   "source": [
    "import numpy as np\n",
    "\n",
    "\n",
    "# Create array 'a' \n",
    "a = np.random.rand(2, 3, 5)\n",
    "\n",
    "# Create array 'c' \n",
    "c = np.transpose(b, (1, 2, 0))\n",
    "\n",
    "#multiply a , c and assign it TO e \n",
    "e = a * c\n",
    "\n",
    "# Print the result\n",
    "print(\"Array e (a * c):\\n\", e)\n",
    "\n",
    "\n",
    "\n"
   ]
  },
  {
   "cell_type": "markdown",
   "metadata": {},
   "source": [
    "\n",
    "\n",
    "### 13. Does e equal to a? Why or why not?\n",
    " Because all they are the same elements and then we can multiply it"
   ]
  },
  {
   "cell_type": "code",
   "execution_count": 37,
   "metadata": {},
   "outputs": [
    {
     "name": "stdout",
     "output_type": "stream",
     "text": [
      "True\n"
     ]
    }
   ],
   "source": [
    "print(np.array_equal(e, a))  \n"
   ]
  },
  {
   "cell_type": "markdown",
   "metadata": {},
   "source": [
    "\n",
    "\n",
    "### 14. Identify the max, min, and mean values in d. Assign those values to variables \"d_max\", \"d_min\", and \"d_mean\"\n"
   ]
  },
  {
   "cell_type": "code",
   "execution_count": null,
   "metadata": {},
   "outputs": [],
   "source": [
    "import numpy as np\n",
    "\n",
    "# Create array 'a' with shape (2,3,5) containing random values\n",
    "a = np.random.rand(2, 3, 5)\n",
    "\n",
    "# Create array 'b' with shape (5,2,3) containing only ones\n",
    "b = np.ones((5, 2, 3))\n",
    "\n",
    "# Transpose 'b' to match 'a' in shape (2,3,5)\n",
    "c = np.transpose(b, (1, 2, 0))\n",
    "\n",
    "# Add 'a' and 'c' to get 'd'\n",
    "d = a + c\n",
    "\n",
    "# Identify max, min, and mean values in 'd'\n",
    "d_max = np.max(d)   # Maximum value\n",
    "d_min = np.min(d)   # Minimum value\n",
    "d_mean = np.mean(d) # Mean value\n",
    "\n"
   ]
  },
  {
   "cell_type": "markdown",
   "metadata": {},
   "source": [
    "\n",
    "### 15. Now we want to label the values in d. First create an empty array \"f\" with the same shape (i.e. 2x3x5) as d using `np.empty`.\n"
   ]
  },
  {
   "cell_type": "code",
   "execution_count": 38,
   "metadata": {},
   "outputs": [
    {
     "name": "stdout",
     "output_type": "stream",
     "text": [
      "Empty array f:\n",
      " [[[1.27444746 1.99332938 1.1048822  1.99571605 1.64180872]\n",
      "  [1.34250613 1.61204469 1.14868605 1.58201914 1.67235379]\n",
      "  [1.94744519 1.69855631 1.71026609 1.06967281 1.78185863]]\n",
      "\n",
      " [[1.09960125 1.79389107 1.18795438 1.62740258 1.84088889]\n",
      "  [1.51948551 1.41328787 1.96225065 1.48413627 1.85572089]\n",
      "  [1.13220576 1.78477462 1.08634868 1.277321   1.04511325]]]\n"
     ]
    }
   ],
   "source": [
    "import numpy as np\n",
    "\n",
    "# Create array 'a' with shape (2,3,5) containing random values\n",
    "a = np.random.rand(2, 3, 5)\n",
    "\n",
    "# Create array 'b' with shape (5,2,3) containing only ones\n",
    "b = np.ones((5, 2, 3))\n",
    "\n",
    "# Transpose 'b' to match 'a' in shape (2,3,5)\n",
    "c = np.transpose(b, (1, 2, 0))\n",
    "\n",
    "# Add 'a' and 'c' to get 'd'\n",
    "d = a + c\n",
    "\n",
    "# Create an empty array 'f' with the same shape as 'd'\n",
    "f = np.empty_like(d)\n",
    "\n",
    "# Print 'f' (it contains uninitialized random values)\n",
    "print(\"Empty array f:\\n\", f)\n"
   ]
  },
  {
   "cell_type": "markdown",
   "metadata": {},
   "source": [
    "\n",
    "\n",
    "\n",
    "### 16. Populate the values in f. For each value in d, if it's larger than d_min but smaller than d_mean, assign 25 to the corresponding value in f.\n",
    "If a value in d is larger than d_mean but smaller than d_max, assign 75 to the corresponding value in f.\n",
    "If a value equals to d_mean, assign 50 to the corresponding value in f.\n",
    "Assign 0 to the corresponding value(s) in f for d_min in d.\n",
    "Assign 100 to the corresponding value(s) in f for d_max in d.\n",
    "In the end, f should have only the following values: 0, 25, 50, 75, and 100.\n",
    "Note: you don't have to use Numpy in this question.\n",
    "\n"
   ]
  },
  {
   "cell_type": "code",
   "execution_count": 39,
   "metadata": {},
   "outputs": [
    {
     "name": "stdout",
     "output_type": "stream",
     "text": [
      "Labeled array f:\n",
      " [[[ 25. 100.  75.  75.  75.]\n",
      "  [ 25.  25.  25.  75.  75.]\n",
      "  [ 75.  75.  25.  75.  75.]]\n",
      "\n",
      " [[ 75.  75.  25.  25.  25.]\n",
      "  [ 25.  25.  75.  75.  25.]\n",
      "  [ 75.  25.  25.  25.   0.]]]\n"
     ]
    }
   ],
   "source": [
    "import numpy as np\n",
    "\n",
    "# Create array 'a' with shape (2,3,5) containing random values\n",
    "a = np.random.rand(2, 3, 5)\n",
    "\n",
    "# Create array 'b' with shape (5,2,3) containing only ones\n",
    "b = np.ones((5, 2, 3))\n",
    "\n",
    "# Transpose 'b' to match 'a' in shape (2,3,5)\n",
    "c = np.transpose(b, (1, 2, 0))\n",
    "\n",
    "# Add 'a' and 'c' to get 'd'\n",
    "d = a + c\n",
    "\n",
    "# Identify max, min, and mean values in 'd'\n",
    "d_max = np.max(d)   # Maximum value\n",
    "d_min = np.min(d)   # Minimum value\n",
    "d_mean = np.mean(d) # Mean value\n",
    "\n",
    "# Create an empty array 'f' with the same shape as 'd'\n",
    "f = np.empty_like(d)\n",
    "\n",
    "# Populate 'f' based on conditions\n",
    "for i in range(d.shape[0]):\n",
    "    for j in range(d.shape[1]):\n",
    "        for k in range(d.shape[2]):\n",
    "            if d[i, j, k] == d_min:\n",
    "                f[i, j, k] = 0\n",
    "            elif d[i, j, k] == d_max:\n",
    "                f[i, j, k] = 100\n",
    "            elif d_min < d[i, j, k] < d_mean:\n",
    "                f[i, j, k] = 25\n",
    "            elif d[i, j, k] == d_mean:\n",
    "                f[i, j, k] = 50\n",
    "            elif d_mean < d[i, j, k] < d_max:\n",
    "                f[i, j, k] = 75\n",
    "\n",
    "# Print the final labeled array\n",
    "print(\"Labeled array f:\\n\", f)\n"
   ]
  },
  {
   "cell_type": "markdown",
   "metadata": {},
   "source": [
    "\n",
    "\n",
    "\n",
    "\n",
    "### 17. Print d and f. Do you have your expected f?\n",
    "For instance, if your d is:\n",
    "array([[[1.85836099, 1.67064465, 1.62576044, 1.40243961, 1.88454931],\n",
    "        [1.75354326, 1.69403643, 1.36729252, 1.61415071, 1.12104981],\n",
    "        [1.72201435, 1.1862918 , 1.87078449, 1.7726778 , 1.88180042]],\n",
    "\n",
    "       [[1.44747908, 1.31673383, 1.02000951, 1.52218947, 1.97066381],\n",
    "        [1.79129243, 1.74983003, 1.96028037, 1.85166831, 1.65450881],\n",
    "        [1.18068344, 1.9587381 , 1.00656599, 1.93402165, 1.73514584]]])\n",
    "\n",
    "Your f should be:\n",
    "array([[[ 75.,  75.,  75.,  25.,  75.],\n",
    "        [ 75.,  75.,  25.,  25.,  25.],\n",
    "        [ 75.,  25.,  75.,  75.,  75.]],\n",
    "\n",
    "       [[ 25.,  25.,  25.,  25., 100.],\n",
    "        [ 75.,  75.,  75.,  75.,  75.],\n",
    "        [ 25.,  75.,   0.,  75.,  75.]]])\n",
    "\n"
   ]
  },
  {
   "cell_type": "code",
   "execution_count": 40,
   "metadata": {},
   "outputs": [
    {
     "name": "stdout",
     "output_type": "stream",
     "text": [
      "Array d:\n",
      " [[[1.85558077 1.26446805 1.38031988 1.83397031 1.09636529]\n",
      "  [1.03888522 1.64159797 1.30054562 1.64327676 1.64732147]\n",
      "  [1.87158054 1.49504625 1.03074718 1.6174318  1.78245645]]\n",
      "\n",
      " [[1.22819984 1.02023909 1.59189757 1.95497926 1.69358197]\n",
      "  [1.53841933 1.92566388 1.68506739 1.33708322 1.97946458]\n",
      "  [1.57333557 1.10049028 1.27598452 1.46026274 1.33145269]]]\n",
      "\n",
      "Labeled Array f:\n",
      " [[[ 75.  25.  25.  75.  25.]\n",
      "  [ 25.  75.  25.  75.  75.]\n",
      "  [ 75.  25.  25.  75.  75.]]\n",
      "\n",
      " [[ 25.   0.  75.  75.  75.]\n",
      "  [ 75.  75.  75.  25. 100.]\n",
      "  [ 75.  25.  25.  25.  25.]]]\n"
     ]
    }
   ],
   "source": [
    "import numpy as np\n",
    "\n",
    "# Create array 'a' with shape (2,3,5) containing random values\n",
    "a = np.random.rand(2, 3, 5)\n",
    "\n",
    "# Create array 'b' with shape (5,2,3) containing only ones\n",
    "b = np.ones((5, 2, 3))\n",
    "\n",
    "# Transpose 'b' to match 'a' in shape (2,3,5)\n",
    "c = np.transpose(b, (1, 2, 0))\n",
    "\n",
    "# Add 'a' and 'c' to get 'd'\n",
    "d = a + c\n",
    "\n",
    "# Identify max, min, and mean values in 'd'\n",
    "d_max = np.max(d)   # Maximum value\n",
    "d_min = np.min(d)   # Minimum value\n",
    "d_mean = np.mean(d) # Mean value\n",
    "\n",
    "# Create an empty array 'f' with the same shape as 'd'\n",
    "f = np.empty_like(d)\n",
    "\n",
    "# Populate 'f' based on conditions\n",
    "for i in range(d.shape[0]):\n",
    "    for j in range(d.shape[1]):\n",
    "        for k in range(d.shape[2]):\n",
    "            if d[i, j, k] == d_min:\n",
    "                f[i, j, k] = 0\n",
    "            elif d[i, j, k] == d_max:\n",
    "                f[i, j, k] = 100\n",
    "            elif d_min < d[i, j, k] < d_mean:\n",
    "                f[i, j, k] = 25\n",
    "            elif d[i, j, k] == d_mean:\n",
    "                f[i, j, k] = 50\n",
    "            elif d_mean < d[i, j, k] < d_max:\n",
    "                f[i, j, k] = 75\n",
    "\n",
    "# Print the arrays\n",
    "print(\"Array d:\\n\", d)\n",
    "print(\"\\nLabeled Array f:\\n\", f)\n"
   ]
  },
  {
   "cell_type": "markdown",
   "metadata": {},
   "source": [
    "### 18. Bonus question: instead of using numbers (i.e. 0, 25, 50, 75, and 100), how to use string values \n",
    "(\"A\", \"B\", \"C\", \"D\", and \"E\") to label the array elements? You are expecting the result to be:\n",
    "array([[[ 'D',  'D',  'D',  'B',  'D'],\n",
    "        [ 'D',  'D',  'B',  'B',  'B'],\n",
    "        [ 'D',  'B',  'D',  'D',  'D']],\n",
    "\n",
    "       [[ 'B',  'B',  'B',  'B',  'E'],\n",
    "        [ 'D',  'D',  'D',  'D',  'D'],\n",
    "        [ 'B',  'D',   'A',  'D', 'D']]])\n",
    "Again, you don't need Numpy in this question."
   ]
  },
  {
   "cell_type": "code",
   "execution_count": 41,
   "metadata": {},
   "outputs": [
    {
     "name": "stdout",
     "output_type": "stream",
     "text": [
      "Labeled Array f:\n",
      " [[['B' 'A' 'D' 'B' 'D']\n",
      "  ['B' 'B' 'B' 'B' 'B']\n",
      "  ['D' 'D' 'E' 'D' 'B']]\n",
      "\n",
      " [['B' 'B' 'D' 'D' 'D']\n",
      "  ['D' 'B' 'B' 'D' 'B']\n",
      "  ['D' 'D' 'D' 'B' 'D']]]\n"
     ]
    }
   ],
   "source": [
    "import numpy as np\n",
    "\n",
    "# Create array 'a' with shape (2,3,5) containing random values\n",
    "a = np.random.rand(2, 3, 5)\n",
    "\n",
    "# Create array 'b' with shape (5,2,3) containing only ones\n",
    "b = np.ones((5, 2, 3))\n",
    "\n",
    "# Transpose 'b' to match 'a' in shape (2,3,5)\n",
    "c = np.transpose(b, (1, 2, 0))\n",
    "\n",
    "# Add 'a' and 'c' to get 'd'\n",
    "d = a + c\n",
    "\n",
    "# Identify max, min, and mean values in 'd'\n",
    "d_max = np.max(d)   # Maximum value\n",
    "d_min = np.min(d)   # Minimum value\n",
    "d_mean = np.mean(d) # Mean value\n",
    "\n",
    "# Create an empty array 'f' with the same shape as 'd' but with string type\n",
    "f = np.empty(d.shape, dtype='<U1')  # '<U1' means a string of length 1\n",
    "\n",
    "# Populate 'f' based on conditions using strings\n",
    "for i in range(d.shape[0]):\n",
    "    for j in range(d.shape[1]):\n",
    "        for k in range(d.shape[2]):\n",
    "            if d[i, j, k] == d_min:\n",
    "                f[i, j, k] = \"A\"  # Minimum value\n",
    "            elif d[i, j, k] == d_max:\n",
    "                f[i, j, k] = \"E\"  # Maximum value\n",
    "            elif d_min < d[i, j, k] < d_mean:\n",
    "                f[i, j, k] = \"B\"  # Between min and mean\n",
    "            elif d[i, j, k] == d_mean:\n",
    "                f[i, j, k] = \"C\"  # Equal to mean\n",
    "            elif d_mean < d[i, j, k] < d_max:\n",
    "                f[i, j, k] = \"D\"  # Between mean and max\n",
    "\n",
    "# Print the labeled array\n",
    "print(\"Labeled Array f:\\n\", f)\n"
   ]
  }
 ],
 "metadata": {
  "kernelspec": {
   "display_name": "Python 3",
   "language": "python",
   "name": "python3"
  },
  "language_info": {
   "codemirror_mode": {
    "name": "ipython",
    "version": 3
   },
   "file_extension": ".py",
   "mimetype": "text/x-python",
   "name": "python",
   "nbconvert_exporter": "python",
   "pygments_lexer": "ipython3",
   "version": "3.9.6"
  }
 },
 "nbformat": 4,
 "nbformat_minor": 2
}
