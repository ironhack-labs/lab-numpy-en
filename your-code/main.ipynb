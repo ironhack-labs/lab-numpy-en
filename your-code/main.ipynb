{
 "cells": [
  {
   "cell_type": "markdown",
   "metadata": {},
   "source": [
    "# Lab | Numpy Deep Dive"
   ]
  },
  {
   "cell_type": "markdown",
   "metadata": {},
   "source": [
    "### 1. Import the NUMPY package under the name np.\n"
   ]
  },
  {
   "cell_type": "code",
   "execution_count": 2,
   "metadata": {},
   "outputs": [],
   "source": [
    "### [your code here]\n",
    "import numpy as np"
   ]
  },
  {
   "cell_type": "markdown",
   "metadata": {},
   "source": [
    "\n",
    "\n",
    "### 2. Print the NUMPY version and the configuration.\n"
   ]
  },
  {
   "cell_type": "code",
   "execution_count": 3,
   "metadata": {},
   "outputs": [
    {
     "data": {
      "text/plain": [
       "<module 'numpy.version' from 'c:\\\\Users\\\\ASUS\\\\anaconda3\\\\Lib\\\\site-packages\\\\numpy\\\\version.py'>"
      ]
     },
     "execution_count": 3,
     "metadata": {},
     "output_type": "execute_result"
    }
   ],
   "source": [
    "### [your code here]\n",
    "np.version"
   ]
  },
  {
   "cell_type": "markdown",
   "metadata": {},
   "source": [
    "### 3. Generate a 2x3x5 3-dimensional array with random values. Assign the array to variable \"a\"\n",
    "Challenge: there are at least three easy ways that use numpy to generate random arrays. How many ways can you find?\n"
   ]
  },
  {
   "cell_type": "code",
   "execution_count": 4,
   "metadata": {},
   "outputs": [],
   "source": [
    "### [your code here\\]\n",
    "a= np.random.randint( 3,size=(2, 3, 5))\n",
    "\n",
    "\n",
    "\n"
   ]
  },
  {
   "cell_type": "markdown",
   "metadata": {},
   "source": [
    "\n",
    "### 4. Print a.\n"
   ]
  },
  {
   "cell_type": "code",
   "execution_count": 5,
   "metadata": {},
   "outputs": [
    {
     "name": "stdout",
     "output_type": "stream",
     "text": [
      "[[[2 2 2 0 2]\n",
      "  [0 1 1 2 1]\n",
      "  [0 1 0 2 2]]\n",
      "\n",
      " [[0 0 2 0 1]\n",
      "  [0 0 1 1 0]\n",
      "  [2 0 2 2 2]]]\n"
     ]
    }
   ],
   "source": [
    "### [your code here]\n",
    "print(a)"
   ]
  },
  {
   "cell_type": "markdown",
   "metadata": {},
   "source": [
    "### 5. Create a 5x2x3 3-dimensional array with all values equaling 1.\n",
    "### Assign the array to variable \"b\"\n"
   ]
  },
  {
   "cell_type": "code",
   "execution_count": 6,
   "metadata": {},
   "outputs": [],
   "source": [
    "### [your code here]\n",
    "b=np.ones((5,2,3))\n",
    "\n"
   ]
  },
  {
   "cell_type": "markdown",
   "metadata": {},
   "source": [
    "\n",
    "### 6. Print b.\n"
   ]
  },
  {
   "cell_type": "code",
   "execution_count": 7,
   "metadata": {},
   "outputs": [
    {
     "name": "stdout",
     "output_type": "stream",
     "text": [
      "[[[1. 1. 1.]\n",
      "  [1. 1. 1.]]\n",
      "\n",
      " [[1. 1. 1.]\n",
      "  [1. 1. 1.]]\n",
      "\n",
      " [[1. 1. 1.]\n",
      "  [1. 1. 1.]]\n",
      "\n",
      " [[1. 1. 1.]\n",
      "  [1. 1. 1.]]\n",
      "\n",
      " [[1. 1. 1.]\n",
      "  [1. 1. 1.]]]\n"
     ]
    }
   ],
   "source": [
    "### [your code here]\n",
    "print(b)"
   ]
  },
  {
   "cell_type": "markdown",
   "metadata": {},
   "source": [
    "\n",
    "### 7. Do a and b have the same size? How do you prove that in Python code?\n"
   ]
  },
  {
   "cell_type": "code",
   "execution_count": 8,
   "metadata": {},
   "outputs": [
    {
     "name": "stdout",
     "output_type": "stream",
     "text": [
      "theer are have the same size\n"
     ]
    }
   ],
   "source": [
    "### [your code here]\n",
    "if a.size == b.size:\n",
    "    print (\"theer are have the same size\")\n",
    "else:\n",
    "    print (\"theer not the same\")\n"
   ]
  },
  {
   "cell_type": "markdown",
   "metadata": {},
   "source": [
    "\n",
    "### 8. Are you able to add a and b? Why or why not?\n"
   ]
  },
  {
   "cell_type": "code",
   "execution_count": 9,
   "metadata": {},
   "outputs": [
    {
     "ename": "ValueError",
     "evalue": "operands could not be broadcast together with shapes (2,3,5) (5,2,3) ",
     "output_type": "error",
     "traceback": [
      "\u001b[1;31m---------------------------------------------------------------------------\u001b[0m",
      "\u001b[1;31mValueError\u001b[0m                                Traceback (most recent call last)",
      "Cell \u001b[1;32mIn[9], line 2\u001b[0m\n\u001b[0;32m      1\u001b[0m \u001b[38;5;66;03m### [your code here]\u001b[39;00m\n\u001b[1;32m----> 2\u001b[0m a\u001b[38;5;241m+\u001b[39mb\n",
      "\u001b[1;31mValueError\u001b[0m: operands could not be broadcast together with shapes (2,3,5) (5,2,3) "
     ]
    }
   ],
   "source": [
    "### [your code here]\n",
    "a+b\n",
    "# becouse the number of colume in a not equel the number of row in c"
   ]
  },
  {
   "cell_type": "markdown",
   "metadata": {},
   "source": [
    "\n",
    "\n",
    "### 9. Transpose b so that it has the same structure of a (i.e. become a 2x3x5 array). Assign the transposed array to varialbe \"c\".\n"
   ]
  },
  {
   "cell_type": "code",
   "execution_count": 10,
   "metadata": {},
   "outputs": [
    {
     "name": "stdout",
     "output_type": "stream",
     "text": [
      "[[[1. 1. 1. 1. 1.]\n",
      "  [1. 1. 1. 1. 1.]\n",
      "  [1. 1. 1. 1. 1.]]\n",
      "\n",
      " [[1. 1. 1. 1. 1.]\n",
      "  [1. 1. 1. 1. 1.]\n",
      "  [1. 1. 1. 1. 1.]]]\n"
     ]
    }
   ],
   "source": [
    "### [your code here]\n",
    "c= np.transpose(b,(1,2,0))\n",
    "print(c)"
   ]
  },
  {
   "cell_type": "markdown",
   "metadata": {},
   "source": [
    "\n",
    "### 10. Try to add a and c. Now it should work. Assign the sum to variable \"d\". But why does it work now?\n"
   ]
  },
  {
   "cell_type": "code",
   "execution_count": 11,
   "metadata": {},
   "outputs": [
    {
     "name": "stdout",
     "output_type": "stream",
     "text": [
      "[[[3. 3. 3. 1. 3.]\n",
      "  [1. 2. 2. 3. 2.]\n",
      "  [1. 2. 1. 3. 3.]]\n",
      "\n",
      " [[1. 1. 3. 1. 2.]\n",
      "  [1. 1. 2. 2. 1.]\n",
      "  [3. 1. 3. 3. 3.]]]\n"
     ]
    }
   ],
   "source": [
    "### [your code here]\n",
    "d=a+c \n",
    "# becouse they are have diffrent shepes\n",
    "print(d)"
   ]
  },
  {
   "cell_type": "markdown",
   "metadata": {},
   "source": [
    "\n",
    "### 11. Print a and d. Notice the difference and relation of the two array in terms of the values? Explain.\n"
   ]
  },
  {
   "cell_type": "code",
   "execution_count": 12,
   "metadata": {},
   "outputs": [
    {
     "name": "stdout",
     "output_type": "stream",
     "text": [
      "[[[2 2 2 0 2]\n",
      "  [0 1 1 2 1]\n",
      "  [0 1 0 2 2]]\n",
      "\n",
      " [[0 0 2 0 1]\n",
      "  [0 0 1 1 0]\n",
      "  [2 0 2 2 2]]] [[[3. 3. 3. 1. 3.]\n",
      "  [1. 2. 2. 3. 2.]\n",
      "  [1. 2. 1. 3. 3.]]\n",
      "\n",
      " [[1. 1. 3. 1. 2.]\n",
      "  [1. 1. 2. 2. 1.]\n",
      "  [3. 1. 3. 3. 3.]]]\n",
      "thay have the same shep and size\n"
     ]
    }
   ],
   "source": [
    "### [your code here]\n",
    "print(a,d)\n",
    "if a.size == d.size and a.shape == d.shape:\n",
    "    print (\"thay have the same shep and size\")\n",
    "elif a.size == d.size and a.shape:\n",
    "     print (\"thay have the same size and diffrent shape\")\n",
    "elif a.shape == d.shape:\n",
    "     print (\"thay have the same shape and diffrent size\")\n",
    "else:\n",
    "   print (\"thay have diffrent shape and diffrent size\")   \n",
    "     "
   ]
  },
  {
   "cell_type": "markdown",
   "metadata": {},
   "source": [
    "\n",
    "### 12. Multiply a and c. Assign the result to e.\n"
   ]
  },
  {
   "cell_type": "code",
   "execution_count": 13,
   "metadata": {},
   "outputs": [
    {
     "name": "stdout",
     "output_type": "stream",
     "text": [
      "[[[1. 1. 1. 1. 1.]\n",
      "  [1. 1. 1. 1. 1.]\n",
      "  [1. 1. 1. 1. 1.]]\n",
      "\n",
      " [[1. 1. 1. 1. 1.]\n",
      "  [1. 1. 1. 1. 1.]\n",
      "  [1. 1. 1. 1. 1.]]]\n"
     ]
    }
   ],
   "source": [
    "### [your code here]\n",
    "e=  c * a\n",
    "print(c)"
   ]
  },
  {
   "cell_type": "markdown",
   "metadata": {},
   "source": [
    "\n",
    "\n",
    "### 13. Does e equal to a? Why or why not?\n"
   ]
  },
  {
   "cell_type": "code",
   "execution_count": 14,
   "metadata": {},
   "outputs": [
    {
     "name": "stdout",
     "output_type": "stream",
     "text": [
      "True\n"
     ]
    }
   ],
   "source": [
    "### [your code here]\n",
    "if e.size==a.size and  e.shape == a.shape:\n",
    "    print(True)\n",
    "else:\n",
    "    print(False)\n"
   ]
  },
  {
   "cell_type": "markdown",
   "metadata": {},
   "source": [
    "\n",
    "\n",
    "### 14. Identify the max, min, and mean values in d. Assign those values to variables \"d_max\", \"d_min\", and \"d_mean\"\n"
   ]
  },
  {
   "cell_type": "code",
   "execution_count": 15,
   "metadata": {},
   "outputs": [
    {
     "name": "stdout",
     "output_type": "stream",
     "text": [
      "3.0 \n",
      " 1.0 \n",
      " 2.033333333333333\n"
     ]
    }
   ],
   "source": [
    "### [your code here]\n",
    "d_max = np.max(d)\n",
    "d_min = np.min(d)\n",
    "d_mean = np.mean(d)\n",
    "print(d_max, \"\\n\", d_min, \"\\n\", d_mean)\n"
   ]
  },
  {
   "cell_type": "markdown",
   "metadata": {},
   "source": [
    "\n",
    "### 15. Now we want to label the values in d. First create an empty array \"f\" with the same shape (i.e. 2x3x5) as d using `np.empty`.\n"
   ]
  },
  {
   "cell_type": "code",
   "execution_count": 16,
   "metadata": {},
   "outputs": [],
   "source": [
    "### [your code here]\n",
    "f = np.empty(d.shape)\n"
   ]
  },
  {
   "cell_type": "markdown",
   "metadata": {},
   "source": [
    "\n",
    "\n",
    "\n",
    "### 16. Populate the values in f. For each value in d, if it's larger than d_min but smaller than d_mean, assign 25 to the corresponding value in f.\n",
    "If a value in d is larger than d_mean but smaller than d_max, assign 75 to the corresponding value in f.\n",
    "If a value equals to d_mean, assign 50 to the corresponding value in f.\n",
    "Assign 0 to the corresponding value(s) in f for d_min in d.\n",
    "Assign 100 to the corresponding value(s) in f for d_max in d.\n",
    "In the end, f should have only the following values: 0, 25, 50, 75, and 100.\n",
    "Note: you don't have to use Numpy in this question.\n",
    "\n"
   ]
  },
  {
   "cell_type": "code",
   "execution_count": 18,
   "metadata": {},
   "outputs": [],
   "source": [
    "### [your code here]\n",
    "\n",
    "for i in range(d.shape[0]):\n",
    "    for j in range(d.shape[1]):\n",
    "        for k in range(d.shape[2]):\n",
    "            if d[i, j, k] == d_min:\n",
    "                f[i, j, k] = 0\n",
    "            elif d[i, j, k] == d_max:\n",
    "                f[i, j, k] = 100\n",
    "            elif d_min < d[i, j, k] < d_mean:\n",
    "                f[i, j, k] = 25\n",
    "            elif d_mean < d[i, j, k] < d_max:\n",
    "                f[i, j, k] = 75\n",
    "            elif d[i, j, k] == d_mean:\n",
    "                f[i, j, k] = 50\n"
   ]
  },
  {
   "cell_type": "markdown",
   "metadata": {},
   "source": [
    "\n",
    "\n",
    "\n",
    "\n",
    "### 17. Print d and f. Do you have your expected f?\n",
    "For instance, if your d is:\n",
    "array([[[1.85836099, 1.67064465, 1.62576044, 1.40243961, 1.88454931],\n",
    "        [1.75354326, 1.69403643, 1.36729252, 1.61415071, 1.12104981],\n",
    "        [1.72201435, 1.1862918 , 1.87078449, 1.7726778 , 1.88180042]],\n",
    "\n",
    "       [[1.44747908, 1.31673383, 1.02000951, 1.52218947, 1.97066381],\n",
    "        [1.79129243, 1.74983003, 1.96028037, 1.85166831, 1.65450881],\n",
    "        [1.18068344, 1.9587381 , 1.00656599, 1.93402165, 1.73514584]]])\n",
    "\n",
    "Your f should be:\n",
    "array([[[ 75.,  75.,  75.,  25.,  75.],\n",
    "        [ 75.,  75.,  25.,  25.,  25.],\n",
    "        [ 75.,  25.,  75.,  75.,  75.]],\n",
    "\n",
    "       [[ 25.,  25.,  25.,  25., 100.],\n",
    "        [ 75.,  75.,  75.,  75.,  75.],\n",
    "        [ 25.,  75.,   0.,  75.,  75.]]])\n",
    "\n"
   ]
  },
  {
   "cell_type": "code",
   "execution_count": 21,
   "metadata": {},
   "outputs": [
    {
     "name": "stdout",
     "output_type": "stream",
     "text": [
      "f array:\n",
      " [[[100. 100. 100.   0. 100.]\n",
      "  [  0.  25.  25. 100.  25.]\n",
      "  [  0.  25.   0. 100. 100.]]\n",
      "\n",
      " [[  0.   0. 100.   0.  25.]\n",
      "  [  0.   0.  25.  25.   0.]\n",
      "  [100.   0. 100. 100. 100.]]]\n",
      " d array:\n",
      " [[[3. 3. 3. 1. 3.]\n",
      "  [1. 2. 2. 3. 2.]\n",
      "  [1. 2. 1. 3. 3.]]\n",
      "\n",
      " [[1. 1. 3. 1. 2.]\n",
      "  [1. 1. 2. 2. 1.]\n",
      "  [3. 1. 3. 3. 3.]]]\n"
     ]
    }
   ],
   "source": [
    "### [your code here]\n",
    "print(\"f array:\\n\", f)\n",
    "print(\" d array:\\n\", d)"
   ]
  },
  {
   "cell_type": "markdown",
   "metadata": {},
   "source": [
    "### 18. Bonus question: instead of using numbers (i.e. 0, 25, 50, 75, and 100), how to use string values \n",
    "(\"A\", \"B\", \"C\", \"D\", and \"E\") to label the array elements? You are expecting the result to be:\n",
    "array([[[ 'D',  'D',  'D',  'B',  'D'],\n",
    "        [ 'D',  'D',  'B',  'B',  'B'],\n",
    "        [ 'D',  'B',  'D',  'D',  'D']],\n",
    "\n",
    "       [[ 'B',  'B',  'B',  'B',  'E'],\n",
    "        [ 'D',  'D',  'D',  'D',  'D'],\n",
    "        [ 'B',  'D',   'A',  'D', 'D']]])\n",
    "Again, you don't need Numpy in this question."
   ]
  },
  {
   "cell_type": "code",
   "execution_count": null,
   "metadata": {},
   "outputs": [],
   "source": [
    "### [your code here]"
   ]
  }
 ],
 "metadata": {
  "kernelspec": {
   "display_name": "base",
   "language": "python",
   "name": "python3"
  },
  "language_info": {
   "codemirror_mode": {
    "name": "ipython",
    "version": 3
   },
   "file_extension": ".py",
   "mimetype": "text/x-python",
   "name": "python",
   "nbconvert_exporter": "python",
   "pygments_lexer": "ipython3",
   "version": "3.12.7"
  }
 },
 "nbformat": 4,
 "nbformat_minor": 2
}
