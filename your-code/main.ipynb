{
 "cells": [
  {
   "cell_type": "markdown",
   "metadata": {},
   "source": [
    "# Lab | Numpy Deep Dive"
   ]
  },
  {
   "cell_type": "markdown",
   "metadata": {},
   "source": [
    "### 1. Import the NUMPY package under the name np.\n"
   ]
  },
  {
   "cell_type": "code",
   "execution_count": 1,
   "metadata": {},
   "outputs": [],
   "source": [
    "### [your code here]\n",
    "import numpy as np"
   ]
  },
  {
   "cell_type": "markdown",
   "metadata": {},
   "source": [
    "\n",
    "\n",
    "### 2. Print the NUMPY version and the configuration.\n"
   ]
  },
  {
   "cell_type": "code",
   "execution_count": 2,
   "metadata": {},
   "outputs": [
    {
     "name": "stdout",
     "output_type": "stream",
     "text": [
      "NumPy version: 1.24.4\n",
      "openblas64__info:\n",
      "    libraries = ['openblas64_', 'openblas64_']\n",
      "    library_dirs = ['openblas\\\\lib']\n",
      "    language = c\n",
      "    define_macros = [('HAVE_CBLAS', None), ('BLAS_SYMBOL_SUFFIX', '64_'), ('HAVE_BLAS_ILP64', None)]\n",
      "    runtime_library_dirs = ['openblas\\\\lib']\n",
      "blas_ilp64_opt_info:\n",
      "    libraries = ['openblas64_', 'openblas64_']\n",
      "    library_dirs = ['openblas\\\\lib']\n",
      "    language = c\n",
      "    define_macros = [('HAVE_CBLAS', None), ('BLAS_SYMBOL_SUFFIX', '64_'), ('HAVE_BLAS_ILP64', None)]\n",
      "    runtime_library_dirs = ['openblas\\\\lib']\n",
      "openblas64__lapack_info:\n",
      "    libraries = ['openblas64_', 'openblas64_']\n",
      "    library_dirs = ['openblas\\\\lib']\n",
      "    language = c\n",
      "    define_macros = [('HAVE_CBLAS', None), ('BLAS_SYMBOL_SUFFIX', '64_'), ('HAVE_BLAS_ILP64', None), ('HAVE_LAPACKE', None)]\n",
      "    runtime_library_dirs = ['openblas\\\\lib']\n",
      "lapack_ilp64_opt_info:\n",
      "    libraries = ['openblas64_', 'openblas64_']\n",
      "    library_dirs = ['openblas\\\\lib']\n",
      "    language = c\n",
      "    define_macros = [('HAVE_CBLAS', None), ('BLAS_SYMBOL_SUFFIX', '64_'), ('HAVE_BLAS_ILP64', None), ('HAVE_LAPACKE', None)]\n",
      "    runtime_library_dirs = ['openblas\\\\lib']\n",
      "Supported SIMD extensions in this NumPy install:\n",
      "    baseline = SSE,SSE2,SSE3\n",
      "    found = SSSE3,SSE41,POPCNT,SSE42,AVX,F16C,FMA3,AVX2\n",
      "    not found = AVX512F,AVX512CD,AVX512_SKX,AVX512_CLX,AVX512_CNL,AVX512_ICL\n"
     ]
    }
   ],
   "source": [
    "### [your code here]\n",
    "print(\"NumPy version:\", np.__version__)\n",
    "np.show_config()"
   ]
  },
  {
   "cell_type": "markdown",
   "metadata": {},
   "source": [
    "### 3. Generate a 2x3x5 3-dimensional array with random values. Assign the array to variable \"a\"\n",
    "Challenge: there are at least three easy ways that use numpy to generate random arrays. How many ways can you find?\n"
   ]
  },
  {
   "cell_type": "code",
   "execution_count": 3,
   "metadata": {},
   "outputs": [],
   "source": [
    "### [your code here]\n",
    "# method 1: using np.random.random()\n",
    "a = np.random.random((2, 3, 5))\n",
    "\n",
    "# method 2: using np.random.rand()\n",
    "a_method2 = np.random.rand(2, 3, 5)\n",
    "\n",
    "# method 3: using np.random.randn()\n",
    "a_method3 =  np.random.randn(2, 3, 5)"
   ]
  },
  {
   "cell_type": "markdown",
   "metadata": {},
   "source": [
    "\n",
    "### 4. Print a.\n"
   ]
  },
  {
   "cell_type": "code",
   "execution_count": 4,
   "metadata": {},
   "outputs": [
    {
     "name": "stdout",
     "output_type": "stream",
     "text": [
      "[[[0.1661653  0.81219888 0.36453847 0.69836094 0.76520299]\n",
      "  [0.23732629 0.62620049 0.4648139  0.24080551 0.12889016]\n",
      "  [0.69633406 0.42300373 0.98576263 0.23659659 0.64661012]]\n",
      "\n",
      " [[0.20251204 0.67847384 0.9682248  0.03103942 0.96900619]\n",
      "  [0.18395775 0.85875034 0.67840509 0.53572915 0.02911582]\n",
      "  [0.54258346 0.31363564 0.87521669 0.88345906 0.91433007]]]\n"
     ]
    }
   ],
   "source": [
    "### [your code here]\n",
    "print(a)"
   ]
  },
  {
   "cell_type": "markdown",
   "metadata": {},
   "source": [
    "### 5. Create a 5x2x3 3-dimensional array with all values equaling 1.\n",
    "### Assign the array to variable \"b\"\n"
   ]
  },
  {
   "cell_type": "code",
   "execution_count": 5,
   "metadata": {},
   "outputs": [],
   "source": [
    "### [your code here]\n",
    "b = np.ones((5, 2, 3))"
   ]
  },
  {
   "cell_type": "markdown",
   "metadata": {},
   "source": [
    "\n",
    "### 6. Print b.\n"
   ]
  },
  {
   "cell_type": "code",
   "execution_count": 6,
   "metadata": {},
   "outputs": [
    {
     "name": "stdout",
     "output_type": "stream",
     "text": [
      "[[[1. 1. 1.]\n",
      "  [1. 1. 1.]]\n",
      "\n",
      " [[1. 1. 1.]\n",
      "  [1. 1. 1.]]\n",
      "\n",
      " [[1. 1. 1.]\n",
      "  [1. 1. 1.]]\n",
      "\n",
      " [[1. 1. 1.]\n",
      "  [1. 1. 1.]]\n",
      "\n",
      " [[1. 1. 1.]\n",
      "  [1. 1. 1.]]]\n"
     ]
    }
   ],
   "source": [
    "### [your code here]\n",
    "print(b)"
   ]
  },
  {
   "cell_type": "markdown",
   "metadata": {},
   "source": [
    "\n",
    "### 7. Do a and b have the same size? How do you prove that in Python code?\n"
   ]
  },
  {
   "cell_type": "code",
   "execution_count": 7,
   "metadata": {},
   "outputs": [
    {
     "name": "stdout",
     "output_type": "stream",
     "text": [
      "a and b have different shapes but the same size {a.size}\n"
     ]
    }
   ],
   "source": [
    "### [your code here]\n",
    "# checking shapes\n",
    "if a.shape == b.shape:\n",
    "    print(f\"a and b have the same shape {a.shape} and size {a.size}\")\n",
    "elif a.size == b.size:\n",
    "    print(\"a and b have different shapes but the same size {a.size}\")\n",
    "else:\n",
    "    print(\"a and b have different shapes and sizes\")\n",
    "# it's clear that the equality of shape guarantees the equality of size but the reverse is not true"
   ]
  },
  {
   "cell_type": "markdown",
   "metadata": {},
   "source": [
    "\n",
    "### 8. Are you able to add a and b? Why or why not?\n"
   ]
  },
  {
   "cell_type": "code",
   "execution_count": 8,
   "metadata": {},
   "outputs": [
    {
     "ename": "ValueError",
     "evalue": "operands could not be broadcast together with shapes (2,3,5) (5,2,3) ",
     "output_type": "error",
     "traceback": [
      "\u001b[1;31m---------------------------------------------------------------------------\u001b[0m",
      "\u001b[1;31mValueError\u001b[0m                                Traceback (most recent call last)",
      "Cell \u001b[1;32mIn[8], line 3\u001b[0m\n\u001b[0;32m      1\u001b[0m \u001b[38;5;66;03m### [your code here]\u001b[39;00m\n\u001b[0;32m      2\u001b[0m \u001b[38;5;66;03m# We get an error adding up a and b, since they have different shapes\u001b[39;00m\n\u001b[1;32m----> 3\u001b[0m \u001b[43ma\u001b[49m\u001b[43m \u001b[49m\u001b[38;5;241;43m+\u001b[39;49m\u001b[43m \u001b[49m\u001b[43mb\u001b[49m\n",
      "\u001b[1;31mValueError\u001b[0m: operands could not be broadcast together with shapes (2,3,5) (5,2,3) "
     ]
    }
   ],
   "source": [
    "### [your code here]\n",
    "# We get an error adding up a and b, since they have different shapes\n",
    "a + b"
   ]
  },
  {
   "cell_type": "markdown",
   "metadata": {},
   "source": [
    "\n",
    "\n",
    "### 9. Transpose b so that it has the same structure of a (i.e. become a 2x3x5 array). Assign the transposed array to varialbe \"c\".\n"
   ]
  },
  {
   "cell_type": "code",
   "execution_count": 9,
   "metadata": {},
   "outputs": [],
   "source": [
    "### [your code here]\n",
    "c = b.reshape(2, 3, 5)"
   ]
  },
  {
   "cell_type": "markdown",
   "metadata": {},
   "source": [
    "\n",
    "### 10. Try to add a and c. Now it should work. Assign the sum to variable \"d\". But why does it work now?\n"
   ]
  },
  {
   "cell_type": "code",
   "execution_count": 10,
   "metadata": {},
   "outputs": [],
   "source": [
    "### [your code here]\n",
    "# Now a and c have the same shape and can be added together\n",
    "d = a + c"
   ]
  },
  {
   "cell_type": "markdown",
   "metadata": {},
   "source": [
    "\n",
    "### 11. Print a and d. Notice the difference and relation of the two array in terms of the values? Explain.\n"
   ]
  },
  {
   "cell_type": "code",
   "execution_count": 11,
   "metadata": {},
   "outputs": [
    {
     "name": "stdout",
     "output_type": "stream",
     "text": [
      "[[[0.1661653  0.81219888 0.36453847 0.69836094 0.76520299]\n",
      "  [0.23732629 0.62620049 0.4648139  0.24080551 0.12889016]\n",
      "  [0.69633406 0.42300373 0.98576263 0.23659659 0.64661012]]\n",
      "\n",
      " [[0.20251204 0.67847384 0.9682248  0.03103942 0.96900619]\n",
      "  [0.18395775 0.85875034 0.67840509 0.53572915 0.02911582]\n",
      "  [0.54258346 0.31363564 0.87521669 0.88345906 0.91433007]]]\n",
      "[[[1.1661653  1.81219888 1.36453847 1.69836094 1.76520299]\n",
      "  [1.23732629 1.62620049 1.4648139  1.24080551 1.12889016]\n",
      "  [1.69633406 1.42300373 1.98576263 1.23659659 1.64661012]]\n",
      "\n",
      " [[1.20251204 1.67847384 1.9682248  1.03103942 1.96900619]\n",
      "  [1.18395775 1.85875034 1.67840509 1.53572915 1.02911582]\n",
      "  [1.54258346 1.31363564 1.87521669 1.88345906 1.91433007]]]\n"
     ]
    }
   ],
   "source": [
    "### [your code here]\n",
    "# d is simply a shifted by +1 because c contains only ones\n",
    "# The shape of the arrays matters. Reshaping b was necessary for element-wise addition\n",
    "# The structure of a remains unchanged in d, only the values shift \n",
    "print(a)\n",
    "print(d)"
   ]
  },
  {
   "cell_type": "markdown",
   "metadata": {},
   "source": [
    "\n",
    "### 12. Multiply a and c. Assign the result to e.\n"
   ]
  },
  {
   "cell_type": "code",
   "execution_count": 12,
   "metadata": {},
   "outputs": [],
   "source": [
    "### [your code here]\n",
    "# The element-wise multiplication using * operator or np.multiply() works,\n",
    "# since both arrays have the same shape (2, 3, 5)\n",
    "e = a * c"
   ]
  },
  {
   "cell_type": "markdown",
   "metadata": {},
   "source": [
    "\n",
    "\n",
    "### 13. Does e equal to a? Why or why not?\n"
   ]
  },
  {
   "cell_type": "code",
   "execution_count": 13,
   "metadata": {},
   "outputs": [
    {
     "name": "stdout",
     "output_type": "stream",
     "text": [
      "a and e are equal\n"
     ]
    }
   ],
   "source": [
    "### [your code here]\n",
    "\n",
    "if (e == a).any():\n",
    "    print(\"a and e are equal\")\n",
    "\n",
    "# e and a are the same since c is filled entirely with ones and \n",
    "# multiplying each element of a by 1 does not change the values."
   ]
  },
  {
   "cell_type": "markdown",
   "metadata": {},
   "source": [
    "\n",
    "\n",
    "### 14. Identify the max, min, and mean values in d. Assign those values to variables \"d_max\", \"d_min\", and \"d_mean\"\n"
   ]
  },
  {
   "cell_type": "code",
   "execution_count": 14,
   "metadata": {},
   "outputs": [],
   "source": [
    "### [your code here]\n",
    "d_max = np.max(d)\n",
    "d_min = np.min(d)\n",
    "d_mean = np.mean(d)"
   ]
  },
  {
   "cell_type": "markdown",
   "metadata": {},
   "source": [
    "\n",
    "### 15. Now we want to label the values in d. First create an empty array \"f\" with the same shape (i.e. 2x3x5) as d using `np.empty`.\n"
   ]
  },
  {
   "cell_type": "code",
   "execution_count": 15,
   "metadata": {},
   "outputs": [],
   "source": [
    "### [your code here]\n",
    "f = np.empty(d.shape)  # Creates an empty array with the same shape as d"
   ]
  },
  {
   "cell_type": "markdown",
   "metadata": {},
   "source": [
    "\n",
    "\n",
    "\n",
    "### 16. Populate the values in f. For each value in d, if it's larger than d_min but smaller than d_mean, assign 25 to the corresponding value in f.\n",
    "If a value in d is larger than d_mean but smaller than d_max, assign 75 to the corresponding value in f.\n",
    "If a value equals to d_mean, assign 50 to the corresponding value in f.\n",
    "Assign 0 to the corresponding value(s) in f for d_min in d.\n",
    "Assign 100 to the corresponding value(s) in f for d_max in d.\n",
    "In the end, f should have only the following values: 0, 25, 50, 75, and 100.\n",
    "Note: you don't have to use Numpy in this question.\n",
    "\n"
   ]
  },
  {
   "cell_type": "code",
   "execution_count": 16,
   "metadata": {},
   "outputs": [],
   "source": [
    "### [your code here]\n",
    "# Iterate through all elements and assign values based on conditions\n",
    "for i in range(d.shape[0]):  \n",
    "    for j in range(d.shape[1]):\n",
    "        for k in range(d.shape[2]):\n",
    "            if d[i, j, k] == d_min:\n",
    "                f[i, j, k] = 0\n",
    "            elif d[i, j, k] == d_max:\n",
    "                f[i, j, k] = 100\n",
    "            elif d_min < d[i, j, k] < d_mean:\n",
    "                f[i, j, k] = 25\n",
    "            elif d[i, j, k] == d_mean:\n",
    "                f[i, j, k] = 50\n",
    "            elif d_mean < d[i, j, k] < d_max:\n",
    "                f[i, j, k] = 75"
   ]
  },
  {
   "cell_type": "markdown",
   "metadata": {},
   "source": [
    "\n",
    "\n",
    "\n",
    "\n",
    "### 17. Print d and f. Do you have your expected f?\n",
    "For instance, if your d is:\n",
    "array([[[1.85836099, 1.67064465, 1.62576044, 1.40243961, 1.88454931],\n",
    "        [1.75354326, 1.69403643, 1.36729252, 1.61415071, 1.12104981],\n",
    "        [1.72201435, 1.1862918 , 1.87078449, 1.7726778 , 1.88180042]],\n",
    "\n",
    "       [[1.44747908, 1.31673383, 1.02000951, 1.52218947, 1.97066381],\n",
    "        [1.79129243, 1.74983003, 1.96028037, 1.85166831, 1.65450881],\n",
    "        [1.18068344, 1.9587381 , 1.00656599, 1.93402165, 1.73514584]]])\n",
    "\n",
    "Your f should be:\n",
    "array([[[ 75.,  75.,  75.,  25.,  75.],\n",
    "        [ 75.,  75.,  25.,  25.,  25.],\n",
    "        [ 75.,  25.,  75.,  75.,  75.]],\n",
    "\n",
    "       [[ 25.,  25.,  25.,  25., 100.],\n",
    "        [ 75.,  75.,  75.,  75.,  75.],\n",
    "        [ 25.,  75.,   0.,  75.,  75.]]])\n",
    "\n"
   ]
  },
  {
   "cell_type": "code",
   "execution_count": 17,
   "metadata": {},
   "outputs": [
    {
     "name": "stdout",
     "output_type": "stream",
     "text": [
      "Array f:\n",
      " [[[ 25.  75.  25.  75.  75.]\n",
      "  [ 25.  75.  25.  25.  25.]\n",
      "  [ 75.  25. 100.  25.  75.]]\n",
      "\n",
      " [[ 25.  75.  75.  25.  75.]\n",
      "  [ 25.  75.  75.  25.   0.]\n",
      "  [ 75.  25.  75.  75.  75.]]]\n",
      "Array d:\n",
      " [[[1.1661653  1.81219888 1.36453847 1.69836094 1.76520299]\n",
      "  [1.23732629 1.62620049 1.4648139  1.24080551 1.12889016]\n",
      "  [1.69633406 1.42300373 1.98576263 1.23659659 1.64661012]]\n",
      "\n",
      " [[1.20251204 1.67847384 1.9682248  1.03103942 1.96900619]\n",
      "  [1.18395775 1.85875034 1.67840509 1.53572915 1.02911582]\n",
      "  [1.54258346 1.31363564 1.87521669 1.88345906 1.91433007]]]\n",
      "Check the computation of d_min, d_max, and d_mean!\n"
     ]
    }
   ],
   "source": [
    "### [your code here]\n",
    "# Print d and f to verify the results\n",
    "print(\"Array f:\\n\", f)\n",
    "print(\"Array d:\\n\", d)\n",
    "\n",
    "# To verify if f is as expected, we can print both d and f after applying the classification rules.\n",
    "if (f == d).any():\n",
    "    print(\"The logic is correct\")\n",
    "else:\n",
    "    print(\"Check the computation of d_min, d_max, and d_mean!\")"
   ]
  },
  {
   "cell_type": "markdown",
   "metadata": {},
   "source": [
    "### 18. Bonus question: instead of using numbers (i.e. 0, 25, 50, 75, and 100), how to use string values \n",
    "(\"A\", \"B\", \"C\", \"D\", and \"E\") to label the array elements? You are expecting the result to be:\n",
    "array([[[ 'D',  'D',  'D',  'B',  'D'],\n",
    "        [ 'D',  'D',  'B',  'B',  'B'],\n",
    "        [ 'D',  'B',  'D',  'D',  'D']],\n",
    "\n",
    "       [[ 'B',  'B',  'B',  'B',  'E'],\n",
    "        [ 'D',  'D',  'D',  'D',  'D'],\n",
    "        [ 'B',  'D',   'A',  'D', 'D']]])\n",
    "Again, you don't need Numpy in this question."
   ]
  },
  {
   "cell_type": "code",
   "execution_count": 18,
   "metadata": {},
   "outputs": [
    {
     "name": "stdout",
     "output_type": "stream",
     "text": [
      "Array d:\n",
      " [[[1.1661653  1.81219888 1.36453847 1.69836094 1.76520299]\n",
      "  [1.23732629 1.62620049 1.4648139  1.24080551 1.12889016]\n",
      "  [1.69633406 1.42300373 1.98576263 1.23659659 1.64661012]]\n",
      "\n",
      " [[1.20251204 1.67847384 1.9682248  1.03103942 1.96900619]\n",
      "  [1.18395775 1.85875034 1.67840509 1.53572915 1.02911582]\n",
      "  [1.54258346 1.31363564 1.87521669 1.88345906 1.91433007]]]\n",
      "\n",
      "Array f:\n",
      " [[['B' 'D' 'B' 'D' 'D']\n",
      "  ['B' 'D' 'B' 'B' 'B']\n",
      "  ['D' 'B' 'E' 'B' 'D']]\n",
      "\n",
      " [['B' 'D' 'D' 'B' 'D']\n",
      "  ['B' 'D' 'D' 'B' 'A']\n",
      "  ['D' 'B' 'D' 'D' 'D']]]\n"
     ]
    }
   ],
   "source": [
    "# Create an empty string array with the same shape as d\n",
    "f = np.empty(d.shape, dtype=str)\n",
    "\n",
    "# Populate f based on the given rules\n",
    "for i in range(d.shape[0]):  \n",
    "    for j in range(d.shape[1]):\n",
    "        for k in range(d.shape[2]):\n",
    "            if d[i, j, k] == d_min:\n",
    "                f[i, j, k] = \"A\"  # Replacing 0 with \"A\"\n",
    "            elif d[i, j, k] == d_max:\n",
    "                f[i, j, k] = \"E\"  # Replacing 100 with \"E\"\n",
    "            elif d_min < d[i, j, k] < d_mean:\n",
    "                f[i, j, k] = \"B\"  # Replacing 25 with \"B\"\n",
    "            elif d[i, j, k] == d_mean:\n",
    "                f[i, j, k] = \"C\"  # Replacing 50 with \"C\"\n",
    "            elif d_mean < d[i, j, k] < d_max:\n",
    "                f[i, j, k] = \"D\"  # Replacing 75 with \"D\"\n",
    "\n",
    "# Print d and f to verify results\n",
    "print(\"Array d:\\n\", d)\n",
    "print(\"\\nArray f:\\n\", f)"
   ]
  }
 ],
 "metadata": {
  "kernelspec": {
   "display_name": "Python 3",
   "language": "python",
   "name": "python3"
  },
  "language_info": {
   "codemirror_mode": {
    "name": "ipython",
    "version": 3
   },
   "file_extension": ".py",
   "mimetype": "text/x-python",
   "name": "python",
   "nbconvert_exporter": "python",
   "pygments_lexer": "ipython3",
   "version": "3.11.9"
  }
 },
 "nbformat": 4,
 "nbformat_minor": 2
}
