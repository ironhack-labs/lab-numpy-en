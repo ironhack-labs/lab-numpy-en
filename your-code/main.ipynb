{
 "cells": [
  {
   "cell_type": "markdown",
   "metadata": {},
   "source": [
    "# Lab | Numpy Deep Dive"
   ]
  },
  {
   "cell_type": "markdown",
   "metadata": {},
   "source": [
    "### 1. Import the NUMPY package under the name np.\n"
   ]
  },
  {
   "cell_type": "code",
   "execution_count": 1,
   "metadata": {},
   "outputs": [],
   "source": [
    "import numpy as np\n"
   ]
  },
  {
   "cell_type": "markdown",
   "metadata": {},
   "source": [
    "\n",
    "\n",
    "### 2. Print the NUMPY version and the configuration.\n"
   ]
  },
  {
   "cell_type": "code",
   "execution_count": 2,
   "metadata": {},
   "outputs": [
    {
     "name": "stdout",
     "output_type": "stream",
     "text": [
      "2.2.3\n"
     ]
    }
   ],
   "source": [
    "print(np.version.version)\n"
   ]
  },
  {
   "cell_type": "markdown",
   "metadata": {},
   "source": [
    "### 3. Generate a 2x3x5 3-dimensional array with random values. Assign the array to variable \"a\"\n",
    "Challenge: there are at least three easy ways that use numpy to generate random arrays. How many ways can you find?\n"
   ]
  },
  {
   "cell_type": "code",
   "execution_count": 91,
   "metadata": {},
   "outputs": [],
   "source": [
    "a = np.random.rand(2,3,5)\n"
   ]
  },
  {
   "cell_type": "markdown",
   "metadata": {},
   "source": [
    "\n",
    "### 4. Print a.\n"
   ]
  },
  {
   "cell_type": "code",
   "execution_count": 92,
   "metadata": {},
   "outputs": [
    {
     "name": "stdout",
     "output_type": "stream",
     "text": [
      "\n",
      "a:\n",
      "[[[0.60571655 0.56758587 0.16215694 0.05165878 0.9581245 ]\n",
      "  [0.03308898 0.09812579 0.52496867 0.47925435 0.91026106]\n",
      "  [0.19973755 0.68043439 0.20254275 0.72489806 0.37171133]]\n",
      "\n",
      " [[0.6048057  0.54244354 0.61450157 0.47360174 0.19561611]\n",
      "  [0.75985882 0.07547208 0.82692792 0.39837969 0.06907573]\n",
      "  [0.40016749 0.7452215  0.75099786 0.07135298 0.53115444]]]\n"
     ]
    }
   ],
   "source": [
    "print(\"\\na:\")\n",
    "print(a)\n"
   ]
  },
  {
   "cell_type": "markdown",
   "metadata": {},
   "source": [
    "### 5. Create a 5x2x3 3-dimensional array with all values equaling 1.\n",
    "### Assign the array to variable \"b\"\n"
   ]
  },
  {
   "cell_type": "code",
   "execution_count": 93,
   "metadata": {},
   "outputs": [],
   "source": [
    "b = np.ones((5, 2, 3))\n"
   ]
  },
  {
   "cell_type": "markdown",
   "metadata": {},
   "source": [
    "\n",
    "### 6. Print b.\n"
   ]
  },
  {
   "cell_type": "code",
   "execution_count": 94,
   "metadata": {},
   "outputs": [
    {
     "name": "stdout",
     "output_type": "stream",
     "text": [
      "\n",
      "b:\n",
      "[[[1. 1. 1.]\n",
      "  [1. 1. 1.]]\n",
      "\n",
      " [[1. 1. 1.]\n",
      "  [1. 1. 1.]]\n",
      "\n",
      " [[1. 1. 1.]\n",
      "  [1. 1. 1.]]\n",
      "\n",
      " [[1. 1. 1.]\n",
      "  [1. 1. 1.]]\n",
      "\n",
      " [[1. 1. 1.]\n",
      "  [1. 1. 1.]]]\n"
     ]
    }
   ],
   "source": [
    "print(\"\\nb:\")\n",
    "print(b)\n"
   ]
  },
  {
   "cell_type": "markdown",
   "metadata": {},
   "source": [
    "\n",
    "### 7. Do a and b have the same size? How do you prove that in Python code?\n"
   ]
  },
  {
   "cell_type": "code",
   "execution_count": 95,
   "metadata": {},
   "outputs": [
    {
     "name": "stdout",
     "output_type": "stream",
     "text": [
      "30 and 30 have same size\n"
     ]
    }
   ],
   "source": [
    "a_size = a.size\n",
    "b_size = b.size\n",
    "\n",
    "if a_size == b_size:\n",
    "  print(f\"{a_size} and {b_size} have same size\")\n",
    "else:\n",
    "    print(f\"{a_size} and {b_size} have different size\")"
   ]
  },
  {
   "cell_type": "markdown",
   "metadata": {},
   "source": [
    "\n",
    "### 8. Are you able to add a and b? Why or why not?\n"
   ]
  },
  {
   "cell_type": "code",
   "execution_count": 97,
   "metadata": {},
   "outputs": [],
   "source": [
    "#No, because they have different shape.\n"
   ]
  },
  {
   "cell_type": "markdown",
   "metadata": {},
   "source": [
    "\n",
    "\n",
    "### 9. Transpose b so that it has the same structure of a (i.e. become a 2x3x5 array). Assign the transposed array to varialbe \"c\".\n"
   ]
  },
  {
   "cell_type": "code",
   "execution_count": 120,
   "metadata": {},
   "outputs": [
    {
     "name": "stdout",
     "output_type": "stream",
     "text": [
      "\n",
      "c:\n",
      "[[[1. 1. 1. 1. 1.]\n",
      "  [1. 1. 1. 1. 1.]\n",
      "  [1. 1. 1. 1. 1.]]\n",
      "\n",
      " [[1. 1. 1. 1. 1.]\n",
      "  [1. 1. 1. 1. 1.]\n",
      "  [1. 1. 1. 1. 1.]]]\n",
      "(2, 3, 5)\n"
     ]
    }
   ],
   "source": [
    "b = np.ones((5, 2, 3))\n",
    "c = b.transpose(1, 2, 0)\n",
    "print(\"\\nc:\")\n",
    "print(c)\n",
    "c_shape = c.shape\n",
    "print(c_shape)"
   ]
  },
  {
   "cell_type": "markdown",
   "metadata": {},
   "source": [
    "\n",
    "### 10. Try to add a and c. Now it should work. Assign the sum to variable \"d\". But why does it work now?\n"
   ]
  },
  {
   "cell_type": "code",
   "execution_count": 121,
   "metadata": {},
   "outputs": [
    {
     "name": "stdout",
     "output_type": "stream",
     "text": [
      "[[[1.60571655 1.56758587 1.16215694 1.05165878 1.9581245 ]\n",
      "  [1.03308898 1.09812579 1.52496867 1.47925435 1.91026106]\n",
      "  [1.19973755 1.68043439 1.20254275 1.72489806 1.37171133]]\n",
      "\n",
      " [[1.6048057  1.54244354 1.61450157 1.47360174 1.19561611]\n",
      "  [1.75985882 1.07547208 1.82692792 1.39837969 1.06907573]\n",
      "  [1.40016749 1.7452215  1.75099786 1.07135298 1.53115444]]]\n"
     ]
    }
   ],
   "source": [
    "d =(a +c)\n",
    "print(d)\n",
    "\n"
   ]
  },
  {
   "cell_type": "markdown",
   "metadata": {},
   "source": [
    "\n",
    "### 11. Print a and d. Notice the difference and relation of the two array in terms of the values? Explain.\n"
   ]
  },
  {
   "cell_type": "code",
   "execution_count": 122,
   "metadata": {},
   "outputs": [
    {
     "name": "stdout",
     "output_type": "stream",
     "text": [
      "\n",
      "a:\n",
      "[[[0.60571655 0.56758587 0.16215694 0.05165878 0.9581245 ]\n",
      "  [0.03308898 0.09812579 0.52496867 0.47925435 0.91026106]\n",
      "  [0.19973755 0.68043439 0.20254275 0.72489806 0.37171133]]\n",
      "\n",
      " [[0.6048057  0.54244354 0.61450157 0.47360174 0.19561611]\n",
      "  [0.75985882 0.07547208 0.82692792 0.39837969 0.06907573]\n",
      "  [0.40016749 0.7452215  0.75099786 0.07135298 0.53115444]]]\n",
      "\n",
      "d:\n",
      "[[[1.60571655 1.56758587 1.16215694 1.05165878 1.9581245 ]\n",
      "  [1.03308898 1.09812579 1.52496867 1.47925435 1.91026106]\n",
      "  [1.19973755 1.68043439 1.20254275 1.72489806 1.37171133]]\n",
      "\n",
      " [[1.6048057  1.54244354 1.61450157 1.47360174 1.19561611]\n",
      "  [1.75985882 1.07547208 1.82692792 1.39837969 1.06907573]\n",
      "  [1.40016749 1.7452215  1.75099786 1.07135298 1.53115444]]]\n"
     ]
    }
   ],
   "source": [
    "print(\"\\na:\")\n",
    "print(a)\n",
    "print(\"\\nd:\")\n",
    "print(d)\n",
    " #c = ones array, the result is:\n",
    "#Meaning every element in d is exactly 1 unit greater than the corresponding element in a.\n"
   ]
  },
  {
   "cell_type": "markdown",
   "metadata": {},
   "source": [
    "\n",
    "### 12. Multiply a and c. Assign the result to e.\n"
   ]
  },
  {
   "cell_type": "code",
   "execution_count": 123,
   "metadata": {},
   "outputs": [
    {
     "name": "stdout",
     "output_type": "stream",
     "text": [
      "[[[0.60571655 0.56758587 0.16215694 0.05165878 0.9581245 ]\n",
      "  [0.03308898 0.09812579 0.52496867 0.47925435 0.91026106]\n",
      "  [0.19973755 0.68043439 0.20254275 0.72489806 0.37171133]]\n",
      "\n",
      " [[0.6048057  0.54244354 0.61450157 0.47360174 0.19561611]\n",
      "  [0.75985882 0.07547208 0.82692792 0.39837969 0.06907573]\n",
      "  [0.40016749 0.7452215  0.75099786 0.07135298 0.53115444]]]\n"
     ]
    }
   ],
   "source": [
    "e = a * c\n",
    "print(e)\n"
   ]
  },
  {
   "cell_type": "markdown",
   "metadata": {},
   "source": [
    "\n",
    "\n",
    "### 13. Does e equal to a? Why or why not?\n"
   ]
  },
  {
   "cell_type": "code",
   "execution_count": 124,
   "metadata": {},
   "outputs": [
    {
     "name": "stdout",
     "output_type": "stream",
     "text": [
      "Does e equal a? True\n"
     ]
    }
   ],
   "source": [
    "#yes, it is because: c = ones array\n",
    "equal = np.array_equal(e, a)  \n",
    "print(f\"Does e equal a? {equal}\")\n",
    "\n"
   ]
  },
  {
   "cell_type": "markdown",
   "metadata": {},
   "source": [
    "\n",
    "\n",
    "### 14. Identify the max, min, and mean values in d. Assign those values to variables \"d_max\", \"d_min\", and \"d_mean\"\n"
   ]
  },
  {
   "cell_type": "code",
   "execution_count": 125,
   "metadata": {},
   "outputs": [
    {
     "name": "stdout",
     "output_type": "stream",
     "text": [
      "d_max: 1.958124496773266, d_min: 1.0330889764058209, d_mean: 1.454328091280846\n"
     ]
    }
   ],
   "source": [
    "\n",
    "d_max = np.max(d)    \n",
    "d_min = np.min(d)   \n",
    "d_mean = np.mean(d)  \n",
    "\n",
    "print(f\"d_max: {d_max}, d_min: {d_min}, d_mean: {d_mean}\")"
   ]
  },
  {
   "cell_type": "markdown",
   "metadata": {},
   "source": [
    "\n",
    "### 15. Now we want to label the values in d. First create an empty array \"f\" with the same shape (i.e. 2x3x5) as d using `np.empty`.\n"
   ]
  },
  {
   "cell_type": "code",
   "execution_count": 126,
   "metadata": {},
   "outputs": [
    {
     "name": "stdout",
     "output_type": "stream",
     "text": [
      "Shape of f: (2, 3, 5)\n"
     ]
    }
   ],
   "source": [
    "f = np.empty(d.shape)\n",
    "print(\"Shape of f:\", f.shape)\n",
    "\n"
   ]
  },
  {
   "cell_type": "markdown",
   "metadata": {},
   "source": [
    "\n",
    "\n",
    "\n",
    "### 16. Populate the values in f. For each value in d, if it's larger than d_min but smaller than d_mean, assign 25 to the corresponding value in f.\n",
    "If a value in d is larger than d_mean but smaller than d_max, assign 75 to the corresponding value in f.\n",
    "If a value equals to d_mean, assign 50 to the corresponding value in f.\n",
    "Assign 0 to the corresponding value(s) in f for d_min in d.\n",
    "Assign 100 to the corresponding value(s) in f for d_max in d.\n",
    "In the end, f should have only the following values: 0, 25, 50, 75, and 100.\n",
    "Note: you don't have to use Numpy in this question.\n",
    "\n"
   ]
  },
  {
   "cell_type": "code",
   "execution_count": 142,
   "metadata": {},
   "outputs": [
    {
     "name": "stdout",
     "output_type": "stream",
     "text": [
      "Corrected f:\n",
      "[[[ 75.  75.  25.  25. 100.]\n",
      "  [  0.  25.  75.  75.  75.]\n",
      "  [ 25.  75.  25.  75.  25.]]\n",
      "\n",
      " [[ 75.  75.  75.  75.  25.]\n",
      "  [ 75.  25.  75.  25.  25.]\n",
      "  [ 25.  75.  75.  25.  75.]]]\n"
     ]
    }
   ],
   "source": [
    "f = np.empty(d.shape)\n",
    "\n",
    "\n",
    "f[d == d_min] = 0\n",
    "f[d == d_max] = 100\n",
    "f[(d > d_min) & (d < d_mean)] = 25\n",
    "f[d == d_mean] = 50\n",
    "f[(d > d_mean) & (d < d_max)] = 75\n",
    "\n",
    "print(\"Corrected f:\")\n",
    "print(f)"
   ]
  },
  {
   "cell_type": "markdown",
   "metadata": {},
   "source": [
    "\n",
    "\n",
    "\n",
    "\n",
    "### 17. Print d and f. Do you have your expected f?\n",
    "For instance, if your d is:\n",
    "array([[[1.85836099, 1.67064465, 1.62576044, 1.40243961, 1.88454931],\n",
    "        [1.75354326, 1.69403643, 1.36729252, 1.61415071, 1.12104981],\n",
    "        [1.72201435, 1.1862918 , 1.87078449, 1.7726778 , 1.88180042]],\n",
    "\n",
    "       [[1.44747908, 1.31673383, 1.02000951, 1.52218947, 1.97066381],\n",
    "        [1.79129243, 1.74983003, 1.96028037, 1.85166831, 1.65450881],\n",
    "        [1.18068344, 1.9587381 , 1.00656599, 1.93402165, 1.73514584]]])\n",
    "\n",
    "Your f should be:\n",
    "array([[[ 75.,  75.,  75.,  25.,  75.],\n",
    "        [ 75.,  75.,  25.,  25.,  25.],\n",
    "        [ 75.,  25.,  75.,  75.,  75.]],\n",
    "\n",
    "       [[ 25.,  25.,  25.,  25., 100.],\n",
    "        [ 75.,  75.,  75.,  75.,  75.],\n",
    "        [ 25.,  75.,   0.,  75.,  75.]]])\n",
    "\n"
   ]
  },
  {
   "cell_type": "code",
   "execution_count": 140,
   "metadata": {},
   "outputs": [
    {
     "name": "stdout",
     "output_type": "stream",
     "text": [
      "\n",
      "d:\n",
      "[[[1.60571655 1.56758587 1.16215694 1.05165878 1.9581245 ]\n",
      "  [1.03308898 1.09812579 1.52496867 1.47925435 1.91026106]\n",
      "  [1.19973755 1.68043439 1.20254275 1.72489806 1.37171133]]\n",
      "\n",
      " [[1.6048057  1.54244354 1.61450157 1.47360174 1.19561611]\n",
      "  [1.75985882 1.07547208 1.82692792 1.39837969 1.06907573]\n",
      "  [1.40016749 1.7452215  1.75099786 1.07135298 1.53115444]]]\n",
      "\n",
      "f:\n",
      "[[[ 75.  75.  25.  25. 100.]\n",
      "  [  0.  25.  75.  75.  75.]\n",
      "  [ 25.  75.  25.  75.  25.]]\n",
      "\n",
      " [[ 75.  75.  75.  75.  25.]\n",
      "  [ 75.  25.  75.  25.  25.]\n",
      "  [ 25.  75.  75.  25.  75.]]]\n"
     ]
    }
   ],
   "source": [
    "print(\"\\nd:\")\n",
    "print(d)\n",
    "print(\"\\nf:\")\n",
    "print(f)\n"
   ]
  },
  {
   "cell_type": "markdown",
   "metadata": {},
   "source": [
    "### 18. Bonus question: instead of using numbers (i.e. 0, 25, 50, 75, and 100), how to use string values \n",
    "(\"A\", \"B\", \"C\", \"D\", and \"E\") to label the array elements? You are expecting the result to be:\n",
    "array([[[ 'D',  'D',  'D',  'B',  'D'],\n",
    "        [ 'D',  'D',  'B',  'B',  'B'],\n",
    "        [ 'D',  'B',  'D',  'D',  'D']],\n",
    "\n",
    "       [[ 'B',  'B',  'B',  'B',  'E'],\n",
    "        [ 'D',  'D',  'D',  'D',  'D'],\n",
    "        [ 'B',  'D',   'A',  'D', 'D']]])\n",
    "Again, you don't need Numpy in this question."
   ]
  },
  {
   "cell_type": "code",
   "execution_count": 144,
   "metadata": {},
   "outputs": [
    {
     "name": "stdout",
     "output_type": "stream",
     "text": [
      "String-labeled array f:\n",
      "[[['D' 'D' 'B' 'B' 'E']\n",
      "  ['A' 'B' 'D' 'D' 'D']\n",
      "  ['B' 'D' 'B' 'D' 'B']]\n",
      "\n",
      " [['D' 'D' 'D' 'D' 'B']\n",
      "  ['D' 'B' 'D' 'B' 'B']\n",
      "  ['B' 'D' 'D' 'B' 'D']]]\n"
     ]
    }
   ],
   "source": [
    "f = np.empty(d.shape, dtype=object)  \n",
    "\n",
    "f[d == d_min] = 'A'\n",
    "f[d == d_max] = 'E'\n",
    "f[(d > d_min) & (d < d_mean)] = 'B'\n",
    "f[d == d_mean] = 'C'\n",
    "f[(d > d_mean) & (d < d_max)] = 'D'\n",
    "\n",
    "\n",
    "print(\"String-labeled array f:\")\n",
    "print(f)"
   ]
  }
 ],
 "metadata": {
  "kernelspec": {
   "display_name": "Python 3",
   "language": "python",
   "name": "python3"
  },
  "language_info": {
   "codemirror_mode": {
    "name": "ipython",
    "version": 3
   },
   "file_extension": ".py",
   "mimetype": "text/x-python",
   "name": "python",
   "nbconvert_exporter": "python",
   "pygments_lexer": "ipython3",
   "version": "3.13.1"
  }
 },
 "nbformat": 4,
 "nbformat_minor": 2
}
