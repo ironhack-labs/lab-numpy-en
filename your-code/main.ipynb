{
 "cells": [
  {
   "cell_type": "markdown",
   "metadata": {},
   "source": [
    "# Lab | Numpy Deep Dive"
   ]
  },
  {
   "cell_type": "markdown",
   "metadata": {},
   "source": [
    "### 1. Import the NUMPY package under the name np.\n"
   ]
  },
  {
   "cell_type": "code",
   "execution_count": 1,
   "metadata": {},
   "outputs": [],
   "source": [
    "### [your code here]\n",
    "import numpy as np"
   ]
  },
  {
   "cell_type": "markdown",
   "metadata": {},
   "source": [
    "\n",
    "\n",
    "### 2. Print the NUMPY version and the configuration.\n"
   ]
  },
  {
   "cell_type": "code",
   "execution_count": 4,
   "metadata": {},
   "outputs": [
    {
     "name": "stdout",
     "output_type": "stream",
     "text": [
      "2.0.2\n",
      "{\n",
      "  \"Compilers\": {\n",
      "    \"c\": {\n",
      "      \"name\": \"msvc\",\n",
      "      \"linker\": \"link\",\n",
      "      \"version\": \"19.29.30154\",\n",
      "      \"commands\": \"cl\"\n",
      "    },\n",
      "    \"cython\": {\n",
      "      \"name\": \"cython\",\n",
      "      \"linker\": \"cython\",\n",
      "      \"version\": \"3.0.11\",\n",
      "      \"commands\": \"cython\"\n",
      "    },\n",
      "    \"c++\": {\n",
      "      \"name\": \"msvc\",\n",
      "      \"linker\": \"link\",\n",
      "      \"version\": \"19.29.30154\",\n",
      "      \"commands\": \"cl\"\n",
      "    }\n",
      "  },\n",
      "  \"Machine Information\": {\n",
      "    \"host\": {\n",
      "      \"cpu\": \"x86_64\",\n",
      "      \"family\": \"x86_64\",\n",
      "      \"endian\": \"little\",\n",
      "      \"system\": \"windows\"\n",
      "    },\n",
      "    \"build\": {\n",
      "      \"cpu\": \"x86_64\",\n",
      "      \"family\": \"x86_64\",\n",
      "      \"endian\": \"little\",\n",
      "      \"system\": \"windows\"\n",
      "    }\n",
      "  },\n",
      "  \"Build Dependencies\": {\n",
      "    \"blas\": {\n",
      "      \"name\": \"scipy-openblas\",\n",
      "      \"found\": true,\n",
      "      \"version\": \"0.3.27\",\n",
      "      \"detection method\": \"pkgconfig\",\n",
      "      \"include directory\": \"C:/Users/runneradmin/AppData/Local/Temp/cibw-run-2f7jy5pq/cp311-win_amd64/build/venv/Lib/site-packages/scipy_openblas64/include\",\n",
      "      \"lib directory\": \"C:/Users/runneradmin/AppData/Local/Temp/cibw-run-2f7jy5pq/cp311-win_amd64/build/venv/Lib/site-packages/scipy_openblas64/lib\",\n",
      "      \"openblas configuration\": \"OpenBLAS 0.3.27  USE64BITINT DYNAMIC_ARCH NO_AFFINITY Zen MAX_THREADS=24\",\n",
      "      \"pc file directory\": \"D:/a/numpy/numpy/.openblas\"\n",
      "    },\n",
      "    \"lapack\": {\n",
      "      \"name\": \"scipy-openblas\",\n",
      "      \"found\": true,\n",
      "      \"version\": \"0.3.27\",\n",
      "      \"detection method\": \"pkgconfig\",\n",
      "      \"include directory\": \"C:/Users/runneradmin/AppData/Local/Temp/cibw-run-2f7jy5pq/cp311-win_amd64/build/venv/Lib/site-packages/scipy_openblas64/include\",\n",
      "      \"lib directory\": \"C:/Users/runneradmin/AppData/Local/Temp/cibw-run-2f7jy5pq/cp311-win_amd64/build/venv/Lib/site-packages/scipy_openblas64/lib\",\n",
      "      \"openblas configuration\": \"OpenBLAS 0.3.27  USE64BITINT DYNAMIC_ARCH NO_AFFINITY Zen MAX_THREADS=24\",\n",
      "      \"pc file directory\": \"D:/a/numpy/numpy/.openblas\"\n",
      "    }\n",
      "  },\n",
      "  \"Python Information\": {\n",
      "    \"path\": \"C:\\\\Users\\\\runneradmin\\\\AppData\\\\Local\\\\Temp\\\\build-env-t_tu00db\\\\Scripts\\\\python.exe\",\n",
      "    \"version\": \"3.11\"\n",
      "  },\n",
      "  \"SIMD Extensions\": {\n",
      "    \"baseline\": [\n",
      "      \"SSE\",\n",
      "      \"SSE2\",\n",
      "      \"SSE3\"\n",
      "    ],\n",
      "    \"found\": [\n",
      "      \"SSSE3\",\n",
      "      \"SSE41\",\n",
      "      \"POPCNT\",\n",
      "      \"SSE42\",\n",
      "      \"AVX\",\n",
      "      \"F16C\",\n",
      "      \"FMA3\",\n",
      "      \"AVX2\"\n",
      "    ],\n",
      "    \"not found\": [\n",
      "      \"AVX512F\",\n",
      "      \"AVX512CD\",\n",
      "      \"AVX512_SKX\",\n",
      "      \"AVX512_CLX\",\n",
      "      \"AVX512_CNL\",\n",
      "      \"AVX512_ICL\"\n",
      "    ]\n",
      "  }\n",
      "}\n",
      "None\n"
     ]
    }
   ],
   "source": [
    "### [your code here]\n",
    "print(np.__version__)\n",
    "print(np.show_config())"
   ]
  },
  {
   "cell_type": "markdown",
   "metadata": {},
   "source": [
    "### 3. Generate a 2x3x5 3-dimensional array with random values. Assign the array to variable \"a\"\n",
    "Challenge: there are at least three easy ways that use numpy to generate random arrays. How many ways can you find?\n"
   ]
  },
  {
   "cell_type": "code",
   "execution_count": 11,
   "metadata": {},
   "outputs": [],
   "source": [
    "### [your code here]\n",
    "a = np.random.random((2, 3, 5))\n",
    "a2 = np.random.rand(2, 3, 5)\n",
    "a3 = np.random.randint(0, 10, (2, 3, 5))"
   ]
  },
  {
   "cell_type": "markdown",
   "metadata": {},
   "source": [
    "\n",
    "### 4. Print a.\n"
   ]
  },
  {
   "cell_type": "code",
   "execution_count": 12,
   "metadata": {},
   "outputs": [
    {
     "name": "stdout",
     "output_type": "stream",
     "text": [
      "[[[0.03125449 0.86146921 0.13079443 0.62407195 0.15226565]\n",
      "  [0.34639169 0.66998703 0.50348558 0.18183358 0.6875883 ]\n",
      "  [0.46069541 0.71628006 0.53023978 0.6451577  0.71216019]]\n",
      "\n",
      " [[0.51501252 0.32931468 0.84711878 0.34082186 0.18618508]\n",
      "  [0.27610823 0.81234654 0.84479754 0.04236517 0.5301402 ]\n",
      "  [0.80198518 0.53690604 0.08437465 0.38239891 0.53766485]]]\n",
      "-------------------------\n",
      "[[[0.81062191 0.68172261 0.39683885 0.06282717 0.67126071]\n",
      "  [0.58714243 0.60543222 0.81263742 0.7961152  0.34829117]\n",
      "  [0.95520611 0.78512596 0.35106973 0.81036402 0.40250689]]\n",
      "\n",
      " [[0.57326076 0.40210416 0.10392604 0.24711736 0.01616353]\n",
      "  [0.27675385 0.72981314 0.7652374  0.44232559 0.26720079]\n",
      "  [0.34942951 0.89823184 0.01803836 0.70540173 0.9216234 ]]]\n",
      "-------------------------\n",
      "[[[6 2 7 6 3]\n",
      "  [7 0 1 8 9]\n",
      "  [1 1 2 5 3]]\n",
      "\n",
      " [[0 5 3 9 9]\n",
      "  [9 9 8 6 3]\n",
      "  [3 9 6 4 1]]]\n"
     ]
    }
   ],
   "source": [
    "### [your code here]\n",
    "print(a)\n",
    "print('-------------------------')\n",
    "print(a2)\n",
    "print('-------------------------')\n",
    "print(a3)"
   ]
  },
  {
   "cell_type": "markdown",
   "metadata": {},
   "source": [
    "### 5. Create a 5x2x3 3-dimensional array with all values equaling 1.\n",
    "### Assign the array to variable \"b\"\n"
   ]
  },
  {
   "cell_type": "code",
   "execution_count": 16,
   "metadata": {},
   "outputs": [],
   "source": [
    "### [your code here]\n",
    "b = np.ones((5, 2, 3))"
   ]
  },
  {
   "cell_type": "markdown",
   "metadata": {},
   "source": [
    "\n",
    "### 6. Print b.\n"
   ]
  },
  {
   "cell_type": "code",
   "execution_count": 17,
   "metadata": {},
   "outputs": [
    {
     "name": "stdout",
     "output_type": "stream",
     "text": [
      "[[[1. 1. 1.]\n",
      "  [1. 1. 1.]]\n",
      "\n",
      " [[1. 1. 1.]\n",
      "  [1. 1. 1.]]\n",
      "\n",
      " [[1. 1. 1.]\n",
      "  [1. 1. 1.]]\n",
      "\n",
      " [[1. 1. 1.]\n",
      "  [1. 1. 1.]]\n",
      "\n",
      " [[1. 1. 1.]\n",
      "  [1. 1. 1.]]]\n"
     ]
    }
   ],
   "source": [
    "### [your code here]\n",
    "print(b)"
   ]
  },
  {
   "cell_type": "markdown",
   "metadata": {},
   "source": [
    "\n",
    "### 7. Do a and b have the same size? How do you prove that in Python code?\n"
   ]
  },
  {
   "cell_type": "code",
   "execution_count": 21,
   "metadata": {},
   "outputs": [
    {
     "name": "stdout",
     "output_type": "stream",
     "text": [
      "(2, 3, 5)\n",
      "(5, 2, 3)\n",
      "False\n"
     ]
    }
   ],
   "source": [
    "### [your code here]\n",
    "print(a.shape)\n",
    "print(b.shape)\n",
    "print(a.shape == b.shape)"
   ]
  },
  {
   "cell_type": "markdown",
   "metadata": {},
   "source": [
    "\n",
    "### 8. Are you able to add a and b? Why or why not?\n"
   ]
  },
  {
   "cell_type": "code",
   "execution_count": 19,
   "metadata": {},
   "outputs": [],
   "source": [
    "### [your code here]\n",
    "# No, because they have different shapes."
   ]
  },
  {
   "cell_type": "markdown",
   "metadata": {},
   "source": [
    "\n",
    "\n",
    "### 9. Transpose b so that it has the same structure of a (i.e. become a 2x3x5 array). Assign the transposed array to varialbe \"c\".\n"
   ]
  },
  {
   "cell_type": "code",
   "execution_count": 24,
   "metadata": {},
   "outputs": [
    {
     "name": "stdout",
     "output_type": "stream",
     "text": [
      "(2, 3, 5)\n"
     ]
    }
   ],
   "source": [
    "### [your code here]\n",
    "c = np.transpose(b, (1,2,0))\n",
    "print(c.shape)"
   ]
  },
  {
   "cell_type": "markdown",
   "metadata": {},
   "source": [
    "\n",
    "### 10. Try to add a and c. Now it should work. Assign the sum to variable \"d\". But why does it work now?\n"
   ]
  },
  {
   "cell_type": "code",
   "execution_count": null,
   "metadata": {},
   "outputs": [
    {
     "name": "stdout",
     "output_type": "stream",
     "text": [
      "[[[1.03125449 1.86146921 1.13079443 1.62407195 1.15226565]\n",
      "  [1.34639169 1.66998703 1.50348558 1.18183358 1.6875883 ]\n",
      "  [1.46069541 1.71628006 1.53023978 1.6451577  1.71216019]]\n",
      "\n",
      " [[1.51501252 1.32931468 1.84711878 1.34082186 1.18618508]\n",
      "  [1.27610823 1.81234654 1.84479754 1.04236517 1.5301402 ]\n",
      "  [1.80198518 1.53690604 1.08437465 1.38239891 1.53766485]]]\n",
      "(2, 3, 5)\n"
     ]
    }
   ],
   "source": [
    "### [your code here]\n",
    "d = a + c\n",
    "print(d)\n",
    "print(d.shape)\n",
    "# it worked because they have the same shape"
   ]
  },
  {
   "cell_type": "markdown",
   "metadata": {},
   "source": [
    "\n",
    "### 11. Print a and d. Notice the difference and relation of the two array in terms of the values? Explain.\n"
   ]
  },
  {
   "cell_type": "code",
   "execution_count": null,
   "metadata": {},
   "outputs": [
    {
     "name": "stdout",
     "output_type": "stream",
     "text": [
      "[[[0.03125449 0.86146921 0.13079443 0.62407195 0.15226565]\n",
      "  [0.34639169 0.66998703 0.50348558 0.18183358 0.6875883 ]\n",
      "  [0.46069541 0.71628006 0.53023978 0.6451577  0.71216019]]\n",
      "\n",
      " [[0.51501252 0.32931468 0.84711878 0.34082186 0.18618508]\n",
      "  [0.27610823 0.81234654 0.84479754 0.04236517 0.5301402 ]\n",
      "  [0.80198518 0.53690604 0.08437465 0.38239891 0.53766485]]]\n",
      "-----------------\n",
      "[[[1.03125449 1.86146921 1.13079443 1.62407195 1.15226565]\n",
      "  [1.34639169 1.66998703 1.50348558 1.18183358 1.6875883 ]\n",
      "  [1.46069541 1.71628006 1.53023978 1.6451577  1.71216019]]\n",
      "\n",
      " [[1.51501252 1.32931468 1.84711878 1.34082186 1.18618508]\n",
      "  [1.27610823 1.81234654 1.84479754 1.04236517 1.5301402 ]\n",
      "  [1.80198518 1.53690604 1.08437465 1.38239891 1.53766485]]]\n"
     ]
    }
   ],
   "source": [
    "### [your code here]\n",
    "print(a)\n",
    "print(\"-----------------\")\n",
    "print(d)\n",
    "# The values of d are the values of a plus 1."
   ]
  },
  {
   "cell_type": "markdown",
   "metadata": {},
   "source": [
    "\n",
    "### 12. Multiply a and c. Assign the result to e.\n"
   ]
  },
  {
   "cell_type": "code",
   "execution_count": 28,
   "metadata": {},
   "outputs": [
    {
     "name": "stdout",
     "output_type": "stream",
     "text": [
      "[[[0.03125449 0.86146921 0.13079443 0.62407195 0.15226565]\n",
      "  [0.34639169 0.66998703 0.50348558 0.18183358 0.6875883 ]\n",
      "  [0.46069541 0.71628006 0.53023978 0.6451577  0.71216019]]\n",
      "\n",
      " [[0.51501252 0.32931468 0.84711878 0.34082186 0.18618508]\n",
      "  [0.27610823 0.81234654 0.84479754 0.04236517 0.5301402 ]\n",
      "  [0.80198518 0.53690604 0.08437465 0.38239891 0.53766485]]]\n"
     ]
    }
   ],
   "source": [
    "### [your code here]\n",
    "e = a * c\n",
    "print(e)"
   ]
  },
  {
   "cell_type": "markdown",
   "metadata": {},
   "source": [
    "\n",
    "\n",
    "### 13. Does e equal to a? Why or why not?\n"
   ]
  },
  {
   "cell_type": "code",
   "execution_count": 30,
   "metadata": {},
   "outputs": [
    {
     "name": "stdout",
     "output_type": "stream",
     "text": [
      "True\n"
     ]
    }
   ],
   "source": [
    "### [your code here]\n",
    "print(np.array_equal(a, e))\n",
    "# Yes, e is equal to a because multiplying any number by 1 does not change its value."
   ]
  },
  {
   "cell_type": "markdown",
   "metadata": {},
   "source": [
    "\n",
    "\n",
    "### 14. Identify the max, min, and mean values in d. Assign those values to variables \"d_max\", \"d_min\", and \"d_mean\"\n"
   ]
  },
  {
   "cell_type": "code",
   "execution_count": 31,
   "metadata": {},
   "outputs": [
    {
     "name": "stdout",
     "output_type": "stream",
     "text": [
      "1.8614692114685045 1.0312544941142217 1.4773738432749737\n"
     ]
    }
   ],
   "source": [
    "### [your code here]\n",
    "d_max = np.max(d)\n",
    "d_min = np.min(d)\n",
    "d_mean = np.mean(d)\n",
    "print(d_max, d_min, d_mean)"
   ]
  },
  {
   "cell_type": "markdown",
   "metadata": {},
   "source": [
    "\n",
    "### 15. Now we want to label the values in d. First create an empty array \"f\" with the same shape (i.e. 2x3x5) as d using `np.empty`.\n"
   ]
  },
  {
   "cell_type": "code",
   "execution_count": 32,
   "metadata": {},
   "outputs": [
    {
     "name": "stdout",
     "output_type": "stream",
     "text": [
      "[[[0.03125449 0.86146921 0.13079443 0.62407195 0.15226565]\n",
      "  [0.34639169 0.66998703 0.50348558 0.18183358 0.6875883 ]\n",
      "  [0.46069541 0.71628006 0.53023978 0.6451577  0.71216019]]\n",
      "\n",
      " [[0.51501252 0.32931468 0.84711878 0.34082186 0.18618508]\n",
      "  [0.27610823 0.81234654 0.84479754 0.04236517 0.5301402 ]\n",
      "  [0.80198518 0.53690604 0.08437465 0.38239891 0.53766485]]]\n"
     ]
    }
   ],
   "source": [
    "### [your code here]\n",
    "f = np.empty((2,3,5))\n",
    "print(f)"
   ]
  },
  {
   "cell_type": "markdown",
   "metadata": {},
   "source": [
    "\n",
    "\n",
    "\n",
    "### 16. Populate the values in f. For each value in d, if it's larger than d_min but smaller than d_mean, assign 25 to the corresponding value in f.\n",
    "If a value in d is larger than d_mean but smaller than d_max, assign 75 to the corresponding value in f.\n",
    "If a value equals to d_mean, assign 50 to the corresponding value in f.\n",
    "Assign 0 to the corresponding value(s) in f for d_min in d.\n",
    "Assign 100 to the corresponding value(s) in f for d_max in d.\n",
    "In the end, f should have only the following values: 0, 25, 50, 75, and 100.\n",
    "Note: you don't have to use Numpy in this question.\n",
    "\n"
   ]
  },
  {
   "cell_type": "code",
   "execution_count": 34,
   "metadata": {},
   "outputs": [
    {
     "name": "stdout",
     "output_type": "stream",
     "text": [
      "[[[  0. 100.  25.  75.  25.]\n",
      "  [ 25.  75.  75.  25.  75.]\n",
      "  [ 25.  75.  75.  75.  75.]]\n",
      "\n",
      " [[ 75.  25.  75.  25.  25.]\n",
      "  [ 25.  75.  75.  25.  75.]\n",
      "  [ 75.  75.  25.  25.  75.]]]\n"
     ]
    }
   ],
   "source": [
    "### [your code here]\n",
    "for i in range(d.shape[0]):\n",
    "    for j in range(d.shape[1]):\n",
    "        for k in range(d.shape[2]):\n",
    "            value = d[i, j, k]\n",
    "            if value == d_min:\n",
    "                f[i, j, k] = 0\n",
    "            elif value == d_max:\n",
    "                f[i, j, k] = 100\n",
    "            elif value == d_mean:\n",
    "                f[i, j, k] = 50\n",
    "            elif d_min < value < d_mean:\n",
    "                f[i, j, k] = 25\n",
    "            elif d_mean < value < d_max:\n",
    "                f[i, j, k] = 75\n",
    "print(f)"
   ]
  },
  {
   "cell_type": "markdown",
   "metadata": {},
   "source": [
    "\n",
    "\n",
    "\n",
    "\n",
    "### 17. Print d and f. Do you have your expected f?\n",
    "For instance, if your d is:\n",
    "array([[[1.85836099, 1.67064465, 1.62576044, 1.40243961, 1.88454931],\n",
    "        [1.75354326, 1.69403643, 1.36729252, 1.61415071, 1.12104981],\n",
    "        [1.72201435, 1.1862918 , 1.87078449, 1.7726778 , 1.88180042]],\n",
    "\n",
    "       [[1.44747908, 1.31673383, 1.02000951, 1.52218947, 1.97066381],\n",
    "        [1.79129243, 1.74983003, 1.96028037, 1.85166831, 1.65450881],\n",
    "        [1.18068344, 1.9587381 , 1.00656599, 1.93402165, 1.73514584]]])\n",
    "\n",
    "Your f should be:\n",
    "array([[[ 75.,  75.,  75.,  25.,  75.],\n",
    "        [ 75.,  75.,  25.,  25.,  25.],\n",
    "        [ 75.,  25.,  75.,  75.,  75.]],\n",
    "\n",
    "       [[ 25.,  25.,  25.,  25., 100.],\n",
    "        [ 75.,  75.,  75.,  75.,  75.],\n",
    "        [ 25.,  75.,   0.,  75.,  75.]]])\n",
    "\n"
   ]
  },
  {
   "cell_type": "code",
   "execution_count": 35,
   "metadata": {},
   "outputs": [
    {
     "name": "stdout",
     "output_type": "stream",
     "text": [
      "[[[1.03125449 1.86146921 1.13079443 1.62407195 1.15226565]\n",
      "  [1.34639169 1.66998703 1.50348558 1.18183358 1.6875883 ]\n",
      "  [1.46069541 1.71628006 1.53023978 1.6451577  1.71216019]]\n",
      "\n",
      " [[1.51501252 1.32931468 1.84711878 1.34082186 1.18618508]\n",
      "  [1.27610823 1.81234654 1.84479754 1.04236517 1.5301402 ]\n",
      "  [1.80198518 1.53690604 1.08437465 1.38239891 1.53766485]]]\n",
      "_____________________________\n",
      "[[[  0. 100.  25.  75.  25.]\n",
      "  [ 25.  75.  75.  25.  75.]\n",
      "  [ 25.  75.  75.  75.  75.]]\n",
      "\n",
      " [[ 75.  25.  75.  25.  25.]\n",
      "  [ 25.  75.  75.  25.  75.]\n",
      "  [ 75.  75.  25.  25.  75.]]]\n"
     ]
    }
   ],
   "source": [
    "### [your code here]\n",
    "print(d)\n",
    "print(\"_____________________________\")\n",
    "print(f)"
   ]
  },
  {
   "cell_type": "markdown",
   "metadata": {},
   "source": [
    "### 18. Bonus question: instead of using numbers (i.e. 0, 25, 50, 75, and 100), how to use string values \n",
    "(\"A\", \"B\", \"C\", \"D\", and \"E\") to label the array elements? You are expecting the result to be:\n",
    "array([[[ 'D',  'D',  'D',  'B',  'D'],\n",
    "        [ 'D',  'D',  'B',  'B',  'B'],\n",
    "        [ 'D',  'B',  'D',  'D',  'D']],\n",
    "\n",
    "       [[ 'B',  'B',  'B',  'B',  'E'],\n",
    "        [ 'D',  'D',  'D',  'D',  'D'],\n",
    "        [ 'B',  'D',   'A',  'D', 'D']]])\n",
    "Again, you don't need Numpy in this question."
   ]
  },
  {
   "cell_type": "code",
   "execution_count": null,
   "metadata": {},
   "outputs": [
    {
     "name": "stdout",
     "output_type": "stream",
     "text": [
      "[[['A' 'E' 'B' 'D' 'B']\n",
      "  ['B' 'D' 'D' 'B' 'D']\n",
      "  ['B' 'D' 'D' 'D' 'D']]\n",
      "\n",
      " [['D' 'B' 'D' 'B' 'B']\n",
      "  ['B' 'D' 'D' 'B' 'D']\n",
      "  ['D' 'D' 'B' 'B' 'D']]]\n"
     ]
    }
   ],
   "source": [
    "### [your code here]\n",
    "f = np.empty(d.shape, dtype=str)\n",
    "for i in range(d.shape[0]):\n",
    "    for j in range(d.shape[1]):\n",
    "        for k in range(d.shape[2]):\n",
    "            value = d[i, j, k]\n",
    "            if value == d_min:\n",
    "                f[i, j, k] = 'A'\n",
    "            elif value == d_max:\n",
    "                f[i, j, k] = 'E'\n",
    "            elif value == d_mean:\n",
    "                f[i, j, k] = 'C'\n",
    "            elif d_min < value < d_mean:\n",
    "                f[i, j, k] = 'B'\n",
    "            elif d_mean < value < d_max:\n",
    "                f[i, j, k] = 'D'\n",
    "\n",
    "print(f)"
   ]
  },
  {
   "cell_type": "code",
   "execution_count": null,
   "metadata": {},
   "outputs": [],
   "source": []
  }
 ],
 "metadata": {
  "kernelspec": {
   "display_name": "Python 3",
   "language": "python",
   "name": "python3"
  },
  "language_info": {
   "codemirror_mode": {
    "name": "ipython",
    "version": 3
   },
   "file_extension": ".py",
   "mimetype": "text/x-python",
   "name": "python",
   "nbconvert_exporter": "python",
   "pygments_lexer": "ipython3",
   "version": "3.11.9"
  }
 },
 "nbformat": 4,
 "nbformat_minor": 2
}
