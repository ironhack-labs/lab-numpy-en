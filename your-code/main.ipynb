{
 "cells": [
  {
   "cell_type": "markdown",
   "metadata": {},
   "source": [
    "# Lab | Numpy Deep Dive"
   ]
  },
  {
   "cell_type": "markdown",
   "metadata": {},
   "source": [
    "### 1. Import the NUMPY package under the name np.\n"
   ]
  },
  {
   "cell_type": "code",
   "execution_count": 1,
   "metadata": {},
   "outputs": [],
   "source": [
    "### [your code here]\n",
    "import numpy as np\n"
   ]
  },
  {
   "cell_type": "markdown",
   "metadata": {},
   "source": [
    "\n",
    "\n",
    "### 2. Print the NUMPY version and the configuration.\n"
   ]
  },
  {
   "cell_type": "code",
   "execution_count": 4,
   "metadata": {},
   "outputs": [
    {
     "name": "stdout",
     "output_type": "stream",
     "text": [
      "Current ver of numpy is  2.2.2\n"
     ]
    }
   ],
   "source": [
    "### [your code here]\n",
    "print(\"Current ver of numpy is \", np.__version__)\n"
   ]
  },
  {
   "cell_type": "markdown",
   "metadata": {},
   "source": [
    "### 3. Generate a 2x3x5 3-dimensional array with random values. Assign the array to variable \"a\"\n",
    "Challenge: there are at least three easy ways that use numpy to generate random arrays. How many ways can you find?\n"
   ]
  },
  {
   "cell_type": "code",
   "execution_count": 14,
   "metadata": {},
   "outputs": [
    {
     "data": {
      "text/plain": [
       "array([[[ 13286.88, -22156.16,  17326.99,  87195.3 , -52872.1 ],\n",
       "        [-57902.07,  80199.36,  97600.98, -47714.2 ,  98924.68],\n",
       "        [  2752.82, -91776.78, -45280.8 , -94617.44, -26058.45]],\n",
       "\n",
       "       [[ 85438.74, -51971.72, -32451.29,   1856.59,  60857.19],\n",
       "        [ 42721.58,  76269.7 ,  75440.92,  42845.68,  36312.63],\n",
       "        [ 63891.02,  30795.04,  64508.52, -71720.88,  -6459.73]]])"
      ]
     },
     "execution_count": 14,
     "metadata": {},
     "output_type": "execute_result"
    }
   ],
   "source": [
    "### [your code here]\n",
    "a = np.random.random((2, 3, 5)) # array of float numbers between 0 and 1\n",
    "a = np.random.randint(-1000, 1001, (2, 3, 5)) #  array of int  numbers between -1000 and  1000\n",
    "a = np.round(np.random.uniform(-100000, 100001, (2, 3, 5)), 2) # array of float  numbers between -100,000 and  100,000\n",
    "a\n"
   ]
  },
  {
   "cell_type": "markdown",
   "metadata": {},
   "source": [
    "\n",
    "### 4. Print a.\n"
   ]
  },
  {
   "cell_type": "code",
   "execution_count": 15,
   "metadata": {},
   "outputs": [
    {
     "name": "stdout",
     "output_type": "stream",
     "text": [
      "[[[ 13286.88 -22156.16  17326.99  87195.3  -52872.1 ]\n",
      "  [-57902.07  80199.36  97600.98 -47714.2   98924.68]\n",
      "  [  2752.82 -91776.78 -45280.8  -94617.44 -26058.45]]\n",
      "\n",
      " [[ 85438.74 -51971.72 -32451.29   1856.59  60857.19]\n",
      "  [ 42721.58  76269.7   75440.92  42845.68  36312.63]\n",
      "  [ 63891.02  30795.04  64508.52 -71720.88  -6459.73]]]\n"
     ]
    }
   ],
   "source": [
    "### [your code here]\n",
    "print(a)"
   ]
  },
  {
   "cell_type": "markdown",
   "metadata": {},
   "source": [
    "### 5. Create a 5x2x3 3-dimensional array with all values equaling 1.\n",
    "### Assign the array to variable \"b\"\n"
   ]
  },
  {
   "cell_type": "code",
   "execution_count": 16,
   "metadata": {},
   "outputs": [],
   "source": [
    "### [your code here]\n",
    "b = np.ones((5, 2, 3), dtype=float)"
   ]
  },
  {
   "cell_type": "markdown",
   "metadata": {},
   "source": [
    "\n",
    "### 6. Print b.\n"
   ]
  },
  {
   "cell_type": "code",
   "execution_count": 17,
   "metadata": {},
   "outputs": [
    {
     "name": "stdout",
     "output_type": "stream",
     "text": [
      "[[[1. 1. 1.]\n",
      "  [1. 1. 1.]]\n",
      "\n",
      " [[1. 1. 1.]\n",
      "  [1. 1. 1.]]\n",
      "\n",
      " [[1. 1. 1.]\n",
      "  [1. 1. 1.]]\n",
      "\n",
      " [[1. 1. 1.]\n",
      "  [1. 1. 1.]]\n",
      "\n",
      " [[1. 1. 1.]\n",
      "  [1. 1. 1.]]]\n"
     ]
    }
   ],
   "source": [
    "### [your code here]\n",
    "print(b)"
   ]
  },
  {
   "cell_type": "markdown",
   "metadata": {},
   "source": [
    "\n",
    "### 7. Do a and b have the same size? How do you prove that in Python code?\n"
   ]
  },
  {
   "cell_type": "code",
   "execution_count": 23,
   "metadata": {},
   "outputs": [
    {
     "name": "stdout",
     "output_type": "stream",
     "text": [
      " Arrays a and b have the same size: 30\n"
     ]
    }
   ],
   "source": [
    "### [your code here]\n",
    "if a.size == b.size:\n",
    "    print(f\" Arrays a and b have the same size: {a.size}\")"
   ]
  },
  {
   "cell_type": "markdown",
   "metadata": {},
   "source": [
    "\n",
    "### 8. Are you able to add a and b? Why or why not?\n"
   ]
  },
  {
   "cell_type": "code",
   "execution_count": 34,
   "metadata": {},
   "outputs": [
    {
     "name": "stdout",
     "output_type": "stream",
     "text": [
      "Arrays a and b have different shape operands could not be broadcast together with shapes (2,3,5) (5,2,3) \n"
     ]
    }
   ],
   "source": [
    "### [your code here]\n",
    "try:\n",
    "    a + b\n",
    "except ValueError as e:\n",
    "    print(\"Arrays a and b have different shape\", e)\n"
   ]
  },
  {
   "cell_type": "markdown",
   "metadata": {},
   "source": [
    "\n",
    "\n",
    "### 9. Transpose b so that it has the same structure of a (i.e. become a 2x3x5 array). Assign the transposed array to varialbe \"c\".\n"
   ]
  },
  {
   "cell_type": "code",
   "execution_count": 41,
   "metadata": {},
   "outputs": [
    {
     "name": "stdout",
     "output_type": "stream",
     "text": [
      "[[[1. 1. 1. 1. 1.]\n",
      "  [1. 1. 1. 1. 1.]\n",
      "  [1. 1. 1. 1. 1.]]\n",
      "\n",
      " [[1. 1. 1. 1. 1.]\n",
      "  [1. 1. 1. 1. 1.]\n",
      "  [1. 1. 1. 1. 1.]]]\n"
     ]
    }
   ],
   "source": [
    "### [your code here]\n",
    "c = b.transpose(1,2,0)\n",
    "print(c)"
   ]
  },
  {
   "cell_type": "markdown",
   "metadata": {},
   "source": [
    "\n",
    "### 10. Try to add a and c. Now it should work. Assign the sum to variable \"d\". But why does it work now?\n"
   ]
  },
  {
   "cell_type": "code",
   "execution_count": 43,
   "metadata": {},
   "outputs": [],
   "source": [
    "### [your code here]\n",
    "try:\n",
    "    d = a + c\n",
    "except ValueError as e:\n",
    "    print(\"Arrays a and c have different shape\", e)"
   ]
  },
  {
   "cell_type": "markdown",
   "metadata": {},
   "source": [
    "\n",
    "### 11. Print a and d. Notice the difference and relation of the two array in terms of the values? Explain.\n"
   ]
  },
  {
   "cell_type": "code",
   "execution_count": 45,
   "metadata": {},
   "outputs": [
    {
     "name": "stdout",
     "output_type": "stream",
     "text": [
      "a =\n",
      " [[[ 13286.88 -22156.16  17326.99  87195.3  -52872.1 ]\n",
      "  [-57902.07  80199.36  97600.98 -47714.2   98924.68]\n",
      "  [  2752.82 -91776.78 -45280.8  -94617.44 -26058.45]]\n",
      "\n",
      " [[ 85438.74 -51971.72 -32451.29   1856.59  60857.19]\n",
      "  [ 42721.58  76269.7   75440.92  42845.68  36312.63]\n",
      "  [ 63891.02  30795.04  64508.52 -71720.88  -6459.73]]]\n",
      "d =\n",
      " [[[ 13287.88 -22155.16  17327.99  87196.3  -52871.1 ]\n",
      "  [-57901.07  80200.36  97601.98 -47713.2   98925.68]\n",
      "  [  2753.82 -91775.78 -45279.8  -94616.44 -26057.45]]\n",
      "\n",
      " [[ 85439.74 -51970.72 -32450.29   1857.59  60858.19]\n",
      "  [ 42722.58  76270.7   75441.92  42846.68  36313.63]\n",
      "  [ 63892.02  30796.04  64509.52 -71719.88  -6458.73]]]\n"
     ]
    }
   ],
   "source": [
    "### [your code here]\n",
    "print(\"a =\\n\", a)\n",
    "print(\"d =\\n\", d)\n",
    "\n"
   ]
  },
  {
   "cell_type": "markdown",
   "metadata": {},
   "source": [
    "\n",
    "### 12. Multiply a and c. Assign the result to e.\n"
   ]
  },
  {
   "cell_type": "code",
   "execution_count": 46,
   "metadata": {},
   "outputs": [],
   "source": [
    "### [your code here]\n",
    "e = a * c"
   ]
  },
  {
   "cell_type": "markdown",
   "metadata": {},
   "source": [
    "\n",
    "\n",
    "### 13. Does e equal to a? Why or why not?\n"
   ]
  },
  {
   "cell_type": "code",
   "execution_count": 47,
   "metadata": {},
   "outputs": [
    {
     "name": "stdout",
     "output_type": "stream",
     "text": [
      "a =\n",
      " [[[ 13286.88 -22156.16  17326.99  87195.3  -52872.1 ]\n",
      "  [-57902.07  80199.36  97600.98 -47714.2   98924.68]\n",
      "  [  2752.82 -91776.78 -45280.8  -94617.44 -26058.45]]\n",
      "\n",
      " [[ 85438.74 -51971.72 -32451.29   1856.59  60857.19]\n",
      "  [ 42721.58  76269.7   75440.92  42845.68  36312.63]\n",
      "  [ 63891.02  30795.04  64508.52 -71720.88  -6459.73]]]\n",
      "e =\n",
      " [[[ 13286.88 -22156.16  17326.99  87195.3  -52872.1 ]\n",
      "  [-57902.07  80199.36  97600.98 -47714.2   98924.68]\n",
      "  [  2752.82 -91776.78 -45280.8  -94617.44 -26058.45]]\n",
      "\n",
      " [[ 85438.74 -51971.72 -32451.29   1856.59  60857.19]\n",
      "  [ 42721.58  76269.7   75440.92  42845.68  36312.63]\n",
      "  [ 63891.02  30795.04  64508.52 -71720.88  -6459.73]]]\n"
     ]
    }
   ],
   "source": [
    "### [your code here]\n",
    "print(\"a =\\n\", a)\n",
    "print(\"e =\\n\", e)\n",
    "\n",
    "# a equals e because we mulitiplied each element in a by 1\n"
   ]
  },
  {
   "cell_type": "markdown",
   "metadata": {},
   "source": [
    "\n",
    "\n",
    "### 14. Identify the max, min, and mean values in d. Assign those values to variables \"d_max\", \"d_min\", and \"d_mean\"\n"
   ]
  },
  {
   "cell_type": "code",
   "execution_count": 52,
   "metadata": {},
   "outputs": [
    {
     "name": "stdout",
     "output_type": "stream",
     "text": [
      "d_max = 98925.68, d_min = -94616.44, d_mean = 12575.77\n"
     ]
    }
   ],
   "source": [
    "### [your code here]\n",
    "d_max = np.max(d)\n",
    "d_min = np.min(d)\n",
    "d_mean = round(np.mean(d), 2)\n",
    "\n",
    "print(f\"d_max = {d_max}, d_min = {d_min}, d_mean = {d_mean}\")\n"
   ]
  },
  {
   "cell_type": "markdown",
   "metadata": {},
   "source": [
    "\n",
    "### 15. Now we want to label the values in d. First create an empty array \"f\" with the same shape (i.e. 2x3x5) as d using `np.empty`.\n"
   ]
  },
  {
   "cell_type": "code",
   "execution_count": 55,
   "metadata": {},
   "outputs": [
    {
     "name": "stdout",
     "output_type": "stream",
     "text": [
      "[[[ 13286.88 -22156.16  17326.99  87195.3  -52872.1 ]\n",
      "  [-57902.07  80199.36  97600.98 -47714.2   98924.68]\n",
      "  [  2752.82 -91776.78 -45280.8  -94617.44 -26058.45]]\n",
      "\n",
      " [[ 85438.74 -51971.72 -32451.29   1856.59  60857.19]\n",
      "  [ 42721.58  76269.7   75440.92  42845.68  36312.63]\n",
      "  [ 63891.02  30795.04  64508.52 -71720.88  -6459.73]]]\n"
     ]
    }
   ],
   "source": [
    "### [your code here]\n",
    "f = np.empty((2, 3, 5))\n",
    "print(f)\n"
   ]
  },
  {
   "cell_type": "markdown",
   "metadata": {},
   "source": [
    "\n",
    "\n",
    "\n",
    "### 16. Populate the values in f. For each value in d, if it's larger than d_min but smaller than d_mean, assign 25 to the corresponding value in f.\n",
    "If a value in d is larger than d_mean but smaller than d_max, assign 75 to the corresponding value in f.\n",
    "If a value equals to d_mean, assign 50 to the corresponding value in f.\n",
    "Assign 0 to the corresponding value(s) in f for d_min in d.\n",
    "Assign 100 to the corresponding value(s) in f for d_max in d.\n",
    "In the end, f should have only the following values: 0, 25, 50, 75, and 100.\n",
    "Note: you don't have to use Numpy in this question.\n",
    "\n"
   ]
  },
  {
   "cell_type": "code",
   "execution_count": 62,
   "metadata": {},
   "outputs": [],
   "source": [
    "### [your code here]\n",
    "for i in range(len(d)):\n",
    "    for j in range(len(d[i])):\n",
    "        for h in range(len(d[i][j])):\n",
    "            if d[i][j][h] == d_min:\n",
    "                f[i][j][h] = 0\n",
    "            elif d[i][j][h] == d_max:\n",
    "                f[i][j][h] = 100\n",
    "            elif d[i][j][h] == d_mean:\n",
    "                f[i][j][h] = 50\n",
    "            elif d[i][j][h] < d_mean:\n",
    "                f[i][j][h] = 25\n",
    "            else:\n",
    "                f[i][j][h] = 75\n"
   ]
  },
  {
   "cell_type": "markdown",
   "metadata": {},
   "source": [
    "\n",
    "\n",
    "\n",
    "\n",
    "### 17. Print d and f. Do you have your expected f?\n",
    "For instance, if your d is:\n",
    "array([[[1.85836099, 1.67064465, 1.62576044, 1.40243961, 1.88454931],\n",
    "        [1.75354326, 1.69403643, 1.36729252, 1.61415071, 1.12104981],\n",
    "        [1.72201435, 1.1862918 , 1.87078449, 1.7726778 , 1.88180042]],\n",
    "\n",
    "       [[1.44747908, 1.31673383, 1.02000951, 1.52218947, 1.97066381],\n",
    "        [1.79129243, 1.74983003, 1.96028037, 1.85166831, 1.65450881],\n",
    "        [1.18068344, 1.9587381 , 1.00656599, 1.93402165, 1.73514584]]])\n",
    "\n",
    "Your f should be:\n",
    "array([[[ 75.,  75.,  75.,  25.,  75.],\n",
    "        [ 75.,  75.,  25.,  25.,  25.],\n",
    "        [ 75.,  25.,  75.,  75.,  75.]],\n",
    "\n",
    "       [[ 25.,  25.,  25.,  25., 100.],\n",
    "        [ 75.,  75.,  75.,  75.,  75.],\n",
    "        [ 25.,  75.,   0.,  75.,  75.]]])\n",
    "\n"
   ]
  },
  {
   "cell_type": "code",
   "execution_count": 61,
   "metadata": {},
   "outputs": [
    {
     "name": "stdout",
     "output_type": "stream",
     "text": [
      "[[[ 13287.88 -22155.16  17327.99  87196.3  -52871.1 ]\n",
      "  [-57901.07  80200.36  97601.98 -47713.2   98925.68]\n",
      "  [  2753.82 -91775.78 -45279.8  -94616.44 -26057.45]]\n",
      "\n",
      " [[ 85439.74 -51970.72 -32450.29   1857.59  60858.19]\n",
      "  [ 42722.58  76270.7   75441.92  42846.68  36313.63]\n",
      "  [ 63892.02  30796.04  64509.52 -71719.88  -6458.73]]]\n",
      "[[[ 75.  25.  75.  75.  25.]\n",
      "  [ 25.  75.  75.  25. 100.]\n",
      "  [ 25.  25.  25.   0.  25.]]\n",
      "\n",
      " [[ 75.  25.  25.  25.  75.]\n",
      "  [ 75.  75.  75.  75.  75.]\n",
      "  [ 75.  75.  75.  25.  25.]]]\n"
     ]
    }
   ],
   "source": [
    "### [your code here]\n",
    "print(d)\n",
    "\n",
    "print(f)"
   ]
  },
  {
   "cell_type": "markdown",
   "metadata": {},
   "source": [
    "### 18. Bonus question: instead of using numbers (i.e. 0, 25, 50, 75, and 100), how to use string values \n",
    "(\"A\", \"B\", \"C\", \"D\", and \"E\") to label the array elements? You are expecting the result to be:\n",
    "array([[[ 'D',  'D',  'D',  'B',  'D'],\n",
    "        [ 'D',  'D',  'B',  'B',  'B'],\n",
    "        [ 'D',  'B',  'D',  'D',  'D']],\n",
    "\n",
    "       [[ 'B',  'B',  'B',  'B',  'E'],\n",
    "        [ 'D',  'D',  'D',  'D',  'D'],\n",
    "        [ 'B',  'D',   'A',  'D', 'D']]])\n",
    "Again, you don't need Numpy in this question."
   ]
  },
  {
   "cell_type": "code",
   "execution_count": 63,
   "metadata": {},
   "outputs": [
    {
     "name": "stdout",
     "output_type": "stream",
     "text": [
      "[[['' '' '' '' '']\n",
      "  ['' '' '' '' '']\n",
      "  ['' '' '' '' '']]\n",
      "\n",
      " [['' '' '' '' '']\n",
      "  ['' '' '' '' '']\n",
      "  ['' '' '' '' '']]]\n",
      "\n",
      "[[['D' 'B' 'D' 'D' 'B']\n",
      "  ['B' 'D' 'D' 'B' 'E']\n",
      "  ['B' 'B' 'B' 'A' 'B']]\n",
      "\n",
      " [['D' 'B' 'B' 'B' 'D']\n",
      "  ['D' 'D' 'D' 'D' 'D']\n",
      "  ['D' 'D' 'D' 'B' 'B']]]\n"
     ]
    }
   ],
   "source": [
    "### [your code here]\n",
    "\n",
    "g = np.empty((2, 3, 5), dtype='str')\n",
    "print(g)\n",
    "for i in range(len(d)):\n",
    "    for j in range(len(d[i])):\n",
    "        for h in range(len(d[i][j])):\n",
    "            if d[i][j][h] == d_min:\n",
    "                g[i][j][h] = 'A'\n",
    "            elif d[i][j][h] == d_max:\n",
    "                g[i][j][h] = 'E'\n",
    "            elif d[i][j][h] == d_mean:\n",
    "                g[i][j][h] = 'C'\n",
    "            elif d[i][j][h] < d_mean:\n",
    "                g[i][j][h] = 'B'\n",
    "            else:\n",
    "                g[i][j][h] = 'D'\n",
    "\n",
    "print()\n",
    "print(g)\n"
   ]
  }
 ],
 "metadata": {
  "kernelspec": {
   "display_name": "Python 3",
   "language": "python",
   "name": "python3"
  },
  "language_info": {
   "codemirror_mode": {
    "name": "ipython",
    "version": 3
   },
   "file_extension": ".py",
   "mimetype": "text/x-python",
   "name": "python",
   "nbconvert_exporter": "python",
   "pygments_lexer": "ipython3",
   "version": "3.13.1"
  }
 },
 "nbformat": 4,
 "nbformat_minor": 2
}
