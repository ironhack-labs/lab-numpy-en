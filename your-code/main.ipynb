{
 "cells": [
  {
   "cell_type": "markdown",
   "id": "6bc92912",
   "metadata": {},
   "source": [
    "1. Import the NUMPY package under the name np."
   ]
  },
  {
   "cell_type": "code",
   "execution_count": 1,
   "id": "b03c6af3",
   "metadata": {
    "lines_to_next_cell": 2
   },
   "outputs": [],
   "source": [
    "#[your code here]\n",
    "import numpy as np"
   ]
  },
  {
   "cell_type": "markdown",
   "id": "747ec855",
   "metadata": {},
   "source": [
    "2. Print the NUMPY version and the configuration."
   ]
  },
  {
   "cell_type": "code",
   "execution_count": null,
   "id": "679084de",
   "metadata": {},
   "outputs": [
    {
     "name": "stdout",
     "output_type": "stream",
     "text": [
      "1.26.4\n"
     ]
    },
    {
     "data": {
      "text/plain": [
       "'\\n1.15.2\\n'"
      ]
     },
     "execution_count": 2,
     "metadata": {},
     "output_type": "execute_result"
    }
   ],
   "source": [
    "#[your code here]\n",
    "print(np.version.version)\n",
    "\"\"\"\n",
    "1.15.2\n",
    "\"\"\""
   ]
  },
  {
   "cell_type": "markdown",
   "id": "ed070ec3",
   "metadata": {},
   "source": [
    "3. Generate a 2x3x5 3-dimensional array with random values. Assign the array to variable \"a\"\n",
    "Challenge: there are at least three easy ways that use numpy to generate random arrays. How many ways can you find?"
   ]
  },
  {
   "cell_type": "code",
   "execution_count": null,
   "id": "77c8fcea",
   "metadata": {},
   "outputs": [
    {
     "name": "stdout",
     "output_type": "stream",
     "text": [
      "Array generado con np.random.rand:\n",
      "[[[0.31400412 0.89094671 0.3568243  0.53912641 0.55370618]\n",
      "  [0.40161218 0.5996011  0.13521672 0.802483   0.71030026]\n",
      "  [0.05669969 0.33912242 0.05662264 0.58302488 0.69219882]]\n",
      "\n",
      " [[0.69915132 0.07248887 0.11511851 0.93140531 0.3895057 ]\n",
      "  [0.26723976 0.34164203 0.84205182 0.56821298 0.99510543]\n",
      "  [0.93597404 0.23256409 0.05958396 0.7021813  0.05616356]]]\n"
     ]
    }
   ],
   "source": [
    "#[your code here]\n",
    "\n",
    "#metodo 1\n",
    "\n",
    "# Generar un array 2x3x5 con valores aleatorios entre 0 y 1\n",
    "a = np.random.rand(2, 3, 5)\n",
    "print(\"Array generado con np.random.rand:\")\n",
    "\n",
    "# I found more than 3 ways to do it\n",
    "\n",
    "\n"
   ]
  },
  {
   "cell_type": "markdown",
   "id": "f12cb670",
   "metadata": {},
   "source": [
    "4. Print a."
   ]
  },
  {
   "cell_type": "code",
   "execution_count": 4,
   "id": "ba0a3ce7",
   "metadata": {},
   "outputs": [
    {
     "name": "stdout",
     "output_type": "stream",
     "text": [
      "[[[0.31400412 0.89094671 0.3568243  0.53912641 0.55370618]\n",
      "  [0.40161218 0.5996011  0.13521672 0.802483   0.71030026]\n",
      "  [0.05669969 0.33912242 0.05662264 0.58302488 0.69219882]]\n",
      "\n",
      " [[0.69915132 0.07248887 0.11511851 0.93140531 0.3895057 ]\n",
      "  [0.26723976 0.34164203 0.84205182 0.56821298 0.99510543]\n",
      "  [0.93597404 0.23256409 0.05958396 0.7021813  0.05616356]]]\n"
     ]
    }
   ],
   "source": [
    "print (a)"
   ]
  },
  {
   "cell_type": "markdown",
   "id": "e62a61b2",
   "metadata": {},
   "source": [
    "\n",
    "5. Create a 5x2x3 3-dimensional array with all values equaling 1.\n",
    "Assign the array to variable \"b\""
   ]
  },
  {
   "cell_type": "code",
   "execution_count": 5,
   "id": "d8bc2adb",
   "metadata": {},
   "outputs": [
    {
     "name": "stdout",
     "output_type": "stream",
     "text": [
      "Array creado con np.ones:\n"
     ]
    }
   ],
   "source": [
    "#[your code here]\n",
    "b = np.ones((5, 2, 3))\n",
    "print(\"Array creado con np.ones:\")"
   ]
  },
  {
   "cell_type": "markdown",
   "id": "57b5a68d",
   "metadata": {},
   "source": [
    "6. Print b."
   ]
  },
  {
   "cell_type": "code",
   "execution_count": 6,
   "id": "22e2c21d",
   "metadata": {},
   "outputs": [
    {
     "name": "stdout",
     "output_type": "stream",
     "text": [
      "[[[1. 1. 1.]\n",
      "  [1. 1. 1.]]\n",
      "\n",
      " [[1. 1. 1.]\n",
      "  [1. 1. 1.]]\n",
      "\n",
      " [[1. 1. 1.]\n",
      "  [1. 1. 1.]]\n",
      "\n",
      " [[1. 1. 1.]\n",
      "  [1. 1. 1.]]\n",
      "\n",
      " [[1. 1. 1.]\n",
      "  [1. 1. 1.]]]\n"
     ]
    }
   ],
   "source": [
    "print (b)"
   ]
  },
  {
   "cell_type": "markdown",
   "id": "c6927640",
   "metadata": {},
   "source": [
    "7. Do a and b have the same size? How do you prove that in Python code?"
   ]
  },
  {
   "cell_type": "code",
   "execution_count": 7,
   "id": "3adbe51d",
   "metadata": {},
   "outputs": [
    {
     "name": "stdout",
     "output_type": "stream",
     "text": [
      "Size of a: 30\n",
      "Size of b: 30\n",
      "a and b have the same size.\n"
     ]
    }
   ],
   "source": [
    "#[your code here]\n",
    "print(\"Size of a:\", a.size)\n",
    "print(\"Size of b:\", b.size)\n",
    "\n",
    "if a.size == b.size:\n",
    "    print(\"a and b have the same size.\")\n",
    "else:\n",
    "    print(\"a and b do not have the same size.\")"
   ]
  },
  {
   "cell_type": "markdown",
   "id": "7fbfa190",
   "metadata": {},
   "source": [
    "8. Are you able to add a and b? Why or why not?"
   ]
  },
  {
   "cell_type": "code",
   "execution_count": 9,
   "id": "7fa1a70a",
   "metadata": {},
   "outputs": [
    {
     "name": "stdout",
     "output_type": "stream",
     "text": [
      "a and b cannot be added. Reason:\n",
      "operands could not be broadcast together with shapes (2,3,5) (5,2,3) \n"
     ]
    }
   ],
   "source": [
    "#[your code here]\n",
    "try:\n",
    "    # Attempt to add a and b\n",
    "    result = a + b\n",
    "    print(\"a and b can be added. Result:\")\n",
    "    print(result)\n",
    "except ValueError as e:\n",
    "    print(\"a and b cannot be added. Reason:\")\n",
    "    print(e)"
   ]
  },
  {
   "cell_type": "markdown",
   "id": "15cd313f",
   "metadata": {},
   "source": [
    "9. Transpose b so that it has the same structure of a (i.e. become a 2x3x5 array). Assign the transposed array to varialbe \"c\"."
   ]
  },
  {
   "cell_type": "code",
   "execution_count": 10,
   "id": "cd9e5871",
   "metadata": {},
   "outputs": [
    {
     "name": "stdout",
     "output_type": "stream",
     "text": [
      "Shape of c: (2, 3, 5)\n",
      "Transposed array c:\n",
      "[[[1. 1. 1. 1. 1.]\n",
      "  [1. 1. 1. 1. 1.]\n",
      "  [1. 1. 1. 1. 1.]]\n",
      "\n",
      " [[1. 1. 1. 1. 1.]\n",
      "  [1. 1. 1. 1. 1.]\n",
      "  [1. 1. 1. 1. 1.]]]\n"
     ]
    }
   ],
   "source": [
    "#[your code here]\n",
    "c = np.transpose(b, (1, 2, 0))  # Reorder axes: (5, 2, 3) -> (2, 3, 5)\n",
    "\n",
    "# Check the shape of c\n",
    "print(\"Shape of c:\", c.shape)\n",
    "print(\"Transposed array c:\")\n",
    "print(c)"
   ]
  },
  {
   "cell_type": "markdown",
   "id": "0c919e93",
   "metadata": {},
   "source": [
    "10. Try to add a and c. Now it should work. Assign the sum to varialbe \"d\". But why does it work now?"
   ]
  },
  {
   "cell_type": "code",
   "execution_count": 11,
   "id": "a4946269",
   "metadata": {},
   "outputs": [],
   "source": [
    "#[your code here]\n",
    "d = a + c"
   ]
  },
  {
   "cell_type": "markdown",
   "id": "37d71d7a",
   "metadata": {},
   "source": [
    "11. Print a and d. Notice the difference and relation of the two array in terms of the values? Explain."
   ]
  },
  {
   "cell_type": "code",
   "execution_count": 13,
   "id": "895d25fb",
   "metadata": {},
   "outputs": [
    {
     "name": "stdout",
     "output_type": "stream",
     "text": [
      "Array a:\n",
      "[[[0.31400412 0.89094671 0.3568243  0.53912641 0.55370618]\n",
      "  [0.40161218 0.5996011  0.13521672 0.802483   0.71030026]\n",
      "  [0.05669969 0.33912242 0.05662264 0.58302488 0.69219882]]\n",
      "\n",
      " [[0.69915132 0.07248887 0.11511851 0.93140531 0.3895057 ]\n",
      "  [0.26723976 0.34164203 0.84205182 0.56821298 0.99510543]\n",
      "  [0.93597404 0.23256409 0.05958396 0.7021813  0.05616356]]]\n",
      "\n",
      "Array b:\n",
      "[[[1. 1. 1.]\n",
      "  [1. 1. 1.]]\n",
      "\n",
      " [[1. 1. 1.]\n",
      "  [1. 1. 1.]]\n",
      "\n",
      " [[1. 1. 1.]\n",
      "  [1. 1. 1.]]\n",
      "\n",
      " [[1. 1. 1.]\n",
      "  [1. 1. 1.]]\n",
      "\n",
      " [[1. 1. 1.]\n",
      "  [1. 1. 1.]]]\n",
      "\n",
      "Array d:\n",
      "[[[1.31400412 1.89094671 1.3568243  1.53912641 1.55370618]\n",
      "  [1.40161218 1.5996011  1.13521672 1.802483   1.71030026]\n",
      "  [1.05669969 1.33912242 1.05662264 1.58302488 1.69219882]]\n",
      "\n",
      " [[1.69915132 1.07248887 1.11511851 1.93140531 1.3895057 ]\n",
      "  [1.26723976 1.34164203 1.84205182 1.56821298 1.99510543]\n",
      "  [1.93597404 1.23256409 1.05958396 1.7021813  1.05616356]]]\n",
      "\n",
      "Shape of a: (2, 3, 5)\n",
      "Shape of b: (5, 2, 3)\n",
      "Shape of d: (2, 3, 5)\n"
     ]
    }
   ],
   "source": [
    "#[your code here]\n",
    "print(\"Array a:\")\n",
    "print(a)\n",
    "print(\"\\nArray b:\")\n",
    "print(b)\n",
    "print(\"\\nArray d:\")\n",
    "print(d)\n",
    "\n",
    "# Compare their shapes\n",
    "print(\"\\nShape of a:\", a.shape)\n",
    "print(\"Shape of b:\", b.shape)\n",
    "print(\"Shape of d:\", d.shape)"
   ]
  },
  {
   "cell_type": "markdown",
   "id": "58ff87e5",
   "metadata": {},
   "source": [
    "12. Multiply a and c. Assign the result to e."
   ]
  },
  {
   "cell_type": "code",
   "execution_count": 14,
   "id": "8384340f",
   "metadata": {},
   "outputs": [
    {
     "name": "stdout",
     "output_type": "stream",
     "text": [
      "Array e (product of a and c):\n",
      "[[[0.31400412 0.89094671 0.3568243  0.53912641 0.55370618]\n",
      "  [0.40161218 0.5996011  0.13521672 0.802483   0.71030026]\n",
      "  [0.05669969 0.33912242 0.05662264 0.58302488 0.69219882]]\n",
      "\n",
      " [[0.69915132 0.07248887 0.11511851 0.93140531 0.3895057 ]\n",
      "  [0.26723976 0.34164203 0.84205182 0.56821298 0.99510543]\n",
      "  [0.93597404 0.23256409 0.05958396 0.7021813  0.05616356]]]\n"
     ]
    }
   ],
   "source": [
    "#[your code here]\n",
    "# Assuming a and c are already defined and have the same shape\n",
    "e = a * c  # Element-wise multiplication\n",
    "\n",
    "# Print the result\n",
    "print(\"Array e (product of a and c):\")\n",
    "print(e)\n"
   ]
  },
  {
   "cell_type": "markdown",
   "id": "c4efd692",
   "metadata": {},
   "source": [
    "13. Does e equal to a? Why or why not?"
   ]
  },
  {
   "cell_type": "code",
   "execution_count": 15,
   "id": "0aadbdaf",
   "metadata": {},
   "outputs": [
    {
     "name": "stdout",
     "output_type": "stream",
     "text": [
      "Does e equal a? True\n",
      "e and a are equal.\n"
     ]
    }
   ],
   "source": [
    "#[your code here]\n",
    "# Check if e is equal to a\n",
    "are_equal = np.array_equal(e, a)\n",
    "\n",
    "print(\"Does e equal a?\", are_equal)\n",
    "\n",
    "# Explanation if they are not equal\n",
    "if not are_equal:\n",
    "    print(\"e and a are not equal because their values differ.\")\n",
    "else:\n",
    "    print(\"e and a are equal.\")\n"
   ]
  },
  {
   "cell_type": "markdown",
   "id": "f1b6f79f",
   "metadata": {},
   "source": [
    "14. Identify the max, min, and mean values in d. Assign those values to variables \"d_max\", \"d_min\", and \"d_mean\""
   ]
  },
  {
   "cell_type": "code",
   "execution_count": 16,
   "id": "2b9c6a3c",
   "metadata": {},
   "outputs": [
    {
     "name": "stdout",
     "output_type": "stream",
     "text": [
      "Maximum value in d: 1.9951054315912282\n",
      "Minimum value in d: 1.0561635630138002\n",
      "Mean value in d: 1.474662603980286\n"
     ]
    }
   ],
   "source": [
    "#[your code here]\n",
    "\n",
    "d_max = np.max(d)  # Maximum value in d\n",
    "d_min = np.min(d)  # Minimum value in d\n",
    "d_mean = np.mean(d)  # Mean value in d\n",
    "\n",
    "# Print the results\n",
    "print(\"Maximum value in d:\", d_max)\n",
    "print(\"Minimum value in d:\", d_min)\n",
    "print(\"Mean value in d:\", d_mean)\n"
   ]
  },
  {
   "cell_type": "markdown",
   "id": "dd8e8104",
   "metadata": {},
   "source": [
    "15. Now we want to label the values in d. First create an empty array \"f\" with the same shape (i.e. 2x3x5) as d using `np.empty`."
   ]
  },
  {
   "cell_type": "code",
   "execution_count": 24,
   "id": "246dc5ed",
   "metadata": {},
   "outputs": [
    {
     "name": "stdout",
     "output_type": "stream",
     "text": [
      "Array f (empty, same shape as d):\n",
      "[[[0.31400412 0.89094671 0.3568243  0.53912641 0.55370618]\n",
      "  [0.40161218 0.5996011  0.13521672 0.802483   0.71030026]\n",
      "  [0.05669969 0.33912242 0.05662264 0.58302488 0.69219882]]\n",
      "\n",
      " [[0.69915132 0.07248887 0.11511851 0.93140531 0.3895057 ]\n",
      "  [0.26723976 0.34164203 0.84205182 0.56821298 0.99510543]\n",
      "  [0.93597404 0.23256409 0.05958396 0.7021813  0.05616356]]]\n"
     ]
    }
   ],
   "source": [
    "#[your code here]\n",
    "f = np.empty(d.shape)\n",
    "\n",
    "# Print the result\n",
    "print(\"Array f (empty, same shape as d):\")\n",
    "print(f)"
   ]
  },
  {
   "cell_type": "code",
   "execution_count": null,
   "id": "ec65dba6",
   "metadata": {},
   "outputs": [],
   "source": [
    "\"\"\"\n",
    "#16. Populate the values in f. For each value in d, if it's larger than d_min but smaller than d_mean, assign 25 to the corresponding value in f.\n",
    "If a value in d is larger than d_mean but smaller than d_max, assign 75 to the corresponding value in f.\n",
    "If a value equals to d_mean, assign 50 to the corresponding value in f.\n",
    "Assign 0 to the corresponding value(s) in f for d_min in d.\n",
    "Assign 100 to the corresponding value(s) in f for d_max in d.\n",
    "In the end, f should have only the following values: 0, 25, 50, 75, and 100.\n",
    "Note: you don't have to use Numpy in this question.\n",
    "\"\"\""
   ]
  },
  {
   "cell_type": "code",
   "execution_count": 25,
   "id": "d71016cd",
   "metadata": {},
   "outputs": [
    {
     "name": "stdout",
     "output_type": "stream",
     "text": [
      "Array f after populating values:\n",
      "[[[ 25.  75.  25.  75.  75.]\n",
      "  [ 25.  75.  25.  75.  75.]\n",
      "  [ 25.  25.  25.  75.  75.]]\n",
      "\n",
      " [[ 75.  25.  25.  75.  25.]\n",
      "  [ 25.  25.  75.  75. 100.]\n",
      "  [ 75.  25.  25.  75.   0.]]]\n"
     ]
    }
   ],
   "source": [
    "#[your code here]\n",
    "for i in range(d.shape[0]):  # Iterate over the first dimension\n",
    "    for j in range(d.shape[1]):  # Iterate over the second dimension\n",
    "        for k in range(d.shape[2]):  # Iterate over the third dimension\n",
    "            value = d[i][j][k]  # Get the value at the current position\n",
    "            if value == d_min:\n",
    "                f[i][j][k] = 0\n",
    "            elif value == d_max:\n",
    "                f[i][j][k] = 100\n",
    "            elif value == d_mean:\n",
    "                f[i][j][k] = 50\n",
    "            elif d_min < value < d_mean:\n",
    "                f[i][j][k] = 25\n",
    "            elif d_mean < value < d_max:\n",
    "                f[i][j][k] = 75\n",
    "\n",
    "# Print the populated f\n",
    "print(\"Array f after populating values:\")\n",
    "print(f)"
   ]
  },
  {
   "cell_type": "code",
   "execution_count": null,
   "id": "16a9c513",
   "metadata": {},
   "outputs": [],
   "source": [
    "\"\"\"\n",
    "#17. Print d and f. Do you have your expected f?\n",
    "For instance, if your d is:\n",
    "array([[[1.85836099, 1.67064465, 1.62576044, 1.40243961, 1.88454931],\n",
    "        [1.75354326, 1.69403643, 1.36729252, 1.61415071, 1.12104981],\n",
    "        [1.72201435, 1.1862918 , 1.87078449, 1.7726778 , 1.88180042]],\n",
    "\n",
    "       [[1.44747908, 1.31673383, 1.02000951, 1.52218947, 1.97066381],\n",
    "        [1.79129243, 1.74983003, 1.96028037, 1.85166831, 1.65450881],\n",
    "        [1.18068344, 1.9587381 , 1.00656599, 1.93402165, 1.73514584]]])\n",
    "\n",
    "Your f should be:\n",
    "array([[[ 75.,  75.,  75.,  25.,  75.],\n",
    "        [ 75.,  75.,  25.,  25.,  25.],\n",
    "        [ 75.,  25.,  75.,  75.,  75.]],\n",
    "\n",
    "       [[ 25.,  25.,  25.,  25., 100.],\n",
    "        [ 75.,  75.,  75.,  75.,  75.],\n",
    "        [ 25.,  75.,   0.,  75.,  75.]]])\n",
    "\"\"\""
   ]
  },
  {
   "cell_type": "code",
   "execution_count": 27,
   "id": "d3a78e97",
   "metadata": {},
   "outputs": [
    {
     "name": "stdout",
     "output_type": "stream",
     "text": [
      "Array d:\n",
      "[[[1.31400412 1.89094671 1.3568243  1.53912641 1.55370618]\n",
      "  [1.40161218 1.5996011  1.13521672 1.802483   1.71030026]\n",
      "  [1.05669969 1.33912242 1.05662264 1.58302488 1.69219882]]\n",
      "\n",
      " [[1.69915132 1.07248887 1.11511851 1.93140531 1.3895057 ]\n",
      "  [1.26723976 1.34164203 1.84205182 1.56821298 1.99510543]\n",
      "  [1.93597404 1.23256409 1.05958396 1.7021813  1.05616356]]]\n",
      "\n",
      "Array f (labeled values):\n",
      "[[[ 25.  75.  25.  75.  75.]\n",
      "  [ 25.  75.  25.  75.  75.]\n",
      "  [ 25.  25.  25.  75.  75.]]\n",
      "\n",
      " [[ 75.  25.  25.  75.  25.]\n",
      "  [ 25.  25.  75.  75. 100.]\n",
      "  [ 75.  25.  25.  75.   0.]]]\n"
     ]
    }
   ],
   "source": [
    "#[your code here]\n",
    "print(\"Array d:\")\n",
    "print(d)\n",
    "\n",
    "# Print the array f\n",
    "print(\"\\nArray f (labeled values):\")\n",
    "print(f)"
   ]
  },
  {
   "cell_type": "code",
   "execution_count": null,
   "id": "5a5a0bc9",
   "metadata": {},
   "outputs": [],
   "source": [
    "\"\"\"\n",
    "#18. Bonus question: instead of using numbers (i.e. 0, 25, 50, 75, and 100), how to use string values \n",
    "(\"A\", \"B\", \"C\", \"D\", and \"E\") to label the array elements? You are expecting the result to be:\n",
    "array([[[ 'D',  'D',  'D',  'B',  'D'],\n",
    "        [ 'D',  'D',  'B',  'B',  'B'],\n",
    "        [ 'D',  'B',  'D',  'D',  'D']],\n",
    "\n",
    "       [[ 'B',  'B',  'B',  'B',  'E'],\n",
    "        [ 'D',  'D',  'D',  'D',  'D'],\n",
    "        [ 'B',  'D',   'A',  'D', 'D']]])\n",
    "Again, you don't need Numpy in this question.\n",
    "\"\"\""
   ]
  },
  {
   "cell_type": "code",
   "execution_count": null,
   "id": "658dbb9d",
   "metadata": {},
   "outputs": [],
   "source": []
  }
 ],
 "metadata": {
  "jupytext": {
   "cell_metadata_filter": "-all",
   "main_language": "python",
   "notebook_metadata_filter": "-all"
  },
  "kernelspec": {
   "display_name": "base",
   "language": "python",
   "name": "python3"
  },
  "language_info": {
   "codemirror_mode": {
    "name": "ipython",
    "version": 3
   },
   "file_extension": ".py",
   "mimetype": "text/x-python",
   "name": "python",
   "nbconvert_exporter": "python",
   "pygments_lexer": "ipython3",
   "version": "3.12.4"
  }
 },
 "nbformat": 4,
 "nbformat_minor": 5
}
