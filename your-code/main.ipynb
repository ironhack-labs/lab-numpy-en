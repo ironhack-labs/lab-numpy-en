{
 "cells": [
  {
   "cell_type": "code",
   "execution_count": 2,
   "id": "c8e6a82f-3128-4042-bf19-e7d9c2483580",
   "metadata": {},
   "outputs": [],
   "source": [
    "# %% \n",
    "\n",
    "#1. Import the NUMPY package under the name np.\n",
    "import numpy as np\n"
   ]
  },
  {
   "cell_type": "code",
   "execution_count": 3,
   "id": "72fc9b77-2904-4bb0-85ec-cc1c7c32fa49",
   "metadata": {},
   "outputs": [
    {
     "name": "stdout",
     "output_type": "stream",
     "text": [
      "2.1.3\n"
     ]
    }
   ],
   "source": [
    "# %% \n",
    "\n",
    "#2. Print the NUMPY version and the configuration.\n",
    "print(np.__version__)\n",
    "\n",
    "#[your code here]"
   ]
  },
  {
   "cell_type": "code",
   "execution_count": 4,
   "id": "4e6dd973-8465-416c-9eb2-6b7056f2adf4",
   "metadata": {},
   "outputs": [
    {
     "name": "stdout",
     "output_type": "stream",
     "text": [
      "[[[9 7 3 4 8]\n",
      "  [4 9 5 3 3]\n",
      "  [7 7 4 7 5]]\n",
      "\n",
      " [[2 3 2 5 6]\n",
      "  [6 7 3 7 9]\n",
      "  [9 8 8 6 1]]]\n"
     ]
    }
   ],
   "source": [
    "# %% \n",
    "\n",
    "#3. Generate a 2x3x5 3-dimensional array with random values. Assign the array to variable \"a\"\n",
    "# Challenge: there are at least three easy ways that use numpy to generate random arrays. How many ways can you find?\n",
    "\n",
    "from numpy import random\n",
    "\n",
    "a = np.random.randint(1, 10, (2, 3, 5))\n",
    "a1 = np.random.choice(range(1, 11), size=(2, 3, 5))\n",
    "a2 = np.random.rand(2, 3, 5)\n",
    "\n",
    "print(a)\n",
    "\n",
    "\n"
   ]
  },
  {
   "cell_type": "code",
   "execution_count": 5,
   "id": "bb5ccd39-2e7d-4e90-b6ae-a3e133ca1567",
   "metadata": {},
   "outputs": [
    {
     "name": "stdout",
     "output_type": "stream",
     "text": [
      "[[[9 7 3 4 8]\n",
      "  [4 9 5 3 3]\n",
      "  [7 7 4 7 5]]\n",
      "\n",
      " [[2 3 2 5 6]\n",
      "  [6 7 3 7 9]\n",
      "  [9 8 8 6 1]]]\n"
     ]
    }
   ],
   "source": [
    "\n",
    "#4. Print a.\n",
    "\n",
    "print(a)"
   ]
  },
  {
   "cell_type": "code",
   "execution_count": 6,
   "id": "df2cfde6-2608-4d0e-a2f2-575a07078c18",
   "metadata": {},
   "outputs": [
    {
     "data": {
      "text/plain": [
       "array([[[1, 1, 1],\n",
       "        [1, 1, 1]],\n",
       "\n",
       "       [[1, 1, 1],\n",
       "        [1, 1, 1]],\n",
       "\n",
       "       [[1, 1, 1],\n",
       "        [1, 1, 1]],\n",
       "\n",
       "       [[1, 1, 1],\n",
       "        [1, 1, 1]],\n",
       "\n",
       "       [[1, 1, 1],\n",
       "        [1, 1, 1]]], dtype=int32)"
      ]
     },
     "execution_count": 6,
     "metadata": {},
     "output_type": "execute_result"
    }
   ],
   "source": [
    "# %% \n",
    "\n",
    "#5. Create a 5x2x3 3-dimensional array with all values equaling 1.\n",
    "#Assign the array to variable \"b\"\n",
    "b = np.random.randint(1,2,(5,2,3))\n",
    "b"
   ]
  },
  {
   "cell_type": "code",
   "execution_count": 7,
   "id": "55eac3a8-82e0-4d6b-95d0-a9fc8d52700b",
   "metadata": {},
   "outputs": [
    {
     "name": "stdout",
     "output_type": "stream",
     "text": [
      "[[[1 1 1]\n",
      "  [1 1 1]]\n",
      "\n",
      " [[1 1 1]\n",
      "  [1 1 1]]\n",
      "\n",
      " [[1 1 1]\n",
      "  [1 1 1]]\n",
      "\n",
      " [[1 1 1]\n",
      "  [1 1 1]]\n",
      "\n",
      " [[1 1 1]\n",
      "  [1 1 1]]]\n"
     ]
    }
   ],
   "source": [
    "# %% \n",
    "\n",
    "#6. Print b.\n",
    "print(b)\n",
    "\n",
    "#[your code here]"
   ]
  },
  {
   "cell_type": "code",
   "execution_count": 8,
   "id": "f5cd3182-8e34-4ac2-a2ff-92ef372a008a",
   "metadata": {},
   "outputs": [
    {
     "data": {
      "text/plain": [
       "True"
      ]
     },
     "execution_count": 8,
     "metadata": {},
     "output_type": "execute_result"
    }
   ],
   "source": [
    "# %% \n",
    "\n",
    "#7. Do a and b have the same size? How do you prove that in Python code?\n",
    "\n",
    "a.size == b.size"
   ]
  },
  {
   "cell_type": "code",
   "execution_count": 9,
   "id": "4be070dc-efcd-4a92-8e27-3d00ebad0228",
   "metadata": {},
   "outputs": [
    {
     "name": "stdout",
     "output_type": "stream",
     "text": [
      "(2, 3, 5)\n",
      "(4, 3, 5)\n"
     ]
    },
    {
     "data": {
      "text/plain": [
       "array([[[9, 7, 3, 4, 8],\n",
       "        [4, 9, 5, 3, 3],\n",
       "        [7, 7, 4, 7, 5]],\n",
       "\n",
       "       [[2, 3, 2, 5, 6],\n",
       "        [6, 7, 3, 7, 9],\n",
       "        [9, 8, 8, 6, 1]],\n",
       "\n",
       "       [[1, 1, 1, 1, 1],\n",
       "        [1, 1, 1, 1, 1],\n",
       "        [1, 1, 1, 1, 1]],\n",
       "\n",
       "       [[1, 1, 1, 1, 1],\n",
       "        [1, 1, 1, 1, 1],\n",
       "        [1, 1, 1, 1, 1]]], dtype=int32)"
      ]
     },
     "execution_count": 9,
     "metadata": {},
     "output_type": "execute_result"
    }
   ],
   "source": [
    "# %% \n",
    "\n",
    "#8. Are you able to add a and b? Why or why not?\n",
    "# array = matrix\n",
    "a.shape == b.shape\n",
    "\n",
    "# no because the arrays were with different shapes - a have 2 bigger blocks and b 5 blocks // rows and columns are different\n",
    "# to fix this:\n",
    "\n",
    "b_reshaped = b.reshape(2, 3, 5)  \n",
    "print(b_reshaped.shape)  # (2, 3, 5)\n",
    "\n",
    "combined = np.concatenate((a, b_reshaped), axis=0)\n",
    "print(combined.shape)  # (4, 3, 5)\n",
    "combined\n",
    "\n",
    "# Now we have, the same numbers of columns and rows and we can merge both arrays"
   ]
  },
  {
   "cell_type": "code",
   "execution_count": 10,
   "id": "d7d1d4fe-052e-450d-97ac-08df4791b788",
   "metadata": {},
   "outputs": [
    {
     "data": {
      "text/plain": [
       "array([[[1, 1, 1, 1, 1],\n",
       "        [1, 1, 1, 1, 1],\n",
       "        [1, 1, 1, 1, 1]],\n",
       "\n",
       "       [[1, 1, 1, 1, 1],\n",
       "        [1, 1, 1, 1, 1],\n",
       "        [1, 1, 1, 1, 1]]], dtype=int32)"
      ]
     },
     "execution_count": 10,
     "metadata": {},
     "output_type": "execute_result"
    }
   ],
   "source": [
    "# %% \n",
    "\n",
    "#9. Transpose b so that it has the same structure of a (i.e. become a 2x3x5 array). Assign the transposed array to varialbe \"c\".\n",
    "c = b.transpose(1, 2, 0)\n",
    "c\n",
    "\n"
   ]
  },
  {
   "cell_type": "code",
   "execution_count": 11,
   "id": "b8be7431-64fb-45bb-902a-5ceb4f409622",
   "metadata": {},
   "outputs": [
    {
     "data": {
      "text/plain": [
       "True"
      ]
     },
     "execution_count": 11,
     "metadata": {},
     "output_type": "execute_result"
    }
   ],
   "source": [
    "# %% \n",
    "\n",
    "#10. Try to add a and c. Now it should work. Assign the sum to varialbe \"d\". But why does it work now?\n",
    "\n",
    "d = a + c \n",
    "a.shape == c.shape # they have the same shape"
   ]
  },
  {
   "cell_type": "code",
   "execution_count": 12,
   "id": "0a271266-c155-4160-ae1d-cacba2d06008",
   "metadata": {},
   "outputs": [
    {
     "data": {
      "text/plain": [
       "array([[[10,  8,  4,  5,  9],\n",
       "        [ 5, 10,  6,  4,  4],\n",
       "        [ 8,  8,  5,  8,  6]],\n",
       "\n",
       "       [[ 3,  4,  3,  6,  7],\n",
       "        [ 7,  8,  4,  8, 10],\n",
       "        [10,  9,  9,  7,  2]]], dtype=int32)"
      ]
     },
     "execution_count": 12,
     "metadata": {},
     "output_type": "execute_result"
    }
   ],
   "source": [
    "# %% \n",
    "\n",
    "#11. Print a and d. Notice the difference and relation of the two array in terms of the values? Explain.\n",
    "a\n",
    "d\n"
   ]
  },
  {
   "cell_type": "code",
   "execution_count": 22,
   "id": "f6f45eba-0d67-4738-bf1c-97d1858c3e0d",
   "metadata": {},
   "outputs": [
    {
     "name": "stdout",
     "output_type": "stream",
     "text": [
      "Array a:\n",
      "[[[9 7 3 4 8]\n",
      "  [4 9 5 3 3]\n",
      "  [7 7 4 7 5]]\n",
      "\n",
      " [[2 3 2 5 6]\n",
      "  [6 7 3 7 9]\n",
      "  [9 8 8 6 1]]]\n",
      "\n",
      "Array c:\n",
      "[[[1 1 1 1 1]\n",
      "  [1 1 1 1 1]\n",
      "  [1 1 1 1 1]]\n",
      "\n",
      " [[1 1 1 1 1]\n",
      "  [1 1 1 1 1]\n",
      "  [1 1 1 1 1]]]\n",
      "\n",
      "Array e (a * c):\n",
      "[[[9 7 3 4 8]\n",
      "  [4 9 5 3 3]\n",
      "  [7 7 4 7 5]]\n",
      "\n",
      " [[2 3 2 5 6]\n",
      "  [6 7 3 7 9]\n",
      "  [9 8 8 6 1]]]\n"
     ]
    }
   ],
   "source": [
    "# %% \n",
    "\n",
    "#12. Multiply a and c. Assign the result to e.\n",
    "\n",
    "\n",
    "e = a * c  \n",
    "\n",
    "\n",
    "print(\"Array a:\")\n",
    "print(a)\n",
    "print(\"\\nArray c:\")\n",
    "print(c)\n",
    "print(\"\\nArray e (a * c):\")\n",
    "print(e)\n"
   ]
  },
  {
   "cell_type": "code",
   "execution_count": null,
   "id": "c6bd3547-c782-47ce-ab38-47e363c1f859",
   "metadata": {},
   "outputs": [
    {
     "name": "stdout",
     "output_type": "stream",
     "text": [
      "False\n",
      "2256986703600\n",
      "2256986702064\n"
     ]
    }
   ],
   "source": [
    "# %% \n",
    "\n",
    "#13. Does e equal to a? Why or why not?\n",
    "\n",
    "# memory space (data stored in 2 different locations) - e = new array, new location // e = new object // separate object\n",
    "\n",
    "print(np.may_share_memory(a, e))  #This confirms that a and e do not share memory as they are separate arrays.\n",
    "print(id(a))  #memory_id\n",
    "print(id(e))  #memory_id\n",
    "\n",
    "# Check if e is equal to a\n",
    "are_equal = np.array_equal(a, e) # their values are the same\n",
    "\n",
    "\n",
    "#summary:\n",
    "# Parent Table:The original array (a) that contains the initial data.\n",
    "\n",
    "# Child Table:Created from the parent array (a) through operations like slicing, transposing, or others that do not duplicate the data.\n",
    "# These arrays share memory with the parent table.\n",
    "\n",
    "# New Arrays (Independent) = e \n",
    "# Created by explicit copies (.copy()) or operations that allocate new memory, such as concatenation. \n",
    "#These arrays do not share memory with the original array.\n",
    "\n",
    "\n"
   ]
  },
  {
   "cell_type": "code",
   "execution_count": null,
   "id": "b4225ecd-fe54-4790-8083-879ba4ed85a8",
   "metadata": {},
   "outputs": [
    {
     "name": "stdout",
     "output_type": "stream",
     "text": [
      "Max value in d: 10\n",
      "Min value in d: 2\n",
      "Mean value in d: 6.566666666666666\n"
     ]
    }
   ],
   "source": [
    "# %% \n",
    "\n",
    "#14. Identify the max, min, and mean values in d. Assign those values to variables \"d_max\", \"d_min\", and \"d_mean\"\n",
    "\n",
    "\n",
    "d_max = np.max(d)   \n",
    "d_min = np.min(d)  \n",
    "d_mean = np.mean(d) \n",
    "\n",
    "\n",
    "print(\"Max value in d:\", d_max)\n",
    "print(\"Min value in d:\", d_min)\n",
    "print(\"Mean value in d:\", d_mean)\n"
   ]
  },
  {
   "cell_type": "code",
   "execution_count": null,
   "id": "68bdf53d-417d-4075-a64f-e91e072aa044",
   "metadata": {},
   "outputs": [
    {
     "name": "stdout",
     "output_type": "stream",
     "text": [
      "Empty array f:\n",
      "[[[3 6 9 3 7]\n",
      "  [9 8 1 1 4]\n",
      "  [2 4 4 7 4]]\n",
      "\n",
      " [[2 6 3 8 5]\n",
      "  [8 3 4 7 1]\n",
      "  [3 3 6 3 2]]]\n"
     ]
    }
   ],
   "source": [
    "# %% \n",
    "\n",
    "#15. Now we want to label the values in d. First create an empty array \"f\" with the same shape (i.e. 2x3x5) as d using `np.empty`.\n",
    "\n",
    "\n",
    "d = np.random.randint(1, 10, (2, 3, 5))  \n",
    "\n",
    "# np.empty like - copies the structure of the original array,  matches the shape (blocks, columns, rows) and data type.\n",
    "# but without initializing the values (random /garbage from previous array)\n",
    "f = np.empty_like(d)  \n",
    "\n",
    "# Print the result\n",
    "print(\"Empty array f:\")\n",
    "print(f)\n",
    "\n",
    "\n",
    "#other different functions\n",
    "np.zeros_like #new array with the same shape and data type as the input array, but with all elements initialized to zero.\n",
    "np.ones_like new array with the same shape and data type as the input array, but with all elements initialized to one.\n"
   ]
  },
  {
   "cell_type": "code",
   "execution_count": 46,
   "id": "40af95df-23b0-4761-8b63-a5ec000df97e",
   "metadata": {},
   "outputs": [
    {
     "name": "stdout",
     "output_type": "stream",
     "text": [
      "[[75, 25, 0, 75, 100], [75, 0, 100, 25, 75], [25, 100, 25, 25, 100]]\n",
      "[[75, 25, 25, 25, 0], [0, 75, 75, 75, 25], [50, 75, 100, 25, 75]]\n"
     ]
    }
   ],
   "source": [
    "# %% \n",
    "\n",
    "\n",
    "\"\"\"\n",
    "#16. Populate the values in f. For each value in d, if it's larger than d_min but smaller than d_mean, assign 25 to the corresponding value in f.\n",
    "If a value in d is larger than d_mean but smaller than d_max, assign 75 to the corresponding value in f.\n",
    "If a value equals to d_mean, assign 50 to the corresponding value in f.\n",
    "Assign 0 to the corresponding value(s) in f for d_min in d.\n",
    "Assign 100 to the corresponding value(s) in f for d_max in d.\n",
    "In the end, f should have only the following values: 0, 25, 50, 75, and 100.\n",
    "Note: you don't have to use Numpy in this question.\n",
    "\"\"\"\n",
    "\n",
    "\n",
    "d_flat = [value for sublist1 in d for sublist2 in sublist1 for value in sublist2]\n",
    "d_min = min(d_flat)\n",
    "d_mean = sum(d_flat) / len(d_flat)\n",
    "d_max = max(d_flat)\n",
    "\n",
    "\n",
    "f = [[[0 for _ in range(len(d[0][0]))] for _ in range(len(d[0]))] for _ in range(len(d))]\n",
    "\n",
    "\n",
    "for i in range(len(d)):\n",
    "    for j in range(len(d[i])):\n",
    "        for k in range(len(d[i][j])):\n",
    "            value = d[i][j][k]\n",
    "            if value == d_min:\n",
    "                f[i][j][k] = 0\n",
    "            elif value == d_max:\n",
    "                f[i][j][k] = 100\n",
    "            elif value == d_mean:\n",
    "                f[i][j][k] = 50\n",
    "            elif d_min < value < d_mean:\n",
    "                f[i][j][k] = 25\n",
    "            elif d_mean < value < d_max:\n",
    "                f[i][j][k] = 75\n",
    "\n",
    "\n",
    "for row in f:\n",
    "    print(row)"
   ]
  },
  {
   "cell_type": "code",
   "execution_count": 47,
   "id": "8dc04a15-311c-4662-aa72-cdbe685b34dc",
   "metadata": {},
   "outputs": [
    {
     "name": "stdout",
     "output_type": "stream",
     "text": [
      "d:\n",
      "[[[8 2 1 8 9]\n",
      "  [6 1 9 3 7]\n",
      "  [2 9 2 2 9]]\n",
      "\n",
      " [[6 2 3 3 1]\n",
      "  [1 8 7 8 2]\n",
      "  [5 8 9 2 7]]]\n",
      "\n",
      "f:\n",
      "[[[ 75  25   0  75 100]\n",
      "  [ 75   0 100  25  75]\n",
      "  [ 25 100  25  25 100]]\n",
      "\n",
      " [[ 75  25  25  25   0]\n",
      "  [  0  75  75  75  25]\n",
      "  [ 50  75 100  25  75]]]\n"
     ]
    }
   ],
   "source": [
    "# %% \n",
    "\n",
    "\n",
    "\"\"\"\n",
    "#17. Print d and f. Do you have your expected f?\n",
    "For instance, if your d is:\n",
    "array([[[1.85836099, 1.67064465, 1.62576044, 1.40243961, 1.88454931],\n",
    "        [1.75354326, 1.69403643, 1.36729252, 1.61415071, 1.12104981],\n",
    "        [1.72201435, 1.1862918 , 1.87078449, 1.7726778 , 1.88180042]],\n",
    "\n",
    "        [1.79129243, 1.74983003, 1.96028037, 1.85166831, 1.65450881],\n",
    "        [1.18068344, 1.9587381 , 1.00656599, 1.93402165, 1.73514584]]])\n",
    "\n",
    "Your f should be:\n",
    "array([[[ 75.,  75.,  75.,  25.,  75.],\n",
    "        [ 75.,  75.,  25.,  25.,  25.],\n",
    "        [ 75.,  25.,  75.,  75.,  75.]],\n",
    "\n",
    "[[ 25.,  25.,  25.,  25., 100.],\n",
    "        [ 75.,  75.,  75.,  75.,  75.],\n",
    "        [ 25.,  75.,   0.,  75.,  75.]]])\n",
    "\"\"\"\n",
    "\n",
    "import numpy as np\n",
    "\n",
    "\n",
    "\n",
    "\n",
    "d_min = np.min(d)\n",
    "d_mean = np.mean(d)\n",
    "d_max = np.max(d)\n",
    "\n",
    "\n",
    "f = np.empty_like(d)\n",
    "\n",
    "\n",
    "for i in range(d.shape[0]):  # Iterate over the first dimension\n",
    "    for j in range(d.shape[1]):  # Iterate over the second dimension\n",
    "        for k in range(d.shape[2]):  # Iterate over the third dimension\n",
    "            value = d[i, j, k]\n",
    "            if value == d_min:\n",
    "                f[i, j, k] = 0\n",
    "            elif value == d_max:\n",
    "                f[i, j, k] = 100\n",
    "            elif value == d_mean:\n",
    "                f[i, j, k] = 50\n",
    "            elif d_min < value < d_mean:\n",
    "                f[i, j, k] = 25\n",
    "            elif d_mean < value < d_max:\n",
    "                f[i, j, k] = 75\n",
    "\n",
    "\n",
    "\n",
    "print(\"d:\")\n",
    "print(d)\n",
    "print(\"\\nf:\")\n",
    "print(f)\n"
   ]
  }
 ],
 "metadata": {
  "kernelspec": {
   "display_name": "Python 3",
   "language": "python",
   "name": "python3"
  },
  "language_info": {
   "codemirror_mode": {
    "name": "ipython",
    "version": 3
   },
   "file_extension": ".py",
   "mimetype": "text/x-python",
   "name": "python",
   "nbconvert_exporter": "python",
   "pygments_lexer": "ipython3",
   "version": "3.12.7"
  }
 },
 "nbformat": 4,
 "nbformat_minor": 2
}
