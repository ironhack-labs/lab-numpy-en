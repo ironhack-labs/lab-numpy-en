{
 "cells": [
  {
   "cell_type": "markdown",
   "metadata": {},
   "source": [
    "# Lab | Numpy Deep Dive"
   ]
  },
  {
   "cell_type": "markdown",
   "metadata": {},
   "source": [
    "### 1. Import the NUMPY package under the name np.\n"
   ]
  },
  {
   "cell_type": "code",
   "execution_count": 65,
   "metadata": {},
   "outputs": [],
   "source": [
    "### [your code here]\n",
    "import numpy as np"
   ]
  },
  {
   "cell_type": "markdown",
   "metadata": {},
   "source": [
    "\n",
    "\n",
    "### 2. Print the NUMPY version and the configuration.\n"
   ]
  },
  {
   "cell_type": "code",
   "execution_count": 8,
   "metadata": {},
   "outputs": [
    {
     "name": "stdout",
     "output_type": "stream",
     "text": [
      "1.26.4\n",
      "Build Dependencies:\n",
      "  blas:\n",
      "    detection method: pkgconfig\n",
      "    found: true\n",
      "    include directory: /opt/anaconda3/include\n",
      "    lib directory: /opt/anaconda3/lib\n",
      "    name: openblas\n",
      "    openblas configuration: USE_64BITINT= DYNAMIC_ARCH=1 DYNAMIC_OLDER= NO_CBLAS=\n",
      "      NO_LAPACK=0 NO_LAPACKE= NO_AFFINITY=1 USE_OPENMP=0 VORTEX MAX_THREADS=128\n",
      "    pc file directory: /opt/anaconda3/lib/pkgconfig\n",
      "    version: 0.3.21\n",
      "  lapack:\n",
      "    detection method: internal\n",
      "    found: true\n",
      "    include directory: unknown\n",
      "    lib directory: unknown\n",
      "    name: dep4347739648\n",
      "    openblas configuration: unknown\n",
      "    pc file directory: unknown\n",
      "    version: 1.26.4\n",
      "Compilers:\n",
      "  c:\n",
      "    args: -ftree-vectorize, -fPIC, -fPIE, -fstack-protector-strong, -O2, -pipe, -isystem,\n",
      "      /opt/anaconda3/include, -fdebug-prefix-map=/var/folders/k1/30mswbxs7r1g6zwn8y4fyt500000gp/T/abs_a51i_mbs7m/croot/numpy_and_numpy_base_1708638620867/work=/usr/local/src/conda/numpy-base-1.26.4,\n",
      "      -fdebug-prefix-map=/opt/anaconda3=/usr/local/src/conda-prefix, -D_FORTIFY_SOURCE=2,\n",
      "      -isystem, /opt/anaconda3/include, -mmacosx-version-min=11.1\n",
      "    commands: arm64-apple-darwin20.0.0-clang\n",
      "    linker: ld64\n",
      "    linker args: -Wl,-pie, -Wl,-headerpad_max_install_names, -Wl,-dead_strip_dylibs,\n",
      "      -Wl,-rpath,/opt/anaconda3/lib, -L/opt/anaconda3/lib, -ftree-vectorize, -fPIC,\n",
      "      -fPIE, -fstack-protector-strong, -O2, -pipe, -isystem, /opt/anaconda3/include,\n",
      "      -fdebug-prefix-map=/var/folders/k1/30mswbxs7r1g6zwn8y4fyt500000gp/T/abs_a51i_mbs7m/croot/numpy_and_numpy_base_1708638620867/work=/usr/local/src/conda/numpy-base-1.26.4,\n",
      "      -fdebug-prefix-map=/opt/anaconda3=/usr/local/src/conda-prefix, -D_FORTIFY_SOURCE=2,\n",
      "      -isystem, /opt/anaconda3/include, -mmacosx-version-min=11.1\n",
      "    name: clang\n",
      "    version: 14.0.6\n",
      "  c++:\n",
      "    args: -ftree-vectorize, -fPIC, -fPIE, -fstack-protector-strong, -O2, -pipe, -stdlib=libc++,\n",
      "      -fvisibility-inlines-hidden, -fmessage-length=0, -isystem, /opt/anaconda3/include,\n",
      "      -fdebug-prefix-map=/var/folders/k1/30mswbxs7r1g6zwn8y4fyt500000gp/T/abs_a51i_mbs7m/croot/numpy_and_numpy_base_1708638620867/work=/usr/local/src/conda/numpy-base-1.26.4,\n",
      "      -fdebug-prefix-map=/opt/anaconda3=/usr/local/src/conda-prefix, -D_FORTIFY_SOURCE=2,\n",
      "      -isystem, /opt/anaconda3/include, -mmacosx-version-min=11.1\n",
      "    commands: arm64-apple-darwin20.0.0-clang++\n",
      "    linker: ld64\n",
      "    linker args: -Wl,-pie, -Wl,-headerpad_max_install_names, -Wl,-dead_strip_dylibs,\n",
      "      -Wl,-rpath,/opt/anaconda3/lib, -L/opt/anaconda3/lib, -ftree-vectorize, -fPIC,\n",
      "      -fPIE, -fstack-protector-strong, -O2, -pipe, -stdlib=libc++, -fvisibility-inlines-hidden,\n",
      "      -fmessage-length=0, -isystem, /opt/anaconda3/include, -fdebug-prefix-map=/var/folders/k1/30mswbxs7r1g6zwn8y4fyt500000gp/T/abs_a51i_mbs7m/croot/numpy_and_numpy_base_1708638620867/work=/usr/local/src/conda/numpy-base-1.26.4,\n",
      "      -fdebug-prefix-map=/opt/anaconda3=/usr/local/src/conda-prefix, -D_FORTIFY_SOURCE=2,\n",
      "      -isystem, /opt/anaconda3/include, -mmacosx-version-min=11.1\n",
      "    name: clang\n",
      "    version: 14.0.6\n",
      "  cython:\n",
      "    commands: cython\n",
      "    linker: cython\n",
      "    name: cython\n",
      "    version: 3.0.8\n",
      "Machine Information:\n",
      "  build:\n",
      "    cpu: aarch64\n",
      "    endian: little\n",
      "    family: aarch64\n",
      "    system: darwin\n",
      "  host:\n",
      "    cpu: aarch64\n",
      "    endian: little\n",
      "    family: aarch64\n",
      "    system: darwin\n",
      "Python Information:\n",
      "  path: /opt/anaconda3/bin/python\n",
      "  version: '3.12'\n",
      "SIMD Extensions:\n",
      "  baseline:\n",
      "  - NEON\n",
      "  - NEON_FP16\n",
      "  - NEON_VFPV4\n",
      "  - ASIMD\n",
      "  found:\n",
      "  - ASIMDHP\n",
      "  not found:\n",
      "  - ASIMDFHM\n",
      "\n"
     ]
    }
   ],
   "source": [
    "### [your code here]\n",
    "print(np.__version__)\n",
    "np.show_config()"
   ]
  },
  {
   "cell_type": "markdown",
   "metadata": {},
   "source": [
    "### 3. Generate a 2x3x5 3-dimensional array with random values. Assign the array to variable \"a\"\n",
    "Challenge: there are at least three easy ways that use numpy to generate random arrays. How many ways can you find?\n"
   ]
  },
  {
   "cell_type": "code",
   "execution_count": 17,
   "metadata": {},
   "outputs": [],
   "source": [
    "a = np.random.rand(2, 3, 5)  # Generates values between 0 and 1\n",
    "\n",
    "a_normal_dist = np.random.randn(2, 3, 5)  # Generates values from a normal distribution (mean=0, std=1)\n",
    "\n",
    "a_randint = np.random.randint(10, 100, (2,3,5))"
   ]
  },
  {
   "cell_type": "markdown",
   "metadata": {},
   "source": [
    "\n",
    "### 4. Print a.\n"
   ]
  },
  {
   "cell_type": "code",
   "execution_count": 18,
   "metadata": {},
   "outputs": [
    {
     "name": "stdout",
     "output_type": "stream",
     "text": [
      "[[[0.2308987  0.95157102 0.11308172 0.26292366 0.70022664]\n",
      "  [0.5850733  0.72930913 0.52903728 0.6266166  0.17130269]\n",
      "  [0.57306775 0.78709858 0.77193743 0.76610306 0.53558263]]\n",
      "\n",
      " [[0.58941166 0.3729463  0.34140398 0.09163842 0.0550272 ]\n",
      "  [0.06272358 0.15617385 0.87110526 0.96612195 0.83944623]\n",
      "  [0.82653597 0.78015353 0.87999142 0.79534223 0.79882763]]]\n",
      "[[[-1.02563312  1.38300053 -0.00555892 -0.12123539  1.10837304]\n",
      "  [-0.95932388 -0.23812287 -0.00719638  1.2964394  -0.79676558]\n",
      "  [-0.42715926  1.91137069 -0.00363406 -0.26406214 -0.23271128]]\n",
      "\n",
      " [[-0.12082157  1.7803981  -0.7089879   0.97843754  0.73318859]\n",
      "  [-0.12366576 -0.07979354  0.15100141 -0.44299813 -2.03649415]\n",
      "  [ 0.85819569  0.10169208 -1.333902    0.42805996 -0.19954078]]]\n",
      "[[[21 86 83 25 31]\n",
      "  [60 80 22 82 40]\n",
      "  [36 81 28 47 72]]\n",
      "\n",
      " [[38 31 27 74 84]\n",
      "  [80 65 23 53 35]\n",
      "  [40 94 11 63 24]]]\n"
     ]
    }
   ],
   "source": [
    "print(a)\n",
    "print(a_normal_dist)\n",
    "print(a_randint)"
   ]
  },
  {
   "cell_type": "markdown",
   "metadata": {},
   "source": [
    "### 5. Create a 5x2x3 3-dimensional array with all values equaling 1.\n",
    "### Assign the array to variable \"b\"\n"
   ]
  },
  {
   "cell_type": "code",
   "execution_count": 21,
   "metadata": {},
   "outputs": [],
   "source": [
    "b = np.full((5,2,3), 1)"
   ]
  },
  {
   "cell_type": "markdown",
   "metadata": {},
   "source": [
    "\n",
    "### 6. Print b.\n"
   ]
  },
  {
   "cell_type": "code",
   "execution_count": 22,
   "metadata": {},
   "outputs": [
    {
     "name": "stdout",
     "output_type": "stream",
     "text": [
      "[[[1 1 1]\n",
      "  [1 1 1]]\n",
      "\n",
      " [[1 1 1]\n",
      "  [1 1 1]]\n",
      "\n",
      " [[1 1 1]\n",
      "  [1 1 1]]\n",
      "\n",
      " [[1 1 1]\n",
      "  [1 1 1]]\n",
      "\n",
      " [[1 1 1]\n",
      "  [1 1 1]]]\n"
     ]
    }
   ],
   "source": [
    "print(b)"
   ]
  },
  {
   "cell_type": "markdown",
   "metadata": {},
   "source": [
    "\n",
    "### 7. Do a and b have the same size? How do you prove that in Python code?\n"
   ]
  },
  {
   "cell_type": "code",
   "execution_count": 23,
   "metadata": {},
   "outputs": [
    {
     "name": "stdout",
     "output_type": "stream",
     "text": [
      "Size of a: 30\n",
      "Size of b: 30\n"
     ]
    }
   ],
   "source": [
    "print(\"Size of a:\", a.size)\n",
    "print(\"Size of b:\", b.size)"
   ]
  },
  {
   "cell_type": "markdown",
   "metadata": {},
   "source": [
    "\n",
    "### 8. Are you able to add a and b? Why or why not?\n"
   ]
  },
  {
   "cell_type": "code",
   "execution_count": 37,
   "metadata": {},
   "outputs": [
    {
     "name": "stdout",
     "output_type": "stream",
     "text": [
      "error operands could not be broadcast together with shapes (2,3,5) (5,2,3) \n",
      "(2, 3, 5)\n",
      "(5, 2, 3)\n"
     ]
    }
   ],
   "source": [
    "\n",
    "try:\n",
    "    c = a+b\n",
    "    print (c)\n",
    "except ValueError as e: \n",
    "    print(\"error\", e)\n",
    "\n",
    "    #no, because the shapes are different\n",
    "\n",
    "print(a.shape)\n",
    "print(b.shape)"
   ]
  },
  {
   "cell_type": "markdown",
   "metadata": {},
   "source": [
    "\n",
    "\n",
    "### 9. Transpose b so that it has the same structure of a (i.e. become a 2x3x5 array). Assign the transposed array to varialbe \"c\".\n"
   ]
  },
  {
   "cell_type": "code",
   "execution_count": 58,
   "metadata": {},
   "outputs": [
    {
     "name": "stdout",
     "output_type": "stream",
     "text": [
      "[[[1 1 1 1 1]\n",
      "  [1 1 1 1 1]\n",
      "  [1 1 1 1 1]]\n",
      "\n",
      " [[1 1 1 1 1]\n",
      "  [1 1 1 1 1]\n",
      "  [1 1 1 1 1]]]\n"
     ]
    }
   ],
   "source": [
    "\n",
    "c = np.transpose(b, (1, 2, 0))\n",
    "\n",
    "print(c)"
   ]
  },
  {
   "cell_type": "markdown",
   "metadata": {},
   "source": [
    "\n",
    "### 10. Try to add a and c. Now it should work. Assign the sum to variable \"d\". But why does it work now?\n"
   ]
  },
  {
   "cell_type": "code",
   "execution_count": 43,
   "metadata": {},
   "outputs": [
    {
     "name": "stdout",
     "output_type": "stream",
     "text": [
      "[[[1.2308987  1.95157102 1.11308172 1.26292366 1.70022664]\n",
      "  [1.5850733  1.72930913 1.52903728 1.6266166  1.17130269]\n",
      "  [1.57306775 1.78709858 1.77193743 1.76610306 1.53558263]]\n",
      "\n",
      " [[1.58941166 1.3729463  1.34140398 1.09163842 1.0550272 ]\n",
      "  [1.06272358 1.15617385 1.87110526 1.96612195 1.83944623]\n",
      "  [1.82653597 1.78015353 1.87999142 1.79534223 1.79882763]]]\n",
      "success\n"
     ]
    }
   ],
   "source": [
    "try:\n",
    "    d = a+c\n",
    "    print (d)\n",
    "    print(\"success\")\n",
    "except ValueError as e: \n",
    "    print(\"error\", e)\n",
    "\n",
    "    #it works not because the shapes are the same."
   ]
  },
  {
   "cell_type": "markdown",
   "metadata": {},
   "source": [
    "\n",
    "### 11. Print a and d. Notice the difference and relation of the two array in terms of the values? Explain.\n"
   ]
  },
  {
   "cell_type": "code",
   "execution_count": 67,
   "metadata": {},
   "outputs": [
    {
     "name": "stdout",
     "output_type": "stream",
     "text": [
      "[[[0.2308987  0.95157102 0.11308172 0.26292366 0.70022664]\n",
      "  [0.5850733  0.72930913 0.52903728 0.6266166  0.17130269]\n",
      "  [0.57306775 0.78709858 0.77193743 0.76610306 0.53558263]]\n",
      "\n",
      " [[0.58941166 0.3729463  0.34140398 0.09163842 0.0550272 ]\n",
      "  [0.06272358 0.15617385 0.87110526 0.96612195 0.83944623]\n",
      "  [0.82653597 0.78015353 0.87999142 0.79534223 0.79882763]]] \n",
      "\n",
      "\n",
      "\n",
      "[[[1.2308987  1.95157102 1.11308172 1.26292366 1.70022664]\n",
      "  [1.5850733  1.72930913 1.52903728 1.6266166  1.17130269]\n",
      "  [1.57306775 1.78709858 1.77193743 1.76610306 1.53558263]]\n",
      "\n",
      " [[1.58941166 1.3729463  1.34140398 1.09163842 1.0550272 ]\n",
      "  [1.06272358 1.15617385 1.87110526 1.96612195 1.83944623]\n",
      "  [1.82653597 1.78015353 1.87999142 1.79534223 1.79882763]]]\n"
     ]
    }
   ],
   "source": [
    "print(a, \"\\n\\n\\n\")\n",
    "print(d)\n",
    "\n",
    "#d is now values a+c. i.e random values from a +"
   ]
  },
  {
   "cell_type": "markdown",
   "metadata": {},
   "source": [
    "\n",
    "### 12. Multiply a and c. Assign the result to e.\n"
   ]
  },
  {
   "cell_type": "code",
   "execution_count": 60,
   "metadata": {},
   "outputs": [
    {
     "name": "stdout",
     "output_type": "stream",
     "text": [
      "[[[0.2308987  0.95157102 0.11308172 0.26292366 0.70022664]\n",
      "  [0.5850733  0.72930913 0.52903728 0.6266166  0.17130269]\n",
      "  [0.57306775 0.78709858 0.77193743 0.76610306 0.53558263]]\n",
      "\n",
      " [[0.58941166 0.3729463  0.34140398 0.09163842 0.0550272 ]\n",
      "  [0.06272358 0.15617385 0.87110526 0.96612195 0.83944623]\n",
      "  [0.82653597 0.78015353 0.87999142 0.79534223 0.79882763]]]\n",
      "success\n"
     ]
    }
   ],
   "source": [
    "try:\n",
    "    e = a*c\n",
    "    print (e)\n",
    "    print(\"success\")\n",
    "except ValueError as e: \n",
    "    print(\"error\", e)"
   ]
  },
  {
   "cell_type": "markdown",
   "metadata": {},
   "source": [
    "\n",
    "\n",
    "### 13. Does e equal to a? Why or why not?\n"
   ]
  },
  {
   "cell_type": "code",
   "execution_count": 31,
   "metadata": {},
   "outputs": [],
   "source": [
    "### yes. Multiplying by 1 doesn't change a. \n",
    "\n"
   ]
  },
  {
   "cell_type": "markdown",
   "metadata": {},
   "source": [
    "\n",
    "\n",
    "### 14. Identify the max, min, and mean values in d. Assign those values to variables \"d_max\", \"d_min\", and \"d_mean\"\n"
   ]
  },
  {
   "cell_type": "code",
   "execution_count": 69,
   "metadata": {},
   "outputs": [
    {
     "name": "stdout",
     "output_type": "stream",
     "text": [
      "Max Value (d_max): 1.966121954297798\n",
      "Min Value (d_min): 1.0550272048549418\n",
      "Mean Value (d_mean): 1.5586893142803564\n"
     ]
    }
   ],
   "source": [
    "### [your code here]\n",
    "\n",
    "d_max = d.max()\n",
    "\n",
    "d_min = d.min()\n",
    "\n",
    "d_mean = d.mean()\n",
    "\n",
    "print(\"Max Value (d_max):\", d_max)\n",
    "print(\"Min Value (d_min):\", d_min)\n",
    "print(\"Mean Value (d_mean):\", d_mean)"
   ]
  },
  {
   "cell_type": "markdown",
   "metadata": {},
   "source": [
    "\n",
    "### 15. Now we want to label the values in d. First create an empty array \"f\" with the same shape (i.e. 2x3x5) as d using `np.empty`.\n"
   ]
  },
  {
   "cell_type": "code",
   "execution_count": 117,
   "metadata": {},
   "outputs": [
    {
     "name": "stdout",
     "output_type": "stream",
     "text": [
      "[[[0. 0. 0. 0. 0.]\n",
      "  [0. 0. 0. 0. 0.]\n",
      "  [0. 0. 0. 0. 0.]]\n",
      "\n",
      " [[0. 0. 0. 0. 0.]\n",
      "  [0. 0. 0. 0. 0.]\n",
      "  [0. 0. 0. 0. 0.]]]\n"
     ]
    }
   ],
   "source": [
    "f = np.empty((2,3,5))\n",
    "print(f)"
   ]
  },
  {
   "cell_type": "markdown",
   "metadata": {},
   "source": [
    "\n",
    "\n",
    "\n",
    "### 16. Populate the values in f. For each value in d, if it's larger than d_min but smaller than d_mean, assign 25 to the corresponding value in f.\n",
    "If a value in d is larger than d_mean but smaller than d_max, assign 75 to the corresponding value in f.\n",
    "If a value equals to d_mean, assign 50 to the corresponding value in f.\n",
    "Assign 0 to the corresponding value(s) in f for d_min in d.\n",
    "Assign 100 to the corresponding value(s) in f for d_max in d.\n",
    "In the end, f should have only the following values: 0, 25, 50, 75, and 100.\n",
    "Note: you don't have to use Numpy in this question.\n",
    "\n"
   ]
  },
  {
   "cell_type": "code",
   "execution_count": 118,
   "metadata": {},
   "outputs": [
    {
     "name": "stdout",
     "output_type": "stream",
     "text": [
      "[[[ 25.  75.  25.  25.  75.]\n",
      "  [ 75.  75.  25.  75.  25.]\n",
      "  [ 75.  75.  75.  75.  25.]]\n",
      "\n",
      " [[ 75.  25.  25.  25.   0.]\n",
      "  [ 25.  25.  75. 100.  75.]\n",
      "  [ 75.  75.  75.  75.  75.]]]\n"
     ]
    }
   ],
   "source": [
    "### [your code here]\n",
    "d_max = d.max()\n",
    "d_min = d.min()\n",
    "d_mean = d.mean()\n",
    "\n",
    "#f = np.zeros_like(d)\n",
    "\n",
    "for i in range(d.shape[0]):\n",
    "    for j in range(d.shape[1]):\n",
    "        for k in range (d.shape[2]):\n",
    "            if(d[i,j,k]==d_min):\n",
    "                f[i,j,k] = 0\n",
    "            elif(d_min < d[i,j,k] < d_mean):\n",
    "                f[i,j,k]= 25\n",
    "            elif d[i, j, k] == d_mean:\n",
    "                f[i, j, k] = 50\n",
    "            elif(d_mean < d[i,j,k] < d_max):\n",
    "                f[i, j, k] = 75\n",
    "            elif(d[i,j,k]==d_max):\n",
    "                f[i,j,k] = 100\n",
    "               \n",
    "\n",
    "\n",
    "print(f)"
   ]
  },
  {
   "cell_type": "markdown",
   "metadata": {},
   "source": [
    "\n",
    "\n",
    "\n",
    "\n",
    "### 17. Print d and f. Do you have your expected f?\n",
    "For instance, if your d is:\n",
    "array([[[1.85836099, 1.67064465, 1.62576044, 1.40243961, 1.88454931],\n",
    "        [1.75354326, 1.69403643, 1.36729252, 1.61415071, 1.12104981],\n",
    "        [1.72201435, 1.1862918 , 1.87078449, 1.7726778 , 1.88180042]],\n",
    "\n",
    "       [[1.44747908, 1.31673383, 1.02000951, 1.52218947, 1.97066381],\n",
    "        [1.79129243, 1.74983003, 1.96028037, 1.85166831, 1.65450881],\n",
    "        [1.18068344, 1.9587381 , 1.00656599, 1.93402165, 1.73514584]]])\n",
    "\n",
    "Your f should be:\n",
    "array([[[ 75.,  75.,  75.,  25.,  75.],\n",
    "        [ 75.,  75.,  25.,  25.,  25.],\n",
    "        [ 75.,  25.,  75.,  75.,  75.]],\n",
    "\n",
    "       [[ 25.,  25.,  25.,  25., 100.],\n",
    "        [ 75.,  75.,  75.,  75.,  75.],\n",
    "        [ 25.,  75.,   0.,  75.,  75.]]])\n",
    "\n"
   ]
  },
  {
   "cell_type": "code",
   "execution_count": 119,
   "metadata": {},
   "outputs": [
    {
     "name": "stdout",
     "output_type": "stream",
     "text": [
      "[[[1.2308987  1.95157102 1.11308172 1.26292366 1.70022664]\n",
      "  [1.5850733  1.72930913 1.52903728 1.6266166  1.17130269]\n",
      "  [1.57306775 1.78709858 1.77193743 1.76610306 1.53558263]]\n",
      "\n",
      " [[1.58941166 1.3729463  1.34140398 1.09163842 1.0550272 ]\n",
      "  [1.06272358 1.15617385 1.87110526 1.96612195 1.83944623]\n",
      "  [1.82653597 1.78015353 1.87999142 1.79534223 1.79882763]]] \n",
      "\n",
      "[[[ 25.  75.  25.  25.  75.]\n",
      "  [ 75.  75.  25.  75.  25.]\n",
      "  [ 75.  75.  75.  75.  25.]]\n",
      "\n",
      " [[ 75.  25.  25.  25.   0.]\n",
      "  [ 25.  25.  75. 100.  75.]\n",
      "  [ 75.  75.  75.  75.  75.]]]\n"
     ]
    }
   ],
   "source": [
    "print(d, \"\\n\")\n",
    "print(f)"
   ]
  },
  {
   "cell_type": "markdown",
   "metadata": {},
   "source": [
    "### 18. Bonus question: instead of using numbers (i.e. 0, 25, 50, 75, and 100), how to use string values \n",
    "(\"A\", \"B\", \"C\", \"D\", and \"E\") to label the array elements? You are expecting the result to be:\n",
    "array([[[ 'D',  'D',  'D',  'B',  'D'],\n",
    "        [ 'D',  'D',  'B',  'B',  'B'],\n",
    "        [ 'D',  'B',  'D',  'D',  'D']],\n",
    "\n",
    "       [[ 'B',  'B',  'B',  'B',  'E'],\n",
    "        [ 'D',  'D',  'D',  'D',  'D'],\n",
    "        [ 'B',  'D',   'A',  'D', 'D']]])\n",
    "Again, you don't need Numpy in this question."
   ]
  },
  {
   "cell_type": "code",
   "execution_count": 121,
   "metadata": {},
   "outputs": [
    {
     "name": "stdout",
     "output_type": "stream",
     "text": [
      "[[['B' 'D' 'B' 'B' 'D']\n",
      "  ['D' 'D' 'B' 'D' 'B']\n",
      "  ['D' 'D' 'D' 'D' 'B']]\n",
      "\n",
      " [['D' 'B' 'B' 'B' 'A']\n",
      "  ['B' 'B' 'D' 'E' 'D']\n",
      "  ['D' 'D' 'D' 'D' 'D']]]\n"
     ]
    }
   ],
   "source": [
    "\n",
    "f_obj = f.astype(object)\n",
    "\n",
    "for i in range(f_obj.shape[0]):\n",
    "    for j in range(f_obj.shape[1]):\n",
    "        for k in range (f_obj.shape[2]):\n",
    "            if(f_obj[i,j,k]==0):\n",
    "                f_obj[i,j,k] = \"A\"\n",
    "            elif(f_obj[i,j,k]==25):\n",
    "                f_obj[i,j,k] = \"B\"\n",
    "            elif(f_obj[i,j,k]==50):\n",
    "                f[i,j,k] = \"C\"\n",
    "            elif(f_obj[i,j,k]==75):\n",
    "                f_obj[i,j,k] = \"D\"\n",
    "            elif(f_obj[i,j,k]==100):\n",
    "                f_obj[i,j,k] = \"E\"\n",
    "\n",
    "print(f_obj)\n",
    "                "
   ]
  }
 ],
 "metadata": {
  "kernelspec": {
   "display_name": "base",
   "language": "python",
   "name": "python3"
  },
  "language_info": {
   "codemirror_mode": {
    "name": "ipython",
    "version": 3
   },
   "file_extension": ".py",
   "mimetype": "text/x-python",
   "name": "python",
   "nbconvert_exporter": "python",
   "pygments_lexer": "ipython3",
   "version": "3.12.7"
  }
 },
 "nbformat": 4,
 "nbformat_minor": 2
}
