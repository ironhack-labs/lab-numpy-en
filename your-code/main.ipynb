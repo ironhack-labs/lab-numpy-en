{
 "cells": [
  {
   "cell_type": "markdown",
   "metadata": {},
   "source": [
    "# Lab | Numpy Deep Dive"
   ]
  },
  {
   "cell_type": "markdown",
   "metadata": {},
   "source": [
    "### 1. Import the NUMPY package under the name np.\n"
   ]
  },
  {
   "cell_type": "code",
   "execution_count": 55,
   "metadata": {},
   "outputs": [],
   "source": [
    "\n",
    "import numpy as np"
   ]
  },
  {
   "cell_type": "markdown",
   "metadata": {},
   "source": [
    "\n",
    "\n",
    "### 2. Print the NUMPY version and the configuration.\n"
   ]
  },
  {
   "cell_type": "code",
   "execution_count": 56,
   "metadata": {},
   "outputs": [
    {
     "name": "stdout",
     "output_type": "stream",
     "text": [
      "1.26.4\n",
      "Build Dependencies:\n",
      "  blas:\n",
      "    detection method: pkgconfig\n",
      "    found: true\n",
      "    include directory: C:/Users/Lsula/anaconda3/Library/include\n",
      "    lib directory: C:/Users/Lsula/anaconda3/Library/lib\n",
      "    name: mkl-sdl\n",
      "    openblas configuration: unknown\n",
      "    pc file directory: C:\\b\\abs_c1ywpu18ar\\croot\\numpy_and_numpy_base_1708638681471\\_h_env\\Library\\lib\\pkgconfig\n",
      "    version: '2023.1'\n",
      "  lapack:\n",
      "    detection method: internal\n",
      "    found: true\n",
      "    include directory: unknown\n",
      "    lib directory: unknown\n",
      "    name: dep1868282989520\n",
      "    openblas configuration: unknown\n",
      "    pc file directory: unknown\n",
      "    version: 1.26.4\n",
      "Compilers:\n",
      "  c:\n",
      "    commands: cl.exe\n",
      "    linker: link\n",
      "    name: msvc\n",
      "    version: 19.29.30154\n",
      "  c++:\n",
      "    commands: cl.exe\n",
      "    linker: link\n",
      "    name: msvc\n",
      "    version: 19.29.30154\n",
      "  cython:\n",
      "    commands: cython\n",
      "    linker: cython\n",
      "    name: cython\n",
      "    version: 3.0.8\n",
      "Machine Information:\n",
      "  build:\n",
      "    cpu: x86_64\n",
      "    endian: little\n",
      "    family: x86_64\n",
      "    system: windows\n",
      "  host:\n",
      "    cpu: x86_64\n",
      "    endian: little\n",
      "    family: x86_64\n",
      "    system: windows\n",
      "Python Information:\n",
      "  path: C:\\b\\abs_c1ywpu18ar\\croot\\numpy_and_numpy_base_1708638681471\\_h_env\\python.exe\n",
      "  version: '3.11'\n",
      "SIMD Extensions:\n",
      "  baseline:\n",
      "  - SSE\n",
      "  - SSE2\n",
      "  - SSE3\n",
      "  found:\n",
      "  - SSSE3\n",
      "  - SSE41\n",
      "  - POPCNT\n",
      "  - SSE42\n",
      "  - AVX\n",
      "  - F16C\n",
      "  - FMA3\n",
      "  - AVX2\n",
      "  not found:\n",
      "  - AVX512F\n",
      "  - AVX512CD\n",
      "  - AVX512_SKX\n",
      "  - AVX512_CLX\n",
      "  - AVX512_CNL\n",
      "  - AVX512_ICL\n",
      "\n"
     ]
    }
   ],
   "source": [
    "print(np.__version__)\n",
    "np.show_config()"
   ]
  },
  {
   "cell_type": "markdown",
   "metadata": {},
   "source": [
    "### 3. Generate a 2x3x5 3-dimensional array with random values. Assign the array to variable \"a\"\n",
    "Challenge: there are at least three easy ways that use numpy to generate random arrays. How many ways can you find?\n"
   ]
  },
  {
   "cell_type": "code",
   "execution_count": 57,
   "metadata": {},
   "outputs": [
    {
     "name": "stdout",
     "output_type": "stream",
     "text": [
      "(2, 3, 5)\n"
     ]
    },
    {
     "data": {
      "text/plain": [
       "array([[[28, 56, 63, 92, 70],\n",
       "        [69, 76, 31, 18, 38],\n",
       "        [46, 59, 47, 84, 40]],\n",
       "\n",
       "       [[98, 13,  2, 98, 68],\n",
       "        [70, 31,  1, 66,  7],\n",
       "        [30, 69,  7, 65, 38]]])"
      ]
     },
     "execution_count": 57,
     "metadata": {},
     "output_type": "execute_result"
    }
   ],
   "source": [
    "# the first\n",
    "# a = np.random.random((2,3,5))\n",
    "\n",
    "#the second\n",
    "#a = np.random.random_sample((2, 3, 5))\n",
    "\n",
    "# the third\n",
    "a = np.random.randint(100, size =(2, 3, 5))\n",
    "\n",
    "print(a.shape)\n",
    "a\n"
   ]
  },
  {
   "cell_type": "markdown",
   "metadata": {},
   "source": [
    "\n",
    "### 4. Print a.\n"
   ]
  },
  {
   "cell_type": "code",
   "execution_count": 58,
   "metadata": {},
   "outputs": [
    {
     "name": "stdout",
     "output_type": "stream",
     "text": [
      "[[[28 56 63 92 70]\n",
      "  [69 76 31 18 38]\n",
      "  [46 59 47 84 40]]\n",
      "\n",
      " [[98 13  2 98 68]\n",
      "  [70 31  1 66  7]\n",
      "  [30 69  7 65 38]]]\n"
     ]
    }
   ],
   "source": [
    "print(a)\n",
    "\n"
   ]
  },
  {
   "cell_type": "markdown",
   "metadata": {},
   "source": [
    "### 5. Create a 5x2x3 3-dimensional array with all values equaling 1.\n",
    "### Assign the array to variable \"b\"\n"
   ]
  },
  {
   "cell_type": "code",
   "execution_count": 59,
   "metadata": {},
   "outputs": [
    {
     "name": "stdout",
     "output_type": "stream",
     "text": [
      "(5, 2, 3)\n"
     ]
    },
    {
     "data": {
      "text/plain": [
       "array([[[1., 1., 1.],\n",
       "        [1., 1., 1.]],\n",
       "\n",
       "       [[1., 1., 1.],\n",
       "        [1., 1., 1.]],\n",
       "\n",
       "       [[1., 1., 1.],\n",
       "        [1., 1., 1.]],\n",
       "\n",
       "       [[1., 1., 1.],\n",
       "        [1., 1., 1.]],\n",
       "\n",
       "       [[1., 1., 1.],\n",
       "        [1., 1., 1.]]])"
      ]
     },
     "execution_count": 59,
     "metadata": {},
     "output_type": "execute_result"
    }
   ],
   "source": [
    "b = np.ones((5, 2, 3))\n",
    "print(b.shape)\n",
    "b"
   ]
  },
  {
   "cell_type": "markdown",
   "metadata": {},
   "source": [
    "\n",
    "### 6. Print b.\n"
   ]
  },
  {
   "cell_type": "code",
   "execution_count": 60,
   "metadata": {},
   "outputs": [
    {
     "name": "stdout",
     "output_type": "stream",
     "text": [
      "[[[1. 1. 1.]\n",
      "  [1. 1. 1.]]\n",
      "\n",
      " [[1. 1. 1.]\n",
      "  [1. 1. 1.]]\n",
      "\n",
      " [[1. 1. 1.]\n",
      "  [1. 1. 1.]]\n",
      "\n",
      " [[1. 1. 1.]\n",
      "  [1. 1. 1.]]\n",
      "\n",
      " [[1. 1. 1.]\n",
      "  [1. 1. 1.]]]\n"
     ]
    }
   ],
   "source": [
    "print(b)\n"
   ]
  },
  {
   "cell_type": "markdown",
   "metadata": {},
   "source": [
    "\n",
    "### 7. Do a and b have the same size? How do you prove that in Python code?\n"
   ]
  },
  {
   "cell_type": "code",
   "execution_count": 61,
   "metadata": {},
   "outputs": [
    {
     "name": "stdout",
     "output_type": "stream",
     "text": [
      "Yes, a and b have the same size\n"
     ]
    }
   ],
   "source": [
    "if a.size ==b.size:\n",
    "    print(\"Yes, a and b have the same size\")\n",
    "else:\n",
    "    print(\"No, a and b do not have the same size\")"
   ]
  },
  {
   "cell_type": "markdown",
   "metadata": {},
   "source": [
    "\n",
    "### 8. Are you able to add a and b? Why or why not?\n"
   ]
  },
  {
   "cell_type": "code",
   "execution_count": 62,
   "metadata": {},
   "outputs": [
    {
     "name": "stdout",
     "output_type": "stream",
     "text": [
      "No, diffrent shapes\n"
     ]
    }
   ],
   "source": [
    "# they can be added if they have the same shape\n",
    "if (a.shape ==b.shape):\n",
    "    print(\"Yes, it can be added\")\n",
    "else:\n",
    "    print(\"No, diffrent shapes\")\n"
   ]
  },
  {
   "cell_type": "markdown",
   "metadata": {},
   "source": [
    "\n",
    "\n",
    "### 9. Transpose b so that it has the same structure of a (i.e. become a 2x3x5 array). Assign the transposed array to varialbe \"c\".\n"
   ]
  },
  {
   "cell_type": "code",
   "execution_count": 63,
   "metadata": {},
   "outputs": [
    {
     "data": {
      "text/plain": [
       "(2, 3, 5)"
      ]
     },
     "execution_count": 63,
     "metadata": {},
     "output_type": "execute_result"
    }
   ],
   "source": [
    "#a.shape # 2, 3, 5\n",
    "#b.shape # 5 ,2 ,3\n",
    "c = np.transpose(b, (1, 2, 0)) # re arrnge the index of the axes\n",
    "c.shape # should match a"
   ]
  },
  {
   "cell_type": "markdown",
   "metadata": {},
   "source": [
    "\n",
    "### 10. Try to add a and c. Now it should work. Assign the sum to variable \"d\". But why does it work now?\n"
   ]
  },
  {
   "cell_type": "code",
   "execution_count": 64,
   "metadata": {},
   "outputs": [
    {
     "data": {
      "text/plain": [
       "array([[[29., 57., 64., 93., 71.],\n",
       "        [70., 77., 32., 19., 39.],\n",
       "        [47., 60., 48., 85., 41.]],\n",
       "\n",
       "       [[99., 14.,  3., 99., 69.],\n",
       "        [71., 32.,  2., 67.,  8.],\n",
       "        [31., 70.,  8., 66., 39.]]])"
      ]
     },
     "execution_count": 64,
     "metadata": {},
     "output_type": "execute_result"
    }
   ],
   "source": [
    "d = a + c\n",
    "d\n",
    "# it works because now they have the same shape"
   ]
  },
  {
   "cell_type": "markdown",
   "metadata": {},
   "source": [
    "\n",
    "### 11. Print a and d. Notice the difference and relation of the two array in terms of the values? Explain.\n"
   ]
  },
  {
   "cell_type": "code",
   "execution_count": 65,
   "metadata": {},
   "outputs": [
    {
     "name": "stdout",
     "output_type": "stream",
     "text": [
      "array a\n",
      ": [[[28 56 63 92 70]\n",
      "  [69 76 31 18 38]\n",
      "  [46 59 47 84 40]]\n",
      "\n",
      " [[98 13  2 98 68]\n",
      "  [70 31  1 66  7]\n",
      "  [30 69  7 65 38]]]\n",
      "\n",
      "\n",
      "array d:\n",
      " [[[29. 57. 64. 93. 71.]\n",
      "  [70. 77. 32. 19. 39.]\n",
      "  [47. 60. 48. 85. 41.]]\n",
      "\n",
      " [[99. 14.  3. 99. 69.]\n",
      "  [71. 32.  2. 67.  8.]\n",
      "  [31. 70.  8. 66. 39.]]]\n"
     ]
    }
   ],
   "source": [
    "print(\"array a\\n:\", a)\n",
    "print(\"\\n\\narray d:\\n\", d)\n",
    "\n",
    "# the have the same shape, and each value in d = a value +1, which is logical beacuse array c was all ones\n",
    "# we can say that array d is array a shifted by adding 1"
   ]
  },
  {
   "cell_type": "markdown",
   "metadata": {},
   "source": [
    "\n",
    "### 12. Multiply a and c. Assign the result to e.\n"
   ]
  },
  {
   "cell_type": "code",
   "execution_count": 66,
   "metadata": {},
   "outputs": [
    {
     "data": {
      "text/plain": [
       "array([[[28., 56., 63., 92., 70.],\n",
       "        [69., 76., 31., 18., 38.],\n",
       "        [46., 59., 47., 84., 40.]],\n",
       "\n",
       "       [[98., 13.,  2., 98., 68.],\n",
       "        [70., 31.,  1., 66.,  7.],\n",
       "        [30., 69.,  7., 65., 38.]]])"
      ]
     },
     "execution_count": 66,
     "metadata": {},
     "output_type": "execute_result"
    }
   ],
   "source": [
    "e = a * c\n",
    "e"
   ]
  },
  {
   "cell_type": "markdown",
   "metadata": {},
   "source": [
    "\n",
    "\n",
    "### 13. Does e equal to a? Why or why not?\n"
   ]
  },
  {
   "cell_type": "code",
   "execution_count": 67,
   "metadata": {},
   "outputs": [
    {
     "name": "stdout",
     "output_type": "stream",
     "text": [
      " a = e\n"
     ]
    }
   ],
   "source": [
    "\n",
    "\n",
    "if np.array_equal(a, e):\n",
    "    print(\" a = e\")\n",
    "\n",
    "else:\n",
    "    print(\"a != e\")\n",
    "    \n",
    "# yes a = e, because each value of [a] was multiplied be the coordinater value in c which all = 1\n",
    "# so a will remain the same\n"
   ]
  },
  {
   "cell_type": "markdown",
   "metadata": {},
   "source": [
    "\n",
    "\n",
    "### 14. Identify the max, min, and mean values in d. Assign those values to variables \"d_max\", \"d_min\", and \"d_mean\"\n"
   ]
  },
  {
   "cell_type": "code",
   "execution_count": 68,
   "metadata": {},
   "outputs": [
    {
     "name": "stdout",
     "output_type": "stream",
     "text": [
      "99.0\n",
      "2.0\n",
      "50.333333333333336\n"
     ]
    }
   ],
   "source": [
    "d_max = np.max(d)\n",
    "d_min = np.min(d)\n",
    "d_mean = np.mean(d)\n",
    "\n",
    "print(d_max)\n",
    "print(d_min)\n",
    "print(d_mean)\n",
    "\n"
   ]
  },
  {
   "cell_type": "markdown",
   "metadata": {},
   "source": []
  },
  {
   "cell_type": "markdown",
   "metadata": {},
   "source": [
    "\n",
    "### 15. Now we want to label the values in d. First create an empty array \"f\" with the same shape (i.e. 2x3x5) as d using `np.empty`.\n"
   ]
  },
  {
   "cell_type": "code",
   "execution_count": 69,
   "metadata": {},
   "outputs": [
    {
     "data": {
      "text/plain": [
       "array([[[28., 56., 63., 92., 70.],\n",
       "        [69., 76., 31., 18., 38.],\n",
       "        [46., 59., 47., 84., 40.]],\n",
       "\n",
       "       [[98., 13.,  2., 98., 68.],\n",
       "        [70., 31.,  1., 66.,  7.],\n",
       "        [30., 69.,  7., 65., 38.]]])"
      ]
     },
     "execution_count": 69,
     "metadata": {},
     "output_type": "execute_result"
    }
   ],
   "source": [
    "f = np.empty(d.shape)\n",
    "f\n",
    "#print(f.shape[0])"
   ]
  },
  {
   "cell_type": "markdown",
   "metadata": {},
   "source": [
    "\n",
    "\n",
    "\n",
    "### 16. Populate the values in f. \n",
    "For each value in d, if it's larger than d_min but smaller than d_mean, assign 25 to the corresponding value in f.\n",
    "\n",
    "If a value in d is larger than d_mean but smaller than d_max, assign 75 to the corresponding value in f.\n",
    "\n",
    "If a value equals to d_mean, assign 50 to the corresponding value in f.\n",
    "\n",
    "Assign 0 to the corresponding value(s) in f for d_min in d.\n",
    "\n",
    "Assign 100 to the corresponding value(s) in f for d_max in d.\n",
    "\n",
    "In the end, f should have only the following values: 0, 25, 50, 75, and 100.\n",
    "Note: you don't have to use Numpy in this question.\n",
    "\n"
   ]
  },
  {
   "cell_type": "code",
   "execution_count": 70,
   "metadata": {},
   "outputs": [
    {
     "name": "stdout",
     "output_type": "stream",
     "text": [
      "[[[ 25.  75.  75.  75.  75.]\n",
      "  [ 75.  75.  25.  25.  25.]\n",
      "  [ 25.  75.  25.  75.  25.]]\n",
      "\n",
      " [[100.  25.  25. 100.  75.]\n",
      "  [ 75.  25.   0.  75.  25.]\n",
      "  [ 25.  75.  25.  75.  25.]]]\n"
     ]
    }
   ],
   "source": [
    "for k in range(d.shape[0]): # should use shape so we dont get out of range while using the loop var as index\n",
    "    for j in range (d.shape[1]):\n",
    "        for i in range (d.shape[2]):\n",
    "            d_element = d[k,j,i]\n",
    "            \n",
    "            if  d_mean > d_element> d_min:\n",
    "                f[k,j,i] = 25\n",
    "                \n",
    "            elif d_max > d_element> d_mean:\n",
    "                f[k,j,i] = 75\n",
    "                \n",
    "            elif d_element == d_mean:\n",
    "                f[k,j,i] = 50\n",
    "                \n",
    "            elif d_element == d_min:\n",
    "                f[k,j,i] = 0\n",
    "                \n",
    "            else:# d_element == d_max\n",
    "                f[k,j,i] = 100\n",
    "            \n",
    "        \n",
    "print(f)\n"
   ]
  },
  {
   "cell_type": "markdown",
   "metadata": {},
   "source": [
    "\n",
    "\n",
    "\n",
    "\n",
    "### 17. Print d and f. Do you have your expected f?\n",
    "For instance, if your d is:\n",
    "array([[[1.85836099, 1.67064465, 1.62576044, 1.40243961, 1.88454931],\n",
    "        [1.75354326, 1.69403643, 1.36729252, 1.61415071, 1.12104981],\n",
    "        [1.72201435, 1.1862918 , 1.87078449, 1.7726778 , 1.88180042]],\n",
    "\n",
    "       [[1.44747908, 1.31673383, 1.02000951, 1.52218947, 1.97066381],\n",
    "        [1.79129243, 1.74983003, 1.96028037, 1.85166831, 1.65450881],\n",
    "        [1.18068344, 1.9587381 , 1.00656599, 1.93402165, 1.73514584]]])\n",
    "\n",
    "Your f should be:\n",
    "array([[[ 75.,  75.,  75.,  25.,  75.],\n",
    "        [ 75.,  75.,  25.,  25.,  25.],\n",
    "        [ 75.,  25.,  75.,  75.,  75.]],\n",
    "\n",
    "       [[ 25.,  25.,  25.,  25., 100.],\n",
    "        [ 75.,  75.,  75.,  75.,  75.],\n",
    "        [ 25.,  75.,   0.,  75.,  75.]]])\n",
    "\n"
   ]
  },
  {
   "cell_type": "code",
   "execution_count": 71,
   "metadata": {},
   "outputs": [
    {
     "name": "stdout",
     "output_type": "stream",
     "text": [
      "array d\n",
      ": [[[29. 57. 64. 93. 71.]\n",
      "  [70. 77. 32. 19. 39.]\n",
      "  [47. 60. 48. 85. 41.]]\n",
      "\n",
      " [[99. 14.  3. 99. 69.]\n",
      "  [71. 32.  2. 67.  8.]\n",
      "  [31. 70.  8. 66. 39.]]]\n",
      "\n",
      "max  99.0\n",
      "min  2.0\n",
      "mean  50.333333333333336\n",
      "\n",
      "\n",
      "array f:\n",
      " [[[ 25.  75.  75.  75.  75.]\n",
      "  [ 75.  75.  25.  25.  25.]\n",
      "  [ 25.  75.  25.  75.  25.]]\n",
      "\n",
      " [[100.  25.  25. 100.  75.]\n",
      "  [ 75.  25.   0.  75.  25.]\n",
      "  [ 25.  75.  25.  75.  25.]]]\n"
     ]
    }
   ],
   "source": [
    "print(\"array d\\n:\", d)\n",
    "\n",
    "print(\"\\nmax \", d_max)\n",
    "print(\"min \",d_min)\n",
    "print(\"mean \",d_mean)\n",
    "\n",
    "print(\"\\n\\narray f:\\n\", f)"
   ]
  },
  {
   "cell_type": "markdown",
   "metadata": {},
   "source": [
    "### 18. Bonus question: instead of using numbers (i.e. 0, 25, 50, 75, and 100), how to use string values \n",
    "(\"A\", \"B\", \"C\", \"D\", and \"E\") to label the array elements? You are expecting the result to be:\n",
    "array([[[ 'D',  'D',  'D',  'B',  'D'],\n",
    "        [ 'D',  'D',  'B',  'B',  'B'],\n",
    "        [ 'D',  'B',  'D',  'D',  'D']],\n",
    "\n",
    "       [[ 'B',  'B',  'B',  'B',  'E'],\n",
    "        [ 'D',  'D',  'D',  'D',  'D'],\n",
    "        [ 'B',  'D',   'A',  'D', 'D']]])\n",
    "Again, you don't need Numpy in this question."
   ]
  },
  {
   "cell_type": "code",
   "execution_count": 74,
   "metadata": {},
   "outputs": [
    {
     "name": "stdout",
     "output_type": "stream",
     "text": [
      "[[['B' 'D' 'D' 'D' 'D']\n",
      "  ['D' 'D' 'B' 'B' 'B']\n",
      "  ['B' 'D' 'B' 'D' 'B']]\n",
      "\n",
      " [['E' 'B' 'B' 'E' 'D']\n",
      "  ['D' 'B' 'A' 'D' 'B']\n",
      "  ['B' 'D' 'B' 'D' 'B']]]\n"
     ]
    }
   ],
   "source": [
    "f = np.empty(d.shape)\n",
    "f = f.astype(str)\n",
    "#print(f)\n",
    "\n",
    "for k in range(d.shape[0]): # should use shape so we dont get out of range while using the loop var as index\n",
    "    for j in range (d.shape[1]):\n",
    "        for i in range (d.shape[2]):\n",
    "            d_element = d[k,j,i]\n",
    "            \n",
    "            if  d_mean > d_element> d_min:\n",
    "                f[k,j,i] = 'B'\n",
    "                \n",
    "            elif d_max > d_element> d_mean:\n",
    "                f[k,j,i] = 'D'\n",
    "                \n",
    "            elif d_element == d_mean:\n",
    "                f[k,j,i] = 'C'\n",
    "                \n",
    "            elif d_element == d_min:\n",
    "                f[k,j,i] = 'A'\n",
    "                \n",
    "            else:# d_element == d_max\n",
    "                f[k,j,i] = 'E'\n",
    "            \n",
    "        \n",
    "print(f)\n"
   ]
  }
 ],
 "metadata": {
  "kernelspec": {
   "display_name": "base",
   "language": "python",
   "name": "python3"
  },
  "language_info": {
   "codemirror_mode": {
    "name": "ipython",
    "version": 3
   },
   "file_extension": ".py",
   "mimetype": "text/x-python",
   "name": "python",
   "nbconvert_exporter": "python",
   "pygments_lexer": "ipython3",
   "version": "3.11.7"
  }
 },
 "nbformat": 4,
 "nbformat_minor": 2
}
