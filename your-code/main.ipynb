{
 "cells": [
  {
   "cell_type": "markdown",
   "metadata": {},
   "source": [
    "# Lab | Numpy Deep Dive"
   ]
  },
  {
   "cell_type": "markdown",
   "metadata": {},
   "source": [
    "### 1. Import the NUMPY package under the name np.\n"
   ]
  },
  {
   "cell_type": "code",
   "execution_count": 31,
   "metadata": {},
   "outputs": [],
   "source": [
    "### [your code here]\n",
    "import numpy as np\n"
   ]
  },
  {
   "cell_type": "markdown",
   "metadata": {},
   "source": [
    "\n",
    "\n",
    "### 2. Print the NUMPY version and the configuration.\n"
   ]
  },
  {
   "cell_type": "code",
   "execution_count": 32,
   "metadata": {},
   "outputs": [
    {
     "name": "stdout",
     "output_type": "stream",
     "text": [
      "1.24.1\n"
     ]
    }
   ],
   "source": [
    "### [your code here]\n",
    "print(np.__version__)"
   ]
  },
  {
   "cell_type": "markdown",
   "metadata": {},
   "source": [
    "### 3. Generate a 2x3x5 3-dimensional array with random values. Assign the array to variable \"a\"\n",
    "Challenge: there are at least three easy ways that use numpy to generate random arrays. How many ways can you find?\n"
   ]
  },
  {
   "cell_type": "code",
   "execution_count": 33,
   "metadata": {},
   "outputs": [],
   "source": [
    "\n",
    "\n",
    "a = np.random.rand(2,3,5) # random\n",
    "a2 = np.random.randint(low=0, high=100, size=(2, 3, 5)) #random integers\n",
    "a3 = np.random.randn(2,3,5)  #normal distribution\n",
    "\n"
   ]
  },
  {
   "cell_type": "markdown",
   "metadata": {},
   "source": [
    "\n",
    "### 4. Print a.\n"
   ]
  },
  {
   "cell_type": "code",
   "execution_count": 34,
   "metadata": {},
   "outputs": [
    {
     "name": "stdout",
     "output_type": "stream",
     "text": [
      "[[[0.03603205 0.32622793 0.76755201 0.22657145 0.03607696]\n",
      "  [0.30631933 0.24346376 0.14202934 0.33594679 0.35293681]\n",
      "  [0.74846405 0.54312228 0.87561326 0.80882994 0.80692789]]\n",
      "\n",
      " [[0.63661704 0.26738321 0.61149809 0.46729431 0.93275384]\n",
      "  [0.09732154 0.25129205 0.22602031 0.69394947 0.79843082]\n",
      "  [0.57320044 0.90105587 0.0023414  0.25067835 0.24640423]]]\n",
      "[[[42  9 56 27 33]\n",
      "  [ 5 78 60  8 94]\n",
      "  [35 72 85 31 15]]\n",
      "\n",
      " [[70 70 95 61 33]\n",
      "  [51 97  5 44 54]\n",
      "  [39 13  1 65 67]]]\n",
      "[[[-0.88865644  0.711199    1.15606955 -0.83001708  0.24845695]\n",
      "  [ 0.4356947  -0.28229373 -1.71333889  0.40103155  0.90508492]\n",
      "  [ 0.33394599  0.01723525 -3.02583812  1.13040174 -0.46172913]]\n",
      "\n",
      " [[-0.83638343  0.21249555 -0.79382412 -0.51240501  1.70575814]\n",
      "  [ 1.30067262  0.25599023 -0.11294832  0.41527694  1.79685815]\n",
      "  [-0.01628515  1.88232589  0.98477062 -0.75251403 -1.06173301]]]\n"
     ]
    }
   ],
   "source": [
    "\n",
    "print(a)\n",
    "print(a2)\n",
    "print(a3)"
   ]
  },
  {
   "cell_type": "markdown",
   "metadata": {},
   "source": [
    "### 5. Create a 5x2x3 3-dimensional array with all values equaling 1.\n",
    "### Assign the array to variable \"b\"\n"
   ]
  },
  {
   "cell_type": "code",
   "execution_count": 35,
   "metadata": {},
   "outputs": [],
   "source": [
    "\n",
    "b = np.ones((5,2,3))"
   ]
  },
  {
   "cell_type": "markdown",
   "metadata": {},
   "source": [
    "\n",
    "### 6. Print b.\n"
   ]
  },
  {
   "cell_type": "code",
   "execution_count": 36,
   "metadata": {},
   "outputs": [
    {
     "name": "stdout",
     "output_type": "stream",
     "text": [
      "[[[1. 1. 1.]\n",
      "  [1. 1. 1.]]\n",
      "\n",
      " [[1. 1. 1.]\n",
      "  [1. 1. 1.]]\n",
      "\n",
      " [[1. 1. 1.]\n",
      "  [1. 1. 1.]]\n",
      "\n",
      " [[1. 1. 1.]\n",
      "  [1. 1. 1.]]\n",
      "\n",
      " [[1. 1. 1.]\n",
      "  [1. 1. 1.]]]\n"
     ]
    }
   ],
   "source": [
    "\n",
    "print(b)"
   ]
  },
  {
   "cell_type": "markdown",
   "metadata": {},
   "source": [
    "\n",
    "### 7. Do a and b have the same size? How do you prove that in Python code?\n"
   ]
  },
  {
   "cell_type": "code",
   "execution_count": 37,
   "metadata": {},
   "outputs": [
    {
     "name": "stdout",
     "output_type": "stream",
     "text": [
      "same size\n"
     ]
    }
   ],
   "source": [
    "\n",
    "if a.size == b.size:\n",
    "    print(\"same size\")\n",
    "\n",
    "else:\n",
    "    print(\"not same size\")\n"
   ]
  },
  {
   "cell_type": "markdown",
   "metadata": {},
   "source": [
    "\n",
    "### 8. Are you able to add a and b? Why or why not?\n"
   ]
  },
  {
   "cell_type": "code",
   "execution_count": 38,
   "metadata": {},
   "outputs": [],
   "source": [
    "# No, because thir shapes are not compatible.\n"
   ]
  },
  {
   "cell_type": "markdown",
   "metadata": {},
   "source": [
    "\n",
    "### 9. Transpose b so that it has the same structure of a (i.e. become a 2x3x5 array). Assign the transposed array to varialbe \"c\".\n"
   ]
  },
  {
   "cell_type": "code",
   "execution_count": 39,
   "metadata": {},
   "outputs": [
    {
     "data": {
      "text/plain": [
       "array([[[1., 1., 1., 1., 1.],\n",
       "        [1., 1., 1., 1., 1.],\n",
       "        [1., 1., 1., 1., 1.]],\n",
       "\n",
       "       [[1., 1., 1., 1., 1.],\n",
       "        [1., 1., 1., 1., 1.],\n",
       "        [1., 1., 1., 1., 1.]]])"
      ]
     },
     "execution_count": 39,
     "metadata": {},
     "output_type": "execute_result"
    }
   ],
   "source": [
    "# a -> 2 3 5\n",
    "# b -> 5 2 3\n",
    "\n",
    "\n",
    "c = np.transpose(b, (1, 2, 0))\n",
    "\n",
    "c\n"
   ]
  },
  {
   "cell_type": "markdown",
   "metadata": {},
   "source": [
    "\n",
    "### 10. Try to add a and c. Now it should work. Assign the sum to variable \"d\". But why does it work now?\n"
   ]
  },
  {
   "cell_type": "code",
   "execution_count": 40,
   "metadata": {},
   "outputs": [
    {
     "data": {
      "text/plain": [
       "array([[[1.03603205, 1.32622793, 1.76755201, 1.22657145, 1.03607696],\n",
       "        [1.30631933, 1.24346376, 1.14202934, 1.33594679, 1.35293681],\n",
       "        [1.74846405, 1.54312228, 1.87561326, 1.80882994, 1.80692789]],\n",
       "\n",
       "       [[1.63661704, 1.26738321, 1.61149809, 1.46729431, 1.93275384],\n",
       "        [1.09732154, 1.25129205, 1.22602031, 1.69394947, 1.79843082],\n",
       "        [1.57320044, 1.90105587, 1.0023414 , 1.25067835, 1.24640423]]])"
      ]
     },
     "execution_count": 40,
     "metadata": {},
     "output_type": "execute_result"
    }
   ],
   "source": [
    "d = a + c\n",
    "\n",
    "d"
   ]
  },
  {
   "cell_type": "markdown",
   "metadata": {},
   "source": [
    "\n",
    "### 11. Print a and d. Notice the difference and relation of the two array in terms of the values? Explain.\n"
   ]
  },
  {
   "cell_type": "code",
   "execution_count": 41,
   "metadata": {},
   "outputs": [
    {
     "name": "stdout",
     "output_type": "stream",
     "text": [
      "[[[0.03603205 0.32622793 0.76755201 0.22657145 0.03607696]\n",
      "  [0.30631933 0.24346376 0.14202934 0.33594679 0.35293681]\n",
      "  [0.74846405 0.54312228 0.87561326 0.80882994 0.80692789]]\n",
      "\n",
      " [[0.63661704 0.26738321 0.61149809 0.46729431 0.93275384]\n",
      "  [0.09732154 0.25129205 0.22602031 0.69394947 0.79843082]\n",
      "  [0.57320044 0.90105587 0.0023414  0.25067835 0.24640423]]]\n",
      "[[[1.03603205 1.32622793 1.76755201 1.22657145 1.03607696]\n",
      "  [1.30631933 1.24346376 1.14202934 1.33594679 1.35293681]\n",
      "  [1.74846405 1.54312228 1.87561326 1.80882994 1.80692789]]\n",
      "\n",
      " [[1.63661704 1.26738321 1.61149809 1.46729431 1.93275384]\n",
      "  [1.09732154 1.25129205 1.22602031 1.69394947 1.79843082]\n",
      "  [1.57320044 1.90105587 1.0023414  1.25067835 1.24640423]]]\n"
     ]
    }
   ],
   "source": [
    "### [your code here]\n",
    "\n",
    "print(a)\n",
    "print(d)\n",
    "\n",
    "# values inside a and d have been added"
   ]
  },
  {
   "cell_type": "markdown",
   "metadata": {},
   "source": [
    "\n",
    "### 12. Multiply a and c. Assign the result to e.\n"
   ]
  },
  {
   "cell_type": "code",
   "execution_count": 42,
   "metadata": {},
   "outputs": [
    {
     "data": {
      "text/plain": [
       "array([[[0.03603205, 0.32622793, 0.76755201, 0.22657145, 0.03607696],\n",
       "        [0.30631933, 0.24346376, 0.14202934, 0.33594679, 0.35293681],\n",
       "        [0.74846405, 0.54312228, 0.87561326, 0.80882994, 0.80692789]],\n",
       "\n",
       "       [[0.63661704, 0.26738321, 0.61149809, 0.46729431, 0.93275384],\n",
       "        [0.09732154, 0.25129205, 0.22602031, 0.69394947, 0.79843082],\n",
       "        [0.57320044, 0.90105587, 0.0023414 , 0.25067835, 0.24640423]]])"
      ]
     },
     "execution_count": 42,
     "metadata": {},
     "output_type": "execute_result"
    }
   ],
   "source": [
    "\n",
    "e = a * c\n",
    "\n",
    "e"
   ]
  },
  {
   "cell_type": "markdown",
   "metadata": {},
   "source": [
    "\n",
    "\n",
    "### 13. Does e equal to a? Why or why not?\n"
   ]
  },
  {
   "cell_type": "code",
   "execution_count": null,
   "metadata": {},
   "outputs": [],
   "source": [
    "# yes, because we multiplied with 1\n",
    "\n"
   ]
  },
  {
   "cell_type": "markdown",
   "metadata": {},
   "source": [
    "\n",
    "\n",
    "### 14. Identify the max, min, and mean values in d. Assign those values to variables \"d_max\", \"d_min\", and \"d_mean\"\n"
   ]
  },
  {
   "cell_type": "code",
   "execution_count": 46,
   "metadata": {},
   "outputs": [
    {
     "name": "stdout",
     "output_type": "stream",
     "text": [
      "1.9327538381581282\n",
      "1.002341402895092\n",
      "1.4504118272315794\n"
     ]
    }
   ],
   "source": [
    "\n",
    "d_max = np.max(d)\n",
    "d_min = np.min(d)\n",
    "d_mean = np.mean(d)\n",
    "\n",
    "print(d_max)\n",
    "print(d_min)\n",
    "print(d_mean)"
   ]
  },
  {
   "cell_type": "markdown",
   "metadata": {},
   "source": [
    "\n",
    "### 15. Now we want to label the values in d. First create an empty array \"f\" with the same shape (i.e. 2x3x5) as d using `np.empty`.\n"
   ]
  },
  {
   "cell_type": "code",
   "execution_count": 48,
   "metadata": {},
   "outputs": [],
   "source": [
    "f = np.empty((2,3,5))\n"
   ]
  },
  {
   "cell_type": "markdown",
   "metadata": {},
   "source": [
    "\n",
    "\n",
    "\n",
    "### 16. Populate the values in f. For each value in d, if it's larger than d_min but smaller than d_mean, assign 25 to the corresponding value in f.\n",
    "If a value in d is larger than d_mean but smaller than d_max, assign 75 to the corresponding value in f.\n",
    "If a value equals to d_mean, assign 50 to the corresponding value in f.\n",
    "Assign 0 to the corresponding value(s) in f for d_min in d.\n",
    "Assign 100 to the corresponding value(s) in f for d_max in d.\n",
    "In the end, f should have only the following values: 0, 25, 50, 75, and 100.\n",
    "Note: you don't have to use Numpy in this question.\n",
    "\n"
   ]
  },
  {
   "cell_type": "code",
   "execution_count": null,
   "metadata": {},
   "outputs": [
    {
     "data": {
      "text/plain": [
       "array([[[25., 25., 75., 25., 25.],\n",
       "        [25., 25., 25., 25., 25.],\n",
       "        [75., 75., 75., 75., 75.]],\n",
       "\n",
       "       [[75., 25., 75., 75., 50.],\n",
       "        [25., 25., 25., 75., 75.],\n",
       "        [75., 75.,  0., 25., 25.]]])"
      ]
     },
     "execution_count": 56,
     "metadata": {},
     "output_type": "execute_result"
    }
   ],
   "source": [
    "\n",
    "f[(d == d_min)] = 0\n",
    "f[(d > d_min) & (d < d_mean)] = 25\n",
    "f[(d == d_mean)] = 50\n",
    "f[(d > d_mean) & (d < d_max)] = 75\n",
    "f[(d == d_max)] = 50\n",
    "\n",
    "# this technique is called boolen indexing\n",
    "\n",
    "\n",
    "\n",
    "f"
   ]
  },
  {
   "cell_type": "markdown",
   "metadata": {},
   "source": [
    "\n",
    "\n",
    "\n",
    "\n",
    "### 17. Print d and f. Do you have your expected f?\n",
    "For instance, if your d is:\n",
    "array([[[1.85836099, 1.67064465, 1.62576044, 1.40243961, 1.88454931],\n",
    "        [1.75354326, 1.69403643, 1.36729252, 1.61415071, 1.12104981],\n",
    "        [1.72201435, 1.1862918 , 1.87078449, 1.7726778 , 1.88180042]],\n",
    "\n",
    "       [[1.44747908, 1.31673383, 1.02000951, 1.52218947, 1.97066381],\n",
    "        [1.79129243, 1.74983003, 1.96028037, 1.85166831, 1.65450881],\n",
    "        [1.18068344, 1.9587381 , 1.00656599, 1.93402165, 1.73514584]]])\n",
    "\n",
    "Your f should be:\n",
    "array([[[ 75.,  75.,  75.,  25.,  75.],\n",
    "        [ 75.,  75.,  25.,  25.,  25.],\n",
    "        [ 75.,  25.,  75.,  75.,  75.]],\n",
    "\n",
    "       [[ 25.,  25.,  25.,  25., 100.],\n",
    "        [ 75.,  75.,  75.,  75.,  75.],\n",
    "        [ 25.,  75.,   0.,  75.,  75.]]])\n",
    "\n"
   ]
  },
  {
   "cell_type": "code",
   "execution_count": 58,
   "metadata": {},
   "outputs": [
    {
     "name": "stdout",
     "output_type": "stream",
     "text": [
      "[[[1.03603205 1.32622793 1.76755201 1.22657145 1.03607696]\n",
      "  [1.30631933 1.24346376 1.14202934 1.33594679 1.35293681]\n",
      "  [1.74846405 1.54312228 1.87561326 1.80882994 1.80692789]]\n",
      "\n",
      " [[1.63661704 1.26738321 1.61149809 1.46729431 1.93275384]\n",
      "  [1.09732154 1.25129205 1.22602031 1.69394947 1.79843082]\n",
      "  [1.57320044 1.90105587 1.0023414  1.25067835 1.24640423]]]\n",
      "[[[25. 25. 75. 25. 25.]\n",
      "  [25. 25. 25. 25. 25.]\n",
      "  [75. 75. 75. 75. 75.]]\n",
      "\n",
      " [[75. 25. 75. 75. 50.]\n",
      "  [25. 25. 25. 75. 75.]\n",
      "  [75. 75.  0. 25. 25.]]]\n"
     ]
    }
   ],
   "source": [
    "print(d)\n",
    "print(f)\n",
    "\n",
    "#yes"
   ]
  },
  {
   "cell_type": "markdown",
   "metadata": {},
   "source": [
    "### 18. Bonus question: instead of using numbers (i.e. 0, 25, 50, 75, and 100), how to use string values \n",
    "(\"A\", \"B\", \"C\", \"D\", and \"E\") to label the array elements? You are expecting the result to be:\n",
    "array([[[ 'D',  'D',  'D',  'B',  'D'],\n",
    "        [ 'D',  'D',  'B',  'B',  'B'],\n",
    "        [ 'D',  'B',  'D',  'D',  'D']],\n",
    "\n",
    "       [[ 'B',  'B',  'B',  'B',  'E'],\n",
    "        [ 'D',  'D',  'D',  'D',  'D'],\n",
    "        [ 'B',  'D',   'A',  'D', 'D']]])\n",
    "Again, you don't need Numpy in this question."
   ]
  },
  {
   "cell_type": "code",
   "execution_count": 62,
   "metadata": {},
   "outputs": [
    {
     "data": {
      "text/plain": [
       "array([[['B', 'B', 'D', 'B', 'B'],\n",
       "        ['B', 'B', 'B', 'B', 'B'],\n",
       "        ['D', 'D', 'D', 'D', 'D']],\n",
       "\n",
       "       [['D', 'B', 'D', 'D', 'E'],\n",
       "        ['B', 'B', 'B', 'D', 'D'],\n",
       "        ['D', 'D', 'A', 'B', 'B']]], dtype='<U1')"
      ]
     },
     "execution_count": 62,
     "metadata": {},
     "output_type": "execute_result"
    }
   ],
   "source": [
    "\n",
    "f_char = np.empty(f.shape, dtype=str) # \"copy\" shape of f but use str instead of float\n",
    "\n",
    "f_char[(d == d_min)] = \"A\"\n",
    "f_char[(d > d_min) & (d < d_mean)] = \"B\"\n",
    "f_char[(d == d_mean)] = \"C\"\n",
    "f_char[(d > d_mean) & (d < d_max)] = \"D\"\n",
    "f_char[(d == d_max)] = \"E\"\n",
    "\n",
    "# this technique is called boolen indexing\n",
    "\n",
    "\n",
    "\n",
    "f_char"
   ]
  }
 ],
 "metadata": {
  "kernelspec": {
   "display_name": "Python 3",
   "language": "python",
   "name": "python3"
  },
  "language_info": {
   "codemirror_mode": {
    "name": "ipython",
    "version": 3
   },
   "file_extension": ".py",
   "mimetype": "text/x-python",
   "name": "python",
   "nbconvert_exporter": "python",
   "pygments_lexer": "ipython3",
   "version": "3.11.1"
  }
 },
 "nbformat": 4,
 "nbformat_minor": 2
}
