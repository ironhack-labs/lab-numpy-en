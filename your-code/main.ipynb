{
 "cells": [
  {
   "cell_type": "markdown",
   "metadata": {},
   "source": [
    "# Lab | Numpy Deep Dive"
   ]
  },
  {
   "cell_type": "markdown",
   "metadata": {},
   "source": [
    "### 1. Import the NUMPY package under the name np.\n"
   ]
  },
  {
   "cell_type": "code",
   "execution_count": 1,
   "metadata": {},
   "outputs": [],
   "source": [
    "### [your code here]\n",
    "import numpy as np"
   ]
  },
  {
   "cell_type": "markdown",
   "metadata": {},
   "source": [
    "\n",
    "\n",
    "### 2. Print the NUMPY version and the configuration.\n"
   ]
  },
  {
   "cell_type": "code",
   "execution_count": 2,
   "metadata": {},
   "outputs": [
    {
     "name": "stdout",
     "output_type": "stream",
     "text": [
      "1.26.4\n",
      "Loaded 1.26.4 version of numpy!!!\n"
     ]
    }
   ],
   "source": [
    "### [your code here]\n",
    "print(np.__version__)\n",
    "print(\"Loaded\", np.__version__, \"version of numpy!!!\")"
   ]
  },
  {
   "cell_type": "markdown",
   "metadata": {},
   "source": [
    "### 3. Generate a 2x3x5 3-dimensional array with random values. Assign the array to variable \"a\"\n",
    "Challenge: there are at least three easy ways that use numpy to generate random arrays. How many ways can you find?\n"
   ]
  },
  {
   "cell_type": "code",
   "execution_count": 3,
   "metadata": {},
   "outputs": [
    {
     "name": "stdout",
     "output_type": "stream",
     "text": [
      "Random array with np.random.rand:\n",
      " [[[0.58428446 0.60607821 0.0541152  0.74299659 0.78550535]\n",
      "  [0.2086138  0.02785458 0.87894035 0.53654555 0.74639764]\n",
      "  [0.33292232 0.70652789 0.71349606 0.25996682 0.72466057]]\n",
      "\n",
      " [[0.98846808 0.8129031  0.18944792 0.15129836 0.80673251]\n",
      "  [0.69630725 0.05006484 0.8508381  0.20884948 0.60758762]\n",
      "  [0.12933301 0.54091726 0.11371774 0.1661586  0.93428604]]]\n"
     ]
    }
   ],
   "source": [
    "### [your code here]\n",
    "a = np.random.rand(2,3,5)\n",
    "print(\"Random array with np.random.rand:\\n\", a)"
   ]
  },
  {
   "cell_type": "code",
   "execution_count": 4,
   "metadata": {},
   "outputs": [
    {
     "name": "stdout",
     "output_type": "stream",
     "text": [
      "Random Integers:\n",
      " [[[78 95 80 19 32]\n",
      "  [85 86 76 17 52]\n",
      "  [42 74 97 52 86]]\n",
      "\n",
      " [[78 95 60 21 81]\n",
      "  [87 44 32 69 34]\n",
      "  [92 80 50 20 68]]]\n"
     ]
    }
   ],
   "source": [
    "low, high = 10, 100 # do you have to specify the integers?\n",
    "random_integers = np.random.randint(low, high, size=(2, 3, 5))\n",
    "print(\"Random Integers:\\n\", random_integers)"
   ]
  },
  {
   "cell_type": "markdown",
   "metadata": {},
   "source": [
    "\n",
    "### 4. Print a.\n"
   ]
  },
  {
   "cell_type": "code",
   "execution_count": 5,
   "metadata": {},
   "outputs": [
    {
     "name": "stdout",
     "output_type": "stream",
     "text": [
      "Random array with np.random.rand:\n",
      " [[[0.58428446 0.60607821 0.0541152  0.74299659 0.78550535]\n",
      "  [0.2086138  0.02785458 0.87894035 0.53654555 0.74639764]\n",
      "  [0.33292232 0.70652789 0.71349606 0.25996682 0.72466057]]\n",
      "\n",
      " [[0.98846808 0.8129031  0.18944792 0.15129836 0.80673251]\n",
      "  [0.69630725 0.05006484 0.8508381  0.20884948 0.60758762]\n",
      "  [0.12933301 0.54091726 0.11371774 0.1661586  0.93428604]]]\n"
     ]
    }
   ],
   "source": [
    "### [your code here]\n",
    "print(\"Random array with np.random.rand:\\n\", a)"
   ]
  },
  {
   "cell_type": "markdown",
   "metadata": {},
   "source": [
    "### 5. Create a 5x2x3 3-dimensional array with all values equaling 1.\n",
    "### Assign the array to variable \"b\"\n"
   ]
  },
  {
   "cell_type": "code",
   "execution_count": 6,
   "metadata": {},
   "outputs": [],
   "source": [
    "### [your code here]\n",
    "b = np.ones((5,2,3))"
   ]
  },
  {
   "cell_type": "markdown",
   "metadata": {},
   "source": [
    "\n",
    "### 6. Print b.\n"
   ]
  },
  {
   "cell_type": "code",
   "execution_count": 7,
   "metadata": {},
   "outputs": [
    {
     "name": "stdout",
     "output_type": "stream",
     "text": [
      "array with all values equaling 1:\n",
      " [[[1. 1. 1.]\n",
      "  [1. 1. 1.]]\n",
      "\n",
      " [[1. 1. 1.]\n",
      "  [1. 1. 1.]]\n",
      "\n",
      " [[1. 1. 1.]\n",
      "  [1. 1. 1.]]\n",
      "\n",
      " [[1. 1. 1.]\n",
      "  [1. 1. 1.]]\n",
      "\n",
      " [[1. 1. 1.]\n",
      "  [1. 1. 1.]]]\n"
     ]
    }
   ],
   "source": [
    "### [your code here]\n",
    "print(\"array with all values equaling 1:\\n\", b)"
   ]
  },
  {
   "cell_type": "markdown",
   "metadata": {},
   "source": [
    "\n",
    "### 7. Do a and b have the same size? How do you prove that in Python code?\n"
   ]
  },
  {
   "cell_type": "code",
   "execution_count": 8,
   "metadata": {},
   "outputs": [
    {
     "name": "stdout",
     "output_type": "stream",
     "text": [
      "30\n",
      "30\n",
      "Do a and b have the same size? True\n"
     ]
    }
   ],
   "source": [
    "### [your code here]\n",
    "print(a.size)\n",
    "print(b.size)\n",
    "\n",
    "same_size = a.size == b.size\n",
    "print(\"Do a and b have the same size?\", same_size)"
   ]
  },
  {
   "cell_type": "markdown",
   "metadata": {},
   "source": [
    "\n",
    "### 8. Are you able to add a and b? Why or why not?\n"
   ]
  },
  {
   "cell_type": "code",
   "execution_count": 9,
   "metadata": {},
   "outputs": [
    {
     "ename": "ValueError",
     "evalue": "operands could not be broadcast together with shapes (2,3,5) (5,2,3) ",
     "output_type": "error",
     "traceback": [
      "\u001b[0;31m---------------------------------------------------------------------------\u001b[0m",
      "\u001b[0;31mValueError\u001b[0m                                Traceback (most recent call last)",
      "Cell \u001b[0;32mIn[9], line 2\u001b[0m\n\u001b[1;32m      1\u001b[0m \u001b[38;5;66;03m### [your code here]\u001b[39;00m\n\u001b[0;32m----> 2\u001b[0m addition \u001b[38;5;241m=\u001b[39m a \u001b[38;5;241m+\u001b[39m b\n",
      "\u001b[0;31mValueError\u001b[0m: operands could not be broadcast together with shapes (2,3,5) (5,2,3) "
     ]
    }
   ],
   "source": [
    "### [your code here]\n",
    "addition = a + b\n",
    "\n",
    "# ValueError: operands could not be broadcast together with shapes (2,3,5) (5,2,3) \n",
    "# -----\n",
    "# a and b are same size but different shape"
   ]
  },
  {
   "cell_type": "markdown",
   "metadata": {},
   "source": [
    "\n",
    "\n",
    "### 9. Transpose b so that it has the same structure of a (i.e. become a 2x3x5 array). Assign the transposed array to varialbe \"c\".\n"
   ]
  },
  {
   "cell_type": "code",
   "execution_count": 11,
   "metadata": {},
   "outputs": [
    {
     "name": "stdout",
     "output_type": "stream",
     "text": [
      "Shape of c after transposition:\n",
      " (2, 3, 5)\n"
     ]
    }
   ],
   "source": [
    "### [your code here]\n",
    "c = b.transpose((1, 2, 0)) # do not understand why these numbers there!\n",
    "# c = b.transpose()\n",
    "print(\"Shape of c after transposition:\\n\", c.shape)\n"
   ]
  },
  {
   "cell_type": "markdown",
   "metadata": {},
   "source": [
    "\n",
    "### 10. Try to add a and c. Now it should work. Assign the sum to variable \"d\". But why does it work now?\n"
   ]
  },
  {
   "cell_type": "code",
   "execution_count": 12,
   "metadata": {},
   "outputs": [],
   "source": [
    "### [your code here]\n",
    "\n",
    "d = a + c\n",
    "\n",
    "# it works because they are the same shape (and size)!\n"
   ]
  },
  {
   "cell_type": "markdown",
   "metadata": {},
   "source": [
    "\n",
    "### 11. Print a and d. Notice the difference and relation of the two array in terms of the values? Explain.\n"
   ]
  },
  {
   "cell_type": "code",
   "execution_count": 13,
   "metadata": {},
   "outputs": [
    {
     "name": "stdout",
     "output_type": "stream",
     "text": [
      "[[[1.58428446 1.60607821 1.0541152  1.74299659 1.78550535]\n",
      "  [1.2086138  1.02785458 1.87894035 1.53654555 1.74639764]\n",
      "  [1.33292232 1.70652789 1.71349606 1.25996682 1.72466057]]\n",
      "\n",
      " [[1.98846808 1.8129031  1.18944792 1.15129836 1.80673251]\n",
      "  [1.69630725 1.05006484 1.8508381  1.20884948 1.60758762]\n",
      "  [1.12933301 1.54091726 1.11371774 1.1661586  1.93428604]]]\n"
     ]
    }
   ],
   "source": [
    "### [your code here]\n",
    "print(d)\n"
   ]
  },
  {
   "cell_type": "markdown",
   "metadata": {},
   "source": [
    "\n",
    "### 12. Multiply a and c. Assign the result to e.\n"
   ]
  },
  {
   "cell_type": "code",
   "execution_count": 15,
   "metadata": {},
   "outputs": [
    {
     "name": "stdout",
     "output_type": "stream",
     "text": [
      "[[[0.58428446 0.60607821 0.0541152  0.74299659 0.78550535]\n",
      "  [0.2086138  0.02785458 0.87894035 0.53654555 0.74639764]\n",
      "  [0.33292232 0.70652789 0.71349606 0.25996682 0.72466057]]\n",
      "\n",
      " [[0.98846808 0.8129031  0.18944792 0.15129836 0.80673251]\n",
      "  [0.69630725 0.05006484 0.8508381  0.20884948 0.60758762]\n",
      "  [0.12933301 0.54091726 0.11371774 0.1661586  0.93428604]]]\n"
     ]
    }
   ],
   "source": [
    "### [your code here]\n",
    "e = a * c\n",
    "print(e)"
   ]
  },
  {
   "cell_type": "markdown",
   "metadata": {},
   "source": [
    "\n",
    "\n",
    "### 13. Does e equal to a? Why or why not?\n"
   ]
  },
  {
   "cell_type": "code",
   "execution_count": 17,
   "metadata": {},
   "outputs": [
    {
     "name": "stdout",
     "output_type": "stream",
     "text": [
      "Are `a` and `e` the same? [[[ True  True  True  True  True]\n",
      "  [ True  True  True  True  True]\n",
      "  [ True  True  True  True  True]]\n",
      "\n",
      " [[ True  True  True  True  True]\n",
      "  [ True  True  True  True  True]\n",
      "  [ True  True  True  True  True]]]\n"
     ]
    }
   ],
   "source": [
    "### [your code here]\n",
    "\n",
    "are_same = a == e\n",
    "print(\"Are `a` and `e` the same?\", are_same)  \n",
    "\n",
    "# Do not understand why!!!"
   ]
  },
  {
   "cell_type": "markdown",
   "metadata": {},
   "source": [
    "\n",
    "\n",
    "### 14. Identify the max, min, and mean values in d. Assign those values to variables \"d_max\", \"d_min\", and \"d_mean\"\n"
   ]
  },
  {
   "cell_type": "code",
   "execution_count": 18,
   "metadata": {},
   "outputs": [
    {
     "name": "stdout",
     "output_type": "stream",
     "text": [
      "Max value in d: 1.9884680765392746\n",
      "Min value in d: 1.0278545789149813\n",
      "Mean value in d: 1.5051938432536711\n"
     ]
    }
   ],
   "source": [
    "### [your code here]\n",
    "\n",
    "d_max = np.max(d)\n",
    "\n",
    "d_min = np.min(d)\n",
    "\n",
    "# Find the mean value in the array\n",
    "d_mean = np.mean(d)\n",
    "\n",
    "print(\"Max value in d:\", d_max)\n",
    "print(\"Min value in d:\", d_min)\n",
    "print(\"Mean value in d:\", d_mean)\n"
   ]
  },
  {
   "cell_type": "markdown",
   "metadata": {},
   "source": [
    "### 15. Now we want to label the values in d. First create an empty array \"f\" with the same shape (i.e. 2x3x5) as d using `np.empty`."
   ]
  },
  {
   "cell_type": "code",
   "execution_count": 20,
   "metadata": {},
   "outputs": [
    {
     "name": "stdout",
     "output_type": "stream",
     "text": [
      "[[[0.58428446 0.60607821 0.0541152  0.74299659 0.78550535]\n",
      "  [0.2086138  0.02785458 0.87894035 0.53654555 0.74639764]\n",
      "  [0.33292232 0.70652789 0.71349606 0.25996682 0.72466057]]\n",
      "\n",
      " [[0.98846808 0.8129031  0.18944792 0.15129836 0.80673251]\n",
      "  [0.69630725 0.05006484 0.8508381  0.20884948 0.60758762]\n",
      "  [0.12933301 0.54091726 0.11371774 0.1661586  0.93428604]]]\n"
     ]
    }
   ],
   "source": [
    "### [your code here]\n",
    "\n",
    "f = np.empty((2,3,5))\n",
    "print(f)"
   ]
  },
  {
   "cell_type": "markdown",
   "metadata": {},
   "source": [
    "### 16. Populate the values in f. For each value in d, if it's larger than d_min but smaller than d_mean, assign 25 to the corresponding value in f.\n",
    "If a value in d is larger than d_mean but smaller than d_max, assign 75 to the corresponding value in f.\n",
    "If a value equals to d_mean, assign 50 to the corresponding value in f.\n",
    "Assign 0 to the corresponding value(s) in f for d_min in d.\n",
    "Assign 100 to the corresponding value(s) in f for d_max in d.\n",
    "In the end, f should have only the following values: 0, 25, 50, 75, and 100.\n",
    "Note: you don't have to use Numpy in this question.\n",
    "\n"
   ]
  },
  {
   "cell_type": "code",
   "execution_count": 21,
   "metadata": {},
   "outputs": [
    {
     "name": "stdout",
     "output_type": "stream",
     "text": [
      "Array f:\n",
      " [[[ 75.  75.  25.  75.  75.]\n",
      "  [ 25.   0.  75.  75.  75.]\n",
      "  [ 25.  75.  75.  25.  75.]]\n",
      "\n",
      " [[100.  75.  25.  25.  75.]\n",
      "  [ 75.  25.  75.  25.  75.]\n",
      "  [ 25.  75.  25.  25.  75.]]]\n"
     ]
    }
   ],
   "source": [
    "### [your code here]\n",
    "\n",
    "for i in range(d.shape[0]):\n",
    "    for j in range(d.shape[1]):\n",
    "        for k in range(d.shape[2]):\n",
    "            if d[i, j, k] == d_min:\n",
    "                f[i, j, k] = 0\n",
    "            elif d[i, j, k] == d_max:\n",
    "                f[i, j, k] = 100\n",
    "            elif d[i, j, k] == d_mean:\n",
    "                f[i, j, k] = 50\n",
    "            elif d[i, j, k] > d_min and d[i, j, k] < d_mean:\n",
    "                f[i, j, k] = 25\n",
    "            elif d[i, j, k] > d_mean and d[i, j, k] < d_max:\n",
    "                f[i, j, k] = 75\n",
    "\n",
    "# Print the populated array f\n",
    "print(\"Array f:\\n\", f)"
   ]
  },
  {
   "cell_type": "markdown",
   "metadata": {},
   "source": [
    "\n",
    "\n",
    "\n",
    "\n",
    "### 17. Print d and f. Do you have your expected f?\n",
    "For instance, if your d is:\n",
    "array([[[1.85836099, 1.67064465, 1.62576044, 1.40243961, 1.88454931],\n",
    "        [1.75354326, 1.69403643, 1.36729252, 1.61415071, 1.12104981],\n",
    "        [1.72201435, 1.1862918 , 1.87078449, 1.7726778 , 1.88180042]],\n",
    "\n",
    "       [[1.44747908, 1.31673383, 1.02000951, 1.52218947, 1.97066381],\n",
    "        [1.79129243, 1.74983003, 1.96028037, 1.85166831, 1.65450881],\n",
    "        [1.18068344, 1.9587381 , 1.00656599, 1.93402165, 1.73514584]]])\n",
    "\n",
    "Your f should be:\n",
    "array([[[ 75.,  75.,  75.,  25.,  75.],\n",
    "        [ 75.,  75.,  25.,  25.,  25.],\n",
    "        [ 75.,  25.,  75.,  75.,  75.]],\n",
    "\n",
    "       [[ 25.,  25.,  25.,  25., 100.],\n",
    "        [ 75.,  75.,  75.,  75.,  75.],\n",
    "        [ 25.,  75.,   0.,  75.,  75.]]])\n",
    "\n"
   ]
  },
  {
   "cell_type": "code",
   "execution_count": 22,
   "metadata": {},
   "outputs": [
    {
     "name": "stdout",
     "output_type": "stream",
     "text": [
      "This is D: [[[1.58428446 1.60607821 1.0541152  1.74299659 1.78550535]\n",
      "  [1.2086138  1.02785458 1.87894035 1.53654555 1.74639764]\n",
      "  [1.33292232 1.70652789 1.71349606 1.25996682 1.72466057]]\n",
      "\n",
      " [[1.98846808 1.8129031  1.18944792 1.15129836 1.80673251]\n",
      "  [1.69630725 1.05006484 1.8508381  1.20884948 1.60758762]\n",
      "  [1.12933301 1.54091726 1.11371774 1.1661586  1.93428604]]] \n",
      "\n",
      "This is F: [[[ 75.  75.  25.  75.  75.]\n",
      "  [ 25.   0.  75.  75.  75.]\n",
      "  [ 25.  75.  75.  25.  75.]]\n",
      "\n",
      " [[100.  75.  25.  25.  75.]\n",
      "  [ 75.  25.  75.  25.  75.]\n",
      "  [ 25.  75.  25.  25.  75.]]] \n",
      "\n"
     ]
    }
   ],
   "source": [
    "### [your code here]\n",
    "print(\"This is D:\", d, \"\\n\")\n",
    "print(\"This is F:\", f, \"\\n\")"
   ]
  },
  {
   "cell_type": "markdown",
   "metadata": {},
   "source": [
    "### 18. Bonus question: instead of using numbers (i.e. 0, 25, 50, 75, and 100), how to use string values \n",
    "(\"A\", \"B\", \"C\", \"D\", and \"E\") to label the array elements? You are expecting the result to be:\n",
    "array([[[ 'D',  'D',  'D',  'B',  'D'],\n",
    "        [ 'D',  'D',  'B',  'B',  'B'],\n",
    "        [ 'D',  'B',  'D',  'D',  'D']],\n",
    "\n",
    "       [[ 'B',  'B',  'B',  'B',  'E'],\n",
    "        [ 'D',  'D',  'D',  'D',  'D'],\n",
    "        [ 'B',  'D',   'A',  'D', 'D']]])\n",
    "Again, you don't need Numpy in this question."
   ]
  },
  {
   "cell_type": "code",
   "execution_count": 24,
   "metadata": {},
   "outputs": [
    {
     "name": "stdout",
     "output_type": "stream",
     "text": [
      "Array f with string labels:\n",
      " [[['D' 'D' 'B' 'D' 'D']\n",
      "  ['B' 'A' 'D' 'D' 'D']\n",
      "  ['B' 'D' 'D' 'B' 'D']]\n",
      "\n",
      " [['E' 'D' 'B' 'B' 'D']\n",
      "  ['D' 'B' 'D' 'B' 'D']\n",
      "  ['B' 'D' 'B' 'B' 'D']]]\n"
     ]
    }
   ],
   "source": [
    "### [your code here]\n",
    "g = np.empty(d.shape, dtype=object)\n",
    "\n",
    "\n",
    "for i in range(d.shape[0]):\n",
    "    for j in range(d.shape[1]):\n",
    "        for k in range(d.shape[2]):\n",
    "            if d[i, j, k] == d_min:\n",
    "                g[i, j, k] = \"A\"   # Assign label \"A\" for d_min\n",
    "            elif d[i, j, k] == d_max:\n",
    "                g[i, j, k] = \"E\"   # Assign label \"E\" for d_max\n",
    "            elif d[i, j, k] == d_mean:\n",
    "                g[i, j, k] = \"C\"   # Assign label \"C\" for d_mean\n",
    "            elif d[i, j, k] > d_min and d[i, j, k] < d_mean:\n",
    "                g[i, j, k] = \"B\"   # Assign label \"B\" for values between d_min and d_mean\n",
    "            elif d[i, j, k] > d_mean and d[i, j, k] < d_max:\n",
    "                g[i, j, k] = \"D\"   # Assign label \"D\" for values between d_mean and d_max\n",
    "\n",
    "# Print the populated array f\n",
    "print(\"Array f with string labels:\\n\", g)\n"
   ]
  }
 ],
 "metadata": {
  "kernelspec": {
   "display_name": "base",
   "language": "python",
   "name": "python3"
  },
  "language_info": {
   "codemirror_mode": {
    "name": "ipython",
    "version": 3
   },
   "file_extension": ".py",
   "mimetype": "text/x-python",
   "name": "python",
   "nbconvert_exporter": "python",
   "pygments_lexer": "ipython3",
   "version": "3.12.7"
  }
 },
 "nbformat": 4,
 "nbformat_minor": 2
}
