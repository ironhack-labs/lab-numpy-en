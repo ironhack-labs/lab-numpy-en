{
 "cells": [
  {
   "cell_type": "markdown",
   "metadata": {},
   "source": [
    "# Lab | Numpy Deep Dive"
   ]
  },
  {
   "cell_type": "markdown",
   "metadata": {},
   "source": [
    "### 1. Import the NUMPY package under the name np.\n"
   ]
  },
  {
   "cell_type": "code",
   "execution_count": 2,
   "metadata": {},
   "outputs": [
    {
     "name": "stdout",
     "output_type": "stream",
     "text": [
      "Collecting numpy\n",
      "  Downloading numpy-2.2.3-cp311-cp311-win_amd64.whl.metadata (60 kB)\n",
      "     ---------------------------------------- 0.0/60.8 kB ? eta -:--:--\n",
      "     ------ --------------------------------- 10.2/60.8 kB ? eta -:--:--\n",
      "     ------------------- ------------------ 30.7/60.8 kB 262.6 kB/s eta 0:00:01\n",
      "     ------------------------------- ------ 51.2/60.8 kB 375.8 kB/s eta 0:00:01\n",
      "     -------------------------------------- 60.8/60.8 kB 404.8 kB/s eta 0:00:00\n",
      "Downloading numpy-2.2.3-cp311-cp311-win_amd64.whl (12.9 MB)\n",
      "   ---------------------------------------- 0.0/12.9 MB ? eta -:--:--\n",
      "    --------------------------------------- 0.2/12.9 MB 3.5 MB/s eta 0:00:04\n",
      "   -- ------------------------------------- 0.8/12.9 MB 8.2 MB/s eta 0:00:02\n",
      "   ------ --------------------------------- 2.1/12.9 MB 14.7 MB/s eta 0:00:01\n",
      "   --------- ------------------------------ 3.0/12.9 MB 17.3 MB/s eta 0:00:01\n",
      "   ----------- ---------------------------- 3.6/12.9 MB 15.2 MB/s eta 0:00:01\n",
      "   --------------- ------------------------ 4.9/12.9 MB 17.3 MB/s eta 0:00:01\n",
      "   ------------------ --------------------- 5.9/12.9 MB 19.8 MB/s eta 0:00:01\n",
      "   ---------------------- ----------------- 7.3/12.9 MB 19.4 MB/s eta 0:00:01\n",
      "   --------------------------- ------------ 8.8/12.9 MB 20.8 MB/s eta 0:00:01\n",
      "   ------------------------------ --------- 9.8/12.9 MB 21.6 MB/s eta 0:00:01\n",
      "   -------------------------------- ------- 10.4/12.9 MB 21.8 MB/s eta 0:00:01\n",
      "   --------------------------------- ------ 10.8/12.9 MB 21.8 MB/s eta 0:00:01\n",
      "   ---------------------------------- ----- 11.2/12.9 MB 20.5 MB/s eta 0:00:01\n",
      "   ---------------------------------------  12.9/12.9 MB 20.5 MB/s eta 0:00:01\n",
      "   ---------------------------------------  12.9/12.9 MB 21.1 MB/s eta 0:00:01\n",
      "   ---------------------------------------  12.9/12.9 MB 21.1 MB/s eta 0:00:01\n",
      "   ---------------------------------------  12.9/12.9 MB 17.2 MB/s eta 0:00:01\n",
      "   ---------------------------------------- 12.9/12.9 MB 16.4 MB/s eta 0:00:00\n",
      "Installing collected packages: numpy\n",
      "Successfully installed numpy-2.2.3\n",
      "Note: you may need to restart the kernel to use updated packages.\n"
     ]
    },
    {
     "name": "stderr",
     "output_type": "stream",
     "text": [
      "  WARNING: The scripts f2py.exe and numpy-config.exe are installed in 'c:\\Users\\44758\\AppData\\Local\\Programs\\Python\\Python311\\Scripts' which is not on PATH.\n",
      "  Consider adding this directory to PATH or, if you prefer to suppress this warning, use --no-warn-script-location.\n",
      "\n",
      "[notice] A new release of pip is available: 24.0 -> 25.0.1\n",
      "[notice] To update, run: python.exe -m pip install --upgrade pip\n"
     ]
    }
   ],
   "source": [
    "pip install numpy "
   ]
  },
  {
   "cell_type": "code",
   "execution_count": 5,
   "metadata": {},
   "outputs": [],
   "source": [
    "### [your code here]\n",
    "\n",
    "import numpy as np "
   ]
  },
  {
   "cell_type": "markdown",
   "metadata": {},
   "source": [
    "\n",
    "\n",
    "### 2. Print the NUMPY version and the configuration.\n"
   ]
  },
  {
   "cell_type": "code",
   "execution_count": null,
   "metadata": {},
   "outputs": [
    {
     "name": "stdout",
     "output_type": "stream",
     "text": [
      "NumPy Version: 2.2.3\n",
      "{\n",
      "  \"Compilers\": {\n",
      "    \"c\": {\n",
      "      \"name\": \"msvc\",\n",
      "      \"linker\": \"link\",\n",
      "      \"version\": \"19.29.30158\",\n",
      "      \"commands\": \"cl\"\n",
      "    },\n",
      "    \"cython\": {\n",
      "      \"name\": \"cython\",\n",
      "      \"linker\": \"cython\",\n",
      "      \"version\": \"3.0.12\",\n",
      "      \"commands\": \"cython\"\n",
      "    },\n",
      "    \"c++\": {\n",
      "      \"name\": \"msvc\",\n",
      "      \"linker\": \"link\",\n",
      "      \"version\": \"19.29.30158\",\n",
      "      \"commands\": \"cl\"\n",
      "    }\n",
      "  },\n",
      "  \"Machine Information\": {\n",
      "    \"host\": {\n",
      "      \"cpu\": \"x86_64\",\n",
      "      \"family\": \"x86_64\",\n",
      "      \"endian\": \"little\",\n",
      "      \"system\": \"windows\"\n",
      "    },\n",
      "    \"build\": {\n",
      "      \"cpu\": \"x86_64\",\n",
      "      \"family\": \"x86_64\",\n",
      "      \"endian\": \"little\",\n",
      "      \"system\": \"windows\"\n",
      "    }\n",
      "  },\n",
      "  \"Build Dependencies\": {\n",
      "    \"blas\": {\n",
      "      \"name\": \"scipy-openblas\",\n",
      "      \"found\": true,\n",
      "      \"version\": \"0.3.28\",\n",
      "      \"detection method\": \"pkgconfig\",\n",
      "      \"include directory\": \"C:/Users/runneradmin/AppData/Local/Temp/cibw-run-3gfa2f0z/cp311-win_amd64/build/venv/Lib/site-packages/scipy_openblas64/include\",\n",
      "      \"lib directory\": \"C:/Users/runneradmin/AppData/Local/Temp/cibw-run-3gfa2f0z/cp311-win_amd64/build/venv/Lib/site-packages/scipy_openblas64/lib\",\n",
      "      \"openblas configuration\": \"OpenBLAS 0.3.28  USE64BITINT DYNAMIC_ARCH NO_AFFINITY Haswell MAX_THREADS=24\",\n",
      "      \"pc file directory\": \"D:/a/numpy/numpy/.openblas\"\n",
      "    },\n",
      "    \"lapack\": {\n",
      "      \"name\": \"scipy-openblas\",\n",
      "      \"found\": true,\n",
      "      \"version\": \"0.3.28\",\n",
      "      \"detection method\": \"pkgconfig\",\n",
      "      \"include directory\": \"C:/Users/runneradmin/AppData/Local/Temp/cibw-run-3gfa2f0z/cp311-win_amd64/build/venv/Lib/site-packages/scipy_openblas64/include\",\n",
      "      \"lib directory\": \"C:/Users/runneradmin/AppData/Local/Temp/cibw-run-3gfa2f0z/cp311-win_amd64/build/venv/Lib/site-packages/scipy_openblas64/lib\",\n",
      "      \"openblas configuration\": \"OpenBLAS 0.3.28  USE64BITINT DYNAMIC_ARCH NO_AFFINITY Haswell MAX_THREADS=24\",\n",
      "      \"pc file directory\": \"D:/a/numpy/numpy/.openblas\"\n",
      "    }\n",
      "  },\n",
      "  \"Python Information\": {\n",
      "    \"path\": \"C:\\\\Users\\\\runneradmin\\\\AppData\\\\Local\\\\Temp\\\\build-env-k51dk6fd\\\\Scripts\\\\python.exe\",\n",
      "    \"version\": \"3.11\"\n",
      "  },\n",
      "  \"SIMD Extensions\": {\n",
      "    \"baseline\": [\n",
      "      \"SSE\",\n",
      "      \"SSE2\",\n",
      "      \"SSE3\"\n",
      "    ],\n",
      "    \"found\": [\n",
      "      \"SSSE3\",\n",
      "      \"SSE41\",\n",
      "      \"POPCNT\",\n",
      "      \"SSE42\",\n",
      "      \"AVX\",\n",
      "      \"F16C\",\n",
      "      \"FMA3\",\n",
      "      \"AVX2\"\n",
      "    ],\n",
      "    \"not found\": [\n",
      "      \"AVX512F\",\n",
      "      \"AVX512CD\",\n",
      "      \"AVX512_SKX\",\n",
      "      \"AVX512_CLX\",\n",
      "      \"AVX512_CNL\",\n",
      "      \"AVX512_ICL\"\n",
      "    ]\n",
      "  }\n",
      "}\n"
     ]
    }
   ],
   "source": [
    "### [your code here]\n",
    "\n",
    "# always \n",
    "\n",
    "import numpy as np\n",
    "\n",
    "import numpy as np\n",
    "\n",
    "# Print NumPy version\n",
    "print(\"NumPy Version:\", np.__version__)\n",
    "\n",
    "# Print NumPy configuration\n",
    "np.show_config()"
   ]
  },
  {
   "cell_type": "markdown",
   "metadata": {},
   "source": [
    "### 3. Generate a 2x3x5 3-dimensional array with random values. Assign the array to variable \"a\"\n",
    "Challenge: there are at least three easy ways that use numpy to generate random arrays. How many ways can you find?\n"
   ]
  },
  {
   "cell_type": "code",
   "execution_count": 21,
   "metadata": {},
   "outputs": [
    {
     "data": {
      "text/plain": [
       "array([[[0.50788513, 0.65665293, 0.21868339, 0.83983214, 0.85186942],\n",
       "        [0.81592989, 0.53816361, 0.46757717, 0.96872078, 0.94358588],\n",
       "        [0.5586492 , 0.96374114, 0.29093958, 0.98790934, 0.16036817]],\n",
       "\n",
       "       [[0.01731177, 0.72202906, 0.44855114, 0.16559893, 0.52281184],\n",
       "        [0.16640418, 0.29717067, 0.55946491, 0.7509776 , 0.15224743],\n",
       "        [0.53429428, 0.02908912, 0.93372087, 0.63861595, 0.53672755]]])"
      ]
     },
     "execution_count": 21,
     "metadata": {},
     "output_type": "execute_result"
    }
   ],
   "source": [
    "### [your code here]\n",
    "\n",
    "a = np.random.random((2, 3, 5))\n",
    "a"
   ]
  },
  {
   "cell_type": "markdown",
   "metadata": {},
   "source": [
    "\n",
    "### 4. Print a.\n"
   ]
  },
  {
   "cell_type": "code",
   "execution_count": 8,
   "metadata": {},
   "outputs": [
    {
     "name": "stdout",
     "output_type": "stream",
     "text": [
      "[[[0.55998681 0.68354908 0.08746149 0.09997123 0.75717385]\n",
      "  [0.94382026 0.30094668 0.22138776 0.20533802 0.96790591]\n",
      "  [0.88019918 0.50226338 0.8241074  0.20847646 0.78567968]]\n",
      "\n",
      " [[0.88366845 0.46698761 0.67422763 0.31368471 0.15919094]\n",
      "  [0.1885593  0.03501778 0.43721709 0.74512978 0.02186433]\n",
      "  [0.65133102 0.48294102 0.51996781 0.21624486 0.71661252]]]\n"
     ]
    }
   ],
   "source": [
    "### [your code here]\n",
    "print(a)"
   ]
  },
  {
   "cell_type": "markdown",
   "metadata": {},
   "source": [
    "### 5. Create a 5x2x3 3-dimensional array with all values equaling 1.\n",
    "### Assign the array to variable \"b\"\n"
   ]
  },
  {
   "cell_type": "code",
   "execution_count": 20,
   "metadata": {},
   "outputs": [
    {
     "data": {
      "text/plain": [
       "array([[[1., 1., 1.],\n",
       "        [1., 1., 1.]],\n",
       "\n",
       "       [[1., 1., 1.],\n",
       "        [1., 1., 1.]],\n",
       "\n",
       "       [[1., 1., 1.],\n",
       "        [1., 1., 1.]],\n",
       "\n",
       "       [[1., 1., 1.],\n",
       "        [1., 1., 1.]],\n",
       "\n",
       "       [[1., 1., 1.],\n",
       "        [1., 1., 1.]]])"
      ]
     },
     "execution_count": 20,
     "metadata": {},
     "output_type": "execute_result"
    }
   ],
   "source": [
    "### [your code here]\n",
    "\n",
    "\n",
    "b = np.ones([5, 2, 3]) \n",
    "b "
   ]
  },
  {
   "cell_type": "markdown",
   "metadata": {},
   "source": [
    "\n",
    "### 6. Print b.\n"
   ]
  },
  {
   "cell_type": "code",
   "execution_count": 22,
   "metadata": {},
   "outputs": [
    {
     "name": "stdout",
     "output_type": "stream",
     "text": [
      "[[[1. 1. 1.]\n",
      "  [1. 1. 1.]]\n",
      "\n",
      " [[1. 1. 1.]\n",
      "  [1. 1. 1.]]\n",
      "\n",
      " [[1. 1. 1.]\n",
      "  [1. 1. 1.]]\n",
      "\n",
      " [[1. 1. 1.]\n",
      "  [1. 1. 1.]]\n",
      "\n",
      " [[1. 1. 1.]\n",
      "  [1. 1. 1.]]]\n"
     ]
    }
   ],
   "source": [
    "### [your code here]\n",
    "\n",
    "print(b)\n"
   ]
  },
  {
   "cell_type": "markdown",
   "metadata": {},
   "source": [
    "\n",
    "### 7. Do a and b have the same size? How do you prove that in Python code?\n"
   ]
  },
  {
   "cell_type": "code",
   "execution_count": 23,
   "metadata": {},
   "outputs": [
    {
     "name": "stdout",
     "output_type": "stream",
     "text": [
      "True\n",
      "30\n",
      "30\n"
     ]
    }
   ],
   "source": [
    "### [your code here]\n",
    "\n",
    "print(a.size == b.size)\n",
    "\n",
    "print(a.size)\n",
    "print(b.size) \n"
   ]
  },
  {
   "cell_type": "markdown",
   "metadata": {},
   "source": [
    "\n",
    "### 8. Are you able to add a and b? Why or why not?\n"
   ]
  },
  {
   "cell_type": "code",
   "execution_count": 26,
   "metadata": {},
   "outputs": [
    {
     "name": "stdout",
     "output_type": "stream",
     "text": [
      "False\n"
     ]
    }
   ],
   "source": [
    "### [your code here]\n",
    "\n",
    "print(a.shape == b.shape)\n",
    "\n"
   ]
  },
  {
   "cell_type": "markdown",
   "metadata": {},
   "source": [
    "\n",
    "\n",
    "### 9. Transpose b so that it has the same structure of a (i.e. become a 2x3x5 array). Assign the transposed array to varialbe \"c\".\n"
   ]
  },
  {
   "cell_type": "code",
   "execution_count": 53,
   "metadata": {},
   "outputs": [
    {
     "name": "stdout",
     "output_type": "stream",
     "text": [
      "Shape of c: (2, 3, 5)\n"
     ]
    }
   ],
   "source": [
    "### [your code here]\n",
    "import numpy as np\n",
    "\n",
    "# Original shape of b is (5, 2, 3)\n",
    "# change it to (2, 3, 5) like a\n",
    "\n",
    "# Transpose b to match a's shape (2x3x5)\n",
    "c = np.transpose(b, axes=(1, 2, 0))\n",
    "\n",
    "# Check the shape of c                                                                      \n",
    "print(\"Shape of c:\", c.shape)\n",
    "\n"
   ]
  },
  {
   "cell_type": "markdown",
   "metadata": {},
   "source": [
    "\n",
    "### 10. Try to add a and c. Now it should work. Assign the sum to variable \"d\". But why does it work now?\n"
   ]
  },
  {
   "cell_type": "code",
   "execution_count": 50,
   "metadata": {},
   "outputs": [
    {
     "name": "stdout",
     "output_type": "stream",
     "text": [
      "shape of d (2, 3, 5)\n"
     ]
    },
    {
     "data": {
      "text/plain": [
       "array([[[1.60681024, 1.91065071, 1.21374905, 1.50829009, 1.2344018 ],\n",
       "        [1.67181749, 1.06177377, 1.812884  , 1.72859356, 1.88680755],\n",
       "        [1.16309122, 1.32013356, 1.91427227, 1.17460228, 1.76492753]],\n",
       "\n",
       "       [[1.28257251, 1.60791403, 1.82464372, 1.57963687, 1.22544717],\n",
       "        [1.46336944, 1.80366873, 1.76957951, 1.53541142, 1.42711622],\n",
       "        [1.32434053, 1.57062101, 1.3745072 , 1.51123331, 1.01390802]]])"
      ]
     },
     "execution_count": 50,
     "metadata": {},
     "output_type": "execute_result"
    }
   ],
   "source": [
    "### [your code here]\n",
    "\n",
    "# add a and c \n",
    "\n",
    "d = a + c \n",
    "\n",
    "print(\"shape of d\", d.shape)\n",
    "d"
   ]
  },
  {
   "cell_type": "markdown",
   "metadata": {},
   "source": [
    "\n",
    "### 11. Print a and d. Notice the difference and relation of the two array in terms of the values? Explain.\n"
   ]
  },
  {
   "cell_type": "code",
   "execution_count": 57,
   "metadata": {},
   "outputs": [
    {
     "name": "stdout",
     "output_type": "stream",
     "text": [
      "Array a:\n",
      "[[[0.60681024 0.91065071 0.21374905 0.50829009 0.2344018 ]\n",
      "  [0.67181749 0.06177377 0.812884   0.72859356 0.88680755]\n",
      "  [0.16309122 0.32013356 0.91427227 0.17460228 0.76492753]]\n",
      "\n",
      " [[0.28257251 0.60791403 0.82464372 0.57963687 0.22544717]\n",
      "  [0.46336944 0.80366873 0.76957951 0.53541142 0.42711622]\n",
      "  [0.32434053 0.57062101 0.3745072  0.51123331 0.01390802]]]\n",
      "\n",
      "Array d:\n",
      "[[[1.60681024 1.91065071 1.21374905 1.50829009 1.2344018 ]\n",
      "  [1.67181749 1.06177377 1.812884   1.72859356 1.88680755]\n",
      "  [1.16309122 1.32013356 1.91427227 1.17460228 1.76492753]]\n",
      "\n",
      " [[1.28257251 1.60791403 1.82464372 1.57963687 1.22544717]\n",
      "  [1.46336944 1.80366873 1.76957951 1.53541142 1.42711622]\n",
      "  [1.32434053 1.57062101 1.3745072  1.51123331 1.01390802]]]\n"
     ]
    }
   ],
   "source": [
    "### [your code here]\n",
    "\n",
    "# Print Array a\n",
    "print(\"Array a:\")\n",
    "print(a)\n",
    "# Dont forget \\n for clairty and creates a space\n",
    "\n",
    "print(\"\\nArray d:\")\n",
    "print(d)\n"
   ]
  },
  {
   "cell_type": "markdown",
   "metadata": {},
   "source": [
    "\n",
    "### 12. Multiply a and c. Assign the result to e.\n"
   ]
  },
  {
   "cell_type": "code",
   "execution_count": 52,
   "metadata": {},
   "outputs": [
    {
     "data": {
      "text/plain": [
       "array([[[0.60681024, 0.91065071, 0.21374905, 0.50829009, 0.2344018 ],\n",
       "        [0.67181749, 0.06177377, 0.812884  , 0.72859356, 0.88680755],\n",
       "        [0.16309122, 0.32013356, 0.91427227, 0.17460228, 0.76492753]],\n",
       "\n",
       "       [[0.28257251, 0.60791403, 0.82464372, 0.57963687, 0.22544717],\n",
       "        [0.46336944, 0.80366873, 0.76957951, 0.53541142, 0.42711622],\n",
       "        [0.32434053, 0.57062101, 0.3745072 , 0.51123331, 0.01390802]]])"
      ]
     },
     "execution_count": 52,
     "metadata": {},
     "output_type": "execute_result"
    }
   ],
   "source": [
    "### [your code here]\n",
    "\n",
    "e = a * c\n",
    "e"
   ]
  },
  {
   "cell_type": "markdown",
   "metadata": {},
   "source": [
    "\n",
    "\n",
    "### 13. Does e equal to a? Why or why not?\n"
   ]
  },
  {
   "cell_type": "code",
   "execution_count": null,
   "metadata": {},
   "outputs": [
    {
     "name": "stdout",
     "output_type": "stream",
     "text": [
      "True\n"
     ]
    }
   ],
   "source": [
    "### [your code here]\n",
    "\n",
    "\n",
    "# Compare if e is equal to a\n",
    "print(np.array_equal(a, e))  # True if 'a' and 'e' are identical\n",
    "\n",
    "\n",
    "#Shape: They have the same dimensions both arrays are 2x3x5.\n",
    "#Values: All corresponding elements are equal (e.g., a[0,0,0] == e[0,0,0], a[1,2,4] == e[1,2,4]\n",
    "\n"
   ]
  },
  {
   "cell_type": "markdown",
   "metadata": {},
   "source": [
    "\n",
    "\n",
    "### 14. Identify the max, min, and mean values in d. Assign those values to variables \"d_max\", \"d_min\", and \"d_mean\"\n"
   ]
  },
  {
   "cell_type": "code",
   "execution_count": 59,
   "metadata": {},
   "outputs": [
    {
     "name": "stdout",
     "output_type": "stream",
     "text": [
      "max value in d: 1.914272273710373\n",
      "min value in d: 1.013908020475434\n",
      "mean value in d: 1.5095591608143117\n"
     ]
    }
   ],
   "source": [
    "### [your code here]\n",
    "\n",
    "# Assuming d is already defined\n",
    "\n",
    "# Calculate the max, min, and mean values of d\n",
    "d_max = np.max(d)\n",
    "d_min = np.min(d)\n",
    "d_mean = np.mean(d)\n",
    "\n",
    "\n",
    "print(\"max value in d:\", d_max)\n",
    "print(\"min value in d:\", d_min)\n",
    "print(\"mean value in d:\", d_mean)"
   ]
  },
  {
   "cell_type": "markdown",
   "metadata": {},
   "source": [
    "\n",
    "### 15. Now we want to label the values in d. First create an empty array \"f\" with the same shape (i.e. 2x3x5) as d using `np.empty`.\n"
   ]
  },
  {
   "cell_type": "code",
   "execution_count": 61,
   "metadata": {},
   "outputs": [
    {
     "name": "stdout",
     "output_type": "stream",
     "text": [
      "Shape of f: (2, 3, 5)\n"
     ]
    }
   ],
   "source": [
    "### [your code here]   \n",
    "\n",
    "# Create an empty array with the same shape as d\n",
    "f = np.empty(d.shape)\n",
    "\n",
    "# Print the shape of the new array f\n",
    "print(\"Shape of f:\", f.shape) "
   ]
  },
  {
   "cell_type": "markdown",
   "metadata": {},
   "source": [
    "\n",
    "\n",
    "\n",
    "### 16. Populate the values in f. For each value in d, if it's larger than d_min but smaller than d_mean, assign 25 to the corresponding value in f.\n",
    "If a value in d is larger than d_mean but smaller than d_max, assign 75 to the corresponding value in f.\n",
    "If a value equals to d_mean, assign 50 to the corresponding value in f.\n",
    "Assign 0 to the corresponding value(s) in f for d_min in d.\n",
    "Assign 100 to the corresponding value(s) in f for d_max in d.\n",
    "In the end, f should have only the following values: 0, 25, 50, 75, and 100.\n",
    "Note: you don't have to use Numpy in this question.\n",
    "\n"
   ]
  },
  {
   "cell_type": "code",
   "execution_count": 64,
   "metadata": {},
   "outputs": [
    {
     "name": "stdout",
     "output_type": "stream",
     "text": [
      "Array d:\n",
      "[[[1.60681024 1.91065071 1.21374905 1.50829009 1.2344018 ]\n",
      "  [1.67181749 1.06177377 1.812884   1.72859356 1.88680755]\n",
      "  [1.16309122 1.32013356 1.91427227 1.17460228 1.76492753]]\n",
      "\n",
      " [[1.28257251 1.60791403 1.82464372 1.57963687 1.22544717]\n",
      "  [1.46336944 1.80366873 1.76957951 1.53541142 1.42711622]\n",
      "  [1.32434053 1.57062101 1.3745072  1.51123331 1.01390802]]]\n",
      "\n",
      "Array f:\n",
      "[[[ 75.  75.  25.  25.  25.]\n",
      "  [ 75.  25.  75.  75.  75.]\n",
      "  [ 25.  25. 100.  25.  75.]]\n",
      "\n",
      " [[ 25.  75.  75.  75.  25.]\n",
      "  [ 25.  75.  75.  75.  25.]\n",
      "  [ 25.  75.  25.  75.   0.]]]\n"
     ]
    }
   ],
   "source": [
    "### [your code here]\n",
    "\n",
    "\n",
    "\n",
    "# assign 75 to the corresponding value in f. \n",
    "\n",
    "# Get the min, mean, and max of d\n",
    "d_min = np.min(d)\n",
    "d_mean = np.mean(d)\n",
    "d_max = np.max(d)\n",
    "\n",
    "# Create an empty array f with the same shape as d\n",
    "f = np.empty_like(d)\n",
    "\n",
    "# Populate f based on the given conditions\n",
    "f[(d > d_min) & (d < d_mean)] = 25\n",
    "f[(d > d_mean) & (d < d_max)] = 75\n",
    "f[d == d_mean] = 50\n",
    "f[d == d_min] = 0\n",
    "f[d == d_max] = 100\n",
    "\n",
    "# Print the results\n",
    "print(\"Array d:\")\n",
    "print(d)\n",
    "print(\"\\nArray f:\")\n",
    "print(f)"
   ]
  },
  {
   "cell_type": "markdown",
   "metadata": {},
   "source": [
    "\n",
    "\n",
    "\n",
    "\n",
    "### 17. Print d and f. Do you have your expected f?\n",
    "For instance, if your d is:\n",
    "array([[[1.85836099, 1.67064465, 1.62576044, 1.40243961, 1.88454931],\n",
    "        [1.75354326, 1.69403643, 1.36729252, 1.61415071, 1.12104981],\n",
    "        [1.72201435, 1.1862918 , 1.87078449, 1.7726778 , 1.88180042]],\n",
    "\n",
    "       [[1.44747908, 1.31673383, 1.02000951, 1.52218947, 1.97066381],\n",
    "        [1.79129243, 1.74983003, 1.96028037, 1.85166831, 1.65450881],\n",
    "        [1.18068344, 1.9587381 , 1.00656599, 1.93402165, 1.73514584]]])\n",
    "\n",
    "Your f should be:\n",
    "array([[[ 75.,  75.,  75.,  25.,  75.],\n",
    "        [ 75.,  75.,  25.,  25.,  25.],\n",
    "        [ 75.,  25.,  75.,  75.,  75.]],\n",
    "\n",
    "       [[ 25.,  25.,  25.,  25., 100.],\n",
    "        [ 75.,  75.,  75.,  75.,  75.],\n",
    "        [ 25.,  75.,   0.,  75.,  75.]]])\n",
    "\n"
   ]
  },
  {
   "cell_type": "code",
   "execution_count": null,
   "metadata": {},
   "outputs": [
    {
     "name": "stdout",
     "output_type": "stream",
     "text": [
      "Array d:\n",
      "[[[1.60681024 1.91065071 1.21374905 1.50829009 1.2344018 ]\n",
      "  [1.67181749 1.06177377 1.812884   1.72859356 1.88680755]\n",
      "  [1.16309122 1.32013356 1.91427227 1.17460228 1.76492753]]\n",
      "\n",
      " [[1.28257251 1.60791403 1.82464372 1.57963687 1.22544717]\n",
      "  [1.46336944 1.80366873 1.76957951 1.53541142 1.42711622]\n",
      "  [1.32434053 1.57062101 1.3745072  1.51123331 1.01390802]]]\n",
      "\n",
      "Array f:\n",
      "[[[ 75.  75.  25.  25.  25.]\n",
      "  [ 75.  25.  75.  75.  75.]\n",
      "  [ 25.  25. 100.  25.  75.]]\n",
      "\n",
      " [[ 25.  75.  75.  75.  25.]\n",
      "  [ 25.  75.  75.  75.  25.]\n",
      "  [ 25.  75.  25.  75.   0.]]]\n"
     ]
    }
   ],
   "source": [
    "### [your code here]\n",
    "# Print the d and f arrays\n",
    "print(\"Array d:\")\n",
    "print(d)\n",
    "\n",
    "print(\"\\nArray f:\")\n",
    "print(f)\n",
    "\n",
    "#If d is greater than d_min and smaller than d_mean, it should be assigned 25.\n",
    "#If d is greater than d_mean and smaller than d_max, it should be assigned 75.\n",
    "#If d equals d_mean, it should be 50.\n",
    "\n",
    " # Close to what i expected but not quite\n"
   ]
  },
  {
   "cell_type": "markdown",
   "metadata": {},
   "source": [
    "### 18. Bonus question: instead of using numbers (i.e. 0, 25, 50, 75, and 100), how to use string values \n",
    "(\"A\", \"B\", \"C\", \"D\", and \"E\") to label the array elements? You are expecting the result to be:\n",
    "array([[[ 'D',  'D',  'D',  'B',  'D'],\n",
    "        [ 'D',  'D',  'B',  'B',  'B'],\n",
    "        [ 'D',  'B',  'D',  'D',  'D']],\n",
    "\n",
    "       [[ 'B',  'B',  'B',  'B',  'E'],\n",
    "        [ 'D',  'D',  'D',  'D',  'D'],\n",
    "        [ 'B',  'D',   'A',  'D', 'D']]])\n",
    "Again, you don't need Numpy in this question."
   ]
  },
  {
   "cell_type": "code",
   "execution_count": 79,
   "metadata": {},
   "outputs": [
    {
     "name": "stdout",
     "output_type": "stream",
     "text": [
      "['D', 'D', 'D', 'B', 'D']\n",
      "['D', 'D', 'B', 'B', 'B']\n",
      "['D', 'B', 'D', 'D', 'D']\n",
      "['B', 'B', 'B', 'B', 'E']\n",
      "['D', 'D', 'D', 'D', 'D']\n",
      "['B', 'D', 'A', 'D', 'D']\n"
     ]
    }
   ],
   "source": [
    "# Define the function to convert numbers to string labels\n",
    "# if elif method\n",
    "# use return\n",
    "\n",
    "\n",
    "def get_label(value):\n",
    "    if value == 0:\n",
    "        return \"A\"\n",
    "    elif value == 25:\n",
    "        return \"B\"\n",
    "    elif value == 50:\n",
    "        return \"C\"\n",
    "    elif value == 75:\n",
    "        return \"D\"\n",
    "    elif value == 100:\n",
    "        return \"E\"\n",
    "    return None\n",
    "\n",
    "# f array\n",
    "# Create the 3D list with integer values (replace them with the corresponding labels)\n",
    "array = [\n",
    "    [\n",
    "        [75, 75, 75, 25, 75],\n",
    "        [75, 75, 25, 25, 25],\n",
    "        [75, 25, 75, 75, 75]\n",
    "    ],\n",
    "    [\n",
    "        [25, 25, 25, 25, 100],\n",
    "        [75, 75, 75, 75, 75],\n",
    "        [25, 75, 0, 75, 75]\n",
    "    ]\n",
    "]\n",
    "\n",
    "# Convert the array values to string labels\n",
    "labeled_array = [[[get_label(value) for value in row] for row in matrix] for matrix in array]\n",
    "\n",
    "# Output the labeled array\n",
    "for matrix in labeled_array:\n",
    "    for row in matrix:\n",
    "        print(row)\n",
    "\n"
   ]
  }
 ],
 "metadata": {
  "kernelspec": {
   "display_name": "Python 3",
   "language": "python",
   "name": "python3"
  },
  "language_info": {
   "codemirror_mode": {
    "name": "ipython",
    "version": 3
   },
   "file_extension": ".py",
   "mimetype": "text/x-python",
   "name": "python",
   "nbconvert_exporter": "python",
   "pygments_lexer": "ipython3",
   "version": "3.11.9"
  }
 },
 "nbformat": 4,
 "nbformat_minor": 2
}
