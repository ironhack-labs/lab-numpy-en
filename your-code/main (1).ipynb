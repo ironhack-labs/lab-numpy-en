{
 "cells": [
  {
   "cell_type": "markdown",
   "id": "6bc92912",
   "metadata": {},
   "source": [
    "1. Import the NUMPY package under the name np."
   ]
  },
  {
   "cell_type": "code",
   "execution_count": 2,
   "id": "b03c6af3",
   "metadata": {
    "lines_to_next_cell": 2
   },
   "outputs": [],
   "source": [
    "import numpy as np"
   ]
  },
  {
   "cell_type": "markdown",
   "id": "747ec855",
   "metadata": {},
   "source": [
    "2. Print the NUMPY version and the configuration."
   ]
  },
  {
   "cell_type": "markdown",
   "id": "942c1700",
   "metadata": {
    "lines_to_next_cell": 2
   },
   "source": [
    "[your code here]"
   ]
  },
  {
   "cell_type": "code",
   "execution_count": 3,
   "id": "679084de",
   "metadata": {},
   "outputs": [
    {
     "name": "stdout",
     "output_type": "stream",
     "text": [
      "2.1.2\n"
     ]
    }
   ],
   "source": [
    "print(np.version.version)"
   ]
  },
  {
   "cell_type": "markdown",
   "id": "a206a73d",
   "metadata": {},
   "source": [
    "3. Generate a 2x3x5 3-dimensional array with random values. Assign the array to variable \"a\"\n",
    "Challenge: there are at least three easy ways that use numpy to generate random arrays. How many ways can you find?"
   ]
  },
  {
   "cell_type": "markdown",
   "id": "6b3325d3",
   "metadata": {},
   "source": [
    "[your code here]"
   ]
  },
  {
   "cell_type": "markdown",
   "id": "f12cb670",
   "metadata": {},
   "source": [
    "4. Print a."
   ]
  },
  {
   "cell_type": "code",
   "execution_count": 11,
   "id": "840599c4",
   "metadata": {},
   "outputs": [
    {
     "name": "stdout",
     "output_type": "stream",
     "text": [
      "[[[ 0.04800119 -1.17395083 -1.80019707  0.07045441  0.88490761]\n",
      "  [ 0.63306299 -0.00180349  0.32408563 -0.71404066  0.85408715]\n",
      "  [ 0.70567591 -0.26986053 -0.26640909  0.85316018  1.15353967]]\n",
      "\n",
      " [[-0.36288667 -1.31914811  0.95843264  0.72813134 -1.52837584]\n",
      "  [ 0.18523833 -0.24293425  0.25112146  0.0587782   0.65981906]\n",
      "  [ 0.24665167  0.44944743 -0.14731973  1.76599204 -0.66688221]]]\n"
     ]
    }
   ],
   "source": [
    "a = np.random.randn(2, 3, 5)\n",
    "\n",
    "print(a)"
   ]
  },
  {
   "cell_type": "markdown",
   "id": "e62a61b2",
   "metadata": {},
   "source": [
    "[your code here]\n",
    "5. Create a 5x2x3 3-dimensional array with all values equaling 1.\n",
    "Assign the array to variable \"b\""
   ]
  },
  {
   "cell_type": "markdown",
   "id": "956265c9",
   "metadata": {},
   "source": [
    "[your code here]"
   ]
  },
  {
   "cell_type": "markdown",
   "id": "57b5a68d",
   "metadata": {},
   "source": [
    "6. Print b."
   ]
  },
  {
   "cell_type": "code",
   "execution_count": 7,
   "id": "246a54d2",
   "metadata": {},
   "outputs": [
    {
     "name": "stdout",
     "output_type": "stream",
     "text": [
      "[[[1. 1. 1.]\n",
      "  [1. 1. 1.]]\n",
      "\n",
      " [[1. 1. 1.]\n",
      "  [1. 1. 1.]]\n",
      "\n",
      " [[1. 1. 1.]\n",
      "  [1. 1. 1.]]\n",
      "\n",
      " [[1. 1. 1.]\n",
      "  [1. 1. 1.]]\n",
      "\n",
      " [[1. 1. 1.]\n",
      "  [1. 1. 1.]]]\n"
     ]
    }
   ],
   "source": [
    "b = np.ones((5, 2 , 3))\n",
    " \n",
    "\n",
    "#6. Print b.\n",
    "\n",
    "#[your code here]\n",
    "\n",
    "print(b)\n"
   ]
  },
  {
   "cell_type": "markdown",
   "id": "74a511c4",
   "metadata": {},
   "source": [
    "[your code here]"
   ]
  },
  {
   "cell_type": "markdown",
   "id": "c6927640",
   "metadata": {},
   "source": [
    "7. Do a and b have the same size? How do you prove that in Python code?"
   ]
  },
  {
   "cell_type": "markdown",
   "id": "96d346cc",
   "metadata": {},
   "source": [
    "[your code here]"
   ]
  },
  {
   "cell_type": "markdown",
   "id": "7fbfa190",
   "metadata": {},
   "source": [
    "8. Are you able to add a and b? Why or why not?"
   ]
  },
  {
   "cell_type": "markdown",
   "id": "06c9d497",
   "metadata": {
    "lines_to_next_cell": 2
   },
   "source": [
    "[your code here]"
   ]
  },
  {
   "cell_type": "markdown",
   "id": "15cd313f",
   "metadata": {},
   "source": [
    "9. Transpose b so that it has the same structure of a (i.e. become a 2x3x5 array). Assign the transposed array to varialbe \"c\"."
   ]
  },
  {
   "cell_type": "markdown",
   "id": "fd4be649",
   "metadata": {},
   "source": [
    "[your code here]"
   ]
  },
  {
   "cell_type": "markdown",
   "id": "0c919e93",
   "metadata": {},
   "source": [
    "10. Try to add a and c. Now it should work. Assign the sum to varialbe \"d\". But why does it work now?"
   ]
  },
  {
   "cell_type": "markdown",
   "id": "3281cbe1",
   "metadata": {},
   "source": [
    "[your code here]"
   ]
  },
  {
   "cell_type": "markdown",
   "id": "37d71d7a",
   "metadata": {},
   "source": [
    "11. Print a and d. Notice the difference and relation of the two array in terms of the values? Explain."
   ]
  },
  {
   "cell_type": "markdown",
   "id": "1452b66a",
   "metadata": {
    "lines_to_next_cell": 2
   },
   "source": [
    "[your code here]"
   ]
  },
  {
   "cell_type": "markdown",
   "id": "58ff87e5",
   "metadata": {},
   "source": [
    "12. Multiply a and c. Assign the result to e."
   ]
  },
  {
   "cell_type": "markdown",
   "id": "28af63fc",
   "metadata": {
    "lines_to_next_cell": 2
   },
   "source": [
    "[your code here]"
   ]
  },
  {
   "cell_type": "markdown",
   "id": "c4efd692",
   "metadata": {},
   "source": [
    "13. Does e equal to a? Why or why not?"
   ]
  },
  {
   "cell_type": "markdown",
   "id": "9c08bc24",
   "metadata": {},
   "source": [
    "[your code here]"
   ]
  },
  {
   "cell_type": "code",
   "execution_count": null,
   "id": "eaeb77b1",
   "metadata": {},
   "outputs": [],
   "source": []
  },
  {
   "cell_type": "markdown",
   "id": "f1b6f79f",
   "metadata": {},
   "source": [
    "14. Identify the max, min, and mean values in d. Assign those values to variables \"d_max\", \"d_min\", and \"d_mean\""
   ]
  },
  {
   "cell_type": "markdown",
   "id": "dfd8109c",
   "metadata": {
    "lines_to_next_cell": 2
   },
   "source": [
    "[your code here]"
   ]
  },
  {
   "cell_type": "markdown",
   "id": "dd8e8104",
   "metadata": {},
   "source": [
    "15. Now we want to label the values in d. First create an empty array \"f\" with the same shape (i.e. 2x3x5) as d using `np.empty`."
   ]
  },
  {
   "cell_type": "markdown",
   "id": "0d28c58e",
   "metadata": {
    "lines_to_next_cell": 2
   },
   "source": [
    "[your code here]"
   ]
  },
  {
   "cell_type": "code",
   "execution_count": null,
   "id": "ec65dba6",
   "metadata": {},
   "outputs": [],
   "source": [
    "\"\"\"\n",
    "#16. Populate the values in f. For each value in d, if it's larger than d_min but smaller than d_mean, assign 25 to the corresponding value in f.\n",
    "If a value in d is larger than d_mean but smaller than d_max, assign 75 to the corresponding value in f.\n",
    "If a value equals to d_mean, assign 50 to the corresponding value in f.\n",
    "Assign 0 to the corresponding value(s) in f for d_min in d.\n",
    "Assign 100 to the corresponding value(s) in f for d_max in d.\n",
    "In the end, f should have only the following values: 0, 25, 50, 75, and 100.\n",
    "Note: you don't have to use Numpy in this question.\n",
    "\"\"\""
   ]
  },
  {
   "cell_type": "markdown",
   "id": "a1ed8d9b",
   "metadata": {},
   "source": [
    "[your code here]"
   ]
  },
  {
   "cell_type": "code",
   "execution_count": null,
   "id": "6acc1dfc",
   "metadata": {
    "lines_to_next_cell": 2
   },
   "outputs": [],
   "source": []
  },
  {
   "cell_type": "code",
   "execution_count": null,
   "id": "16a9c513",
   "metadata": {},
   "outputs": [],
   "source": [
    "\"\"\"\n",
    "#17. Print d and f. Do you have your expected f?\n",
    "For instance, if your d is:\n",
    "array([[[1.85836099, 1.67064465, 1.62576044, 1.40243961, 1.88454931],\n",
    "        [1.75354326, 1.69403643, 1.36729252, 1.61415071, 1.12104981],\n",
    "        [1.72201435, 1.1862918 , 1.87078449, 1.7726778 , 1.88180042]],\n",
    "\n",
    "       [[1.44747908, 1.31673383, 1.02000951, 1.52218947, 1.97066381],\n",
    "        [1.79129243, 1.74983003, 1.96028037, 1.85166831, 1.65450881],\n",
    "        [1.18068344, 1.9587381 , 1.00656599, 1.93402165, 1.73514584]]])\n",
    "\n",
    "Your f should be:\n",
    "array([[[ 75.,  75.,  75.,  25.,  75.],\n",
    "        [ 75.,  75.,  25.,  25.,  25.],\n",
    "        [ 75.,  25.,  75.,  75.,  75.]],\n",
    "\n",
    "       [[ 25.,  25.,  25.,  25., 100.],\n",
    "        [ 75.,  75.,  75.,  75.,  75.],\n",
    "        [ 25.,  75.,   0.,  75.,  75.]]])\n",
    "\"\"\""
   ]
  },
  {
   "cell_type": "markdown",
   "id": "0b9b1cc5",
   "metadata": {},
   "source": [
    "[your code here]"
   ]
  },
  {
   "cell_type": "code",
   "execution_count": null,
   "id": "fa7fc659",
   "metadata": {},
   "outputs": [],
   "source": []
  },
  {
   "cell_type": "code",
   "execution_count": null,
   "id": "5a5a0bc9",
   "metadata": {},
   "outputs": [],
   "source": [
    "\"\"\"\n",
    "#18. Bonus question: instead of using numbers (i.e. 0, 25, 50, 75, and 100), how to use string values \n",
    "(\"A\", \"B\", \"C\", \"D\", and \"E\") to label the array elements? You are expecting the result to be:\n",
    "array([[[ 'D',  'D',  'D',  'B',  'D'],\n",
    "        [ 'D',  'D',  'B',  'B',  'B'],\n",
    "        [ 'D',  'B',  'D',  'D',  'D']],\n",
    "\n",
    "       [[ 'B',  'B',  'B',  'B',  'E'],\n",
    "        [ 'D',  'D',  'D',  'D',  'D'],\n",
    "        [ 'B',  'D',   'A',  'D', 'D']]])\n",
    "Again, you don't need Numpy in this question.\n",
    "\"\"\""
   ]
  },
  {
   "cell_type": "markdown",
   "id": "35bbdbfe",
   "metadata": {},
   "source": [
    "[your code here]"
   ]
  }
 ],
 "metadata": {
  "jupytext": {
   "cell_metadata_filter": "-all",
   "main_language": "python",
   "notebook_metadata_filter": "-all"
  },
  "kernelspec": {
   "display_name": "Python 3",
   "language": "python",
   "name": "python3"
  },
  "language_info": {
   "codemirror_mode": {
    "name": "ipython",
    "version": 3
   },
   "file_extension": ".py",
   "mimetype": "text/x-python",
   "name": "python",
   "nbconvert_exporter": "python",
   "pygments_lexer": "ipython3",
   "version": "3.13.0"
  }
 },
 "nbformat": 4,
 "nbformat_minor": 5
}
