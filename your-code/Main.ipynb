{
 "cells": [
  {
   "cell_type": "code",
   "execution_count": 1,
   "id": "e5628ce0-918b-45c9-97f6-312c1920c3d2",
   "metadata": {},
   "outputs": [
    {
     "name": "stdout",
     "output_type": "stream",
     "text": [
      "1.26.4\n"
     ]
    }
   ],
   "source": [
    "#1. Import the NUMPY package under the name np.\n",
    "\n",
    "import numpy as np\n",
    "\n",
    "#2. Print the NUMPY version and the configuration.\n",
    "\n",
    "print(np.__version__)\n"
   ]
  },
  {
   "cell_type": "code",
   "execution_count": 10,
   "id": "8e322e55-9f0f-488c-9268-829c2d0e267d",
   "metadata": {},
   "outputs": [],
   "source": [
    "#3. Generate a 2x3x5 3-dimensional array with random values. Assign the array to variable \"a\"\n",
    "# Challenge: there are at least three easy ways that use numpy to generate random arrays. How many ways can you find?\n",
    "\n",
    "import random\n",
    "a = np.random.random_sample((2, 3, 5))\n"
   ]
  },
  {
   "cell_type": "code",
   "execution_count": 11,
   "id": "789b5129-b807-4602-ac5f-e46063500f6f",
   "metadata": {},
   "outputs": [
    {
     "name": "stdout",
     "output_type": "stream",
     "text": [
      "[[[0.91348495 0.5109975  0.8441896  0.929895   0.04111266]\n",
      "  [0.67477574 0.4772293  0.88451976 0.68509855 0.81868317]\n",
      "  [0.26713979 0.21364707 0.49594592 0.94623803 0.86428632]]\n",
      "\n",
      " [[0.13090927 0.7560045  0.02343979 0.78367061 0.15862272]\n",
      "  [0.26376104 0.80576248 0.34197982 0.68351867 0.1103316 ]\n",
      "  [0.53309636 0.60835478 0.75403052 0.27273582 0.3209284 ]]]\n",
      "[[[1. 1. 1.]\n",
      "  [1. 1. 1.]]\n",
      "\n",
      " [[1. 1. 1.]\n",
      "  [1. 1. 1.]]\n",
      "\n",
      " [[1. 1. 1.]\n",
      "  [1. 1. 1.]]\n",
      "\n",
      " [[1. 1. 1.]\n",
      "  [1. 1. 1.]]\n",
      "\n",
      " [[1. 1. 1.]\n",
      "  [1. 1. 1.]]]\n"
     ]
    }
   ],
   "source": [
    "\n",
    "#4. Print a.\n",
    "\n",
    "print(a)\n",
    "\n",
    "#5. Create a 5x2x3 3-dimensional array with all values equaling 1.\n",
    "#Assign the array to variable \"b\"\n",
    "\n",
    "b = np.ones((5, 2, 3))\n",
    "\n",
    "#6. Print b.\n",
    "print(b)"
   ]
  },
  {
   "cell_type": "code",
   "execution_count": 12,
   "id": "ea11bd47-d80a-45af-9b7c-ba4db78d88fc",
   "metadata": {},
   "outputs": [
    {
     "name": "stdout",
     "output_type": "stream",
     "text": [
      "yes\n"
     ]
    }
   ],
   "source": [
    "#7. Do a and b have the same size? How do you prove that in Python code?\n",
    "\n",
    "if a.size == b.size:\n",
    "    print(\"yes\")\n",
    "else:\n",
    "    print(\"no\")\n"
   ]
  },
  {
   "cell_type": "markdown",
   "id": "b7ea0c77-5a29-4cb1-9a15-7a7f121d6801",
   "metadata": {},
   "source": [
    "#8. Are you able to add a and b? Why or why not?\n",
    "\n",
    "No, they are different shapes\n"
   ]
  },
  {
   "cell_type": "code",
   "execution_count": 23,
   "id": "95b96a51-1917-40c1-ae6a-35a9e6c51357",
   "metadata": {},
   "outputs": [],
   "source": [
    "#9. Transpose b so that it has the same structure of a (i.e. become a 2x3x5 array). Assign the transposed array to varialbe \"c\".\n",
    "\n",
    "c = np.transpose(b)\n",
    "\n",
    "\n",
    "#10. Try to add a and c. Now it should work. Assign the sum to varialbe \"d\". But why does it work now?\n",
    "c_transposed = np.transpose(c, (1, 0, 2)) \n",
    "d = a +  c_transposed\n"
   ]
  },
  {
   "cell_type": "code",
   "execution_count": 27,
   "id": "6a2f4f68-6b78-4451-9dc2-a1cd37cc18ea",
   "metadata": {},
   "outputs": [],
   "source": [
    "\n",
    "\n",
    "\n",
    "#12. Multiply a and c. Assign the result to e.\n",
    "\n",
    "e = a * c_transposed\n",
    "c = c_transposed\n",
    "\n",
    "\n"
   ]
  },
  {
   "cell_type": "code",
   "execution_count": 32,
   "id": "8120a860-049a-403c-a7ac-7aad28df25ed",
   "metadata": {},
   "outputs": [
    {
     "name": "stdout",
     "output_type": "stream",
     "text": [
      "Yes\n"
     ]
    }
   ],
   "source": [
    "\n",
    " \n",
    "\n",
    "#13. Does e equal to a? Why or why not?\n",
    "\n",
    "if np.array_equal(e, a):\n",
    "    print(\"Yes\")\n",
    "else:\n",
    "    print(\"No\")\n"
   ]
  },
  {
   "cell_type": "code",
   "execution_count": 35,
   "id": "0c16a41a-5834-4085-9bb5-5095d6a17e3b",
   "metadata": {},
   "outputs": [
    {
     "name": "stdout",
     "output_type": "stream",
     "text": [
      "1.9462380348597732\n",
      "1.0234397938475737\n",
      "1.5371463245378527\n"
     ]
    }
   ],
   "source": [
    "d_max = np.max(d)\n",
    "d_min = np.min(d)\n",
    "d_mean = np.mean(d)\n",
    "print(d_max)\n",
    "print(d_min)\n",
    "print(d_mean)"
   ]
  },
  {
   "cell_type": "code",
   "execution_count": 36,
   "id": "aebdd80f-e8f2-4020-803c-4a6e79d07afa",
   "metadata": {},
   "outputs": [],
   "source": [
    "\n",
    "#15. Now we want to label the values in d. First create an empty array \"f\" with the same shape (i.e. 2x3x5) as d using `np.empty`.\n",
    "\n",
    "f = np.empty_like(d)\n"
   ]
  },
  {
   "cell_type": "raw",
   "id": "74886b37-df8d-4216-b61b-9d4bc32a07f1",
   "metadata": {},
   "source": [
    "#16. Populate the values in f. For each value in d, if it's larger than d_min but smaller than d_mean, assign 25 to the corresponding value in f.\n",
    "If a value in d is larger than d_mean but smaller than d_max, assign 75 to the corresponding value in f.\n",
    "If a value equals to d_mean, assign 50 to the corresponding value in f.\n",
    "Assign 0 to the corresponding value(s) in f for d_min in d.\n",
    "Assign 100 to the corresponding value(s) in f for d_max in d.\n",
    "In the end, f should have only the following values: 0, 25, 50, 75, and 100.\n",
    "Note: you don't have to use Numpy in this question.\n",
    "\n",
    " "
   ]
  },
  {
   "cell_type": "code",
   "execution_count": 38,
   "id": "7f64c2d0-8422-46a9-a4dd-0c6865b4bd12",
   "metadata": {},
   "outputs": [
    {
     "name": "stdout",
     "output_type": "stream",
     "text": [
      "Unique values in f: [  0.  25.  75. 100.]\n"
     ]
    }
   ],
   "source": [
    "for i in range(d.shape[0]):\n",
    "    for j in range(d.shape[1]):\n",
    "        for k in range(d.shape[2]):\n",
    "            if d[i, j, k] > d_min and d[i, j, k] < d_mean:\n",
    "                f[i, j, k] = 25\n",
    "            elif d[i, j, k] > d_mean and d[i, j, k] < d_max:\n",
    "                f[i, j, k] = 75\n",
    "            elif d[i, j, k] == d_mean:\n",
    "                f[i, j, k] = 50\n",
    "            elif d[i, j, k] == d_min:\n",
    "                f[i, j, k] = 0\n",
    "            elif d[i, j, k] == d_max:\n",
    "                f[i, j, k] = 100\n",
    "\n",
    "print(\"Unique values in f:\", np.unique(f))\n"
   ]
  },
  {
   "cell_type": "markdown",
   "id": "ded035b5-84ca-4993-bb52-5d5234a2b67d",
   "metadata": {},
   "source": [
    "#17. Print d and f. Do you have your expected f?\n",
    "For instance, if your d is:\n",
    "array([[[1.85836099, 1.67064465, 1.62576044, 1.40243961, 1.88454931],\n",
    "        [1.75354326, 1.69403643, 1.36729252, 1.61415071, 1.12104981],\n",
    "        [1.72201435, 1.1862918 , 1.87078449, 1.7726778 , 1.88180042]],\n",
    "\n",
    "       [[1.44747908, 1.31673383, 1.02000951, 1.52218947, 1.97066381],\n",
    "        [1.79129243, 1.74983003, 1.96028037, 1.85166831, 1.65450881],\n",
    "        [1.18068344, 1.9587381 , 1.00656599, 1.93402165, 1.73514584]]])\n",
    "\n",
    "Your f should be:\n",
    "array([[[ 75.,  75.,  75.,  25.,  75.],\n",
    "        [ 75.,  75.,  25.,  25.,  25.],\n",
    "        [ 75.,  25.,  75.,  75.,  75.]],\n",
    "\n",
    "       [[ 25.,  25.,  25.,  25., 100.],\n",
    "        [ 75.,  75.,  75.,  75.,  75.],\n",
    "        [ 25.,  75.,   0.,  75.,  75.]]])\n",
    "\"\"\"\n",
    "\n",
    "#[your code here]\n"
   ]
  },
  {
   "cell_type": "code",
   "execution_count": 39,
   "id": "7e2564b6-52aa-44f1-98df-8681959ad615",
   "metadata": {},
   "outputs": [
    {
     "name": "stdout",
     "output_type": "stream",
     "text": [
      "[[[1.91348495 1.5109975  1.8441896  1.929895   1.04111266]\n",
      "  [1.67477574 1.4772293  1.88451976 1.68509855 1.81868317]\n",
      "  [1.26713979 1.21364707 1.49594592 1.94623803 1.86428632]]\n",
      "\n",
      " [[1.13090927 1.7560045  1.02343979 1.78367061 1.15862272]\n",
      "  [1.26376104 1.80576248 1.34197982 1.68351867 1.1103316 ]\n",
      "  [1.53309636 1.60835478 1.75403052 1.27273582 1.3209284 ]]]\n",
      "[[[ 75.  25.  75.  75.  25.]\n",
      "  [ 75.  25.  75.  75.  75.]\n",
      "  [ 25.  25.  25. 100.  75.]]\n",
      "\n",
      " [[ 25.  75.   0.  75.  25.]\n",
      "  [ 25.  75.  25.  75.  25.]\n",
      "  [ 25.  75.  75.  25.  25.]]]\n"
     ]
    }
   ],
   "source": [
    "print(d)\n",
    "print(f)\n"
   ]
  },
  {
   "cell_type": "markdown",
   "id": "6f70f529-3489-4063-9eda-833960b81496",
   "metadata": {},
   "source": [
    "#18. Bonus question: instead of using numbers (i.e. 0, 25, 50, 75, and 100), how to use string values \n",
    "(\"A\", \"B\", \"C\", \"D\", and \"E\") to label the array elements? You are expecting the result to be:\n",
    "array([[[ 'D',  'D',  'D',  'B',  'D'],\n",
    "        [ 'D',  'D',  'B',  'B',  'B'],\n",
    "        [ 'D',  'B',  'D',  'D',  'D']],\n",
    "\n",
    "       [[ 'B',  'B',  'B',  'B',  'E'],\n",
    "        [ 'D',  'D',  'D',  'D',  'D'],\n",
    "        [ 'B',  'D',   'A',  'D', 'D']]])\n",
    "Again, you don't need Numpy in this question.\n",
    "\"\"\""
   ]
  },
  {
   "cell_type": "code",
   "execution_count": 40,
   "id": "51589622-7e02-4c2c-8d32-0732e4b7a7a0",
   "metadata": {},
   "outputs": [],
   "source": [
    "label_map = {0: 'A', 25: 'B', 50: 'C', 75: 'D', 100: 'E'}\n",
    "\n",
    "f = np.empty_like(d, dtype=str)\n",
    "\n",
    "for i in range(d.shape[0]):\n",
    "    for j in range(d.shape[1]):\n",
    "        for k in range(d.shape[2]):\n",
    "            if d[i, j, k] > d_min and d[i, j, k] < d_mean:\n",
    "                f[i, j, k] = label_map[25]\n",
    "            elif d[i, j, k] > d_mean and d[i, j, k] < d_max:\n",
    "                f[i, j, k] = label_map[75]\n",
    "            elif d[i, j, k] == d_mean:\n",
    "                f[i, j, k] = label_map[50]\n",
    "            elif d[i, j, k] == d_min:\n",
    "                f[i, j, k] = label_map[0]\n",
    "            elif d[i, j, k] == d_max:\n",
    "                f[i, j, k] = label_map[100]"
   ]
  },
  {
   "cell_type": "code",
   "execution_count": 41,
   "id": "ebc61458-b534-4168-bfb5-a289133dc77e",
   "metadata": {},
   "outputs": [
    {
     "name": "stdout",
     "output_type": "stream",
     "text": [
      "[[['D' 'B' 'D' 'D' 'B']\n",
      "  ['D' 'B' 'D' 'D' 'D']\n",
      "  ['B' 'B' 'B' 'E' 'D']]\n",
      "\n",
      " [['B' 'D' 'A' 'D' 'B']\n",
      "  ['B' 'D' 'B' 'D' 'B']\n",
      "  ['B' 'D' 'D' 'B' 'B']]]\n"
     ]
    }
   ],
   "source": [
    "print(f)"
   ]
  }
 ],
 "metadata": {
  "kernelspec": {
   "display_name": "Python 3 (ipykernel)",
   "language": "python",
   "name": "python3"
  },
  "language_info": {
   "codemirror_mode": {
    "name": "ipython",
    "version": 3
   },
   "file_extension": ".py",
   "mimetype": "text/x-python",
   "name": "python",
   "nbconvert_exporter": "python",
   "pygments_lexer": "ipython3",
   "version": "3.11.7"
  }
 },
 "nbformat": 4,
 "nbformat_minor": 5
}
